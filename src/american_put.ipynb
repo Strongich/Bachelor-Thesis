{
 "cells": [
  {
   "cell_type": "code",
   "execution_count": 1,
   "metadata": {},
   "outputs": [],
   "source": [
    "import torch\n",
    "import numpy as np\n",
    "import matplotlib.pyplot as plt\n",
    "import torch.nn as nn\n",
    "from torch.utils.data import DataLoader\n",
    "from tqdm import tqdm\n",
    "import pandas as pd\n",
    "from sklearn.model_selection import train_test_split\n",
    "import os\n",
    "from scipy.stats import skew, kurtosis\n",
    "\n",
    "torch.cuda.empty_cache()\n",
    "# imports of custom blocks for model, data generation\n",
    "from Ferret.ImplicitAm import ImplicitAmBre, ImplicitAmBer\n",
    "from models import *\n",
    "from create_plots import *\n",
    "from utils import AmericanPutData, get_prices_put\n",
    "from utils import S, T, K, RISK_FREE, SIGMA, S_MAX"
   ]
  },
  {
   "cell_type": "markdown",
   "metadata": {},
   "source": [
    "## Put Option\n",
    "\n",
    "### Content: \n",
    "1. **Generating Data**\n",
    "2. **Training on Generated Data, Testing Both on Generated and Real Data**\n",
    "3. **Training on Real Data, Testing on Real Data**\n",
    "4. **Mixture of Data (70/30, 50/50), Testing on Real Data**\n"
   ]
  },
  {
   "cell_type": "code",
   "execution_count": 2,
   "metadata": {},
   "outputs": [
    {
     "name": "stdout",
     "output_type": "stream",
     "text": [
      "(10000, 8)\n"
     ]
    }
   ],
   "source": [
    "put_data = AmericanPutData(t_range=T, S_range=S, K=K, r=RISK_FREE, sigma=SIGMA)\n",
    "# N_ivp - IVP points\n",
    "# N_bvp - both BVP1 and BVP2 points\n",
    "# N_col - colocation points\n",
    "X = put_data.initialize_data(N_ivp=1000, N_bvp=3000, N_col=6000, is_call=False)\n",
    "option = ImplicitAmBer(\n",
    "    S[0],\n",
    "    K,\n",
    "    RISK_FREE,\n",
    "    T[1],\n",
    "    SIGMA,\n",
    "    S_MAX,\n",
    "    M=400,  # S\n",
    "    N=365 * 3,  # t\n",
    "    is_call=False,\n",
    ")\n",
    "option.price()\n",
    "option_fde_prices = option.grid\n",
    "data = get_prices_put(X, option_fde_prices, generated=True)\n",
    "df = pd.DataFrame(\n",
    "    data=data,\n",
    "    columns=[\n",
    "        \"TimeToExp\",\n",
    "        \"UnderlyingPrice\",\n",
    "        \"TargetPrice\",\n",
    "        \"OpenInterest\",\n",
    "        \"Delta\",\n",
    "        \"Gamma\",\n",
    "        \"Theta\",\n",
    "        \"Vega\",\n",
    "        \"BSAprox\",\n",
    "    ],\n",
    ")\n",
    "df[[\"TimeToExp\", \"UnderlyingPrice\", \"TargetPrice\", \"BSAprox\"]] = df[\n",
    "    [\"TimeToExp\", \"UnderlyingPrice\", \"TargetPrice\", \"BSAprox\"]\n",
    "].round(2)\n",
    "df[\"OpenInterest\"] = df[\"OpenInterest\"].round(0)\n",
    "df.to_csv(\"../train_data/generated_put.csv\")"
   ]
  },
  {
   "cell_type": "code",
   "execution_count": 2,
   "metadata": {},
   "outputs": [
    {
     "data": {
      "text/html": [
       "<div>\n",
       "<style scoped>\n",
       "    .dataframe tbody tr th:only-of-type {\n",
       "        vertical-align: middle;\n",
       "    }\n",
       "\n",
       "    .dataframe tbody tr th {\n",
       "        vertical-align: top;\n",
       "    }\n",
       "\n",
       "    .dataframe thead th {\n",
       "        text-align: right;\n",
       "    }\n",
       "</style>\n",
       "<table border=\"1\" class=\"dataframe\">\n",
       "  <thead>\n",
       "    <tr style=\"text-align: right;\">\n",
       "      <th></th>\n",
       "      <th>TimeToExp</th>\n",
       "      <th>UnderlyingPrice</th>\n",
       "      <th>TargetPrice</th>\n",
       "      <th>OpenInterest</th>\n",
       "      <th>Delta</th>\n",
       "      <th>Gamma</th>\n",
       "      <th>Theta</th>\n",
       "      <th>Vega</th>\n",
       "      <th>BSAprox</th>\n",
       "    </tr>\n",
       "  </thead>\n",
       "  <tbody>\n",
       "    <tr>\n",
       "      <th>0</th>\n",
       "      <td>827.0</td>\n",
       "      <td>138.66</td>\n",
       "      <td>39.12</td>\n",
       "      <td>133.0</td>\n",
       "      <td>-0.876502</td>\n",
       "      <td>0.052474</td>\n",
       "      <td>-4.578248</td>\n",
       "      <td>15.334991</td>\n",
       "      <td>0.00</td>\n",
       "    </tr>\n",
       "    <tr>\n",
       "      <th>1</th>\n",
       "      <td>1045.0</td>\n",
       "      <td>113.58</td>\n",
       "      <td>45.38</td>\n",
       "      <td>228.0</td>\n",
       "      <td>-0.118852</td>\n",
       "      <td>0.002001</td>\n",
       "      <td>-7.851140</td>\n",
       "      <td>3.742773</td>\n",
       "      <td>6.48</td>\n",
       "    </tr>\n",
       "    <tr>\n",
       "      <th>2</th>\n",
       "      <td>395.0</td>\n",
       "      <td>194.28</td>\n",
       "      <td>27.86</td>\n",
       "      <td>937.0</td>\n",
       "      <td>-0.756109</td>\n",
       "      <td>0.000596</td>\n",
       "      <td>-1.044538</td>\n",
       "      <td>0.431675</td>\n",
       "      <td>0.00</td>\n",
       "    </tr>\n",
       "    <tr>\n",
       "      <th>3</th>\n",
       "      <td>563.0</td>\n",
       "      <td>112.40</td>\n",
       "      <td>45.66</td>\n",
       "      <td>109.0</td>\n",
       "      <td>-0.196355</td>\n",
       "      <td>0.012452</td>\n",
       "      <td>-4.211471</td>\n",
       "      <td>12.599267</td>\n",
       "      <td>7.64</td>\n",
       "    </tr>\n",
       "    <tr>\n",
       "      <th>4</th>\n",
       "      <td>980.0</td>\n",
       "      <td>145.38</td>\n",
       "      <td>37.53</td>\n",
       "      <td>72.0</td>\n",
       "      <td>-0.417402</td>\n",
       "      <td>0.012488</td>\n",
       "      <td>-0.112282</td>\n",
       "      <td>7.536177</td>\n",
       "      <td>0.00</td>\n",
       "    </tr>\n",
       "  </tbody>\n",
       "</table>\n",
       "</div>"
      ],
      "text/plain": [
       "   TimeToExp  UnderlyingPrice  TargetPrice  OpenInterest     Delta     Gamma  \\\n",
       "0      827.0           138.66        39.12         133.0 -0.876502  0.052474   \n",
       "1     1045.0           113.58        45.38         228.0 -0.118852  0.002001   \n",
       "2      395.0           194.28        27.86         937.0 -0.756109  0.000596   \n",
       "3      563.0           112.40        45.66         109.0 -0.196355  0.012452   \n",
       "4      980.0           145.38        37.53          72.0 -0.417402  0.012488   \n",
       "\n",
       "      Theta       Vega  BSAprox  \n",
       "0 -4.578248  15.334991     0.00  \n",
       "1 -7.851140   3.742773     6.48  \n",
       "2 -1.044538   0.431675     0.00  \n",
       "3 -4.211471  12.599267     7.64  \n",
       "4 -0.112282   7.536177     0.00  "
      ]
     },
     "execution_count": 2,
     "metadata": {},
     "output_type": "execute_result"
    }
   ],
   "source": [
    "df = pd.read_csv(\"../train_data/generated_put.csv\", index_col=0)\n",
    "df.head()"
   ]
  },
  {
   "cell_type": "code",
   "execution_count": 9,
   "metadata": {},
   "outputs": [
    {
     "name": "stdout",
     "output_type": "stream",
     "text": [
      "Describe:\n",
      "count    10000.000000\n",
      "mean        38.778089\n",
      "std         32.927976\n",
      "min          0.000000\n",
      "25%          0.000000\n",
      "50%         37.310000\n",
      "75%         55.310000\n",
      "max        120.000000\n",
      "Name: TargetPrice, dtype: float64\n",
      "\n",
      "Skewness: 0.7879415236679352\n",
      "Kurtosis: 0.4289552629526088\n"
     ]
    },
    {
     "data": {
      "image/png": "[encoded data removed]",
      "text/plain": [
       "<Figure size 1200x600 with 1 Axes>"
      ]
     },
     "metadata": {},
     "output_type": "display_data"
    }
   ],
   "source": [
    "analyze_series(df.TargetPrice)"
   ]
  },
  {
   "cell_type": "code",
   "execution_count": 4,
   "metadata": {},
   "outputs": [
    {
     "name": "stdout",
     "output_type": "stream",
     "text": [
      "ITM count:4272\n",
      "OTM count:5728\n"
     ]
    }
   ],
   "source": [
    "# Check for ITM and OTM\n",
    "print(f\"ITM count:{np.sum(df.UnderlyingPrice < K)}\")\n",
    "print(f\"OTM count:{np.sum(df.UnderlyingPrice >= K)}\")"
   ]
  },
  {
   "cell_type": "code",
   "execution_count": 6,
   "metadata": {},
   "outputs": [
    {
     "data": {
      "image/png": "[encoded data removed]",
      "text/plain": [
       "<Figure size 1200x600 with 1 Axes>"
      ]
     },
     "metadata": {},
     "output_type": "display_data"
    }
   ],
   "source": [
    "plt.figure(figsize=(12, 6))\n",
    "plt.scatter(\n",
    "    x=np.arange(1, len(df.TargetPrice) + 1, 1), y=df.TargetPrice, label=\"Target Price\"\n",
    ")\n",
    "plt.scatter(x=np.arange(1, len(df.BSAprox) + 1, 1), y=df.BSAprox, label=\"Black-Scholes approximation using Runge-Kutta\")\n",
    "plt.legend()\n",
    "plt.grid(True)\n",
    "plt.show()"
   ]
  },
  {
   "cell_type": "code",
   "execution_count": 6,
   "metadata": {},
   "outputs": [
    {
     "data": {
      "image/png": "[encoded data removed]",
      "text/plain": [
       "<Figure size 640x480 with 1 Axes>"
      ]
     },
     "metadata": {},
     "output_type": "display_data"
    }
   ],
   "source": [
    "plt.hist(df.TargetPrice, label=\"True\")\n",
    "plt.hist(df.BSAprox, label=\"B-S\")\n",
    "plt.legend()\n",
    "plt.show()"
   ]
  },
  {
   "cell_type": "code",
   "execution_count": 4,
   "metadata": {},
   "outputs": [],
   "source": [
    "# # adding BSAprox column to real data\n",
    "# # Run it once, only if u dont have saved df\n",
    "# df_real = pd.read_csv(\"../train_data/put_df.csv\", index_col=0)\n",
    "# df_real = get_prices_put(df_real.to_numpy(), generated=False)\n",
    "# df_real = pd.DataFrame(\n",
    "#     data=df_real,\n",
    "#     columns=[\n",
    "#         [\n",
    "#             \"UnderlyingPrice\",\n",
    "#             \"Type\",\n",
    "#             \"Strike\",\n",
    "#             \"OpenInterest\",\n",
    "#             \"IV\",\n",
    "#             \"Delta\",\n",
    "#             \"Gamma\",\n",
    "#             \"Theta\",\n",
    "#             \"Vega\",\n",
    "#             \"Time\",\n",
    "#             \"TargetPrice\",\n",
    "#             \"BSAprox\",\n",
    "#         ]\n",
    "#     ],\n",
    "# )\n",
    "# df_real[\"BSAprox\"] = df_real[\"BSAprox\"].round(2)\n",
    "# df_real.to_csv(\"../train_data/put_df_with_approx.csv\")\n",
    "# df_real.head()"
   ]
  },
  {
   "cell_type": "code",
   "execution_count": 7,
   "metadata": {},
   "outputs": [
    {
     "data": {
      "text/html": [
       "<div>\n",
       "<style scoped>\n",
       "    .dataframe tbody tr th:only-of-type {\n",
       "        vertical-align: middle;\n",
       "    }\n",
       "\n",
       "    .dataframe tbody tr th {\n",
       "        vertical-align: top;\n",
       "    }\n",
       "\n",
       "    .dataframe thead th {\n",
       "        text-align: right;\n",
       "    }\n",
       "</style>\n",
       "<table border=\"1\" class=\"dataframe\">\n",
       "  <thead>\n",
       "    <tr style=\"text-align: right;\">\n",
       "      <th></th>\n",
       "      <th>UnderlyingPrice</th>\n",
       "      <th>Type</th>\n",
       "      <th>Strike</th>\n",
       "      <th>OpenInterest</th>\n",
       "      <th>IV</th>\n",
       "      <th>Delta</th>\n",
       "      <th>Gamma</th>\n",
       "      <th>Theta</th>\n",
       "      <th>Vega</th>\n",
       "      <th>Time</th>\n",
       "      <th>TargetPrice</th>\n",
       "      <th>BSAprox</th>\n",
       "    </tr>\n",
       "  </thead>\n",
       "  <tbody>\n",
       "    <tr>\n",
       "      <th>0</th>\n",
       "      <td>71.11</td>\n",
       "      <td>put</td>\n",
       "      <td>55.0</td>\n",
       "      <td>22</td>\n",
       "      <td>0.3314</td>\n",
       "      <td>-0.0004</td>\n",
       "      <td>0.0003</td>\n",
       "      <td>-0.0747</td>\n",
       "      <td>0.0253</td>\n",
       "      <td>21</td>\n",
       "      <td>0.02</td>\n",
       "      <td>0.0</td>\n",
       "    </tr>\n",
       "    <tr>\n",
       "      <th>1</th>\n",
       "      <td>71.11</td>\n",
       "      <td>put</td>\n",
       "      <td>60.0</td>\n",
       "      <td>118</td>\n",
       "      <td>0.3314</td>\n",
       "      <td>-0.0130</td>\n",
       "      <td>0.0060</td>\n",
       "      <td>-1.6451</td>\n",
       "      <td>0.5604</td>\n",
       "      <td>21</td>\n",
       "      <td>0.04</td>\n",
       "      <td>0.0</td>\n",
       "    </tr>\n",
       "    <tr>\n",
       "      <th>2</th>\n",
       "      <td>71.11</td>\n",
       "      <td>put</td>\n",
       "      <td>62.5</td>\n",
       "      <td>2026</td>\n",
       "      <td>0.3314</td>\n",
       "      <td>-0.0441</td>\n",
       "      <td>0.0168</td>\n",
       "      <td>-4.5773</td>\n",
       "      <td>1.5638</td>\n",
       "      <td>21</td>\n",
       "      <td>0.11</td>\n",
       "      <td>0.0</td>\n",
       "    </tr>\n",
       "    <tr>\n",
       "      <th>3</th>\n",
       "      <td>71.11</td>\n",
       "      <td>put</td>\n",
       "      <td>65.0</td>\n",
       "      <td>443</td>\n",
       "      <td>0.2918</td>\n",
       "      <td>-0.0873</td>\n",
       "      <td>0.0324</td>\n",
       "      <td>-6.8317</td>\n",
       "      <td>2.6647</td>\n",
       "      <td>21</td>\n",
       "      <td>0.20</td>\n",
       "      <td>0.0</td>\n",
       "    </tr>\n",
       "    <tr>\n",
       "      <th>4</th>\n",
       "      <td>71.11</td>\n",
       "      <td>put</td>\n",
       "      <td>67.5</td>\n",
       "      <td>165</td>\n",
       "      <td>0.2675</td>\n",
       "      <td>-0.1902</td>\n",
       "      <td>0.0605</td>\n",
       "      <td>-10.6215</td>\n",
       "      <td>4.5580</td>\n",
       "      <td>21</td>\n",
       "      <td>0.48</td>\n",
       "      <td>0.0</td>\n",
       "    </tr>\n",
       "  </tbody>\n",
       "</table>\n",
       "</div>"
      ],
      "text/plain": [
       "   UnderlyingPrice Type  Strike  OpenInterest      IV   Delta   Gamma  \\\n",
       "0            71.11  put    55.0            22  0.3314 -0.0004  0.0003   \n",
       "1            71.11  put    60.0           118  0.3314 -0.0130  0.0060   \n",
       "2            71.11  put    62.5          2026  0.3314 -0.0441  0.0168   \n",
       "3            71.11  put    65.0           443  0.2918 -0.0873  0.0324   \n",
       "4            71.11  put    67.5           165  0.2675 -0.1902  0.0605   \n",
       "\n",
       "     Theta    Vega  Time  TargetPrice  BSAprox  \n",
       "0  -0.0747  0.0253    21         0.02      0.0  \n",
       "1  -1.6451  0.5604    21         0.04      0.0  \n",
       "2  -4.5773  1.5638    21         0.11      0.0  \n",
       "3  -6.8317  2.6647    21         0.20      0.0  \n",
       "4 -10.6215  4.5580    21         0.48      0.0  "
      ]
     },
     "execution_count": 7,
     "metadata": {},
     "output_type": "execute_result"
    }
   ],
   "source": [
    "df_real = pd.read_csv(\"../train_data/put_df_with_approx.csv\", index_col=0)\n",
    "df_real.head()"
   ]
  },
  {
   "cell_type": "code",
   "execution_count": 8,
   "metadata": {},
   "outputs": [
    {
     "name": "stdout",
     "output_type": "stream",
     "text": [
      "Describe:\n",
      "count    223217.000000\n",
      "mean          9.203034\n",
      "std          20.484802\n",
      "min           0.000000\n",
      "25%           0.000000\n",
      "50%           0.000000\n",
      "75%          10.390000\n",
      "max         600.720000\n",
      "Name: BSAprox, dtype: float64\n",
      "\n",
      "Skewness: 6.657008389112579\n",
      "Kurtosis: 90.22743557230235\n"
     ]
    },
    {
     "data": {
      "image/png": "[encoded data removed]",
      "text/plain": [
       "<Figure size 1200x600 with 1 Axes>"
      ]
     },
     "metadata": {},
     "output_type": "display_data"
    }
   ],
   "source": [
    "analyze_series(df_real.BSAprox)"
   ]
  },
  {
   "cell_type": "code",
   "execution_count": 3,
   "metadata": {},
   "outputs": [],
   "source": [
    "\n",
    "# hyperparams for training\n",
    "N_EPOCH = 20\n",
    "RISK_FREE = 0.03\n",
    "SIGMA = 0.4\n",
    "LEARNING_RATE = 0.000563403\n",
    "HIDDEN_LAYER = 26\n",
    "HIDDEN_WIDTH = 84\n",
    "EXPERIMENT_NAME = \"exp_put_10_gen\"\n",
    "MODEL_TYPE = AmericanPut_gated3\n",
    "experiment_dir = f\"../experiments_dir/{EXPERIMENT_NAME}\"\n",
    "os.makedirs(experiment_dir, exist_ok=True)"
   ]
  },
  {
   "cell_type": "code",
   "execution_count": 5,
   "metadata": {},
   "outputs": [],
   "source": [
    "import logging\n",
    "from datetime import datetime\n",
    "\n",
    "logger = logging.getLogger()\n",
    "current_date = datetime.now().strftime(\"%Y-%m-%d\")\n",
    "log_file_name = f\"{experiment_dir}/{EXPERIMENT_NAME}_log_{current_date}.log\"\n",
    "fhandler = logging.FileHandler(filename=log_file_name, mode=\"w\")\n",
    "formatter = logging.Formatter(\"%(asctime)s - %(name)s - %(levelname)s - %(message)s\")\n",
    "fhandler.setFormatter(formatter)\n",
    "logger.addHandler(fhandler)\n",
    "logger.setLevel(logging.INFO)"
   ]
  },
  {
   "cell_type": "code",
   "execution_count": 6,
   "metadata": {},
   "outputs": [
    {
     "name": "stdout",
     "output_type": "stream",
     "text": [
      "cuda\n"
     ]
    }
   ],
   "source": [
    "DEVICE = \"cuda\" if torch.cuda.is_available() else \"cpu\"\n",
    "print(DEVICE)\n",
    "# torch.set_default_device(DEVICE)\n",
    "logging.info(f\"Running on device={DEVICE}\")"
   ]
  },
  {
   "cell_type": "code",
   "execution_count": 20,
   "metadata": {},
   "outputs": [],
   "source": [
    "logging.info(f\"N_EPOCH: {N_EPOCH}\")\n",
    "logging.info(f\"LEARNING_RATE: {LEARNING_RATE}\")\n",
    "logging.info(f\"HIDDEN_LAYER: {HIDDEN_LAYER}\")\n",
    "logging.info(f\"HIDDEN_WIDTH: {HIDDEN_WIDTH}\")\n",
    "# logging.info(f\"N_sample: {N_sample}\")\n",
    "logging.info(f\"EXPERIMENT_NAME: {EXPERIMENT_NAME}\")\n",
    "logging.info(f\"Model type: {MODEL_TYPE.__name__}\")"
   ]
  },
  {
   "cell_type": "code",
   "execution_count": 7,
   "metadata": {},
   "outputs": [
    {
     "name": "stdout",
     "output_type": "stream",
     "text": [
      "(8000, 9)\n",
      "(2000, 9)\n"
     ]
    }
   ],
   "source": [
    "# df = df_real.sample(n=20000, random_state=15)\n",
    "df_train, df_val = train_test_split(df, test_size=0.2)\n",
    "print(df_train.shape)\n",
    "print(df_val.shape)"
   ]
  },
  {
   "cell_type": "code",
   "execution_count": 8,
   "metadata": {},
   "outputs": [
    {
     "name": "stdout",
     "output_type": "stream",
     "text": [
      "Describe:\n",
      "count    16000.000000\n",
      "mean         1.623540\n",
      "std          6.854486\n",
      "min       -600.230000\n",
      "25%          0.120000\n",
      "50%          0.550000\n",
      "75%          1.980000\n",
      "max         52.280000\n",
      "dtype: float64\n",
      "\n",
      "Skewness: -59.412366376729324\n",
      "Kurtosis: 4889.175253597014\n",
      "Describe:\n",
      "count    4000.000000\n",
      "mean        1.725048\n",
      "std         3.616202\n",
      "min        -9.390000\n",
      "25%         0.110000\n",
      "50%         0.520000\n",
      "75%         1.922500\n",
      "max        58.620000\n",
      "dtype: float64\n",
      "\n",
      "Skewness: 6.062906189980081\n",
      "Kurtosis: 57.795717636589806\n"
     ]
    },
    {
     "data": {
      "image/png": "[encoded data removed]",
      "text/plain": [
       "<Figure size 640x480 with 1 Axes>"
      ]
     },
     "metadata": {},
     "output_type": "display_data"
    }
   ],
   "source": [
    "analyze_series(df_train.TargetPrice-df_train.BSAprox)\n",
    "analyze_series(df_val.TargetPrice-df_val.BSAprox)"
   ]
  },
  {
   "cell_type": "code",
   "execution_count": 22,
   "metadata": {},
   "outputs": [],
   "source": [
    "initial_mse_train = (\n",
    "    1 / len(df_train) * np.sum((df_train.TargetPrice - df_train.BSAprox) ** 2)\n",
    ")\n",
    "initial_mse_val = 1 / len(df_val) * np.sum((df_val.TargetPrice - df_val.BSAprox) ** 2)\n",
    "logging.info(\n",
    "    f\"Initial MSE train: {initial_mse_train.round(4)}, Initial MSE val: {initial_mse_val.round(4)}\"\n",
    ")"
   ]
  },
  {
   "cell_type": "code",
   "execution_count": 23,
   "metadata": {},
   "outputs": [],
   "source": [
    "# import torch.multiprocessing as mp\n",
    "train_df = CustomDataset(df_train)\n",
    "val_df = CustomDataset(df_val)\n",
    "from torch.optim.lr_scheduler import ReduceLROnPlateau\n",
    "model = MODEL_TYPE(5, 1, HIDDEN_WIDTH, HIDDEN_LAYER).to(DEVICE)\n",
    "logging.info(\n",
    "    f\"Total number of learnable parameters: {sum(p.numel() for p in model.parameters() if p.requires_grad)}\"\n",
    ")\n",
    "train_dataloader = DataLoader(\n",
    "    train_df,\n",
    "    batch_size=32,\n",
    "    shuffle=True,\n",
    "    num_workers=8,\n",
    "    # generator=torch.Generator(device=DEVICE),\n",
    ")\n",
    "val_dataloader = DataLoader(\n",
    "    val_df,\n",
    "    batch_size=32,\n",
    "    shuffle=False,\n",
    "    num_workers=8,\n",
    ")\n",
    "optimizers_list = {\n",
    "    \"SGD\": torch.optim.SGD(model.parameters(), lr=LEARNING_RATE, momentum=0.7),\n",
    "    \"RMSprop\": torch.optim.RMSprop(model.parameters(), lr=LEARNING_RATE),\n",
    "    \"Adam\": torch.optim.Adam(model.parameters(), lr=LEARNING_RATE),\n",
    "    \"Adamax\": torch.optim.Adamax(\n",
    "        model.parameters(), lr=LEARNING_RATE, betas=(0.9, 0.99)\n",
    "    ),\n",
    "}\n",
    "criteriation = nn.MSELoss()"
   ]
  },
  {
   "cell_type": "code",
   "execution_count": 28,
   "metadata": {},
   "outputs": [],
   "source": [
    "from torch.optim.lr_scheduler import CosineAnnealingLR\n",
    "\n",
    "\n",
    "def train_model(model, train_dataloader, optimizer, scheduler, criteriation, device):\n",
    "    model.train()\n",
    "    train_losses = []\n",
    "    for batch_idx, data in tqdm(\n",
    "        enumerate(train_dataloader), total=len(train_dataloader)\n",
    "    ):\n",
    "        optimizer.zero_grad()\n",
    "        inputs = data[\"input\"].to(device)\n",
    "        outputs = data[\"output\"].to(device).view(-1, 1)\n",
    "        pred = model(inputs).view(-1, 1)\n",
    "        loss = criteriation(outputs, pred)\n",
    "        loss.backward()\n",
    "        optimizer.step()\n",
    "        train_losses.append(loss.item())\n",
    "    scheduler.step()  # Step the scheduler\n",
    "    return np.mean(train_losses)\n",
    "\n",
    "\n",
    "def validate_model(model, val_dataloader, criteriation, device):\n",
    "    model.eval()\n",
    "    val_losses = []\n",
    "    with torch.no_grad():\n",
    "        for batch_idx, data in tqdm(\n",
    "            enumerate(val_dataloader), total=len(val_dataloader)\n",
    "        ):\n",
    "            inputs = data[\"input\"].to(device)\n",
    "            outputs = data[\"output\"].to(device).view(-1, 1)\n",
    "            pred = model(inputs).view(-1, 1)\n",
    "            loss = criteriation(outputs, pred)\n",
    "            val_losses.append(loss.item())\n",
    "    return np.mean(val_losses)\n",
    "\n",
    "\n",
    "def train_cycle(optimizer_name, optimizer, train_loss_dict, val_loss_dict, final=False):\n",
    "    print(f\"Optimizer: {optimizer_name}\")\n",
    "    train_loss_dict[optimizer_name] = []\n",
    "    val_loss_dict[optimizer_name] = []\n",
    "    logging.info(f\"Optimizer: {optimizer_name}\")\n",
    "\n",
    "    # Define the CosineAnnealingLR scheduler\n",
    "    scheduler = CosineAnnealingLR(optimizer, T_max=N_EPOCH, eta_min=0)\n",
    "\n",
    "    for i in range(N_EPOCH):\n",
    "        train_loss = train_model(\n",
    "            model, train_dataloader, optimizer, scheduler, criteriation, DEVICE\n",
    "        )\n",
    "        train_loss_dict[optimizer_name].append(train_loss)\n",
    "        val_loss = validate_model(model, val_dataloader, criteriation, DEVICE)\n",
    "        val_loss_dict[optimizer_name].append(val_loss)\n",
    "        if final:\n",
    "            torch.save(\n",
    "                model.state_dict(), f\"{experiment_dir}/{EXPERIMENT_NAME}_{i}.pth\"\n",
    "            )\n",
    "        print(f\"Epoch {i+1}, train loss: {train_loss:.4f}, val loss: {val_loss:.4f}\")\n",
    "        logging.info(\n",
    "            f\"Epoch {i+1}, train loss: {train_loss:.4f}, val loss: {val_loss:.4f}\"\n",
    "        )"
   ]
  },
  {
   "cell_type": "code",
   "execution_count": 29,
   "metadata": {},
   "outputs": [
    {
     "name": "stdout",
     "output_type": "stream",
     "text": [
      "Optimizer: SGD\n"
     ]
    },
    {
     "name": "stderr",
     "output_type": "stream",
     "text": [
      "100%|██████████| 250/250 [00:01<00:00, 137.38it/s]\n",
      "100%|██████████| 63/63 [00:00<00:00, 332.25it/s]"
     ]
    },
    {
     "name": "stdout",
     "output_type": "stream",
     "text": [
      "Epoch 1, train loss: 314.8535, val loss: 328.7069\n"
     ]
    },
    {
     "name": "stderr",
     "output_type": "stream",
     "text": [
      "\n",
      "100%|██████████| 250/250 [00:01<00:00, 135.77it/s]\n",
      "100%|██████████| 63/63 [00:00<00:00, 195.37it/s]"
     ]
    },
    {
     "name": "stdout",
     "output_type": "stream",
     "text": [
      "Epoch 2, train loss: 330.9773, val loss: 338.3005\n"
     ]
    },
    {
     "name": "stderr",
     "output_type": "stream",
     "text": [
      "\n",
      "100%|██████████| 250/250 [00:01<00:00, 129.43it/s]\n",
      "100%|██████████| 63/63 [00:00<00:00, 277.09it/s]"
     ]
    },
    {
     "name": "stdout",
     "output_type": "stream",
     "text": [
      "Epoch 3, train loss: 333.9703, val loss: 341.7280\n"
     ]
    },
    {
     "name": "stderr",
     "output_type": "stream",
     "text": [
      "\n",
      "100%|██████████| 250/250 [00:01<00:00, 132.07it/s]\n",
      "100%|██████████| 63/63 [00:00<00:00, 285.98it/s]"
     ]
    },
    {
     "name": "stdout",
     "output_type": "stream",
     "text": [
      "Epoch 4, train loss: 339.6174, val loss: 341.1055\n"
     ]
    },
    {
     "name": "stderr",
     "output_type": "stream",
     "text": [
      "\n",
      "100%|██████████| 250/250 [00:01<00:00, 128.55it/s]\n",
      "100%|██████████| 63/63 [00:00<00:00, 291.81it/s]"
     ]
    },
    {
     "name": "stdout",
     "output_type": "stream",
     "text": [
      "Epoch 5, train loss: 336.2130, val loss: 341.3618\n"
     ]
    },
    {
     "name": "stderr",
     "output_type": "stream",
     "text": [
      "\n",
      "100%|██████████| 250/250 [00:01<00:00, 131.75it/s]\n",
      "100%|██████████| 63/63 [00:00<00:00, 291.17it/s]"
     ]
    },
    {
     "name": "stdout",
     "output_type": "stream",
     "text": [
      "Epoch 6, train loss: 338.4899, val loss: 338.2401\n"
     ]
    },
    {
     "name": "stderr",
     "output_type": "stream",
     "text": [
      "\n",
      "100%|██████████| 250/250 [00:01<00:00, 131.28it/s]\n",
      "100%|██████████| 63/63 [00:00<00:00, 298.59it/s]"
     ]
    },
    {
     "name": "stdout",
     "output_type": "stream",
     "text": [
      "Epoch 7, train loss: 332.4748, val loss: 335.9918\n"
     ]
    },
    {
     "name": "stderr",
     "output_type": "stream",
     "text": [
      "\n",
      "100%|██████████| 250/250 [00:01<00:00, 130.30it/s]\n",
      "100%|██████████| 63/63 [00:00<00:00, 293.70it/s]"
     ]
    },
    {
     "name": "stdout",
     "output_type": "stream",
     "text": [
      "Epoch 8, train loss: 333.5048, val loss: 332.5041\n"
     ]
    },
    {
     "name": "stderr",
     "output_type": "stream",
     "text": [
      "\n",
      "100%|██████████| 250/250 [00:01<00:00, 129.02it/s]\n",
      "100%|██████████| 63/63 [00:00<00:00, 290.47it/s]"
     ]
    },
    {
     "name": "stdout",
     "output_type": "stream",
     "text": [
      "Epoch 9, train loss: 335.0490, val loss: 335.6137\n"
     ]
    },
    {
     "name": "stderr",
     "output_type": "stream",
     "text": [
      "\n",
      "100%|██████████| 250/250 [00:01<00:00, 132.16it/s]\n",
      "100%|██████████| 63/63 [00:00<00:00, 298.44it/s]"
     ]
    },
    {
     "name": "stdout",
     "output_type": "stream",
     "text": [
      "Epoch 10, train loss: 337.6443, val loss: 333.0590\n"
     ]
    },
    {
     "name": "stderr",
     "output_type": "stream",
     "text": [
      "\n",
      "100%|██████████| 250/250 [00:01<00:00, 127.58it/s]\n",
      "100%|██████████| 63/63 [00:00<00:00, 314.15it/s]"
     ]
    },
    {
     "name": "stdout",
     "output_type": "stream",
     "text": [
      "Epoch 11, train loss: 337.6916, val loss: 329.0711\n"
     ]
    },
    {
     "name": "stderr",
     "output_type": "stream",
     "text": [
      "\n",
      "100%|██████████| 250/250 [00:01<00:00, 135.09it/s]\n",
      "100%|██████████| 63/63 [00:00<00:00, 294.33it/s]"
     ]
    },
    {
     "name": "stdout",
     "output_type": "stream",
     "text": [
      "Epoch 12, train loss: 335.4176, val loss: 331.5302\n"
     ]
    },
    {
     "name": "stderr",
     "output_type": "stream",
     "text": [
      "\n",
      "100%|██████████| 250/250 [00:01<00:00, 130.05it/s]\n",
      "100%|██████████| 63/63 [00:00<00:00, 286.78it/s]"
     ]
    },
    {
     "name": "stdout",
     "output_type": "stream",
     "text": [
      "Epoch 13, train loss: 334.9241, val loss: 335.7816\n"
     ]
    },
    {
     "name": "stderr",
     "output_type": "stream",
     "text": [
      "\n",
      "100%|██████████| 250/250 [00:02<00:00, 114.33it/s]\n",
      "100%|██████████| 63/63 [00:00<00:00, 228.58it/s]"
     ]
    },
    {
     "name": "stdout",
     "output_type": "stream",
     "text": [
      "Epoch 14, train loss: 334.9169, val loss: 339.2633\n"
     ]
    },
    {
     "name": "stderr",
     "output_type": "stream",
     "text": [
      "\n",
      "100%|██████████| 250/250 [00:02<00:00, 123.18it/s]\n",
      "100%|██████████| 63/63 [00:00<00:00, 293.89it/s]"
     ]
    },
    {
     "name": "stdout",
     "output_type": "stream",
     "text": [
      "Epoch 15, train loss: 334.7792, val loss: 329.9856\n"
     ]
    },
    {
     "name": "stderr",
     "output_type": "stream",
     "text": [
      "\n",
      "100%|██████████| 250/250 [00:02<00:00, 120.48it/s]\n",
      "100%|██████████| 63/63 [00:00<00:00, 256.42it/s]"
     ]
    },
    {
     "name": "stdout",
     "output_type": "stream",
     "text": [
      "Epoch 16, train loss: 331.8317, val loss: 338.1167\n"
     ]
    },
    {
     "name": "stderr",
     "output_type": "stream",
     "text": [
      "\n",
      "100%|██████████| 250/250 [00:02<00:00, 119.28it/s]\n",
      "100%|██████████| 63/63 [00:00<00:00, 275.87it/s]"
     ]
    },
    {
     "name": "stdout",
     "output_type": "stream",
     "text": [
      "Epoch 17, train loss: 334.2771, val loss: 340.8485\n"
     ]
    },
    {
     "name": "stderr",
     "output_type": "stream",
     "text": [
      "\n",
      "100%|██████████| 250/250 [00:02<00:00, 117.31it/s]\n",
      "100%|██████████| 63/63 [00:00<00:00, 259.58it/s]"
     ]
    },
    {
     "name": "stdout",
     "output_type": "stream",
     "text": [
      "Epoch 18, train loss: 333.1749, val loss: 337.9039\n"
     ]
    },
    {
     "name": "stderr",
     "output_type": "stream",
     "text": [
      "\n",
      "100%|██████████| 250/250 [00:01<00:00, 127.04it/s]\n",
      "100%|██████████| 63/63 [00:00<00:00, 273.32it/s]"
     ]
    },
    {
     "name": "stdout",
     "output_type": "stream",
     "text": [
      "Epoch 19, train loss: 330.3219, val loss: 340.7028\n"
     ]
    },
    {
     "name": "stderr",
     "output_type": "stream",
     "text": [
      "\n",
      "100%|██████████| 250/250 [00:01<00:00, 132.98it/s]\n",
      "100%|██████████| 63/63 [00:00<00:00, 294.16it/s]"
     ]
    },
    {
     "name": "stdout",
     "output_type": "stream",
     "text": [
      "Epoch 20, train loss: 328.9866, val loss: 340.1187\n",
      "Optimizer: RMSprop\n"
     ]
    },
    {
     "name": "stderr",
     "output_type": "stream",
     "text": [
      "\n",
      "100%|██████████| 250/250 [00:01<00:00, 128.30it/s]\n",
      "100%|██████████| 63/63 [00:00<00:00, 296.84it/s]"
     ]
    },
    {
     "name": "stdout",
     "output_type": "stream",
     "text": [
      "Epoch 1, train loss: 332.4873, val loss: 337.3228\n"
     ]
    },
    {
     "name": "stderr",
     "output_type": "stream",
     "text": [
      "\n",
      "100%|██████████| 250/250 [00:02<00:00, 124.90it/s]\n",
      "100%|██████████| 63/63 [00:00<00:00, 304.48it/s]"
     ]
    },
    {
     "name": "stdout",
     "output_type": "stream",
     "text": [
      "Epoch 2, train loss: 327.2724, val loss: 336.8241\n"
     ]
    },
    {
     "name": "stderr",
     "output_type": "stream",
     "text": [
      "\n",
      "100%|██████████| 250/250 [00:01<00:00, 126.48it/s]\n",
      "100%|██████████| 63/63 [00:00<00:00, 297.92it/s]"
     ]
    },
    {
     "name": "stdout",
     "output_type": "stream",
     "text": [
      "Epoch 3, train loss: 323.7130, val loss: 334.0879\n"
     ]
    },
    {
     "name": "stderr",
     "output_type": "stream",
     "text": [
      "\n",
      "100%|██████████| 250/250 [00:01<00:00, 127.74it/s]\n",
      "100%|██████████| 63/63 [00:00<00:00, 271.26it/s]"
     ]
    },
    {
     "name": "stdout",
     "output_type": "stream",
     "text": [
      "Epoch 4, train loss: 320.2161, val loss: 334.6773\n"
     ]
    },
    {
     "name": "stderr",
     "output_type": "stream",
     "text": [
      "\n",
      "100%|██████████| 250/250 [00:01<00:00, 130.46it/s]\n",
      "100%|██████████| 63/63 [00:00<00:00, 295.00it/s]"
     ]
    },
    {
     "name": "stdout",
     "output_type": "stream",
     "text": [
      "Epoch 5, train loss: 316.9580, val loss: 330.6693\n"
     ]
    },
    {
     "name": "stderr",
     "output_type": "stream",
     "text": [
      "\n",
      "100%|██████████| 250/250 [00:01<00:00, 126.23it/s]\n",
      "100%|██████████| 63/63 [00:00<00:00, 297.86it/s]"
     ]
    },
    {
     "name": "stdout",
     "output_type": "stream",
     "text": [
      "Epoch 6, train loss: 315.5954, val loss: 330.8189\n"
     ]
    },
    {
     "name": "stderr",
     "output_type": "stream",
     "text": [
      "\n",
      "100%|██████████| 250/250 [00:01<00:00, 126.59it/s]\n",
      "100%|██████████| 63/63 [00:00<00:00, 309.54it/s]"
     ]
    },
    {
     "name": "stdout",
     "output_type": "stream",
     "text": [
      "Epoch 7, train loss: 314.1399, val loss: 330.4351\n"
     ]
    },
    {
     "name": "stderr",
     "output_type": "stream",
     "text": [
      "\n",
      "100%|██████████| 250/250 [00:01<00:00, 129.60it/s]\n",
      "100%|██████████| 63/63 [00:00<00:00, 300.50it/s]"
     ]
    },
    {
     "name": "stdout",
     "output_type": "stream",
     "text": [
      "Epoch 8, train loss: 311.0752, val loss: 329.8064\n"
     ]
    },
    {
     "name": "stderr",
     "output_type": "stream",
     "text": [
      "\n",
      "100%|██████████| 250/250 [00:01<00:00, 127.30it/s]\n",
      "100%|██████████| 63/63 [00:00<00:00, 298.26it/s]"
     ]
    },
    {
     "name": "stdout",
     "output_type": "stream",
     "text": [
      "Epoch 9, train loss: 307.0093, val loss: 329.6853\n"
     ]
    },
    {
     "name": "stderr",
     "output_type": "stream",
     "text": [
      "\n",
      "100%|██████████| 250/250 [00:02<00:00, 124.31it/s]\n",
      "100%|██████████| 63/63 [00:00<00:00, 300.75it/s]"
     ]
    },
    {
     "name": "stdout",
     "output_type": "stream",
     "text": [
      "Epoch 10, train loss: 304.0529, val loss: 328.2680\n"
     ]
    },
    {
     "name": "stderr",
     "output_type": "stream",
     "text": [
      "\n",
      "100%|██████████| 250/250 [00:01<00:00, 126.57it/s]\n",
      "100%|██████████| 63/63 [00:00<00:00, 287.38it/s]"
     ]
    },
    {
     "name": "stdout",
     "output_type": "stream",
     "text": [
      "Epoch 11, train loss: 301.9211, val loss: 330.5697\n"
     ]
    },
    {
     "name": "stderr",
     "output_type": "stream",
     "text": [
      "\n",
      "100%|██████████| 250/250 [00:02<00:00, 123.72it/s]\n",
      "100%|██████████| 63/63 [00:00<00:00, 305.69it/s]"
     ]
    },
    {
     "name": "stdout",
     "output_type": "stream",
     "text": [
      "Epoch 12, train loss: 299.7335, val loss: 331.4938\n"
     ]
    },
    {
     "name": "stderr",
     "output_type": "stream",
     "text": [
      "\n",
      "100%|██████████| 250/250 [00:01<00:00, 128.19it/s]\n",
      "100%|██████████| 63/63 [00:00<00:00, 293.71it/s]"
     ]
    },
    {
     "name": "stdout",
     "output_type": "stream",
     "text": [
      "Epoch 13, train loss: 296.8740, val loss: 326.8566\n"
     ]
    },
    {
     "name": "stderr",
     "output_type": "stream",
     "text": [
      "\n",
      "100%|██████████| 250/250 [00:02<00:00, 124.42it/s]\n",
      "100%|██████████| 63/63 [00:00<00:00, 291.46it/s]"
     ]
    },
    {
     "name": "stdout",
     "output_type": "stream",
     "text": [
      "Epoch 14, train loss: 295.3045, val loss: 326.9454\n"
     ]
    },
    {
     "name": "stderr",
     "output_type": "stream",
     "text": [
      "\n",
      "100%|██████████| 250/250 [00:01<00:00, 128.84it/s]\n",
      "100%|██████████| 63/63 [00:00<00:00, 310.38it/s]"
     ]
    },
    {
     "name": "stdout",
     "output_type": "stream",
     "text": [
      "Epoch 15, train loss: 292.6271, val loss: 325.3416\n"
     ]
    },
    {
     "name": "stderr",
     "output_type": "stream",
     "text": [
      "\n",
      "100%|██████████| 250/250 [00:02<00:00, 124.96it/s]\n",
      "100%|██████████| 63/63 [00:00<00:00, 306.03it/s]"
     ]
    },
    {
     "name": "stdout",
     "output_type": "stream",
     "text": [
      "Epoch 16, train loss: 290.3988, val loss: 326.9995\n"
     ]
    },
    {
     "name": "stderr",
     "output_type": "stream",
     "text": [
      "\n",
      "100%|██████████| 250/250 [00:01<00:00, 128.92it/s]\n",
      "100%|██████████| 63/63 [00:00<00:00, 299.71it/s]"
     ]
    },
    {
     "name": "stdout",
     "output_type": "stream",
     "text": [
      "Epoch 17, train loss: 288.0839, val loss: 328.3495\n"
     ]
    },
    {
     "name": "stderr",
     "output_type": "stream",
     "text": [
      "\n",
      "100%|██████████| 250/250 [00:02<00:00, 124.02it/s]\n",
      "100%|██████████| 63/63 [00:00<00:00, 259.63it/s]"
     ]
    },
    {
     "name": "stdout",
     "output_type": "stream",
     "text": [
      "Epoch 18, train loss: 285.9204, val loss: 326.6470\n"
     ]
    },
    {
     "name": "stderr",
     "output_type": "stream",
     "text": [
      "\n",
      "100%|██████████| 250/250 [00:02<00:00, 104.37it/s]\n",
      "100%|██████████| 63/63 [00:00<00:00, 246.54it/s]"
     ]
    },
    {
     "name": "stdout",
     "output_type": "stream",
     "text": [
      "Epoch 19, train loss: 283.9292, val loss: 327.1714\n"
     ]
    },
    {
     "name": "stderr",
     "output_type": "stream",
     "text": [
      "\n",
      "100%|██████████| 250/250 [00:02<00:00, 112.49it/s]\n",
      "100%|██████████| 63/63 [00:00<00:00, 272.55it/s]"
     ]
    },
    {
     "name": "stdout",
     "output_type": "stream",
     "text": [
      "Epoch 20, train loss: 283.2352, val loss: 326.5110\n",
      "Optimizer: Adam\n"
     ]
    },
    {
     "name": "stderr",
     "output_type": "stream",
     "text": [
      "\n",
      "100%|██████████| 250/250 [00:02<00:00, 104.13it/s]\n",
      "100%|██████████| 63/63 [00:00<00:00, 255.93it/s]"
     ]
    },
    {
     "name": "stdout",
     "output_type": "stream",
     "text": [
      "Epoch 1, train loss: 295.5237, val loss: 330.0242\n"
     ]
    },
    {
     "name": "stderr",
     "output_type": "stream",
     "text": [
      "\n",
      "100%|██████████| 250/250 [00:02<00:00, 104.66it/s]\n",
      "100%|██████████| 63/63 [00:00<00:00, 296.54it/s]"
     ]
    },
    {
     "name": "stdout",
     "output_type": "stream",
     "text": [
      "Epoch 2, train loss: 302.4229, val loss: 330.6104\n"
     ]
    },
    {
     "name": "stderr",
     "output_type": "stream",
     "text": [
      "\n",
      "100%|██████████| 250/250 [00:02<00:00, 110.29it/s]\n",
      "100%|██████████| 63/63 [00:00<00:00, 281.58it/s]"
     ]
    },
    {
     "name": "stdout",
     "output_type": "stream",
     "text": [
      "Epoch 3, train loss: 303.0155, val loss: 327.3952\n"
     ]
    },
    {
     "name": "stderr",
     "output_type": "stream",
     "text": [
      "\n",
      "100%|██████████| 250/250 [00:02<00:00, 112.79it/s]\n",
      "100%|██████████| 63/63 [00:00<00:00, 300.81it/s]"
     ]
    },
    {
     "name": "stdout",
     "output_type": "stream",
     "text": [
      "Epoch 4, train loss: 300.9198, val loss: 328.0634\n"
     ]
    },
    {
     "name": "stderr",
     "output_type": "stream",
     "text": [
      "\n",
      "100%|██████████| 250/250 [00:02<00:00, 105.90it/s]\n",
      "100%|██████████| 63/63 [00:00<00:00, 239.57it/s]"
     ]
    },
    {
     "name": "stdout",
     "output_type": "stream",
     "text": [
      "Epoch 5, train loss: 301.8804, val loss: 331.8340\n"
     ]
    },
    {
     "name": "stderr",
     "output_type": "stream",
     "text": [
      "\n",
      "100%|██████████| 250/250 [00:02<00:00, 97.46it/s] \n",
      "100%|██████████| 63/63 [00:00<00:00, 272.57it/s]"
     ]
    },
    {
     "name": "stdout",
     "output_type": "stream",
     "text": [
      "Epoch 6, train loss: 300.9548, val loss: 328.0657\n"
     ]
    },
    {
     "name": "stderr",
     "output_type": "stream",
     "text": [
      "\n",
      "100%|██████████| 250/250 [00:02<00:00, 103.29it/s]\n",
      "100%|██████████| 63/63 [00:00<00:00, 236.79it/s]"
     ]
    },
    {
     "name": "stdout",
     "output_type": "stream",
     "text": [
      "Epoch 7, train loss: 300.2825, val loss: 328.6774\n"
     ]
    },
    {
     "name": "stderr",
     "output_type": "stream",
     "text": [
      "\n",
      "100%|██████████| 250/250 [00:02<00:00, 96.49it/s] \n",
      "100%|██████████| 63/63 [00:00<00:00, 269.91it/s]"
     ]
    },
    {
     "name": "stdout",
     "output_type": "stream",
     "text": [
      "Epoch 8, train loss: 297.9354, val loss: 329.0555\n"
     ]
    },
    {
     "name": "stderr",
     "output_type": "stream",
     "text": [
      "\n",
      "100%|██████████| 250/250 [00:02<00:00, 98.52it/s] \n",
      "100%|██████████| 63/63 [00:00<00:00, 301.96it/s]"
     ]
    },
    {
     "name": "stdout",
     "output_type": "stream",
     "text": [
      "Epoch 9, train loss: 296.3738, val loss: 328.1228\n"
     ]
    },
    {
     "name": "stderr",
     "output_type": "stream",
     "text": [
      "\n",
      "100%|██████████| 250/250 [00:02<00:00, 103.87it/s]\n",
      "100%|██████████| 63/63 [00:00<00:00, 288.23it/s]"
     ]
    },
    {
     "name": "stdout",
     "output_type": "stream",
     "text": [
      "Epoch 10, train loss: 294.9309, val loss: 327.5884\n"
     ]
    },
    {
     "name": "stderr",
     "output_type": "stream",
     "text": [
      "\n",
      "100%|██████████| 250/250 [00:02<00:00, 118.38it/s]\n",
      "100%|██████████| 63/63 [00:00<00:00, 311.08it/s]"
     ]
    },
    {
     "name": "stdout",
     "output_type": "stream",
     "text": [
      "Epoch 11, train loss: 292.8128, val loss: 327.5550\n"
     ]
    },
    {
     "name": "stderr",
     "output_type": "stream",
     "text": [
      "\n",
      "100%|██████████| 250/250 [00:02<00:00, 116.97it/s]\n",
      "100%|██████████| 63/63 [00:00<00:00, 292.40it/s]"
     ]
    },
    {
     "name": "stdout",
     "output_type": "stream",
     "text": [
      "Epoch 12, train loss: 290.2075, val loss: 327.1901\n"
     ]
    },
    {
     "name": "stderr",
     "output_type": "stream",
     "text": [
      "\n",
      "100%|██████████| 250/250 [00:02<00:00, 116.77it/s]\n",
      "100%|██████████| 63/63 [00:00<00:00, 275.74it/s]"
     ]
    },
    {
     "name": "stdout",
     "output_type": "stream",
     "text": [
      "Epoch 13, train loss: 287.4568, val loss: 330.0776\n"
     ]
    },
    {
     "name": "stderr",
     "output_type": "stream",
     "text": [
      "\n",
      "100%|██████████| 250/250 [00:02<00:00, 120.17it/s]\n",
      "100%|██████████| 63/63 [00:00<00:00, 300.83it/s]"
     ]
    },
    {
     "name": "stdout",
     "output_type": "stream",
     "text": [
      "Epoch 14, train loss: 286.0533, val loss: 327.0832\n"
     ]
    },
    {
     "name": "stderr",
     "output_type": "stream",
     "text": [
      "\n",
      "100%|██████████| 250/250 [00:02<00:00, 119.26it/s]\n",
      "100%|██████████| 63/63 [00:00<00:00, 289.87it/s]"
     ]
    },
    {
     "name": "stdout",
     "output_type": "stream",
     "text": [
      "Epoch 15, train loss: 283.8678, val loss: 328.0234\n"
     ]
    },
    {
     "name": "stderr",
     "output_type": "stream",
     "text": [
      "\n",
      "100%|██████████| 250/250 [00:02<00:00, 118.96it/s]\n",
      "100%|██████████| 63/63 [00:00<00:00, 301.38it/s]"
     ]
    },
    {
     "name": "stdout",
     "output_type": "stream",
     "text": [
      "Epoch 16, train loss: 281.6557, val loss: 329.3657\n"
     ]
    },
    {
     "name": "stderr",
     "output_type": "stream",
     "text": [
      "\n",
      "100%|██████████| 250/250 [00:02<00:00, 121.07it/s]\n",
      "100%|██████████| 63/63 [00:00<00:00, 292.50it/s]"
     ]
    },
    {
     "name": "stdout",
     "output_type": "stream",
     "text": [
      "Epoch 17, train loss: 280.1070, val loss: 329.2153\n"
     ]
    },
    {
     "name": "stderr",
     "output_type": "stream",
     "text": [
      "\n",
      "100%|██████████| 250/250 [00:02<00:00, 119.09it/s]\n",
      "100%|██████████| 63/63 [00:00<00:00, 300.80it/s]"
     ]
    },
    {
     "name": "stdout",
     "output_type": "stream",
     "text": [
      "Epoch 18, train loss: 278.9489, val loss: 329.3311\n"
     ]
    },
    {
     "name": "stderr",
     "output_type": "stream",
     "text": [
      "\n",
      "100%|██████████| 250/250 [00:02<00:00, 117.12it/s]\n",
      "100%|██████████| 63/63 [00:00<00:00, 292.39it/s]"
     ]
    },
    {
     "name": "stdout",
     "output_type": "stream",
     "text": [
      "Epoch 19, train loss: 277.7179, val loss: 329.3069\n"
     ]
    },
    {
     "name": "stderr",
     "output_type": "stream",
     "text": [
      "\n",
      "100%|██████████| 250/250 [00:02<00:00, 120.94it/s]\n",
      "100%|██████████| 63/63 [00:00<00:00, 263.31it/s]"
     ]
    },
    {
     "name": "stdout",
     "output_type": "stream",
     "text": [
      "Epoch 20, train loss: 277.0980, val loss: 329.2078\n",
      "Optimizer: Adamax\n"
     ]
    },
    {
     "name": "stderr",
     "output_type": "stream",
     "text": [
      "\n",
      "100%|██████████| 250/250 [00:03<00:00, 81.71it/s]\n",
      "100%|██████████| 63/63 [00:00<00:00, 292.75it/s]"
     ]
    },
    {
     "name": "stdout",
     "output_type": "stream",
     "text": [
      "Epoch 1, train loss: 279.9969, val loss: 328.5661\n"
     ]
    },
    {
     "name": "stderr",
     "output_type": "stream",
     "text": [
      "\n",
      "100%|██████████| 250/250 [00:03<00:00, 80.78it/s]\n",
      "100%|██████████| 63/63 [00:00<00:00, 286.27it/s]"
     ]
    },
    {
     "name": "stdout",
     "output_type": "stream",
     "text": [
      "Epoch 2, train loss: 278.9691, val loss: 329.2951\n"
     ]
    },
    {
     "name": "stderr",
     "output_type": "stream",
     "text": [
      "\n",
      "100%|██████████| 250/250 [00:03<00:00, 81.27it/s]\n",
      "100%|██████████| 63/63 [00:00<00:00, 288.03it/s]"
     ]
    },
    {
     "name": "stdout",
     "output_type": "stream",
     "text": [
      "Epoch 3, train loss: 277.5203, val loss: 329.2003\n"
     ]
    },
    {
     "name": "stderr",
     "output_type": "stream",
     "text": [
      "\n",
      "100%|██████████| 250/250 [00:03<00:00, 79.54it/s]\n",
      "100%|██████████| 63/63 [00:00<00:00, 300.14it/s]"
     ]
    },
    {
     "name": "stdout",
     "output_type": "stream",
     "text": [
      "Epoch 4, train loss: 275.5428, val loss: 329.4946\n"
     ]
    },
    {
     "name": "stderr",
     "output_type": "stream",
     "text": [
      "\n",
      "100%|██████████| 250/250 [00:03<00:00, 81.66it/s]\n",
      "100%|██████████| 63/63 [00:00<00:00, 294.60it/s]"
     ]
    },
    {
     "name": "stdout",
     "output_type": "stream",
     "text": [
      "Epoch 5, train loss: 274.5540, val loss: 329.6378\n"
     ]
    },
    {
     "name": "stderr",
     "output_type": "stream",
     "text": [
      "\n",
      "100%|██████████| 250/250 [00:03<00:00, 81.12it/s]\n",
      "100%|██████████| 63/63 [00:00<00:00, 288.93it/s]"
     ]
    },
    {
     "name": "stdout",
     "output_type": "stream",
     "text": [
      "Epoch 6, train loss: 272.9183, val loss: 330.0295\n"
     ]
    },
    {
     "name": "stderr",
     "output_type": "stream",
     "text": [
      "\n",
      "100%|██████████| 250/250 [00:03<00:00, 80.63it/s]\n",
      "100%|██████████| 63/63 [00:00<00:00, 302.72it/s]"
     ]
    },
    {
     "name": "stdout",
     "output_type": "stream",
     "text": [
      "Epoch 7, train loss: 271.5502, val loss: 331.3682\n"
     ]
    },
    {
     "name": "stderr",
     "output_type": "stream",
     "text": [
      "\n",
      "100%|██████████| 250/250 [00:03<00:00, 80.01it/s]\n",
      "100%|██████████| 63/63 [00:00<00:00, 306.77it/s]"
     ]
    },
    {
     "name": "stdout",
     "output_type": "stream",
     "text": [
      "Epoch 8, train loss: 269.6922, val loss: 328.3273\n"
     ]
    },
    {
     "name": "stderr",
     "output_type": "stream",
     "text": [
      "\n",
      "100%|██████████| 250/250 [00:03<00:00, 81.57it/s]\n",
      "100%|██████████| 63/63 [00:00<00:00, 291.77it/s]"
     ]
    },
    {
     "name": "stdout",
     "output_type": "stream",
     "text": [
      "Epoch 9, train loss: 268.1737, val loss: 328.5008\n"
     ]
    },
    {
     "name": "stderr",
     "output_type": "stream",
     "text": [
      "\n",
      "100%|██████████| 250/250 [00:03<00:00, 81.07it/s]\n",
      "100%|██████████| 63/63 [00:00<00:00, 289.27it/s]"
     ]
    },
    {
     "name": "stdout",
     "output_type": "stream",
     "text": [
      "Epoch 10, train loss: 267.0907, val loss: 331.7504\n"
     ]
    },
    {
     "name": "stderr",
     "output_type": "stream",
     "text": [
      "\n",
      "100%|██████████| 250/250 [00:03<00:00, 78.46it/s]\n",
      "100%|██████████| 63/63 [00:00<00:00, 295.13it/s]"
     ]
    },
    {
     "name": "stdout",
     "output_type": "stream",
     "text": [
      "Epoch 11, train loss: 266.5205, val loss: 330.4008\n"
     ]
    },
    {
     "name": "stderr",
     "output_type": "stream",
     "text": [
      "\n",
      "100%|██████████| 250/250 [00:03<00:00, 81.65it/s]\n",
      "100%|██████████| 63/63 [00:00<00:00, 303.72it/s]"
     ]
    },
    {
     "name": "stdout",
     "output_type": "stream",
     "text": [
      "Epoch 12, train loss: 264.6225, val loss: 330.4865\n"
     ]
    },
    {
     "name": "stderr",
     "output_type": "stream",
     "text": [
      "\n",
      "100%|██████████| 250/250 [00:03<00:00, 80.46it/s]\n",
      "100%|██████████| 63/63 [00:00<00:00, 284.71it/s]"
     ]
    },
    {
     "name": "stdout",
     "output_type": "stream",
     "text": [
      "Epoch 13, train loss: 263.7040, val loss: 330.9823\n"
     ]
    },
    {
     "name": "stderr",
     "output_type": "stream",
     "text": [
      "\n",
      "100%|██████████| 250/250 [00:03<00:00, 76.92it/s]\n",
      "100%|██████████| 63/63 [00:00<00:00, 305.48it/s]"
     ]
    },
    {
     "name": "stdout",
     "output_type": "stream",
     "text": [
      "Epoch 14, train loss: 262.4122, val loss: 330.8162\n"
     ]
    },
    {
     "name": "stderr",
     "output_type": "stream",
     "text": [
      "\n",
      "100%|██████████| 250/250 [00:03<00:00, 79.69it/s]\n",
      "100%|██████████| 63/63 [00:00<00:00, 292.71it/s]"
     ]
    },
    {
     "name": "stdout",
     "output_type": "stream",
     "text": [
      "Epoch 15, train loss: 261.5891, val loss: 330.6774\n"
     ]
    },
    {
     "name": "stderr",
     "output_type": "stream",
     "text": [
      "\n",
      "100%|██████████| 250/250 [00:03<00:00, 80.12it/s]\n",
      "100%|██████████| 63/63 [00:00<00:00, 285.86it/s]"
     ]
    },
    {
     "name": "stdout",
     "output_type": "stream",
     "text": [
      "Epoch 16, train loss: 261.1606, val loss: 330.4286\n"
     ]
    },
    {
     "name": "stderr",
     "output_type": "stream",
     "text": [
      "\n",
      "100%|██████████| 250/250 [00:03<00:00, 77.40it/s]\n",
      "100%|██████████| 63/63 [00:00<00:00, 299.24it/s]"
     ]
    },
    {
     "name": "stdout",
     "output_type": "stream",
     "text": [
      "Epoch 17, train loss: 260.1071, val loss: 330.0126\n"
     ]
    },
    {
     "name": "stderr",
     "output_type": "stream",
     "text": [
      "\n",
      "100%|██████████| 250/250 [00:03<00:00, 78.10it/s]\n",
      "100%|██████████| 63/63 [00:00<00:00, 281.84it/s]"
     ]
    },
    {
     "name": "stdout",
     "output_type": "stream",
     "text": [
      "Epoch 18, train loss: 259.3287, val loss: 330.3075\n"
     ]
    },
    {
     "name": "stderr",
     "output_type": "stream",
     "text": [
      "\n",
      "100%|██████████| 250/250 [00:03<00:00, 79.64it/s]\n",
      "100%|██████████| 63/63 [00:00<00:00, 292.96it/s]"
     ]
    },
    {
     "name": "stdout",
     "output_type": "stream",
     "text": [
      "Epoch 19, train loss: 258.7729, val loss: 330.7462\n"
     ]
    },
    {
     "name": "stderr",
     "output_type": "stream",
     "text": [
      "\n",
      "100%|██████████| 250/250 [00:03<00:00, 77.49it/s]\n",
      "100%|██████████| 63/63 [00:00<00:00, 288.72it/s]"
     ]
    },
    {
     "name": "stdout",
     "output_type": "stream",
     "text": [
      "Epoch 20, train loss: 258.5283, val loss: 330.5176\n"
     ]
    },
    {
     "name": "stderr",
     "output_type": "stream",
     "text": [
      "\n"
     ]
    }
   ],
   "source": [
    "train_loss_dict = {}\n",
    "val_loss_dict = {}\n",
    "for name, optimizer in optimizers_list.items():\n",
    "    train_cycle(name, optimizer, train_loss_dict, val_loss_dict)"
   ]
  },
  {
   "cell_type": "code",
   "execution_count": 16,
   "metadata": {},
   "outputs": [
    {
     "name": "stderr",
     "output_type": "stream",
     "text": [
      "[I 2024-06-01 18:28:44,063] A new study created in memory with name: no-name-5ea9fe14-92ce-4da3-8a81-112fab849810\n",
      "/tmp/ipykernel_3907/609066327.py:53: FutureWarning: suggest_loguniform has been deprecated in v3.0.0. This feature will be removed in v6.0.0. See https://github.com/optuna/optuna/releases/tag/v3.0.0. Use suggest_float(..., log=True) instead.\n",
      "  learning_rate = trial.suggest_loguniform(\"learning_rate\", 2e-8, 1e-1)\n",
      "100%|██████████| 125/125 [00:00<00:00, 172.15it/s]\n",
      "100%|██████████| 32/32 [00:00<00:00, 320.10it/s]\n",
      "100%|██████████| 125/125 [00:00<00:00, 173.49it/s]\n",
      "100%|██████████| 32/32 [00:00<00:00, 322.91it/s]\n",
      "100%|██████████| 125/125 [00:00<00:00, 178.90it/s]\n",
      "100%|██████████| 32/32 [00:00<00:00, 350.13it/s]\n",
      "100%|██████████| 125/125 [00:00<00:00, 169.20it/s]\n",
      "100%|██████████| 32/32 [00:00<00:00, 325.08it/s]\n",
      "100%|██████████| 125/125 [00:00<00:00, 162.06it/s]\n",
      "100%|██████████| 32/32 [00:00<00:00, 241.12it/s]\n",
      "100%|██████████| 125/125 [00:00<00:00, 166.22it/s]\n",
      "100%|██████████| 32/32 [00:00<00:00, 313.32it/s]\n",
      "100%|██████████| 125/125 [00:00<00:00, 155.64it/s]\n",
      "100%|██████████| 32/32 [00:00<00:00, 232.64it/s]\n",
      "100%|██████████| 125/125 [00:00<00:00, 138.99it/s]\n",
      "100%|██████████| 32/32 [00:00<00:00, 260.41it/s]\n",
      "100%|██████████| 125/125 [00:00<00:00, 130.62it/s]\n",
      "100%|██████████| 32/32 [00:00<00:00, 253.16it/s]\n",
      "100%|██████████| 125/125 [00:00<00:00, 152.90it/s]\n",
      "100%|██████████| 32/32 [00:00<00:00, 311.35it/s]\n",
      "[I 2024-06-01 18:28:56,697] Trial 0 finished with value: 283.4418511390686 and parameters: {'hidden_width': 92, 'hidden_layers': 12, 'learning_rate': 0.00014362040398166524, 'optimizer': 'Adam', 'batch_size': 64}. Best is trial 0 with value: 283.4418511390686.\n",
      "100%|██████████| 125/125 [00:00<00:00, 151.10it/s]\n",
      "100%|██████████| 32/32 [00:00<00:00, 293.27it/s]\n",
      "100%|██████████| 125/125 [00:00<00:00, 148.84it/s]\n",
      "100%|██████████| 32/32 [00:00<00:00, 292.30it/s]\n",
      "100%|██████████| 125/125 [00:00<00:00, 149.83it/s]\n",
      "100%|██████████| 32/32 [00:00<00:00, 300.80it/s]\n",
      "100%|██████████| 125/125 [00:00<00:00, 149.08it/s]\n",
      "100%|██████████| 32/32 [00:00<00:00, 321.91it/s]\n",
      "100%|██████████| 125/125 [00:00<00:00, 151.78it/s]\n",
      "100%|██████████| 32/32 [00:00<00:00, 299.32it/s]\n",
      "100%|██████████| 125/125 [00:00<00:00, 146.99it/s]\n",
      "100%|██████████| 32/32 [00:00<00:00, 254.73it/s]\n",
      "100%|██████████| 125/125 [00:00<00:00, 148.38it/s]\n",
      "100%|██████████| 32/32 [00:00<00:00, 284.72it/s]\n",
      "100%|██████████| 125/125 [00:00<00:00, 151.53it/s]\n",
      "100%|██████████| 32/32 [00:00<00:00, 298.01it/s]\n",
      "100%|██████████| 125/125 [00:00<00:00, 149.15it/s]\n",
      "100%|██████████| 32/32 [00:00<00:00, 297.90it/s]\n",
      "100%|██████████| 125/125 [00:00<00:00, 147.93it/s]\n",
      "100%|██████████| 32/32 [00:00<00:00, 306.08it/s]\n",
      "[I 2024-06-01 18:29:09,426] Trial 1 finished with value: 606.3942375183105 and parameters: {'hidden_width': 41, 'hidden_layers': 14, 'learning_rate': 4.794863404750783e-08, 'optimizer': 'Adam', 'batch_size': 64}. Best is trial 0 with value: 283.4418511390686.\n",
      "100%|██████████| 125/125 [00:01<00:00, 116.50it/s]\n",
      "100%|██████████| 32/32 [00:00<00:00, 243.91it/s]\n",
      "100%|██████████| 125/125 [00:01<00:00, 119.66it/s]\n",
      "100%|██████████| 32/32 [00:00<00:00, 236.54it/s]\n",
      "100%|██████████| 125/125 [00:01<00:00, 116.99it/s]\n",
      "100%|██████████| 32/32 [00:00<00:00, 203.34it/s]\n",
      "100%|██████████| 125/125 [00:01<00:00, 117.67it/s]\n",
      "100%|██████████| 32/32 [00:00<00:00, 240.76it/s]\n",
      "100%|██████████| 125/125 [00:01<00:00, 118.16it/s]\n",
      "100%|██████████| 32/32 [00:00<00:00, 240.46it/s]\n",
      "100%|██████████| 125/125 [00:01<00:00, 122.29it/s]\n",
      "100%|██████████| 32/32 [00:00<00:00, 240.92it/s]\n",
      "100%|██████████| 125/125 [00:00<00:00, 128.16it/s]\n",
      "100%|██████████| 32/32 [00:00<00:00, 258.25it/s]\n",
      "100%|██████████| 125/125 [00:00<00:00, 126.42it/s]\n",
      "100%|██████████| 32/32 [00:00<00:00, 267.21it/s]\n",
      "100%|██████████| 125/125 [00:00<00:00, 125.06it/s]\n",
      "100%|██████████| 32/32 [00:00<00:00, 228.26it/s]\n",
      "100%|██████████| 125/125 [00:01<00:00, 120.05it/s]\n",
      "100%|██████████| 32/32 [00:00<00:00, 249.80it/s]\n",
      "[I 2024-06-01 18:29:24,508] Trial 2 finished with value: 425.7851758003235 and parameters: {'hidden_width': 81, 'hidden_layers': 27, 'learning_rate': 0.0005708424337173572, 'optimizer': 'SGD', 'batch_size': 64}. Best is trial 0 with value: 283.4418511390686.\n",
      "100%|██████████| 63/63 [00:00<00:00, 120.54it/s]\n",
      "100%|██████████| 16/16 [00:00<00:00, 213.23it/s]\n",
      "100%|██████████| 63/63 [00:00<00:00, 124.09it/s]\n",
      "100%|██████████| 16/16 [00:00<00:00, 222.70it/s]\n",
      "100%|██████████| 63/63 [00:00<00:00, 123.76it/s]\n",
      "100%|██████████| 16/16 [00:00<00:00, 250.29it/s]\n",
      "100%|██████████| 63/63 [00:00<00:00, 124.63it/s]\n",
      "100%|██████████| 16/16 [00:00<00:00, 249.30it/s]\n",
      "100%|██████████| 63/63 [00:00<00:00, 129.98it/s]\n",
      "100%|██████████| 16/16 [00:00<00:00, 213.90it/s]\n",
      "100%|██████████| 63/63 [00:00<00:00, 125.88it/s]\n",
      "100%|██████████| 16/16 [00:00<00:00, 237.79it/s]\n",
      "100%|██████████| 63/63 [00:00<00:00, 127.89it/s]\n",
      "100%|██████████| 16/16 [00:00<00:00, 221.60it/s]\n",
      "100%|██████████| 63/63 [00:00<00:00, 115.13it/s]\n",
      "100%|██████████| 16/16 [00:00<00:00, 204.73it/s]\n",
      "100%|██████████| 63/63 [00:00<00:00, 98.10it/s] \n",
      "100%|██████████| 16/16 [00:00<00:00, 172.40it/s]\n",
      "100%|██████████| 63/63 [00:00<00:00, 97.80it/s] \n",
      "100%|██████████| 16/16 [00:00<00:00, 160.16it/s]\n",
      "[I 2024-06-01 18:29:34,109] Trial 3 finished with value: 283.2754440307617 and parameters: {'hidden_width': 34, 'hidden_layers': 22, 'learning_rate': 0.0007219220416129641, 'optimizer': 'Adam', 'batch_size': 128}. Best is trial 3 with value: 283.2754440307617.\n",
      "100%|██████████| 32/32 [00:00<00:00, 50.73it/s]\n",
      "100%|██████████| 8/8 [00:00<00:00, 111.76it/s]\n",
      "100%|██████████| 32/32 [00:00<00:00, 52.85it/s]\n",
      "100%|██████████| 8/8 [00:00<00:00, 115.20it/s]\n",
      "100%|██████████| 32/32 [00:00<00:00, 54.74it/s]\n",
      "100%|██████████| 8/8 [00:00<00:00, 117.15it/s]\n",
      "100%|██████████| 32/32 [00:00<00:00, 52.24it/s]\n",
      "100%|██████████| 8/8 [00:00<00:00, 120.99it/s]\n",
      "100%|██████████| 32/32 [00:00<00:00, 64.06it/s]\n",
      "100%|██████████| 8/8 [00:00<00:00, 133.97it/s]\n",
      "100%|██████████| 32/32 [00:00<00:00, 53.53it/s]\n",
      "100%|██████████| 8/8 [00:00<00:00, 113.86it/s]\n",
      "100%|██████████| 32/32 [00:00<00:00, 52.94it/s]\n",
      "100%|██████████| 8/8 [00:00<00:00, 106.21it/s]\n",
      "100%|██████████| 32/32 [00:00<00:00, 50.08it/s]\n",
      "100%|██████████| 8/8 [00:00<00:00, 113.99it/s]\n",
      "100%|██████████| 32/32 [00:00<00:00, 52.82it/s]\n",
      "100%|██████████| 8/8 [00:00<00:00, 91.13it/s]\n",
      "100%|██████████| 32/32 [00:00<00:00, 52.50it/s]\n",
      "100%|██████████| 8/8 [00:00<00:00, 115.83it/s]\n",
      "[I 2024-06-01 18:29:44,675] Trial 4 finished with value: 284.4728813171387 and parameters: {'hidden_width': 55, 'hidden_layers': 30, 'learning_rate': 0.0004712581833890876, 'optimizer': 'Adamax', 'batch_size': 256}. Best is trial 3 with value: 283.2754440307617.\n",
      "100%|██████████| 250/250 [00:01<00:00, 161.90it/s]\n",
      "100%|██████████| 63/63 [00:00<00:00, 334.59it/s]\n",
      "100%|██████████| 250/250 [00:01<00:00, 160.00it/s]\n",
      "100%|██████████| 63/63 [00:00<00:00, 273.03it/s]\n",
      "100%|██████████| 250/250 [00:01<00:00, 128.75it/s]\n",
      "100%|██████████| 63/63 [00:00<00:00, 250.61it/s]\n",
      "100%|██████████| 250/250 [00:02<00:00, 120.07it/s]\n",
      "100%|██████████| 63/63 [00:00<00:00, 253.36it/s]\n",
      "100%|██████████| 250/250 [00:01<00:00, 125.50it/s]\n",
      "100%|██████████| 63/63 [00:00<00:00, 260.99it/s]\n",
      "[I 2024-06-01 18:29:56,770] Trial 5 pruned. \n",
      "100%|██████████| 63/63 [00:00<00:00, 123.26it/s]\n",
      "100%|██████████| 16/16 [00:00<00:00, 189.36it/s]\n",
      "100%|██████████| 63/63 [00:00<00:00, 128.83it/s]\n",
      "100%|██████████| 16/16 [00:00<00:00, 241.75it/s]\n",
      "100%|██████████| 63/63 [00:00<00:00, 130.38it/s]\n",
      "100%|██████████| 16/16 [00:00<00:00, 168.12it/s]\n",
      "100%|██████████| 63/63 [00:00<00:00, 126.69it/s]\n",
      "100%|██████████| 16/16 [00:00<00:00, 182.78it/s]\n",
      "100%|██████████| 63/63 [00:00<00:00, 128.18it/s]\n",
      "100%|██████████| 16/16 [00:00<00:00, 171.08it/s]\n",
      "[I 2024-06-01 18:30:01,486] Trial 6 pruned. \n",
      "100%|██████████| 125/125 [00:01<00:00, 96.12it/s]\n",
      "100%|██████████| 32/32 [00:00<00:00, 247.79it/s]\n",
      "[I 2024-06-01 18:30:03,281] Trial 7 pruned. \n",
      "100%|██████████| 63/63 [00:00<00:00, 97.86it/s] \n",
      "100%|██████████| 16/16 [00:00<00:00, 159.11it/s]\n",
      "[I 2024-06-01 18:30:04,426] Trial 8 pruned. \n",
      "100%|██████████| 250/250 [00:01<00:00, 159.06it/s]\n",
      "100%|██████████| 63/63 [00:00<00:00, 299.69it/s]\n",
      "[I 2024-06-01 18:30:06,619] Trial 9 pruned. \n",
      "100%|██████████| 63/63 [00:00<00:00, 99.44it/s] \n",
      "100%|██████████| 16/16 [00:00<00:00, 178.70it/s]\n",
      "[I 2024-06-01 18:30:07,750] Trial 10 pruned. \n",
      "100%|██████████| 32/32 [00:00<00:00, 91.13it/s] \n",
      "100%|██████████| 8/8 [00:00<00:00, 99.64it/s]\n",
      "[I 2024-06-01 18:30:08,560] Trial 11 pruned. \n",
      "100%|██████████| 63/63 [00:00<00:00, 86.32it/s]\n",
      "100%|██████████| 16/16 [00:00<00:00, 166.68it/s]\n",
      "100%|██████████| 63/63 [00:00<00:00, 87.18it/s]\n",
      "100%|██████████| 16/16 [00:00<00:00, 146.32it/s]\n",
      "100%|██████████| 63/63 [00:00<00:00, 86.75it/s]\n",
      "100%|██████████| 16/16 [00:00<00:00, 157.31it/s]\n",
      "100%|██████████| 63/63 [00:00<00:00, 84.97it/s]\n",
      "100%|██████████| 16/16 [00:00<00:00, 166.00it/s]\n",
      "100%|██████████| 63/63 [00:00<00:00, 87.23it/s]\n",
      "100%|██████████| 16/16 [00:00<00:00, 163.92it/s]\n",
      "[I 2024-06-01 18:30:14,751] Trial 12 pruned. \n",
      "100%|██████████| 125/125 [00:01<00:00, 111.34it/s]\n",
      "100%|██████████| 32/32 [00:00<00:00, 208.08it/s]\n",
      "[I 2024-06-01 18:30:16,405] Trial 13 pruned. \n",
      "100%|██████████| 125/125 [00:01<00:00, 95.08it/s] \n",
      "100%|██████████| 32/32 [00:00<00:00, 197.39it/s]\n",
      "[I 2024-06-01 18:30:18,299] Trial 14 pruned. \n",
      "100%|██████████| 63/63 [00:00<00:00, 103.52it/s]\n",
      "100%|██████████| 16/16 [00:00<00:00, 178.33it/s]\n",
      "100%|██████████| 63/63 [00:00<00:00, 104.28it/s]\n",
      "100%|██████████| 16/16 [00:00<00:00, 193.22it/s]\n",
      "100%|██████████| 63/63 [00:00<00:00, 99.89it/s] \n",
      "100%|██████████| 16/16 [00:00<00:00, 174.71it/s]\n",
      "100%|██████████| 63/63 [00:00<00:00, 92.63it/s] \n",
      "100%|██████████| 16/16 [00:00<00:00, 158.77it/s]\n",
      "100%|██████████| 63/63 [00:00<00:00, 98.98it/s] \n",
      "100%|██████████| 16/16 [00:00<00:00, 165.22it/s]\n",
      "[I 2024-06-01 18:30:23,943] Trial 15 pruned. \n",
      "100%|██████████| 250/250 [00:03<00:00, 81.17it/s]\n",
      "100%|██████████| 63/63 [00:00<00:00, 195.81it/s]\n",
      "100%|██████████| 250/250 [00:02<00:00, 84.23it/s]\n",
      "100%|██████████| 63/63 [00:00<00:00, 215.01it/s]\n",
      "100%|██████████| 250/250 [00:02<00:00, 84.05it/s]\n",
      "100%|██████████| 63/63 [00:00<00:00, 226.22it/s]\n",
      "100%|██████████| 250/250 [00:02<00:00, 84.51it/s]\n",
      "100%|██████████| 63/63 [00:00<00:00, 218.95it/s]\n",
      "100%|██████████| 250/250 [00:02<00:00, 84.45it/s]\n",
      "100%|██████████| 63/63 [00:00<00:00, 217.87it/s]\n",
      "100%|██████████| 250/250 [00:02<00:00, 92.04it/s] \n",
      "100%|██████████| 63/63 [00:00<00:00, 289.46it/s]\n",
      "100%|██████████| 250/250 [00:02<00:00, 110.02it/s]\n",
      "100%|██████████| 63/63 [00:00<00:00, 278.54it/s]\n",
      "100%|██████████| 250/250 [00:02<00:00, 117.74it/s]\n",
      "100%|██████████| 63/63 [00:00<00:00, 296.03it/s]\n",
      "100%|██████████| 250/250 [00:02<00:00, 113.95it/s]\n",
      "100%|██████████| 63/63 [00:00<00:00, 288.09it/s]\n",
      "100%|██████████| 250/250 [00:02<00:00, 117.80it/s]\n",
      "100%|██████████| 63/63 [00:00<00:00, 279.48it/s]\n",
      "[I 2024-06-01 18:30:56,666] Trial 16 finished with value: 282.96975393143913 and parameters: {'hidden_width': 84, 'hidden_layers': 26, 'learning_rate': 0.0005634032873884754, 'optimizer': 'Adam', 'batch_size': 32}. Best is trial 16 with value: 282.96975393143913.\n",
      "100%|██████████| 250/250 [00:02<00:00, 116.85it/s]\n",
      "100%|██████████| 63/63 [00:00<00:00, 305.80it/s]\n",
      "100%|██████████| 250/250 [00:02<00:00, 118.38it/s]\n",
      "100%|██████████| 63/63 [00:00<00:00, 289.03it/s]\n",
      "100%|██████████| 250/250 [00:02<00:00, 117.71it/s]\n",
      "100%|██████████| 63/63 [00:00<00:00, 275.06it/s]\n",
      "100%|██████████| 250/250 [00:02<00:00, 119.05it/s]\n",
      "100%|██████████| 63/63 [00:00<00:00, 286.33it/s]\n",
      "100%|██████████| 250/250 [00:02<00:00, 117.93it/s]\n",
      "100%|██████████| 63/63 [00:00<00:00, 290.51it/s]\n",
      "100%|██████████| 250/250 [00:02<00:00, 118.53it/s]\n",
      "100%|██████████| 63/63 [00:00<00:00, 312.47it/s]\n",
      "100%|██████████| 250/250 [00:02<00:00, 114.73it/s]\n",
      "100%|██████████| 63/63 [00:00<00:00, 305.02it/s]\n",
      "100%|██████████| 250/250 [00:02<00:00, 115.92it/s]\n",
      "100%|██████████| 63/63 [00:00<00:00, 270.42it/s]\n",
      "100%|██████████| 250/250 [00:02<00:00, 118.07it/s]\n"
     ]
    },
    {
     "name": "stdout",
     "output_type": "stream",
     "text": [
      "Epoch 00009: reducing learning rate of group 0 to 4.5942e-03.\n"
     ]
    },
    {
     "name": "stderr",
     "output_type": "stream",
     "text": [
      "100%|██████████| 63/63 [00:00<00:00, 294.64it/s]\n",
      "100%|██████████| 250/250 [00:02<00:00, 119.79it/s]\n",
      "100%|██████████| 63/63 [00:00<00:00, 285.48it/s]\n",
      "[I 2024-06-01 18:31:23,393] Trial 17 finished with value: 305.52004181392607 and parameters: {'hidden_width': 65, 'hidden_layers': 26, 'learning_rate': 0.04594204047602439, 'optimizer': 'Adam', 'batch_size': 32}. Best is trial 16 with value: 282.96975393143913.\n",
      "100%|██████████| 250/250 [00:02<00:00, 117.38it/s]\n",
      "100%|██████████| 63/63 [00:00<00:00, 273.62it/s]\n",
      "100%|██████████| 250/250 [00:02<00:00, 116.34it/s]\n",
      "100%|██████████| 63/63 [00:00<00:00, 275.28it/s]\n",
      "100%|██████████| 250/250 [00:02<00:00, 116.16it/s]\n",
      "100%|██████████| 63/63 [00:00<00:00, 260.10it/s]\n",
      "100%|██████████| 250/250 [00:02<00:00, 118.35it/s]\n",
      "100%|██████████| 63/63 [00:00<00:00, 273.36it/s]\n",
      "100%|██████████| 250/250 [00:02<00:00, 115.00it/s]\n",
      "100%|██████████| 63/63 [00:00<00:00, 295.86it/s]\n",
      "[I 2024-06-01 18:31:36,853] Trial 18 pruned. \n",
      "100%|██████████| 250/250 [00:03<00:00, 79.20it/s]\n",
      "100%|██████████| 63/63 [00:00<00:00, 293.66it/s]\n",
      "100%|██████████| 250/250 [00:03<00:00, 78.97it/s]\n",
      "100%|██████████| 63/63 [00:00<00:00, 298.19it/s]\n",
      "100%|██████████| 250/250 [00:03<00:00, 78.48it/s]\n",
      "100%|██████████| 63/63 [00:00<00:00, 282.71it/s]\n",
      "100%|██████████| 250/250 [00:03<00:00, 79.84it/s]\n",
      "100%|██████████| 63/63 [00:00<00:00, 260.65it/s]\n",
      "100%|██████████| 250/250 [00:03<00:00, 77.15it/s]\n",
      "100%|██████████| 63/63 [00:00<00:00, 281.32it/s]\n",
      "100%|██████████| 250/250 [00:03<00:00, 78.76it/s]\n",
      "100%|██████████| 63/63 [00:00<00:00, 301.92it/s]\n",
      "100%|██████████| 250/250 [00:03<00:00, 78.69it/s]\n",
      "100%|██████████| 63/63 [00:00<00:00, 295.91it/s]\n",
      "100%|██████████| 250/250 [00:03<00:00, 78.73it/s]"
     ]
    },
    {
     "name": "stdout",
     "output_type": "stream",
     "text": [
      "Epoch 00008: reducing learning rate of group 0 to 9.0086e-04.\n"
     ]
    },
    {
     "name": "stderr",
     "output_type": "stream",
     "text": [
      "\n",
      "100%|██████████| 63/63 [00:00<00:00, 311.52it/s]\n",
      "100%|██████████| 250/250 [00:03<00:00, 79.72it/s]\n",
      "100%|██████████| 63/63 [00:00<00:00, 295.62it/s]\n",
      "100%|██████████| 250/250 [00:03<00:00, 77.59it/s]\n",
      "100%|██████████| 63/63 [00:00<00:00, 282.81it/s]\n",
      "[I 2024-06-01 18:32:14,104] Trial 19 finished with value: 283.64043196420823 and parameters: {'hidden_width': 44, 'hidden_layers': 27, 'learning_rate': 0.009008572702833464, 'optimizer': 'Adamax', 'batch_size': 32}. Best is trial 16 with value: 282.96975393143913.\n",
      "100%|██████████| 32/32 [00:00<00:00, 122.12it/s]\n",
      "100%|██████████| 8/8 [00:00<00:00, 157.44it/s]\n",
      "[I 2024-06-01 18:32:14,778] Trial 20 pruned. \n",
      "100%|██████████| 250/250 [00:01<00:00, 126.04it/s]\n",
      "100%|██████████| 63/63 [00:00<00:00, 298.39it/s]\n",
      "100%|██████████| 250/250 [00:01<00:00, 125.05it/s]\n",
      "100%|██████████| 63/63 [00:00<00:00, 297.91it/s]\n",
      "100%|██████████| 250/250 [00:02<00:00, 122.35it/s]\n",
      "100%|██████████| 63/63 [00:00<00:00, 298.97it/s]\n",
      "100%|██████████| 250/250 [00:02<00:00, 123.95it/s]\n",
      "100%|██████████| 63/63 [00:00<00:00, 288.59it/s]\n",
      "100%|██████████| 250/250 [00:02<00:00, 123.61it/s]\n",
      "100%|██████████| 63/63 [00:00<00:00, 296.95it/s]\n",
      "100%|██████████| 250/250 [00:02<00:00, 114.99it/s]\n",
      "100%|██████████| 63/63 [00:00<00:00, 309.62it/s]\n",
      "100%|██████████| 250/250 [00:01<00:00, 126.45it/s]\n",
      "100%|██████████| 63/63 [00:00<00:00, 306.77it/s]\n",
      "100%|██████████| 250/250 [00:02<00:00, 122.75it/s]\n",
      "100%|██████████| 63/63 [00:00<00:00, 254.28it/s]\n",
      "100%|██████████| 250/250 [00:02<00:00, 103.22it/s]\n",
      "100%|██████████| 63/63 [00:00<00:00, 242.13it/s]\n",
      "100%|██████████| 250/250 [00:02<00:00, 101.26it/s]\n",
      "100%|██████████| 63/63 [00:00<00:00, 277.51it/s]\n",
      "[I 2024-06-01 18:32:41,383] Trial 21 finished with value: 283.3884766593812 and parameters: {'hidden_width': 87, 'hidden_layers': 24, 'learning_rate': 0.0003618330648720724, 'optimizer': 'Adam', 'batch_size': 32}. Best is trial 16 with value: 282.96975393143913.\n",
      "100%|██████████| 250/250 [00:02<00:00, 109.81it/s]\n",
      "100%|██████████| 63/63 [00:00<00:00, 279.99it/s]\n",
      "100%|██████████| 250/250 [00:02<00:00, 106.54it/s]\n",
      "100%|██████████| 63/63 [00:00<00:00, 257.28it/s]\n",
      "100%|██████████| 250/250 [00:02<00:00, 108.73it/s]\n",
      "100%|██████████| 63/63 [00:00<00:00, 265.74it/s]\n",
      "100%|██████████| 250/250 [00:02<00:00, 109.08it/s]\n",
      "100%|██████████| 63/63 [00:00<00:00, 265.72it/s]\n",
      "100%|██████████| 250/250 [00:02<00:00, 106.09it/s]\n",
      "100%|██████████| 63/63 [00:00<00:00, 262.24it/s]\n",
      "100%|██████████| 250/250 [00:02<00:00, 108.66it/s]\n",
      "100%|██████████| 63/63 [00:00<00:00, 272.81it/s]\n",
      "100%|██████████| 250/250 [00:02<00:00, 110.31it/s]\n",
      "100%|██████████| 63/63 [00:00<00:00, 274.47it/s]\n",
      "100%|██████████| 250/250 [00:02<00:00, 110.47it/s]\n",
      "100%|██████████| 63/63 [00:00<00:00, 265.30it/s]\n",
      "100%|██████████| 250/250 [00:02<00:00, 109.68it/s]\n",
      "100%|██████████| 63/63 [00:00<00:00, 265.95it/s]\n",
      "100%|██████████| 250/250 [00:02<00:00, 110.34it/s]\n",
      "100%|██████████| 63/63 [00:00<00:00, 283.30it/s]\n",
      "[I 2024-06-01 18:33:09,984] Trial 22 finished with value: 283.045167953249 and parameters: {'hidden_width': 106, 'hidden_layers': 25, 'learning_rate': 0.0002670422471151532, 'optimizer': 'Adam', 'batch_size': 32}. Best is trial 16 with value: 282.96975393143913.\n",
      "100%|██████████| 250/250 [00:02<00:00, 106.20it/s]\n",
      "100%|██████████| 63/63 [00:00<00:00, 263.43it/s]\n",
      "100%|██████████| 250/250 [00:02<00:00, 109.73it/s]\n",
      "100%|██████████| 63/63 [00:00<00:00, 270.05it/s]\n",
      "100%|██████████| 250/250 [00:02<00:00, 104.21it/s]\n",
      "100%|██████████| 63/63 [00:00<00:00, 271.38it/s]\n",
      "100%|██████████| 250/250 [00:02<00:00, 104.64it/s]\n",
      "100%|██████████| 63/63 [00:00<00:00, 282.32it/s]\n",
      "100%|██████████| 250/250 [00:02<00:00, 106.13it/s]\n",
      "100%|██████████| 63/63 [00:00<00:00, 275.71it/s]\n",
      "100%|██████████| 250/250 [00:02<00:00, 103.15it/s]\n",
      "100%|██████████| 63/63 [00:00<00:00, 242.73it/s]\n",
      "100%|██████████| 250/250 [00:02<00:00, 105.43it/s]\n",
      "100%|██████████| 63/63 [00:00<00:00, 235.30it/s]\n",
      "100%|██████████| 250/250 [00:02<00:00, 96.16it/s] \n",
      "100%|██████████| 63/63 [00:00<00:00, 239.36it/s]\n",
      "100%|██████████| 250/250 [00:02<00:00, 94.85it/s]\n",
      "100%|██████████| 63/63 [00:00<00:00, 234.84it/s]\n",
      "100%|██████████| 250/250 [00:02<00:00, 95.93it/s]\n",
      "100%|██████████| 63/63 [00:00<00:00, 225.48it/s]\n",
      "[I 2024-06-01 18:33:40,445] Trial 23 finished with value: 283.55541653103296 and parameters: {'hidden_width': 111, 'hidden_layers': 26, 'learning_rate': 1.6882649987133563e-05, 'optimizer': 'Adam', 'batch_size': 32}. Best is trial 16 with value: 282.96975393143913.\n",
      "100%|██████████| 250/250 [00:02<00:00, 108.32it/s]\n",
      "100%|██████████| 63/63 [00:00<00:00, 254.10it/s]\n",
      "100%|██████████| 250/250 [00:02<00:00, 108.99it/s]\n",
      "100%|██████████| 63/63 [00:00<00:00, 248.62it/s]\n",
      "100%|██████████| 250/250 [00:02<00:00, 108.75it/s]\n",
      "100%|██████████| 63/63 [00:00<00:00, 255.77it/s]\n",
      "100%|██████████| 250/250 [00:02<00:00, 107.73it/s]\n",
      "100%|██████████| 63/63 [00:00<00:00, 234.54it/s]\n",
      "100%|██████████| 250/250 [00:02<00:00, 107.46it/s]\n",
      "100%|██████████| 63/63 [00:00<00:00, 259.68it/s]\n",
      "[I 2024-06-01 18:33:55,329] Trial 24 pruned. \n",
      "100%|██████████| 63/63 [00:00<00:00, 86.83it/s]\n",
      "100%|██████████| 16/16 [00:00<00:00, 174.80it/s]\n",
      "[I 2024-06-01 18:33:56,525] Trial 25 pruned. \n",
      "100%|██████████| 250/250 [00:02<00:00, 116.26it/s]\n",
      "100%|██████████| 63/63 [00:00<00:00, 246.66it/s]\n",
      "[I 2024-06-01 18:33:59,304] Trial 26 pruned. \n",
      "100%|██████████| 250/250 [00:02<00:00, 106.71it/s]\n",
      "100%|██████████| 63/63 [00:00<00:00, 243.04it/s]\n",
      "[I 2024-06-01 18:34:02,277] Trial 27 pruned. \n",
      "100%|██████████| 63/63 [00:01<00:00, 61.64it/s]\n",
      "100%|██████████| 16/16 [00:00<00:00, 169.75it/s]\n",
      "[I 2024-06-01 18:34:03,780] Trial 28 pruned. \n",
      "100%|██████████| 32/32 [00:00<00:00, 95.86it/s] \n",
      "100%|██████████| 8/8 [00:00<00:00, 119.46it/s]\n",
      "[I 2024-06-01 18:34:04,568] Trial 29 pruned. \n"
     ]
    },
    {
     "name": "stdout",
     "output_type": "stream",
     "text": [
      "Study statistics: \n",
      "  Number of finished trials: 30\n",
      "  Number of pruned trials: 19\n",
      "  Number of complete trials: 11\n",
      "Best trial:\n",
      "  Value: 282.96975393143913\n",
      "  Params: \n",
      "    hidden_width: 84\n",
      "    hidden_layers: 26\n",
      "    learning_rate: 0.0005634032873884754\n",
      "    optimizer: Adam\n",
      "    batch_size: 32\n",
      "84\n",
      "26\n",
      "0.0005634032873884754\n",
      "Adam\n",
      "32\n"
     ]
    }
   ],
   "source": [
    "import torch\n",
    "from torch.optim.lr_scheduler import CosineAnnealingLR\n",
    "import torch.nn as nn\n",
    "from torch.utils.data import DataLoader\n",
    "import numpy as np\n",
    "import optuna\n",
    "from optuna.trial import TrialState\n",
    "from tqdm import tqdm\n",
    "\n",
    "\n",
    "# Define the model\n",
    "class AmericanPut_gated3(nn.Module):\n",
    "    def __init__(self, N_INPUT, N_OUTPUT, N_HIDDEN, N_LAYERS):\n",
    "        super(AmericanPut_gated3, self).__init__()\n",
    "        self.N_HIDDEN = N_HIDDEN\n",
    "        self.activation1 = nn.LeakyReLU(negative_slope=0.2)\n",
    "        self.activation2 = nn.Tanh()\n",
    "        self.fcs1 = nn.Sequential(nn.Linear(N_INPUT, N_HIDDEN), self.activation2)\n",
    "        self.fcs2 = nn.Sequential(nn.Linear(N_INPUT, N_OUTPUT), self.activation2)\n",
    "        self.fch = nn.Sequential(\n",
    "            *[\n",
    "                nn.Sequential(nn.Linear(N_HIDDEN, N_HIDDEN), self.activation2)\n",
    "                for _ in range(N_LAYERS)\n",
    "            ]\n",
    "        )\n",
    "        self.fce = nn.Sequential(*[nn.Linear(N_HIDDEN, N_OUTPUT)])\n",
    "        self.w1_layer = nn.Sequential(\n",
    "            *[nn.Linear(N_HIDDEN + N_INPUT, N_OUTPUT), self.activation2]\n",
    "        )\n",
    "        # self.w2_layer = nn.Sequential(*[nn.Linear(N_HIDDEN + N_INPUT, N_OUTPUT),self.activation2])\n",
    "\n",
    "    def forward(self, x):\n",
    "        # Apply the first layer\n",
    "        I1 = self.fcs1(x)\n",
    "        H = I1\n",
    "        # Apply hidden layers with residual connections\n",
    "        for layer in self.fch:\n",
    "            H = layer(H) + H\n",
    "        # Apply the final layer\n",
    "        yx = self.fcs2(x)  # 1D\n",
    "        yh = self.fce(H)  # 1D\n",
    "        h_x = torch.cat([H, x], axis=1)\n",
    "        # print (h_x.shape)\n",
    "        wh = self.w1_layer(h_x)\n",
    "        y_net = yx + wh * yh\n",
    "        return y_net\n",
    "\n",
    "\n",
    "# Objective function for Optuna\n",
    "def objective(trial):\n",
    "    # Hyperparameters to tune\n",
    "    hidden_width = trial.suggest_int(\"hidden_width\", 32, 128)\n",
    "    hidden_layers = trial.suggest_int(\"hidden_layers\", 10, 30)\n",
    "    learning_rate = trial.suggest_loguniform(\"learning_rate\", 2e-8, 1e-1)\n",
    "    optimizer_name = trial.suggest_categorical(\n",
    "        \"optimizer\", [\"SGD\", \"RMSprop\", \"Adam\", \"Adamax\"]\n",
    "    )\n",
    "    batch_size = trial.suggest_categorical(\"batch_size\", [32, 64, 128, 256])\n",
    "\n",
    "    # Create the model\n",
    "    model = AmericanPut_gated3(5, 1, hidden_width, hidden_layers).to(DEVICE)\n",
    "\n",
    "    # Create the optimizer\n",
    "    optimizers_list = {\n",
    "        \"SGD\": torch.optim.SGD(model.parameters(), lr=learning_rate, momentum=0.7),\n",
    "        \"RMSprop\": torch.optim.RMSprop(model.parameters(), lr=learning_rate),\n",
    "        \"Adam\": torch.optim.Adam(model.parameters(), lr=learning_rate),\n",
    "        \"Adamax\": torch.optim.Adamax(\n",
    "            model.parameters(), lr=learning_rate, betas=(0.9, 0.99)\n",
    "        ),\n",
    "    }\n",
    "    optimizer = optimizers_list[optimizer_name]\n",
    "\n",
    "    # Define the ReduceLROnPlateau scheduler\n",
    "    scheduler = CosineAnnealingLR(optimizer, T_max=N_EPOCH, eta_min=0)\n",
    "    # scheduler = ReduceLROnPlateau(optimizer, mode=\"min\", patience=5, verbose=True)\n",
    "\n",
    "    criteriation = nn.MSELoss()\n",
    "\n",
    "    # Create the dataloaders\n",
    "    train_dataloader = DataLoader(\n",
    "        train_df, batch_size=batch_size, shuffle=True, num_workers=8\n",
    "    )\n",
    "    val_dataloader = DataLoader(\n",
    "        val_df, batch_size=batch_size, shuffle=False, num_workers=8\n",
    "    )\n",
    "\n",
    "    # Training loop\n",
    "    N_EPOCH = 10  # or some other number of epochs\n",
    "    for epoch in range(N_EPOCH):\n",
    "        train_loss = train_model(\n",
    "            model, train_dataloader, optimizer, scheduler, criteriation, DEVICE\n",
    "        )\n",
    "        val_loss = validate_model(model, val_dataloader, criteriation, DEVICE)\n",
    "\n",
    "        # Report intermediate results to Optuna\n",
    "        trial.report(val_loss, epoch)\n",
    "\n",
    "        # Handle pruning based on the intermediate value\n",
    "        if trial.should_prune():\n",
    "            raise optuna.exceptions.TrialPruned()\n",
    "\n",
    "    return val_loss\n",
    "\n",
    "\n",
    "# Run the optimization\n",
    "study = optuna.create_study(direction=\"minimize\")\n",
    "study.optimize(objective, n_trials=30, timeout=600)\n",
    "\n",
    "pruned_trials = [t for t in study.trials if t.state == TrialState.PRUNED]\n",
    "complete_trials = [t for t in study.trials if t.state == TrialState.COMPLETE]\n",
    "\n",
    "print(f\"Study statistics: \")\n",
    "print(f\"  Number of finished trials: {len(study.trials)}\")\n",
    "print(f\"  Number of pruned trials: {len(pruned_trials)}\")\n",
    "print(f\"  Number of complete trials: {len(complete_trials)}\")\n",
    "\n",
    "print(f\"Best trial:\")\n",
    "trial = study.best_trial\n",
    "\n",
    "print(f\"  Value: {trial.value}\")\n",
    "\n",
    "print(f\"  Params: \")\n",
    "for key, value in trial.params.items():\n",
    "    print(f\"    {key}: {value}\")\n",
    "\n",
    "# Use the best hyperparameters to train your final model\n",
    "best_hidden_width = trial.params[\"hidden_width\"]\n",
    "best_hidden_layers = trial.params[\"hidden_layers\"]\n",
    "best_learning_rate = trial.params[\"learning_rate\"]\n",
    "best_optimizer_name = trial.params[\"optimizer\"]\n",
    "best_batch_size = trial.params[\"batch_size\"]"
   ]
  },
  {
   "cell_type": "code",
   "execution_count": 12,
   "metadata": {},
   "outputs": [],
   "source": [
    "import matplotlib.pyplot as plt\n",
    "\n",
    "def plot_dictionaries(dict1, dict2, initial_train, initial_val, save_path=None):\n",
    "    fig, axes = plt.subplots(1, 2, figsize=(12, 6))  # Create a figure with two subplots\n",
    "\n",
    "    # Plot for dictionary 1\n",
    "    for key, values in dict1.items():\n",
    "        axes[0].plot(range(2, len(values) + 1), values[1:], label=key, marker=\"*\")  # Start from second element\n",
    "        axes[0].legend()\n",
    "        axes[0].set_xlabel(\"Epochs\")\n",
    "        axes[0].set_ylabel(\"MSE Loss\")\n",
    "        axes[0].set_title(f\"Train losses, initial: {initial_train.round(2)}\")\n",
    "        axes[0].grid(True)\n",
    "    # Plot for dictionary 2\n",
    "    for key, values in dict2.items():\n",
    "        axes[1].plot(range(1, len(values) + 1), values, label=key, marker=\"*\")\n",
    "        axes[1].legend()\n",
    "        axes[1].set_xlabel(\"Epochs\")\n",
    "        axes[1].set_ylabel(\"MSE Loss\")\n",
    "        axes[1].set_title(f\"Validation losses, initial: {initial_val.round(2)}\")\n",
    "        axes[1].grid(True)\n",
    "\n",
    "    plt.tight_layout()\n",
    "    if save_path:\n",
    "        plt.savefig(save_path)\n",
    "    plt.show()\n"
   ]
  },
  {
   "cell_type": "code",
   "execution_count": 31,
   "metadata": {},
   "outputs": [
    {
     "data": {
      "image/png": "[encoded data removed]",
      "text/plain": [
       "<Figure size 1200x600 with 2 Axes>"
      ]
     },
     "metadata": {},
     "output_type": "display_data"
    }
   ],
   "source": [
    "# Plot\n",
    "plot_dictionaries(\n",
    "    train_loss_dict,\n",
    "    val_loss_dict,\n",
    "    initial_mse_train,\n",
    "    initial_mse_val,\n",
    "    f\"{experiment_dir}/{EXPERIMENT_NAME}_test.png\",\n",
    ")"
   ]
  },
  {
   "cell_type": "markdown",
   "metadata": {},
   "source": [
    "### So for full training we will take Adam"
   ]
  },
  {
   "cell_type": "code",
   "execution_count": 8,
   "metadata": {},
   "outputs": [],
   "source": [
    "# hyperparams for training\n",
    "# df_real = pd.read_csv(\"../train_data/put_df_with_approx.csv\", index_col=0)\n",
    "N_EPOCH = 50\n",
    "RISK_FREE = 0.03\n",
    "SIGMA = 0.4\n",
    "LEARNING_RATE = 0.000563403\n",
    "HIDDEN_LAYER = 26\n",
    "HIDDEN_WIDTH = 84\n",
    "# EXPERIMENT_NAME = \"exp_put_5_final\"\n",
    "# MODEL_TYPE = AmericanPut_gated3\n",
    "# experiment_dir = f\"../experiments_dir/{EXPERIMENT_NAME}\"\n",
    "# os.makedirs(experiment_dir, exist_ok=True)"
   ]
  },
  {
   "cell_type": "code",
   "execution_count": 9,
   "metadata": {},
   "outputs": [],
   "source": [
    "import logging\n",
    "from datetime import datetime\n",
    "\n",
    "logger = logging.getLogger()\n",
    "current_date = datetime.now().strftime(\"%Y-%m-%d\")\n",
    "log_file_name = f\"{experiment_dir}/{EXPERIMENT_NAME}_log_{current_date}.log\"\n",
    "fhandler = logging.FileHandler(filename=log_file_name, mode=\"w\")\n",
    "formatter = logging.Formatter(\"%(asctime)s - %(name)s - %(levelname)s - %(message)s\")\n",
    "fhandler.setFormatter(formatter)\n",
    "logger.addHandler(fhandler)\n",
    "logger.setLevel(logging.INFO)"
   ]
  },
  {
   "cell_type": "code",
   "execution_count": 10,
   "metadata": {},
   "outputs": [],
   "source": [
    "logging.info(f\"N_EPOCH: {N_EPOCH}\")\n",
    "logging.info(f\"LEARNING_RATE: {LEARNING_RATE}\")\n",
    "logging.info(f\"HIDDEN_LAYER: {HIDDEN_LAYER}\")\n",
    "logging.info(f\"HIDDEN_WIDTH: {HIDDEN_WIDTH}\")\n",
    "# logging.info(f\"N_sample: {N_sample}\")\n",
    "logging.info(f\"EXPERIMENT_NAME: {EXPERIMENT_NAME}\")\n",
    "logging.info(f\"Model type: {MODEL_TYPE.__name__}\")"
   ]
  },
  {
   "cell_type": "code",
   "execution_count": 11,
   "metadata": {},
   "outputs": [],
   "source": [
    "df_train, df_test = train_test_split(df, test_size=0.2)\n",
    "logging.info(f\"train set size: {df_train.shape}\")\n",
    "logging.info(f\"test set size: {df_test.shape}\")\n",
    "initial_mse_train = (\n",
    "    1 / len(df_train) * np.sum((df_train.TargetPrice - df_train.BSAprox) ** 2)\n",
    ")\n",
    "initial_mse_val = 1 / len(df_test) * np.sum((df_test.TargetPrice - df_test.BSAprox) ** 2)\n",
    "logging.info(\n",
    "    f\"Initial MSE train: {initial_mse_train.round(4)}, Initial MSE val: {initial_mse_val.round(4)}\"\n",
    ")\n",
    "train_df = CustomDataset(df_train)\n",
    "test_df = CustomDataset(df_test)"
   ]
  },
  {
   "cell_type": "code",
   "execution_count": 12,
   "metadata": {},
   "outputs": [],
   "source": [
    "from torch.optim.lr_scheduler import CosineAnnealingLR\n",
    "\n",
    "\n",
    "def train_model(model, train_dataloader, optimizer, scheduler, criteriation, device):\n",
    "    model.train()\n",
    "    train_losses = []\n",
    "    for batch_idx, data in tqdm(\n",
    "        enumerate(train_dataloader), total=len(train_dataloader)\n",
    "    ):\n",
    "        optimizer.zero_grad()\n",
    "        inputs = data[\"input\"].to(device)\n",
    "        outputs = data[\"output\"].to(device).view(-1, 1)\n",
    "        pred = model(inputs).view(-1, 1)\n",
    "        loss = criteriation(outputs, pred)\n",
    "        loss.backward()\n",
    "        optimizer.step()\n",
    "        train_losses.append(loss.item())\n",
    "    scheduler.step()  # Step the scheduler\n",
    "    return np.mean(train_losses)\n",
    "\n",
    "\n",
    "def validate_model(model, val_dataloader, criteriation, device):\n",
    "    model.eval()\n",
    "    val_losses = []\n",
    "    with torch.no_grad():\n",
    "        for batch_idx, data in tqdm(\n",
    "            enumerate(val_dataloader), total=len(val_dataloader)\n",
    "        ):\n",
    "            inputs = data[\"input\"].to(device)\n",
    "            outputs = data[\"output\"].to(device).view(-1, 1)\n",
    "            pred = model(inputs).view(-1, 1)\n",
    "            loss = criteriation(outputs, pred)\n",
    "            val_losses.append(loss.item())\n",
    "    return np.mean(val_losses)\n",
    "\n",
    "\n",
    "def train_cycle(optimizer_name, optimizer, train_loss_dict, val_loss_dict, final=False):\n",
    "    print(f\"Optimizer: {optimizer_name}\")\n",
    "    train_loss_dict[optimizer_name] = []\n",
    "    val_loss_dict[optimizer_name] = []\n",
    "    logging.info(f\"Optimizer: {optimizer_name}\")\n",
    "\n",
    "    # Define the CosineAnnealingLR scheduler\n",
    "    scheduler = CosineAnnealingLR(optimizer, T_max=N_EPOCH, eta_min=0)\n",
    "\n",
    "    for i in range(N_EPOCH):\n",
    "        train_loss = train_model(\n",
    "            model, train_dataloader, optimizer, scheduler, criteriation, DEVICE\n",
    "        )\n",
    "        train_loss_dict[optimizer_name].append(train_loss)\n",
    "        val_loss = validate_model(model, val_dataloader, criteriation, DEVICE)\n",
    "        val_loss_dict[optimizer_name].append(val_loss)\n",
    "        if final:\n",
    "            torch.save(\n",
    "                model.state_dict(), f\"{experiment_dir}/{EXPERIMENT_NAME}_{i}.pth\"\n",
    "            )\n",
    "        print(f\"Epoch {i+1}, train loss: {train_loss:.4f}, val loss: {val_loss:.4f}\")\n",
    "        logging.info(\n",
    "            f\"Epoch {i+1}, train loss: {train_loss:.4f}, val loss: {val_loss:.4f}\"\n",
    "        )"
   ]
  },
  {
   "cell_type": "code",
   "execution_count": 13,
   "metadata": {},
   "outputs": [],
   "source": [
    "# import torch.multiprocessing as mp\n",
    "# from torch.optim.lr_scheduler import ReduceLROnPlateau\n",
    "\n",
    "# # Set the multiprocessing start method to 'spawn'\n",
    "# mp.set_start_method(\"spawn\", force=True)\n",
    "model = MODEL_TYPE(5, 1, HIDDEN_WIDTH, HIDDEN_LAYER).to(DEVICE)\n",
    "logging.info(\n",
    "    f\"Total number of learnable parameters: {sum(p.numel() for p in model.parameters() if p.requires_grad)}\"\n",
    ")\n",
    "train_dataloader = DataLoader(\n",
    "    train_df,\n",
    "    batch_size=32,\n",
    "    shuffle=True,\n",
    "    num_workers=8,\n",
    "    # generator=torch.Generator(device=DEVICE),\n",
    ")\n",
    "val_dataloader = DataLoader(\n",
    "    test_df,\n",
    "    batch_size=32,\n",
    "    shuffle=False,\n",
    "    num_workers=8,\n",
    ")\n",
    "optimizers_list = {\n",
    "    \"RMSprop\": torch.optim.RMSprop(model.parameters(), lr=LEARNING_RATE),\n",
    "}\n",
    "criteriation = nn.MSELoss()"
   ]
  },
  {
   "cell_type": "code",
   "execution_count": 14,
   "metadata": {},
   "outputs": [
    {
     "name": "stdout",
     "output_type": "stream",
     "text": [
      "Optimizer: RMSprop\n"
     ]
    },
    {
     "name": "stderr",
     "output_type": "stream",
     "text": [
      "100%|██████████| 250/250 [00:02<00:00, 115.24it/s]\n",
      "100%|██████████| 63/63 [00:00<00:00, 267.71it/s]"
     ]
    },
    {
     "name": "stdout",
     "output_type": "stream",
     "text": [
      "Epoch 1, train loss: 291.7043, val loss: 283.4895\n"
     ]
    },
    {
     "name": "stderr",
     "output_type": "stream",
     "text": [
      "\n",
      "100%|██████████| 250/250 [00:02<00:00, 116.56it/s]\n",
      "100%|██████████| 63/63 [00:00<00:00, 271.62it/s]"
     ]
    },
    {
     "name": "stdout",
     "output_type": "stream",
     "text": [
      "Epoch 2, train loss: 288.3290, val loss: 283.9966\n"
     ]
    },
    {
     "name": "stderr",
     "output_type": "stream",
     "text": [
      "\n",
      "100%|██████████| 250/250 [00:01<00:00, 129.34it/s]\n",
      "100%|██████████| 63/63 [00:00<00:00, 272.25it/s]"
     ]
    },
    {
     "name": "stdout",
     "output_type": "stream",
     "text": [
      "Epoch 3, train loss: 287.1248, val loss: 288.7178\n"
     ]
    },
    {
     "name": "stderr",
     "output_type": "stream",
     "text": [
      "\n",
      "100%|██████████| 250/250 [00:02<00:00, 124.71it/s]\n",
      "100%|██████████| 63/63 [00:00<00:00, 304.49it/s]"
     ]
    },
    {
     "name": "stdout",
     "output_type": "stream",
     "text": [
      "Epoch 4, train loss: 286.4773, val loss: 282.7420\n"
     ]
    },
    {
     "name": "stderr",
     "output_type": "stream",
     "text": [
      "\n",
      "100%|██████████| 250/250 [00:02<00:00, 123.17it/s]\n",
      "100%|██████████| 63/63 [00:00<00:00, 294.35it/s]"
     ]
    },
    {
     "name": "stdout",
     "output_type": "stream",
     "text": [
      "Epoch 5, train loss: 286.1086, val loss: 287.0788\n"
     ]
    },
    {
     "name": "stderr",
     "output_type": "stream",
     "text": [
      "\n",
      "100%|██████████| 250/250 [00:02<00:00, 124.00it/s]\n",
      "100%|██████████| 63/63 [00:00<00:00, 275.07it/s]"
     ]
    },
    {
     "name": "stdout",
     "output_type": "stream",
     "text": [
      "Epoch 6, train loss: 285.8408, val loss: 282.5899\n"
     ]
    },
    {
     "name": "stderr",
     "output_type": "stream",
     "text": [
      "\n",
      "100%|██████████| 250/250 [00:02<00:00, 122.90it/s]\n",
      "100%|██████████| 63/63 [00:00<00:00, 268.08it/s]"
     ]
    },
    {
     "name": "stdout",
     "output_type": "stream",
     "text": [
      "Epoch 7, train loss: 286.1813, val loss: 282.9232\n"
     ]
    },
    {
     "name": "stderr",
     "output_type": "stream",
     "text": [
      "\n",
      "100%|██████████| 250/250 [00:02<00:00, 124.89it/s]\n",
      "100%|██████████| 63/63 [00:00<00:00, 264.49it/s]"
     ]
    },
    {
     "name": "stdout",
     "output_type": "stream",
     "text": [
      "Epoch 8, train loss: 285.6758, val loss: 286.0070\n"
     ]
    },
    {
     "name": "stderr",
     "output_type": "stream",
     "text": [
      "\n",
      "100%|██████████| 250/250 [00:01<00:00, 127.79it/s]\n",
      "100%|██████████| 63/63 [00:00<00:00, 289.70it/s]"
     ]
    },
    {
     "name": "stdout",
     "output_type": "stream",
     "text": [
      "Epoch 9, train loss: 285.1891, val loss: 283.4520\n"
     ]
    },
    {
     "name": "stderr",
     "output_type": "stream",
     "text": [
      "\n",
      "100%|██████████| 250/250 [00:01<00:00, 130.30it/s]\n",
      "100%|██████████| 63/63 [00:00<00:00, 273.30it/s]"
     ]
    },
    {
     "name": "stdout",
     "output_type": "stream",
     "text": [
      "Epoch 10, train loss: 285.2169, val loss: 283.1314\n"
     ]
    },
    {
     "name": "stderr",
     "output_type": "stream",
     "text": [
      "\n",
      "100%|██████████| 250/250 [00:01<00:00, 129.24it/s]\n",
      "100%|██████████| 63/63 [00:00<00:00, 286.49it/s]"
     ]
    },
    {
     "name": "stdout",
     "output_type": "stream",
     "text": [
      "Epoch 11, train loss: 285.0773, val loss: 287.6030\n"
     ]
    },
    {
     "name": "stderr",
     "output_type": "stream",
     "text": [
      "\n",
      "100%|██████████| 250/250 [00:01<00:00, 125.67it/s]\n",
      "100%|██████████| 63/63 [00:00<00:00, 278.24it/s]"
     ]
    },
    {
     "name": "stdout",
     "output_type": "stream",
     "text": [
      "Epoch 12, train loss: 285.2969, val loss: 284.2457\n"
     ]
    },
    {
     "name": "stderr",
     "output_type": "stream",
     "text": [
      "\n",
      "100%|██████████| 250/250 [00:01<00:00, 130.33it/s]\n",
      "100%|██████████| 63/63 [00:00<00:00, 298.87it/s]"
     ]
    },
    {
     "name": "stdout",
     "output_type": "stream",
     "text": [
      "Epoch 13, train loss: 285.1653, val loss: 284.7016\n"
     ]
    },
    {
     "name": "stderr",
     "output_type": "stream",
     "text": [
      "\n",
      "100%|██████████| 250/250 [00:02<00:00, 123.40it/s]\n",
      "100%|██████████| 63/63 [00:00<00:00, 265.46it/s]"
     ]
    },
    {
     "name": "stdout",
     "output_type": "stream",
     "text": [
      "Epoch 14, train loss: 285.5153, val loss: 284.7354\n"
     ]
    },
    {
     "name": "stderr",
     "output_type": "stream",
     "text": [
      "\n",
      "100%|██████████| 250/250 [00:01<00:00, 127.83it/s]\n",
      "100%|██████████| 63/63 [00:00<00:00, 268.68it/s]"
     ]
    },
    {
     "name": "stdout",
     "output_type": "stream",
     "text": [
      "Epoch 15, train loss: 284.9977, val loss: 283.1604\n"
     ]
    },
    {
     "name": "stderr",
     "output_type": "stream",
     "text": [
      "\n",
      "100%|██████████| 250/250 [00:01<00:00, 129.27it/s]\n",
      "100%|██████████| 63/63 [00:00<00:00, 284.38it/s]"
     ]
    },
    {
     "name": "stdout",
     "output_type": "stream",
     "text": [
      "Epoch 16, train loss: 285.5063, val loss: 284.4567\n"
     ]
    },
    {
     "name": "stderr",
     "output_type": "stream",
     "text": [
      "\n",
      "100%|██████████| 250/250 [00:01<00:00, 131.31it/s]\n",
      "100%|██████████| 63/63 [00:00<00:00, 287.85it/s]"
     ]
    },
    {
     "name": "stdout",
     "output_type": "stream",
     "text": [
      "Epoch 17, train loss: 284.8570, val loss: 285.2886\n"
     ]
    },
    {
     "name": "stderr",
     "output_type": "stream",
     "text": [
      "\n",
      "100%|██████████| 250/250 [00:02<00:00, 124.40it/s]\n",
      "100%|██████████| 63/63 [00:00<00:00, 282.06it/s]"
     ]
    },
    {
     "name": "stdout",
     "output_type": "stream",
     "text": [
      "Epoch 18, train loss: 284.9496, val loss: 284.5039\n"
     ]
    },
    {
     "name": "stderr",
     "output_type": "stream",
     "text": [
      "\n",
      "100%|██████████| 250/250 [00:01<00:00, 126.18it/s]\n",
      "100%|██████████| 63/63 [00:00<00:00, 302.73it/s]"
     ]
    },
    {
     "name": "stdout",
     "output_type": "stream",
     "text": [
      "Epoch 19, train loss: 284.7875, val loss: 283.7983\n"
     ]
    },
    {
     "name": "stderr",
     "output_type": "stream",
     "text": [
      "\n",
      "100%|██████████| 250/250 [00:01<00:00, 128.57it/s]\n",
      "100%|██████████| 63/63 [00:00<00:00, 281.85it/s]"
     ]
    },
    {
     "name": "stdout",
     "output_type": "stream",
     "text": [
      "Epoch 20, train loss: 285.0246, val loss: 283.3273\n"
     ]
    },
    {
     "name": "stderr",
     "output_type": "stream",
     "text": [
      "\n",
      "100%|██████████| 250/250 [00:01<00:00, 130.58it/s]\n",
      "100%|██████████| 63/63 [00:00<00:00, 292.55it/s]"
     ]
    },
    {
     "name": "stdout",
     "output_type": "stream",
     "text": [
      "Epoch 21, train loss: 284.9507, val loss: 282.5053\n"
     ]
    },
    {
     "name": "stderr",
     "output_type": "stream",
     "text": [
      "\n",
      "100%|██████████| 250/250 [00:01<00:00, 128.53it/s]\n",
      "100%|██████████| 63/63 [00:00<00:00, 289.93it/s]"
     ]
    },
    {
     "name": "stdout",
     "output_type": "stream",
     "text": [
      "Epoch 22, train loss: 284.5768, val loss: 286.1909\n"
     ]
    },
    {
     "name": "stderr",
     "output_type": "stream",
     "text": [
      "\n",
      "100%|██████████| 250/250 [00:01<00:00, 130.11it/s]\n",
      "100%|██████████| 63/63 [00:00<00:00, 297.63it/s]"
     ]
    },
    {
     "name": "stdout",
     "output_type": "stream",
     "text": [
      "Epoch 23, train loss: 284.9575, val loss: 283.4178\n"
     ]
    },
    {
     "name": "stderr",
     "output_type": "stream",
     "text": [
      "\n",
      "100%|██████████| 250/250 [00:01<00:00, 129.37it/s]\n",
      "100%|██████████| 63/63 [00:00<00:00, 276.18it/s]"
     ]
    },
    {
     "name": "stdout",
     "output_type": "stream",
     "text": [
      "Epoch 24, train loss: 284.6381, val loss: 285.2404\n"
     ]
    },
    {
     "name": "stderr",
     "output_type": "stream",
     "text": [
      "\n",
      "100%|██████████| 250/250 [00:01<00:00, 128.61it/s]\n",
      "100%|██████████| 63/63 [00:00<00:00, 302.66it/s]"
     ]
    },
    {
     "name": "stdout",
     "output_type": "stream",
     "text": [
      "Epoch 25, train loss: 284.5972, val loss: 282.8045\n"
     ]
    },
    {
     "name": "stderr",
     "output_type": "stream",
     "text": [
      "\n",
      "100%|██████████| 250/250 [00:01<00:00, 132.86it/s]\n",
      "100%|██████████| 63/63 [00:00<00:00, 271.46it/s]"
     ]
    },
    {
     "name": "stdout",
     "output_type": "stream",
     "text": [
      "Epoch 26, train loss: 284.8442, val loss: 283.6101\n"
     ]
    },
    {
     "name": "stderr",
     "output_type": "stream",
     "text": [
      "\n",
      "100%|██████████| 250/250 [00:01<00:00, 131.40it/s]\n",
      "100%|██████████| 63/63 [00:00<00:00, 273.24it/s]"
     ]
    },
    {
     "name": "stdout",
     "output_type": "stream",
     "text": [
      "Epoch 27, train loss: 284.5386, val loss: 284.3390\n"
     ]
    },
    {
     "name": "stderr",
     "output_type": "stream",
     "text": [
      "\n",
      "100%|██████████| 250/250 [00:01<00:00, 133.65it/s]\n",
      "100%|██████████| 63/63 [00:00<00:00, 306.07it/s]"
     ]
    },
    {
     "name": "stdout",
     "output_type": "stream",
     "text": [
      "Epoch 28, train loss: 284.5893, val loss: 283.4372\n"
     ]
    },
    {
     "name": "stderr",
     "output_type": "stream",
     "text": [
      "\n",
      "100%|██████████| 250/250 [00:01<00:00, 129.83it/s]\n",
      "100%|██████████| 63/63 [00:00<00:00, 289.36it/s]"
     ]
    },
    {
     "name": "stdout",
     "output_type": "stream",
     "text": [
      "Epoch 29, train loss: 284.7016, val loss: 284.0803\n"
     ]
    },
    {
     "name": "stderr",
     "output_type": "stream",
     "text": [
      "\n",
      "100%|██████████| 250/250 [00:01<00:00, 127.44it/s]\n",
      "100%|██████████| 63/63 [00:00<00:00, 262.51it/s]"
     ]
    },
    {
     "name": "stdout",
     "output_type": "stream",
     "text": [
      "Epoch 30, train loss: 284.5812, val loss: 282.9096\n"
     ]
    },
    {
     "name": "stderr",
     "output_type": "stream",
     "text": [
      "\n",
      "100%|██████████| 250/250 [00:02<00:00, 124.16it/s]\n",
      "100%|██████████| 63/63 [00:00<00:00, 298.81it/s]"
     ]
    },
    {
     "name": "stdout",
     "output_type": "stream",
     "text": [
      "Epoch 31, train loss: 284.4980, val loss: 283.0494\n"
     ]
    },
    {
     "name": "stderr",
     "output_type": "stream",
     "text": [
      "\n",
      "100%|██████████| 250/250 [00:01<00:00, 128.33it/s]\n",
      "100%|██████████| 63/63 [00:00<00:00, 274.60it/s]"
     ]
    },
    {
     "name": "stdout",
     "output_type": "stream",
     "text": [
      "Epoch 32, train loss: 284.3937, val loss: 282.8783\n"
     ]
    },
    {
     "name": "stderr",
     "output_type": "stream",
     "text": [
      "\n",
      "100%|██████████| 250/250 [00:01<00:00, 131.70it/s]\n",
      "100%|██████████| 63/63 [00:00<00:00, 300.92it/s]"
     ]
    },
    {
     "name": "stdout",
     "output_type": "stream",
     "text": [
      "Epoch 33, train loss: 284.3430, val loss: 283.2051\n"
     ]
    },
    {
     "name": "stderr",
     "output_type": "stream",
     "text": [
      "\n",
      "100%|██████████| 250/250 [00:02<00:00, 122.85it/s]\n",
      "100%|██████████| 63/63 [00:00<00:00, 268.84it/s]"
     ]
    },
    {
     "name": "stdout",
     "output_type": "stream",
     "text": [
      "Epoch 34, train loss: 284.3749, val loss: 284.3448\n"
     ]
    },
    {
     "name": "stderr",
     "output_type": "stream",
     "text": [
      "\n",
      "100%|██████████| 250/250 [00:02<00:00, 124.76it/s]\n",
      "100%|██████████| 63/63 [00:00<00:00, 274.51it/s]"
     ]
    },
    {
     "name": "stdout",
     "output_type": "stream",
     "text": [
      "Epoch 35, train loss: 284.2347, val loss: 283.8463\n"
     ]
    },
    {
     "name": "stderr",
     "output_type": "stream",
     "text": [
      "\n",
      "100%|██████████| 250/250 [00:01<00:00, 127.58it/s]\n",
      "100%|██████████| 63/63 [00:00<00:00, 264.81it/s]"
     ]
    },
    {
     "name": "stdout",
     "output_type": "stream",
     "text": [
      "Epoch 36, train loss: 284.2850, val loss: 282.8606\n"
     ]
    },
    {
     "name": "stderr",
     "output_type": "stream",
     "text": [
      "\n",
      "100%|██████████| 250/250 [00:01<00:00, 128.33it/s]\n",
      "100%|██████████| 63/63 [00:00<00:00, 297.81it/s]"
     ]
    },
    {
     "name": "stdout",
     "output_type": "stream",
     "text": [
      "Epoch 37, train loss: 284.2529, val loss: 283.5516\n"
     ]
    },
    {
     "name": "stderr",
     "output_type": "stream",
     "text": [
      "\n",
      "100%|██████████| 250/250 [00:01<00:00, 128.18it/s]\n",
      "100%|██████████| 63/63 [00:00<00:00, 296.67it/s]"
     ]
    },
    {
     "name": "stdout",
     "output_type": "stream",
     "text": [
      "Epoch 38, train loss: 284.2899, val loss: 283.1052\n"
     ]
    },
    {
     "name": "stderr",
     "output_type": "stream",
     "text": [
      "\n",
      "100%|██████████| 250/250 [00:01<00:00, 129.23it/s]\n",
      "100%|██████████| 63/63 [00:00<00:00, 285.53it/s]"
     ]
    },
    {
     "name": "stdout",
     "output_type": "stream",
     "text": [
      "Epoch 39, train loss: 284.0666, val loss: 282.9836\n"
     ]
    },
    {
     "name": "stderr",
     "output_type": "stream",
     "text": [
      "\n",
      "100%|██████████| 250/250 [00:01<00:00, 128.30it/s]\n",
      "100%|██████████| 63/63 [00:00<00:00, 307.48it/s]"
     ]
    },
    {
     "name": "stdout",
     "output_type": "stream",
     "text": [
      "Epoch 40, train loss: 284.0653, val loss: 282.8917\n"
     ]
    },
    {
     "name": "stderr",
     "output_type": "stream",
     "text": [
      "\n",
      "100%|██████████| 250/250 [00:01<00:00, 130.11it/s]\n",
      "100%|██████████| 63/63 [00:00<00:00, 284.58it/s]"
     ]
    },
    {
     "name": "stdout",
     "output_type": "stream",
     "text": [
      "Epoch 41, train loss: 284.0489, val loss: 283.4243\n"
     ]
    },
    {
     "name": "stderr",
     "output_type": "stream",
     "text": [
      "\n",
      "100%|██████████| 250/250 [00:01<00:00, 127.69it/s]\n",
      "100%|██████████| 63/63 [00:00<00:00, 251.13it/s]"
     ]
    },
    {
     "name": "stdout",
     "output_type": "stream",
     "text": [
      "Epoch 42, train loss: 283.9885, val loss: 282.9823\n"
     ]
    },
    {
     "name": "stderr",
     "output_type": "stream",
     "text": [
      "\n",
      "100%|██████████| 250/250 [00:01<00:00, 130.36it/s]\n",
      "100%|██████████| 63/63 [00:00<00:00, 233.32it/s]"
     ]
    },
    {
     "name": "stdout",
     "output_type": "stream",
     "text": [
      "Epoch 43, train loss: 283.9205, val loss: 283.3473\n"
     ]
    },
    {
     "name": "stderr",
     "output_type": "stream",
     "text": [
      "\n",
      "100%|██████████| 250/250 [00:01<00:00, 128.39it/s]\n",
      "100%|██████████| 63/63 [00:00<00:00, 284.59it/s]"
     ]
    },
    {
     "name": "stdout",
     "output_type": "stream",
     "text": [
      "Epoch 44, train loss: 283.8655, val loss: 283.2490\n"
     ]
    },
    {
     "name": "stderr",
     "output_type": "stream",
     "text": [
      "\n",
      "100%|██████████| 250/250 [00:01<00:00, 127.95it/s]\n",
      "100%|██████████| 63/63 [00:00<00:00, 287.94it/s]"
     ]
    },
    {
     "name": "stdout",
     "output_type": "stream",
     "text": [
      "Epoch 45, train loss: 283.9578, val loss: 283.1957\n"
     ]
    },
    {
     "name": "stderr",
     "output_type": "stream",
     "text": [
      "\n",
      "100%|██████████| 250/250 [00:01<00:00, 131.89it/s]\n",
      "100%|██████████| 63/63 [00:00<00:00, 278.61it/s]"
     ]
    },
    {
     "name": "stdout",
     "output_type": "stream",
     "text": [
      "Epoch 46, train loss: 283.9074, val loss: 283.1223\n"
     ]
    },
    {
     "name": "stderr",
     "output_type": "stream",
     "text": [
      "\n",
      "100%|██████████| 250/250 [00:01<00:00, 126.29it/s]\n",
      "100%|██████████| 63/63 [00:00<00:00, 304.71it/s]"
     ]
    },
    {
     "name": "stdout",
     "output_type": "stream",
     "text": [
      "Epoch 47, train loss: 283.8846, val loss: 283.1420\n"
     ]
    },
    {
     "name": "stderr",
     "output_type": "stream",
     "text": [
      "\n",
      "100%|██████████| 250/250 [00:01<00:00, 126.66it/s]\n",
      "100%|██████████| 63/63 [00:00<00:00, 304.72it/s]"
     ]
    },
    {
     "name": "stdout",
     "output_type": "stream",
     "text": [
      "Epoch 48, train loss: 283.8700, val loss: 283.1987\n"
     ]
    },
    {
     "name": "stderr",
     "output_type": "stream",
     "text": [
      "\n",
      "100%|██████████| 250/250 [00:01<00:00, 130.82it/s]\n",
      "100%|██████████| 63/63 [00:00<00:00, 306.04it/s]"
     ]
    },
    {
     "name": "stdout",
     "output_type": "stream",
     "text": [
      "Epoch 49, train loss: 283.8598, val loss: 283.5497\n"
     ]
    },
    {
     "name": "stderr",
     "output_type": "stream",
     "text": [
      "\n",
      "100%|██████████| 250/250 [00:01<00:00, 132.35it/s]\n",
      "100%|██████████| 63/63 [00:00<00:00, 294.78it/s]"
     ]
    },
    {
     "name": "stdout",
     "output_type": "stream",
     "text": [
      "Epoch 50, train loss: 283.8274, val loss: 283.2321\n"
     ]
    },
    {
     "name": "stderr",
     "output_type": "stream",
     "text": [
      "\n"
     ]
    }
   ],
   "source": [
    "train_loss_dict = {}\n",
    "test_loss_dict = {}\n",
    "for name, optimizer in optimizers_list.items():\n",
    "    train_cycle(name, optimizer, train_loss_dict, test_loss_dict, final=True)"
   ]
  },
  {
   "cell_type": "code",
   "execution_count": 15,
   "metadata": {},
   "outputs": [
    {
     "data": {
      "image/png": "[encoded data removed]",
      "text/plain": [
       "<Figure size 1200x600 with 2 Axes>"
      ]
     },
     "metadata": {},
     "output_type": "display_data"
    }
   ],
   "source": [
    "plot_dictionaries(\n",
    "    train_loss_dict,\n",
    "    test_loss_dict,\n",
    "    initial_mse_train,\n",
    "    initial_mse_val,\n",
    "    f\"{experiment_dir}/{EXPERIMENT_NAME}_final.png\",\n",
    ")"
   ]
  },
  {
   "cell_type": "code",
   "execution_count": 16,
   "metadata": {},
   "outputs": [],
   "source": [
    "import json\n",
    "\n",
    "file_path = f\"{experiment_dir}/{EXPERIMENT_NAME}_train.json\"\n",
    "with open(file_path, \"w\") as json_file:\n",
    "    json.dump(train_loss_dict, json_file)\n",
    "\n",
    "file_path = f\"{experiment_dir}/{EXPERIMENT_NAME}_test.json\"\n",
    "with open(file_path, \"w\") as json_file:\n",
    "    json.dump(test_loss_dict, json_file)"
   ]
  },
  {
   "cell_type": "code",
   "execution_count": 18,
   "metadata": {},
   "outputs": [],
   "source": [
    "logging.info(\n",
    "    f\"% of variation before training: {(initial_mse_train/(df_train.TargetPrice - df_train.BSAprox).var() * 100).round(2)}\"\n",
    ")\n",
    "logging.info(\n",
    "    f\"% of variation after training: {(train_loss_dict['RMSprop'][40]/ (df_train.TargetPrice - df_train.BSAprox).var() * 100).round(2)}\"\n",
    ")\n",
    "logging.info(\n",
    "    f\"% of variation before training: {(initial_mse_val/(df_test.TargetPrice - df_test.BSAprox).var() * 100).round(2)}\"\n",
    ")\n",
    "logging.info(\n",
    "    f\"% of variation after training: {(test_loss_dict['RMSprop'][40] / (df_test.TargetPrice - df_test.BSAprox).var() * 100).round(2)}\"\n",
    ")"
   ]
  },
  {
   "cell_type": "code",
   "execution_count": 29,
   "metadata": {},
   "outputs": [],
   "source": [
    "def train_model(model, train_dataloader, optimizer, scheduler, criteriation, device):\n",
    "    model.train()\n",
    "    train_losses = []\n",
    "    for batch_idx, data in tqdm(\n",
    "        enumerate(train_dataloader), total=len(train_dataloader)\n",
    "    ):\n",
    "        optimizer.zero_grad()\n",
    "        inputs = data[\"input\"].to(device)\n",
    "        outputs = data[\"output\"].to(device).view(-1, 1)\n",
    "        pred = model(inputs).view(-1, 1)\n",
    "        loss = criteriation(outputs, pred)\n",
    "        loss.backward()\n",
    "        optimizer.step()\n",
    "        train_losses.append(loss.item())\n",
    "    scheduler.step(np.mean(train_losses))  # Step the scheduler based on training loss\n",
    "    return np.mean(train_losses)\n",
    "\n",
    "\n",
    "def validate_model(model, val_dataloader, criteriation, device):\n",
    "    model.eval()\n",
    "    val_losses = []\n",
    "    with torch.no_grad():\n",
    "        for batch_idx, data in tqdm(\n",
    "            enumerate(val_dataloader), total=len(val_dataloader)\n",
    "        ):\n",
    "            inputs = data[\"input\"].to(device)\n",
    "            outputs = data[\"output\"].to(device).view(-1, 1)\n",
    "            pred = model(inputs).view(-1, 1)\n",
    "            loss = criteriation(outputs, pred)\n",
    "            val_losses.append(loss.item())\n",
    "    return np.mean(val_losses)\n",
    "\n",
    "\n",
    "def train_cycle(optimizer_name, optimizer, train_loss_dict, val_loss_dict, final=False):\n",
    "    print(f\"Optimizer: {optimizer_name}\")\n",
    "    train_loss_dict[optimizer_name] = []\n",
    "    val_loss_dict[optimizer_name] = []\n",
    "    logging.info(f\"Optimizer: {optimizer_name}\")\n",
    "\n",
    "    # Define the ReduceLROnPlateau scheduler\n",
    "    scheduler = ReduceLROnPlateau(optimizer, mode=\"min\", patience=5, verbose=True)\n",
    "\n",
    "    for i in range(N_EPOCH, 100):\n",
    "        train_loss = train_model(\n",
    "            model, train_dataloader, optimizer, scheduler, criteriation, DEVICE\n",
    "        )\n",
    "        train_loss_dict[optimizer_name].append(train_loss)\n",
    "        val_loss = validate_model(model, val_dataloader, criteriation, DEVICE)\n",
    "        val_loss_dict[optimizer_name].append(val_loss)\n",
    "        if final:\n",
    "            torch.save(\n",
    "                model.state_dict(), f\"{experiment_dir}/{EXPERIMENT_NAME}_{i}.pth\"\n",
    "            )\n",
    "        print(f\"Epoch {i+1}, train loss: {train_loss:.4f}, test loss: {val_loss:.4f}\")\n",
    "        logging.info(\n",
    "            f\"Epoch {i+1}, train loss: {train_loss:.4f}, test loss: {val_loss:.4f}\"\n",
    "        )"
   ]
  },
  {
   "cell_type": "code",
   "execution_count": 30,
   "metadata": {},
   "outputs": [
    {
     "name": "stdout",
     "output_type": "stream",
     "text": [
      "Optimizer: Adam\n"
     ]
    },
    {
     "name": "stderr",
     "output_type": "stream",
     "text": [
      "100%|██████████| 2791/2791 [00:20<00:00, 138.65it/s]\n",
      "100%|██████████| 698/698 [00:02<00:00, 346.55it/s]"
     ]
    },
    {
     "name": "stdout",
     "output_type": "stream",
     "text": [
      "Epoch 51, train loss: 15.1520, test loss: 15.0572\n"
     ]
    },
    {
     "name": "stderr",
     "output_type": "stream",
     "text": [
      "\n",
      "100%|██████████| 2791/2791 [00:21<00:00, 127.89it/s]\n",
      "100%|██████████| 698/698 [00:02<00:00, 321.40it/s]"
     ]
    },
    {
     "name": "stdout",
     "output_type": "stream",
     "text": [
      "Epoch 52, train loss: 15.3887, test loss: 14.7960\n"
     ]
    },
    {
     "name": "stderr",
     "output_type": "stream",
     "text": [
      "\n",
      "100%|██████████| 2791/2791 [00:23<00:00, 116.50it/s]\n",
      "100%|██████████| 698/698 [00:01<00:00, 350.77it/s]"
     ]
    },
    {
     "name": "stdout",
     "output_type": "stream",
     "text": [
      "Epoch 53, train loss: 15.1600, test loss: 15.0739\n"
     ]
    },
    {
     "name": "stderr",
     "output_type": "stream",
     "text": [
      "\n",
      "100%|██████████| 2791/2791 [00:20<00:00, 133.95it/s]\n",
      "100%|██████████| 698/698 [00:01<00:00, 362.00it/s]"
     ]
    },
    {
     "name": "stdout",
     "output_type": "stream",
     "text": [
      "Epoch 54, train loss: 15.5402, test loss: 14.8740\n"
     ]
    },
    {
     "name": "stderr",
     "output_type": "stream",
     "text": [
      "\n",
      "100%|██████████| 2791/2791 [00:20<00:00, 137.82it/s]\n",
      "100%|██████████| 698/698 [00:01<00:00, 357.46it/s]"
     ]
    },
    {
     "name": "stdout",
     "output_type": "stream",
     "text": [
      "Epoch 55, train loss: 15.3245, test loss: 14.9195\n"
     ]
    },
    {
     "name": "stderr",
     "output_type": "stream",
     "text": [
      "\n",
      "100%|██████████| 2791/2791 [00:20<00:00, 138.72it/s]\n",
      "100%|██████████| 698/698 [00:01<00:00, 368.30it/s]"
     ]
    },
    {
     "name": "stdout",
     "output_type": "stream",
     "text": [
      "Epoch 56, train loss: 14.5784, test loss: 15.5519\n"
     ]
    },
    {
     "name": "stderr",
     "output_type": "stream",
     "text": [
      "\n",
      "100%|██████████| 2791/2791 [00:20<00:00, 136.41it/s]\n",
      "100%|██████████| 698/698 [00:01<00:00, 362.18it/s]"
     ]
    },
    {
     "name": "stdout",
     "output_type": "stream",
     "text": [
      "Epoch 57, train loss: 14.6905, test loss: 15.2107\n"
     ]
    },
    {
     "name": "stderr",
     "output_type": "stream",
     "text": [
      "\n",
      "100%|██████████| 2791/2791 [00:20<00:00, 136.62it/s]\n",
      "100%|██████████| 698/698 [00:01<00:00, 363.73it/s]"
     ]
    },
    {
     "name": "stdout",
     "output_type": "stream",
     "text": [
      "Epoch 58, train loss: 14.7698, test loss: 15.0287\n"
     ]
    },
    {
     "name": "stderr",
     "output_type": "stream",
     "text": [
      "\n",
      "100%|██████████| 2791/2791 [00:19<00:00, 139.83it/s]\n",
      "100%|██████████| 698/698 [00:01<00:00, 366.32it/s]"
     ]
    },
    {
     "name": "stdout",
     "output_type": "stream",
     "text": [
      "Epoch 59, train loss: 14.6966, test loss: 14.9380\n"
     ]
    },
    {
     "name": "stderr",
     "output_type": "stream",
     "text": [
      "\n",
      "100%|██████████| 2791/2791 [00:20<00:00, 137.75it/s]\n",
      "100%|██████████| 698/698 [00:01<00:00, 360.32it/s]"
     ]
    },
    {
     "name": "stdout",
     "output_type": "stream",
     "text": [
      "Epoch 60, train loss: 14.7310, test loss: 14.8965\n"
     ]
    },
    {
     "name": "stderr",
     "output_type": "stream",
     "text": [
      "\n",
      "100%|██████████| 2791/2791 [00:20<00:00, 134.27it/s]\n",
      "100%|██████████| 698/698 [00:01<00:00, 367.51it/s]"
     ]
    },
    {
     "name": "stdout",
     "output_type": "stream",
     "text": [
      "Epoch 61, train loss: 15.1140, test loss: 14.9883\n"
     ]
    },
    {
     "name": "stderr",
     "output_type": "stream",
     "text": [
      "\n",
      "100%|██████████| 2791/2791 [00:20<00:00, 133.78it/s]"
     ]
    },
    {
     "name": "stdout",
     "output_type": "stream",
     "text": [
      "Epoch 00012: reducing learning rate of group 0 to 3.0000e-06.\n"
     ]
    },
    {
     "name": "stderr",
     "output_type": "stream",
     "text": [
      "\n",
      "100%|██████████| 698/698 [00:02<00:00, 348.21it/s]"
     ]
    },
    {
     "name": "stdout",
     "output_type": "stream",
     "text": [
      "Epoch 62, train loss: 15.0032, test loss: 15.0009\n"
     ]
    },
    {
     "name": "stderr",
     "output_type": "stream",
     "text": [
      "\n",
      "100%|██████████| 2791/2791 [00:22<00:00, 125.89it/s]\n",
      "100%|██████████| 698/698 [00:02<00:00, 333.69it/s]\n"
     ]
    },
    {
     "name": "stdout",
     "output_type": "stream",
     "text": [
      "Epoch 63, train loss: 13.9765, test loss: 14.9068\n"
     ]
    },
    {
     "name": "stderr",
     "output_type": "stream",
     "text": [
      "100%|██████████| 2791/2791 [00:19<00:00, 143.00it/s]\n",
      "100%|██████████| 698/698 [00:01<00:00, 383.90it/s]"
     ]
    },
    {
     "name": "stdout",
     "output_type": "stream",
     "text": [
      "Epoch 64, train loss: 13.9467, test loss: 14.8981\n"
     ]
    },
    {
     "name": "stderr",
     "output_type": "stream",
     "text": [
      "\n",
      "100%|██████████| 2791/2791 [00:19<00:00, 144.26it/s]\n",
      "100%|██████████| 698/698 [00:01<00:00, 386.41it/s]"
     ]
    },
    {
     "name": "stdout",
     "output_type": "stream",
     "text": [
      "Epoch 65, train loss: 13.9420, test loss: 14.8892\n"
     ]
    },
    {
     "name": "stderr",
     "output_type": "stream",
     "text": [
      "\n",
      "100%|██████████| 2791/2791 [00:19<00:00, 142.91it/s]\n",
      "100%|██████████| 698/698 [00:01<00:00, 385.55it/s]"
     ]
    },
    {
     "name": "stdout",
     "output_type": "stream",
     "text": [
      "Epoch 66, train loss: 13.9126, test loss: 14.8817\n"
     ]
    },
    {
     "name": "stderr",
     "output_type": "stream",
     "text": [
      "\n",
      "100%|██████████| 2791/2791 [00:19<00:00, 142.67it/s]\n",
      "100%|██████████| 698/698 [00:01<00:00, 383.74it/s]"
     ]
    },
    {
     "name": "stdout",
     "output_type": "stream",
     "text": [
      "Epoch 67, train loss: 13.9087, test loss: 14.8849\n"
     ]
    },
    {
     "name": "stderr",
     "output_type": "stream",
     "text": [
      "\n",
      "100%|██████████| 2791/2791 [00:19<00:00, 143.64it/s]\n",
      "100%|██████████| 698/698 [00:01<00:00, 386.19it/s]"
     ]
    },
    {
     "name": "stdout",
     "output_type": "stream",
     "text": [
      "Epoch 68, train loss: 13.8657, test loss: 14.8844\n"
     ]
    },
    {
     "name": "stderr",
     "output_type": "stream",
     "text": [
      "\n",
      "100%|██████████| 2791/2791 [00:19<00:00, 144.76it/s]\n",
      "100%|██████████| 698/698 [00:01<00:00, 381.88it/s]"
     ]
    },
    {
     "name": "stdout",
     "output_type": "stream",
     "text": [
      "Epoch 69, train loss: 13.8717, test loss: 14.8792\n"
     ]
    },
    {
     "name": "stderr",
     "output_type": "stream",
     "text": [
      "\n",
      "100%|██████████| 2791/2791 [00:19<00:00, 144.07it/s]\n",
      "100%|██████████| 698/698 [00:01<00:00, 382.20it/s]"
     ]
    },
    {
     "name": "stdout",
     "output_type": "stream",
     "text": [
      "Epoch 70, train loss: 13.8497, test loss: 14.8795\n"
     ]
    },
    {
     "name": "stderr",
     "output_type": "stream",
     "text": [
      "\n",
      "100%|██████████| 2791/2791 [00:19<00:00, 139.94it/s]\n",
      "100%|██████████| 698/698 [00:01<00:00, 376.96it/s]\n"
     ]
    },
    {
     "name": "stdout",
     "output_type": "stream",
     "text": [
      "Epoch 71, train loss: 13.8242, test loss: 14.8854\n"
     ]
    },
    {
     "name": "stderr",
     "output_type": "stream",
     "text": [
      "100%|██████████| 2791/2791 [00:20<00:00, 138.38it/s]\n",
      "100%|██████████| 698/698 [00:01<00:00, 352.94it/s]"
     ]
    },
    {
     "name": "stdout",
     "output_type": "stream",
     "text": [
      "Epoch 72, train loss: 13.8136, test loss: 14.9072\n"
     ]
    },
    {
     "name": "stderr",
     "output_type": "stream",
     "text": [
      "\n",
      "100%|██████████| 2791/2791 [00:22<00:00, 126.40it/s]\n",
      "100%|██████████| 698/698 [00:02<00:00, 341.90it/s]"
     ]
    },
    {
     "name": "stdout",
     "output_type": "stream",
     "text": [
      "Epoch 73, train loss: 13.8525, test loss: 14.8810\n"
     ]
    },
    {
     "name": "stderr",
     "output_type": "stream",
     "text": [
      "\n",
      "100%|██████████| 2791/2791 [00:20<00:00, 138.16it/s]\n",
      "100%|██████████| 698/698 [00:02<00:00, 342.65it/s]"
     ]
    },
    {
     "name": "stdout",
     "output_type": "stream",
     "text": [
      "Epoch 74, train loss: 13.7920, test loss: 14.8710\n"
     ]
    },
    {
     "name": "stderr",
     "output_type": "stream",
     "text": [
      "\n",
      "100%|██████████| 2791/2791 [00:19<00:00, 140.08it/s]\n",
      "100%|██████████| 698/698 [00:01<00:00, 356.31it/s]"
     ]
    },
    {
     "name": "stdout",
     "output_type": "stream",
     "text": [
      "Epoch 75, train loss: 13.8038, test loss: 14.8800\n"
     ]
    },
    {
     "name": "stderr",
     "output_type": "stream",
     "text": [
      "\n",
      "100%|██████████| 2791/2791 [00:19<00:00, 142.34it/s]\n",
      "100%|██████████| 698/698 [00:01<00:00, 395.53it/s]"
     ]
    },
    {
     "name": "stdout",
     "output_type": "stream",
     "text": [
      "Epoch 76, train loss: 13.7929, test loss: 14.8801\n"
     ]
    },
    {
     "name": "stderr",
     "output_type": "stream",
     "text": [
      "\n",
      "100%|██████████| 2791/2791 [00:19<00:00, 143.30it/s]\n",
      "100%|██████████| 698/698 [00:01<00:00, 409.48it/s]"
     ]
    },
    {
     "name": "stdout",
     "output_type": "stream",
     "text": [
      "Epoch 77, train loss: 13.7795, test loss: 14.8827\n"
     ]
    },
    {
     "name": "stderr",
     "output_type": "stream",
     "text": [
      "\n",
      "100%|██████████| 2791/2791 [00:19<00:00, 141.03it/s]\n",
      "100%|██████████| 698/698 [00:01<00:00, 355.67it/s]"
     ]
    },
    {
     "name": "stdout",
     "output_type": "stream",
     "text": [
      "Epoch 78, train loss: 13.7519, test loss: 14.9581\n"
     ]
    },
    {
     "name": "stderr",
     "output_type": "stream",
     "text": [
      "\n",
      "100%|██████████| 2791/2791 [00:21<00:00, 129.50it/s]\n",
      "100%|██████████| 698/698 [00:01<00:00, 358.27it/s]"
     ]
    },
    {
     "name": "stdout",
     "output_type": "stream",
     "text": [
      "Epoch 79, train loss: 13.7587, test loss: 14.8782\n"
     ]
    },
    {
     "name": "stderr",
     "output_type": "stream",
     "text": [
      "\n",
      "100%|██████████| 2791/2791 [00:21<00:00, 127.89it/s]\n",
      "100%|██████████| 698/698 [00:02<00:00, 341.55it/s]"
     ]
    },
    {
     "name": "stdout",
     "output_type": "stream",
     "text": [
      "Epoch 80, train loss: 13.7785, test loss: 14.9013\n"
     ]
    },
    {
     "name": "stderr",
     "output_type": "stream",
     "text": [
      "\n",
      "100%|██████████| 2791/2791 [00:22<00:00, 126.51it/s]\n",
      "100%|██████████| 698/698 [00:01<00:00, 353.28it/s]"
     ]
    },
    {
     "name": "stdout",
     "output_type": "stream",
     "text": [
      "Epoch 81, train loss: 13.7422, test loss: 14.8886\n"
     ]
    },
    {
     "name": "stderr",
     "output_type": "stream",
     "text": [
      "\n",
      "100%|██████████| 2791/2791 [00:20<00:00, 134.04it/s]\n",
      "100%|██████████| 698/698 [00:01<00:00, 397.55it/s]"
     ]
    },
    {
     "name": "stdout",
     "output_type": "stream",
     "text": [
      "Epoch 82, train loss: 13.7631, test loss: 14.8928\n"
     ]
    },
    {
     "name": "stderr",
     "output_type": "stream",
     "text": [
      "\n",
      "100%|██████████| 2791/2791 [00:20<00:00, 138.95it/s]\n",
      "100%|██████████| 698/698 [00:02<00:00, 336.77it/s]"
     ]
    },
    {
     "name": "stdout",
     "output_type": "stream",
     "text": [
      "Epoch 83, train loss: 13.7549, test loss: 14.8892\n"
     ]
    },
    {
     "name": "stderr",
     "output_type": "stream",
     "text": [
      "\n",
      "100%|██████████| 2791/2791 [00:20<00:00, 134.47it/s]\n",
      "100%|██████████| 698/698 [00:01<00:00, 367.69it/s]"
     ]
    },
    {
     "name": "stdout",
     "output_type": "stream",
     "text": [
      "Epoch 84, train loss: 13.7512, test loss: 14.8932\n"
     ]
    },
    {
     "name": "stderr",
     "output_type": "stream",
     "text": [
      "\n",
      "100%|██████████| 2791/2791 [00:20<00:00, 134.79it/s]\n",
      "100%|██████████| 698/698 [00:01<00:00, 352.76it/s]"
     ]
    },
    {
     "name": "stdout",
     "output_type": "stream",
     "text": [
      "Epoch 85, train loss: 13.7179, test loss: 14.8955\n"
     ]
    },
    {
     "name": "stderr",
     "output_type": "stream",
     "text": [
      "\n",
      "100%|██████████| 2791/2791 [00:20<00:00, 138.66it/s]\n",
      "100%|██████████| 698/698 [00:01<00:00, 364.66it/s]"
     ]
    },
    {
     "name": "stdout",
     "output_type": "stream",
     "text": [
      "Epoch 86, train loss: 13.7321, test loss: 14.9013\n"
     ]
    },
    {
     "name": "stderr",
     "output_type": "stream",
     "text": [
      "\n",
      "100%|██████████| 2791/2791 [00:21<00:00, 131.17it/s]\n",
      "100%|██████████| 698/698 [00:01<00:00, 359.67it/s]\n"
     ]
    },
    {
     "name": "stdout",
     "output_type": "stream",
     "text": [
      "Epoch 87, train loss: 13.7366, test loss: 14.8958\n"
     ]
    },
    {
     "name": "stderr",
     "output_type": "stream",
     "text": [
      "100%|██████████| 2791/2791 [00:20<00:00, 136.73it/s]\n",
      "100%|██████████| 698/698 [00:01<00:00, 363.28it/s]"
     ]
    },
    {
     "name": "stdout",
     "output_type": "stream",
     "text": [
      "Epoch 88, train loss: 13.6819, test loss: 14.9143\n"
     ]
    },
    {
     "name": "stderr",
     "output_type": "stream",
     "text": [
      "\n",
      "100%|██████████| 2791/2791 [00:21<00:00, 128.07it/s]\n",
      "100%|██████████| 698/698 [00:01<00:00, 379.32it/s]"
     ]
    },
    {
     "name": "stdout",
     "output_type": "stream",
     "text": [
      "Epoch 89, train loss: 13.6712, test loss: 14.9184\n"
     ]
    },
    {
     "name": "stderr",
     "output_type": "stream",
     "text": [
      "\n",
      "100%|██████████| 2791/2791 [00:18<00:00, 150.32it/s]\n",
      "100%|██████████| 698/698 [00:01<00:00, 400.47it/s]"
     ]
    },
    {
     "name": "stdout",
     "output_type": "stream",
     "text": [
      "Epoch 90, train loss: 13.7265, test loss: 14.9111\n"
     ]
    },
    {
     "name": "stderr",
     "output_type": "stream",
     "text": [
      "\n",
      "100%|██████████| 2791/2791 [00:18<00:00, 152.78it/s]\n",
      "100%|██████████| 698/698 [00:01<00:00, 424.63it/s]"
     ]
    },
    {
     "name": "stdout",
     "output_type": "stream",
     "text": [
      "Epoch 91, train loss: 13.6992, test loss: 14.9058\n"
     ]
    },
    {
     "name": "stderr",
     "output_type": "stream",
     "text": [
      "\n",
      "100%|██████████| 2791/2791 [00:18<00:00, 152.35it/s]\n",
      "100%|██████████| 698/698 [00:01<00:00, 376.12it/s]"
     ]
    },
    {
     "name": "stdout",
     "output_type": "stream",
     "text": [
      "Epoch 92, train loss: 13.7273, test loss: 14.9105\n"
     ]
    },
    {
     "name": "stderr",
     "output_type": "stream",
     "text": [
      "\n",
      "100%|██████████| 2791/2791 [00:20<00:00, 135.03it/s]\n",
      "100%|██████████| 698/698 [00:01<00:00, 371.47it/s]"
     ]
    },
    {
     "name": "stdout",
     "output_type": "stream",
     "text": [
      "Epoch 93, train loss: 13.6984, test loss: 14.9097\n"
     ]
    },
    {
     "name": "stderr",
     "output_type": "stream",
     "text": [
      "\n",
      "100%|██████████| 2791/2791 [00:20<00:00, 138.10it/s]\n",
      "100%|██████████| 698/698 [00:01<00:00, 377.15it/s]\n"
     ]
    },
    {
     "name": "stdout",
     "output_type": "stream",
     "text": [
      "Epoch 94, train loss: 13.6989, test loss: 14.9163\n"
     ]
    },
    {
     "name": "stderr",
     "output_type": "stream",
     "text": [
      "100%|██████████| 2791/2791 [00:20<00:00, 137.37it/s]"
     ]
    },
    {
     "name": "stdout",
     "output_type": "stream",
     "text": [
      "Epoch 00045: reducing learning rate of group 0 to 3.0000e-07.\n"
     ]
    },
    {
     "name": "stderr",
     "output_type": "stream",
     "text": [
      "\n",
      "100%|██████████| 698/698 [00:01<00:00, 349.47it/s]"
     ]
    },
    {
     "name": "stdout",
     "output_type": "stream",
     "text": [
      "Epoch 95, train loss: 13.7266, test loss: 14.9154\n"
     ]
    },
    {
     "name": "stderr",
     "output_type": "stream",
     "text": [
      "\n",
      "100%|██████████| 2791/2791 [00:22<00:00, 123.16it/s]\n",
      "100%|██████████| 698/698 [00:01<00:00, 353.70it/s]"
     ]
    },
    {
     "name": "stdout",
     "output_type": "stream",
     "text": [
      "Epoch 96, train loss: 13.5943, test loss: 14.9160\n"
     ]
    },
    {
     "name": "stderr",
     "output_type": "stream",
     "text": [
      "\n",
      "100%|██████████| 2791/2791 [00:21<00:00, 131.07it/s]\n",
      "100%|██████████| 698/698 [00:01<00:00, 388.76it/s]"
     ]
    },
    {
     "name": "stdout",
     "output_type": "stream",
     "text": [
      "Epoch 97, train loss: 13.5934, test loss: 14.9140\n"
     ]
    },
    {
     "name": "stderr",
     "output_type": "stream",
     "text": [
      "\n",
      "100%|██████████| 2791/2791 [00:20<00:00, 138.40it/s]\n",
      "100%|██████████| 698/698 [00:01<00:00, 378.01it/s]"
     ]
    },
    {
     "name": "stdout",
     "output_type": "stream",
     "text": [
      "Epoch 98, train loss: 13.5931, test loss: 14.9152\n"
     ]
    },
    {
     "name": "stderr",
     "output_type": "stream",
     "text": [
      "\n",
      "100%|██████████| 2791/2791 [00:19<00:00, 142.98it/s]\n",
      "100%|██████████| 698/698 [00:01<00:00, 369.65it/s]"
     ]
    },
    {
     "name": "stdout",
     "output_type": "stream",
     "text": [
      "Epoch 99, train loss: 13.5932, test loss: 14.9155\n"
     ]
    },
    {
     "name": "stderr",
     "output_type": "stream",
     "text": [
      "\n",
      "100%|██████████| 2791/2791 [00:19<00:00, 142.80it/s]\n",
      "100%|██████████| 698/698 [00:01<00:00, 377.52it/s]"
     ]
    },
    {
     "name": "stdout",
     "output_type": "stream",
     "text": [
      "Epoch 100, train loss: 13.5906, test loss: 14.9126\n"
     ]
    },
    {
     "name": "stderr",
     "output_type": "stream",
     "text": [
      "\n"
     ]
    }
   ],
   "source": [
    "train_loss_dict = {}\n",
    "test_loss_dict = {}\n",
    "for name, optimizer in optimizers_list.items():\n",
    "    train_cycle(name, optimizer, train_loss_dict, test_loss_dict, final=True)"
   ]
  },
  {
   "cell_type": "code",
   "execution_count": 45,
   "metadata": {},
   "outputs": [
    {
     "data": {
      "image/png": "[encoded data removed]",
      "text/plain": [
       "<Figure size 1200x600 with 2 Axes>"
      ]
     },
     "metadata": {},
     "output_type": "display_data"
    }
   ],
   "source": [
    "file_path = f\"{experiment_dir}/{EXPERIMENT_NAME}_train.json\"\n",
    "with open(file_path, \"r\") as json_file:\n",
    "    first_50_train = json.load(json_file)\n",
    "\n",
    "file_path = f\"{experiment_dir}/{EXPERIMENT_NAME}_test.json\"\n",
    "with open(file_path, \"r\") as json_file:\n",
    "    first_50_test = json.load(json_file)\n",
    "\n",
    "train = np.concatenate((first_50_train[\"Adam\"], train_loss_dict[\"Adam\"]))\n",
    "test = np.concatenate((first_50_test[\"Adam\"], test_loss_dict[\"Adam\"]))\n",
    "train_all = {\"Adam\":train}\n",
    "test_all = {\"Adam\":test}\n",
    "plot_dictionaries(\n",
    "    train_all,\n",
    "    test_all,\n",
    "    initial_mse_train,\n",
    "    initial_mse_val,\n",
    "    f\"{experiment_dir}/{EXPERIMENT_NAME}_final.png\",\n",
    ")"
   ]
  },
  {
   "cell_type": "code",
   "execution_count": 49,
   "metadata": {},
   "outputs": [
    {
     "name": "stdout",
     "output_type": "stream",
     "text": [
      "% of variation before training: 108.54\n",
      "% of variation after training: 47.15\n",
      "% of variation before training: 108.57\n",
      "% of variation after training: 48.85\n"
     ]
    }
   ],
   "source": [
    "print(\n",
    "    f\"% of variation before training: {(initial_mse_train*100/(df_train.TargetPrice - df_train.BSAprox).var()).round(2)}\"\n",
    ")\n",
    "print(\n",
    "    f\"% of variation after training: {(train_all['Adam'][60]*100/ (df_train.TargetPrice - df_train.BSAprox).var()).round(2)}\"\n",
    ")\n",
    "print(\n",
    "    f\"% of variation before training: {(initial_mse_val*100/(df_test.TargetPrice - df_test.BSAprox).var()).round(2)}\"\n",
    ")\n",
    "print(\n",
    "    f\"% of variation after training: {(train_all['Adam'][60]*100 / (df_test.TargetPrice - df_test.BSAprox).var()).round(2)}\"\n",
    ")"
   ]
  }
 ],
 "metadata": {
  "kernelspec": {
   "display_name": "main",
   "language": "python",
   "name": "python3"
  },
  "language_info": {
   "codemirror_mode": {
    "name": "ipython",
    "version": 3
   },
   "file_extension": ".py",
   "mimetype": "text/x-python",
   "name": "python",
   "nbconvert_exporter": "python",
   "pygments_lexer": "ipython3",
   "version": "3.11.5"
  }
 },
 "nbformat": 4,
 "nbformat_minor": 2
}
