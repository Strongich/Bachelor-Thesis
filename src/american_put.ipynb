{
 "cells": [
  {
   "cell_type": "code",
   "execution_count": 1,
   "metadata": {},
   "outputs": [],
   "source": [
    "import torch\n",
    "import numpy as np\n",
    "import matplotlib.pyplot as plt\n",
    "import torch.nn as nn\n",
    "from torch.utils.data import DataLoader\n",
    "from tqdm import tqdm\n",
    "import pandas as pd\n",
    "from sklearn.model_selection import train_test_split\n",
    "import os\n",
    "from scipy.stats import skew, kurtosis\n",
    "\n",
    "torch.cuda.empty_cache()\n",
    "# imports of custom blocks for model, data generation\n",
    "from Ferret.ImplicitAm import ImplicitAmBre, ImplicitAmBer\n",
    "from models import *\n",
    "from create_plots import *\n",
    "from utils import AmericanPutData, get_prices_put\n",
    "from utils import S, T, K, RISK_FREE, SIGMA, S_MAX"
   ]
  },
  {
   "cell_type": "markdown",
   "metadata": {},
   "source": [
    "## Put Option\n",
    "\n",
    "### Content: \n",
    "1. **Generating Data**\n",
    "2. **Training on Generated Data, Testing Both on Generated and Real Data**\n",
    "3. **Training on Real Data, Testing on Real Data**\n",
    "4. **Mixture of Data (70/30, 50/50), Testing on Real Data**\n"
   ]
  },
  {
   "cell_type": "code",
   "execution_count": 2,
   "metadata": {},
   "outputs": [
    {
     "name": "stdout",
     "output_type": "stream",
     "text": [
      "(10000, 8)\n"
     ]
    }
   ],
   "source": [
    "put_data = AmericanPutData(t_range=T, S_range=S, K=K, r=RISK_FREE, sigma=SIGMA)\n",
    "# N_ivp - IVP points\n",
    "# N_bvp - both BVP1 and BVP2 points\n",
    "# N_col - colocation points\n",
    "X = put_data.initialize_data(N_ivp=1000, N_bvp=3000, N_col=6000, is_call=False)\n",
    "option = ImplicitAmBer(\n",
    "    S[0],\n",
    "    K,\n",
    "    RISK_FREE,\n",
    "    T[1],\n",
    "    SIGMA,\n",
    "    S_MAX,\n",
    "    M=400,  # S\n",
    "    N=365 * 3,  # t\n",
    "    is_call=False,\n",
    ")\n",
    "option.price()\n",
    "option_fde_prices = option.grid\n",
    "data = get_prices_put(X, option_fde_prices, generated=True)\n",
    "df = pd.DataFrame(\n",
    "    data=data,\n",
    "    columns=[\n",
    "        \"TimeToExp\",\n",
    "        \"UnderlyingPrice\",\n",
    "        \"TargetPrice\",\n",
    "        \"OpenInterest\",\n",
    "        \"Delta\",\n",
    "        \"Gamma\",\n",
    "        \"Theta\",\n",
    "        \"Vega\",\n",
    "        \"BSAprox\",\n",
    "    ],\n",
    ")\n",
    "df[[\"TimeToExp\", \"UnderlyingPrice\", \"TargetPrice\", \"BSAprox\"]] = df[\n",
    "    [\"TimeToExp\", \"UnderlyingPrice\", \"TargetPrice\", \"BSAprox\"]\n",
    "].round(2)\n",
    "df[\"OpenInterest\"] = df[\"OpenInterest\"].round(0)\n",
    "df.to_csv(\"../train_data/generated_put.csv\")"
   ]
  },
  {
   "cell_type": "code",
   "execution_count": 2,
   "metadata": {},
   "outputs": [
    {
     "data": {
      "text/html": [
       "<div>\n",
       "<style scoped>\n",
       "    .dataframe tbody tr th:only-of-type {\n",
       "        vertical-align: middle;\n",
       "    }\n",
       "\n",
       "    .dataframe tbody tr th {\n",
       "        vertical-align: top;\n",
       "    }\n",
       "\n",
       "    .dataframe thead th {\n",
       "        text-align: right;\n",
       "    }\n",
       "</style>\n",
       "<table border=\"1\" class=\"dataframe\">\n",
       "  <thead>\n",
       "    <tr style=\"text-align: right;\">\n",
       "      <th></th>\n",
       "      <th>TimeToExp</th>\n",
       "      <th>UnderlyingPrice</th>\n",
       "      <th>TargetPrice</th>\n",
       "      <th>OpenInterest</th>\n",
       "      <th>Delta</th>\n",
       "      <th>Gamma</th>\n",
       "      <th>Theta</th>\n",
       "      <th>Vega</th>\n",
       "      <th>BSAprox</th>\n",
       "    </tr>\n",
       "  </thead>\n",
       "  <tbody>\n",
       "    <tr>\n",
       "      <th>0</th>\n",
       "      <td>827.0</td>\n",
       "      <td>138.66</td>\n",
       "      <td>39.12</td>\n",
       "      <td>133.0</td>\n",
       "      <td>-0.876502</td>\n",
       "      <td>0.052474</td>\n",
       "      <td>-4.578248</td>\n",
       "      <td>15.334991</td>\n",
       "      <td>0.00</td>\n",
       "    </tr>\n",
       "    <tr>\n",
       "      <th>1</th>\n",
       "      <td>1045.0</td>\n",
       "      <td>113.58</td>\n",
       "      <td>45.38</td>\n",
       "      <td>228.0</td>\n",
       "      <td>-0.118852</td>\n",
       "      <td>0.002001</td>\n",
       "      <td>-7.851140</td>\n",
       "      <td>3.742773</td>\n",
       "      <td>6.48</td>\n",
       "    </tr>\n",
       "    <tr>\n",
       "      <th>2</th>\n",
       "      <td>395.0</td>\n",
       "      <td>194.28</td>\n",
       "      <td>27.86</td>\n",
       "      <td>937.0</td>\n",
       "      <td>-0.756109</td>\n",
       "      <td>0.000596</td>\n",
       "      <td>-1.044538</td>\n",
       "      <td>0.431675</td>\n",
       "      <td>0.00</td>\n",
       "    </tr>\n",
       "    <tr>\n",
       "      <th>3</th>\n",
       "      <td>563.0</td>\n",
       "      <td>112.40</td>\n",
       "      <td>45.66</td>\n",
       "      <td>109.0</td>\n",
       "      <td>-0.196355</td>\n",
       "      <td>0.012452</td>\n",
       "      <td>-4.211471</td>\n",
       "      <td>12.599267</td>\n",
       "      <td>7.64</td>\n",
       "    </tr>\n",
       "    <tr>\n",
       "      <th>4</th>\n",
       "      <td>980.0</td>\n",
       "      <td>145.38</td>\n",
       "      <td>37.53</td>\n",
       "      <td>72.0</td>\n",
       "      <td>-0.417402</td>\n",
       "      <td>0.012488</td>\n",
       "      <td>-0.112282</td>\n",
       "      <td>7.536177</td>\n",
       "      <td>0.00</td>\n",
       "    </tr>\n",
       "  </tbody>\n",
       "</table>\n",
       "</div>"
      ],
      "text/plain": [
       "   TimeToExp  UnderlyingPrice  TargetPrice  OpenInterest     Delta     Gamma  \\\n",
       "0      827.0           138.66        39.12         133.0 -0.876502  0.052474   \n",
       "1     1045.0           113.58        45.38         228.0 -0.118852  0.002001   \n",
       "2      395.0           194.28        27.86         937.0 -0.756109  0.000596   \n",
       "3      563.0           112.40        45.66         109.0 -0.196355  0.012452   \n",
       "4      980.0           145.38        37.53          72.0 -0.417402  0.012488   \n",
       "\n",
       "      Theta       Vega  BSAprox  \n",
       "0 -4.578248  15.334991     0.00  \n",
       "1 -7.851140   3.742773     6.48  \n",
       "2 -1.044538   0.431675     0.00  \n",
       "3 -4.211471  12.599267     7.64  \n",
       "4 -0.112282   7.536177     0.00  "
      ]
     },
     "execution_count": 2,
     "metadata": {},
     "output_type": "execute_result"
    }
   ],
   "source": [
    "df = pd.read_csv(\"../train_data/generated_put.csv\", index_col=0)\n",
    "df.head()"
   ]
  },
  {
   "cell_type": "code",
   "execution_count": 9,
   "metadata": {},
   "outputs": [
    {
     "name": "stdout",
     "output_type": "stream",
     "text": [
      "Describe:\n",
      "count    10000.000000\n",
      "mean        38.778089\n",
      "std         32.927976\n",
      "min          0.000000\n",
      "25%          0.000000\n",
      "50%         37.310000\n",
      "75%         55.310000\n",
      "max        120.000000\n",
      "Name: TargetPrice, dtype: float64\n",
      "\n",
      "Skewness: 0.7879415236679352\n",
      "Kurtosis: 0.4289552629526088\n"
     ]
    },
    {
     "data": {
      "image/png": "[encoded data removed]",
      "text/plain": [
       "<Figure size 1200x600 with 1 Axes>"
      ]
     },
     "metadata": {},
     "output_type": "display_data"
    }
   ],
   "source": [
    "analyze_series(df.TargetPrice)"
   ]
  },
  {
   "cell_type": "code",
   "execution_count": 4,
   "metadata": {},
   "outputs": [
    {
     "name": "stdout",
     "output_type": "stream",
     "text": [
      "ITM count:4272\n",
      "OTM count:5728\n"
     ]
    }
   ],
   "source": [
    "# Check for ITM and OTM\n",
    "print(f\"ITM count:{np.sum(df.UnderlyingPrice < K)}\")\n",
    "print(f\"OTM count:{np.sum(df.UnderlyingPrice >= K)}\")"
   ]
  },
  {
   "cell_type": "code",
   "execution_count": 6,
   "metadata": {},
   "outputs": [
    {
     "data": {
      "image/png": "[encoded data removed]",
      "text/plain": [
       "<Figure size 1200x600 with 1 Axes>"
      ]
     },
     "metadata": {},
     "output_type": "display_data"
    }
   ],
   "source": [
    "plt.figure(figsize=(12, 6))\n",
    "plt.scatter(\n",
    "    x=np.arange(1, len(df.TargetPrice) + 1, 1), y=df.TargetPrice, label=\"Target Price\"\n",
    ")\n",
    "plt.scatter(x=np.arange(1, len(df.BSAprox) + 1, 1), y=df.BSAprox, label=\"Black-Scholes approximation using Runge-Kutta\")\n",
    "plt.legend()\n",
    "plt.grid(True)\n",
    "plt.show()"
   ]
  },
  {
   "cell_type": "code",
   "execution_count": 6,
   "metadata": {},
   "outputs": [
    {
     "data": {
      "image/png": "[encoded data removed]",
      "text/plain": [
       "<Figure size 640x480 with 1 Axes>"
      ]
     },
     "metadata": {},
     "output_type": "display_data"
    }
   ],
   "source": [
    "plt.hist(df.TargetPrice, label=\"True\")\n",
    "plt.hist(df.BSAprox, label=\"B-S\")\n",
    "plt.legend()\n",
    "plt.show()"
   ]
  },
  {
   "cell_type": "code",
   "execution_count": 4,
   "metadata": {},
   "outputs": [],
   "source": [
    "# # adding BSAprox column to real data\n",
    "# # Run it once, only if u dont have saved df\n",
    "# df_real = pd.read_csv(\"../train_data/put_df.csv\", index_col=0)\n",
    "# df_real = get_prices_put(df_real.to_numpy(), generated=False)\n",
    "# df_real = pd.DataFrame(\n",
    "#     data=df_real,\n",
    "#     columns=[\n",
    "#         [\n",
    "#             \"UnderlyingPrice\",\n",
    "#             \"Type\",\n",
    "#             \"Strike\",\n",
    "#             \"OpenInterest\",\n",
    "#             \"IV\",\n",
    "#             \"Delta\",\n",
    "#             \"Gamma\",\n",
    "#             \"Theta\",\n",
    "#             \"Vega\",\n",
    "#             \"Time\",\n",
    "#             \"TargetPrice\",\n",
    "#             \"BSAprox\",\n",
    "#         ]\n",
    "#     ],\n",
    "# )\n",
    "# df_real[\"BSAprox\"] = df_real[\"BSAprox\"].round(2)\n",
    "# df_real.to_csv(\"../train_data/put_df_with_approx.csv\")\n",
    "# df_real.head()"
   ]
  },
  {
   "cell_type": "code",
   "execution_count": 2,
   "metadata": {},
   "outputs": [
    {
     "data": {
      "text/html": [
       "<div>\n",
       "<style scoped>\n",
       "    .dataframe tbody tr th:only-of-type {\n",
       "        vertical-align: middle;\n",
       "    }\n",
       "\n",
       "    .dataframe tbody tr th {\n",
       "        vertical-align: top;\n",
       "    }\n",
       "\n",
       "    .dataframe thead th {\n",
       "        text-align: right;\n",
       "    }\n",
       "</style>\n",
       "<table border=\"1\" class=\"dataframe\">\n",
       "  <thead>\n",
       "    <tr style=\"text-align: right;\">\n",
       "      <th></th>\n",
       "      <th>UnderlyingPrice</th>\n",
       "      <th>Type</th>\n",
       "      <th>Strike</th>\n",
       "      <th>OpenInterest</th>\n",
       "      <th>IV</th>\n",
       "      <th>Delta</th>\n",
       "      <th>Gamma</th>\n",
       "      <th>Theta</th>\n",
       "      <th>Vega</th>\n",
       "      <th>Time</th>\n",
       "      <th>TargetPrice</th>\n",
       "      <th>BSAprox</th>\n",
       "    </tr>\n",
       "  </thead>\n",
       "  <tbody>\n",
       "    <tr>\n",
       "      <th>0</th>\n",
       "      <td>71.11</td>\n",
       "      <td>put</td>\n",
       "      <td>55.0</td>\n",
       "      <td>22</td>\n",
       "      <td>0.3314</td>\n",
       "      <td>-0.0004</td>\n",
       "      <td>0.0003</td>\n",
       "      <td>-0.0747</td>\n",
       "      <td>0.0253</td>\n",
       "      <td>21</td>\n",
       "      <td>0.02</td>\n",
       "      <td>0.0</td>\n",
       "    </tr>\n",
       "    <tr>\n",
       "      <th>1</th>\n",
       "      <td>71.11</td>\n",
       "      <td>put</td>\n",
       "      <td>60.0</td>\n",
       "      <td>118</td>\n",
       "      <td>0.3314</td>\n",
       "      <td>-0.0130</td>\n",
       "      <td>0.0060</td>\n",
       "      <td>-1.6451</td>\n",
       "      <td>0.5604</td>\n",
       "      <td>21</td>\n",
       "      <td>0.04</td>\n",
       "      <td>0.0</td>\n",
       "    </tr>\n",
       "    <tr>\n",
       "      <th>2</th>\n",
       "      <td>71.11</td>\n",
       "      <td>put</td>\n",
       "      <td>62.5</td>\n",
       "      <td>2026</td>\n",
       "      <td>0.3314</td>\n",
       "      <td>-0.0441</td>\n",
       "      <td>0.0168</td>\n",
       "      <td>-4.5773</td>\n",
       "      <td>1.5638</td>\n",
       "      <td>21</td>\n",
       "      <td>0.11</td>\n",
       "      <td>0.0</td>\n",
       "    </tr>\n",
       "    <tr>\n",
       "      <th>3</th>\n",
       "      <td>71.11</td>\n",
       "      <td>put</td>\n",
       "      <td>65.0</td>\n",
       "      <td>443</td>\n",
       "      <td>0.2918</td>\n",
       "      <td>-0.0873</td>\n",
       "      <td>0.0324</td>\n",
       "      <td>-6.8317</td>\n",
       "      <td>2.6647</td>\n",
       "      <td>21</td>\n",
       "      <td>0.20</td>\n",
       "      <td>0.0</td>\n",
       "    </tr>\n",
       "    <tr>\n",
       "      <th>4</th>\n",
       "      <td>71.11</td>\n",
       "      <td>put</td>\n",
       "      <td>67.5</td>\n",
       "      <td>165</td>\n",
       "      <td>0.2675</td>\n",
       "      <td>-0.1902</td>\n",
       "      <td>0.0605</td>\n",
       "      <td>-10.6215</td>\n",
       "      <td>4.5580</td>\n",
       "      <td>21</td>\n",
       "      <td>0.48</td>\n",
       "      <td>0.0</td>\n",
       "    </tr>\n",
       "  </tbody>\n",
       "</table>\n",
       "</div>"
      ],
      "text/plain": [
       "   UnderlyingPrice Type  Strike  OpenInterest      IV   Delta   Gamma  \\\n",
       "0            71.11  put    55.0            22  0.3314 -0.0004  0.0003   \n",
       "1            71.11  put    60.0           118  0.3314 -0.0130  0.0060   \n",
       "2            71.11  put    62.5          2026  0.3314 -0.0441  0.0168   \n",
       "3            71.11  put    65.0           443  0.2918 -0.0873  0.0324   \n",
       "4            71.11  put    67.5           165  0.2675 -0.1902  0.0605   \n",
       "\n",
       "     Theta    Vega  Time  TargetPrice  BSAprox  \n",
       "0  -0.0747  0.0253    21         0.02      0.0  \n",
       "1  -1.6451  0.5604    21         0.04      0.0  \n",
       "2  -4.5773  1.5638    21         0.11      0.0  \n",
       "3  -6.8317  2.6647    21         0.20      0.0  \n",
       "4 -10.6215  4.5580    21         0.48      0.0  "
      ]
     },
     "execution_count": 2,
     "metadata": {},
     "output_type": "execute_result"
    }
   ],
   "source": [
    "df_real = pd.read_csv(\"../train_data/put_df_with_approx.csv\", index_col=0)\n",
    "df_real.head()"
   ]
  },
  {
   "cell_type": "code",
   "execution_count": 8,
   "metadata": {},
   "outputs": [
    {
     "name": "stdout",
     "output_type": "stream",
     "text": [
      "Describe:\n",
      "count    223217.000000\n",
      "mean          9.203034\n",
      "std          20.484802\n",
      "min           0.000000\n",
      "25%           0.000000\n",
      "50%           0.000000\n",
      "75%          10.390000\n",
      "max         600.720000\n",
      "Name: BSAprox, dtype: float64\n",
      "\n",
      "Skewness: 6.657008389112579\n",
      "Kurtosis: 90.22743557230235\n"
     ]
    },
    {
     "data": {
      "image/png": "[encoded data removed]",
      "text/plain": [
       "<Figure size 1200x600 with 1 Axes>"
      ]
     },
     "metadata": {},
     "output_type": "display_data"
    }
   ],
   "source": [
    "analyze_series(df_real.BSAprox)"
   ]
  },
  {
   "cell_type": "code",
   "execution_count": 3,
   "metadata": {},
   "outputs": [],
   "source": [
    "\n",
    "# hyperparams for training\n",
    "N_EPOCH = 20\n",
    "RISK_FREE = 0.03\n",
    "SIGMA = 0.4\n",
    "LEARNING_RATE = 8e-5\n",
    "HIDDEN_LAYER = 28\n",
    "HIDDEN_WIDTH = 64\n",
    "EXPERIMENT_NAME = \"exp_put_11_gen\"\n",
    "MODEL_TYPE = AmericanPut_gated3\n",
    "experiment_dir = f\"../experiments_dir/{EXPERIMENT_NAME}\"\n",
    "os.makedirs(experiment_dir, exist_ok=True)"
   ]
  },
  {
   "cell_type": "code",
   "execution_count": 4,
   "metadata": {},
   "outputs": [],
   "source": [
    "import logging\n",
    "from datetime import datetime\n",
    "\n",
    "logger = logging.getLogger()\n",
    "current_date = datetime.now().strftime(\"%Y-%m-%d\")\n",
    "log_file_name = f\"{experiment_dir}/{EXPERIMENT_NAME}_log_{current_date}.log\"\n",
    "fhandler = logging.FileHandler(filename=log_file_name, mode=\"w\")\n",
    "formatter = logging.Formatter(\"%(asctime)s - %(name)s - %(levelname)s - %(message)s\")\n",
    "fhandler.setFormatter(formatter)\n",
    "logger.addHandler(fhandler)\n",
    "logger.setLevel(logging.INFO)"
   ]
  },
  {
   "cell_type": "code",
   "execution_count": 5,
   "metadata": {},
   "outputs": [
    {
     "name": "stdout",
     "output_type": "stream",
     "text": [
      "cuda\n"
     ]
    }
   ],
   "source": [
    "DEVICE = \"cuda\" if torch.cuda.is_available() else \"cpu\"\n",
    "print(DEVICE)\n",
    "# torch.set_default_device(DEVICE)\n",
    "logging.info(f\"Running on device={DEVICE}\")"
   ]
  },
  {
   "cell_type": "code",
   "execution_count": 6,
   "metadata": {},
   "outputs": [],
   "source": [
    "logging.info(f\"N_EPOCH: {N_EPOCH}\")\n",
    "logging.info(f\"LEARNING_RATE: {LEARNING_RATE}\")\n",
    "logging.info(f\"HIDDEN_LAYER: {HIDDEN_LAYER}\")\n",
    "logging.info(f\"HIDDEN_WIDTH: {HIDDEN_WIDTH}\")\n",
    "# logging.info(f\"N_sample: {N_sample}\")\n",
    "logging.info(f\"EXPERIMENT_NAME: {EXPERIMENT_NAME}\")\n",
    "logging.info(f\"Model type: {MODEL_TYPE.__name__}\")"
   ]
  },
  {
   "cell_type": "code",
   "execution_count": 7,
   "metadata": {},
   "outputs": [
    {
     "name": "stdout",
     "output_type": "stream",
     "text": [
      "(8000, 9)\n",
      "(2000, 9)\n"
     ]
    }
   ],
   "source": [
    "# df = df_real.sample(n=20000, random_state=15)\n",
    "df_train, df_val = train_test_split(df, test_size=0.2)\n",
    "print(df_train.shape)\n",
    "print(df_val.shape)"
   ]
  },
  {
   "cell_type": "code",
   "execution_count": 8,
   "metadata": {},
   "outputs": [
    {
     "name": "stdout",
     "output_type": "stream",
     "text": [
      "Describe:\n",
      "count    8000.000000\n",
      "mean       18.710091\n",
      "std        16.862430\n",
      "min        -0.690000\n",
      "25%         0.000000\n",
      "50%        20.280000\n",
      "75%        35.380000\n",
      "max        43.670000\n",
      "dtype: float64\n",
      "\n",
      "Skewness: 0.03355964613496692\n",
      "Kurtosis: -1.7432346282851796\n"
     ]
    },
    {
     "data": {
      "image/png": "[encoded data removed]",
      "text/plain": [
       "<Figure size 1200x600 with 1 Axes>"
      ]
     },
     "metadata": {},
     "output_type": "display_data"
    },
    {
     "name": "stdout",
     "output_type": "stream",
     "text": [
      "Describe:\n",
      "count    2000.000000\n",
      "mean       18.410435\n",
      "std        16.849013\n",
      "min        -0.730000\n",
      "25%         0.000000\n",
      "50%        18.860000\n",
      "75%        35.145000\n",
      "max        43.710000\n",
      "dtype: float64\n",
      "\n",
      "Skewness: 0.06256759929666944\n",
      "Kurtosis: -1.7411420299196783\n"
     ]
    },
    {
     "data": {
      "image/png": "[encoded data removed]",
      "text/plain": [
       "<Figure size 1200x600 with 1 Axes>"
      ]
     },
     "metadata": {},
     "output_type": "display_data"
    }
   ],
   "source": [
    "analyze_series(df_train.TargetPrice-df_train.BSAprox)\n",
    "analyze_series(df_val.TargetPrice-df_val.BSAprox)"
   ]
  },
  {
   "cell_type": "code",
   "execution_count": 9,
   "metadata": {},
   "outputs": [],
   "source": [
    "initial_mse_train = (\n",
    "    1 / len(df_train) * np.sum((df_train.TargetPrice - df_train.BSAprox) ** 2)\n",
    ")\n",
    "initial_mse_val = 1 / len(df_val) * np.sum((df_val.TargetPrice - df_val.BSAprox) ** 2)\n",
    "logging.info(\n",
    "    f\"Initial MSE train: {initial_mse_train.round(4)}, Initial MSE val: {initial_mse_val.round(4)}\"\n",
    ")"
   ]
  },
  {
   "cell_type": "code",
   "execution_count": 10,
   "metadata": {},
   "outputs": [],
   "source": [
    "# import torch.multiprocessing as mp\n",
    "train_df = CustomDataset(df_train)\n",
    "val_df = CustomDataset(df_val)\n",
    "from torch.optim.lr_scheduler import ReduceLROnPlateau\n",
    "model = MODEL_TYPE(5, 1, HIDDEN_WIDTH, HIDDEN_LAYER).to(DEVICE)\n",
    "logging.info(\n",
    "    f\"Total number of learnable parameters: {sum(p.numel() for p in model.parameters() if p.requires_grad)}\"\n",
    ")\n",
    "train_dataloader = DataLoader(\n",
    "    train_df,\n",
    "    batch_size=32,\n",
    "    shuffle=True,\n",
    "    num_workers=8,\n",
    "    # generator=torch.Generator(device=DEVICE),\n",
    ")\n",
    "val_dataloader = DataLoader(\n",
    "    val_df,\n",
    "    batch_size=32,\n",
    "    shuffle=False,\n",
    "    num_workers=8,\n",
    ")\n",
    "optimizers_list = {\n",
    "    \"SGD\": torch.optim.SGD(model.parameters(), lr=LEARNING_RATE, momentum=0.7),\n",
    "    \"RMSprop\": torch.optim.RMSprop(model.parameters(), lr=LEARNING_RATE),\n",
    "    \"Adam\": torch.optim.Adam(model.parameters(), lr=LEARNING_RATE),\n",
    "    \"Adamax\": torch.optim.Adamax(\n",
    "        model.parameters(), lr=LEARNING_RATE, betas=(0.9, 0.99)\n",
    "    ),\n",
    "}\n",
    "criteriation = nn.MSELoss()"
   ]
  },
  {
   "cell_type": "code",
   "execution_count": 11,
   "metadata": {},
   "outputs": [],
   "source": [
    "from torch.optim.lr_scheduler import CosineAnnealingLR\n",
    "\n",
    "\n",
    "def train_model(model, train_dataloader, optimizer, scheduler, criteriation, device):\n",
    "    model.train()\n",
    "    train_losses = []\n",
    "    for batch_idx, data in tqdm(\n",
    "        enumerate(train_dataloader), total=len(train_dataloader)\n",
    "    ):\n",
    "        optimizer.zero_grad()\n",
    "        inputs = data[\"input\"].to(device)\n",
    "        outputs = data[\"output\"].to(device).view(-1, 1)\n",
    "        pred = model(inputs).view(-1, 1)\n",
    "        loss = criteriation(outputs, pred)\n",
    "        loss.backward()\n",
    "        optimizer.step()\n",
    "        train_losses.append(loss.item())\n",
    "    scheduler.step()  # Step the scheduler\n",
    "    return np.mean(train_losses)\n",
    "\n",
    "\n",
    "def validate_model(model, val_dataloader, criteriation, device):\n",
    "    model.eval()\n",
    "    val_losses = []\n",
    "    with torch.no_grad():\n",
    "        for batch_idx, data in tqdm(\n",
    "            enumerate(val_dataloader), total=len(val_dataloader)\n",
    "        ):\n",
    "            inputs = data[\"input\"].to(device)\n",
    "            outputs = data[\"output\"].to(device).view(-1, 1)\n",
    "            pred = model(inputs).view(-1, 1)\n",
    "            loss = criteriation(outputs, pred)\n",
    "            val_losses.append(loss.item())\n",
    "    return np.mean(val_losses)\n",
    "\n",
    "\n",
    "def train_cycle(optimizer_name, optimizer, train_loss_dict, val_loss_dict, final=False):\n",
    "    print(f\"Optimizer: {optimizer_name}\")\n",
    "    train_loss_dict[optimizer_name] = []\n",
    "    val_loss_dict[optimizer_name] = []\n",
    "    logging.info(f\"Optimizer: {optimizer_name}\")\n",
    "\n",
    "    # Define the CosineAnnealingLR scheduler\n",
    "    scheduler = CosineAnnealingLR(optimizer, T_max=N_EPOCH, eta_min=0)\n",
    "\n",
    "    for i in range(N_EPOCH):\n",
    "        train_loss = train_model(\n",
    "            model, train_dataloader, optimizer, scheduler, criteriation, DEVICE\n",
    "        )\n",
    "        train_loss_dict[optimizer_name].append(train_loss)\n",
    "        val_loss = validate_model(model, val_dataloader, criteriation, DEVICE)\n",
    "        val_loss_dict[optimizer_name].append(val_loss)\n",
    "        if final:\n",
    "            torch.save(\n",
    "                model.state_dict(), f\"{experiment_dir}/{EXPERIMENT_NAME}_{i}.pth\"\n",
    "            )\n",
    "        print(f\"Epoch {i+1}, train loss: {train_loss:.4f}, val loss: {val_loss:.4f}\")\n",
    "        logging.info(\n",
    "            f\"Epoch {i+1}, train loss: {train_loss:.4f}, val loss: {val_loss:.4f}\"\n",
    "        )"
   ]
  },
  {
   "cell_type": "code",
   "execution_count": 12,
   "metadata": {},
   "outputs": [
    {
     "name": "stdout",
     "output_type": "stream",
     "text": [
      "Optimizer: SGD\n"
     ]
    },
    {
     "name": "stderr",
     "output_type": "stream",
     "text": [
      "100%|██████████| 250/250 [00:02<00:00, 119.09it/s]\n",
      "100%|██████████| 63/63 [00:00<00:00, 284.45it/s]"
     ]
    },
    {
     "name": "stdout",
     "output_type": "stream",
     "text": [
      "Epoch 1, train loss: 297.0599, val loss: 285.5799\n"
     ]
    },
    {
     "name": "stderr",
     "output_type": "stream",
     "text": [
      "\n",
      "100%|██████████| 250/250 [00:02<00:00, 111.98it/s]\n",
      "100%|██████████| 63/63 [00:00<00:00, 229.79it/s]"
     ]
    },
    {
     "name": "stdout",
     "output_type": "stream",
     "text": [
      "Epoch 2, train loss: 289.0728, val loss: 284.4749\n"
     ]
    },
    {
     "name": "stderr",
     "output_type": "stream",
     "text": [
      "\n",
      "100%|██████████| 250/250 [00:02<00:00, 110.19it/s]\n",
      "100%|██████████| 63/63 [00:00<00:00, 241.13it/s]"
     ]
    },
    {
     "name": "stdout",
     "output_type": "stream",
     "text": [
      "Epoch 3, train loss: 287.5002, val loss: 293.7863\n"
     ]
    },
    {
     "name": "stderr",
     "output_type": "stream",
     "text": [
      "\n",
      "100%|██████████| 250/250 [00:02<00:00, 109.95it/s]\n",
      "100%|██████████| 63/63 [00:00<00:00, 240.07it/s]"
     ]
    },
    {
     "name": "stdout",
     "output_type": "stream",
     "text": [
      "Epoch 4, train loss: 286.8638, val loss: 294.9240\n"
     ]
    },
    {
     "name": "stderr",
     "output_type": "stream",
     "text": [
      "\n",
      "100%|██████████| 250/250 [00:02<00:00, 108.28it/s]\n",
      "100%|██████████| 63/63 [00:00<00:00, 252.16it/s]"
     ]
    },
    {
     "name": "stdout",
     "output_type": "stream",
     "text": [
      "Epoch 5, train loss: 286.4199, val loss: 283.8882\n"
     ]
    },
    {
     "name": "stderr",
     "output_type": "stream",
     "text": [
      "\n",
      "100%|██████████| 250/250 [00:02<00:00, 111.76it/s]\n",
      "100%|██████████| 63/63 [00:00<00:00, 229.21it/s]"
     ]
    },
    {
     "name": "stdout",
     "output_type": "stream",
     "text": [
      "Epoch 6, train loss: 286.4299, val loss: 284.7578\n"
     ]
    },
    {
     "name": "stderr",
     "output_type": "stream",
     "text": [
      "\n",
      "100%|██████████| 250/250 [00:02<00:00, 110.87it/s]\n",
      "100%|██████████| 63/63 [00:00<00:00, 215.12it/s]"
     ]
    },
    {
     "name": "stdout",
     "output_type": "stream",
     "text": [
      "Epoch 7, train loss: 286.2247, val loss: 283.8388\n"
     ]
    },
    {
     "name": "stderr",
     "output_type": "stream",
     "text": [
      "\n",
      "100%|██████████| 250/250 [00:02<00:00, 112.24it/s]\n",
      "100%|██████████| 63/63 [00:00<00:00, 215.95it/s]"
     ]
    },
    {
     "name": "stdout",
     "output_type": "stream",
     "text": [
      "Epoch 8, train loss: 285.7193, val loss: 285.5897\n"
     ]
    },
    {
     "name": "stderr",
     "output_type": "stream",
     "text": [
      "\n",
      "100%|██████████| 250/250 [00:02<00:00, 112.66it/s]\n",
      "100%|██████████| 63/63 [00:00<00:00, 246.65it/s]"
     ]
    },
    {
     "name": "stdout",
     "output_type": "stream",
     "text": [
      "Epoch 9, train loss: 285.7680, val loss: 284.6190\n"
     ]
    },
    {
     "name": "stderr",
     "output_type": "stream",
     "text": [
      "\n",
      "100%|██████████| 250/250 [00:02<00:00, 111.37it/s]\n",
      "100%|██████████| 63/63 [00:00<00:00, 224.66it/s]"
     ]
    },
    {
     "name": "stdout",
     "output_type": "stream",
     "text": [
      "Epoch 10, train loss: 285.3079, val loss: 283.8964\n"
     ]
    },
    {
     "name": "stderr",
     "output_type": "stream",
     "text": [
      "\n",
      "100%|██████████| 250/250 [00:02<00:00, 111.54it/s]\n",
      "100%|██████████| 63/63 [00:00<00:00, 237.25it/s]"
     ]
    },
    {
     "name": "stdout",
     "output_type": "stream",
     "text": [
      "Epoch 11, train loss: 284.8116, val loss: 284.1866\n"
     ]
    },
    {
     "name": "stderr",
     "output_type": "stream",
     "text": [
      "\n",
      "100%|██████████| 250/250 [00:02<00:00, 111.75it/s]\n",
      "100%|██████████| 63/63 [00:00<00:00, 230.77it/s]"
     ]
    },
    {
     "name": "stdout",
     "output_type": "stream",
     "text": [
      "Epoch 12, train loss: 285.0192, val loss: 284.4541\n"
     ]
    },
    {
     "name": "stderr",
     "output_type": "stream",
     "text": [
      "\n",
      "100%|██████████| 250/250 [00:02<00:00, 111.45it/s]\n",
      "100%|██████████| 63/63 [00:00<00:00, 244.12it/s]"
     ]
    },
    {
     "name": "stdout",
     "output_type": "stream",
     "text": [
      "Epoch 13, train loss: 284.5441, val loss: 285.0268\n"
     ]
    },
    {
     "name": "stderr",
     "output_type": "stream",
     "text": [
      "\n",
      "100%|██████████| 250/250 [00:02<00:00, 112.37it/s]\n",
      "100%|██████████| 63/63 [00:00<00:00, 235.04it/s]"
     ]
    },
    {
     "name": "stdout",
     "output_type": "stream",
     "text": [
      "Epoch 14, train loss: 284.5733, val loss: 285.2008\n"
     ]
    },
    {
     "name": "stderr",
     "output_type": "stream",
     "text": [
      "\n",
      "100%|██████████| 250/250 [00:02<00:00, 111.12it/s]\n",
      "100%|██████████| 63/63 [00:00<00:00, 238.99it/s]"
     ]
    },
    {
     "name": "stdout",
     "output_type": "stream",
     "text": [
      "Epoch 15, train loss: 284.8869, val loss: 284.6809\n"
     ]
    },
    {
     "name": "stderr",
     "output_type": "stream",
     "text": [
      "\n",
      "100%|██████████| 250/250 [00:02<00:00, 110.79it/s]\n",
      "100%|██████████| 63/63 [00:00<00:00, 231.49it/s]"
     ]
    },
    {
     "name": "stdout",
     "output_type": "stream",
     "text": [
      "Epoch 16, train loss: 284.3710, val loss: 285.8058\n"
     ]
    },
    {
     "name": "stderr",
     "output_type": "stream",
     "text": [
      "\n",
      "100%|██████████| 250/250 [00:02<00:00, 111.31it/s]\n",
      "100%|██████████| 63/63 [00:00<00:00, 247.64it/s]"
     ]
    },
    {
     "name": "stdout",
     "output_type": "stream",
     "text": [
      "Epoch 17, train loss: 284.2695, val loss: 285.6766\n"
     ]
    },
    {
     "name": "stderr",
     "output_type": "stream",
     "text": [
      "\n",
      "100%|██████████| 250/250 [00:02<00:00, 116.75it/s]\n",
      "100%|██████████| 63/63 [00:00<00:00, 222.26it/s]"
     ]
    },
    {
     "name": "stdout",
     "output_type": "stream",
     "text": [
      "Epoch 18, train loss: 284.6273, val loss: 284.1772\n"
     ]
    },
    {
     "name": "stderr",
     "output_type": "stream",
     "text": [
      "\n",
      "100%|██████████| 250/250 [00:02<00:00, 115.62it/s]\n",
      "100%|██████████| 63/63 [00:00<00:00, 241.65it/s]"
     ]
    },
    {
     "name": "stdout",
     "output_type": "stream",
     "text": [
      "Epoch 19, train loss: 284.4332, val loss: 284.1668\n"
     ]
    },
    {
     "name": "stderr",
     "output_type": "stream",
     "text": [
      "\n",
      "100%|██████████| 250/250 [00:02<00:00, 113.95it/s]\n",
      "100%|██████████| 63/63 [00:00<00:00, 248.93it/s]"
     ]
    },
    {
     "name": "stdout",
     "output_type": "stream",
     "text": [
      "Epoch 20, train loss: 284.3471, val loss: 284.3639\n",
      "Optimizer: RMSprop\n"
     ]
    },
    {
     "name": "stderr",
     "output_type": "stream",
     "text": [
      "\n",
      "100%|██████████| 250/250 [00:02<00:00, 110.11it/s]\n",
      "100%|██████████| 63/63 [00:00<00:00, 255.26it/s]"
     ]
    },
    {
     "name": "stdout",
     "output_type": "stream",
     "text": [
      "Epoch 1, train loss: 284.8592, val loss: 284.5761\n"
     ]
    },
    {
     "name": "stderr",
     "output_type": "stream",
     "text": [
      "\n",
      "100%|██████████| 250/250 [00:02<00:00, 112.10it/s]\n",
      "100%|██████████| 63/63 [00:00<00:00, 246.38it/s]"
     ]
    },
    {
     "name": "stdout",
     "output_type": "stream",
     "text": [
      "Epoch 2, train loss: 284.4120, val loss: 283.7766\n"
     ]
    },
    {
     "name": "stderr",
     "output_type": "stream",
     "text": [
      "\n",
      "100%|██████████| 250/250 [00:02<00:00, 121.20it/s]\n",
      "100%|██████████| 63/63 [00:00<00:00, 265.08it/s]"
     ]
    },
    {
     "name": "stdout",
     "output_type": "stream",
     "text": [
      "Epoch 3, train loss: 284.3886, val loss: 284.1483\n"
     ]
    },
    {
     "name": "stderr",
     "output_type": "stream",
     "text": [
      "\n",
      "100%|██████████| 250/250 [00:02<00:00, 115.84it/s]\n",
      "100%|██████████| 63/63 [00:00<00:00, 276.50it/s]"
     ]
    },
    {
     "name": "stdout",
     "output_type": "stream",
     "text": [
      "Epoch 4, train loss: 283.9115, val loss: 284.4099\n"
     ]
    },
    {
     "name": "stderr",
     "output_type": "stream",
     "text": [
      "\n",
      "100%|██████████| 250/250 [00:02<00:00, 123.29it/s]\n",
      "100%|██████████| 63/63 [00:00<00:00, 265.16it/s]"
     ]
    },
    {
     "name": "stdout",
     "output_type": "stream",
     "text": [
      "Epoch 5, train loss: 284.2900, val loss: 284.0759\n"
     ]
    },
    {
     "name": "stderr",
     "output_type": "stream",
     "text": [
      "\n",
      "100%|██████████| 250/250 [00:02<00:00, 123.43it/s]\n",
      "100%|██████████| 63/63 [00:00<00:00, 273.47it/s]"
     ]
    },
    {
     "name": "stdout",
     "output_type": "stream",
     "text": [
      "Epoch 6, train loss: 283.9690, val loss: 284.4222\n"
     ]
    },
    {
     "name": "stderr",
     "output_type": "stream",
     "text": [
      "\n",
      "100%|██████████| 250/250 [00:02<00:00, 121.13it/s]\n",
      "100%|██████████| 63/63 [00:00<00:00, 290.07it/s]"
     ]
    },
    {
     "name": "stdout",
     "output_type": "stream",
     "text": [
      "Epoch 7, train loss: 284.0172, val loss: 284.2026\n"
     ]
    },
    {
     "name": "stderr",
     "output_type": "stream",
     "text": [
      "\n",
      "100%|██████████| 250/250 [00:02<00:00, 120.20it/s]\n",
      "100%|██████████| 63/63 [00:00<00:00, 284.09it/s]"
     ]
    },
    {
     "name": "stdout",
     "output_type": "stream",
     "text": [
      "Epoch 8, train loss: 284.2974, val loss: 284.1710\n"
     ]
    },
    {
     "name": "stderr",
     "output_type": "stream",
     "text": [
      "\n",
      "100%|██████████| 250/250 [00:02<00:00, 117.02it/s]\n",
      "100%|██████████| 63/63 [00:00<00:00, 259.97it/s]"
     ]
    },
    {
     "name": "stdout",
     "output_type": "stream",
     "text": [
      "Epoch 9, train loss: 284.2441, val loss: 284.2920\n"
     ]
    },
    {
     "name": "stderr",
     "output_type": "stream",
     "text": [
      "\n",
      "100%|██████████| 250/250 [00:02<00:00, 111.31it/s]\n",
      "100%|██████████| 63/63 [00:00<00:00, 255.58it/s]"
     ]
    },
    {
     "name": "stdout",
     "output_type": "stream",
     "text": [
      "Epoch 10, train loss: 283.8461, val loss: 284.2355\n"
     ]
    },
    {
     "name": "stderr",
     "output_type": "stream",
     "text": [
      "\n",
      "100%|██████████| 250/250 [00:02<00:00, 109.53it/s]\n",
      "100%|██████████| 63/63 [00:00<00:00, 251.47it/s]"
     ]
    },
    {
     "name": "stdout",
     "output_type": "stream",
     "text": [
      "Epoch 11, train loss: 283.8162, val loss: 284.1418\n"
     ]
    },
    {
     "name": "stderr",
     "output_type": "stream",
     "text": [
      "\n",
      "100%|██████████| 250/250 [00:02<00:00, 111.90it/s]\n",
      "100%|██████████| 63/63 [00:00<00:00, 232.28it/s]"
     ]
    },
    {
     "name": "stdout",
     "output_type": "stream",
     "text": [
      "Epoch 12, train loss: 283.6859, val loss: 284.4379\n"
     ]
    },
    {
     "name": "stderr",
     "output_type": "stream",
     "text": [
      "\n",
      "100%|██████████| 250/250 [00:02<00:00, 109.67it/s]\n",
      "100%|██████████| 63/63 [00:00<00:00, 264.79it/s]"
     ]
    },
    {
     "name": "stdout",
     "output_type": "stream",
     "text": [
      "Epoch 13, train loss: 283.6005, val loss: 284.9367\n"
     ]
    },
    {
     "name": "stderr",
     "output_type": "stream",
     "text": [
      "\n",
      "100%|██████████| 250/250 [00:02<00:00, 112.05it/s]\n",
      "100%|██████████| 63/63 [00:00<00:00, 257.40it/s]"
     ]
    },
    {
     "name": "stdout",
     "output_type": "stream",
     "text": [
      "Epoch 14, train loss: 283.5447, val loss: 284.2164\n"
     ]
    },
    {
     "name": "stderr",
     "output_type": "stream",
     "text": [
      "\n",
      "100%|██████████| 250/250 [00:02<00:00, 101.82it/s]\n",
      "100%|██████████| 63/63 [00:00<00:00, 211.68it/s]\n"
     ]
    },
    {
     "name": "stdout",
     "output_type": "stream",
     "text": [
      "Epoch 15, train loss: 283.4699, val loss: 284.2281\n"
     ]
    },
    {
     "name": "stderr",
     "output_type": "stream",
     "text": [
      "100%|██████████| 250/250 [00:02<00:00, 93.94it/s] \n",
      "100%|██████████| 63/63 [00:00<00:00, 236.66it/s]"
     ]
    },
    {
     "name": "stdout",
     "output_type": "stream",
     "text": [
      "Epoch 16, train loss: 283.2464, val loss: 284.2353\n"
     ]
    },
    {
     "name": "stderr",
     "output_type": "stream",
     "text": [
      "\n",
      "100%|██████████| 250/250 [00:02<00:00, 103.00it/s]\n",
      "100%|██████████| 63/63 [00:00<00:00, 237.15it/s]"
     ]
    },
    {
     "name": "stdout",
     "output_type": "stream",
     "text": [
      "Epoch 17, train loss: 283.1633, val loss: 284.1578\n"
     ]
    },
    {
     "name": "stderr",
     "output_type": "stream",
     "text": [
      "\n",
      "100%|██████████| 250/250 [00:02<00:00, 101.81it/s]\n",
      "100%|██████████| 63/63 [00:00<00:00, 235.79it/s]"
     ]
    },
    {
     "name": "stdout",
     "output_type": "stream",
     "text": [
      "Epoch 18, train loss: 283.1458, val loss: 284.2251\n"
     ]
    },
    {
     "name": "stderr",
     "output_type": "stream",
     "text": [
      "\n",
      "100%|██████████| 250/250 [00:02<00:00, 102.70it/s]\n",
      "100%|██████████| 63/63 [00:00<00:00, 241.04it/s]"
     ]
    },
    {
     "name": "stdout",
     "output_type": "stream",
     "text": [
      "Epoch 19, train loss: 283.0682, val loss: 284.2219\n"
     ]
    },
    {
     "name": "stderr",
     "output_type": "stream",
     "text": [
      "\n",
      "100%|██████████| 250/250 [00:02<00:00, 100.47it/s]\n",
      "100%|██████████| 63/63 [00:00<00:00, 216.74it/s]"
     ]
    },
    {
     "name": "stdout",
     "output_type": "stream",
     "text": [
      "Epoch 20, train loss: 283.0389, val loss: 284.2156\n",
      "Optimizer: Adam\n"
     ]
    },
    {
     "name": "stderr",
     "output_type": "stream",
     "text": [
      "\n",
      "100%|██████████| 250/250 [00:02<00:00, 111.70it/s]\n",
      "100%|██████████| 63/63 [00:00<00:00, 253.53it/s]"
     ]
    },
    {
     "name": "stdout",
     "output_type": "stream",
     "text": [
      "Epoch 1, train loss: 283.9108, val loss: 284.7843\n"
     ]
    },
    {
     "name": "stderr",
     "output_type": "stream",
     "text": [
      "\n",
      "100%|██████████| 250/250 [00:02<00:00, 93.85it/s]\n",
      "100%|██████████| 63/63 [00:00<00:00, 228.45it/s]"
     ]
    },
    {
     "name": "stdout",
     "output_type": "stream",
     "text": [
      "Epoch 2, train loss: 283.7531, val loss: 284.7977\n"
     ]
    },
    {
     "name": "stderr",
     "output_type": "stream",
     "text": [
      "\n",
      "100%|██████████| 250/250 [00:02<00:00, 93.12it/s]\n",
      "100%|██████████| 63/63 [00:00<00:00, 217.00it/s]"
     ]
    },
    {
     "name": "stdout",
     "output_type": "stream",
     "text": [
      "Epoch 3, train loss: 283.8350, val loss: 284.1333\n"
     ]
    },
    {
     "name": "stderr",
     "output_type": "stream",
     "text": [
      "\n",
      "100%|██████████| 250/250 [00:02<00:00, 90.89it/s] \n",
      "100%|██████████| 63/63 [00:00<00:00, 240.00it/s]"
     ]
    },
    {
     "name": "stdout",
     "output_type": "stream",
     "text": [
      "Epoch 4, train loss: 283.8078, val loss: 284.5184\n"
     ]
    },
    {
     "name": "stderr",
     "output_type": "stream",
     "text": [
      "\n",
      "100%|██████████| 250/250 [00:02<00:00, 105.46it/s]\n",
      "100%|██████████| 63/63 [00:00<00:00, 215.18it/s]"
     ]
    },
    {
     "name": "stdout",
     "output_type": "stream",
     "text": [
      "Epoch 5, train loss: 283.5418, val loss: 284.9075\n"
     ]
    },
    {
     "name": "stderr",
     "output_type": "stream",
     "text": [
      "\n",
      "100%|██████████| 250/250 [00:02<00:00, 87.62it/s]\n",
      "100%|██████████| 63/63 [00:00<00:00, 216.95it/s]"
     ]
    },
    {
     "name": "stdout",
     "output_type": "stream",
     "text": [
      "Epoch 6, train loss: 283.3970, val loss: 283.9351\n"
     ]
    },
    {
     "name": "stderr",
     "output_type": "stream",
     "text": [
      "\n",
      "100%|██████████| 250/250 [00:02<00:00, 102.71it/s]\n",
      "100%|██████████| 63/63 [00:00<00:00, 257.67it/s]"
     ]
    },
    {
     "name": "stdout",
     "output_type": "stream",
     "text": [
      "Epoch 7, train loss: 283.3933, val loss: 283.8917\n"
     ]
    },
    {
     "name": "stderr",
     "output_type": "stream",
     "text": [
      "\n",
      "100%|██████████| 250/250 [00:02<00:00, 98.87it/s] \n",
      "100%|██████████| 63/63 [00:00<00:00, 218.53it/s]"
     ]
    },
    {
     "name": "stdout",
     "output_type": "stream",
     "text": [
      "Epoch 8, train loss: 283.2786, val loss: 284.1576\n"
     ]
    },
    {
     "name": "stderr",
     "output_type": "stream",
     "text": [
      "\n",
      "100%|██████████| 250/250 [00:02<00:00, 92.24it/s] \n",
      "100%|██████████| 63/63 [00:00<00:00, 180.61it/s]"
     ]
    },
    {
     "name": "stdout",
     "output_type": "stream",
     "text": [
      "Epoch 9, train loss: 283.3155, val loss: 284.4946\n"
     ]
    },
    {
     "name": "stderr",
     "output_type": "stream",
     "text": [
      "\n",
      "100%|██████████| 250/250 [00:02<00:00, 98.20it/s] \n",
      "100%|██████████| 63/63 [00:00<00:00, 249.93it/s]"
     ]
    },
    {
     "name": "stdout",
     "output_type": "stream",
     "text": [
      "Epoch 10, train loss: 283.2641, val loss: 284.4789\n"
     ]
    },
    {
     "name": "stderr",
     "output_type": "stream",
     "text": [
      "\n",
      "100%|██████████| 250/250 [00:02<00:00, 99.19it/s] \n",
      "100%|██████████| 63/63 [00:00<00:00, 241.78it/s]"
     ]
    },
    {
     "name": "stdout",
     "output_type": "stream",
     "text": [
      "Epoch 11, train loss: 282.9363, val loss: 284.6198\n"
     ]
    },
    {
     "name": "stderr",
     "output_type": "stream",
     "text": [
      "\n",
      "100%|██████████| 250/250 [00:02<00:00, 99.22it/s] \n",
      "100%|██████████| 63/63 [00:00<00:00, 224.85it/s]"
     ]
    },
    {
     "name": "stdout",
     "output_type": "stream",
     "text": [
      "Epoch 12, train loss: 283.1041, val loss: 284.8921\n"
     ]
    },
    {
     "name": "stderr",
     "output_type": "stream",
     "text": [
      "\n",
      "100%|██████████| 250/250 [00:02<00:00, 100.71it/s]\n",
      "100%|██████████| 63/63 [00:00<00:00, 216.87it/s]"
     ]
    },
    {
     "name": "stdout",
     "output_type": "stream",
     "text": [
      "Epoch 13, train loss: 282.8754, val loss: 284.5086\n"
     ]
    },
    {
     "name": "stderr",
     "output_type": "stream",
     "text": [
      "\n",
      "100%|██████████| 250/250 [00:02<00:00, 98.33it/s] \n",
      "100%|██████████| 63/63 [00:00<00:00, 231.31it/s]"
     ]
    },
    {
     "name": "stdout",
     "output_type": "stream",
     "text": [
      "Epoch 14, train loss: 282.5529, val loss: 284.2835\n"
     ]
    },
    {
     "name": "stderr",
     "output_type": "stream",
     "text": [
      "\n",
      "100%|██████████| 250/250 [00:02<00:00, 98.50it/s] \n",
      "100%|██████████| 63/63 [00:00<00:00, 218.99it/s]"
     ]
    },
    {
     "name": "stdout",
     "output_type": "stream",
     "text": [
      "Epoch 15, train loss: 282.4292, val loss: 284.2905\n"
     ]
    },
    {
     "name": "stderr",
     "output_type": "stream",
     "text": [
      "\n",
      "100%|██████████| 250/250 [00:02<00:00, 98.47it/s] \n",
      "100%|██████████| 63/63 [00:00<00:00, 247.83it/s]"
     ]
    },
    {
     "name": "stdout",
     "output_type": "stream",
     "text": [
      "Epoch 16, train loss: 282.6282, val loss: 284.4663\n"
     ]
    },
    {
     "name": "stderr",
     "output_type": "stream",
     "text": [
      "\n",
      "100%|██████████| 250/250 [00:02<00:00, 101.43it/s]\n",
      "100%|██████████| 63/63 [00:00<00:00, 240.86it/s]"
     ]
    },
    {
     "name": "stdout",
     "output_type": "stream",
     "text": [
      "Epoch 17, train loss: 282.2280, val loss: 284.4680\n"
     ]
    },
    {
     "name": "stderr",
     "output_type": "stream",
     "text": [
      "\n",
      "100%|██████████| 250/250 [00:02<00:00, 99.74it/s] \n",
      "100%|██████████| 63/63 [00:00<00:00, 262.32it/s]"
     ]
    },
    {
     "name": "stdout",
     "output_type": "stream",
     "text": [
      "Epoch 18, train loss: 282.1751, val loss: 284.4486\n"
     ]
    },
    {
     "name": "stderr",
     "output_type": "stream",
     "text": [
      "\n",
      "100%|██████████| 250/250 [00:02<00:00, 98.64it/s] \n",
      "100%|██████████| 63/63 [00:00<00:00, 237.55it/s]"
     ]
    },
    {
     "name": "stdout",
     "output_type": "stream",
     "text": [
      "Epoch 19, train loss: 282.1118, val loss: 284.4369\n"
     ]
    },
    {
     "name": "stderr",
     "output_type": "stream",
     "text": [
      "\n",
      "100%|██████████| 250/250 [00:02<00:00, 106.67it/s]\n",
      "100%|██████████| 63/63 [00:00<00:00, 240.23it/s]"
     ]
    },
    {
     "name": "stdout",
     "output_type": "stream",
     "text": [
      "Epoch 20, train loss: 282.0776, val loss: 284.4362\n",
      "Optimizer: Adamax\n"
     ]
    },
    {
     "name": "stderr",
     "output_type": "stream",
     "text": [
      "\n",
      "100%|██████████| 250/250 [00:03<00:00, 71.90it/s]\n",
      "100%|██████████| 63/63 [00:00<00:00, 268.87it/s]"
     ]
    },
    {
     "name": "stdout",
     "output_type": "stream",
     "text": [
      "Epoch 1, train loss: 282.7541, val loss: 284.2119\n"
     ]
    },
    {
     "name": "stderr",
     "output_type": "stream",
     "text": [
      "\n",
      "100%|██████████| 250/250 [00:03<00:00, 67.74it/s]\n",
      "100%|██████████| 63/63 [00:00<00:00, 215.81it/s]"
     ]
    },
    {
     "name": "stdout",
     "output_type": "stream",
     "text": [
      "Epoch 2, train loss: 282.4978, val loss: 284.2052\n"
     ]
    },
    {
     "name": "stderr",
     "output_type": "stream",
     "text": [
      "\n",
      "100%|██████████| 250/250 [00:03<00:00, 69.49it/s]\n",
      "100%|██████████| 63/63 [00:00<00:00, 226.60it/s]"
     ]
    },
    {
     "name": "stdout",
     "output_type": "stream",
     "text": [
      "Epoch 3, train loss: 282.4317, val loss: 284.2959\n"
     ]
    },
    {
     "name": "stderr",
     "output_type": "stream",
     "text": [
      "\n",
      "100%|██████████| 250/250 [00:03<00:00, 68.95it/s]\n",
      "100%|██████████| 63/63 [00:00<00:00, 236.07it/s]"
     ]
    },
    {
     "name": "stdout",
     "output_type": "stream",
     "text": [
      "Epoch 4, train loss: 282.4135, val loss: 284.3588\n"
     ]
    },
    {
     "name": "stderr",
     "output_type": "stream",
     "text": [
      "\n",
      "100%|██████████| 250/250 [00:03<00:00, 70.49it/s]\n",
      "100%|██████████| 63/63 [00:00<00:00, 234.79it/s]"
     ]
    },
    {
     "name": "stdout",
     "output_type": "stream",
     "text": [
      "Epoch 5, train loss: 282.0719, val loss: 284.2706\n"
     ]
    },
    {
     "name": "stderr",
     "output_type": "stream",
     "text": [
      "\n",
      "100%|██████████| 250/250 [00:03<00:00, 67.66it/s]\n",
      "100%|██████████| 63/63 [00:00<00:00, 220.73it/s]"
     ]
    },
    {
     "name": "stdout",
     "output_type": "stream",
     "text": [
      "Epoch 6, train loss: 282.1146, val loss: 284.7876\n"
     ]
    },
    {
     "name": "stderr",
     "output_type": "stream",
     "text": [
      "\n",
      "100%|██████████| 250/250 [00:03<00:00, 71.36it/s]\n",
      "100%|██████████| 63/63 [00:00<00:00, 230.70it/s]"
     ]
    },
    {
     "name": "stdout",
     "output_type": "stream",
     "text": [
      "Epoch 7, train loss: 281.9950, val loss: 284.7211\n"
     ]
    },
    {
     "name": "stderr",
     "output_type": "stream",
     "text": [
      "\n",
      "100%|██████████| 250/250 [00:03<00:00, 69.87it/s]\n",
      "100%|██████████| 63/63 [00:00<00:00, 221.48it/s]"
     ]
    },
    {
     "name": "stdout",
     "output_type": "stream",
     "text": [
      "Epoch 8, train loss: 281.7910, val loss: 284.5819\n"
     ]
    },
    {
     "name": "stderr",
     "output_type": "stream",
     "text": [
      "\n",
      "100%|██████████| 250/250 [00:03<00:00, 71.02it/s]\n",
      "100%|██████████| 63/63 [00:00<00:00, 235.98it/s]"
     ]
    },
    {
     "name": "stdout",
     "output_type": "stream",
     "text": [
      "Epoch 9, train loss: 281.8120, val loss: 284.7301\n"
     ]
    },
    {
     "name": "stderr",
     "output_type": "stream",
     "text": [
      "\n",
      "100%|██████████| 250/250 [00:03<00:00, 67.65it/s]\n",
      "100%|██████████| 63/63 [00:00<00:00, 237.53it/s]"
     ]
    },
    {
     "name": "stdout",
     "output_type": "stream",
     "text": [
      "Epoch 10, train loss: 281.6889, val loss: 284.8100\n"
     ]
    },
    {
     "name": "stderr",
     "output_type": "stream",
     "text": [
      "\n",
      "100%|██████████| 250/250 [00:03<00:00, 70.16it/s]\n",
      "100%|██████████| 63/63 [00:00<00:00, 223.56it/s]"
     ]
    },
    {
     "name": "stdout",
     "output_type": "stream",
     "text": [
      "Epoch 11, train loss: 281.5885, val loss: 284.6772\n"
     ]
    },
    {
     "name": "stderr",
     "output_type": "stream",
     "text": [
      "\n",
      "100%|██████████| 250/250 [00:03<00:00, 70.16it/s]\n",
      "100%|██████████| 63/63 [00:00<00:00, 232.65it/s]"
     ]
    },
    {
     "name": "stdout",
     "output_type": "stream",
     "text": [
      "Epoch 12, train loss: 281.5013, val loss: 284.5926\n"
     ]
    },
    {
     "name": "stderr",
     "output_type": "stream",
     "text": [
      "\n",
      "100%|██████████| 250/250 [00:03<00:00, 68.47it/s]\n",
      "100%|██████████| 63/63 [00:00<00:00, 221.14it/s]"
     ]
    },
    {
     "name": "stdout",
     "output_type": "stream",
     "text": [
      "Epoch 13, train loss: 281.3850, val loss: 284.7503\n"
     ]
    },
    {
     "name": "stderr",
     "output_type": "stream",
     "text": [
      "\n",
      "100%|██████████| 250/250 [00:03<00:00, 71.33it/s]\n",
      "100%|██████████| 63/63 [00:00<00:00, 238.68it/s]"
     ]
    },
    {
     "name": "stdout",
     "output_type": "stream",
     "text": [
      "Epoch 14, train loss: 281.3271, val loss: 284.8291\n"
     ]
    },
    {
     "name": "stderr",
     "output_type": "stream",
     "text": [
      "\n",
      "100%|██████████| 250/250 [00:03<00:00, 71.56it/s]\n",
      "100%|██████████| 63/63 [00:00<00:00, 216.54it/s]"
     ]
    },
    {
     "name": "stdout",
     "output_type": "stream",
     "text": [
      "Epoch 15, train loss: 281.1975, val loss: 284.6622\n"
     ]
    },
    {
     "name": "stderr",
     "output_type": "stream",
     "text": [
      "\n",
      "100%|██████████| 250/250 [00:03<00:00, 70.30it/s]\n",
      "100%|██████████| 63/63 [00:00<00:00, 268.46it/s]"
     ]
    },
    {
     "name": "stdout",
     "output_type": "stream",
     "text": [
      "Epoch 16, train loss: 281.1853, val loss: 284.7624\n"
     ]
    },
    {
     "name": "stderr",
     "output_type": "stream",
     "text": [
      "\n",
      "100%|██████████| 250/250 [00:03<00:00, 70.85it/s]\n",
      "100%|██████████| 63/63 [00:00<00:00, 244.04it/s]"
     ]
    },
    {
     "name": "stdout",
     "output_type": "stream",
     "text": [
      "Epoch 17, train loss: 281.1050, val loss: 284.8165\n"
     ]
    },
    {
     "name": "stderr",
     "output_type": "stream",
     "text": [
      "\n",
      "100%|██████████| 250/250 [00:03<00:00, 68.65it/s]\n",
      "100%|██████████| 63/63 [00:00<00:00, 223.49it/s]"
     ]
    },
    {
     "name": "stdout",
     "output_type": "stream",
     "text": [
      "Epoch 18, train loss: 281.0732, val loss: 284.7922\n"
     ]
    },
    {
     "name": "stderr",
     "output_type": "stream",
     "text": [
      "\n",
      "100%|██████████| 250/250 [00:03<00:00, 69.37it/s]\n",
      "100%|██████████| 63/63 [00:00<00:00, 237.67it/s]"
     ]
    },
    {
     "name": "stdout",
     "output_type": "stream",
     "text": [
      "Epoch 19, train loss: 281.0374, val loss: 284.7773\n"
     ]
    },
    {
     "name": "stderr",
     "output_type": "stream",
     "text": [
      "\n",
      "100%|██████████| 250/250 [00:03<00:00, 69.91it/s]\n",
      "100%|██████████| 63/63 [00:00<00:00, 246.69it/s]"
     ]
    },
    {
     "name": "stdout",
     "output_type": "stream",
     "text": [
      "Epoch 20, train loss: 281.0183, val loss: 284.7782\n"
     ]
    },
    {
     "name": "stderr",
     "output_type": "stream",
     "text": [
      "\n"
     ]
    }
   ],
   "source": [
    "train_loss_dict = {}\n",
    "val_loss_dict = {}\n",
    "for name, optimizer in optimizers_list.items():\n",
    "    train_cycle(name, optimizer, train_loss_dict, val_loss_dict)"
   ]
  },
  {
   "cell_type": "code",
   "execution_count": 15,
   "metadata": {},
   "outputs": [],
   "source": [
    "import matplotlib.pyplot as plt\n",
    "\n",
    "\n",
    "def plot_dictionaries(dict1, dict2, initial_train, initial_val, save_path=None):\n",
    "    # Set global font size\n",
    "    plt.rcParams.update(\n",
    "        {\"font.size\": 22}\n",
    "    )  # Twice as big as the default font size (default is usually 10 or 12)\n",
    "\n",
    "    fig, axes = plt.subplots(1, 2, figsize=(22, 8))  # Create a figure with two subplots\n",
    "\n",
    "    # Plot for dictionary 1\n",
    "    for key, values in dict1.items():\n",
    "        axes[0].plot(\n",
    "            range(5, len(values) + 1), values[4:], label=key, marker=\"*\"\n",
    "        )  # Start from second element\n",
    "        axes[0].set_xlabel(\"Epochs\")\n",
    "        axes[0].set_ylabel(\"MSE Loss\")\n",
    "        axes[0].set_title(f\"Train losses, initial: {initial_train.round(2)}\")\n",
    "        axes[0].grid(True)\n",
    "\n",
    "    # Plot for dictionary 2\n",
    "    for key, values in dict2.items():\n",
    "        axes[1].plot(range(5, len(values) + 1), values[4:], label=key, marker=\"*\")\n",
    "        axes[1].set_xlabel(\"Epochs\")\n",
    "        axes[1].set_ylabel(\"MSE Loss\")\n",
    "        axes[1].set_title(f\"Validation losses, initial: {initial_val.round(2)}\")\n",
    "        axes[1].grid(True)\n",
    "\n",
    "    plt.tight_layout()\n",
    "    if save_path:\n",
    "        plt.savefig(save_path)\n",
    "    plt.show()"
   ]
  },
  {
   "cell_type": "code",
   "execution_count": 16,
   "metadata": {},
   "outputs": [
    {
     "data": {
      "image/png": "[encoded data removed]",
      "text/plain": [
       "<Figure size 2200x800 with 2 Axes>"
      ]
     },
     "metadata": {},
     "output_type": "display_data"
    }
   ],
   "source": [
    "# Plot\n",
    "plot_dictionaries(\n",
    "    train_loss_dict,\n",
    "    val_loss_dict,\n",
    "    initial_mse_train,\n",
    "    initial_mse_val,\n",
    "    f\"{experiment_dir}/{EXPERIMENT_NAME}_test.png\",\n",
    ")"
   ]
  },
  {
   "cell_type": "markdown",
   "metadata": {},
   "source": [
    "### So for full training we will take Adam"
   ]
  },
  {
   "cell_type": "code",
   "execution_count": 75,
   "metadata": {},
   "outputs": [],
   "source": [
    "# hyperparams for training\n",
    "# df_real = pd.read_csv(\"../train_data/put_df_with_approx.csv\", index_col=0)\n",
    "N_EPOCH = 100\n",
    "RISK_FREE = 0.03\n",
    "SIGMA = 0.4\n",
    "LEARNING_RATE = 0.00008\n",
    "HIDDEN_LAYER = 28\n",
    "HIDDEN_WIDTH = 128\n",
    "# EXPERIMENT_NAME = \"exp_put_5_final\"\n",
    "# MODEL_TYPE = AmericanPut_gated3\n",
    "# experiment_dir = f\"../experiments_dir/{EXPERIMENT_NAME}\"\n",
    "# os.makedirs(experiment_dir, exist_ok=True)"
   ]
  },
  {
   "cell_type": "code",
   "execution_count": 76,
   "metadata": {},
   "outputs": [],
   "source": [
    "import logging\n",
    "from datetime import datetime\n",
    "\n",
    "logger = logging.getLogger()\n",
    "current_date = datetime.now().strftime(\"%Y-%m-%d\")\n",
    "log_file_name = f\"{experiment_dir}/{EXPERIMENT_NAME}_log_{current_date}.log\"\n",
    "fhandler = logging.FileHandler(filename=log_file_name, mode=\"w\")\n",
    "formatter = logging.Formatter(\"%(asctime)s - %(name)s - %(levelname)s - %(message)s\")\n",
    "fhandler.setFormatter(formatter)\n",
    "logger.addHandler(fhandler)\n",
    "logger.setLevel(logging.INFO)"
   ]
  },
  {
   "cell_type": "code",
   "execution_count": 77,
   "metadata": {},
   "outputs": [],
   "source": [
    "logging.info(f\"N_EPOCH: {N_EPOCH}\")\n",
    "logging.info(f\"LEARNING_RATE: {LEARNING_RATE}\")\n",
    "logging.info(f\"HIDDEN_LAYER: {HIDDEN_LAYER}\")\n",
    "logging.info(f\"HIDDEN_WIDTH: {HIDDEN_WIDTH}\")\n",
    "# logging.info(f\"N_sample: {N_sample}\")\n",
    "logging.info(f\"EXPERIMENT_NAME: {EXPERIMENT_NAME}\")\n",
    "logging.info(f\"Model type: {MODEL_TYPE.__name__}\")"
   ]
  },
  {
   "cell_type": "code",
   "execution_count": 78,
   "metadata": {},
   "outputs": [],
   "source": [
    "df_train, df_test = train_test_split(df, test_size=0.2)\n",
    "logging.info(f\"train set size: {df_train.shape}\")\n",
    "logging.info(f\"test set size: {df_test.shape}\")\n",
    "initial_mse_train = (\n",
    "    1 / len(df_train) * np.sum((df_train.TargetPrice - df_train.BSAprox) ** 2)\n",
    ")\n",
    "initial_mse_val = 1 / len(df_test) * np.sum((df_test.TargetPrice - df_test.BSAprox) ** 2)\n",
    "logging.info(\n",
    "    f\"Initial MSE train: {initial_mse_train.round(4)}, Initial MSE val: {initial_mse_val.round(4)}\"\n",
    ")\n",
    "train_df = CustomDataset(df_train)\n",
    "test_df = CustomDataset(df_test)"
   ]
  },
  {
   "cell_type": "code",
   "execution_count": 79,
   "metadata": {},
   "outputs": [],
   "source": [
    "from torch.optim.lr_scheduler import CosineAnnealingLR\n",
    "\n",
    "\n",
    "def train_model(model, train_dataloader, optimizer, scheduler, criteriation, device):\n",
    "    model.train()\n",
    "    train_losses = []\n",
    "    for batch_idx, data in tqdm(\n",
    "        enumerate(train_dataloader), total=len(train_dataloader)\n",
    "    ):\n",
    "        optimizer.zero_grad()\n",
    "        inputs = data[\"input\"].to(device)\n",
    "        outputs = data[\"output\"].to(device).view(-1, 1)\n",
    "        pred = model(inputs).view(-1, 1)\n",
    "        loss = criteriation(outputs, pred)\n",
    "        loss.backward()\n",
    "        optimizer.step()\n",
    "        train_losses.append(loss.item())\n",
    "    scheduler.step()  # Step the scheduler\n",
    "    return np.mean(train_losses)\n",
    "\n",
    "\n",
    "def validate_model(model, val_dataloader, criteriation, device):\n",
    "    model.eval()\n",
    "    val_losses = []\n",
    "    with torch.no_grad():\n",
    "        for batch_idx, data in tqdm(\n",
    "            enumerate(val_dataloader), total=len(val_dataloader)\n",
    "        ):\n",
    "            inputs = data[\"input\"].to(device)\n",
    "            outputs = data[\"output\"].to(device).view(-1, 1)\n",
    "            pred = model(inputs).view(-1, 1)\n",
    "            loss = criteriation(outputs, pred)\n",
    "            val_losses.append(loss.item())\n",
    "    return np.mean(val_losses)\n",
    "\n",
    "\n",
    "def train_cycle(optimizer_name, optimizer, train_loss_dict, val_loss_dict, final=False):\n",
    "    print(f\"Optimizer: {optimizer_name}\")\n",
    "    train_loss_dict[optimizer_name] = []\n",
    "    val_loss_dict[optimizer_name] = []\n",
    "    logging.info(f\"Optimizer: {optimizer_name}\")\n",
    "\n",
    "    # Define the CosineAnnealingLR scheduler\n",
    "    scheduler = CosineAnnealingLR(optimizer, T_max=N_EPOCH, eta_min=0)\n",
    "\n",
    "    for i in range(N_EPOCH):\n",
    "        train_loss = train_model(\n",
    "            model, train_dataloader, optimizer, scheduler, criteriation, DEVICE\n",
    "        )\n",
    "        train_loss_dict[optimizer_name].append(train_loss)\n",
    "        val_loss = validate_model(model, val_dataloader, criteriation, DEVICE)\n",
    "        val_loss_dict[optimizer_name].append(val_loss)\n",
    "        if final:\n",
    "            torch.save(\n",
    "                model.state_dict(), f\"{experiment_dir}/{EXPERIMENT_NAME}_{i}.pth\"\n",
    "            )\n",
    "        print(f\"Epoch {i+1}, train loss: {train_loss:.4f}, val loss: {val_loss:.4f}\")\n",
    "        logging.info(\n",
    "            f\"Epoch {i+1}, train loss: {train_loss:.4f}, val loss: {val_loss:.4f}\"\n",
    "        )"
   ]
  },
  {
   "cell_type": "code",
   "execution_count": 80,
   "metadata": {},
   "outputs": [],
   "source": [
    "# import torch.multiprocessing as mp\n",
    "# from torch.optim.lr_scheduler import ReduceLROnPlateau\n",
    "\n",
    "# # Set the multiprocessing start method to 'spawn'\n",
    "# mp.set_start_method(\"spawn\", force=True)\n",
    "model = MODEL_TYPE(5, 1, HIDDEN_WIDTH, HIDDEN_LAYER).to(DEVICE)\n",
    "logging.info(\n",
    "    f\"Total number of learnable parameters: {sum(p.numel() for p in model.parameters() if p.requires_grad)}\"\n",
    ")\n",
    "train_dataloader = DataLoader(\n",
    "    train_df,\n",
    "    batch_size=32,\n",
    "    shuffle=True,\n",
    "    num_workers=8,\n",
    "    # generator=torch.Generator(device=DEVICE),\n",
    ")\n",
    "val_dataloader = DataLoader(\n",
    "    test_df,\n",
    "    batch_size=32,\n",
    "    shuffle=False,\n",
    "    num_workers=8,\n",
    ")\n",
    "optimizers_list = {\n",
    "    \"RMSprop\": torch.optim.RMSprop(model.parameters(), lr=LEARNING_RATE),\n",
    "}\n",
    "criteriation = nn.MSELoss()"
   ]
  },
  {
   "cell_type": "code",
   "execution_count": 81,
   "metadata": {},
   "outputs": [
    {
     "name": "stdout",
     "output_type": "stream",
     "text": [
      "Optimizer: RMSprop\n"
     ]
    },
    {
     "name": "stderr",
     "output_type": "stream",
     "text": [
      "100%|██████████| 250/250 [00:02<00:00, 123.08it/s]\n",
      "100%|██████████| 63/63 [00:00<00:00, 263.80it/s]"
     ]
    },
    {
     "name": "stdout",
     "output_type": "stream",
     "text": [
      "Epoch 1, train loss: 295.0234, val loss: 286.1548\n"
     ]
    },
    {
     "name": "stderr",
     "output_type": "stream",
     "text": [
      "\n",
      "100%|██████████| 250/250 [00:02<00:00, 111.27it/s]\n",
      "100%|██████████| 63/63 [00:00<00:00, 295.35it/s]"
     ]
    },
    {
     "name": "stdout",
     "output_type": "stream",
     "text": [
      "Epoch 2, train loss: 286.9034, val loss: 285.4312\n"
     ]
    },
    {
     "name": "stderr",
     "output_type": "stream",
     "text": [
      "\n",
      "100%|██████████| 250/250 [00:02<00:00, 106.13it/s]\n",
      "100%|██████████| 63/63 [00:00<00:00, 316.33it/s]"
     ]
    },
    {
     "name": "stdout",
     "output_type": "stream",
     "text": [
      "Epoch 3, train loss: 286.3307, val loss: 283.4039\n"
     ]
    },
    {
     "name": "stderr",
     "output_type": "stream",
     "text": [
      "\n",
      "100%|██████████| 250/250 [00:02<00:00, 124.60it/s]\n",
      "100%|██████████| 63/63 [00:00<00:00, 249.43it/s]"
     ]
    },
    {
     "name": "stdout",
     "output_type": "stream",
     "text": [
      "Epoch 4, train loss: 286.2578, val loss: 284.5220\n"
     ]
    },
    {
     "name": "stderr",
     "output_type": "stream",
     "text": [
      "\n",
      "100%|██████████| 250/250 [00:01<00:00, 125.05it/s]\n",
      "100%|██████████| 63/63 [00:00<00:00, 287.18it/s]"
     ]
    },
    {
     "name": "stdout",
     "output_type": "stream",
     "text": [
      "Epoch 5, train loss: 285.3968, val loss: 282.3689\n"
     ]
    },
    {
     "name": "stderr",
     "output_type": "stream",
     "text": [
      "\n",
      "100%|██████████| 250/250 [00:02<00:00, 119.65it/s]\n",
      "100%|██████████| 63/63 [00:00<00:00, 275.72it/s]"
     ]
    },
    {
     "name": "stdout",
     "output_type": "stream",
     "text": [
      "Epoch 6, train loss: 285.5365, val loss: 283.0901\n"
     ]
    },
    {
     "name": "stderr",
     "output_type": "stream",
     "text": [
      "\n",
      "100%|██████████| 250/250 [00:01<00:00, 127.33it/s]\n",
      "100%|██████████| 63/63 [00:00<00:00, 305.81it/s]"
     ]
    },
    {
     "name": "stdout",
     "output_type": "stream",
     "text": [
      "Epoch 7, train loss: 285.2634, val loss: 283.3694\n"
     ]
    },
    {
     "name": "stderr",
     "output_type": "stream",
     "text": [
      "\n",
      "100%|██████████| 250/250 [00:02<00:00, 124.20it/s]\n",
      "100%|██████████| 63/63 [00:00<00:00, 303.83it/s]"
     ]
    },
    {
     "name": "stdout",
     "output_type": "stream",
     "text": [
      "Epoch 8, train loss: 285.0723, val loss: 284.0288\n"
     ]
    },
    {
     "name": "stderr",
     "output_type": "stream",
     "text": [
      "\n",
      "100%|██████████| 250/250 [00:02<00:00, 121.10it/s]\n",
      "100%|██████████| 63/63 [00:00<00:00, 289.67it/s]"
     ]
    },
    {
     "name": "stdout",
     "output_type": "stream",
     "text": [
      "Epoch 9, train loss: 284.9907, val loss: 283.1813\n"
     ]
    },
    {
     "name": "stderr",
     "output_type": "stream",
     "text": [
      "\n",
      "100%|██████████| 250/250 [00:02<00:00, 122.43it/s]\n",
      "100%|██████████| 63/63 [00:00<00:00, 310.70it/s]"
     ]
    },
    {
     "name": "stdout",
     "output_type": "stream",
     "text": [
      "Epoch 10, train loss: 285.0622, val loss: 282.8920\n"
     ]
    },
    {
     "name": "stderr",
     "output_type": "stream",
     "text": [
      "\n",
      "100%|██████████| 250/250 [00:01<00:00, 127.13it/s]\n",
      "100%|██████████| 63/63 [00:00<00:00, 296.70it/s]"
     ]
    },
    {
     "name": "stdout",
     "output_type": "stream",
     "text": [
      "Epoch 11, train loss: 284.9846, val loss: 285.1742\n"
     ]
    },
    {
     "name": "stderr",
     "output_type": "stream",
     "text": [
      "\n",
      "100%|██████████| 250/250 [00:02<00:00, 124.98it/s]\n",
      "100%|██████████| 63/63 [00:00<00:00, 305.89it/s]"
     ]
    },
    {
     "name": "stdout",
     "output_type": "stream",
     "text": [
      "Epoch 12, train loss: 285.4581, val loss: 282.8478\n"
     ]
    },
    {
     "name": "stderr",
     "output_type": "stream",
     "text": [
      "\n",
      "100%|██████████| 250/250 [00:02<00:00, 124.78it/s]\n",
      "100%|██████████| 63/63 [00:00<00:00, 299.21it/s]"
     ]
    },
    {
     "name": "stdout",
     "output_type": "stream",
     "text": [
      "Epoch 13, train loss: 285.9731, val loss: 283.3841\n"
     ]
    },
    {
     "name": "stderr",
     "output_type": "stream",
     "text": [
      "\n",
      "100%|██████████| 250/250 [00:02<00:00, 124.65it/s]\n",
      "100%|██████████| 63/63 [00:00<00:00, 293.18it/s]"
     ]
    },
    {
     "name": "stdout",
     "output_type": "stream",
     "text": [
      "Epoch 14, train loss: 286.4309, val loss: 285.3064\n"
     ]
    },
    {
     "name": "stderr",
     "output_type": "stream",
     "text": [
      "\n",
      "100%|██████████| 250/250 [00:02<00:00, 119.77it/s]\n",
      "100%|██████████| 63/63 [00:00<00:00, 292.13it/s]"
     ]
    },
    {
     "name": "stdout",
     "output_type": "stream",
     "text": [
      "Epoch 15, train loss: 286.0215, val loss: 283.4021\n"
     ]
    },
    {
     "name": "stderr",
     "output_type": "stream",
     "text": [
      "\n",
      "100%|██████████| 250/250 [00:01<00:00, 128.04it/s]\n",
      "100%|██████████| 63/63 [00:00<00:00, 287.66it/s]"
     ]
    },
    {
     "name": "stdout",
     "output_type": "stream",
     "text": [
      "Epoch 16, train loss: 285.1101, val loss: 283.3032\n"
     ]
    },
    {
     "name": "stderr",
     "output_type": "stream",
     "text": [
      "\n",
      "100%|██████████| 250/250 [00:02<00:00, 121.87it/s]\n",
      "100%|██████████| 63/63 [00:00<00:00, 289.71it/s]"
     ]
    },
    {
     "name": "stdout",
     "output_type": "stream",
     "text": [
      "Epoch 17, train loss: 285.1494, val loss: 283.1804\n"
     ]
    },
    {
     "name": "stderr",
     "output_type": "stream",
     "text": [
      "\n",
      "100%|██████████| 250/250 [00:01<00:00, 125.60it/s]\n",
      "100%|██████████| 63/63 [00:00<00:00, 304.82it/s]"
     ]
    },
    {
     "name": "stdout",
     "output_type": "stream",
     "text": [
      "Epoch 18, train loss: 285.3129, val loss: 283.0604\n"
     ]
    },
    {
     "name": "stderr",
     "output_type": "stream",
     "text": [
      "\n",
      "100%|██████████| 250/250 [00:01<00:00, 127.01it/s]\n",
      "100%|██████████| 63/63 [00:00<00:00, 303.09it/s]"
     ]
    },
    {
     "name": "stdout",
     "output_type": "stream",
     "text": [
      "Epoch 19, train loss: 285.2124, val loss: 283.3641\n"
     ]
    },
    {
     "name": "stderr",
     "output_type": "stream",
     "text": [
      "\n",
      "100%|██████████| 250/250 [00:02<00:00, 121.25it/s]\n",
      "100%|██████████| 63/63 [00:00<00:00, 290.37it/s]"
     ]
    },
    {
     "name": "stdout",
     "output_type": "stream",
     "text": [
      "Epoch 20, train loss: 285.2743, val loss: 283.9095\n"
     ]
    },
    {
     "name": "stderr",
     "output_type": "stream",
     "text": [
      "\n",
      "100%|██████████| 250/250 [00:02<00:00, 122.35it/s]\n",
      "100%|██████████| 63/63 [00:00<00:00, 286.53it/s]"
     ]
    },
    {
     "name": "stdout",
     "output_type": "stream",
     "text": [
      "Epoch 21, train loss: 285.2352, val loss: 282.5707\n"
     ]
    },
    {
     "name": "stderr",
     "output_type": "stream",
     "text": [
      "\n",
      "100%|██████████| 250/250 [00:01<00:00, 127.69it/s]\n",
      "100%|██████████| 63/63 [00:00<00:00, 309.70it/s]"
     ]
    },
    {
     "name": "stdout",
     "output_type": "stream",
     "text": [
      "Epoch 22, train loss: 284.5178, val loss: 286.5695\n"
     ]
    },
    {
     "name": "stderr",
     "output_type": "stream",
     "text": [
      "\n",
      "100%|██████████| 250/250 [00:01<00:00, 126.26it/s]\n",
      "100%|██████████| 63/63 [00:00<00:00, 290.13it/s]"
     ]
    },
    {
     "name": "stdout",
     "output_type": "stream",
     "text": [
      "Epoch 23, train loss: 284.9596, val loss: 282.6236\n"
     ]
    },
    {
     "name": "stderr",
     "output_type": "stream",
     "text": [
      "\n",
      "100%|██████████| 250/250 [00:01<00:00, 125.31it/s]\n",
      "100%|██████████| 63/63 [00:00<00:00, 285.82it/s]"
     ]
    },
    {
     "name": "stdout",
     "output_type": "stream",
     "text": [
      "Epoch 24, train loss: 284.9276, val loss: 283.8942\n"
     ]
    },
    {
     "name": "stderr",
     "output_type": "stream",
     "text": [
      "\n",
      "100%|██████████| 250/250 [00:02<00:00, 124.79it/s]\n",
      "100%|██████████| 63/63 [00:00<00:00, 285.51it/s]"
     ]
    },
    {
     "name": "stdout",
     "output_type": "stream",
     "text": [
      "Epoch 25, train loss: 285.0425, val loss: 282.5960\n"
     ]
    },
    {
     "name": "stderr",
     "output_type": "stream",
     "text": [
      "\n",
      "100%|██████████| 250/250 [00:02<00:00, 123.01it/s]\n",
      "100%|██████████| 63/63 [00:00<00:00, 296.45it/s]"
     ]
    },
    {
     "name": "stdout",
     "output_type": "stream",
     "text": [
      "Epoch 26, train loss: 285.0649, val loss: 282.8872\n"
     ]
    },
    {
     "name": "stderr",
     "output_type": "stream",
     "text": [
      "\n",
      "100%|██████████| 250/250 [00:02<00:00, 124.72it/s]\n",
      "100%|██████████| 63/63 [00:00<00:00, 286.60it/s]"
     ]
    },
    {
     "name": "stdout",
     "output_type": "stream",
     "text": [
      "Epoch 27, train loss: 284.7700, val loss: 283.5741\n"
     ]
    },
    {
     "name": "stderr",
     "output_type": "stream",
     "text": [
      "\n",
      "100%|██████████| 250/250 [00:02<00:00, 122.71it/s]\n",
      "100%|██████████| 63/63 [00:00<00:00, 280.42it/s]"
     ]
    },
    {
     "name": "stdout",
     "output_type": "stream",
     "text": [
      "Epoch 28, train loss: 284.9903, val loss: 283.0992\n"
     ]
    },
    {
     "name": "stderr",
     "output_type": "stream",
     "text": [
      "\n",
      "100%|██████████| 250/250 [00:02<00:00, 119.66it/s]\n",
      "100%|██████████| 63/63 [00:00<00:00, 268.65it/s]"
     ]
    },
    {
     "name": "stdout",
     "output_type": "stream",
     "text": [
      "Epoch 29, train loss: 285.0197, val loss: 282.6000\n"
     ]
    },
    {
     "name": "stderr",
     "output_type": "stream",
     "text": [
      "\n",
      "100%|██████████| 250/250 [00:01<00:00, 125.09it/s]\n",
      "100%|██████████| 63/63 [00:00<00:00, 186.52it/s]"
     ]
    },
    {
     "name": "stdout",
     "output_type": "stream",
     "text": [
      "Epoch 30, train loss: 284.3409, val loss: 282.5538\n"
     ]
    },
    {
     "name": "stderr",
     "output_type": "stream",
     "text": [
      "\n",
      "100%|██████████| 250/250 [00:02<00:00, 120.77it/s]\n",
      "100%|██████████| 63/63 [00:00<00:00, 248.67it/s]"
     ]
    },
    {
     "name": "stdout",
     "output_type": "stream",
     "text": [
      "Epoch 31, train loss: 284.8075, val loss: 282.6572\n"
     ]
    },
    {
     "name": "stderr",
     "output_type": "stream",
     "text": [
      "\n",
      "100%|██████████| 250/250 [00:02<00:00, 123.26it/s]\n",
      "100%|██████████| 63/63 [00:00<00:00, 284.79it/s]"
     ]
    },
    {
     "name": "stdout",
     "output_type": "stream",
     "text": [
      "Epoch 32, train loss: 284.3480, val loss: 284.2262\n"
     ]
    },
    {
     "name": "stderr",
     "output_type": "stream",
     "text": [
      "\n",
      "100%|██████████| 250/250 [00:02<00:00, 118.46it/s]\n",
      "100%|██████████| 63/63 [00:00<00:00, 270.55it/s]"
     ]
    },
    {
     "name": "stdout",
     "output_type": "stream",
     "text": [
      "Epoch 33, train loss: 284.3186, val loss: 283.4200\n"
     ]
    },
    {
     "name": "stderr",
     "output_type": "stream",
     "text": [
      "\n",
      "100%|██████████| 250/250 [00:02<00:00, 120.83it/s]\n",
      "100%|██████████| 63/63 [00:00<00:00, 276.45it/s]"
     ]
    },
    {
     "name": "stdout",
     "output_type": "stream",
     "text": [
      "Epoch 34, train loss: 284.8992, val loss: 283.2912\n"
     ]
    },
    {
     "name": "stderr",
     "output_type": "stream",
     "text": [
      "\n",
      "100%|██████████| 250/250 [00:02<00:00, 102.26it/s]\n",
      "100%|██████████| 63/63 [00:00<00:00, 275.57it/s]"
     ]
    },
    {
     "name": "stdout",
     "output_type": "stream",
     "text": [
      "Epoch 35, train loss: 284.6348, val loss: 283.3488\n"
     ]
    },
    {
     "name": "stderr",
     "output_type": "stream",
     "text": [
      "\n",
      "100%|██████████| 250/250 [00:02<00:00, 111.79it/s]\n",
      "100%|██████████| 63/63 [00:00<00:00, 274.14it/s]"
     ]
    },
    {
     "name": "stdout",
     "output_type": "stream",
     "text": [
      "Epoch 36, train loss: 284.2371, val loss: 283.2226\n"
     ]
    },
    {
     "name": "stderr",
     "output_type": "stream",
     "text": [
      "\n",
      "100%|██████████| 250/250 [00:02<00:00, 116.43it/s]\n",
      "100%|██████████| 63/63 [00:00<00:00, 266.96it/s]"
     ]
    },
    {
     "name": "stdout",
     "output_type": "stream",
     "text": [
      "Epoch 37, train loss: 284.0766, val loss: 283.1110\n"
     ]
    },
    {
     "name": "stderr",
     "output_type": "stream",
     "text": [
      "\n",
      "100%|██████████| 250/250 [00:02<00:00, 118.35it/s]\n",
      "100%|██████████| 63/63 [00:00<00:00, 281.29it/s]"
     ]
    },
    {
     "name": "stdout",
     "output_type": "stream",
     "text": [
      "Epoch 38, train loss: 284.2991, val loss: 284.1061\n"
     ]
    },
    {
     "name": "stderr",
     "output_type": "stream",
     "text": [
      "\n",
      "100%|██████████| 250/250 [00:02<00:00, 116.36it/s]\n",
      "100%|██████████| 63/63 [00:00<00:00, 271.17it/s]"
     ]
    },
    {
     "name": "stdout",
     "output_type": "stream",
     "text": [
      "Epoch 39, train loss: 284.2364, val loss: 283.7720\n"
     ]
    },
    {
     "name": "stderr",
     "output_type": "stream",
     "text": [
      "\n",
      "100%|██████████| 250/250 [00:02<00:00, 113.12it/s]\n",
      "  0%|          | 0/63 [00:00<?, ?it/s]Exception ignored in: <function _MultiProcessingDataLoaderIter.__del__ at 0x7c13067405e0>\n",
      "Traceback (most recent call last):\n",
      "  File \"/home/strongich/miniconda3/envs/main/lib/python3.11/site-packages/torch/utils/data/dataloader.py\", line 1478, in __del__\n",
      "    self._shutdown_workers()\n",
      "  File \"/home/strongich/miniconda3/envs/main/lib/python3.11/site-packages/torch/utils/data/dataloader.py\", line 1436, in _shutdown_workers\n",
      "    if self._persistent_workers or self._workers_status[worker_id]:\n",
      "                                   ^^^^^^^^^^^^^^^^^^^^\n",
      "AttributeError: '_MultiProcessingDataLoaderIter' object has no attribute '_workers_status'\n",
      "100%|██████████| 63/63 [00:00<00:00, 147.80it/s]"
     ]
    },
    {
     "name": "stdout",
     "output_type": "stream",
     "text": [
      "Epoch 40, train loss: 284.2254, val loss: 283.1755\n"
     ]
    },
    {
     "name": "stderr",
     "output_type": "stream",
     "text": [
      "\n",
      "100%|██████████| 250/250 [00:02<00:00, 112.00it/s]\n",
      "100%|██████████| 63/63 [00:00<00:00, 288.65it/s]"
     ]
    },
    {
     "name": "stdout",
     "output_type": "stream",
     "text": [
      "Epoch 41, train loss: 283.8492, val loss: 283.4712\n"
     ]
    },
    {
     "name": "stderr",
     "output_type": "stream",
     "text": [
      "\n",
      "100%|██████████| 250/250 [00:02<00:00, 121.55it/s]\n",
      "100%|██████████| 63/63 [00:00<00:00, 286.58it/s]"
     ]
    },
    {
     "name": "stdout",
     "output_type": "stream",
     "text": [
      "Epoch 42, train loss: 284.0043, val loss: 283.4213\n"
     ]
    },
    {
     "name": "stderr",
     "output_type": "stream",
     "text": [
      "\n",
      "100%|██████████| 250/250 [00:02<00:00, 122.96it/s]\n",
      "100%|██████████| 63/63 [00:00<00:00, 287.28it/s]"
     ]
    },
    {
     "name": "stdout",
     "output_type": "stream",
     "text": [
      "Epoch 43, train loss: 284.2996, val loss: 282.6490\n"
     ]
    },
    {
     "name": "stderr",
     "output_type": "stream",
     "text": [
      "\n",
      "100%|██████████| 250/250 [00:02<00:00, 123.44it/s]\n",
      "100%|██████████| 63/63 [00:00<00:00, 275.21it/s]"
     ]
    },
    {
     "name": "stdout",
     "output_type": "stream",
     "text": [
      "Epoch 44, train loss: 283.8289, val loss: 282.8434\n"
     ]
    },
    {
     "name": "stderr",
     "output_type": "stream",
     "text": [
      "\n",
      "100%|██████████| 250/250 [00:02<00:00, 122.28it/s]\n",
      "100%|██████████| 63/63 [00:00<00:00, 291.52it/s]"
     ]
    },
    {
     "name": "stdout",
     "output_type": "stream",
     "text": [
      "Epoch 45, train loss: 283.7712, val loss: 282.9538\n"
     ]
    },
    {
     "name": "stderr",
     "output_type": "stream",
     "text": [
      "\n",
      "100%|██████████| 250/250 [00:02<00:00, 115.86it/s]\n",
      "100%|██████████| 63/63 [00:00<00:00, 258.95it/s]"
     ]
    },
    {
     "name": "stdout",
     "output_type": "stream",
     "text": [
      "Epoch 46, train loss: 284.0215, val loss: 282.5079\n"
     ]
    },
    {
     "name": "stderr",
     "output_type": "stream",
     "text": [
      "\n",
      "100%|██████████| 250/250 [00:02<00:00, 120.85it/s]\n",
      "100%|██████████| 63/63 [00:00<00:00, 296.90it/s]"
     ]
    },
    {
     "name": "stdout",
     "output_type": "stream",
     "text": [
      "Epoch 47, train loss: 284.0071, val loss: 283.1211\n"
     ]
    },
    {
     "name": "stderr",
     "output_type": "stream",
     "text": [
      "\n",
      "100%|██████████| 250/250 [00:02<00:00, 119.24it/s]\n",
      "100%|██████████| 63/63 [00:00<00:00, 290.50it/s]"
     ]
    },
    {
     "name": "stdout",
     "output_type": "stream",
     "text": [
      "Epoch 48, train loss: 283.7275, val loss: 282.5766\n"
     ]
    },
    {
     "name": "stderr",
     "output_type": "stream",
     "text": [
      "\n",
      "100%|██████████| 250/250 [00:02<00:00, 124.73it/s]\n",
      "100%|██████████| 63/63 [00:00<00:00, 285.87it/s]"
     ]
    },
    {
     "name": "stdout",
     "output_type": "stream",
     "text": [
      "Epoch 49, train loss: 283.8931, val loss: 282.8772\n"
     ]
    },
    {
     "name": "stderr",
     "output_type": "stream",
     "text": [
      "\n",
      "100%|██████████| 250/250 [00:02<00:00, 122.59it/s]\n",
      "100%|██████████| 63/63 [00:00<00:00, 291.60it/s]"
     ]
    },
    {
     "name": "stdout",
     "output_type": "stream",
     "text": [
      "Epoch 50, train loss: 283.9789, val loss: 283.2922\n"
     ]
    },
    {
     "name": "stderr",
     "output_type": "stream",
     "text": [
      "\n",
      "100%|██████████| 250/250 [00:02<00:00, 123.75it/s]\n",
      "100%|██████████| 63/63 [00:00<00:00, 283.83it/s]"
     ]
    },
    {
     "name": "stdout",
     "output_type": "stream",
     "text": [
      "Epoch 51, train loss: 283.7663, val loss: 283.4704\n"
     ]
    },
    {
     "name": "stderr",
     "output_type": "stream",
     "text": [
      "\n",
      "100%|██████████| 250/250 [00:02<00:00, 118.18it/s]\n",
      "100%|██████████| 63/63 [00:00<00:00, 282.69it/s]"
     ]
    },
    {
     "name": "stdout",
     "output_type": "stream",
     "text": [
      "Epoch 52, train loss: 283.7678, val loss: 283.2109\n"
     ]
    },
    {
     "name": "stderr",
     "output_type": "stream",
     "text": [
      "\n",
      "100%|██████████| 250/250 [00:01<00:00, 125.60it/s]\n",
      "100%|██████████| 63/63 [00:00<00:00, 291.82it/s]"
     ]
    },
    {
     "name": "stdout",
     "output_type": "stream",
     "text": [
      "Epoch 53, train loss: 283.6305, val loss: 283.0791\n"
     ]
    },
    {
     "name": "stderr",
     "output_type": "stream",
     "text": [
      "\n",
      "100%|██████████| 250/250 [00:02<00:00, 122.30it/s]\n",
      "100%|██████████| 63/63 [00:00<00:00, 280.80it/s]"
     ]
    },
    {
     "name": "stdout",
     "output_type": "stream",
     "text": [
      "Epoch 54, train loss: 283.3969, val loss: 283.4383\n"
     ]
    },
    {
     "name": "stderr",
     "output_type": "stream",
     "text": [
      "\n",
      "100%|██████████| 250/250 [00:02<00:00, 120.76it/s]\n",
      "100%|██████████| 63/63 [00:00<00:00, 296.58it/s]"
     ]
    },
    {
     "name": "stdout",
     "output_type": "stream",
     "text": [
      "Epoch 55, train loss: 283.2058, val loss: 283.2879\n"
     ]
    },
    {
     "name": "stderr",
     "output_type": "stream",
     "text": [
      "\n",
      "100%|██████████| 250/250 [00:02<00:00, 121.20it/s]\n",
      "100%|██████████| 63/63 [00:00<00:00, 287.25it/s]"
     ]
    },
    {
     "name": "stdout",
     "output_type": "stream",
     "text": [
      "Epoch 56, train loss: 283.0692, val loss: 283.9851\n"
     ]
    },
    {
     "name": "stderr",
     "output_type": "stream",
     "text": [
      "\n",
      "100%|██████████| 250/250 [00:01<00:00, 126.55it/s]\n",
      "100%|██████████| 63/63 [00:00<00:00, 296.82it/s]"
     ]
    },
    {
     "name": "stdout",
     "output_type": "stream",
     "text": [
      "Epoch 57, train loss: 283.1664, val loss: 283.3952\n"
     ]
    },
    {
     "name": "stderr",
     "output_type": "stream",
     "text": [
      "\n",
      "100%|██████████| 250/250 [00:02<00:00, 122.67it/s]\n",
      "100%|██████████| 63/63 [00:00<00:00, 283.17it/s]"
     ]
    },
    {
     "name": "stdout",
     "output_type": "stream",
     "text": [
      "Epoch 58, train loss: 283.0235, val loss: 284.0812\n"
     ]
    },
    {
     "name": "stderr",
     "output_type": "stream",
     "text": [
      "\n",
      "100%|██████████| 250/250 [00:02<00:00, 120.88it/s]\n",
      "100%|██████████| 63/63 [00:00<00:00, 283.76it/s]"
     ]
    },
    {
     "name": "stdout",
     "output_type": "stream",
     "text": [
      "Epoch 59, train loss: 283.2518, val loss: 284.3568\n"
     ]
    },
    {
     "name": "stderr",
     "output_type": "stream",
     "text": [
      "\n",
      "100%|██████████| 250/250 [00:02<00:00, 120.53it/s]\n",
      "100%|██████████| 63/63 [00:00<00:00, 284.84it/s]"
     ]
    },
    {
     "name": "stdout",
     "output_type": "stream",
     "text": [
      "Epoch 60, train loss: 282.9344, val loss: 284.0051\n"
     ]
    },
    {
     "name": "stderr",
     "output_type": "stream",
     "text": [
      "\n",
      "100%|██████████| 250/250 [00:01<00:00, 126.20it/s]\n",
      "100%|██████████| 63/63 [00:00<00:00, 293.75it/s]"
     ]
    },
    {
     "name": "stdout",
     "output_type": "stream",
     "text": [
      "Epoch 61, train loss: 282.7564, val loss: 284.3685\n"
     ]
    },
    {
     "name": "stderr",
     "output_type": "stream",
     "text": [
      "\n",
      "100%|██████████| 250/250 [00:02<00:00, 120.43it/s]\n",
      "100%|██████████| 63/63 [00:00<00:00, 297.00it/s]"
     ]
    },
    {
     "name": "stdout",
     "output_type": "stream",
     "text": [
      "Epoch 62, train loss: 282.4829, val loss: 284.8989\n"
     ]
    },
    {
     "name": "stderr",
     "output_type": "stream",
     "text": [
      "\n",
      "100%|██████████| 250/250 [00:02<00:00, 122.12it/s]\n",
      "100%|██████████| 63/63 [00:00<00:00, 284.02it/s]"
     ]
    },
    {
     "name": "stdout",
     "output_type": "stream",
     "text": [
      "Epoch 63, train loss: 282.7067, val loss: 285.2570\n"
     ]
    },
    {
     "name": "stderr",
     "output_type": "stream",
     "text": [
      "\n",
      "100%|██████████| 250/250 [00:01<00:00, 125.35it/s]\n",
      "100%|██████████| 63/63 [00:00<00:00, 246.77it/s]"
     ]
    },
    {
     "name": "stdout",
     "output_type": "stream",
     "text": [
      "Epoch 64, train loss: 282.8125, val loss: 284.3641\n"
     ]
    },
    {
     "name": "stderr",
     "output_type": "stream",
     "text": [
      "\n",
      "100%|██████████| 250/250 [00:02<00:00, 124.56it/s]\n",
      "100%|██████████| 63/63 [00:00<00:00, 286.38it/s]"
     ]
    },
    {
     "name": "stdout",
     "output_type": "stream",
     "text": [
      "Epoch 65, train loss: 282.6209, val loss: 283.8479\n"
     ]
    },
    {
     "name": "stderr",
     "output_type": "stream",
     "text": [
      "\n",
      "100%|██████████| 250/250 [00:02<00:00, 122.90it/s]\n",
      "100%|██████████| 63/63 [00:00<00:00, 278.77it/s]"
     ]
    },
    {
     "name": "stdout",
     "output_type": "stream",
     "text": [
      "Epoch 66, train loss: 282.6895, val loss: 284.1376\n"
     ]
    },
    {
     "name": "stderr",
     "output_type": "stream",
     "text": [
      "\n",
      "100%|██████████| 250/250 [00:02<00:00, 120.42it/s]\n",
      "100%|██████████| 63/63 [00:00<00:00, 282.03it/s]"
     ]
    },
    {
     "name": "stdout",
     "output_type": "stream",
     "text": [
      "Epoch 67, train loss: 282.6264, val loss: 283.8331\n"
     ]
    },
    {
     "name": "stderr",
     "output_type": "stream",
     "text": [
      "\n",
      "100%|██████████| 250/250 [00:02<00:00, 122.87it/s]\n",
      "100%|██████████| 63/63 [00:00<00:00, 268.51it/s]"
     ]
    },
    {
     "name": "stdout",
     "output_type": "stream",
     "text": [
      "Epoch 68, train loss: 282.4196, val loss: 284.2169\n"
     ]
    },
    {
     "name": "stderr",
     "output_type": "stream",
     "text": [
      "\n",
      "100%|██████████| 250/250 [00:01<00:00, 126.15it/s]\n",
      "100%|██████████| 63/63 [00:00<00:00, 298.33it/s]"
     ]
    },
    {
     "name": "stdout",
     "output_type": "stream",
     "text": [
      "Epoch 69, train loss: 282.4722, val loss: 284.9735\n"
     ]
    },
    {
     "name": "stderr",
     "output_type": "stream",
     "text": [
      "\n",
      "100%|██████████| 250/250 [00:02<00:00, 120.39it/s]\n",
      "100%|██████████| 63/63 [00:00<00:00, 289.23it/s]"
     ]
    },
    {
     "name": "stdout",
     "output_type": "stream",
     "text": [
      "Epoch 70, train loss: 282.6975, val loss: 284.5907\n"
     ]
    },
    {
     "name": "stderr",
     "output_type": "stream",
     "text": [
      "\n",
      "100%|██████████| 250/250 [00:02<00:00, 121.92it/s]\n",
      "100%|██████████| 63/63 [00:00<00:00, 299.31it/s]"
     ]
    },
    {
     "name": "stdout",
     "output_type": "stream",
     "text": [
      "Epoch 71, train loss: 282.7542, val loss: 284.0302\n"
     ]
    },
    {
     "name": "stderr",
     "output_type": "stream",
     "text": [
      "\n",
      "100%|██████████| 250/250 [00:02<00:00, 124.43it/s]\n",
      "100%|██████████| 63/63 [00:00<00:00, 284.34it/s]"
     ]
    },
    {
     "name": "stdout",
     "output_type": "stream",
     "text": [
      "Epoch 72, train loss: 282.5280, val loss: 284.0099\n"
     ]
    },
    {
     "name": "stderr",
     "output_type": "stream",
     "text": [
      "\n",
      "100%|██████████| 250/250 [00:01<00:00, 126.44it/s]\n",
      "100%|██████████| 63/63 [00:00<00:00, 287.57it/s]"
     ]
    },
    {
     "name": "stdout",
     "output_type": "stream",
     "text": [
      "Epoch 73, train loss: 282.5538, val loss: 284.5768\n"
     ]
    },
    {
     "name": "stderr",
     "output_type": "stream",
     "text": [
      "\n",
      "100%|██████████| 250/250 [00:02<00:00, 122.54it/s]\n",
      "100%|██████████| 63/63 [00:00<00:00, 290.21it/s]"
     ]
    },
    {
     "name": "stdout",
     "output_type": "stream",
     "text": [
      "Epoch 74, train loss: 282.3821, val loss: 284.5437\n"
     ]
    },
    {
     "name": "stderr",
     "output_type": "stream",
     "text": [
      "\n",
      "100%|██████████| 250/250 [00:02<00:00, 123.04it/s]\n",
      "100%|██████████| 63/63 [00:00<00:00, 286.82it/s]"
     ]
    },
    {
     "name": "stdout",
     "output_type": "stream",
     "text": [
      "Epoch 75, train loss: 282.3902, val loss: 284.4568\n"
     ]
    },
    {
     "name": "stderr",
     "output_type": "stream",
     "text": [
      "\n",
      "100%|██████████| 250/250 [00:02<00:00, 122.96it/s]\n",
      "100%|██████████| 63/63 [00:00<00:00, 295.53it/s]"
     ]
    },
    {
     "name": "stdout",
     "output_type": "stream",
     "text": [
      "Epoch 76, train loss: 282.3199, val loss: 283.8653\n"
     ]
    },
    {
     "name": "stderr",
     "output_type": "stream",
     "text": [
      "\n",
      "100%|██████████| 250/250 [00:02<00:00, 121.85it/s]\n",
      "100%|██████████| 63/63 [00:00<00:00, 270.85it/s]"
     ]
    },
    {
     "name": "stdout",
     "output_type": "stream",
     "text": [
      "Epoch 77, train loss: 282.3909, val loss: 283.9742\n"
     ]
    },
    {
     "name": "stderr",
     "output_type": "stream",
     "text": [
      "\n",
      "100%|██████████| 250/250 [00:02<00:00, 119.34it/s]\n",
      "100%|██████████| 63/63 [00:00<00:00, 279.03it/s]"
     ]
    },
    {
     "name": "stdout",
     "output_type": "stream",
     "text": [
      "Epoch 78, train loss: 282.2992, val loss: 284.5614\n"
     ]
    },
    {
     "name": "stderr",
     "output_type": "stream",
     "text": [
      "\n",
      "100%|██████████| 250/250 [00:02<00:00, 121.85it/s]\n",
      "100%|██████████| 63/63 [00:00<00:00, 301.40it/s]"
     ]
    },
    {
     "name": "stdout",
     "output_type": "stream",
     "text": [
      "Epoch 79, train loss: 282.0387, val loss: 284.5393\n"
     ]
    },
    {
     "name": "stderr",
     "output_type": "stream",
     "text": [
      "\n",
      "100%|██████████| 250/250 [00:02<00:00, 123.05it/s]\n",
      "100%|██████████| 63/63 [00:00<00:00, 307.82it/s]"
     ]
    },
    {
     "name": "stdout",
     "output_type": "stream",
     "text": [
      "Epoch 80, train loss: 281.8872, val loss: 284.4195\n"
     ]
    },
    {
     "name": "stderr",
     "output_type": "stream",
     "text": [
      "\n",
      "100%|██████████| 250/250 [00:02<00:00, 119.76it/s]\n",
      "100%|██████████| 63/63 [00:00<00:00, 287.23it/s]"
     ]
    },
    {
     "name": "stdout",
     "output_type": "stream",
     "text": [
      "Epoch 81, train loss: 281.9337, val loss: 284.4718\n"
     ]
    },
    {
     "name": "stderr",
     "output_type": "stream",
     "text": [
      "\n",
      "100%|██████████| 250/250 [00:02<00:00, 123.23it/s]\n",
      "100%|██████████| 63/63 [00:00<00:00, 289.25it/s]"
     ]
    },
    {
     "name": "stdout",
     "output_type": "stream",
     "text": [
      "Epoch 82, train loss: 281.8552, val loss: 284.8538\n"
     ]
    },
    {
     "name": "stderr",
     "output_type": "stream",
     "text": [
      "\n",
      "100%|██████████| 250/250 [00:02<00:00, 124.10it/s]\n",
      "100%|██████████| 63/63 [00:00<00:00, 304.99it/s]"
     ]
    },
    {
     "name": "stdout",
     "output_type": "stream",
     "text": [
      "Epoch 83, train loss: 281.6989, val loss: 284.4877\n"
     ]
    },
    {
     "name": "stderr",
     "output_type": "stream",
     "text": [
      "\n",
      "100%|██████████| 250/250 [00:02<00:00, 124.35it/s]\n",
      "100%|██████████| 63/63 [00:00<00:00, 268.58it/s]"
     ]
    },
    {
     "name": "stdout",
     "output_type": "stream",
     "text": [
      "Epoch 84, train loss: 281.6455, val loss: 284.5904\n"
     ]
    },
    {
     "name": "stderr",
     "output_type": "stream",
     "text": [
      "\n",
      "100%|██████████| 250/250 [00:02<00:00, 121.95it/s]\n",
      "100%|██████████| 63/63 [00:00<00:00, 287.20it/s]"
     ]
    },
    {
     "name": "stdout",
     "output_type": "stream",
     "text": [
      "Epoch 85, train loss: 281.6617, val loss: 284.8457\n"
     ]
    },
    {
     "name": "stderr",
     "output_type": "stream",
     "text": [
      "\n",
      "100%|██████████| 250/250 [00:02<00:00, 123.57it/s]\n",
      "100%|██████████| 63/63 [00:00<00:00, 280.50it/s]"
     ]
    },
    {
     "name": "stdout",
     "output_type": "stream",
     "text": [
      "Epoch 86, train loss: 281.7163, val loss: 284.9405\n"
     ]
    },
    {
     "name": "stderr",
     "output_type": "stream",
     "text": [
      "\n",
      "100%|██████████| 250/250 [00:01<00:00, 126.27it/s]\n",
      "100%|██████████| 63/63 [00:00<00:00, 259.29it/s]"
     ]
    },
    {
     "name": "stdout",
     "output_type": "stream",
     "text": [
      "Epoch 87, train loss: 281.7828, val loss: 284.8034\n"
     ]
    },
    {
     "name": "stderr",
     "output_type": "stream",
     "text": [
      "\n",
      "100%|██████████| 250/250 [00:02<00:00, 122.45it/s]\n",
      "100%|██████████| 63/63 [00:00<00:00, 300.43it/s]"
     ]
    },
    {
     "name": "stdout",
     "output_type": "stream",
     "text": [
      "Epoch 88, train loss: 281.6596, val loss: 284.8106\n"
     ]
    },
    {
     "name": "stderr",
     "output_type": "stream",
     "text": [
      "\n",
      "100%|██████████| 250/250 [00:02<00:00, 120.14it/s]\n",
      "100%|██████████| 63/63 [00:00<00:00, 291.77it/s]"
     ]
    },
    {
     "name": "stdout",
     "output_type": "stream",
     "text": [
      "Epoch 89, train loss: 281.6973, val loss: 284.7933\n"
     ]
    },
    {
     "name": "stderr",
     "output_type": "stream",
     "text": [
      "\n",
      "100%|██████████| 250/250 [00:02<00:00, 124.64it/s]\n",
      "100%|██████████| 63/63 [00:00<00:00, 292.79it/s]"
     ]
    },
    {
     "name": "stdout",
     "output_type": "stream",
     "text": [
      "Epoch 90, train loss: 281.6457, val loss: 284.6413\n"
     ]
    },
    {
     "name": "stderr",
     "output_type": "stream",
     "text": [
      "\n",
      "100%|██████████| 250/250 [00:02<00:00, 121.79it/s]\n",
      "100%|██████████| 63/63 [00:00<00:00, 297.71it/s]"
     ]
    },
    {
     "name": "stdout",
     "output_type": "stream",
     "text": [
      "Epoch 91, train loss: 281.5122, val loss: 284.7699\n"
     ]
    },
    {
     "name": "stderr",
     "output_type": "stream",
     "text": [
      "\n",
      "100%|██████████| 250/250 [00:02<00:00, 124.29it/s]\n",
      "100%|██████████| 63/63 [00:00<00:00, 282.95it/s]"
     ]
    },
    {
     "name": "stdout",
     "output_type": "stream",
     "text": [
      "Epoch 92, train loss: 281.4749, val loss: 284.8893\n"
     ]
    },
    {
     "name": "stderr",
     "output_type": "stream",
     "text": [
      "\n",
      "100%|██████████| 250/250 [00:02<00:00, 120.84it/s]\n",
      "100%|██████████| 63/63 [00:00<00:00, 283.52it/s]"
     ]
    },
    {
     "name": "stdout",
     "output_type": "stream",
     "text": [
      "Epoch 93, train loss: 281.5003, val loss: 285.2821\n"
     ]
    },
    {
     "name": "stderr",
     "output_type": "stream",
     "text": [
      "\n",
      "100%|██████████| 250/250 [00:02<00:00, 121.25it/s]\n",
      "100%|██████████| 63/63 [00:00<00:00, 284.72it/s]"
     ]
    },
    {
     "name": "stdout",
     "output_type": "stream",
     "text": [
      "Epoch 94, train loss: 281.4752, val loss: 285.0169\n"
     ]
    },
    {
     "name": "stderr",
     "output_type": "stream",
     "text": [
      "\n",
      "100%|██████████| 250/250 [00:01<00:00, 125.81it/s]\n",
      "100%|██████████| 63/63 [00:00<00:00, 294.58it/s]"
     ]
    },
    {
     "name": "stdout",
     "output_type": "stream",
     "text": [
      "Epoch 95, train loss: 281.4691, val loss: 284.8693\n"
     ]
    },
    {
     "name": "stderr",
     "output_type": "stream",
     "text": [
      "\n",
      "100%|██████████| 250/250 [00:01<00:00, 126.87it/s]\n",
      "100%|██████████| 63/63 [00:00<00:00, 295.24it/s]"
     ]
    },
    {
     "name": "stdout",
     "output_type": "stream",
     "text": [
      "Epoch 96, train loss: 281.2943, val loss: 284.9616\n"
     ]
    },
    {
     "name": "stderr",
     "output_type": "stream",
     "text": [
      "\n",
      "100%|██████████| 250/250 [00:02<00:00, 121.35it/s]\n",
      "100%|██████████| 63/63 [00:00<00:00, 294.19it/s]"
     ]
    },
    {
     "name": "stdout",
     "output_type": "stream",
     "text": [
      "Epoch 97, train loss: 281.2679, val loss: 284.7369\n"
     ]
    },
    {
     "name": "stderr",
     "output_type": "stream",
     "text": [
      "\n",
      "100%|██████████| 250/250 [00:02<00:00, 122.42it/s]\n",
      "100%|██████████| 63/63 [00:00<00:00, 292.96it/s]"
     ]
    },
    {
     "name": "stdout",
     "output_type": "stream",
     "text": [
      "Epoch 98, train loss: 281.2656, val loss: 284.8835\n"
     ]
    },
    {
     "name": "stderr",
     "output_type": "stream",
     "text": [
      "\n",
      "100%|██████████| 250/250 [00:02<00:00, 124.03it/s]\n",
      "100%|██████████| 63/63 [00:00<00:00, 304.42it/s]"
     ]
    },
    {
     "name": "stdout",
     "output_type": "stream",
     "text": [
      "Epoch 99, train loss: 281.2697, val loss: 284.8655\n"
     ]
    },
    {
     "name": "stderr",
     "output_type": "stream",
     "text": [
      "\n",
      "100%|██████████| 250/250 [00:01<00:00, 127.13it/s]\n",
      "100%|██████████| 63/63 [00:00<00:00, 283.84it/s]"
     ]
    },
    {
     "name": "stdout",
     "output_type": "stream",
     "text": [
      "Epoch 100, train loss: 281.2145, val loss: 284.8712\n"
     ]
    },
    {
     "name": "stderr",
     "output_type": "stream",
     "text": [
      "\n"
     ]
    }
   ],
   "source": [
    "train_loss_dict = {}\n",
    "test_loss_dict = {}\n",
    "for name, optimizer in optimizers_list.items():\n",
    "    train_cycle(name, optimizer, train_loss_dict, test_loss_dict, final=True)"
   ]
  },
  {
   "cell_type": "code",
   "execution_count": 82,
   "metadata": {},
   "outputs": [
    {
     "data": {
      "image/png": "[encoded data removed]",
      "text/plain": [
       "<Figure size 1200x600 with 2 Axes>"
      ]
     },
     "metadata": {},
     "output_type": "display_data"
    }
   ],
   "source": [
    "plot_dictionaries(\n",
    "    train_loss_dict,\n",
    "    test_loss_dict,\n",
    "    initial_mse_train,\n",
    "    initial_mse_val,\n",
    "    f\"{experiment_dir}/{EXPERIMENT_NAME}_final_2.png\",\n",
    ")"
   ]
  },
  {
   "cell_type": "code",
   "execution_count": 73,
   "metadata": {},
   "outputs": [],
   "source": [
    "import json\n",
    "\n",
    "file_path = f\"{experiment_dir}/{EXPERIMENT_NAME}_train.json\"\n",
    "with open(file_path, \"w\") as json_file:\n",
    "    json.dump(train_loss_dict, json_file)\n",
    "\n",
    "file_path = f\"{experiment_dir}/{EXPERIMENT_NAME}_test.json\"\n",
    "with open(file_path, \"w\") as json_file:\n",
    "    json.dump(test_loss_dict, json_file)"
   ]
  },
  {
   "cell_type": "code",
   "execution_count": 74,
   "metadata": {},
   "outputs": [],
   "source": [
    "logging.info(\n",
    "    f\"% of variation before training: {(initial_mse_train/(df_train.TargetPrice - df_train.BSAprox).var() * 100).round(2)}\"\n",
    ")\n",
    "logging.info(\n",
    "    f\"% of variation after training: {(train_loss_dict['RMSprop'][41]/ (df_train.TargetPrice - df_train.BSAprox).var() * 100).round(2)}\"\n",
    ")\n",
    "logging.info(\n",
    "    f\"% of variation before training: {(initial_mse_val/(df_test.TargetPrice - df_test.BSAprox).var() * 100).round(2)}\"\n",
    ")\n",
    "logging.info(\n",
    "    f\"% of variation after training: {(test_loss_dict['RMSprop'][41] / (df_test.TargetPrice - df_test.BSAprox).var() * 100).round(2)}\"\n",
    ")"
   ]
  },
  {
   "cell_type": "code",
   "execution_count": 29,
   "metadata": {},
   "outputs": [],
   "source": [
    "def train_model(model, train_dataloader, optimizer, scheduler, criteriation, device):\n",
    "    model.train()\n",
    "    train_losses = []\n",
    "    for batch_idx, data in tqdm(\n",
    "        enumerate(train_dataloader), total=len(train_dataloader)\n",
    "    ):\n",
    "        optimizer.zero_grad()\n",
    "        inputs = data[\"input\"].to(device)\n",
    "        outputs = data[\"output\"].to(device).view(-1, 1)\n",
    "        pred = model(inputs).view(-1, 1)\n",
    "        loss = criteriation(outputs, pred)\n",
    "        loss.backward()\n",
    "        optimizer.step()\n",
    "        train_losses.append(loss.item())\n",
    "    scheduler.step(np.mean(train_losses))  # Step the scheduler based on training loss\n",
    "    return np.mean(train_losses)\n",
    "\n",
    "\n",
    "def validate_model(model, val_dataloader, criteriation, device):\n",
    "    model.eval()\n",
    "    val_losses = []\n",
    "    with torch.no_grad():\n",
    "        for batch_idx, data in tqdm(\n",
    "            enumerate(val_dataloader), total=len(val_dataloader)\n",
    "        ):\n",
    "            inputs = data[\"input\"].to(device)\n",
    "            outputs = data[\"output\"].to(device).view(-1, 1)\n",
    "            pred = model(inputs).view(-1, 1)\n",
    "            loss = criteriation(outputs, pred)\n",
    "            val_losses.append(loss.item())\n",
    "    return np.mean(val_losses)\n",
    "\n",
    "\n",
    "def train_cycle(optimizer_name, optimizer, train_loss_dict, val_loss_dict, final=False):\n",
    "    print(f\"Optimizer: {optimizer_name}\")\n",
    "    train_loss_dict[optimizer_name] = []\n",
    "    val_loss_dict[optimizer_name] = []\n",
    "    logging.info(f\"Optimizer: {optimizer_name}\")\n",
    "\n",
    "    # Define the ReduceLROnPlateau scheduler\n",
    "    scheduler = ReduceLROnPlateau(optimizer, mode=\"min\", patience=5, verbose=True)\n",
    "\n",
    "    for i in range(N_EPOCH, 100):\n",
    "        train_loss = train_model(\n",
    "            model, train_dataloader, optimizer, scheduler, criteriation, DEVICE\n",
    "        )\n",
    "        train_loss_dict[optimizer_name].append(train_loss)\n",
    "        val_loss = validate_model(model, val_dataloader, criteriation, DEVICE)\n",
    "        val_loss_dict[optimizer_name].append(val_loss)\n",
    "        if final:\n",
    "            torch.save(\n",
    "                model.state_dict(), f\"{experiment_dir}/{EXPERIMENT_NAME}_{i}.pth\"\n",
    "            )\n",
    "        print(f\"Epoch {i+1}, train loss: {train_loss:.4f}, test loss: {val_loss:.4f}\")\n",
    "        logging.info(\n",
    "            f\"Epoch {i+1}, train loss: {train_loss:.4f}, test loss: {val_loss:.4f}\"\n",
    "        )"
   ]
  },
  {
   "cell_type": "code",
   "execution_count": 30,
   "metadata": {},
   "outputs": [
    {
     "name": "stdout",
     "output_type": "stream",
     "text": [
      "Optimizer: Adam\n"
     ]
    },
    {
     "name": "stderr",
     "output_type": "stream",
     "text": [
      "100%|██████████| 2791/2791 [00:20<00:00, 138.65it/s]\n",
      "100%|██████████| 698/698 [00:02<00:00, 346.55it/s]"
     ]
    },
    {
     "name": "stdout",
     "output_type": "stream",
     "text": [
      "Epoch 51, train loss: 15.1520, test loss: 15.0572\n"
     ]
    },
    {
     "name": "stderr",
     "output_type": "stream",
     "text": [
      "\n",
      "100%|██████████| 2791/2791 [00:21<00:00, 127.89it/s]\n",
      "100%|██████████| 698/698 [00:02<00:00, 321.40it/s]"
     ]
    },
    {
     "name": "stdout",
     "output_type": "stream",
     "text": [
      "Epoch 52, train loss: 15.3887, test loss: 14.7960\n"
     ]
    },
    {
     "name": "stderr",
     "output_type": "stream",
     "text": [
      "\n",
      "100%|██████████| 2791/2791 [00:23<00:00, 116.50it/s]\n",
      "100%|██████████| 698/698 [00:01<00:00, 350.77it/s]"
     ]
    },
    {
     "name": "stdout",
     "output_type": "stream",
     "text": [
      "Epoch 53, train loss: 15.1600, test loss: 15.0739\n"
     ]
    },
    {
     "name": "stderr",
     "output_type": "stream",
     "text": [
      "\n",
      "100%|██████████| 2791/2791 [00:20<00:00, 133.95it/s]\n",
      "100%|██████████| 698/698 [00:01<00:00, 362.00it/s]"
     ]
    },
    {
     "name": "stdout",
     "output_type": "stream",
     "text": [
      "Epoch 54, train loss: 15.5402, test loss: 14.8740\n"
     ]
    },
    {
     "name": "stderr",
     "output_type": "stream",
     "text": [
      "\n",
      "100%|██████████| 2791/2791 [00:20<00:00, 137.82it/s]\n",
      "100%|██████████| 698/698 [00:01<00:00, 357.46it/s]"
     ]
    },
    {
     "name": "stdout",
     "output_type": "stream",
     "text": [
      "Epoch 55, train loss: 15.3245, test loss: 14.9195\n"
     ]
    },
    {
     "name": "stderr",
     "output_type": "stream",
     "text": [
      "\n",
      "100%|██████████| 2791/2791 [00:20<00:00, 138.72it/s]\n",
      "100%|██████████| 698/698 [00:01<00:00, 368.30it/s]"
     ]
    },
    {
     "name": "stdout",
     "output_type": "stream",
     "text": [
      "Epoch 56, train loss: 14.5784, test loss: 15.5519\n"
     ]
    },
    {
     "name": "stderr",
     "output_type": "stream",
     "text": [
      "\n",
      "100%|██████████| 2791/2791 [00:20<00:00, 136.41it/s]\n",
      "100%|██████████| 698/698 [00:01<00:00, 362.18it/s]"
     ]
    },
    {
     "name": "stdout",
     "output_type": "stream",
     "text": [
      "Epoch 57, train loss: 14.6905, test loss: 15.2107\n"
     ]
    },
    {
     "name": "stderr",
     "output_type": "stream",
     "text": [
      "\n",
      "100%|██████████| 2791/2791 [00:20<00:00, 136.62it/s]\n",
      "100%|██████████| 698/698 [00:01<00:00, 363.73it/s]"
     ]
    },
    {
     "name": "stdout",
     "output_type": "stream",
     "text": [
      "Epoch 58, train loss: 14.7698, test loss: 15.0287\n"
     ]
    },
    {
     "name": "stderr",
     "output_type": "stream",
     "text": [
      "\n",
      "100%|██████████| 2791/2791 [00:19<00:00, 139.83it/s]\n",
      "100%|██████████| 698/698 [00:01<00:00, 366.32it/s]"
     ]
    },
    {
     "name": "stdout",
     "output_type": "stream",
     "text": [
      "Epoch 59, train loss: 14.6966, test loss: 14.9380\n"
     ]
    },
    {
     "name": "stderr",
     "output_type": "stream",
     "text": [
      "\n",
      "100%|██████████| 2791/2791 [00:20<00:00, 137.75it/s]\n",
      "100%|██████████| 698/698 [00:01<00:00, 360.32it/s]"
     ]
    },
    {
     "name": "stdout",
     "output_type": "stream",
     "text": [
      "Epoch 60, train loss: 14.7310, test loss: 14.8965\n"
     ]
    },
    {
     "name": "stderr",
     "output_type": "stream",
     "text": [
      "\n",
      "100%|██████████| 2791/2791 [00:20<00:00, 134.27it/s]\n",
      "100%|██████████| 698/698 [00:01<00:00, 367.51it/s]"
     ]
    },
    {
     "name": "stdout",
     "output_type": "stream",
     "text": [
      "Epoch 61, train loss: 15.1140, test loss: 14.9883\n"
     ]
    },
    {
     "name": "stderr",
     "output_type": "stream",
     "text": [
      "\n",
      "100%|██████████| 2791/2791 [00:20<00:00, 133.78it/s]"
     ]
    },
    {
     "name": "stdout",
     "output_type": "stream",
     "text": [
      "Epoch 00012: reducing learning rate of group 0 to 3.0000e-06.\n"
     ]
    },
    {
     "name": "stderr",
     "output_type": "stream",
     "text": [
      "\n",
      "100%|██████████| 698/698 [00:02<00:00, 348.21it/s]"
     ]
    },
    {
     "name": "stdout",
     "output_type": "stream",
     "text": [
      "Epoch 62, train loss: 15.0032, test loss: 15.0009\n"
     ]
    },
    {
     "name": "stderr",
     "output_type": "stream",
     "text": [
      "\n",
      "100%|██████████| 2791/2791 [00:22<00:00, 125.89it/s]\n",
      "100%|██████████| 698/698 [00:02<00:00, 333.69it/s]\n"
     ]
    },
    {
     "name": "stdout",
     "output_type": "stream",
     "text": [
      "Epoch 63, train loss: 13.9765, test loss: 14.9068\n"
     ]
    },
    {
     "name": "stderr",
     "output_type": "stream",
     "text": [
      "100%|██████████| 2791/2791 [00:19<00:00, 143.00it/s]\n",
      "100%|██████████| 698/698 [00:01<00:00, 383.90it/s]"
     ]
    },
    {
     "name": "stdout",
     "output_type": "stream",
     "text": [
      "Epoch 64, train loss: 13.9467, test loss: 14.8981\n"
     ]
    },
    {
     "name": "stderr",
     "output_type": "stream",
     "text": [
      "\n",
      "100%|██████████| 2791/2791 [00:19<00:00, 144.26it/s]\n",
      "100%|██████████| 698/698 [00:01<00:00, 386.41it/s]"
     ]
    },
    {
     "name": "stdout",
     "output_type": "stream",
     "text": [
      "Epoch 65, train loss: 13.9420, test loss: 14.8892\n"
     ]
    },
    {
     "name": "stderr",
     "output_type": "stream",
     "text": [
      "\n",
      "100%|██████████| 2791/2791 [00:19<00:00, 142.91it/s]\n",
      "100%|██████████| 698/698 [00:01<00:00, 385.55it/s]"
     ]
    },
    {
     "name": "stdout",
     "output_type": "stream",
     "text": [
      "Epoch 66, train loss: 13.9126, test loss: 14.8817\n"
     ]
    },
    {
     "name": "stderr",
     "output_type": "stream",
     "text": [
      "\n",
      "100%|██████████| 2791/2791 [00:19<00:00, 142.67it/s]\n",
      "100%|██████████| 698/698 [00:01<00:00, 383.74it/s]"
     ]
    },
    {
     "name": "stdout",
     "output_type": "stream",
     "text": [
      "Epoch 67, train loss: 13.9087, test loss: 14.8849\n"
     ]
    },
    {
     "name": "stderr",
     "output_type": "stream",
     "text": [
      "\n",
      "100%|██████████| 2791/2791 [00:19<00:00, 143.64it/s]\n",
      "100%|██████████| 698/698 [00:01<00:00, 386.19it/s]"
     ]
    },
    {
     "name": "stdout",
     "output_type": "stream",
     "text": [
      "Epoch 68, train loss: 13.8657, test loss: 14.8844\n"
     ]
    },
    {
     "name": "stderr",
     "output_type": "stream",
     "text": [
      "\n",
      "100%|██████████| 2791/2791 [00:19<00:00, 144.76it/s]\n",
      "100%|██████████| 698/698 [00:01<00:00, 381.88it/s]"
     ]
    },
    {
     "name": "stdout",
     "output_type": "stream",
     "text": [
      "Epoch 69, train loss: 13.8717, test loss: 14.8792\n"
     ]
    },
    {
     "name": "stderr",
     "output_type": "stream",
     "text": [
      "\n",
      "100%|██████████| 2791/2791 [00:19<00:00, 144.07it/s]\n",
      "100%|██████████| 698/698 [00:01<00:00, 382.20it/s]"
     ]
    },
    {
     "name": "stdout",
     "output_type": "stream",
     "text": [
      "Epoch 70, train loss: 13.8497, test loss: 14.8795\n"
     ]
    },
    {
     "name": "stderr",
     "output_type": "stream",
     "text": [
      "\n",
      "100%|██████████| 2791/2791 [00:19<00:00, 139.94it/s]\n",
      "100%|██████████| 698/698 [00:01<00:00, 376.96it/s]\n"
     ]
    },
    {
     "name": "stdout",
     "output_type": "stream",
     "text": [
      "Epoch 71, train loss: 13.8242, test loss: 14.8854\n"
     ]
    },
    {
     "name": "stderr",
     "output_type": "stream",
     "text": [
      "100%|██████████| 2791/2791 [00:20<00:00, 138.38it/s]\n",
      "100%|██████████| 698/698 [00:01<00:00, 352.94it/s]"
     ]
    },
    {
     "name": "stdout",
     "output_type": "stream",
     "text": [
      "Epoch 72, train loss: 13.8136, test loss: 14.9072\n"
     ]
    },
    {
     "name": "stderr",
     "output_type": "stream",
     "text": [
      "\n",
      "100%|██████████| 2791/2791 [00:22<00:00, 126.40it/s]\n",
      "100%|██████████| 698/698 [00:02<00:00, 341.90it/s]"
     ]
    },
    {
     "name": "stdout",
     "output_type": "stream",
     "text": [
      "Epoch 73, train loss: 13.8525, test loss: 14.8810\n"
     ]
    },
    {
     "name": "stderr",
     "output_type": "stream",
     "text": [
      "\n",
      "100%|██████████| 2791/2791 [00:20<00:00, 138.16it/s]\n",
      "100%|██████████| 698/698 [00:02<00:00, 342.65it/s]"
     ]
    },
    {
     "name": "stdout",
     "output_type": "stream",
     "text": [
      "Epoch 74, train loss: 13.7920, test loss: 14.8710\n"
     ]
    },
    {
     "name": "stderr",
     "output_type": "stream",
     "text": [
      "\n",
      "100%|██████████| 2791/2791 [00:19<00:00, 140.08it/s]\n",
      "100%|██████████| 698/698 [00:01<00:00, 356.31it/s]"
     ]
    },
    {
     "name": "stdout",
     "output_type": "stream",
     "text": [
      "Epoch 75, train loss: 13.8038, test loss: 14.8800\n"
     ]
    },
    {
     "name": "stderr",
     "output_type": "stream",
     "text": [
      "\n",
      "100%|██████████| 2791/2791 [00:19<00:00, 142.34it/s]\n",
      "100%|██████████| 698/698 [00:01<00:00, 395.53it/s]"
     ]
    },
    {
     "name": "stdout",
     "output_type": "stream",
     "text": [
      "Epoch 76, train loss: 13.7929, test loss: 14.8801\n"
     ]
    },
    {
     "name": "stderr",
     "output_type": "stream",
     "text": [
      "\n",
      "100%|██████████| 2791/2791 [00:19<00:00, 143.30it/s]\n",
      "100%|██████████| 698/698 [00:01<00:00, 409.48it/s]"
     ]
    },
    {
     "name": "stdout",
     "output_type": "stream",
     "text": [
      "Epoch 77, train loss: 13.7795, test loss: 14.8827\n"
     ]
    },
    {
     "name": "stderr",
     "output_type": "stream",
     "text": [
      "\n",
      "100%|██████████| 2791/2791 [00:19<00:00, 141.03it/s]\n",
      "100%|██████████| 698/698 [00:01<00:00, 355.67it/s]"
     ]
    },
    {
     "name": "stdout",
     "output_type": "stream",
     "text": [
      "Epoch 78, train loss: 13.7519, test loss: 14.9581\n"
     ]
    },
    {
     "name": "stderr",
     "output_type": "stream",
     "text": [
      "\n",
      "100%|██████████| 2791/2791 [00:21<00:00, 129.50it/s]\n",
      "100%|██████████| 698/698 [00:01<00:00, 358.27it/s]"
     ]
    },
    {
     "name": "stdout",
     "output_type": "stream",
     "text": [
      "Epoch 79, train loss: 13.7587, test loss: 14.8782\n"
     ]
    },
    {
     "name": "stderr",
     "output_type": "stream",
     "text": [
      "\n",
      "100%|██████████| 2791/2791 [00:21<00:00, 127.89it/s]\n",
      "100%|██████████| 698/698 [00:02<00:00, 341.55it/s]"
     ]
    },
    {
     "name": "stdout",
     "output_type": "stream",
     "text": [
      "Epoch 80, train loss: 13.7785, test loss: 14.9013\n"
     ]
    },
    {
     "name": "stderr",
     "output_type": "stream",
     "text": [
      "\n",
      "100%|██████████| 2791/2791 [00:22<00:00, 126.51it/s]\n",
      "100%|██████████| 698/698 [00:01<00:00, 353.28it/s]"
     ]
    },
    {
     "name": "stdout",
     "output_type": "stream",
     "text": [
      "Epoch 81, train loss: 13.7422, test loss: 14.8886\n"
     ]
    },
    {
     "name": "stderr",
     "output_type": "stream",
     "text": [
      "\n",
      "100%|██████████| 2791/2791 [00:20<00:00, 134.04it/s]\n",
      "100%|██████████| 698/698 [00:01<00:00, 397.55it/s]"
     ]
    },
    {
     "name": "stdout",
     "output_type": "stream",
     "text": [
      "Epoch 82, train loss: 13.7631, test loss: 14.8928\n"
     ]
    },
    {
     "name": "stderr",
     "output_type": "stream",
     "text": [
      "\n",
      "100%|██████████| 2791/2791 [00:20<00:00, 138.95it/s]\n",
      "100%|██████████| 698/698 [00:02<00:00, 336.77it/s]"
     ]
    },
    {
     "name": "stdout",
     "output_type": "stream",
     "text": [
      "Epoch 83, train loss: 13.7549, test loss: 14.8892\n"
     ]
    },
    {
     "name": "stderr",
     "output_type": "stream",
     "text": [
      "\n",
      "100%|██████████| 2791/2791 [00:20<00:00, 134.47it/s]\n",
      "100%|██████████| 698/698 [00:01<00:00, 367.69it/s]"
     ]
    },
    {
     "name": "stdout",
     "output_type": "stream",
     "text": [
      "Epoch 84, train loss: 13.7512, test loss: 14.8932\n"
     ]
    },
    {
     "name": "stderr",
     "output_type": "stream",
     "text": [
      "\n",
      "100%|██████████| 2791/2791 [00:20<00:00, 134.79it/s]\n",
      "100%|██████████| 698/698 [00:01<00:00, 352.76it/s]"
     ]
    },
    {
     "name": "stdout",
     "output_type": "stream",
     "text": [
      "Epoch 85, train loss: 13.7179, test loss: 14.8955\n"
     ]
    },
    {
     "name": "stderr",
     "output_type": "stream",
     "text": [
      "\n",
      "100%|██████████| 2791/2791 [00:20<00:00, 138.66it/s]\n",
      "100%|██████████| 698/698 [00:01<00:00, 364.66it/s]"
     ]
    },
    {
     "name": "stdout",
     "output_type": "stream",
     "text": [
      "Epoch 86, train loss: 13.7321, test loss: 14.9013\n"
     ]
    },
    {
     "name": "stderr",
     "output_type": "stream",
     "text": [
      "\n",
      "100%|██████████| 2791/2791 [00:21<00:00, 131.17it/s]\n",
      "100%|██████████| 698/698 [00:01<00:00, 359.67it/s]\n"
     ]
    },
    {
     "name": "stdout",
     "output_type": "stream",
     "text": [
      "Epoch 87, train loss: 13.7366, test loss: 14.8958\n"
     ]
    },
    {
     "name": "stderr",
     "output_type": "stream",
     "text": [
      "100%|██████████| 2791/2791 [00:20<00:00, 136.73it/s]\n",
      "100%|██████████| 698/698 [00:01<00:00, 363.28it/s]"
     ]
    },
    {
     "name": "stdout",
     "output_type": "stream",
     "text": [
      "Epoch 88, train loss: 13.6819, test loss: 14.9143\n"
     ]
    },
    {
     "name": "stderr",
     "output_type": "stream",
     "text": [
      "\n",
      "100%|██████████| 2791/2791 [00:21<00:00, 128.07it/s]\n",
      "100%|██████████| 698/698 [00:01<00:00, 379.32it/s]"
     ]
    },
    {
     "name": "stdout",
     "output_type": "stream",
     "text": [
      "Epoch 89, train loss: 13.6712, test loss: 14.9184\n"
     ]
    },
    {
     "name": "stderr",
     "output_type": "stream",
     "text": [
      "\n",
      "100%|██████████| 2791/2791 [00:18<00:00, 150.32it/s]\n",
      "100%|██████████| 698/698 [00:01<00:00, 400.47it/s]"
     ]
    },
    {
     "name": "stdout",
     "output_type": "stream",
     "text": [
      "Epoch 90, train loss: 13.7265, test loss: 14.9111\n"
     ]
    },
    {
     "name": "stderr",
     "output_type": "stream",
     "text": [
      "\n",
      "100%|██████████| 2791/2791 [00:18<00:00, 152.78it/s]\n",
      "100%|██████████| 698/698 [00:01<00:00, 424.63it/s]"
     ]
    },
    {
     "name": "stdout",
     "output_type": "stream",
     "text": [
      "Epoch 91, train loss: 13.6992, test loss: 14.9058\n"
     ]
    },
    {
     "name": "stderr",
     "output_type": "stream",
     "text": [
      "\n",
      "100%|██████████| 2791/2791 [00:18<00:00, 152.35it/s]\n",
      "100%|██████████| 698/698 [00:01<00:00, 376.12it/s]"
     ]
    },
    {
     "name": "stdout",
     "output_type": "stream",
     "text": [
      "Epoch 92, train loss: 13.7273, test loss: 14.9105\n"
     ]
    },
    {
     "name": "stderr",
     "output_type": "stream",
     "text": [
      "\n",
      "100%|██████████| 2791/2791 [00:20<00:00, 135.03it/s]\n",
      "100%|██████████| 698/698 [00:01<00:00, 371.47it/s]"
     ]
    },
    {
     "name": "stdout",
     "output_type": "stream",
     "text": [
      "Epoch 93, train loss: 13.6984, test loss: 14.9097\n"
     ]
    },
    {
     "name": "stderr",
     "output_type": "stream",
     "text": [
      "\n",
      "100%|██████████| 2791/2791 [00:20<00:00, 138.10it/s]\n",
      "100%|██████████| 698/698 [00:01<00:00, 377.15it/s]\n"
     ]
    },
    {
     "name": "stdout",
     "output_type": "stream",
     "text": [
      "Epoch 94, train loss: 13.6989, test loss: 14.9163\n"
     ]
    },
    {
     "name": "stderr",
     "output_type": "stream",
     "text": [
      "100%|██████████| 2791/2791 [00:20<00:00, 137.37it/s]"
     ]
    },
    {
     "name": "stdout",
     "output_type": "stream",
     "text": [
      "Epoch 00045: reducing learning rate of group 0 to 3.0000e-07.\n"
     ]
    },
    {
     "name": "stderr",
     "output_type": "stream",
     "text": [
      "\n",
      "100%|██████████| 698/698 [00:01<00:00, 349.47it/s]"
     ]
    },
    {
     "name": "stdout",
     "output_type": "stream",
     "text": [
      "Epoch 95, train loss: 13.7266, test loss: 14.9154\n"
     ]
    },
    {
     "name": "stderr",
     "output_type": "stream",
     "text": [
      "\n",
      "100%|██████████| 2791/2791 [00:22<00:00, 123.16it/s]\n",
      "100%|██████████| 698/698 [00:01<00:00, 353.70it/s]"
     ]
    },
    {
     "name": "stdout",
     "output_type": "stream",
     "text": [
      "Epoch 96, train loss: 13.5943, test loss: 14.9160\n"
     ]
    },
    {
     "name": "stderr",
     "output_type": "stream",
     "text": [
      "\n",
      "100%|██████████| 2791/2791 [00:21<00:00, 131.07it/s]\n",
      "100%|██████████| 698/698 [00:01<00:00, 388.76it/s]"
     ]
    },
    {
     "name": "stdout",
     "output_type": "stream",
     "text": [
      "Epoch 97, train loss: 13.5934, test loss: 14.9140\n"
     ]
    },
    {
     "name": "stderr",
     "output_type": "stream",
     "text": [
      "\n",
      "100%|██████████| 2791/2791 [00:20<00:00, 138.40it/s]\n",
      "100%|██████████| 698/698 [00:01<00:00, 378.01it/s]"
     ]
    },
    {
     "name": "stdout",
     "output_type": "stream",
     "text": [
      "Epoch 98, train loss: 13.5931, test loss: 14.9152\n"
     ]
    },
    {
     "name": "stderr",
     "output_type": "stream",
     "text": [
      "\n",
      "100%|██████████| 2791/2791 [00:19<00:00, 142.98it/s]\n",
      "100%|██████████| 698/698 [00:01<00:00, 369.65it/s]"
     ]
    },
    {
     "name": "stdout",
     "output_type": "stream",
     "text": [
      "Epoch 99, train loss: 13.5932, test loss: 14.9155\n"
     ]
    },
    {
     "name": "stderr",
     "output_type": "stream",
     "text": [
      "\n",
      "100%|██████████| 2791/2791 [00:19<00:00, 142.80it/s]\n",
      "100%|██████████| 698/698 [00:01<00:00, 377.52it/s]"
     ]
    },
    {
     "name": "stdout",
     "output_type": "stream",
     "text": [
      "Epoch 100, train loss: 13.5906, test loss: 14.9126\n"
     ]
    },
    {
     "name": "stderr",
     "output_type": "stream",
     "text": [
      "\n"
     ]
    }
   ],
   "source": [
    "train_loss_dict = {}\n",
    "test_loss_dict = {}\n",
    "for name, optimizer in optimizers_list.items():\n",
    "    train_cycle(name, optimizer, train_loss_dict, test_loss_dict, final=True)"
   ]
  },
  {
   "cell_type": "code",
   "execution_count": 45,
   "metadata": {},
   "outputs": [
    {
     "data": {
      "image/png": "[encoded data removed]",
      "text/plain": [
       "<Figure size 1200x600 with 2 Axes>"
      ]
     },
     "metadata": {},
     "output_type": "display_data"
    }
   ],
   "source": [
    "file_path = f\"{experiment_dir}/{EXPERIMENT_NAME}_train.json\"\n",
    "with open(file_path, \"r\") as json_file:\n",
    "    first_50_train = json.load(json_file)\n",
    "\n",
    "file_path = f\"{experiment_dir}/{EXPERIMENT_NAME}_test.json\"\n",
    "with open(file_path, \"r\") as json_file:\n",
    "    first_50_test = json.load(json_file)\n",
    "\n",
    "train = np.concatenate((first_50_train[\"Adam\"], train_loss_dict[\"Adam\"]))\n",
    "test = np.concatenate((first_50_test[\"Adam\"], test_loss_dict[\"Adam\"]))\n",
    "train_all = {\"Adam\":train}\n",
    "test_all = {\"Adam\":test}\n",
    "plot_dictionaries(\n",
    "    train_all,\n",
    "    test_all,\n",
    "    initial_mse_train,\n",
    "    initial_mse_val,\n",
    "    f\"{experiment_dir}/{EXPERIMENT_NAME}_final.png\",\n",
    ")"
   ]
  },
  {
   "cell_type": "code",
   "execution_count": 49,
   "metadata": {},
   "outputs": [
    {
     "name": "stdout",
     "output_type": "stream",
     "text": [
      "% of variation before training: 108.54\n",
      "% of variation after training: 47.15\n",
      "% of variation before training: 108.57\n",
      "% of variation after training: 48.85\n"
     ]
    }
   ],
   "source": [
    "print(\n",
    "    f\"% of variation before training: {(initial_mse_train*100/(df_train.TargetPrice - df_train.BSAprox).var()).round(2)}\"\n",
    ")\n",
    "print(\n",
    "    f\"% of variation after training: {(train_all['Adam'][60]*100/ (df_train.TargetPrice - df_train.BSAprox).var()).round(2)}\"\n",
    ")\n",
    "print(\n",
    "    f\"% of variation before training: {(initial_mse_val*100/(df_test.TargetPrice - df_test.BSAprox).var()).round(2)}\"\n",
    ")\n",
    "print(\n",
    "    f\"% of variation after training: {(train_all['Adam'][60]*100 / (df_test.TargetPrice - df_test.BSAprox).var()).round(2)}\"\n",
    ")"
   ]
  }
 ],
 "metadata": {
  "kernelspec": {
   "display_name": "main",
   "language": "python",
   "name": "python3"
  },
  "language_info": {
   "codemirror_mode": {
    "name": "ipython",
    "version": 3
   },
   "file_extension": ".py",
   "mimetype": "text/x-python",
   "name": "python",
   "nbconvert_exporter": "python",
   "pygments_lexer": "ipython3",
   "version": "3.11.5"
  }
 },
 "nbformat": 4,
 "nbformat_minor": 2
}
