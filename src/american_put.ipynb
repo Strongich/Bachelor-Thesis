{
 "cells": [
  {
   "cell_type": "code",
   "execution_count": 1,
   "metadata": {},
   "outputs": [],
   "source": [
    "import torch\n",
    "import numpy as np\n",
    "import matplotlib.pyplot as plt\n",
    "import torch.nn as nn\n",
    "from torch.utils.data import DataLoader\n",
    "from tqdm import tqdm\n",
    "import pandas as pd\n",
    "from sklearn.model_selection import train_test_split\n",
    "import os\n",
    "from scipy.stats import skew, kurtosis\n",
    "\n",
    "torch.cuda.empty_cache()\n",
    "# imports of custom blocks for model, data generation\n",
    "from Ferret.ImplicitAm import ImplicitAmBre, ImplicitAmBer\n",
    "from models import *\n",
    "from create_plots import *\n",
    "from utils import AmericanPutData, get_prices_put\n",
    "from utils import S, T, K, RISK_FREE, SIGMA, S_MAX"
   ]
  },
  {
   "cell_type": "markdown",
   "metadata": {},
   "source": [
    "## Put Option\n",
    "\n",
    "### Content: \n",
    "1. **Generating Data**\n",
    "2. **Training on Generated Data, Testing Both on Generated and Real Data**\n",
    "3. **Training on Real Data, Testing on Real Data**\n",
    "4. **Mixture of Data (70/30, 50/50), Testing on Real Data**\n"
   ]
  },
  {
   "cell_type": "code",
   "execution_count": 2,
   "metadata": {},
   "outputs": [
    {
     "name": "stdout",
     "output_type": "stream",
     "text": [
      "(10000, 8)\n"
     ]
    }
   ],
   "source": [
    "put_data = AmericanPutData(t_range=T, S_range=S, K=K, r=RISK_FREE, sigma=SIGMA)\n",
    "# N_ivp - IVP points\n",
    "# N_bvp - both BVP1 and BVP2 points\n",
    "# N_col - colocation points\n",
    "X = put_data.initialize_data(N_ivp=1000, N_bvp=3000, N_col=6000, is_call=False)\n",
    "option = ImplicitAmBer(\n",
    "    S[0],\n",
    "    K,\n",
    "    RISK_FREE,\n",
    "    T[1],\n",
    "    SIGMA,\n",
    "    S_MAX,\n",
    "    M=400,  # S\n",
    "    N=365 * 3,  # t\n",
    "    is_call=False,\n",
    ")\n",
    "option.price()\n",
    "option_fde_prices = option.grid\n",
    "data = get_prices_put(X, option_fde_prices, generated=True)\n",
    "df = pd.DataFrame(\n",
    "    data=data,\n",
    "    columns=[\n",
    "        \"TimeToExp\",\n",
    "        \"UnderlyingPrice\",\n",
    "        \"TargetPrice\",\n",
    "        \"OpenInterest\",\n",
    "        \"Delta\",\n",
    "        \"Gamma\",\n",
    "        \"Theta\",\n",
    "        \"Vega\",\n",
    "        \"BSAprox\",\n",
    "    ],\n",
    ")\n",
    "df[[\"TimeToExp\", \"UnderlyingPrice\", \"TargetPrice\", \"BSAprox\"]] = df[\n",
    "    [\"TimeToExp\", \"UnderlyingPrice\", \"TargetPrice\", \"BSAprox\"]\n",
    "].round(2)\n",
    "df[\"OpenInterest\"] = df[\"OpenInterest\"].round(0)\n",
    "df.to_csv(\"../train_data/generated_put.csv\")"
   ]
  },
  {
   "cell_type": "code",
   "execution_count": 2,
   "metadata": {},
   "outputs": [
    {
     "data": {
      "text/html": [
       "<div>\n",
       "<style scoped>\n",
       "    .dataframe tbody tr th:only-of-type {\n",
       "        vertical-align: middle;\n",
       "    }\n",
       "\n",
       "    .dataframe tbody tr th {\n",
       "        vertical-align: top;\n",
       "    }\n",
       "\n",
       "    .dataframe thead th {\n",
       "        text-align: right;\n",
       "    }\n",
       "</style>\n",
       "<table border=\"1\" class=\"dataframe\">\n",
       "  <thead>\n",
       "    <tr style=\"text-align: right;\">\n",
       "      <th></th>\n",
       "      <th>TimeToExp</th>\n",
       "      <th>UnderlyingPrice</th>\n",
       "      <th>TargetPrice</th>\n",
       "      <th>OpenInterest</th>\n",
       "      <th>Delta</th>\n",
       "      <th>Gamma</th>\n",
       "      <th>Theta</th>\n",
       "      <th>Vega</th>\n",
       "      <th>BSAprox</th>\n",
       "    </tr>\n",
       "  </thead>\n",
       "  <tbody>\n",
       "    <tr>\n",
       "      <th>0</th>\n",
       "      <td>827.0</td>\n",
       "      <td>138.66</td>\n",
       "      <td>39.12</td>\n",
       "      <td>133.0</td>\n",
       "      <td>-0.876502</td>\n",
       "      <td>0.052474</td>\n",
       "      <td>-4.578248</td>\n",
       "      <td>15.334991</td>\n",
       "      <td>0.00</td>\n",
       "    </tr>\n",
       "    <tr>\n",
       "      <th>1</th>\n",
       "      <td>1045.0</td>\n",
       "      <td>113.58</td>\n",
       "      <td>45.38</td>\n",
       "      <td>228.0</td>\n",
       "      <td>-0.118852</td>\n",
       "      <td>0.002001</td>\n",
       "      <td>-7.851140</td>\n",
       "      <td>3.742773</td>\n",
       "      <td>6.48</td>\n",
       "    </tr>\n",
       "    <tr>\n",
       "      <th>2</th>\n",
       "      <td>395.0</td>\n",
       "      <td>194.28</td>\n",
       "      <td>27.86</td>\n",
       "      <td>937.0</td>\n",
       "      <td>-0.756109</td>\n",
       "      <td>0.000596</td>\n",
       "      <td>-1.044538</td>\n",
       "      <td>0.431675</td>\n",
       "      <td>0.00</td>\n",
       "    </tr>\n",
       "    <tr>\n",
       "      <th>3</th>\n",
       "      <td>563.0</td>\n",
       "      <td>112.40</td>\n",
       "      <td>45.66</td>\n",
       "      <td>109.0</td>\n",
       "      <td>-0.196355</td>\n",
       "      <td>0.012452</td>\n",
       "      <td>-4.211471</td>\n",
       "      <td>12.599267</td>\n",
       "      <td>7.64</td>\n",
       "    </tr>\n",
       "    <tr>\n",
       "      <th>4</th>\n",
       "      <td>980.0</td>\n",
       "      <td>145.38</td>\n",
       "      <td>37.53</td>\n",
       "      <td>72.0</td>\n",
       "      <td>-0.417402</td>\n",
       "      <td>0.012488</td>\n",
       "      <td>-0.112282</td>\n",
       "      <td>7.536177</td>\n",
       "      <td>0.00</td>\n",
       "    </tr>\n",
       "  </tbody>\n",
       "</table>\n",
       "</div>"
      ],
      "text/plain": [
       "   TimeToExp  UnderlyingPrice  TargetPrice  OpenInterest     Delta     Gamma  \\\n",
       "0      827.0           138.66        39.12         133.0 -0.876502  0.052474   \n",
       "1     1045.0           113.58        45.38         228.0 -0.118852  0.002001   \n",
       "2      395.0           194.28        27.86         937.0 -0.756109  0.000596   \n",
       "3      563.0           112.40        45.66         109.0 -0.196355  0.012452   \n",
       "4      980.0           145.38        37.53          72.0 -0.417402  0.012488   \n",
       "\n",
       "      Theta       Vega  BSAprox  \n",
       "0 -4.578248  15.334991     0.00  \n",
       "1 -7.851140   3.742773     6.48  \n",
       "2 -1.044538   0.431675     0.00  \n",
       "3 -4.211471  12.599267     7.64  \n",
       "4 -0.112282   7.536177     0.00  "
      ]
     },
     "execution_count": 2,
     "metadata": {},
     "output_type": "execute_result"
    }
   ],
   "source": [
    "df = pd.read_csv(\"../train_data/generated_put.csv\", index_col=0)\n",
    "df.head()"
   ]
  },
  {
   "cell_type": "code",
   "execution_count": 4,
   "metadata": {},
   "outputs": [
    {
     "name": "stdout",
     "output_type": "stream",
     "text": [
      "ITM count:4272\n",
      "OTM count:5728\n"
     ]
    }
   ],
   "source": [
    "# Check for ITM and OTM\n",
    "print(f\"ITM count:{np.sum(df.UnderlyingPrice < K)}\")\n",
    "print(f\"OTM count:{np.sum(df.UnderlyingPrice >= K)}\")"
   ]
  },
  {
   "cell_type": "code",
   "execution_count": 5,
   "metadata": {},
   "outputs": [
    {
     "data": {
      "image/png": "[encoded data removed]",
      "text/plain": [
       "<Figure size 1200x800 with 1 Axes>"
      ]
     },
     "metadata": {},
     "output_type": "display_data"
    }
   ],
   "source": [
    "plt.figure(figsize=(12, 8))\n",
    "plt.scatter(\n",
    "    x=np.arange(1, len(df.TargetPrice) + 1, 1), y=df.TargetPrice, label=\"TargetValue\"\n",
    ")\n",
    "plt.scatter(x=np.arange(1, len(df.BSAprox) + 1, 1), y=df.BSAprox, label=\"B-S approx.\")\n",
    "plt.legend()\n",
    "plt.show()"
   ]
  },
  {
   "cell_type": "code",
   "execution_count": 6,
   "metadata": {},
   "outputs": [
    {
     "data": {
      "image/png": "[encoded data removed]",
      "text/plain": [
       "<Figure size 640x480 with 1 Axes>"
      ]
     },
     "metadata": {},
     "output_type": "display_data"
    }
   ],
   "source": [
    "plt.hist(df.TargetPrice, label=\"True\")\n",
    "plt.hist(df.BSAprox, label=\"B-S\")\n",
    "plt.legend()\n",
    "plt.show()"
   ]
  },
  {
   "cell_type": "code",
   "execution_count": 4,
   "metadata": {},
   "outputs": [],
   "source": [
    "# # adding BSAprox column to real data\n",
    "# # Run it once, only if u dont have saved df\n",
    "# df_real = pd.read_csv(\"../train_data/put_df.csv\", index_col=0)\n",
    "# df_real = get_prices_put(df_real.to_numpy(), generated=False)\n",
    "# df_real = pd.DataFrame(\n",
    "#     data=df_real,\n",
    "#     columns=[\n",
    "#         [\n",
    "#             \"UnderlyingPrice\",\n",
    "#             \"Type\",\n",
    "#             \"Strike\",\n",
    "#             \"OpenInterest\",\n",
    "#             \"IV\",\n",
    "#             \"Delta\",\n",
    "#             \"Gamma\",\n",
    "#             \"Theta\",\n",
    "#             \"Vega\",\n",
    "#             \"Time\",\n",
    "#             \"TargetPrice\",\n",
    "#             \"BSAprox\",\n",
    "#         ]\n",
    "#     ],\n",
    "# )\n",
    "# df_real[\"BSAprox\"] = df_real[\"BSAprox\"].round(2)\n",
    "# df_real.to_csv(\"../train_data/put_df_with_approx.csv\")\n",
    "# df_real.head()"
   ]
  },
  {
   "cell_type": "code",
   "execution_count": 2,
   "metadata": {},
   "outputs": [
    {
     "data": {
      "text/html": [
       "<div>\n",
       "<style scoped>\n",
       "    .dataframe tbody tr th:only-of-type {\n",
       "        vertical-align: middle;\n",
       "    }\n",
       "\n",
       "    .dataframe tbody tr th {\n",
       "        vertical-align: top;\n",
       "    }\n",
       "\n",
       "    .dataframe thead th {\n",
       "        text-align: right;\n",
       "    }\n",
       "</style>\n",
       "<table border=\"1\" class=\"dataframe\">\n",
       "  <thead>\n",
       "    <tr style=\"text-align: right;\">\n",
       "      <th></th>\n",
       "      <th>UnderlyingPrice</th>\n",
       "      <th>Type</th>\n",
       "      <th>Strike</th>\n",
       "      <th>OpenInterest</th>\n",
       "      <th>IV</th>\n",
       "      <th>Delta</th>\n",
       "      <th>Gamma</th>\n",
       "      <th>Theta</th>\n",
       "      <th>Vega</th>\n",
       "      <th>Time</th>\n",
       "      <th>TargetPrice</th>\n",
       "      <th>BSAprox</th>\n",
       "    </tr>\n",
       "  </thead>\n",
       "  <tbody>\n",
       "    <tr>\n",
       "      <th>0</th>\n",
       "      <td>71.11</td>\n",
       "      <td>put</td>\n",
       "      <td>55.0</td>\n",
       "      <td>22</td>\n",
       "      <td>0.3314</td>\n",
       "      <td>-0.0004</td>\n",
       "      <td>0.0003</td>\n",
       "      <td>-0.0747</td>\n",
       "      <td>0.0253</td>\n",
       "      <td>21</td>\n",
       "      <td>0.02</td>\n",
       "      <td>0.0</td>\n",
       "    </tr>\n",
       "    <tr>\n",
       "      <th>1</th>\n",
       "      <td>71.11</td>\n",
       "      <td>put</td>\n",
       "      <td>60.0</td>\n",
       "      <td>118</td>\n",
       "      <td>0.3314</td>\n",
       "      <td>-0.0130</td>\n",
       "      <td>0.0060</td>\n",
       "      <td>-1.6451</td>\n",
       "      <td>0.5604</td>\n",
       "      <td>21</td>\n",
       "      <td>0.04</td>\n",
       "      <td>0.0</td>\n",
       "    </tr>\n",
       "    <tr>\n",
       "      <th>2</th>\n",
       "      <td>71.11</td>\n",
       "      <td>put</td>\n",
       "      <td>62.5</td>\n",
       "      <td>2026</td>\n",
       "      <td>0.3314</td>\n",
       "      <td>-0.0441</td>\n",
       "      <td>0.0168</td>\n",
       "      <td>-4.5773</td>\n",
       "      <td>1.5638</td>\n",
       "      <td>21</td>\n",
       "      <td>0.11</td>\n",
       "      <td>0.0</td>\n",
       "    </tr>\n",
       "    <tr>\n",
       "      <th>3</th>\n",
       "      <td>71.11</td>\n",
       "      <td>put</td>\n",
       "      <td>65.0</td>\n",
       "      <td>443</td>\n",
       "      <td>0.2918</td>\n",
       "      <td>-0.0873</td>\n",
       "      <td>0.0324</td>\n",
       "      <td>-6.8317</td>\n",
       "      <td>2.6647</td>\n",
       "      <td>21</td>\n",
       "      <td>0.20</td>\n",
       "      <td>0.0</td>\n",
       "    </tr>\n",
       "    <tr>\n",
       "      <th>4</th>\n",
       "      <td>71.11</td>\n",
       "      <td>put</td>\n",
       "      <td>67.5</td>\n",
       "      <td>165</td>\n",
       "      <td>0.2675</td>\n",
       "      <td>-0.1902</td>\n",
       "      <td>0.0605</td>\n",
       "      <td>-10.6215</td>\n",
       "      <td>4.5580</td>\n",
       "      <td>21</td>\n",
       "      <td>0.48</td>\n",
       "      <td>0.0</td>\n",
       "    </tr>\n",
       "  </tbody>\n",
       "</table>\n",
       "</div>"
      ],
      "text/plain": [
       "   UnderlyingPrice Type  Strike  OpenInterest      IV   Delta   Gamma  \\\n",
       "0            71.11  put    55.0            22  0.3314 -0.0004  0.0003   \n",
       "1            71.11  put    60.0           118  0.3314 -0.0130  0.0060   \n",
       "2            71.11  put    62.5          2026  0.3314 -0.0441  0.0168   \n",
       "3            71.11  put    65.0           443  0.2918 -0.0873  0.0324   \n",
       "4            71.11  put    67.5           165  0.2675 -0.1902  0.0605   \n",
       "\n",
       "     Theta    Vega  Time  TargetPrice  BSAprox  \n",
       "0  -0.0747  0.0253    21         0.02      0.0  \n",
       "1  -1.6451  0.5604    21         0.04      0.0  \n",
       "2  -4.5773  1.5638    21         0.11      0.0  \n",
       "3  -6.8317  2.6647    21         0.20      0.0  \n",
       "4 -10.6215  4.5580    21         0.48      0.0  "
      ]
     },
     "execution_count": 2,
     "metadata": {},
     "output_type": "execute_result"
    }
   ],
   "source": [
    "df_real = pd.read_csv(\"../train_data/put_df_with_approx.csv\", index_col=0)\n",
    "df_real.head()"
   ]
  },
  {
   "cell_type": "code",
   "execution_count": 3,
   "metadata": {},
   "outputs": [],
   "source": [
    "# hyperparams for training\n",
    "N_EPOCH = 20\n",
    "RISK_FREE = 0.03\n",
    "SIGMA = 0.4\n",
    "LEARNING_RATE = 5e-4\n",
    "HIDDEN_LAYER = 20\n",
    "HIDDEN_WIDTH = 64\n",
    "EXPERIMENT_NAME = \"exp_put_7_real\"\n",
    "MODEL_TYPE = AmericanPut_gated3\n",
    "experiment_dir = f\"../experiments_dir/{EXPERIMENT_NAME}\"\n",
    "os.makedirs(experiment_dir, exist_ok=True)"
   ]
  },
  {
   "cell_type": "code",
   "execution_count": 4,
   "metadata": {},
   "outputs": [],
   "source": [
    "import logging\n",
    "from datetime import datetime\n",
    "\n",
    "logger = logging.getLogger()\n",
    "current_date = datetime.now().strftime(\"%Y-%m-%d\")\n",
    "log_file_name = f\"{experiment_dir}/{EXPERIMENT_NAME}_log_{current_date}.log\"\n",
    "fhandler = logging.FileHandler(filename=log_file_name, mode=\"w\")\n",
    "formatter = logging.Formatter(\"%(asctime)s - %(name)s - %(levelname)s - %(message)s\")\n",
    "fhandler.setFormatter(formatter)\n",
    "logger.addHandler(fhandler)\n",
    "logger.setLevel(logging.INFO)"
   ]
  },
  {
   "cell_type": "code",
   "execution_count": 5,
   "metadata": {},
   "outputs": [
    {
     "name": "stdout",
     "output_type": "stream",
     "text": [
      "cuda\n"
     ]
    }
   ],
   "source": [
    "DEVICE = \"cuda\" if torch.cuda.is_available() else \"cpu\"\n",
    "print(DEVICE)\n",
    "# torch.set_default_device(DEVICE)\n",
    "logging.info(f\"Running on device={DEVICE}\")"
   ]
  },
  {
   "cell_type": "code",
   "execution_count": 6,
   "metadata": {},
   "outputs": [],
   "source": [
    "logging.info(f\"N_EPOCH: {N_EPOCH}\")\n",
    "logging.info(f\"LEARNING_RATE: {LEARNING_RATE}\")\n",
    "logging.info(f\"HIDDEN_LAYER: {HIDDEN_LAYER}\")\n",
    "logging.info(f\"HIDDEN_WIDTH: {HIDDEN_WIDTH}\")\n",
    "# logging.info(f\"N_sample: {N_sample}\")\n",
    "logging.info(f\"EXPERIMENT_NAME: {EXPERIMENT_NAME}\")\n",
    "logging.info(f\"Model type: {MODEL_TYPE.__name__}\")"
   ]
  },
  {
   "cell_type": "code",
   "execution_count": 7,
   "metadata": {},
   "outputs": [
    {
     "name": "stdout",
     "output_type": "stream",
     "text": [
      "(16000, 12)\n",
      "(4000, 12)\n"
     ]
    }
   ],
   "source": [
    "df = df_real.sample(n=20000, random_state=15)\n",
    "df_train, df_val = train_test_split(df, test_size=0.2)\n",
    "print(df_train.shape)\n",
    "print(df_val.shape)"
   ]
  },
  {
   "cell_type": "code",
   "execution_count": 8,
   "metadata": {},
   "outputs": [
    {
     "name": "stdout",
     "output_type": "stream",
     "text": [
      "Describe:\n",
      "count    16000.000000\n",
      "mean         1.623540\n",
      "std          6.854486\n",
      "min       -600.230000\n",
      "25%          0.120000\n",
      "50%          0.550000\n",
      "75%          1.980000\n",
      "max         52.280000\n",
      "dtype: float64\n",
      "\n",
      "Skewness: -59.412366376729324\n",
      "Kurtosis: 4889.175253597014\n",
      "Describe:\n",
      "count    4000.000000\n",
      "mean        1.725048\n",
      "std         3.616202\n",
      "min        -9.390000\n",
      "25%         0.110000\n",
      "50%         0.520000\n",
      "75%         1.922500\n",
      "max        58.620000\n",
      "dtype: float64\n",
      "\n",
      "Skewness: 6.062906189980081\n",
      "Kurtosis: 57.795717636589806\n"
     ]
    },
    {
     "data": {
      "image/png": "[encoded data removed]",
      "text/plain": [
       "<Figure size 640x480 with 1 Axes>"
      ]
     },
     "metadata": {},
     "output_type": "display_data"
    }
   ],
   "source": [
    "analyze_series(df_train.TargetPrice-df_train.BSAprox)\n",
    "analyze_series(df_val.TargetPrice-df_val.BSAprox)"
   ]
  },
  {
   "cell_type": "code",
   "execution_count": 9,
   "metadata": {},
   "outputs": [],
   "source": [
    "initial_mse_train = (\n",
    "    1 / len(df_train) * np.sum((df_train.TargetPrice - df_train.BSAprox) ** 2)\n",
    ")\n",
    "initial_mse_val = 1 / len(df_val) * np.sum((df_val.TargetPrice - df_val.BSAprox) ** 2)\n",
    "logging.info(\n",
    "    f\"Initial MSE train: {initial_mse_train.round(4)}, Initial MSE val: {initial_mse_val.round(4)}\"\n",
    ")"
   ]
  },
  {
   "cell_type": "code",
   "execution_count": 10,
   "metadata": {},
   "outputs": [],
   "source": [
    "# import torch.multiprocessing as mp\n",
    "train_df = CustomDataset(df_train)\n",
    "val_df = CustomDataset(df_val)\n",
    "from torch.optim.lr_scheduler import ReduceLROnPlateau\n",
    "model = MODEL_TYPE(5, 1, HIDDEN_WIDTH, HIDDEN_LAYER).to(DEVICE)\n",
    "logging.info(\n",
    "    f\"Total number of learnable parameters: {sum(p.numel() for p in model.parameters() if p.requires_grad)}\"\n",
    ")\n",
    "train_dataloader = DataLoader(\n",
    "    train_df,\n",
    "    batch_size=64,\n",
    "    shuffle=True,\n",
    "    num_workers=8,\n",
    "    # generator=torch.Generator(device=DEVICE),\n",
    ")\n",
    "val_dataloader = DataLoader(\n",
    "    val_df,\n",
    "    batch_size=64,\n",
    "    shuffle=False,\n",
    "    num_workers=8,\n",
    ")\n",
    "optimizers_list = {\n",
    "    \"SGD\": torch.optim.SGD(model.parameters(), lr=LEARNING_RATE, momentum=0.7),\n",
    "    \"RMSprop\": torch.optim.RMSprop(model.parameters(), lr=LEARNING_RATE),\n",
    "    \"Adam\": torch.optim.Adam(model.parameters(), lr=LEARNING_RATE),\n",
    "    \"Adamax\": torch.optim.Adamax(\n",
    "        model.parameters(), lr=LEARNING_RATE, betas=(0.9, 0.99)\n",
    "    ),\n",
    "}\n",
    "criteriation = nn.MSELoss()"
   ]
  },
  {
   "cell_type": "code",
   "execution_count": 11,
   "metadata": {},
   "outputs": [],
   "source": [
    "def train_model(model, train_dataloader, optimizer, scheduler, criteriation, device):\n",
    "    model.train()\n",
    "    train_losses = []\n",
    "    for batch_idx, data in tqdm(\n",
    "        enumerate(train_dataloader), total=len(train_dataloader)\n",
    "    ):\n",
    "        optimizer.zero_grad()\n",
    "        inputs = data[\"input\"].to(device)\n",
    "        outputs = data[\"output\"].to(device).view(-1, 1)\n",
    "        pred = model(inputs).view(-1, 1)\n",
    "        loss = criteriation(outputs, pred)\n",
    "        loss.backward()\n",
    "        optimizer.step()\n",
    "        train_losses.append(loss.item())\n",
    "    scheduler.step(np.mean(train_losses))  # Step the scheduler based on training loss\n",
    "    return np.mean(train_losses)\n",
    "\n",
    "\n",
    "def validate_model(model, val_dataloader, criteriation, device):\n",
    "    model.eval()\n",
    "    val_losses = []\n",
    "    with torch.no_grad():\n",
    "        for batch_idx, data in tqdm(\n",
    "            enumerate(val_dataloader), total=len(val_dataloader)\n",
    "        ):\n",
    "            inputs = data[\"input\"].to(device)\n",
    "            outputs = data[\"output\"].to(device).view(-1, 1)\n",
    "            pred = model(inputs).view(-1, 1)\n",
    "            loss = criteriation(outputs, pred)\n",
    "            val_losses.append(loss.item())\n",
    "    return np.mean(val_losses)\n",
    "\n",
    "\n",
    "def train_cycle(optimizer_name, optimizer, train_loss_dict, val_loss_dict, final=False):\n",
    "    print(f\"Optimizer: {optimizer_name}\")\n",
    "    train_loss_dict[optimizer_name] = []\n",
    "    val_loss_dict[optimizer_name] = []\n",
    "    logging.info(f\"Optimizer: {optimizer_name}\")\n",
    "\n",
    "    # Define the ReduceLROnPlateau scheduler\n",
    "    scheduler = ReduceLROnPlateau(optimizer, mode=\"min\", patience=5, verbose=True)\n",
    "\n",
    "    for i in range(N_EPOCH):\n",
    "        train_loss = train_model(\n",
    "            model, train_dataloader, optimizer, scheduler, criteriation, DEVICE\n",
    "        )\n",
    "        train_loss_dict[optimizer_name].append(train_loss)\n",
    "        val_loss = validate_model(model, val_dataloader, criteriation, DEVICE)\n",
    "        val_loss_dict[optimizer_name].append(val_loss)\n",
    "        if final:\n",
    "            torch.save(\n",
    "                model.state_dict(), f\"{experiment_dir}/{EXPERIMENT_NAME}_{i}.pth\"\n",
    "            )\n",
    "        print(f\"Epoch {i+1}, train loss: {train_loss:.4f}, test loss: {val_loss:.4f}\")\n",
    "        logging.info(\n",
    "            f\"Epoch {i+1}, train loss: {train_loss:.4f}, test loss: {val_loss:.4f}\"\n",
    "        )"
   ]
  },
  {
   "cell_type": "code",
   "execution_count": 12,
   "metadata": {},
   "outputs": [
    {
     "name": "stdout",
     "output_type": "stream",
     "text": [
      "Optimizer: SGD\n"
     ]
    },
    {
     "name": "stderr",
     "output_type": "stream",
     "text": [
      "100%|██████████| 250/250 [00:01<00:00, 130.62it/s]\n",
      "100%|██████████| 63/63 [00:00<00:00, 284.35it/s]"
     ]
    },
    {
     "name": "stdout",
     "output_type": "stream",
     "text": [
      "Epoch 1, train loss: 40.8450, test loss: 4.5599\n"
     ]
    },
    {
     "name": "stderr",
     "output_type": "stream",
     "text": [
      "\n",
      "100%|██████████| 250/250 [00:01<00:00, 150.14it/s]\n",
      "100%|██████████| 63/63 [00:00<00:00, 257.17it/s]"
     ]
    },
    {
     "name": "stdout",
     "output_type": "stream",
     "text": [
      "Epoch 2, train loss: 41.1703, test loss: 5.2160\n"
     ]
    },
    {
     "name": "stderr",
     "output_type": "stream",
     "text": [
      "\n",
      "100%|██████████| 250/250 [00:01<00:00, 147.94it/s]\n",
      "100%|██████████| 63/63 [00:00<00:00, 312.10it/s]"
     ]
    },
    {
     "name": "stdout",
     "output_type": "stream",
     "text": [
      "Epoch 3, train loss: 39.2786, test loss: 3.7161\n"
     ]
    },
    {
     "name": "stderr",
     "output_type": "stream",
     "text": [
      "\n",
      "100%|██████████| 250/250 [00:01<00:00, 150.96it/s]\n",
      "100%|██████████| 63/63 [00:00<00:00, 194.41it/s]"
     ]
    },
    {
     "name": "stdout",
     "output_type": "stream",
     "text": [
      "Epoch 4, train loss: 38.3977, test loss: 3.2115\n"
     ]
    },
    {
     "name": "stderr",
     "output_type": "stream",
     "text": [
      "\n",
      "100%|██████████| 250/250 [00:01<00:00, 126.23it/s]\n",
      "100%|██████████| 63/63 [00:00<00:00, 257.98it/s]"
     ]
    },
    {
     "name": "stdout",
     "output_type": "stream",
     "text": [
      "Epoch 5, train loss: 38.6879, test loss: 2.0460\n"
     ]
    },
    {
     "name": "stderr",
     "output_type": "stream",
     "text": [
      "\n",
      "100%|██████████| 250/250 [00:01<00:00, 142.36it/s]\n",
      "100%|██████████| 63/63 [00:00<00:00, 300.62it/s]"
     ]
    },
    {
     "name": "stdout",
     "output_type": "stream",
     "text": [
      "Epoch 6, train loss: 38.4880, test loss: 2.4307\n"
     ]
    },
    {
     "name": "stderr",
     "output_type": "stream",
     "text": [
      "\n",
      "100%|██████████| 250/250 [00:01<00:00, 146.00it/s]\n",
      "100%|██████████| 63/63 [00:00<00:00, 298.65it/s]"
     ]
    },
    {
     "name": "stdout",
     "output_type": "stream",
     "text": [
      "Epoch 7, train loss: 37.8980, test loss: 1.6531\n"
     ]
    },
    {
     "name": "stderr",
     "output_type": "stream",
     "text": [
      "\n",
      "100%|██████████| 250/250 [00:01<00:00, 143.86it/s]\n",
      "100%|██████████| 63/63 [00:00<00:00, 293.11it/s]"
     ]
    },
    {
     "name": "stdout",
     "output_type": "stream",
     "text": [
      "Epoch 8, train loss: 37.4731, test loss: 2.2920\n"
     ]
    },
    {
     "name": "stderr",
     "output_type": "stream",
     "text": [
      "\n",
      "100%|██████████| 250/250 [00:01<00:00, 156.04it/s]\n",
      "100%|██████████| 63/63 [00:00<00:00, 294.20it/s]"
     ]
    },
    {
     "name": "stdout",
     "output_type": "stream",
     "text": [
      "Epoch 9, train loss: 37.8962, test loss: 2.1194\n"
     ]
    },
    {
     "name": "stderr",
     "output_type": "stream",
     "text": [
      "\n",
      "100%|██████████| 250/250 [00:01<00:00, 157.40it/s]\n",
      "100%|██████████| 63/63 [00:00<00:00, 306.07it/s]"
     ]
    },
    {
     "name": "stdout",
     "output_type": "stream",
     "text": [
      "Epoch 10, train loss: 37.6138, test loss: 2.5080\n"
     ]
    },
    {
     "name": "stderr",
     "output_type": "stream",
     "text": [
      "\n",
      "100%|██████████| 250/250 [00:01<00:00, 160.25it/s]\n",
      "100%|██████████| 63/63 [00:00<00:00, 302.39it/s]"
     ]
    },
    {
     "name": "stdout",
     "output_type": "stream",
     "text": [
      "Epoch 11, train loss: 38.1549, test loss: 1.9946\n"
     ]
    },
    {
     "name": "stderr",
     "output_type": "stream",
     "text": [
      "\n",
      "100%|██████████| 250/250 [00:01<00:00, 155.73it/s]\n",
      "100%|██████████| 63/63 [00:00<00:00, 311.19it/s]"
     ]
    },
    {
     "name": "stdout",
     "output_type": "stream",
     "text": [
      "Epoch 12, train loss: 39.7485, test loss: 8.6955\n"
     ]
    },
    {
     "name": "stderr",
     "output_type": "stream",
     "text": [
      "\n",
      "100%|██████████| 250/250 [00:01<00:00, 158.70it/s]\n",
      "100%|██████████| 63/63 [00:00<00:00, 300.88it/s]"
     ]
    },
    {
     "name": "stdout",
     "output_type": "stream",
     "text": [
      "Epoch 13, train loss: 40.0116, test loss: 4.1182\n"
     ]
    },
    {
     "name": "stderr",
     "output_type": "stream",
     "text": [
      "\n",
      "100%|██████████| 250/250 [00:01<00:00, 157.72it/s]"
     ]
    },
    {
     "name": "stdout",
     "output_type": "stream",
     "text": [
      "Epoch 00014: reducing learning rate of group 0 to 5.0000e-05.\n"
     ]
    },
    {
     "name": "stderr",
     "output_type": "stream",
     "text": [
      "\n",
      "100%|██████████| 63/63 [00:00<00:00, 304.05it/s]"
     ]
    },
    {
     "name": "stdout",
     "output_type": "stream",
     "text": [
      "Epoch 14, train loss: 37.9563, test loss: 2.0890\n"
     ]
    },
    {
     "name": "stderr",
     "output_type": "stream",
     "text": [
      "\n",
      "100%|██████████| 250/250 [00:01<00:00, 160.11it/s]\n",
      "100%|██████████| 63/63 [00:00<00:00, 303.76it/s]"
     ]
    },
    {
     "name": "stdout",
     "output_type": "stream",
     "text": [
      "Epoch 15, train loss: 36.0586, test loss: 1.3672\n"
     ]
    },
    {
     "name": "stderr",
     "output_type": "stream",
     "text": [
      "\n",
      "100%|██████████| 250/250 [00:01<00:00, 158.83it/s]\n",
      "100%|██████████| 63/63 [00:00<00:00, 315.77it/s]"
     ]
    },
    {
     "name": "stdout",
     "output_type": "stream",
     "text": [
      "Epoch 16, train loss: 35.8050, test loss: 1.2060\n"
     ]
    },
    {
     "name": "stderr",
     "output_type": "stream",
     "text": [
      "\n",
      "100%|██████████| 250/250 [00:01<00:00, 159.97it/s]\n",
      "100%|██████████| 63/63 [00:00<00:00, 293.99it/s]"
     ]
    },
    {
     "name": "stdout",
     "output_type": "stream",
     "text": [
      "Epoch 17, train loss: 35.6026, test loss: 1.0986\n"
     ]
    },
    {
     "name": "stderr",
     "output_type": "stream",
     "text": [
      "\n",
      "100%|██████████| 250/250 [00:01<00:00, 159.99it/s]\n",
      "100%|██████████| 63/63 [00:00<00:00, 264.41it/s]"
     ]
    },
    {
     "name": "stdout",
     "output_type": "stream",
     "text": [
      "Epoch 18, train loss: 35.4528, test loss: 1.0679\n"
     ]
    },
    {
     "name": "stderr",
     "output_type": "stream",
     "text": [
      "\n",
      "100%|██████████| 250/250 [00:01<00:00, 151.07it/s]\n",
      "100%|██████████| 63/63 [00:00<00:00, 290.54it/s]"
     ]
    },
    {
     "name": "stdout",
     "output_type": "stream",
     "text": [
      "Epoch 19, train loss: 35.3188, test loss: 1.1270\n"
     ]
    },
    {
     "name": "stderr",
     "output_type": "stream",
     "text": [
      "\n",
      "100%|██████████| 250/250 [00:01<00:00, 155.55it/s]\n",
      "100%|██████████| 63/63 [00:00<00:00, 299.34it/s]"
     ]
    },
    {
     "name": "stdout",
     "output_type": "stream",
     "text": [
      "Epoch 20, train loss: 35.1544, test loss: 1.1794\n",
      "Optimizer: RMSprop\n"
     ]
    },
    {
     "name": "stderr",
     "output_type": "stream",
     "text": [
      "\n",
      "100%|██████████| 250/250 [00:01<00:00, 146.46it/s]\n",
      "100%|██████████| 63/63 [00:00<00:00, 333.89it/s]"
     ]
    },
    {
     "name": "stdout",
     "output_type": "stream",
     "text": [
      "Epoch 1, train loss: 37.4065, test loss: 1.3273\n"
     ]
    },
    {
     "name": "stderr",
     "output_type": "stream",
     "text": [
      "\n",
      "100%|██████████| 250/250 [00:01<00:00, 148.87it/s]\n",
      "100%|██████████| 63/63 [00:00<00:00, 257.70it/s]"
     ]
    },
    {
     "name": "stdout",
     "output_type": "stream",
     "text": [
      "Epoch 2, train loss: 36.0973, test loss: 1.6485\n"
     ]
    },
    {
     "name": "stderr",
     "output_type": "stream",
     "text": [
      "\n",
      "100%|██████████| 250/250 [00:01<00:00, 139.30it/s]\n",
      "100%|██████████| 63/63 [00:00<00:00, 252.61it/s]"
     ]
    },
    {
     "name": "stdout",
     "output_type": "stream",
     "text": [
      "Epoch 3, train loss: 36.1902, test loss: 2.7611\n"
     ]
    },
    {
     "name": "stderr",
     "output_type": "stream",
     "text": [
      "\n",
      "100%|██████████| 250/250 [00:01<00:00, 147.05it/s]\n",
      "100%|██████████| 63/63 [00:00<00:00, 300.09it/s]"
     ]
    },
    {
     "name": "stdout",
     "output_type": "stream",
     "text": [
      "Epoch 4, train loss: 35.5342, test loss: 0.7323\n"
     ]
    },
    {
     "name": "stderr",
     "output_type": "stream",
     "text": [
      "\n",
      "100%|██████████| 250/250 [00:01<00:00, 151.13it/s]\n",
      "100%|██████████| 63/63 [00:00<00:00, 294.46it/s]"
     ]
    },
    {
     "name": "stdout",
     "output_type": "stream",
     "text": [
      "Epoch 5, train loss: 35.0229, test loss: 0.9756\n"
     ]
    },
    {
     "name": "stderr",
     "output_type": "stream",
     "text": [
      "\n",
      "100%|██████████| 250/250 [00:01<00:00, 154.81it/s]\n",
      "100%|██████████| 63/63 [00:00<00:00, 304.09it/s]"
     ]
    },
    {
     "name": "stdout",
     "output_type": "stream",
     "text": [
      "Epoch 6, train loss: 34.6230, test loss: 1.1073\n"
     ]
    },
    {
     "name": "stderr",
     "output_type": "stream",
     "text": [
      "\n",
      "100%|██████████| 250/250 [00:01<00:00, 151.72it/s]\n",
      "100%|██████████| 63/63 [00:00<00:00, 263.63it/s]"
     ]
    },
    {
     "name": "stdout",
     "output_type": "stream",
     "text": [
      "Epoch 7, train loss: 34.2471, test loss: 0.6766\n"
     ]
    },
    {
     "name": "stderr",
     "output_type": "stream",
     "text": [
      "\n",
      "100%|██████████| 250/250 [00:01<00:00, 151.47it/s]\n",
      "100%|██████████| 63/63 [00:00<00:00, 289.94it/s]"
     ]
    },
    {
     "name": "stdout",
     "output_type": "stream",
     "text": [
      "Epoch 8, train loss: 34.0366, test loss: 0.7087\n"
     ]
    },
    {
     "name": "stderr",
     "output_type": "stream",
     "text": [
      "\n",
      "100%|██████████| 250/250 [00:01<00:00, 153.32it/s]\n",
      "100%|██████████| 63/63 [00:00<00:00, 304.89it/s]"
     ]
    },
    {
     "name": "stdout",
     "output_type": "stream",
     "text": [
      "Epoch 9, train loss: 35.0153, test loss: 0.9031\n"
     ]
    },
    {
     "name": "stderr",
     "output_type": "stream",
     "text": [
      "\n",
      "100%|██████████| 250/250 [00:01<00:00, 151.10it/s]\n",
      "100%|██████████| 63/63 [00:00<00:00, 268.44it/s]"
     ]
    },
    {
     "name": "stdout",
     "output_type": "stream",
     "text": [
      "Epoch 10, train loss: 33.4628, test loss: 1.1323\n"
     ]
    },
    {
     "name": "stderr",
     "output_type": "stream",
     "text": [
      "\n",
      "100%|██████████| 250/250 [00:01<00:00, 146.34it/s]\n",
      "100%|██████████| 63/63 [00:00<00:00, 319.50it/s]\n"
     ]
    },
    {
     "name": "stdout",
     "output_type": "stream",
     "text": [
      "Epoch 11, train loss: 33.8653, test loss: 0.7414\n"
     ]
    },
    {
     "name": "stderr",
     "output_type": "stream",
     "text": [
      "100%|██████████| 250/250 [00:01<00:00, 137.59it/s]\n",
      "100%|██████████| 63/63 [00:00<00:00, 270.01it/s]"
     ]
    },
    {
     "name": "stdout",
     "output_type": "stream",
     "text": [
      "Epoch 12, train loss: 33.6074, test loss: 0.7184\n"
     ]
    },
    {
     "name": "stderr",
     "output_type": "stream",
     "text": [
      "\n",
      "100%|██████████| 250/250 [00:01<00:00, 146.86it/s]\n",
      "100%|██████████| 63/63 [00:00<00:00, 317.87it/s]\n"
     ]
    },
    {
     "name": "stdout",
     "output_type": "stream",
     "text": [
      "Epoch 13, train loss: 33.6756, test loss: 0.9065\n"
     ]
    },
    {
     "name": "stderr",
     "output_type": "stream",
     "text": [
      "100%|██████████| 250/250 [00:01<00:00, 148.29it/s]\n",
      "100%|██████████| 63/63 [00:00<00:00, 312.07it/s]"
     ]
    },
    {
     "name": "stdout",
     "output_type": "stream",
     "text": [
      "Epoch 14, train loss: 33.0694, test loss: 8.0292\n"
     ]
    },
    {
     "name": "stderr",
     "output_type": "stream",
     "text": [
      "\n",
      "100%|██████████| 250/250 [00:01<00:00, 155.10it/s]\n",
      "100%|██████████| 63/63 [00:00<00:00, 305.02it/s]"
     ]
    },
    {
     "name": "stdout",
     "output_type": "stream",
     "text": [
      "Epoch 15, train loss: 32.7197, test loss: 1.2361\n"
     ]
    },
    {
     "name": "stderr",
     "output_type": "stream",
     "text": [
      "\n",
      "100%|██████████| 250/250 [00:01<00:00, 129.86it/s]\n",
      "100%|██████████| 63/63 [00:00<00:00, 289.48it/s]"
     ]
    },
    {
     "name": "stdout",
     "output_type": "stream",
     "text": [
      "Epoch 16, train loss: 32.3570, test loss: 1.3978\n"
     ]
    },
    {
     "name": "stderr",
     "output_type": "stream",
     "text": [
      "\n",
      "100%|██████████| 250/250 [00:01<00:00, 142.08it/s]\n",
      "100%|██████████| 63/63 [00:00<00:00, 303.42it/s]"
     ]
    },
    {
     "name": "stdout",
     "output_type": "stream",
     "text": [
      "Epoch 17, train loss: 31.8768, test loss: 1.2065\n"
     ]
    },
    {
     "name": "stderr",
     "output_type": "stream",
     "text": [
      "\n",
      "100%|██████████| 250/250 [00:01<00:00, 145.38it/s]\n",
      "100%|██████████| 63/63 [00:00<00:00, 310.14it/s]"
     ]
    },
    {
     "name": "stdout",
     "output_type": "stream",
     "text": [
      "Epoch 18, train loss: 31.4156, test loss: 1.2019\n"
     ]
    },
    {
     "name": "stderr",
     "output_type": "stream",
     "text": [
      "\n",
      "100%|██████████| 250/250 [00:01<00:00, 147.28it/s]\n",
      "100%|██████████| 63/63 [00:00<00:00, 288.79it/s]"
     ]
    },
    {
     "name": "stdout",
     "output_type": "stream",
     "text": [
      "Epoch 19, train loss: 33.0038, test loss: 0.5707\n"
     ]
    },
    {
     "name": "stderr",
     "output_type": "stream",
     "text": [
      "\n",
      "100%|██████████| 250/250 [00:01<00:00, 143.22it/s]\n",
      "100%|██████████| 63/63 [00:00<00:00, 266.95it/s]"
     ]
    },
    {
     "name": "stdout",
     "output_type": "stream",
     "text": [
      "Epoch 20, train loss: 32.4256, test loss: 1.2053\n",
      "Optimizer: Adam\n"
     ]
    },
    {
     "name": "stderr",
     "output_type": "stream",
     "text": [
      "\n",
      "100%|██████████| 250/250 [00:01<00:00, 133.19it/s]\n",
      "100%|██████████| 63/63 [00:00<00:00, 282.89it/s]"
     ]
    },
    {
     "name": "stdout",
     "output_type": "stream",
     "text": [
      "Epoch 1, train loss: 32.1890, test loss: 0.6661\n"
     ]
    },
    {
     "name": "stderr",
     "output_type": "stream",
     "text": [
      "\n",
      "100%|██████████| 250/250 [00:01<00:00, 136.12it/s]\n",
      "100%|██████████| 63/63 [00:00<00:00, 268.82it/s]"
     ]
    },
    {
     "name": "stdout",
     "output_type": "stream",
     "text": [
      "Epoch 2, train loss: 32.5951, test loss: 2.0238\n"
     ]
    },
    {
     "name": "stderr",
     "output_type": "stream",
     "text": [
      "\n",
      "100%|██████████| 250/250 [00:01<00:00, 130.24it/s]\n",
      "100%|██████████| 63/63 [00:00<00:00, 307.27it/s]"
     ]
    },
    {
     "name": "stdout",
     "output_type": "stream",
     "text": [
      "Epoch 3, train loss: 32.2573, test loss: 0.9906\n"
     ]
    },
    {
     "name": "stderr",
     "output_type": "stream",
     "text": [
      "\n",
      "100%|██████████| 250/250 [00:01<00:00, 134.09it/s]\n",
      "100%|██████████| 63/63 [00:00<00:00, 279.32it/s]"
     ]
    },
    {
     "name": "stdout",
     "output_type": "stream",
     "text": [
      "Epoch 4, train loss: 33.6144, test loss: 0.8661\n"
     ]
    },
    {
     "name": "stderr",
     "output_type": "stream",
     "text": [
      "\n",
      "100%|██████████| 250/250 [00:02<00:00, 124.16it/s]\n",
      "100%|██████████| 63/63 [00:00<00:00, 270.61it/s]"
     ]
    },
    {
     "name": "stdout",
     "output_type": "stream",
     "text": [
      "Epoch 5, train loss: 33.1766, test loss: 0.8770\n"
     ]
    },
    {
     "name": "stderr",
     "output_type": "stream",
     "text": [
      "\n",
      "100%|██████████| 250/250 [00:01<00:00, 129.30it/s]\n",
      "100%|██████████| 63/63 [00:00<00:00, 287.70it/s]"
     ]
    },
    {
     "name": "stdout",
     "output_type": "stream",
     "text": [
      "Epoch 6, train loss: 32.3649, test loss: 1.6237\n"
     ]
    },
    {
     "name": "stderr",
     "output_type": "stream",
     "text": [
      "\n",
      "100%|██████████| 250/250 [00:01<00:00, 133.50it/s]"
     ]
    },
    {
     "name": "stdout",
     "output_type": "stream",
     "text": [
      "Epoch 00007: reducing learning rate of group 0 to 5.0000e-05.\n"
     ]
    },
    {
     "name": "stderr",
     "output_type": "stream",
     "text": [
      "\n",
      "100%|██████████| 63/63 [00:00<00:00, 310.68it/s]"
     ]
    },
    {
     "name": "stdout",
     "output_type": "stream",
     "text": [
      "Epoch 7, train loss: 32.4453, test loss: 0.8206\n"
     ]
    },
    {
     "name": "stderr",
     "output_type": "stream",
     "text": [
      "\n",
      "100%|██████████| 250/250 [00:01<00:00, 128.52it/s]\n",
      "100%|██████████| 63/63 [00:00<00:00, 289.91it/s]"
     ]
    },
    {
     "name": "stdout",
     "output_type": "stream",
     "text": [
      "Epoch 8, train loss: 29.9588, test loss: 0.6072\n"
     ]
    },
    {
     "name": "stderr",
     "output_type": "stream",
     "text": [
      "\n",
      "100%|██████████| 250/250 [00:01<00:00, 134.70it/s]\n",
      "100%|██████████| 63/63 [00:00<00:00, 310.72it/s]"
     ]
    },
    {
     "name": "stdout",
     "output_type": "stream",
     "text": [
      "Epoch 9, train loss: 29.6241, test loss: 0.6346\n"
     ]
    },
    {
     "name": "stderr",
     "output_type": "stream",
     "text": [
      "\n",
      "100%|██████████| 250/250 [00:01<00:00, 132.46it/s]\n",
      "100%|██████████| 63/63 [00:00<00:00, 279.02it/s]"
     ]
    },
    {
     "name": "stdout",
     "output_type": "stream",
     "text": [
      "Epoch 10, train loss: 29.3829, test loss: 0.8153\n"
     ]
    },
    {
     "name": "stderr",
     "output_type": "stream",
     "text": [
      "\n",
      "100%|██████████| 250/250 [00:01<00:00, 132.31it/s]\n",
      "100%|██████████| 63/63 [00:00<00:00, 280.53it/s]"
     ]
    },
    {
     "name": "stdout",
     "output_type": "stream",
     "text": [
      "Epoch 11, train loss: 29.2606, test loss: 0.6659\n"
     ]
    },
    {
     "name": "stderr",
     "output_type": "stream",
     "text": [
      "\n",
      "100%|██████████| 250/250 [00:01<00:00, 125.94it/s]\n",
      "100%|██████████| 63/63 [00:00<00:00, 291.78it/s]"
     ]
    },
    {
     "name": "stdout",
     "output_type": "stream",
     "text": [
      "Epoch 12, train loss: 29.0108, test loss: 0.5803\n"
     ]
    },
    {
     "name": "stderr",
     "output_type": "stream",
     "text": [
      "\n",
      "100%|██████████| 250/250 [00:01<00:00, 127.66it/s]\n",
      "100%|██████████| 63/63 [00:00<00:00, 271.29it/s]"
     ]
    },
    {
     "name": "stdout",
     "output_type": "stream",
     "text": [
      "Epoch 13, train loss: 28.8905, test loss: 0.6917\n"
     ]
    },
    {
     "name": "stderr",
     "output_type": "stream",
     "text": [
      "\n",
      "100%|██████████| 250/250 [00:01<00:00, 137.83it/s]\n",
      "100%|██████████| 63/63 [00:00<00:00, 294.06it/s]"
     ]
    },
    {
     "name": "stdout",
     "output_type": "stream",
     "text": [
      "Epoch 14, train loss: 28.7255, test loss: 0.5291\n"
     ]
    },
    {
     "name": "stderr",
     "output_type": "stream",
     "text": [
      "\n",
      "100%|██████████| 250/250 [00:01<00:00, 135.65it/s]\n",
      "100%|██████████| 63/63 [00:00<00:00, 299.70it/s]"
     ]
    },
    {
     "name": "stdout",
     "output_type": "stream",
     "text": [
      "Epoch 15, train loss: 28.6254, test loss: 0.4729\n"
     ]
    },
    {
     "name": "stderr",
     "output_type": "stream",
     "text": [
      "\n",
      "100%|██████████| 250/250 [00:01<00:00, 135.97it/s]\n",
      "100%|██████████| 63/63 [00:00<00:00, 315.28it/s]"
     ]
    },
    {
     "name": "stdout",
     "output_type": "stream",
     "text": [
      "Epoch 16, train loss: 28.5368, test loss: 0.4759\n"
     ]
    },
    {
     "name": "stderr",
     "output_type": "stream",
     "text": [
      "\n",
      "100%|██████████| 250/250 [00:02<00:00, 124.82it/s]\n",
      "100%|██████████| 63/63 [00:00<00:00, 285.80it/s]"
     ]
    },
    {
     "name": "stdout",
     "output_type": "stream",
     "text": [
      "Epoch 17, train loss: 28.5097, test loss: 0.8145\n"
     ]
    },
    {
     "name": "stderr",
     "output_type": "stream",
     "text": [
      "\n",
      "100%|██████████| 250/250 [00:01<00:00, 134.00it/s]\n",
      "100%|██████████| 63/63 [00:00<00:00, 305.12it/s]"
     ]
    },
    {
     "name": "stdout",
     "output_type": "stream",
     "text": [
      "Epoch 18, train loss: 28.2898, test loss: 0.5601\n"
     ]
    },
    {
     "name": "stderr",
     "output_type": "stream",
     "text": [
      "\n",
      "100%|██████████| 250/250 [00:01<00:00, 135.94it/s]\n",
      "100%|██████████| 63/63 [00:00<00:00, 297.37it/s]"
     ]
    },
    {
     "name": "stdout",
     "output_type": "stream",
     "text": [
      "Epoch 19, train loss: 28.0565, test loss: 0.5509\n"
     ]
    },
    {
     "name": "stderr",
     "output_type": "stream",
     "text": [
      "\n",
      "100%|██████████| 250/250 [00:01<00:00, 137.30it/s]\n",
      "100%|██████████| 63/63 [00:00<00:00, 241.52it/s]"
     ]
    },
    {
     "name": "stdout",
     "output_type": "stream",
     "text": [
      "Epoch 20, train loss: 27.9365, test loss: 0.5230\n",
      "Optimizer: Adamax\n"
     ]
    },
    {
     "name": "stderr",
     "output_type": "stream",
     "text": [
      "\n",
      "100%|██████████| 250/250 [00:02<00:00, 90.62it/s]\n",
      "100%|██████████| 63/63 [00:00<00:00, 297.50it/s]"
     ]
    },
    {
     "name": "stdout",
     "output_type": "stream",
     "text": [
      "Epoch 1, train loss: 30.6689, test loss: 0.5131\n"
     ]
    },
    {
     "name": "stderr",
     "output_type": "stream",
     "text": [
      "\n",
      "100%|██████████| 250/250 [00:02<00:00, 94.39it/s]\n",
      "100%|██████████| 63/63 [00:00<00:00, 309.56it/s]"
     ]
    },
    {
     "name": "stdout",
     "output_type": "stream",
     "text": [
      "Epoch 2, train loss: 30.2855, test loss: 0.6034\n"
     ]
    },
    {
     "name": "stderr",
     "output_type": "stream",
     "text": [
      "\n",
      "100%|██████████| 250/250 [00:02<00:00, 92.46it/s]\n",
      "100%|██████████| 63/63 [00:00<00:00, 309.40it/s]"
     ]
    },
    {
     "name": "stdout",
     "output_type": "stream",
     "text": [
      "Epoch 3, train loss: 30.4889, test loss: 0.5827\n"
     ]
    },
    {
     "name": "stderr",
     "output_type": "stream",
     "text": [
      "\n",
      "100%|██████████| 250/250 [00:02<00:00, 94.78it/s]\n",
      "100%|██████████| 63/63 [00:00<00:00, 321.96it/s]"
     ]
    },
    {
     "name": "stdout",
     "output_type": "stream",
     "text": [
      "Epoch 4, train loss: 30.2434, test loss: 0.5937\n"
     ]
    },
    {
     "name": "stderr",
     "output_type": "stream",
     "text": [
      "\n",
      "100%|██████████| 250/250 [00:02<00:00, 94.71it/s]\n",
      "100%|██████████| 63/63 [00:00<00:00, 300.85it/s]"
     ]
    },
    {
     "name": "stdout",
     "output_type": "stream",
     "text": [
      "Epoch 5, train loss: 30.0450, test loss: 0.5658\n"
     ]
    },
    {
     "name": "stderr",
     "output_type": "stream",
     "text": [
      "\n",
      "100%|██████████| 250/250 [00:02<00:00, 93.70it/s]\n",
      "100%|██████████| 63/63 [00:00<00:00, 282.30it/s]"
     ]
    },
    {
     "name": "stdout",
     "output_type": "stream",
     "text": [
      "Epoch 6, train loss: 29.5825, test loss: 0.5765\n"
     ]
    },
    {
     "name": "stderr",
     "output_type": "stream",
     "text": [
      "\n",
      "100%|██████████| 250/250 [00:02<00:00, 93.33it/s]\n",
      "100%|██████████| 63/63 [00:00<00:00, 282.48it/s]"
     ]
    },
    {
     "name": "stdout",
     "output_type": "stream",
     "text": [
      "Epoch 7, train loss: 29.4442, test loss: 0.5847\n"
     ]
    },
    {
     "name": "stderr",
     "output_type": "stream",
     "text": [
      "\n",
      "100%|██████████| 250/250 [00:02<00:00, 95.06it/s]\n",
      "100%|██████████| 63/63 [00:00<00:00, 296.61it/s]"
     ]
    },
    {
     "name": "stdout",
     "output_type": "stream",
     "text": [
      "Epoch 8, train loss: 29.6498, test loss: 0.4951\n"
     ]
    },
    {
     "name": "stderr",
     "output_type": "stream",
     "text": [
      "\n",
      "100%|██████████| 250/250 [00:02<00:00, 94.89it/s]\n",
      "100%|██████████| 63/63 [00:00<00:00, 297.09it/s]"
     ]
    },
    {
     "name": "stdout",
     "output_type": "stream",
     "text": [
      "Epoch 9, train loss: 28.9050, test loss: 0.5622\n"
     ]
    },
    {
     "name": "stderr",
     "output_type": "stream",
     "text": [
      "\n",
      "100%|██████████| 250/250 [00:02<00:00, 96.15it/s]\n",
      "100%|██████████| 63/63 [00:00<00:00, 298.39it/s]"
     ]
    },
    {
     "name": "stdout",
     "output_type": "stream",
     "text": [
      "Epoch 10, train loss: 28.9005, test loss: 0.5401\n"
     ]
    },
    {
     "name": "stderr",
     "output_type": "stream",
     "text": [
      "\n",
      "100%|██████████| 250/250 [00:02<00:00, 95.27it/s]\n",
      "100%|██████████| 63/63 [00:00<00:00, 300.20it/s]"
     ]
    },
    {
     "name": "stdout",
     "output_type": "stream",
     "text": [
      "Epoch 11, train loss: 29.0939, test loss: 0.6181\n"
     ]
    },
    {
     "name": "stderr",
     "output_type": "stream",
     "text": [
      "\n",
      "100%|██████████| 250/250 [00:02<00:00, 94.49it/s]\n",
      "100%|██████████| 63/63 [00:00<00:00, 307.66it/s]"
     ]
    },
    {
     "name": "stdout",
     "output_type": "stream",
     "text": [
      "Epoch 12, train loss: 28.7736, test loss: 0.7068\n"
     ]
    },
    {
     "name": "stderr",
     "output_type": "stream",
     "text": [
      "\n",
      "100%|██████████| 250/250 [00:02<00:00, 95.58it/s]\n",
      "100%|██████████| 63/63 [00:00<00:00, 330.90it/s]"
     ]
    },
    {
     "name": "stdout",
     "output_type": "stream",
     "text": [
      "Epoch 13, train loss: 28.5838, test loss: 0.7254\n"
     ]
    },
    {
     "name": "stderr",
     "output_type": "stream",
     "text": [
      "\n",
      "100%|██████████| 250/250 [00:02<00:00, 91.45it/s]\n",
      "100%|██████████| 63/63 [00:00<00:00, 293.88it/s]"
     ]
    },
    {
     "name": "stdout",
     "output_type": "stream",
     "text": [
      "Epoch 14, train loss: 28.5049, test loss: 0.5648\n"
     ]
    },
    {
     "name": "stderr",
     "output_type": "stream",
     "text": [
      "\n",
      "100%|██████████| 250/250 [00:02<00:00, 91.18it/s]\n",
      "100%|██████████| 63/63 [00:00<00:00, 319.95it/s]"
     ]
    },
    {
     "name": "stdout",
     "output_type": "stream",
     "text": [
      "Epoch 15, train loss: 29.4132, test loss: 0.5535\n"
     ]
    },
    {
     "name": "stderr",
     "output_type": "stream",
     "text": [
      "\n",
      "100%|██████████| 250/250 [00:02<00:00, 94.17it/s]\n",
      "100%|██████████| 63/63 [00:00<00:00, 287.67it/s]"
     ]
    },
    {
     "name": "stdout",
     "output_type": "stream",
     "text": [
      "Epoch 16, train loss: 28.5759, test loss: 0.7037\n"
     ]
    },
    {
     "name": "stderr",
     "output_type": "stream",
     "text": [
      "\n",
      "100%|██████████| 250/250 [00:02<00:00, 91.42it/s]\n",
      "100%|██████████| 63/63 [00:00<00:00, 299.51it/s]"
     ]
    },
    {
     "name": "stdout",
     "output_type": "stream",
     "text": [
      "Epoch 17, train loss: 28.3622, test loss: 0.6491\n"
     ]
    },
    {
     "name": "stderr",
     "output_type": "stream",
     "text": [
      "\n",
      "100%|██████████| 250/250 [00:02<00:00, 93.80it/s]\n",
      "100%|██████████| 63/63 [00:00<00:00, 245.95it/s]"
     ]
    },
    {
     "name": "stdout",
     "output_type": "stream",
     "text": [
      "Epoch 18, train loss: 28.1818, test loss: 0.6464\n"
     ]
    },
    {
     "name": "stderr",
     "output_type": "stream",
     "text": [
      "\n",
      "100%|██████████| 250/250 [00:02<00:00, 90.81it/s]\n",
      "100%|██████████| 63/63 [00:00<00:00, 252.61it/s]"
     ]
    },
    {
     "name": "stdout",
     "output_type": "stream",
     "text": [
      "Epoch 19, train loss: 29.4116, test loss: 0.6026\n"
     ]
    },
    {
     "name": "stderr",
     "output_type": "stream",
     "text": [
      "\n",
      "100%|██████████| 250/250 [00:02<00:00, 85.23it/s]\n",
      "100%|██████████| 63/63 [00:00<00:00, 292.79it/s]"
     ]
    },
    {
     "name": "stdout",
     "output_type": "stream",
     "text": [
      "Epoch 20, train loss: 29.3393, test loss: 0.6129\n"
     ]
    },
    {
     "name": "stderr",
     "output_type": "stream",
     "text": [
      "\n"
     ]
    }
   ],
   "source": [
    "train_loss_dict = {}\n",
    "val_loss_dict = {}\n",
    "for name, optimizer in optimizers_list.items():\n",
    "    train_cycle(name, optimizer, train_loss_dict, val_loss_dict)"
   ]
  },
  {
   "cell_type": "code",
   "execution_count": 13,
   "metadata": {},
   "outputs": [
    {
     "data": {
      "image/png": "[encoded data removed]",
      "text/plain": [
       "<Figure size 1200x600 with 2 Axes>"
      ]
     },
     "metadata": {},
     "output_type": "display_data"
    }
   ],
   "source": [
    "# Plot\n",
    "plot_dictionaries(\n",
    "    train_loss_dict,\n",
    "    val_loss_dict,\n",
    "    initial_mse_train,\n",
    "    initial_mse_val,\n",
    "    f\"{experiment_dir}/{EXPERIMENT_NAME}_test.png\",\n",
    ")"
   ]
  },
  {
   "cell_type": "markdown",
   "metadata": {},
   "source": [
    "### So for full training we will take Adam"
   ]
  },
  {
   "cell_type": "code",
   "execution_count": 16,
   "metadata": {},
   "outputs": [],
   "source": [
    "# hyperparams for training\n",
    "# df_real = pd.read_csv(\"../train_data/put_df_with_approx.csv\", index_col=0)\n",
    "N_EPOCH = 50\n",
    "RISK_FREE = 0.03\n",
    "SIGMA = 0.4\n",
    "LEARNING_RATE = 3e-5\n",
    "HIDDEN_LAYER = 20\n",
    "HIDDEN_WIDTH = 64\n",
    "# EXPERIMENT_NAME = \"exp_put_5_final\"\n",
    "# MODEL_TYPE = AmericanPut_gated3\n",
    "# experiment_dir = f\"../experiments_dir/{EXPERIMENT_NAME}\"\n",
    "# os.makedirs(experiment_dir, exist_ok=True)"
   ]
  },
  {
   "cell_type": "code",
   "execution_count": 33,
   "metadata": {},
   "outputs": [],
   "source": [
    "import logging\n",
    "from datetime import datetime\n",
    "\n",
    "logger = logging.getLogger()\n",
    "current_date = datetime.now().strftime(\"%Y-%m-%d\")\n",
    "log_file_name = f\"{experiment_dir}/{EXPERIMENT_NAME}_log_{current_date}.log\"\n",
    "fhandler = logging.FileHandler(filename=log_file_name, mode=\"w\")\n",
    "formatter = logging.Formatter(\"%(asctime)s - %(name)s - %(levelname)s - %(message)s\")\n",
    "fhandler.setFormatter(formatter)\n",
    "logger.addHandler(fhandler)\n",
    "logger.setLevel(logging.INFO)"
   ]
  },
  {
   "cell_type": "code",
   "execution_count": 17,
   "metadata": {},
   "outputs": [],
   "source": [
    "logging.info(f\"N_EPOCH: {N_EPOCH}\")\n",
    "logging.info(f\"LEARNING_RATE: {LEARNING_RATE}\")\n",
    "logging.info(f\"HIDDEN_LAYER: {HIDDEN_LAYER}\")\n",
    "logging.info(f\"HIDDEN_WIDTH: {HIDDEN_WIDTH}\")\n",
    "# logging.info(f\"N_sample: {N_sample}\")\n",
    "logging.info(f\"EXPERIMENT_NAME: {EXPERIMENT_NAME}\")\n",
    "logging.info(f\"Model type: {MODEL_TYPE.__name__}\")"
   ]
  },
  {
   "cell_type": "code",
   "execution_count": 18,
   "metadata": {},
   "outputs": [
    {
     "data": {
      "text/plain": [
       "(223217, 12)"
      ]
     },
     "execution_count": 18,
     "metadata": {},
     "output_type": "execute_result"
    }
   ],
   "source": [
    "df_real.shape"
   ]
  },
  {
   "cell_type": "code",
   "execution_count": 19,
   "metadata": {},
   "outputs": [],
   "source": [
    "df_train, df_test = train_test_split(df_real, test_size=0.2)\n",
    "logging.info(f\"train set size: {df_train.shape}\")\n",
    "logging.info(f\"test set size: {df_test.shape}\")\n",
    "initial_mse_train = (\n",
    "    1 / len(df_train) * np.sum((df_train.TargetPrice - df_train.BSAprox) ** 2)\n",
    ")\n",
    "initial_mse_val = 1 / len(df_test) * np.sum((df_test.TargetPrice - df_test.BSAprox) ** 2)\n",
    "logging.info(\n",
    "    f\"Initial MSE train: {initial_mse_train.round(4)}, Initial MSE val: {initial_mse_val.round(4)}\"\n",
    ")\n",
    "train_df = CustomDataset(df_train)\n",
    "test_df = CustomDataset(df_test)"
   ]
  },
  {
   "cell_type": "code",
   "execution_count": 20,
   "metadata": {},
   "outputs": [],
   "source": [
    "def train_model(model, train_dataloader, optimizer, scheduler, criteriation, device):\n",
    "    model.train()\n",
    "    train_losses = []\n",
    "    for batch_idx, data in tqdm(\n",
    "        enumerate(train_dataloader), total=len(train_dataloader)\n",
    "    ):\n",
    "        optimizer.zero_grad()\n",
    "        inputs = data[\"input\"].to(device)\n",
    "        outputs = data[\"output\"].to(device).view(-1, 1)\n",
    "        pred = model(inputs).view(-1, 1)\n",
    "        loss = criteriation(outputs, pred)\n",
    "        loss.backward()\n",
    "        optimizer.step()\n",
    "        train_losses.append(loss.item())\n",
    "    scheduler.step(np.mean(train_losses))  # Step the scheduler based on training loss\n",
    "    return np.mean(train_losses)\n",
    "\n",
    "\n",
    "def validate_model(model, val_dataloader, criteriation, device):\n",
    "    model.eval()\n",
    "    val_losses = []\n",
    "    with torch.no_grad():\n",
    "        for batch_idx, data in tqdm(\n",
    "            enumerate(val_dataloader), total=len(val_dataloader)\n",
    "        ):\n",
    "            inputs = data[\"input\"].to(device)\n",
    "            outputs = data[\"output\"].to(device).view(-1, 1)\n",
    "            pred = model(inputs).view(-1, 1)\n",
    "            loss = criteriation(outputs, pred)\n",
    "            val_losses.append(loss.item())\n",
    "    return np.mean(val_losses)\n",
    "\n",
    "\n",
    "def train_cycle(optimizer_name, optimizer, train_loss_dict, val_loss_dict, final=False):\n",
    "    print(f\"Optimizer: {optimizer_name}\")\n",
    "    train_loss_dict[optimizer_name] = []\n",
    "    val_loss_dict[optimizer_name] = []\n",
    "    logging.info(f\"Optimizer: {optimizer_name}\")\n",
    "\n",
    "    # Define the ReduceLROnPlateau scheduler\n",
    "    scheduler = ReduceLROnPlateau(optimizer, mode=\"min\", patience=5, verbose=True)\n",
    "\n",
    "    for i in range(N_EPOCH):\n",
    "        train_loss = train_model(\n",
    "            model, train_dataloader, optimizer, scheduler, criteriation, DEVICE\n",
    "        )\n",
    "        train_loss_dict[optimizer_name].append(train_loss)\n",
    "        val_loss = validate_model(model, val_dataloader, criteriation, DEVICE)\n",
    "        val_loss_dict[optimizer_name].append(val_loss)\n",
    "        if final:\n",
    "            torch.save(\n",
    "                model.state_dict(), f\"{experiment_dir}/{EXPERIMENT_NAME}_{i}.pth\"\n",
    "            )\n",
    "        print(f\"Epoch {i+1}, train loss: {train_loss:.4f}, test loss: {val_loss:.4f}\")\n",
    "        logging.info(\n",
    "            f\"Epoch {i+1}, train loss: {train_loss:.4f}, test loss: {val_loss:.4f}\"\n",
    "        )"
   ]
  },
  {
   "cell_type": "code",
   "execution_count": 21,
   "metadata": {},
   "outputs": [],
   "source": [
    "# import torch.multiprocessing as mp\n",
    "from torch.optim.lr_scheduler import ReduceLROnPlateau\n",
    "\n",
    "# # Set the multiprocessing start method to 'spawn'\n",
    "# mp.set_start_method(\"spawn\", force=True)\n",
    "model = MODEL_TYPE(5, 1, HIDDEN_WIDTH, HIDDEN_LAYER).to(DEVICE)\n",
    "logging.info(\n",
    "    f\"Total number of learnable parameters: {sum(p.numel() for p in model.parameters() if p.requires_grad)}\"\n",
    ")\n",
    "train_dataloader = DataLoader(\n",
    "    train_df,\n",
    "    batch_size=64,\n",
    "    shuffle=True,\n",
    "    num_workers=8,\n",
    "    # generator=torch.Generator(device=DEVICE),\n",
    ")\n",
    "val_dataloader = DataLoader(\n",
    "    test_df,\n",
    "    batch_size=64,\n",
    "    shuffle=False,\n",
    "    num_workers=8,\n",
    ")\n",
    "optimizers_list = {\n",
    "    \"Adam\": torch.optim.Adam(\n",
    "        model.parameters(),\n",
    "        lr=LEARNING_RATE,\n",
    "    )\n",
    "}\n",
    "criteriation = nn.MSELoss()"
   ]
  },
  {
   "cell_type": "code",
   "execution_count": 23,
   "metadata": {},
   "outputs": [
    {
     "name": "stdout",
     "output_type": "stream",
     "text": [
      "Optimizer: Adam\n"
     ]
    },
    {
     "name": "stderr",
     "output_type": "stream",
     "text": [
      "100%|██████████| 2791/2791 [00:20<00:00, 134.31it/s]\n",
      "100%|██████████| 698/698 [00:02<00:00, 331.13it/s]"
     ]
    },
    {
     "name": "stdout",
     "output_type": "stream",
     "text": [
      "Epoch 1, train loss: 22.3423, test loss: 20.2431\n"
     ]
    },
    {
     "name": "stderr",
     "output_type": "stream",
     "text": [
      "\n",
      "100%|██████████| 2791/2791 [00:20<00:00, 136.26it/s]\n",
      "100%|██████████| 698/698 [00:01<00:00, 350.97it/s]"
     ]
    },
    {
     "name": "stdout",
     "output_type": "stream",
     "text": [
      "Epoch 2, train loss: 20.3822, test loss: 19.0278\n"
     ]
    },
    {
     "name": "stderr",
     "output_type": "stream",
     "text": [
      "\n",
      "100%|██████████| 2791/2791 [00:20<00:00, 139.19it/s]\n",
      "100%|██████████| 698/698 [00:01<00:00, 358.69it/s]"
     ]
    },
    {
     "name": "stdout",
     "output_type": "stream",
     "text": [
      "Epoch 3, train loss: 19.5393, test loss: 18.3923\n"
     ]
    },
    {
     "name": "stderr",
     "output_type": "stream",
     "text": [
      "\n",
      "100%|██████████| 2791/2791 [00:19<00:00, 143.11it/s]\n",
      "100%|██████████| 698/698 [00:01<00:00, 401.73it/s]"
     ]
    },
    {
     "name": "stdout",
     "output_type": "stream",
     "text": [
      "Epoch 4, train loss: 19.0675, test loss: 17.9573\n"
     ]
    },
    {
     "name": "stderr",
     "output_type": "stream",
     "text": [
      "\n",
      "100%|██████████| 2791/2791 [00:19<00:00, 144.47it/s]\n",
      "100%|██████████| 698/698 [00:01<00:00, 359.23it/s]"
     ]
    },
    {
     "name": "stdout",
     "output_type": "stream",
     "text": [
      "Epoch 5, train loss: 18.7238, test loss: 17.5223\n"
     ]
    },
    {
     "name": "stderr",
     "output_type": "stream",
     "text": [
      "\n",
      "100%|██████████| 2791/2791 [00:19<00:00, 140.01it/s]\n",
      "100%|██████████| 698/698 [00:01<00:00, 358.93it/s]"
     ]
    },
    {
     "name": "stdout",
     "output_type": "stream",
     "text": [
      "Epoch 6, train loss: 18.4007, test loss: 17.3194\n"
     ]
    },
    {
     "name": "stderr",
     "output_type": "stream",
     "text": [
      "\n",
      "100%|██████████| 2791/2791 [00:20<00:00, 136.56it/s]\n",
      "100%|██████████| 698/698 [00:01<00:00, 353.71it/s]"
     ]
    },
    {
     "name": "stdout",
     "output_type": "stream",
     "text": [
      "Epoch 7, train loss: 18.0420, test loss: 17.5935\n"
     ]
    },
    {
     "name": "stderr",
     "output_type": "stream",
     "text": [
      "\n",
      "100%|██████████| 2791/2791 [00:20<00:00, 134.65it/s]\n",
      "100%|██████████| 698/698 [00:02<00:00, 333.82it/s]"
     ]
    },
    {
     "name": "stdout",
     "output_type": "stream",
     "text": [
      "Epoch 8, train loss: 17.9100, test loss: 16.9120\n"
     ]
    },
    {
     "name": "stderr",
     "output_type": "stream",
     "text": [
      "\n",
      "100%|██████████| 2791/2791 [00:22<00:00, 126.66it/s]\n",
      "100%|██████████| 698/698 [00:01<00:00, 367.65it/s]"
     ]
    },
    {
     "name": "stdout",
     "output_type": "stream",
     "text": [
      "Epoch 9, train loss: 17.9643, test loss: 16.6814\n"
     ]
    },
    {
     "name": "stderr",
     "output_type": "stream",
     "text": [
      "\n",
      "100%|██████████| 2791/2791 [00:21<00:00, 131.69it/s]\n",
      "100%|██████████| 698/698 [00:02<00:00, 322.59it/s]"
     ]
    },
    {
     "name": "stdout",
     "output_type": "stream",
     "text": [
      "Epoch 10, train loss: 17.2125, test loss: 17.5797\n"
     ]
    },
    {
     "name": "stderr",
     "output_type": "stream",
     "text": [
      "\n",
      "100%|██████████| 2791/2791 [00:22<00:00, 123.87it/s]\n",
      "100%|██████████| 698/698 [00:02<00:00, 311.03it/s]"
     ]
    },
    {
     "name": "stdout",
     "output_type": "stream",
     "text": [
      "Epoch 11, train loss: 17.6429, test loss: 16.8154\n"
     ]
    },
    {
     "name": "stderr",
     "output_type": "stream",
     "text": [
      "\n",
      "100%|██████████| 2791/2791 [00:21<00:00, 132.46it/s]\n",
      "100%|██████████| 698/698 [00:01<00:00, 370.09it/s]"
     ]
    },
    {
     "name": "stdout",
     "output_type": "stream",
     "text": [
      "Epoch 12, train loss: 17.3213, test loss: 16.8322\n"
     ]
    },
    {
     "name": "stderr",
     "output_type": "stream",
     "text": [
      "\n",
      "100%|██████████| 2791/2791 [00:20<00:00, 135.62it/s]\n",
      "100%|██████████| 698/698 [00:02<00:00, 342.86it/s]"
     ]
    },
    {
     "name": "stdout",
     "output_type": "stream",
     "text": [
      "Epoch 13, train loss: 16.8982, test loss: 16.8249\n"
     ]
    },
    {
     "name": "stderr",
     "output_type": "stream",
     "text": [
      "\n",
      "100%|██████████| 2791/2791 [00:19<00:00, 140.00it/s]\n",
      "100%|██████████| 698/698 [00:01<00:00, 369.05it/s]"
     ]
    },
    {
     "name": "stdout",
     "output_type": "stream",
     "text": [
      "Epoch 14, train loss: 17.2255, test loss: 16.4145\n"
     ]
    },
    {
     "name": "stderr",
     "output_type": "stream",
     "text": [
      "\n",
      "100%|██████████| 2791/2791 [00:20<00:00, 136.70it/s]\n",
      "100%|██████████| 698/698 [00:01<00:00, 366.92it/s]"
     ]
    },
    {
     "name": "stdout",
     "output_type": "stream",
     "text": [
      "Epoch 15, train loss: 17.1392, test loss: 16.1648\n"
     ]
    },
    {
     "name": "stderr",
     "output_type": "stream",
     "text": [
      "\n",
      "100%|██████████| 2791/2791 [00:20<00:00, 133.73it/s]\n",
      "100%|██████████| 698/698 [00:01<00:00, 369.42it/s]"
     ]
    },
    {
     "name": "stdout",
     "output_type": "stream",
     "text": [
      "Epoch 16, train loss: 16.8020, test loss: 16.2120\n"
     ]
    },
    {
     "name": "stderr",
     "output_type": "stream",
     "text": [
      "\n",
      "100%|██████████| 2791/2791 [00:20<00:00, 135.85it/s]\n",
      "100%|██████████| 698/698 [00:01<00:00, 365.27it/s]"
     ]
    },
    {
     "name": "stdout",
     "output_type": "stream",
     "text": [
      "Epoch 17, train loss: 16.7562, test loss: 16.4072\n"
     ]
    },
    {
     "name": "stderr",
     "output_type": "stream",
     "text": [
      "\n",
      "100%|██████████| 2791/2791 [00:20<00:00, 138.92it/s]\n",
      "100%|██████████| 698/698 [00:02<00:00, 333.46it/s]"
     ]
    },
    {
     "name": "stdout",
     "output_type": "stream",
     "text": [
      "Epoch 18, train loss: 16.8565, test loss: 16.0336\n"
     ]
    },
    {
     "name": "stderr",
     "output_type": "stream",
     "text": [
      "\n",
      "100%|██████████| 2791/2791 [00:21<00:00, 127.99it/s]\n",
      "100%|██████████| 698/698 [00:01<00:00, 372.72it/s]"
     ]
    },
    {
     "name": "stdout",
     "output_type": "stream",
     "text": [
      "Epoch 19, train loss: 16.7719, test loss: 16.1588\n"
     ]
    },
    {
     "name": "stderr",
     "output_type": "stream",
     "text": [
      "\n",
      "100%|██████████| 2791/2791 [00:20<00:00, 139.33it/s]\n",
      "100%|██████████| 698/698 [00:01<00:00, 369.90it/s]"
     ]
    },
    {
     "name": "stdout",
     "output_type": "stream",
     "text": [
      "Epoch 20, train loss: 17.0668, test loss: 15.9096\n"
     ]
    },
    {
     "name": "stderr",
     "output_type": "stream",
     "text": [
      "\n",
      "100%|██████████| 2791/2791 [00:20<00:00, 138.57it/s]\n",
      "100%|██████████| 698/698 [00:01<00:00, 369.52it/s]"
     ]
    },
    {
     "name": "stdout",
     "output_type": "stream",
     "text": [
      "Epoch 21, train loss: 16.4460, test loss: 15.5783\n"
     ]
    },
    {
     "name": "stderr",
     "output_type": "stream",
     "text": [
      "\n",
      "100%|██████████| 2791/2791 [00:20<00:00, 139.15it/s]\n",
      "100%|██████████| 698/698 [00:01<00:00, 366.64it/s]"
     ]
    },
    {
     "name": "stdout",
     "output_type": "stream",
     "text": [
      "Epoch 22, train loss: 16.9028, test loss: 15.4761\n"
     ]
    },
    {
     "name": "stderr",
     "output_type": "stream",
     "text": [
      "\n",
      "100%|██████████| 2791/2791 [00:20<00:00, 138.33it/s]\n",
      "100%|██████████| 698/698 [00:01<00:00, 372.28it/s]"
     ]
    },
    {
     "name": "stdout",
     "output_type": "stream",
     "text": [
      "Epoch 23, train loss: 16.1455, test loss: 15.5019\n"
     ]
    },
    {
     "name": "stderr",
     "output_type": "stream",
     "text": [
      "\n",
      "100%|██████████| 2791/2791 [00:20<00:00, 138.97it/s]\n",
      "100%|██████████| 698/698 [00:01<00:00, 364.96it/s]"
     ]
    },
    {
     "name": "stdout",
     "output_type": "stream",
     "text": [
      "Epoch 24, train loss: 16.2177, test loss: 16.0900\n"
     ]
    },
    {
     "name": "stderr",
     "output_type": "stream",
     "text": [
      "\n",
      "100%|██████████| 2791/2791 [00:20<00:00, 138.79it/s]\n",
      "100%|██████████| 698/698 [00:01<00:00, 366.32it/s]"
     ]
    },
    {
     "name": "stdout",
     "output_type": "stream",
     "text": [
      "Epoch 25, train loss: 16.3664, test loss: 15.4254\n"
     ]
    },
    {
     "name": "stderr",
     "output_type": "stream",
     "text": [
      "\n",
      "100%|██████████| 2791/2791 [00:20<00:00, 139.20it/s]\n",
      "100%|██████████| 698/698 [00:01<00:00, 369.29it/s]"
     ]
    },
    {
     "name": "stdout",
     "output_type": "stream",
     "text": [
      "Epoch 26, train loss: 16.3619, test loss: 15.3842\n"
     ]
    },
    {
     "name": "stderr",
     "output_type": "stream",
     "text": [
      "\n",
      "100%|██████████| 2791/2791 [00:20<00:00, 138.19it/s]\n",
      "100%|██████████| 698/698 [00:01<00:00, 364.07it/s]"
     ]
    },
    {
     "name": "stdout",
     "output_type": "stream",
     "text": [
      "Epoch 27, train loss: 16.0343, test loss: 15.3627\n"
     ]
    },
    {
     "name": "stderr",
     "output_type": "stream",
     "text": [
      "\n",
      "100%|██████████| 2791/2791 [00:22<00:00, 124.58it/s]\n",
      "100%|██████████| 698/698 [00:02<00:00, 319.77it/s]\n"
     ]
    },
    {
     "name": "stdout",
     "output_type": "stream",
     "text": [
      "Epoch 28, train loss: 16.0865, test loss: 15.5361\n"
     ]
    },
    {
     "name": "stderr",
     "output_type": "stream",
     "text": [
      "100%|██████████| 2791/2791 [00:22<00:00, 122.75it/s]\n",
      "100%|██████████| 698/698 [00:02<00:00, 348.22it/s]"
     ]
    },
    {
     "name": "stdout",
     "output_type": "stream",
     "text": [
      "Epoch 29, train loss: 16.1072, test loss: 15.5095\n"
     ]
    },
    {
     "name": "stderr",
     "output_type": "stream",
     "text": [
      "\n",
      "100%|██████████| 2791/2791 [00:21<00:00, 127.88it/s]\n",
      "100%|██████████| 698/698 [00:01<00:00, 365.36it/s]"
     ]
    },
    {
     "name": "stdout",
     "output_type": "stream",
     "text": [
      "Epoch 30, train loss: 16.2381, test loss: 15.2528\n"
     ]
    },
    {
     "name": "stderr",
     "output_type": "stream",
     "text": [
      "\n",
      "100%|██████████| 2791/2791 [00:19<00:00, 144.14it/s]\n",
      "100%|██████████| 698/698 [00:01<00:00, 387.31it/s]"
     ]
    },
    {
     "name": "stdout",
     "output_type": "stream",
     "text": [
      "Epoch 31, train loss: 16.1399, test loss: 15.4199\n"
     ]
    },
    {
     "name": "stderr",
     "output_type": "stream",
     "text": [
      "\n",
      "100%|██████████| 2791/2791 [00:19<00:00, 145.40it/s]\n",
      "100%|██████████| 698/698 [00:01<00:00, 351.37it/s]"
     ]
    },
    {
     "name": "stdout",
     "output_type": "stream",
     "text": [
      "Epoch 32, train loss: 15.4527, test loss: 15.6282\n"
     ]
    },
    {
     "name": "stderr",
     "output_type": "stream",
     "text": [
      "\n",
      "100%|██████████| 2791/2791 [00:21<00:00, 129.18it/s]\n",
      "100%|██████████| 698/698 [00:01<00:00, 358.61it/s]"
     ]
    },
    {
     "name": "stdout",
     "output_type": "stream",
     "text": [
      "Epoch 33, train loss: 15.4956, test loss: 15.5520\n"
     ]
    },
    {
     "name": "stderr",
     "output_type": "stream",
     "text": [
      "\n",
      "100%|██████████| 2791/2791 [00:21<00:00, 131.03it/s]\n",
      "100%|██████████| 698/698 [00:02<00:00, 336.70it/s]"
     ]
    },
    {
     "name": "stdout",
     "output_type": "stream",
     "text": [
      "Epoch 34, train loss: 16.3660, test loss: 15.3385\n"
     ]
    },
    {
     "name": "stderr",
     "output_type": "stream",
     "text": [
      "\n",
      "100%|██████████| 2791/2791 [00:21<00:00, 127.51it/s]\n",
      "100%|██████████| 698/698 [00:01<00:00, 360.92it/s]"
     ]
    },
    {
     "name": "stdout",
     "output_type": "stream",
     "text": [
      "Epoch 35, train loss: 15.9036, test loss: 15.4012\n"
     ]
    },
    {
     "name": "stderr",
     "output_type": "stream",
     "text": [
      "\n",
      "100%|██████████| 2791/2791 [00:22<00:00, 126.27it/s]\n",
      "100%|██████████| 698/698 [00:02<00:00, 346.81it/s]"
     ]
    },
    {
     "name": "stdout",
     "output_type": "stream",
     "text": [
      "Epoch 36, train loss: 15.6979, test loss: 14.9687\n"
     ]
    },
    {
     "name": "stderr",
     "output_type": "stream",
     "text": [
      "\n",
      "100%|██████████| 2791/2791 [00:21<00:00, 127.72it/s]\n",
      "100%|██████████| 698/698 [00:02<00:00, 348.91it/s]"
     ]
    },
    {
     "name": "stdout",
     "output_type": "stream",
     "text": [
      "Epoch 37, train loss: 15.2630, test loss: 15.1055\n"
     ]
    },
    {
     "name": "stderr",
     "output_type": "stream",
     "text": [
      "\n",
      "100%|██████████| 2791/2791 [00:21<00:00, 130.28it/s]\n",
      "100%|██████████| 698/698 [00:02<00:00, 336.85it/s]"
     ]
    },
    {
     "name": "stdout",
     "output_type": "stream",
     "text": [
      "Epoch 38, train loss: 15.3546, test loss: 15.0375\n"
     ]
    },
    {
     "name": "stderr",
     "output_type": "stream",
     "text": [
      "\n",
      "100%|██████████| 2791/2791 [00:21<00:00, 130.79it/s]\n",
      "100%|██████████| 698/698 [00:02<00:00, 343.80it/s]"
     ]
    },
    {
     "name": "stdout",
     "output_type": "stream",
     "text": [
      "Epoch 39, train loss: 15.2456, test loss: 14.9431\n"
     ]
    },
    {
     "name": "stderr",
     "output_type": "stream",
     "text": [
      "\n",
      "100%|██████████| 2791/2791 [00:21<00:00, 131.08it/s]\n",
      "100%|██████████| 698/698 [00:02<00:00, 338.71it/s]\n"
     ]
    },
    {
     "name": "stdout",
     "output_type": "stream",
     "text": [
      "Epoch 40, train loss: 15.1682, test loss: 15.0036\n"
     ]
    },
    {
     "name": "stderr",
     "output_type": "stream",
     "text": [
      "100%|██████████| 2791/2791 [00:19<00:00, 142.03it/s]\n",
      "100%|██████████| 698/698 [00:01<00:00, 371.35it/s]"
     ]
    },
    {
     "name": "stdout",
     "output_type": "stream",
     "text": [
      "Epoch 41, train loss: 15.0612, test loss: 15.2013\n"
     ]
    },
    {
     "name": "stderr",
     "output_type": "stream",
     "text": [
      "\n",
      "100%|██████████| 2791/2791 [00:19<00:00, 143.69it/s]\n",
      "100%|██████████| 698/698 [00:01<00:00, 374.49it/s]"
     ]
    },
    {
     "name": "stdout",
     "output_type": "stream",
     "text": [
      "Epoch 42, train loss: 15.1895, test loss: 15.5060\n"
     ]
    },
    {
     "name": "stderr",
     "output_type": "stream",
     "text": [
      "\n",
      "100%|██████████| 2791/2791 [00:19<00:00, 143.57it/s]\n",
      "100%|██████████| 698/698 [00:01<00:00, 385.00it/s]"
     ]
    },
    {
     "name": "stdout",
     "output_type": "stream",
     "text": [
      "Epoch 43, train loss: 15.9534, test loss: 14.9863\n"
     ]
    },
    {
     "name": "stderr",
     "output_type": "stream",
     "text": [
      "\n",
      "100%|██████████| 2791/2791 [00:19<00:00, 143.51it/s]\n",
      "100%|██████████| 698/698 [00:01<00:00, 384.55it/s]"
     ]
    },
    {
     "name": "stdout",
     "output_type": "stream",
     "text": [
      "Epoch 44, train loss: 15.2731, test loss: 15.2904\n"
     ]
    },
    {
     "name": "stderr",
     "output_type": "stream",
     "text": [
      "\n",
      "100%|██████████| 2791/2791 [00:19<00:00, 144.69it/s]\n",
      "100%|██████████| 698/698 [00:01<00:00, 385.06it/s]"
     ]
    },
    {
     "name": "stdout",
     "output_type": "stream",
     "text": [
      "Epoch 45, train loss: 15.7042, test loss: 15.3764\n"
     ]
    },
    {
     "name": "stderr",
     "output_type": "stream",
     "text": [
      "\n",
      "100%|██████████| 2791/2791 [00:19<00:00, 144.33it/s]\n",
      "100%|██████████| 698/698 [00:01<00:00, 398.51it/s]\n"
     ]
    },
    {
     "name": "stdout",
     "output_type": "stream",
     "text": [
      "Epoch 46, train loss: 15.4423, test loss: 14.8872\n"
     ]
    },
    {
     "name": "stderr",
     "output_type": "stream",
     "text": [
      "100%|██████████| 2791/2791 [00:17<00:00, 155.09it/s]\n",
      "100%|██████████| 698/698 [00:01<00:00, 427.66it/s]"
     ]
    },
    {
     "name": "stdout",
     "output_type": "stream",
     "text": [
      "Epoch 47, train loss: 14.9647, test loss: 15.1161\n"
     ]
    },
    {
     "name": "stderr",
     "output_type": "stream",
     "text": [
      "\n",
      "100%|██████████| 2791/2791 [00:18<00:00, 152.99it/s]\n",
      "100%|██████████| 698/698 [00:01<00:00, 372.09it/s]\n"
     ]
    },
    {
     "name": "stdout",
     "output_type": "stream",
     "text": [
      "Epoch 48, train loss: 15.6693, test loss: 15.8845\n"
     ]
    },
    {
     "name": "stderr",
     "output_type": "stream",
     "text": [
      "100%|██████████| 2791/2791 [00:17<00:00, 161.44it/s]\n",
      "100%|██████████| 698/698 [00:01<00:00, 438.59it/s]"
     ]
    },
    {
     "name": "stdout",
     "output_type": "stream",
     "text": [
      "Epoch 49, train loss: 15.9252, test loss: 14.8950\n"
     ]
    },
    {
     "name": "stderr",
     "output_type": "stream",
     "text": [
      "\n",
      "100%|██████████| 2791/2791 [00:17<00:00, 161.06it/s]\n",
      "100%|██████████| 698/698 [00:01<00:00, 411.76it/s]"
     ]
    },
    {
     "name": "stdout",
     "output_type": "stream",
     "text": [
      "Epoch 50, train loss: 15.0459, test loss: 15.1703\n"
     ]
    },
    {
     "name": "stderr",
     "output_type": "stream",
     "text": [
      "\n"
     ]
    }
   ],
   "source": [
    "train_loss_dict = {}\n",
    "test_loss_dict = {}\n",
    "for name, optimizer in optimizers_list.items():\n",
    "    train_cycle(name, optimizer, train_loss_dict, test_loss_dict, final=True)"
   ]
  },
  {
   "cell_type": "code",
   "execution_count": 25,
   "metadata": {},
   "outputs": [
    {
     "data": {
      "image/png": "[encoded data removed]",
      "text/plain": [
       "<Figure size 1200x600 with 2 Axes>"
      ]
     },
     "metadata": {},
     "output_type": "display_data"
    }
   ],
   "source": [
    "plot_dictionaries(\n",
    "    train_loss_dict,\n",
    "    test_loss_dict,\n",
    "    initial_mse_train,\n",
    "    initial_mse_val,\n",
    "    f\"{experiment_dir}/{EXPERIMENT_NAME}_final.png\",\n",
    ")"
   ]
  },
  {
   "cell_type": "code",
   "execution_count": 26,
   "metadata": {},
   "outputs": [],
   "source": [
    "import json\n",
    "\n",
    "file_path = f\"{experiment_dir}/{EXPERIMENT_NAME}_train.json\"\n",
    "with open(file_path, \"w\") as json_file:\n",
    "    json.dump(train_loss_dict, json_file)\n",
    "\n",
    "file_path = f\"{experiment_dir}/{EXPERIMENT_NAME}_test.json\"\n",
    "with open(file_path, \"w\") as json_file:\n",
    "    json.dump(test_loss_dict, json_file)"
   ]
  },
  {
   "cell_type": "code",
   "execution_count": 27,
   "metadata": {},
   "outputs": [],
   "source": [
    "logging.info(\n",
    "    f\"% of variation before training: {(initial_mse_train/(df_train.TargetPrice - df_train.BSAprox).var() * 100).round(2)}\"\n",
    ")\n",
    "logging.info(\n",
    "    f\"% of variation after training: {(train_loss_dict['Adam'][46]/ (df_train.TargetPrice - df_train.BSAprox).var() * 100).round(2)}\"\n",
    ")\n",
    "logging.info(\n",
    "    f\"% of variation before training: {(initial_mse_val/(df_test.TargetPrice - df_test.BSAprox).var() * 100).round(2)}\"\n",
    ")\n",
    "logging.info(\n",
    "    f\"% of variation after training: {(test_loss_dict['Adam'][46] / (df_test.TargetPrice - df_test.BSAprox).var() * 100).round(2)}\"\n",
    ")"
   ]
  },
  {
   "cell_type": "code",
   "execution_count": 29,
   "metadata": {},
   "outputs": [],
   "source": [
    "def train_model(model, train_dataloader, optimizer, scheduler, criteriation, device):\n",
    "    model.train()\n",
    "    train_losses = []\n",
    "    for batch_idx, data in tqdm(\n",
    "        enumerate(train_dataloader), total=len(train_dataloader)\n",
    "    ):\n",
    "        optimizer.zero_grad()\n",
    "        inputs = data[\"input\"].to(device)\n",
    "        outputs = data[\"output\"].to(device).view(-1, 1)\n",
    "        pred = model(inputs).view(-1, 1)\n",
    "        loss = criteriation(outputs, pred)\n",
    "        loss.backward()\n",
    "        optimizer.step()\n",
    "        train_losses.append(loss.item())\n",
    "    scheduler.step(np.mean(train_losses))  # Step the scheduler based on training loss\n",
    "    return np.mean(train_losses)\n",
    "\n",
    "\n",
    "def validate_model(model, val_dataloader, criteriation, device):\n",
    "    model.eval()\n",
    "    val_losses = []\n",
    "    with torch.no_grad():\n",
    "        for batch_idx, data in tqdm(\n",
    "            enumerate(val_dataloader), total=len(val_dataloader)\n",
    "        ):\n",
    "            inputs = data[\"input\"].to(device)\n",
    "            outputs = data[\"output\"].to(device).view(-1, 1)\n",
    "            pred = model(inputs).view(-1, 1)\n",
    "            loss = criteriation(outputs, pred)\n",
    "            val_losses.append(loss.item())\n",
    "    return np.mean(val_losses)\n",
    "\n",
    "\n",
    "def train_cycle(optimizer_name, optimizer, train_loss_dict, val_loss_dict, final=False):\n",
    "    print(f\"Optimizer: {optimizer_name}\")\n",
    "    train_loss_dict[optimizer_name] = []\n",
    "    val_loss_dict[optimizer_name] = []\n",
    "    logging.info(f\"Optimizer: {optimizer_name}\")\n",
    "\n",
    "    # Define the ReduceLROnPlateau scheduler\n",
    "    scheduler = ReduceLROnPlateau(optimizer, mode=\"min\", patience=5, verbose=True)\n",
    "\n",
    "    for i in range(N_EPOCH, 100):\n",
    "        train_loss = train_model(\n",
    "            model, train_dataloader, optimizer, scheduler, criteriation, DEVICE\n",
    "        )\n",
    "        train_loss_dict[optimizer_name].append(train_loss)\n",
    "        val_loss = validate_model(model, val_dataloader, criteriation, DEVICE)\n",
    "        val_loss_dict[optimizer_name].append(val_loss)\n",
    "        if final:\n",
    "            torch.save(\n",
    "                model.state_dict(), f\"{experiment_dir}/{EXPERIMENT_NAME}_{i}.pth\"\n",
    "            )\n",
    "        print(f\"Epoch {i+1}, train loss: {train_loss:.4f}, test loss: {val_loss:.4f}\")\n",
    "        logging.info(\n",
    "            f\"Epoch {i+1}, train loss: {train_loss:.4f}, test loss: {val_loss:.4f}\"\n",
    "        )"
   ]
  },
  {
   "cell_type": "code",
   "execution_count": 30,
   "metadata": {},
   "outputs": [
    {
     "name": "stdout",
     "output_type": "stream",
     "text": [
      "Optimizer: Adam\n"
     ]
    },
    {
     "name": "stderr",
     "output_type": "stream",
     "text": [
      "100%|██████████| 2791/2791 [00:20<00:00, 138.65it/s]\n",
      "100%|██████████| 698/698 [00:02<00:00, 346.55it/s]"
     ]
    },
    {
     "name": "stdout",
     "output_type": "stream",
     "text": [
      "Epoch 51, train loss: 15.1520, test loss: 15.0572\n"
     ]
    },
    {
     "name": "stderr",
     "output_type": "stream",
     "text": [
      "\n",
      "100%|██████████| 2791/2791 [00:21<00:00, 127.89it/s]\n",
      "100%|██████████| 698/698 [00:02<00:00, 321.40it/s]"
     ]
    },
    {
     "name": "stdout",
     "output_type": "stream",
     "text": [
      "Epoch 52, train loss: 15.3887, test loss: 14.7960\n"
     ]
    },
    {
     "name": "stderr",
     "output_type": "stream",
     "text": [
      "\n",
      "100%|██████████| 2791/2791 [00:23<00:00, 116.50it/s]\n",
      "100%|██████████| 698/698 [00:01<00:00, 350.77it/s]"
     ]
    },
    {
     "name": "stdout",
     "output_type": "stream",
     "text": [
      "Epoch 53, train loss: 15.1600, test loss: 15.0739\n"
     ]
    },
    {
     "name": "stderr",
     "output_type": "stream",
     "text": [
      "\n",
      "100%|██████████| 2791/2791 [00:20<00:00, 133.95it/s]\n",
      "100%|██████████| 698/698 [00:01<00:00, 362.00it/s]"
     ]
    },
    {
     "name": "stdout",
     "output_type": "stream",
     "text": [
      "Epoch 54, train loss: 15.5402, test loss: 14.8740\n"
     ]
    },
    {
     "name": "stderr",
     "output_type": "stream",
     "text": [
      "\n",
      "100%|██████████| 2791/2791 [00:20<00:00, 137.82it/s]\n",
      "100%|██████████| 698/698 [00:01<00:00, 357.46it/s]"
     ]
    },
    {
     "name": "stdout",
     "output_type": "stream",
     "text": [
      "Epoch 55, train loss: 15.3245, test loss: 14.9195\n"
     ]
    },
    {
     "name": "stderr",
     "output_type": "stream",
     "text": [
      "\n",
      "100%|██████████| 2791/2791 [00:20<00:00, 138.72it/s]\n",
      "100%|██████████| 698/698 [00:01<00:00, 368.30it/s]"
     ]
    },
    {
     "name": "stdout",
     "output_type": "stream",
     "text": [
      "Epoch 56, train loss: 14.5784, test loss: 15.5519\n"
     ]
    },
    {
     "name": "stderr",
     "output_type": "stream",
     "text": [
      "\n",
      "100%|██████████| 2791/2791 [00:20<00:00, 136.41it/s]\n",
      "100%|██████████| 698/698 [00:01<00:00, 362.18it/s]"
     ]
    },
    {
     "name": "stdout",
     "output_type": "stream",
     "text": [
      "Epoch 57, train loss: 14.6905, test loss: 15.2107\n"
     ]
    },
    {
     "name": "stderr",
     "output_type": "stream",
     "text": [
      "\n",
      "100%|██████████| 2791/2791 [00:20<00:00, 136.62it/s]\n",
      "100%|██████████| 698/698 [00:01<00:00, 363.73it/s]"
     ]
    },
    {
     "name": "stdout",
     "output_type": "stream",
     "text": [
      "Epoch 58, train loss: 14.7698, test loss: 15.0287\n"
     ]
    },
    {
     "name": "stderr",
     "output_type": "stream",
     "text": [
      "\n",
      "100%|██████████| 2791/2791 [00:19<00:00, 139.83it/s]\n",
      "100%|██████████| 698/698 [00:01<00:00, 366.32it/s]"
     ]
    },
    {
     "name": "stdout",
     "output_type": "stream",
     "text": [
      "Epoch 59, train loss: 14.6966, test loss: 14.9380\n"
     ]
    },
    {
     "name": "stderr",
     "output_type": "stream",
     "text": [
      "\n",
      "100%|██████████| 2791/2791 [00:20<00:00, 137.75it/s]\n",
      "100%|██████████| 698/698 [00:01<00:00, 360.32it/s]"
     ]
    },
    {
     "name": "stdout",
     "output_type": "stream",
     "text": [
      "Epoch 60, train loss: 14.7310, test loss: 14.8965\n"
     ]
    },
    {
     "name": "stderr",
     "output_type": "stream",
     "text": [
      "\n",
      "100%|██████████| 2791/2791 [00:20<00:00, 134.27it/s]\n",
      "100%|██████████| 698/698 [00:01<00:00, 367.51it/s]"
     ]
    },
    {
     "name": "stdout",
     "output_type": "stream",
     "text": [
      "Epoch 61, train loss: 15.1140, test loss: 14.9883\n"
     ]
    },
    {
     "name": "stderr",
     "output_type": "stream",
     "text": [
      "\n",
      "100%|██████████| 2791/2791 [00:20<00:00, 133.78it/s]"
     ]
    },
    {
     "name": "stdout",
     "output_type": "stream",
     "text": [
      "Epoch 00012: reducing learning rate of group 0 to 3.0000e-06.\n"
     ]
    },
    {
     "name": "stderr",
     "output_type": "stream",
     "text": [
      "\n",
      "100%|██████████| 698/698 [00:02<00:00, 348.21it/s]"
     ]
    },
    {
     "name": "stdout",
     "output_type": "stream",
     "text": [
      "Epoch 62, train loss: 15.0032, test loss: 15.0009\n"
     ]
    },
    {
     "name": "stderr",
     "output_type": "stream",
     "text": [
      "\n",
      "100%|██████████| 2791/2791 [00:22<00:00, 125.89it/s]\n",
      "100%|██████████| 698/698 [00:02<00:00, 333.69it/s]\n"
     ]
    },
    {
     "name": "stdout",
     "output_type": "stream",
     "text": [
      "Epoch 63, train loss: 13.9765, test loss: 14.9068\n"
     ]
    },
    {
     "name": "stderr",
     "output_type": "stream",
     "text": [
      "100%|██████████| 2791/2791 [00:19<00:00, 143.00it/s]\n",
      "100%|██████████| 698/698 [00:01<00:00, 383.90it/s]"
     ]
    },
    {
     "name": "stdout",
     "output_type": "stream",
     "text": [
      "Epoch 64, train loss: 13.9467, test loss: 14.8981\n"
     ]
    },
    {
     "name": "stderr",
     "output_type": "stream",
     "text": [
      "\n",
      "100%|██████████| 2791/2791 [00:19<00:00, 144.26it/s]\n",
      "100%|██████████| 698/698 [00:01<00:00, 386.41it/s]"
     ]
    },
    {
     "name": "stdout",
     "output_type": "stream",
     "text": [
      "Epoch 65, train loss: 13.9420, test loss: 14.8892\n"
     ]
    },
    {
     "name": "stderr",
     "output_type": "stream",
     "text": [
      "\n",
      "100%|██████████| 2791/2791 [00:19<00:00, 142.91it/s]\n",
      "100%|██████████| 698/698 [00:01<00:00, 385.55it/s]"
     ]
    },
    {
     "name": "stdout",
     "output_type": "stream",
     "text": [
      "Epoch 66, train loss: 13.9126, test loss: 14.8817\n"
     ]
    },
    {
     "name": "stderr",
     "output_type": "stream",
     "text": [
      "\n",
      "100%|██████████| 2791/2791 [00:19<00:00, 142.67it/s]\n",
      "100%|██████████| 698/698 [00:01<00:00, 383.74it/s]"
     ]
    },
    {
     "name": "stdout",
     "output_type": "stream",
     "text": [
      "Epoch 67, train loss: 13.9087, test loss: 14.8849\n"
     ]
    },
    {
     "name": "stderr",
     "output_type": "stream",
     "text": [
      "\n",
      "100%|██████████| 2791/2791 [00:19<00:00, 143.64it/s]\n",
      "100%|██████████| 698/698 [00:01<00:00, 386.19it/s]"
     ]
    },
    {
     "name": "stdout",
     "output_type": "stream",
     "text": [
      "Epoch 68, train loss: 13.8657, test loss: 14.8844\n"
     ]
    },
    {
     "name": "stderr",
     "output_type": "stream",
     "text": [
      "\n",
      "100%|██████████| 2791/2791 [00:19<00:00, 144.76it/s]\n",
      "100%|██████████| 698/698 [00:01<00:00, 381.88it/s]"
     ]
    },
    {
     "name": "stdout",
     "output_type": "stream",
     "text": [
      "Epoch 69, train loss: 13.8717, test loss: 14.8792\n"
     ]
    },
    {
     "name": "stderr",
     "output_type": "stream",
     "text": [
      "\n",
      "100%|██████████| 2791/2791 [00:19<00:00, 144.07it/s]\n",
      "100%|██████████| 698/698 [00:01<00:00, 382.20it/s]"
     ]
    },
    {
     "name": "stdout",
     "output_type": "stream",
     "text": [
      "Epoch 70, train loss: 13.8497, test loss: 14.8795\n"
     ]
    },
    {
     "name": "stderr",
     "output_type": "stream",
     "text": [
      "\n",
      "100%|██████████| 2791/2791 [00:19<00:00, 139.94it/s]\n",
      "100%|██████████| 698/698 [00:01<00:00, 376.96it/s]\n"
     ]
    },
    {
     "name": "stdout",
     "output_type": "stream",
     "text": [
      "Epoch 71, train loss: 13.8242, test loss: 14.8854\n"
     ]
    },
    {
     "name": "stderr",
     "output_type": "stream",
     "text": [
      "100%|██████████| 2791/2791 [00:20<00:00, 138.38it/s]\n",
      "100%|██████████| 698/698 [00:01<00:00, 352.94it/s]"
     ]
    },
    {
     "name": "stdout",
     "output_type": "stream",
     "text": [
      "Epoch 72, train loss: 13.8136, test loss: 14.9072\n"
     ]
    },
    {
     "name": "stderr",
     "output_type": "stream",
     "text": [
      "\n",
      "100%|██████████| 2791/2791 [00:22<00:00, 126.40it/s]\n",
      "100%|██████████| 698/698 [00:02<00:00, 341.90it/s]"
     ]
    },
    {
     "name": "stdout",
     "output_type": "stream",
     "text": [
      "Epoch 73, train loss: 13.8525, test loss: 14.8810\n"
     ]
    },
    {
     "name": "stderr",
     "output_type": "stream",
     "text": [
      "\n",
      "100%|██████████| 2791/2791 [00:20<00:00, 138.16it/s]\n",
      "100%|██████████| 698/698 [00:02<00:00, 342.65it/s]"
     ]
    },
    {
     "name": "stdout",
     "output_type": "stream",
     "text": [
      "Epoch 74, train loss: 13.7920, test loss: 14.8710\n"
     ]
    },
    {
     "name": "stderr",
     "output_type": "stream",
     "text": [
      "\n",
      "100%|██████████| 2791/2791 [00:19<00:00, 140.08it/s]\n",
      "100%|██████████| 698/698 [00:01<00:00, 356.31it/s]"
     ]
    },
    {
     "name": "stdout",
     "output_type": "stream",
     "text": [
      "Epoch 75, train loss: 13.8038, test loss: 14.8800\n"
     ]
    },
    {
     "name": "stderr",
     "output_type": "stream",
     "text": [
      "\n",
      "100%|██████████| 2791/2791 [00:19<00:00, 142.34it/s]\n",
      "100%|██████████| 698/698 [00:01<00:00, 395.53it/s]"
     ]
    },
    {
     "name": "stdout",
     "output_type": "stream",
     "text": [
      "Epoch 76, train loss: 13.7929, test loss: 14.8801\n"
     ]
    },
    {
     "name": "stderr",
     "output_type": "stream",
     "text": [
      "\n",
      "100%|██████████| 2791/2791 [00:19<00:00, 143.30it/s]\n",
      "100%|██████████| 698/698 [00:01<00:00, 409.48it/s]"
     ]
    },
    {
     "name": "stdout",
     "output_type": "stream",
     "text": [
      "Epoch 77, train loss: 13.7795, test loss: 14.8827\n"
     ]
    },
    {
     "name": "stderr",
     "output_type": "stream",
     "text": [
      "\n",
      "100%|██████████| 2791/2791 [00:19<00:00, 141.03it/s]\n",
      "100%|██████████| 698/698 [00:01<00:00, 355.67it/s]"
     ]
    },
    {
     "name": "stdout",
     "output_type": "stream",
     "text": [
      "Epoch 78, train loss: 13.7519, test loss: 14.9581\n"
     ]
    },
    {
     "name": "stderr",
     "output_type": "stream",
     "text": [
      "\n",
      "100%|██████████| 2791/2791 [00:21<00:00, 129.50it/s]\n",
      "100%|██████████| 698/698 [00:01<00:00, 358.27it/s]"
     ]
    },
    {
     "name": "stdout",
     "output_type": "stream",
     "text": [
      "Epoch 79, train loss: 13.7587, test loss: 14.8782\n"
     ]
    },
    {
     "name": "stderr",
     "output_type": "stream",
     "text": [
      "\n",
      "100%|██████████| 2791/2791 [00:21<00:00, 127.89it/s]\n",
      "100%|██████████| 698/698 [00:02<00:00, 341.55it/s]"
     ]
    },
    {
     "name": "stdout",
     "output_type": "stream",
     "text": [
      "Epoch 80, train loss: 13.7785, test loss: 14.9013\n"
     ]
    },
    {
     "name": "stderr",
     "output_type": "stream",
     "text": [
      "\n",
      "100%|██████████| 2791/2791 [00:22<00:00, 126.51it/s]\n",
      "100%|██████████| 698/698 [00:01<00:00, 353.28it/s]"
     ]
    },
    {
     "name": "stdout",
     "output_type": "stream",
     "text": [
      "Epoch 81, train loss: 13.7422, test loss: 14.8886\n"
     ]
    },
    {
     "name": "stderr",
     "output_type": "stream",
     "text": [
      "\n",
      "100%|██████████| 2791/2791 [00:20<00:00, 134.04it/s]\n",
      "100%|██████████| 698/698 [00:01<00:00, 397.55it/s]"
     ]
    },
    {
     "name": "stdout",
     "output_type": "stream",
     "text": [
      "Epoch 82, train loss: 13.7631, test loss: 14.8928\n"
     ]
    },
    {
     "name": "stderr",
     "output_type": "stream",
     "text": [
      "\n",
      "100%|██████████| 2791/2791 [00:20<00:00, 138.95it/s]\n",
      "100%|██████████| 698/698 [00:02<00:00, 336.77it/s]"
     ]
    },
    {
     "name": "stdout",
     "output_type": "stream",
     "text": [
      "Epoch 83, train loss: 13.7549, test loss: 14.8892\n"
     ]
    },
    {
     "name": "stderr",
     "output_type": "stream",
     "text": [
      "\n",
      "100%|██████████| 2791/2791 [00:20<00:00, 134.47it/s]\n",
      "100%|██████████| 698/698 [00:01<00:00, 367.69it/s]"
     ]
    },
    {
     "name": "stdout",
     "output_type": "stream",
     "text": [
      "Epoch 84, train loss: 13.7512, test loss: 14.8932\n"
     ]
    },
    {
     "name": "stderr",
     "output_type": "stream",
     "text": [
      "\n",
      "100%|██████████| 2791/2791 [00:20<00:00, 134.79it/s]\n",
      "100%|██████████| 698/698 [00:01<00:00, 352.76it/s]"
     ]
    },
    {
     "name": "stdout",
     "output_type": "stream",
     "text": [
      "Epoch 85, train loss: 13.7179, test loss: 14.8955\n"
     ]
    },
    {
     "name": "stderr",
     "output_type": "stream",
     "text": [
      "\n",
      "100%|██████████| 2791/2791 [00:20<00:00, 138.66it/s]\n",
      "100%|██████████| 698/698 [00:01<00:00, 364.66it/s]"
     ]
    },
    {
     "name": "stdout",
     "output_type": "stream",
     "text": [
      "Epoch 86, train loss: 13.7321, test loss: 14.9013\n"
     ]
    },
    {
     "name": "stderr",
     "output_type": "stream",
     "text": [
      "\n",
      "100%|██████████| 2791/2791 [00:21<00:00, 131.17it/s]\n",
      "100%|██████████| 698/698 [00:01<00:00, 359.67it/s]\n"
     ]
    },
    {
     "name": "stdout",
     "output_type": "stream",
     "text": [
      "Epoch 87, train loss: 13.7366, test loss: 14.8958\n"
     ]
    },
    {
     "name": "stderr",
     "output_type": "stream",
     "text": [
      "100%|██████████| 2791/2791 [00:20<00:00, 136.73it/s]\n",
      "100%|██████████| 698/698 [00:01<00:00, 363.28it/s]"
     ]
    },
    {
     "name": "stdout",
     "output_type": "stream",
     "text": [
      "Epoch 88, train loss: 13.6819, test loss: 14.9143\n"
     ]
    },
    {
     "name": "stderr",
     "output_type": "stream",
     "text": [
      "\n",
      "100%|██████████| 2791/2791 [00:21<00:00, 128.07it/s]\n",
      "100%|██████████| 698/698 [00:01<00:00, 379.32it/s]"
     ]
    },
    {
     "name": "stdout",
     "output_type": "stream",
     "text": [
      "Epoch 89, train loss: 13.6712, test loss: 14.9184\n"
     ]
    },
    {
     "name": "stderr",
     "output_type": "stream",
     "text": [
      "\n",
      "100%|██████████| 2791/2791 [00:18<00:00, 150.32it/s]\n",
      "100%|██████████| 698/698 [00:01<00:00, 400.47it/s]"
     ]
    },
    {
     "name": "stdout",
     "output_type": "stream",
     "text": [
      "Epoch 90, train loss: 13.7265, test loss: 14.9111\n"
     ]
    },
    {
     "name": "stderr",
     "output_type": "stream",
     "text": [
      "\n",
      "100%|██████████| 2791/2791 [00:18<00:00, 152.78it/s]\n",
      "100%|██████████| 698/698 [00:01<00:00, 424.63it/s]"
     ]
    },
    {
     "name": "stdout",
     "output_type": "stream",
     "text": [
      "Epoch 91, train loss: 13.6992, test loss: 14.9058\n"
     ]
    },
    {
     "name": "stderr",
     "output_type": "stream",
     "text": [
      "\n",
      "100%|██████████| 2791/2791 [00:18<00:00, 152.35it/s]\n",
      "100%|██████████| 698/698 [00:01<00:00, 376.12it/s]"
     ]
    },
    {
     "name": "stdout",
     "output_type": "stream",
     "text": [
      "Epoch 92, train loss: 13.7273, test loss: 14.9105\n"
     ]
    },
    {
     "name": "stderr",
     "output_type": "stream",
     "text": [
      "\n",
      "100%|██████████| 2791/2791 [00:20<00:00, 135.03it/s]\n",
      "100%|██████████| 698/698 [00:01<00:00, 371.47it/s]"
     ]
    },
    {
     "name": "stdout",
     "output_type": "stream",
     "text": [
      "Epoch 93, train loss: 13.6984, test loss: 14.9097\n"
     ]
    },
    {
     "name": "stderr",
     "output_type": "stream",
     "text": [
      "\n",
      "100%|██████████| 2791/2791 [00:20<00:00, 138.10it/s]\n",
      "100%|██████████| 698/698 [00:01<00:00, 377.15it/s]\n"
     ]
    },
    {
     "name": "stdout",
     "output_type": "stream",
     "text": [
      "Epoch 94, train loss: 13.6989, test loss: 14.9163\n"
     ]
    },
    {
     "name": "stderr",
     "output_type": "stream",
     "text": [
      "100%|██████████| 2791/2791 [00:20<00:00, 137.37it/s]"
     ]
    },
    {
     "name": "stdout",
     "output_type": "stream",
     "text": [
      "Epoch 00045: reducing learning rate of group 0 to 3.0000e-07.\n"
     ]
    },
    {
     "name": "stderr",
     "output_type": "stream",
     "text": [
      "\n",
      "100%|██████████| 698/698 [00:01<00:00, 349.47it/s]"
     ]
    },
    {
     "name": "stdout",
     "output_type": "stream",
     "text": [
      "Epoch 95, train loss: 13.7266, test loss: 14.9154\n"
     ]
    },
    {
     "name": "stderr",
     "output_type": "stream",
     "text": [
      "\n",
      "100%|██████████| 2791/2791 [00:22<00:00, 123.16it/s]\n",
      "100%|██████████| 698/698 [00:01<00:00, 353.70it/s]"
     ]
    },
    {
     "name": "stdout",
     "output_type": "stream",
     "text": [
      "Epoch 96, train loss: 13.5943, test loss: 14.9160\n"
     ]
    },
    {
     "name": "stderr",
     "output_type": "stream",
     "text": [
      "\n",
      "100%|██████████| 2791/2791 [00:21<00:00, 131.07it/s]\n",
      "100%|██████████| 698/698 [00:01<00:00, 388.76it/s]"
     ]
    },
    {
     "name": "stdout",
     "output_type": "stream",
     "text": [
      "Epoch 97, train loss: 13.5934, test loss: 14.9140\n"
     ]
    },
    {
     "name": "stderr",
     "output_type": "stream",
     "text": [
      "\n",
      "100%|██████████| 2791/2791 [00:20<00:00, 138.40it/s]\n",
      "100%|██████████| 698/698 [00:01<00:00, 378.01it/s]"
     ]
    },
    {
     "name": "stdout",
     "output_type": "stream",
     "text": [
      "Epoch 98, train loss: 13.5931, test loss: 14.9152\n"
     ]
    },
    {
     "name": "stderr",
     "output_type": "stream",
     "text": [
      "\n",
      "100%|██████████| 2791/2791 [00:19<00:00, 142.98it/s]\n",
      "100%|██████████| 698/698 [00:01<00:00, 369.65it/s]"
     ]
    },
    {
     "name": "stdout",
     "output_type": "stream",
     "text": [
      "Epoch 99, train loss: 13.5932, test loss: 14.9155\n"
     ]
    },
    {
     "name": "stderr",
     "output_type": "stream",
     "text": [
      "\n",
      "100%|██████████| 2791/2791 [00:19<00:00, 142.80it/s]\n",
      "100%|██████████| 698/698 [00:01<00:00, 377.52it/s]"
     ]
    },
    {
     "name": "stdout",
     "output_type": "stream",
     "text": [
      "Epoch 100, train loss: 13.5906, test loss: 14.9126\n"
     ]
    },
    {
     "name": "stderr",
     "output_type": "stream",
     "text": [
      "\n"
     ]
    }
   ],
   "source": [
    "train_loss_dict = {}\n",
    "test_loss_dict = {}\n",
    "for name, optimizer in optimizers_list.items():\n",
    "    train_cycle(name, optimizer, train_loss_dict, test_loss_dict, final=True)"
   ]
  },
  {
   "cell_type": "code",
   "execution_count": 45,
   "metadata": {},
   "outputs": [
    {
     "data": {
      "image/png": "[encoded data removed]",
      "text/plain": [
       "<Figure size 1200x600 with 2 Axes>"
      ]
     },
     "metadata": {},
     "output_type": "display_data"
    }
   ],
   "source": [
    "file_path = f\"{experiment_dir}/{EXPERIMENT_NAME}_train.json\"\n",
    "with open(file_path, \"r\") as json_file:\n",
    "    first_50_train = json.load(json_file)\n",
    "\n",
    "file_path = f\"{experiment_dir}/{EXPERIMENT_NAME}_test.json\"\n",
    "with open(file_path, \"r\") as json_file:\n",
    "    first_50_test = json.load(json_file)\n",
    "\n",
    "train = np.concatenate((first_50_train[\"Adam\"], train_loss_dict[\"Adam\"]))\n",
    "test = np.concatenate((first_50_test[\"Adam\"], test_loss_dict[\"Adam\"]))\n",
    "train_all = {\"Adam\":train}\n",
    "test_all = {\"Adam\":test}\n",
    "plot_dictionaries(\n",
    "    train_all,\n",
    "    test_all,\n",
    "    initial_mse_train,\n",
    "    initial_mse_val,\n",
    "    f\"{experiment_dir}/{EXPERIMENT_NAME}_final.png\",\n",
    ")"
   ]
  },
  {
   "cell_type": "code",
   "execution_count": 49,
   "metadata": {},
   "outputs": [
    {
     "name": "stdout",
     "output_type": "stream",
     "text": [
      "% of variation before training: 108.54\n",
      "% of variation after training: 47.15\n",
      "% of variation before training: 108.57\n",
      "% of variation after training: 48.85\n"
     ]
    }
   ],
   "source": [
    "print(\n",
    "    f\"% of variation before training: {(initial_mse_train*100/(df_train.TargetPrice - df_train.BSAprox).var()).round(2)}\"\n",
    ")\n",
    "print(\n",
    "    f\"% of variation after training: {(train_all['Adam'][60]*100/ (df_train.TargetPrice - df_train.BSAprox).var()).round(2)}\"\n",
    ")\n",
    "print(\n",
    "    f\"% of variation before training: {(initial_mse_val*100/(df_test.TargetPrice - df_test.BSAprox).var()).round(2)}\"\n",
    ")\n",
    "print(\n",
    "    f\"% of variation after training: {(train_all['Adam'][60]*100 / (df_test.TargetPrice - df_test.BSAprox).var()).round(2)}\"\n",
    ")"
   ]
  }
 ],
 "metadata": {
  "kernelspec": {
   "display_name": "main",
   "language": "python",
   "name": "python3"
  },
  "language_info": {
   "codemirror_mode": {
    "name": "ipython",
    "version": 3
   },
   "file_extension": ".py",
   "mimetype": "text/x-python",
   "name": "python",
   "nbconvert_exporter": "python",
   "pygments_lexer": "ipython3",
   "version": "3.11.5"
  }
 },
 "nbformat": 4,
 "nbformat_minor": 2
}
