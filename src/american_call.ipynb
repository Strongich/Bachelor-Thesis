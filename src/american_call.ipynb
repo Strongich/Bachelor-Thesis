{
 "cells": [
  {
   "cell_type": "code",
   "execution_count": 1,
   "metadata": {},
   "outputs": [],
   "source": [
    "import torch\n",
    "import numpy as np\n",
    "import matplotlib.pyplot as plt\n",
    "import torch.nn as nn\n",
    "from torch.utils.data import DataLoader\n",
    "from tqdm import tqdm\n",
    "import pandas as pd\n",
    "from sklearn.model_selection import train_test_split\n",
    "import os\n",
    "from scipy.stats import skew, kurtosis\n",
    "\n",
    "torch.cuda.empty_cache()\n",
    "# imports of custom blocks for model, data generation\n",
    "from Ferret.ImplicitAm import ImplicitAmBre, ImplicitAmBer\n",
    "from create_plots import *\n",
    "from models import *\n",
    "from utils import AmericanCallData, get_prices_call\n",
    "from utils import S, T, K, RISK_FREE, SIGMA, S_MAX"
   ]
  },
  {
   "cell_type": "markdown",
   "metadata": {},
   "source": [
    "## Call Option\n",
    "\n",
    "### Content: \n",
    "1. **Generating Data**\n",
    "2. **Training on Generated Data, Testing Both on Generated and Real Data**\n",
    "3. **Training on Real Data, Testing on Real Data**\n",
    "4. **Mixture of Data (70/30, 50/50), Testing on Real Data**\n"
   ]
  },
  {
   "cell_type": "code",
   "execution_count": null,
   "metadata": {},
   "outputs": [],
   "source": [
    "call_data = AmericanCallData(t_range=T, S_range=S, K=K, r=RISK_FREE, sigma=SIGMA)\n",
    "# N_ivp - IVP points\n",
    "# N_bvp - both BVP1 and BVP2 points\n",
    "# N_col - colocation points\n",
    "X = call_data.initialize_data(N_ivp=1000, N_bvp=3000, N_col=6000, is_call=True)\n",
    "option = ImplicitAmBer(\n",
    "    S[0],\n",
    "    K,\n",
    "    RISK_FREE,\n",
    "    T[1],\n",
    "    SIGMA,\n",
    "    S_MAX,\n",
    "    M=400,  # S\n",
    "    N=365 * 3,  # t\n",
    "    is_call=False,\n",
    ")\n",
    "option.price()\n",
    "option_fde_prices = option.grid\n",
    "data = get_prices_call(X, option_fde_prices, generated=True)\n",
    "df = pd.DataFrame(\n",
    "    data=data,\n",
    "    columns=[\n",
    "        \"TimeToExp\",\n",
    "        \"UnderlyingPrice\",\n",
    "        \"TargetPrice\",\n",
    "        \"OpenInterest\",\n",
    "        \"Delta\",\n",
    "        \"Gamma\",\n",
    "        \"Theta\",\n",
    "        \"Vega\",\n",
    "        \"BSAprox\",\n",
    "    ],\n",
    ")\n",
    "df[[\"TimeToExp\", \"UnderlyingPrice\", \"TargetPrice\", \"BSAprox\"]] = df[\n",
    "    [\"TimeToExp\", \"UnderlyingPrice\", \"TargetPrice\", \"BSAprox\"]\n",
    "].round(2)\n",
    "df[\"OpenInterest\"] = df[\"OpenInterest\"].round(0)\n",
    "df.to_csv(\"../train_data/generated_call.csv\")"
   ]
  },
  {
   "cell_type": "code",
   "execution_count": 2,
   "metadata": {},
   "outputs": [
    {
     "name": "stdout",
     "output_type": "stream",
     "text": [
      "(10000, 9)\n"
     ]
    },
    {
     "data": {
      "text/html": [
       "<div>\n",
       "<style scoped>\n",
       "    .dataframe tbody tr th:only-of-type {\n",
       "        vertical-align: middle;\n",
       "    }\n",
       "\n",
       "    .dataframe tbody tr th {\n",
       "        vertical-align: top;\n",
       "    }\n",
       "\n",
       "    .dataframe thead th {\n",
       "        text-align: right;\n",
       "    }\n",
       "</style>\n",
       "<table border=\"1\" class=\"dataframe\">\n",
       "  <thead>\n",
       "    <tr style=\"text-align: right;\">\n",
       "      <th></th>\n",
       "      <th>TimeToExp</th>\n",
       "      <th>UnderlyingPrice</th>\n",
       "      <th>TargetPrice</th>\n",
       "      <th>OpenInterest</th>\n",
       "      <th>Delta</th>\n",
       "      <th>Gamma</th>\n",
       "      <th>Theta</th>\n",
       "      <th>Vega</th>\n",
       "      <th>BSAprox</th>\n",
       "    </tr>\n",
       "  </thead>\n",
       "  <tbody>\n",
       "    <tr>\n",
       "      <th>0</th>\n",
       "      <td>850.0</td>\n",
       "      <td>122.12</td>\n",
       "      <td>43.00</td>\n",
       "      <td>364.0</td>\n",
       "      <td>0.345992</td>\n",
       "      <td>0.144298</td>\n",
       "      <td>-3.575622</td>\n",
       "      <td>2.522842</td>\n",
       "      <td>31.500</td>\n",
       "    </tr>\n",
       "    <tr>\n",
       "      <th>1</th>\n",
       "      <td>311.0</td>\n",
       "      <td>186.19</td>\n",
       "      <td>29.31</td>\n",
       "      <td>514.0</td>\n",
       "      <td>0.167115</td>\n",
       "      <td>0.056784</td>\n",
       "      <td>-2.531811</td>\n",
       "      <td>6.822075</td>\n",
       "      <td>24.655</td>\n",
       "    </tr>\n",
       "    <tr>\n",
       "      <th>2</th>\n",
       "      <td>629.0</td>\n",
       "      <td>52.52</td>\n",
       "      <td>69.69</td>\n",
       "      <td>65.0</td>\n",
       "      <td>0.376269</td>\n",
       "      <td>0.272558</td>\n",
       "      <td>-7.814967</td>\n",
       "      <td>5.852912</td>\n",
       "      <td>0.000</td>\n",
       "    </tr>\n",
       "    <tr>\n",
       "      <th>3</th>\n",
       "      <td>469.0</td>\n",
       "      <td>144.80</td>\n",
       "      <td>37.75</td>\n",
       "      <td>58.0</td>\n",
       "      <td>0.009575</td>\n",
       "      <td>0.017516</td>\n",
       "      <td>-1.451383</td>\n",
       "      <td>1.604901</td>\n",
       "      <td>0.000</td>\n",
       "    </tr>\n",
       "    <tr>\n",
       "      <th>4</th>\n",
       "      <td>0.0</td>\n",
       "      <td>187.07</td>\n",
       "      <td>29.12</td>\n",
       "      <td>91.0</td>\n",
       "      <td>0.441506</td>\n",
       "      <td>0.138325</td>\n",
       "      <td>-8.777276</td>\n",
       "      <td>5.934998</td>\n",
       "      <td>118.970</td>\n",
       "    </tr>\n",
       "  </tbody>\n",
       "</table>\n",
       "</div>"
      ],
      "text/plain": [
       "   TimeToExp  UnderlyingPrice  TargetPrice  OpenInterest     Delta     Gamma  \\\n",
       "0      850.0           122.12        43.00         364.0  0.345992  0.144298   \n",
       "1      311.0           186.19        29.31         514.0  0.167115  0.056784   \n",
       "2      629.0            52.52        69.69          65.0  0.376269  0.272558   \n",
       "3      469.0           144.80        37.75          58.0  0.009575  0.017516   \n",
       "4        0.0           187.07        29.12          91.0  0.441506  0.138325   \n",
       "\n",
       "      Theta      Vega  BSAprox  \n",
       "0 -3.575622  2.522842   31.500  \n",
       "1 -2.531811  6.822075   24.655  \n",
       "2 -7.814967  5.852912    0.000  \n",
       "3 -1.451383  1.604901    0.000  \n",
       "4 -8.777276  5.934998  118.970  "
      ]
     },
     "execution_count": 2,
     "metadata": {},
     "output_type": "execute_result"
    }
   ],
   "source": [
    "df = pd.read_csv(\"../train_data/generated_call.csv\",index_col=0)\n",
    "print(df.shape)\n",
    "df.head()"
   ]
  },
  {
   "cell_type": "code",
   "execution_count": 3,
   "metadata": {},
   "outputs": [
    {
     "name": "stdout",
     "output_type": "stream",
     "text": [
      "ITM count:4201\n",
      "OTM count:5799\n"
     ]
    }
   ],
   "source": [
    "# Check for ITM and OTM\n",
    "print(f\"ITM count:{np.sum(df.UnderlyingPrice > K)}\")\n",
    "print(f\"OTM count:{np.sum(df.UnderlyingPrice <= K)}\")"
   ]
  },
  {
   "cell_type": "code",
   "execution_count": 4,
   "metadata": {},
   "outputs": [
    {
     "name": "stdout",
     "output_type": "stream",
     "text": [
      "(223217, 11)\n",
      "ITM count:57430\n",
      "OTM count:165787\n"
     ]
    }
   ],
   "source": [
    "df_real = pd.read_csv(\"../train_data/call_df.csv\", index_col=0)\n",
    "print(df_real.shape)\n",
    "# Check for ITM and OTM\n",
    "print(f\"ITM count:{np.sum(df_real.UnderlyingPrice > K)}\")\n",
    "print(f\"OTM count:{np.sum(df_real.UnderlyingPrice <= K)}\")"
   ]
  },
  {
   "cell_type": "code",
   "execution_count": 30,
   "metadata": {},
   "outputs": [
    {
     "data": {
      "image/png": "[encoded data removed]",
      "text/plain": [
       "<Figure size 1200x800 with 1 Axes>"
      ]
     },
     "metadata": {},
     "output_type": "display_data"
    }
   ],
   "source": [
    "plt.figure(figsize=(12, 8))\n",
    "plt.scatter(\n",
    "    x=np.arange(1, len(df.TargetPrice) + 1, 1), y=df.TargetPrice, label=\"TargetValue\"\n",
    ")\n",
    "plt.scatter(x=np.arange(1, len(df.BSAprox) + 1, 1), y=df.BSAprox, label=\"B-S approx.\")\n",
    "plt.legend()\n",
    "plt.show()"
   ]
  },
  {
   "cell_type": "code",
   "execution_count": 5,
   "metadata": {},
   "outputs": [
    {
     "data": {
      "image/png": "[encoded data removed]",
      "text/plain": [
       "<Figure size 640x480 with 1 Axes>"
      ]
     },
     "metadata": {},
     "output_type": "display_data"
    }
   ],
   "source": [
    "plt.hist(df.TargetPrice, label=\"Target value\")\n",
    "plt.hist(df.BSAprox, label=\"B-S\")\n",
    "plt.legend()\n",
    "plt.show()"
   ]
  },
  {
   "cell_type": "code",
   "execution_count": null,
   "metadata": {},
   "outputs": [],
   "source": [
    "# adding BSAprox column to real data\n",
    "# Run it once, only if u dont have saved df\n",
    "df_real = get_prices_call(df_real.to_numpy(), generated=False)\n",
    "df_real = pd.DataFrame(\n",
    "    data=df_real,\n",
    "    columns=[\n",
    "        [\n",
    "            \"UnderlyingPrice\",\n",
    "            \"Type\",\n",
    "            \"Strike\",\n",
    "            \"OpenInterest\",\n",
    "            \"IV\",\n",
    "            \"Delta\",\n",
    "            \"Gamma\",\n",
    "            \"Theta\",\n",
    "            \"Vega\",\n",
    "            \"Time\",\n",
    "            \"TargetPrice\",\n",
    "            \"BSAprox\",\n",
    "        ]\n",
    "    ],\n",
    ")\n",
    "\n",
    "df_real[\"BSAprox\"] = df_real[\"BSAprox\"].round(2)\n",
    "df_real.to_csv(\"../train_data/call_df_with_approx.csv\")"
   ]
  },
  {
   "cell_type": "code",
   "execution_count": 2,
   "metadata": {},
   "outputs": [
    {
     "data": {
      "text/html": [
       "<div>\n",
       "<style scoped>\n",
       "    .dataframe tbody tr th:only-of-type {\n",
       "        vertical-align: middle;\n",
       "    }\n",
       "\n",
       "    .dataframe tbody tr th {\n",
       "        vertical-align: top;\n",
       "    }\n",
       "\n",
       "    .dataframe thead th {\n",
       "        text-align: right;\n",
       "    }\n",
       "</style>\n",
       "<table border=\"1\" class=\"dataframe\">\n",
       "  <thead>\n",
       "    <tr style=\"text-align: right;\">\n",
       "      <th></th>\n",
       "      <th>UnderlyingPrice</th>\n",
       "      <th>Type</th>\n",
       "      <th>Strike</th>\n",
       "      <th>OpenInterest</th>\n",
       "      <th>IV</th>\n",
       "      <th>Delta</th>\n",
       "      <th>Gamma</th>\n",
       "      <th>Theta</th>\n",
       "      <th>Vega</th>\n",
       "      <th>Time</th>\n",
       "      <th>TargetPrice</th>\n",
       "      <th>BSAprox</th>\n",
       "    </tr>\n",
       "  </thead>\n",
       "  <tbody>\n",
       "    <tr>\n",
       "      <th>0</th>\n",
       "      <td>71.11</td>\n",
       "      <td>call</td>\n",
       "      <td>55.0</td>\n",
       "      <td>0</td>\n",
       "      <td>0.2693</td>\n",
       "      <td>1.0000</td>\n",
       "      <td>0.0000</td>\n",
       "      <td>-1.2654</td>\n",
       "      <td>0.0015</td>\n",
       "      <td>21</td>\n",
       "      <td>16.08</td>\n",
       "      <td>16.11</td>\n",
       "    </tr>\n",
       "    <tr>\n",
       "      <th>1</th>\n",
       "      <td>71.11</td>\n",
       "      <td>call</td>\n",
       "      <td>60.0</td>\n",
       "      <td>3</td>\n",
       "      <td>0.2693</td>\n",
       "      <td>0.9968</td>\n",
       "      <td>0.0022</td>\n",
       "      <td>-1.7664</td>\n",
       "      <td>0.1636</td>\n",
       "      <td>21</td>\n",
       "      <td>11.38</td>\n",
       "      <td>11.11</td>\n",
       "    </tr>\n",
       "    <tr>\n",
       "      <th>2</th>\n",
       "      <td>71.11</td>\n",
       "      <td>call</td>\n",
       "      <td>62.5</td>\n",
       "      <td>9</td>\n",
       "      <td>0.2693</td>\n",
       "      <td>0.9813</td>\n",
       "      <td>0.0101</td>\n",
       "      <td>-3.2537</td>\n",
       "      <td>0.7659</td>\n",
       "      <td>21</td>\n",
       "      <td>8.50</td>\n",
       "      <td>8.61</td>\n",
       "    </tr>\n",
       "    <tr>\n",
       "      <th>3</th>\n",
       "      <td>71.11</td>\n",
       "      <td>call</td>\n",
       "      <td>65.0</td>\n",
       "      <td>16</td>\n",
       "      <td>0.2693</td>\n",
       "      <td>0.9286</td>\n",
       "      <td>0.0302</td>\n",
       "      <td>-6.9022</td>\n",
       "      <td>2.2884</td>\n",
       "      <td>21</td>\n",
       "      <td>6.98</td>\n",
       "      <td>6.11</td>\n",
       "    </tr>\n",
       "    <tr>\n",
       "      <th>4</th>\n",
       "      <td>71.11</td>\n",
       "      <td>call</td>\n",
       "      <td>67.5</td>\n",
       "      <td>44</td>\n",
       "      <td>0.2430</td>\n",
       "      <td>0.8313</td>\n",
       "      <td>0.0617</td>\n",
       "      <td>-10.4813</td>\n",
       "      <td>4.2260</td>\n",
       "      <td>21</td>\n",
       "      <td>4.10</td>\n",
       "      <td>3.61</td>\n",
       "    </tr>\n",
       "  </tbody>\n",
       "</table>\n",
       "</div>"
      ],
      "text/plain": [
       "   UnderlyingPrice  Type  Strike  OpenInterest      IV   Delta   Gamma  \\\n",
       "0            71.11  call    55.0             0  0.2693  1.0000  0.0000   \n",
       "1            71.11  call    60.0             3  0.2693  0.9968  0.0022   \n",
       "2            71.11  call    62.5             9  0.2693  0.9813  0.0101   \n",
       "3            71.11  call    65.0            16  0.2693  0.9286  0.0302   \n",
       "4            71.11  call    67.5            44  0.2430  0.8313  0.0617   \n",
       "\n",
       "     Theta    Vega  Time  TargetPrice  BSAprox  \n",
       "0  -1.2654  0.0015    21        16.08    16.11  \n",
       "1  -1.7664  0.1636    21        11.38    11.11  \n",
       "2  -3.2537  0.7659    21         8.50     8.61  \n",
       "3  -6.9022  2.2884    21         6.98     6.11  \n",
       "4 -10.4813  4.2260    21         4.10     3.61  "
      ]
     },
     "execution_count": 2,
     "metadata": {},
     "output_type": "execute_result"
    }
   ],
   "source": [
    "# df_real[\"BSAprox\"] = df_real[\"BSAprox\"].round(2)\n",
    "# df_real.to_csv(\"../train_data/call_df_with_approx.csv\")\n",
    "df_real = pd.read_csv(\"../train_data/call_df_with_approx.csv\", index_col=0)\n",
    "df_real.head()"
   ]
  },
  {
   "cell_type": "code",
   "execution_count": 3,
   "metadata": {},
   "outputs": [],
   "source": [
    "# hyperparams for training\n",
    "N_EPOCH = 20\n",
    "RISK_FREE = 0.03\n",
    "SIGMA = 0.4\n",
    "LEARNING_RATE = 5e-4\n",
    "HIDDEN_LAYER = 20\n",
    "HIDDEN_WIDTH = 64\n",
    "EXPERIMENT_NAME = \"exp_call_8\"\n",
    "MODEL_TYPE = AmericanPut_gated3\n",
    "experiment_dir = f\"../experiments_dir/{EXPERIMENT_NAME}\"\n",
    "os.makedirs(experiment_dir, exist_ok=True)"
   ]
  },
  {
   "cell_type": "code",
   "execution_count": 4,
   "metadata": {},
   "outputs": [],
   "source": [
    "import logging\n",
    "from datetime import datetime\n",
    "\n",
    "logger = logging.getLogger()\n",
    "current_date = datetime.now().strftime(\"%Y-%m-%d\")\n",
    "log_file_name = f\"{experiment_dir}/{EXPERIMENT_NAME}_log_{current_date}.log\"\n",
    "fhandler = logging.FileHandler(filename=log_file_name, mode=\"w\")\n",
    "formatter = logging.Formatter(\"%(asctime)s - %(name)s - %(levelname)s - %(message)s\")\n",
    "fhandler.setFormatter(formatter)\n",
    "logger.addHandler(fhandler)\n",
    "logger.setLevel(logging.INFO)"
   ]
  },
  {
   "cell_type": "code",
   "execution_count": 5,
   "metadata": {},
   "outputs": [
    {
     "name": "stdout",
     "output_type": "stream",
     "text": [
      "cuda\n"
     ]
    }
   ],
   "source": [
    "DEVICE = \"cuda\" if torch.cuda.is_available() else \"cpu\"\n",
    "print(DEVICE)\n",
    "# torch.set_default_device(DEVICE)\n",
    "logging.info(f\"Running on device={DEVICE}\")"
   ]
  },
  {
   "cell_type": "code",
   "execution_count": 6,
   "metadata": {},
   "outputs": [],
   "source": [
    "logging.info(f\"N_EPOCH: {N_EPOCH}\")\n",
    "logging.info(f\"LEARNING_RATE: {LEARNING_RATE}\")\n",
    "logging.info(f\"HIDDEN_LAYER: {HIDDEN_LAYER}\")\n",
    "logging.info(f\"HIDDEN_WIDTH: {HIDDEN_WIDTH}\")\n",
    "# logging.info(f\"N_sample: {N_sample}\")\n",
    "logging.info(f\"EXPERIMENT_NAME: {EXPERIMENT_NAME}\")\n",
    "logging.info(f\"Model type: {MODEL_TYPE.__name__}\")"
   ]
  },
  {
   "cell_type": "code",
   "execution_count": 7,
   "metadata": {},
   "outputs": [
    {
     "name": "stdout",
     "output_type": "stream",
     "text": [
      "(14000, 12)\n",
      "(6000, 12)\n"
     ]
    }
   ],
   "source": [
    "df = df_real.sample(n=20000, random_state=42)\n",
    "df_train, df_val = train_test_split(df, test_size=0.3)\n",
    "print(df_train.shape)\n",
    "print(df_val.shape)"
   ]
  },
  {
   "cell_type": "code",
   "execution_count": 8,
   "metadata": {},
   "outputs": [],
   "source": [
    "initial_mse_train = (\n",
    "    1 / len(df_train) * np.sum((df_train.TargetPrice - df_train.BSAprox) ** 2)\n",
    ")\n",
    "initial_mse_val = 1 / len(df_val) * np.sum((df_val.TargetPrice - df_val.BSAprox) ** 2)\n",
    "logging.info(\n",
    "    f\"Initial MSE train: {initial_mse_train.round(4)}, Initial MSE val: {initial_mse_val.round(4)}\"\n",
    ")"
   ]
  },
  {
   "cell_type": "code",
   "execution_count": 9,
   "metadata": {},
   "outputs": [],
   "source": [
    "train_df = CustomDataset(df_train)\n",
    "val_df = CustomDataset(df_val)"
   ]
  },
  {
   "cell_type": "code",
   "execution_count": 10,
   "metadata": {},
   "outputs": [],
   "source": [
    "# import torch.multiprocessing as mp\n",
    "from torch.optim.lr_scheduler import ReduceLROnPlateau\n",
    "\n",
    "# # Set the multiprocessing start method to 'spawn'\n",
    "# mp.set_start_method(\"spawn\", force=True)\n",
    "model = MODEL_TYPE(5, 1, HIDDEN_WIDTH, HIDDEN_LAYER).to(DEVICE)\n",
    "logging.info(\n",
    "    f\"Total number of learnable parameters: {sum(p.numel() for p in model.parameters() if p.requires_grad)}\"\n",
    ")\n",
    "train_dataloader = DataLoader(\n",
    "    train_df,\n",
    "    batch_size=128,\n",
    "    shuffle=True,\n",
    "    num_workers=8,\n",
    "    # generator=torch.Generator(device=DEVICE),\n",
    ")\n",
    "val_dataloader = DataLoader(\n",
    "    val_df,\n",
    "    batch_size=64,\n",
    "    shuffle=False,\n",
    "    num_workers=8,\n",
    ")\n",
    "optimizers_list = {\n",
    "    \"SGD\": torch.optim.SGD(model.parameters(), lr=LEARNING_RATE, momentum=0.7),\n",
    "    \"RMSprop\": torch.optim.RMSprop(model.parameters(), lr=LEARNING_RATE),\n",
    "    \"Adam\": torch.optim.Adam(model.parameters(), lr=LEARNING_RATE),\n",
    "    \"Adamax\": torch.optim.Adamax(\n",
    "        model.parameters(), lr=LEARNING_RATE, betas=(0.9, 0.99)\n",
    "    ),\n",
    "}\n",
    "criteriation = nn.MSELoss()"
   ]
  },
  {
   "cell_type": "code",
   "execution_count": 11,
   "metadata": {},
   "outputs": [],
   "source": [
    "def train_model(model, train_dataloader, optimizer, scheduler, criteriation, device):\n",
    "    model.train()\n",
    "    train_losses = []\n",
    "    for batch_idx, data in tqdm(\n",
    "        enumerate(train_dataloader), total=len(train_dataloader)\n",
    "    ):\n",
    "        optimizer.zero_grad()\n",
    "        inputs = data[\"input\"].to(device)\n",
    "        outputs = data[\"output\"].to(device).view(-1, 1)\n",
    "        pred = model(inputs).view(-1, 1)\n",
    "        loss = criteriation(outputs, pred)\n",
    "        loss.backward()\n",
    "        optimizer.step()\n",
    "        train_losses.append(loss.item())\n",
    "    scheduler.step(np.mean(train_losses))  # Step the scheduler based on training loss\n",
    "    return np.mean(train_losses)\n",
    "\n",
    "\n",
    "def validate_model(model, val_dataloader, criteriation, device):\n",
    "    model.eval()\n",
    "    val_losses = []\n",
    "    with torch.no_grad():\n",
    "        for batch_idx, data in tqdm(\n",
    "            enumerate(val_dataloader), total=len(val_dataloader)\n",
    "        ):\n",
    "            inputs = data[\"input\"].to(device)\n",
    "            outputs = data[\"output\"].to(device).view(-1, 1)\n",
    "            pred = model(inputs).view(-1, 1)\n",
    "            loss = criteriation(outputs, pred)\n",
    "            val_losses.append(loss.item())\n",
    "    return np.mean(val_losses)\n",
    "\n",
    "\n",
    "def train_cycle(optimizer_name, optimizer, train_loss_dict, val_loss_dict, final=False):\n",
    "    print(f\"Optimizer: {optimizer_name}\")\n",
    "    train_loss_dict[optimizer_name] = []\n",
    "    val_loss_dict[optimizer_name] = []\n",
    "    logging.info(f\"Optimizer: {optimizer_name}\")\n",
    "\n",
    "    # Define the ReduceLROnPlateau scheduler\n",
    "    scheduler = ReduceLROnPlateau(optimizer, mode=\"min\", patience=5, verbose=True)\n",
    "\n",
    "    for i in range(N_EPOCH):\n",
    "        train_loss = train_model(\n",
    "            model, train_dataloader, optimizer, scheduler, criteriation, DEVICE\n",
    "        )\n",
    "        train_loss_dict[optimizer_name].append(train_loss)\n",
    "        val_loss = validate_model(model, val_dataloader, criteriation, DEVICE)\n",
    "        val_loss_dict[optimizer_name].append(val_loss)\n",
    "        if final:\n",
    "            torch.save(\n",
    "                model.state_dict(), f\"{experiment_dir}/{EXPERIMENT_NAME}_{i}.pth\"\n",
    "            )\n",
    "        print(f\"Epoch {i+1}, train loss: {train_loss:.4f}, test loss: {val_loss:.4f}\")\n",
    "        logging.info(\n",
    "            f\"Epoch {i+1}, train loss: {train_loss:.4f}, test loss: {val_loss:.4f}\"\n",
    "        )"
   ]
  },
  {
   "cell_type": "code",
   "execution_count": 12,
   "metadata": {},
   "outputs": [
    {
     "name": "stdout",
     "output_type": "stream",
     "text": [
      "Optimizer: SGD\n"
     ]
    },
    {
     "name": "stderr",
     "output_type": "stream",
     "text": [
      "100%|██████████| 110/110 [00:00<00:00, 127.68it/s]\n",
      "100%|██████████| 94/94 [00:00<00:00, 319.28it/s]"
     ]
    },
    {
     "name": "stdout",
     "output_type": "stream",
     "text": [
      "Epoch 1, train loss: 41.5938, test loss: 29.1397\n"
     ]
    },
    {
     "name": "stderr",
     "output_type": "stream",
     "text": [
      "\n",
      "100%|██████████| 110/110 [00:00<00:00, 152.43it/s]\n",
      "100%|██████████| 94/94 [00:00<00:00, 295.63it/s]"
     ]
    },
    {
     "name": "stdout",
     "output_type": "stream",
     "text": [
      "Epoch 2, train loss: 41.1166, test loss: 32.9078\n"
     ]
    },
    {
     "name": "stderr",
     "output_type": "stream",
     "text": [
      "\n",
      "100%|██████████| 110/110 [00:00<00:00, 152.62it/s]\n",
      "100%|██████████| 94/94 [00:00<00:00, 289.02it/s]"
     ]
    },
    {
     "name": "stdout",
     "output_type": "stream",
     "text": [
      "Epoch 3, train loss: 40.1308, test loss: 28.0935\n"
     ]
    },
    {
     "name": "stderr",
     "output_type": "stream",
     "text": [
      "\n",
      "100%|██████████| 110/110 [00:00<00:00, 142.77it/s]\n",
      "100%|██████████| 94/94 [00:00<00:00, 318.37it/s]"
     ]
    },
    {
     "name": "stdout",
     "output_type": "stream",
     "text": [
      "Epoch 4, train loss: 39.6559, test loss: 27.9840\n"
     ]
    },
    {
     "name": "stderr",
     "output_type": "stream",
     "text": [
      "\n",
      "100%|██████████| 110/110 [00:00<00:00, 143.55it/s]\n",
      "100%|██████████| 94/94 [00:00<00:00, 246.10it/s]"
     ]
    },
    {
     "name": "stdout",
     "output_type": "stream",
     "text": [
      "Epoch 5, train loss: 39.7070, test loss: 27.7568\n"
     ]
    },
    {
     "name": "stderr",
     "output_type": "stream",
     "text": [
      "\n",
      "100%|██████████| 110/110 [00:00<00:00, 129.68it/s]\n",
      "100%|██████████| 94/94 [00:00<00:00, 275.99it/s]"
     ]
    },
    {
     "name": "stdout",
     "output_type": "stream",
     "text": [
      "Epoch 6, train loss: 39.6480, test loss: 28.2033\n"
     ]
    },
    {
     "name": "stderr",
     "output_type": "stream",
     "text": [
      "\n",
      "100%|██████████| 110/110 [00:00<00:00, 131.90it/s]\n",
      "100%|██████████| 94/94 [00:00<00:00, 326.82it/s]"
     ]
    },
    {
     "name": "stdout",
     "output_type": "stream",
     "text": [
      "Epoch 7, train loss: 39.4389, test loss: 28.1420\n"
     ]
    },
    {
     "name": "stderr",
     "output_type": "stream",
     "text": [
      "\n",
      "100%|██████████| 110/110 [00:00<00:00, 142.24it/s]\n",
      "100%|██████████| 94/94 [00:00<00:00, 323.26it/s]"
     ]
    },
    {
     "name": "stdout",
     "output_type": "stream",
     "text": [
      "Epoch 8, train loss: 40.4727, test loss: 29.1892\n"
     ]
    },
    {
     "name": "stderr",
     "output_type": "stream",
     "text": [
      "\n",
      "100%|██████████| 110/110 [00:00<00:00, 131.11it/s]\n",
      "100%|██████████| 94/94 [00:00<00:00, 309.02it/s]"
     ]
    },
    {
     "name": "stdout",
     "output_type": "stream",
     "text": [
      "Epoch 9, train loss: 39.5610, test loss: 28.3378\n"
     ]
    },
    {
     "name": "stderr",
     "output_type": "stream",
     "text": [
      "\n",
      "100%|██████████| 110/110 [00:00<00:00, 151.28it/s]\n",
      "100%|██████████| 94/94 [00:00<00:00, 334.54it/s]"
     ]
    },
    {
     "name": "stdout",
     "output_type": "stream",
     "text": [
      "Epoch 10, train loss: 39.2173, test loss: 28.5830\n"
     ]
    },
    {
     "name": "stderr",
     "output_type": "stream",
     "text": [
      "\n",
      "100%|██████████| 110/110 [00:00<00:00, 123.42it/s]\n",
      "100%|██████████| 94/94 [00:00<00:00, 326.02it/s]"
     ]
    },
    {
     "name": "stdout",
     "output_type": "stream",
     "text": [
      "Epoch 11, train loss: 39.2281, test loss: 27.9072\n"
     ]
    },
    {
     "name": "stderr",
     "output_type": "stream",
     "text": [
      "\n",
      "100%|██████████| 110/110 [00:00<00:00, 141.95it/s]\n",
      "100%|██████████| 94/94 [00:00<00:00, 323.01it/s]"
     ]
    },
    {
     "name": "stdout",
     "output_type": "stream",
     "text": [
      "Epoch 12, train loss: 38.9920, test loss: 27.7232\n"
     ]
    },
    {
     "name": "stderr",
     "output_type": "stream",
     "text": [
      "\n",
      "100%|██████████| 110/110 [00:00<00:00, 141.90it/s]\n",
      "100%|██████████| 94/94 [00:00<00:00, 322.34it/s]"
     ]
    },
    {
     "name": "stdout",
     "output_type": "stream",
     "text": [
      "Epoch 13, train loss: 39.6662, test loss: 27.8691\n"
     ]
    },
    {
     "name": "stderr",
     "output_type": "stream",
     "text": [
      "\n",
      "100%|██████████| 110/110 [00:00<00:00, 152.14it/s]\n",
      "100%|██████████| 94/94 [00:00<00:00, 315.88it/s]"
     ]
    },
    {
     "name": "stdout",
     "output_type": "stream",
     "text": [
      "Epoch 14, train loss: 39.0099, test loss: 27.3773\n"
     ]
    },
    {
     "name": "stderr",
     "output_type": "stream",
     "text": [
      "\n",
      "100%|██████████| 110/110 [00:00<00:00, 149.56it/s]\n",
      "100%|██████████| 94/94 [00:00<00:00, 327.10it/s]"
     ]
    },
    {
     "name": "stdout",
     "output_type": "stream",
     "text": [
      "Epoch 15, train loss: 39.3765, test loss: 27.9925\n"
     ]
    },
    {
     "name": "stderr",
     "output_type": "stream",
     "text": [
      "\n",
      "100%|██████████| 110/110 [00:00<00:00, 144.02it/s]\n",
      "100%|██████████| 94/94 [00:00<00:00, 332.43it/s]"
     ]
    },
    {
     "name": "stdout",
     "output_type": "stream",
     "text": [
      "Epoch 16, train loss: 39.9290, test loss: 28.6191\n"
     ]
    },
    {
     "name": "stderr",
     "output_type": "stream",
     "text": [
      "\n",
      "100%|██████████| 110/110 [00:00<00:00, 141.68it/s]\n",
      "100%|██████████| 94/94 [00:00<00:00, 328.31it/s]"
     ]
    },
    {
     "name": "stdout",
     "output_type": "stream",
     "text": [
      "Epoch 17, train loss: 39.6187, test loss: 29.5461\n"
     ]
    },
    {
     "name": "stderr",
     "output_type": "stream",
     "text": [
      "\n",
      "100%|██████████| 110/110 [00:00<00:00, 149.08it/s]"
     ]
    },
    {
     "name": "stdout",
     "output_type": "stream",
     "text": [
      "Epoch 00018: reducing learning rate of group 0 to 5.0000e-05.\n"
     ]
    },
    {
     "name": "stderr",
     "output_type": "stream",
     "text": [
      "\n",
      "100%|██████████| 94/94 [00:00<00:00, 314.36it/s]\n"
     ]
    },
    {
     "name": "stdout",
     "output_type": "stream",
     "text": [
      "Epoch 18, train loss: 39.0393, test loss: 28.0515\n"
     ]
    },
    {
     "name": "stderr",
     "output_type": "stream",
     "text": [
      "100%|██████████| 110/110 [00:00<00:00, 152.47it/s]\n",
      "100%|██████████| 94/94 [00:00<00:00, 312.68it/s]\n"
     ]
    },
    {
     "name": "stdout",
     "output_type": "stream",
     "text": [
      "Epoch 19, train loss: 39.2474, test loss: 27.6183\n"
     ]
    },
    {
     "name": "stderr",
     "output_type": "stream",
     "text": [
      "100%|██████████| 110/110 [00:00<00:00, 149.69it/s]\n",
      "100%|██████████| 94/94 [00:00<00:00, 329.67it/s]"
     ]
    },
    {
     "name": "stdout",
     "output_type": "stream",
     "text": [
      "Epoch 20, train loss: 38.4708, test loss: 27.7467\n",
      "Optimizer: RMSprop\n"
     ]
    },
    {
     "name": "stderr",
     "output_type": "stream",
     "text": [
      "\n",
      "100%|██████████| 110/110 [00:00<00:00, 132.67it/s]\n",
      "100%|██████████| 94/94 [00:00<00:00, 232.39it/s]"
     ]
    },
    {
     "name": "stdout",
     "output_type": "stream",
     "text": [
      "Epoch 1, train loss: 41.3513, test loss: 28.9663\n"
     ]
    },
    {
     "name": "stderr",
     "output_type": "stream",
     "text": [
      "\n",
      "100%|██████████| 110/110 [00:00<00:00, 138.26it/s]\n",
      "100%|██████████| 94/94 [00:00<00:00, 275.81it/s]"
     ]
    },
    {
     "name": "stdout",
     "output_type": "stream",
     "text": [
      "Epoch 2, train loss: 40.4259, test loss: 32.3762\n"
     ]
    },
    {
     "name": "stderr",
     "output_type": "stream",
     "text": [
      "\n",
      "100%|██████████| 110/110 [00:00<00:00, 136.54it/s]\n",
      "100%|██████████| 94/94 [00:00<00:00, 325.05it/s]"
     ]
    },
    {
     "name": "stdout",
     "output_type": "stream",
     "text": [
      "Epoch 3, train loss: 39.4865, test loss: 27.7677\n"
     ]
    },
    {
     "name": "stderr",
     "output_type": "stream",
     "text": [
      "\n",
      "100%|██████████| 110/110 [00:00<00:00, 142.30it/s]\n",
      "100%|██████████| 94/94 [00:00<00:00, 304.64it/s]"
     ]
    },
    {
     "name": "stdout",
     "output_type": "stream",
     "text": [
      "Epoch 4, train loss: 39.3091, test loss: 27.8594\n"
     ]
    },
    {
     "name": "stderr",
     "output_type": "stream",
     "text": [
      "\n",
      "100%|██████████| 110/110 [00:00<00:00, 145.54it/s]\n",
      "100%|██████████| 94/94 [00:00<00:00, 323.60it/s]"
     ]
    },
    {
     "name": "stdout",
     "output_type": "stream",
     "text": [
      "Epoch 5, train loss: 39.3271, test loss: 27.4742\n"
     ]
    },
    {
     "name": "stderr",
     "output_type": "stream",
     "text": [
      "\n",
      "100%|██████████| 110/110 [00:00<00:00, 142.29it/s]\n",
      "100%|██████████| 94/94 [00:00<00:00, 343.89it/s]"
     ]
    },
    {
     "name": "stdout",
     "output_type": "stream",
     "text": [
      "Epoch 6, train loss: 38.9850, test loss: 27.6562\n"
     ]
    },
    {
     "name": "stderr",
     "output_type": "stream",
     "text": [
      "\n",
      "100%|██████████| 110/110 [00:00<00:00, 140.79it/s]\n",
      "100%|██████████| 94/94 [00:00<00:00, 328.24it/s]"
     ]
    },
    {
     "name": "stdout",
     "output_type": "stream",
     "text": [
      "Epoch 7, train loss: 39.0136, test loss: 35.6595\n"
     ]
    },
    {
     "name": "stderr",
     "output_type": "stream",
     "text": [
      "\n",
      "100%|██████████| 110/110 [00:00<00:00, 139.94it/s]\n",
      "100%|██████████| 94/94 [00:00<00:00, 315.54it/s]"
     ]
    },
    {
     "name": "stdout",
     "output_type": "stream",
     "text": [
      "Epoch 8, train loss: 41.0850, test loss: 34.1798\n"
     ]
    },
    {
     "name": "stderr",
     "output_type": "stream",
     "text": [
      "\n",
      "100%|██████████| 110/110 [00:00<00:00, 137.44it/s]\n",
      "100%|██████████| 94/94 [00:00<00:00, 347.98it/s]"
     ]
    },
    {
     "name": "stdout",
     "output_type": "stream",
     "text": [
      "Epoch 9, train loss: 38.9014, test loss: 27.3921\n"
     ]
    },
    {
     "name": "stderr",
     "output_type": "stream",
     "text": [
      "\n",
      "100%|██████████| 110/110 [00:00<00:00, 141.72it/s]\n",
      "100%|██████████| 94/94 [00:00<00:00, 312.12it/s]\n"
     ]
    },
    {
     "name": "stdout",
     "output_type": "stream",
     "text": [
      "Epoch 10, train loss: 38.7457, test loss: 27.6903\n"
     ]
    },
    {
     "name": "stderr",
     "output_type": "stream",
     "text": [
      "100%|██████████| 110/110 [00:00<00:00, 141.22it/s]\n",
      "100%|██████████| 94/94 [00:00<00:00, 327.62it/s]"
     ]
    },
    {
     "name": "stdout",
     "output_type": "stream",
     "text": [
      "Epoch 11, train loss: 39.0181, test loss: 27.5480\n"
     ]
    },
    {
     "name": "stderr",
     "output_type": "stream",
     "text": [
      "\n",
      "100%|██████████| 110/110 [00:00<00:00, 144.42it/s]\n",
      "100%|██████████| 94/94 [00:00<00:00, 321.72it/s]"
     ]
    },
    {
     "name": "stdout",
     "output_type": "stream",
     "text": [
      "Epoch 12, train loss: 38.7968, test loss: 29.8155\n"
     ]
    },
    {
     "name": "stderr",
     "output_type": "stream",
     "text": [
      "\n",
      "100%|██████████| 110/110 [00:00<00:00, 141.79it/s]\n",
      "100%|██████████| 94/94 [00:00<00:00, 338.90it/s]"
     ]
    },
    {
     "name": "stdout",
     "output_type": "stream",
     "text": [
      "Epoch 13, train loss: 38.9781, test loss: 27.4804\n"
     ]
    },
    {
     "name": "stderr",
     "output_type": "stream",
     "text": [
      "\n",
      "100%|██████████| 110/110 [00:00<00:00, 138.81it/s]\n",
      "100%|██████████| 94/94 [00:00<00:00, 341.71it/s]"
     ]
    },
    {
     "name": "stdout",
     "output_type": "stream",
     "text": [
      "Epoch 14, train loss: 38.4966, test loss: 27.9414\n"
     ]
    },
    {
     "name": "stderr",
     "output_type": "stream",
     "text": [
      "\n",
      "100%|██████████| 110/110 [00:00<00:00, 136.97it/s]\n",
      "100%|██████████| 94/94 [00:00<00:00, 316.33it/s]"
     ]
    },
    {
     "name": "stdout",
     "output_type": "stream",
     "text": [
      "Epoch 15, train loss: 38.8943, test loss: 27.4832\n"
     ]
    },
    {
     "name": "stderr",
     "output_type": "stream",
     "text": [
      "\n",
      "100%|██████████| 110/110 [00:00<00:00, 139.35it/s]\n",
      "100%|██████████| 94/94 [00:00<00:00, 334.46it/s]"
     ]
    },
    {
     "name": "stdout",
     "output_type": "stream",
     "text": [
      "Epoch 16, train loss: 38.7075, test loss: 26.8752\n"
     ]
    },
    {
     "name": "stderr",
     "output_type": "stream",
     "text": [
      "\n",
      "100%|██████████| 110/110 [00:00<00:00, 145.88it/s]\n",
      "100%|██████████| 94/94 [00:00<00:00, 316.82it/s]"
     ]
    },
    {
     "name": "stdout",
     "output_type": "stream",
     "text": [
      "Epoch 17, train loss: 38.8870, test loss: 29.1037\n"
     ]
    },
    {
     "name": "stderr",
     "output_type": "stream",
     "text": [
      "\n",
      "100%|██████████| 110/110 [00:00<00:00, 127.37it/s]\n",
      "100%|██████████| 94/94 [00:00<00:00, 331.34it/s]"
     ]
    },
    {
     "name": "stdout",
     "output_type": "stream",
     "text": [
      "Epoch 18, train loss: 38.7254, test loss: 27.3210\n"
     ]
    },
    {
     "name": "stderr",
     "output_type": "stream",
     "text": [
      "\n",
      "100%|██████████| 110/110 [00:00<00:00, 143.97it/s]\n",
      "100%|██████████| 94/94 [00:00<00:00, 312.77it/s]\n"
     ]
    },
    {
     "name": "stdout",
     "output_type": "stream",
     "text": [
      "Epoch 19, train loss: 38.7413, test loss: 27.4811\n"
     ]
    },
    {
     "name": "stderr",
     "output_type": "stream",
     "text": [
      "100%|██████████| 110/110 [00:00<00:00, 141.67it/s]"
     ]
    },
    {
     "name": "stdout",
     "output_type": "stream",
     "text": [
      "Epoch 00020: reducing learning rate of group 0 to 5.0000e-05.\n"
     ]
    },
    {
     "name": "stderr",
     "output_type": "stream",
     "text": [
      "\n",
      "100%|██████████| 94/94 [00:00<00:00, 308.98it/s]"
     ]
    },
    {
     "name": "stdout",
     "output_type": "stream",
     "text": [
      "Epoch 20, train loss: 38.5703, test loss: 27.4584\n",
      "Optimizer: Adam\n"
     ]
    },
    {
     "name": "stderr",
     "output_type": "stream",
     "text": [
      "\n",
      "100%|██████████| 110/110 [00:00<00:00, 133.20it/s]\n",
      "100%|██████████| 94/94 [00:00<00:00, 322.73it/s]"
     ]
    },
    {
     "name": "stdout",
     "output_type": "stream",
     "text": [
      "Epoch 1, train loss: 39.3864, test loss: 27.5877\n"
     ]
    },
    {
     "name": "stderr",
     "output_type": "stream",
     "text": [
      "\n",
      "100%|██████████| 110/110 [00:00<00:00, 125.70it/s]\n",
      "100%|██████████| 94/94 [00:00<00:00, 327.08it/s]"
     ]
    },
    {
     "name": "stdout",
     "output_type": "stream",
     "text": [
      "Epoch 2, train loss: 38.7050, test loss: 27.5133\n"
     ]
    },
    {
     "name": "stderr",
     "output_type": "stream",
     "text": [
      "\n",
      "100%|██████████| 110/110 [00:00<00:00, 135.61it/s]\n",
      "100%|██████████| 94/94 [00:00<00:00, 333.32it/s]"
     ]
    },
    {
     "name": "stdout",
     "output_type": "stream",
     "text": [
      "Epoch 3, train loss: 39.7001, test loss: 27.6596\n"
     ]
    },
    {
     "name": "stderr",
     "output_type": "stream",
     "text": [
      "\n",
      "100%|██████████| 110/110 [00:00<00:00, 131.81it/s]\n",
      "100%|██████████| 94/94 [00:00<00:00, 318.80it/s]"
     ]
    },
    {
     "name": "stdout",
     "output_type": "stream",
     "text": [
      "Epoch 4, train loss: 38.5771, test loss: 28.1609\n"
     ]
    },
    {
     "name": "stderr",
     "output_type": "stream",
     "text": [
      "\n",
      "100%|██████████| 110/110 [00:00<00:00, 137.25it/s]\n",
      "100%|██████████| 94/94 [00:00<00:00, 320.09it/s]"
     ]
    },
    {
     "name": "stdout",
     "output_type": "stream",
     "text": [
      "Epoch 5, train loss: 38.3790, test loss: 29.0534\n"
     ]
    },
    {
     "name": "stderr",
     "output_type": "stream",
     "text": [
      "\n",
      "100%|██████████| 110/110 [00:00<00:00, 134.10it/s]\n",
      "100%|██████████| 94/94 [00:00<00:00, 313.14it/s]\n"
     ]
    },
    {
     "name": "stdout",
     "output_type": "stream",
     "text": [
      "Epoch 6, train loss: 38.4739, test loss: 28.6826\n"
     ]
    },
    {
     "name": "stderr",
     "output_type": "stream",
     "text": [
      "100%|██████████| 110/110 [00:00<00:00, 133.26it/s]\n",
      "100%|██████████| 94/94 [00:00<00:00, 329.06it/s]"
     ]
    },
    {
     "name": "stdout",
     "output_type": "stream",
     "text": [
      "Epoch 7, train loss: 38.2517, test loss: 27.7512\n"
     ]
    },
    {
     "name": "stderr",
     "output_type": "stream",
     "text": [
      "\n",
      "100%|██████████| 110/110 [00:00<00:00, 135.79it/s]\n",
      "100%|██████████| 94/94 [00:00<00:00, 280.36it/s]"
     ]
    },
    {
     "name": "stdout",
     "output_type": "stream",
     "text": [
      "Epoch 8, train loss: 38.5983, test loss: 27.8358\n"
     ]
    },
    {
     "name": "stderr",
     "output_type": "stream",
     "text": [
      "\n",
      "100%|██████████| 110/110 [00:00<00:00, 131.40it/s]\n",
      "100%|██████████| 94/94 [00:00<00:00, 323.79it/s]"
     ]
    },
    {
     "name": "stdout",
     "output_type": "stream",
     "text": [
      "Epoch 9, train loss: 38.9688, test loss: 27.8919\n"
     ]
    },
    {
     "name": "stderr",
     "output_type": "stream",
     "text": [
      "\n",
      "100%|██████████| 110/110 [00:00<00:00, 135.14it/s]\n",
      "100%|██████████| 94/94 [00:00<00:00, 296.32it/s]"
     ]
    },
    {
     "name": "stdout",
     "output_type": "stream",
     "text": [
      "Epoch 10, train loss: 38.9768, test loss: 28.4107\n"
     ]
    },
    {
     "name": "stderr",
     "output_type": "stream",
     "text": [
      "\n",
      "100%|██████████| 110/110 [00:00<00:00, 135.69it/s]\n",
      "100%|██████████| 94/94 [00:00<00:00, 331.83it/s]"
     ]
    },
    {
     "name": "stdout",
     "output_type": "stream",
     "text": [
      "Epoch 11, train loss: 38.4947, test loss: 28.1014\n"
     ]
    },
    {
     "name": "stderr",
     "output_type": "stream",
     "text": [
      "\n",
      "100%|██████████| 110/110 [00:00<00:00, 135.22it/s]\n",
      "100%|██████████| 94/94 [00:00<00:00, 349.88it/s]"
     ]
    },
    {
     "name": "stdout",
     "output_type": "stream",
     "text": [
      "Epoch 12, train loss: 38.6344, test loss: 27.1567\n"
     ]
    },
    {
     "name": "stderr",
     "output_type": "stream",
     "text": [
      "\n",
      "100%|██████████| 110/110 [00:00<00:00, 136.84it/s]"
     ]
    },
    {
     "name": "stdout",
     "output_type": "stream",
     "text": [
      "Epoch 00013: reducing learning rate of group 0 to 5.0000e-05.\n"
     ]
    },
    {
     "name": "stderr",
     "output_type": "stream",
     "text": [
      "\n",
      "100%|██████████| 94/94 [00:00<00:00, 302.46it/s]"
     ]
    },
    {
     "name": "stdout",
     "output_type": "stream",
     "text": [
      "Epoch 13, train loss: 38.2923, test loss: 28.4200\n"
     ]
    },
    {
     "name": "stderr",
     "output_type": "stream",
     "text": [
      "\n",
      "100%|██████████| 110/110 [00:00<00:00, 127.79it/s]\n",
      "100%|██████████| 94/94 [00:00<00:00, 321.42it/s]"
     ]
    },
    {
     "name": "stdout",
     "output_type": "stream",
     "text": [
      "Epoch 14, train loss: 38.0201, test loss: 28.2401\n"
     ]
    },
    {
     "name": "stderr",
     "output_type": "stream",
     "text": [
      "\n",
      "100%|██████████| 110/110 [00:00<00:00, 129.69it/s]\n",
      "100%|██████████| 94/94 [00:00<00:00, 314.26it/s]\n"
     ]
    },
    {
     "name": "stdout",
     "output_type": "stream",
     "text": [
      "Epoch 15, train loss: 38.3144, test loss: 28.2810\n"
     ]
    },
    {
     "name": "stderr",
     "output_type": "stream",
     "text": [
      "100%|██████████| 110/110 [00:00<00:00, 137.04it/s]\n",
      "100%|██████████| 94/94 [00:00<00:00, 318.45it/s]"
     ]
    },
    {
     "name": "stdout",
     "output_type": "stream",
     "text": [
      "Epoch 16, train loss: 37.7511, test loss: 28.4020\n"
     ]
    },
    {
     "name": "stderr",
     "output_type": "stream",
     "text": [
      "\n",
      "100%|██████████| 110/110 [00:00<00:00, 131.75it/s]\n",
      "100%|██████████| 94/94 [00:00<00:00, 331.66it/s]"
     ]
    },
    {
     "name": "stdout",
     "output_type": "stream",
     "text": [
      "Epoch 17, train loss: 37.7029, test loss: 28.1483\n"
     ]
    },
    {
     "name": "stderr",
     "output_type": "stream",
     "text": [
      "\n",
      "100%|██████████| 110/110 [00:00<00:00, 128.75it/s]\n",
      "100%|██████████| 94/94 [00:00<00:00, 234.49it/s]"
     ]
    },
    {
     "name": "stdout",
     "output_type": "stream",
     "text": [
      "Epoch 18, train loss: 38.2253, test loss: 28.4526\n"
     ]
    },
    {
     "name": "stderr",
     "output_type": "stream",
     "text": [
      "\n",
      "100%|██████████| 110/110 [00:00<00:00, 128.93it/s]\n",
      "100%|██████████| 94/94 [00:00<00:00, 308.79it/s]"
     ]
    },
    {
     "name": "stdout",
     "output_type": "stream",
     "text": [
      "Epoch 19, train loss: 39.6733, test loss: 28.8574\n"
     ]
    },
    {
     "name": "stderr",
     "output_type": "stream",
     "text": [
      "\n",
      "100%|██████████| 110/110 [00:00<00:00, 134.73it/s]\n",
      "100%|██████████| 94/94 [00:00<00:00, 341.02it/s]"
     ]
    },
    {
     "name": "stdout",
     "output_type": "stream",
     "text": [
      "Epoch 20, train loss: 38.3404, test loss: 28.7494\n",
      "Optimizer: Adamax\n"
     ]
    },
    {
     "name": "stderr",
     "output_type": "stream",
     "text": [
      "\n",
      "100%|██████████| 110/110 [00:01<00:00, 92.71it/s]\n",
      "100%|██████████| 94/94 [00:00<00:00, 325.41it/s]"
     ]
    },
    {
     "name": "stdout",
     "output_type": "stream",
     "text": [
      "Epoch 1, train loss: 38.5579, test loss: 28.4750\n"
     ]
    },
    {
     "name": "stderr",
     "output_type": "stream",
     "text": [
      "\n",
      "100%|██████████| 110/110 [00:01<00:00, 95.43it/s]\n",
      "100%|██████████| 94/94 [00:00<00:00, 331.66it/s]"
     ]
    },
    {
     "name": "stdout",
     "output_type": "stream",
     "text": [
      "Epoch 2, train loss: 37.6707, test loss: 28.8455\n"
     ]
    },
    {
     "name": "stderr",
     "output_type": "stream",
     "text": [
      "\n",
      "100%|██████████| 110/110 [00:01<00:00, 89.22it/s]\n",
      "100%|██████████| 94/94 [00:00<00:00, 324.80it/s]"
     ]
    },
    {
     "name": "stdout",
     "output_type": "stream",
     "text": [
      "Epoch 3, train loss: 37.5308, test loss: 29.0301\n"
     ]
    },
    {
     "name": "stderr",
     "output_type": "stream",
     "text": [
      "\n",
      "100%|██████████| 110/110 [00:01<00:00, 94.83it/s]\n",
      "100%|██████████| 94/94 [00:00<00:00, 330.93it/s]"
     ]
    },
    {
     "name": "stdout",
     "output_type": "stream",
     "text": [
      "Epoch 4, train loss: 37.4649, test loss: 29.1963\n"
     ]
    },
    {
     "name": "stderr",
     "output_type": "stream",
     "text": [
      "\n",
      "100%|██████████| 110/110 [00:01<00:00, 94.45it/s]\n",
      "100%|██████████| 94/94 [00:00<00:00, 311.93it/s]"
     ]
    },
    {
     "name": "stdout",
     "output_type": "stream",
     "text": [
      "Epoch 5, train loss: 37.4039, test loss: 30.0711\n"
     ]
    },
    {
     "name": "stderr",
     "output_type": "stream",
     "text": [
      "\n",
      "100%|██████████| 110/110 [00:01<00:00, 95.16it/s]\n",
      "100%|██████████| 94/94 [00:00<00:00, 337.25it/s]"
     ]
    },
    {
     "name": "stdout",
     "output_type": "stream",
     "text": [
      "Epoch 6, train loss: 37.5787, test loss: 29.0482\n"
     ]
    },
    {
     "name": "stderr",
     "output_type": "stream",
     "text": [
      "\n",
      "100%|██████████| 110/110 [00:01<00:00, 93.87it/s]\n",
      "100%|██████████| 94/94 [00:00<00:00, 327.05it/s]"
     ]
    },
    {
     "name": "stdout",
     "output_type": "stream",
     "text": [
      "Epoch 7, train loss: 38.6343, test loss: 29.2701\n"
     ]
    },
    {
     "name": "stderr",
     "output_type": "stream",
     "text": [
      "\n",
      "100%|██████████| 110/110 [00:01<00:00, 89.74it/s]\n",
      "100%|██████████| 94/94 [00:00<00:00, 285.99it/s]"
     ]
    },
    {
     "name": "stdout",
     "output_type": "stream",
     "text": [
      "Epoch 8, train loss: 37.2887, test loss: 29.9556\n"
     ]
    },
    {
     "name": "stderr",
     "output_type": "stream",
     "text": [
      "\n",
      "100%|██████████| 110/110 [00:01<00:00, 95.22it/s]\n",
      "100%|██████████| 94/94 [00:00<00:00, 323.02it/s]"
     ]
    },
    {
     "name": "stdout",
     "output_type": "stream",
     "text": [
      "Epoch 9, train loss: 37.3471, test loss: 29.4373\n"
     ]
    },
    {
     "name": "stderr",
     "output_type": "stream",
     "text": [
      "\n",
      "100%|██████████| 110/110 [00:01<00:00, 94.65it/s]\n",
      "100%|██████████| 94/94 [00:00<00:00, 333.31it/s]"
     ]
    },
    {
     "name": "stdout",
     "output_type": "stream",
     "text": [
      "Epoch 10, train loss: 38.4515, test loss: 29.2331\n"
     ]
    },
    {
     "name": "stderr",
     "output_type": "stream",
     "text": [
      "\n",
      "100%|██████████| 110/110 [00:01<00:00, 95.20it/s]\n",
      "100%|██████████| 94/94 [00:00<00:00, 324.09it/s]"
     ]
    },
    {
     "name": "stdout",
     "output_type": "stream",
     "text": [
      "Epoch 11, train loss: 37.4647, test loss: 28.5968\n"
     ]
    },
    {
     "name": "stderr",
     "output_type": "stream",
     "text": [
      "\n",
      "100%|██████████| 110/110 [00:01<00:00, 95.03it/s]\n",
      "100%|██████████| 94/94 [00:00<00:00, 337.04it/s]"
     ]
    },
    {
     "name": "stdout",
     "output_type": "stream",
     "text": [
      "Epoch 12, train loss: 37.6535, test loss: 29.0718\n"
     ]
    },
    {
     "name": "stderr",
     "output_type": "stream",
     "text": [
      "\n",
      "100%|██████████| 110/110 [00:01<00:00, 96.25it/s]\n",
      "100%|██████████| 94/94 [00:00<00:00, 318.24it/s]"
     ]
    },
    {
     "name": "stdout",
     "output_type": "stream",
     "text": [
      "Epoch 13, train loss: 37.3332, test loss: 28.9318\n"
     ]
    },
    {
     "name": "stderr",
     "output_type": "stream",
     "text": [
      "\n",
      "100%|██████████| 110/110 [00:01<00:00, 93.54it/s]"
     ]
    },
    {
     "name": "stdout",
     "output_type": "stream",
     "text": [
      "Epoch 00014: reducing learning rate of group 0 to 5.0000e-05.\n"
     ]
    },
    {
     "name": "stderr",
     "output_type": "stream",
     "text": [
      "\n",
      "100%|██████████| 94/94 [00:00<00:00, 294.38it/s]"
     ]
    },
    {
     "name": "stdout",
     "output_type": "stream",
     "text": [
      "Epoch 14, train loss: 37.3103, test loss: 28.7760\n"
     ]
    },
    {
     "name": "stderr",
     "output_type": "stream",
     "text": [
      "\n",
      "100%|██████████| 110/110 [00:01<00:00, 93.80it/s]\n",
      "100%|██████████| 94/94 [00:00<00:00, 302.17it/s]"
     ]
    },
    {
     "name": "stdout",
     "output_type": "stream",
     "text": [
      "Epoch 15, train loss: 36.9133, test loss: 28.9347\n"
     ]
    },
    {
     "name": "stderr",
     "output_type": "stream",
     "text": [
      "\n",
      "100%|██████████| 110/110 [00:01<00:00, 88.87it/s]\n",
      "100%|██████████| 94/94 [00:00<00:00, 302.04it/s]"
     ]
    },
    {
     "name": "stdout",
     "output_type": "stream",
     "text": [
      "Epoch 16, train loss: 36.7781, test loss: 28.9139\n"
     ]
    },
    {
     "name": "stderr",
     "output_type": "stream",
     "text": [
      "\n",
      "100%|██████████| 110/110 [00:01<00:00, 94.71it/s]\n",
      "100%|██████████| 94/94 [00:00<00:00, 299.34it/s]"
     ]
    },
    {
     "name": "stdout",
     "output_type": "stream",
     "text": [
      "Epoch 17, train loss: 36.7863, test loss: 28.9799\n"
     ]
    },
    {
     "name": "stderr",
     "output_type": "stream",
     "text": [
      "\n",
      "100%|██████████| 110/110 [00:01<00:00, 91.61it/s]\n",
      "100%|██████████| 94/94 [00:00<00:00, 331.77it/s]"
     ]
    },
    {
     "name": "stdout",
     "output_type": "stream",
     "text": [
      "Epoch 18, train loss: 36.7537, test loss: 29.0246\n"
     ]
    },
    {
     "name": "stderr",
     "output_type": "stream",
     "text": [
      "\n",
      "100%|██████████| 110/110 [00:01<00:00, 94.51it/s]\n",
      "100%|██████████| 94/94 [00:00<00:00, 314.83it/s]"
     ]
    },
    {
     "name": "stdout",
     "output_type": "stream",
     "text": [
      "Epoch 19, train loss: 36.7312, test loss: 29.0313\n"
     ]
    },
    {
     "name": "stderr",
     "output_type": "stream",
     "text": [
      "\n",
      "100%|██████████| 110/110 [00:01<00:00, 93.01it/s]\n",
      "100%|██████████| 94/94 [00:00<00:00, 332.25it/s]"
     ]
    },
    {
     "name": "stdout",
     "output_type": "stream",
     "text": [
      "Epoch 20, train loss: 36.7301, test loss: 29.0949\n"
     ]
    },
    {
     "name": "stderr",
     "output_type": "stream",
     "text": [
      "\n"
     ]
    }
   ],
   "source": [
    "train_loss_dict = {}\n",
    "val_loss_dict = {}\n",
    "for name, optimizer in optimizers_list.items():\n",
    "    train_cycle(name, optimizer, train_loss_dict, val_loss_dict)"
   ]
  },
  {
   "cell_type": "code",
   "execution_count": 13,
   "metadata": {},
   "outputs": [
    {
     "data": {
      "image/png": "[encoded data removed]",
      "text/plain": [
       "<Figure size 1200x600 with 2 Axes>"
      ]
     },
     "metadata": {},
     "output_type": "display_data"
    }
   ],
   "source": [
    "# Plot\n",
    "plot_dictionaries(\n",
    "    train_loss_dict,\n",
    "    val_loss_dict,\n",
    "    initial_mse_train,\n",
    "    initial_mse_val,\n",
    "    f\"{experiment_dir}/{EXPERIMENT_NAME}_testing.png\",\n",
    ")"
   ]
  },
  {
   "cell_type": "markdown",
   "metadata": {},
   "source": [
    "### So for full training we will take SGD, 20 layers with 256 neurouns in each and lr=4e-7"
   ]
  },
  {
   "cell_type": "code",
   "execution_count": 18,
   "metadata": {},
   "outputs": [],
   "source": [
    "N_EPOCH = 200\n",
    "RISK_FREE = 0.03\n",
    "SIGMA = 0.4\n",
    "LEARNING_RATE = 1e-5\n",
    "HIDDEN_LAYER = 20\n",
    "HIDDEN_WIDTH = 64\n",
    "# EXPERIMENT_NAME = \"exp_call_8_final\"\n",
    "# MODEL_TYPE = AmericanPut_gated3\n",
    "# experiment_dir = f\"../experiments_dir/{EXPERIMENT_NAME}\"\n",
    "# os.makedirs(experiment_dir, exist_ok=True)"
   ]
  },
  {
   "cell_type": "code",
   "execution_count": 19,
   "metadata": {},
   "outputs": [],
   "source": [
    "logging.info(f\"N_EPOCH: {N_EPOCH}\")\n",
    "logging.info(f\"LEARNING_RATE: {LEARNING_RATE}\")\n",
    "logging.info(f\"HIDDEN_LAYER: {HIDDEN_LAYER}\")\n",
    "logging.info(f\"HIDDEN_WIDTH: {HIDDEN_WIDTH}\")\n",
    "# logging.info(f\"N_sample: {N_sample}\")\n",
    "logging.info(f\"EXPERIMENT_NAME: {EXPERIMENT_NAME}\")\n",
    "logging.info(f\"Model type: {MODEL_TYPE.__name__}\")"
   ]
  },
  {
   "cell_type": "code",
   "execution_count": 20,
   "metadata": {},
   "outputs": [],
   "source": [
    "df_train, df_test = train_test_split(df_real, test_size=0.2)\n",
    "logging.info(f\"train set size: {df_train.shape}\")\n",
    "logging.info(f\"test set size: {df_test.shape}\")\n",
    "initial_mse_train = (\n",
    "    1 / len(df_train) * np.sum((df_train.TargetPrice - df_train.BSAprox) ** 2)\n",
    ")\n",
    "initial_mse_val = (\n",
    "    1 / len(df_test) * np.sum((df_test.TargetPrice - df_test.BSAprox) ** 2)\n",
    ")\n",
    "logging.info(\n",
    "    f\"Initial MSE train: {initial_mse_train.round(4)}, Initial MSE val: {initial_mse_val.round(4)}\"\n",
    ")\n",
    "train_df = CustomDataset(df_train)\n",
    "test_df = CustomDataset(df_test)"
   ]
  },
  {
   "cell_type": "code",
   "execution_count": 21,
   "metadata": {},
   "outputs": [],
   "source": [
    "# import torch.multiprocessing as mp\n",
    "from torch.optim.lr_scheduler import ReduceLROnPlateau\n",
    "\n",
    "# # Set the multiprocessing start method to 'spawn'\n",
    "# mp.set_start_method(\"spawn\", force=True)\n",
    "model = MODEL_TYPE(5, 1, HIDDEN_WIDTH, HIDDEN_LAYER).to(DEVICE)\n",
    "logging.info(\n",
    "    f\"Total number of learnable parameters: {sum(p.numel() for p in model.parameters() if p.requires_grad)}\"\n",
    ")\n",
    "train_dataloader = DataLoader(\n",
    "    train_df,\n",
    "    batch_size=64,\n",
    "    shuffle=True,\n",
    "    num_workers=8,\n",
    "    # generator=torch.Generator(device=DEVICE),\n",
    ")\n",
    "val_dataloader = DataLoader(\n",
    "    test_df,\n",
    "    batch_size=64,\n",
    "    shuffle=False,\n",
    "    num_workers=8,\n",
    ")\n",
    "optimizers_list = {\n",
    "    \"SGD\": torch.optim.SGD(model.parameters(), lr=LEARNING_RATE, momentum=0.7),\n",
    "}\n",
    "# criteriation = nn.MSELoss()\n",
    "# # Set the multiprocessing start method to 'spawn'\n",
    "# mp.set_start_method(\"spawn\", force=True)\n",
    "# model = MODEL_TYPE(5, 1, HIDDEN_WIDTH, HIDDEN_LAYER).to(DEVICE)"
   ]
  },
  {
   "cell_type": "code",
   "execution_count": 22,
   "metadata": {},
   "outputs": [
    {
     "name": "stdout",
     "output_type": "stream",
     "text": [
      "Optimizer: SGD\n"
     ]
    },
    {
     "name": "stderr",
     "output_type": "stream",
     "text": [
      "100%|██████████| 2791/2791 [00:19<00:00, 140.46it/s]\n",
      "100%|██████████| 698/698 [00:02<00:00, 330.93it/s]"
     ]
    },
    {
     "name": "stdout",
     "output_type": "stream",
     "text": [
      "Epoch 1, train loss: 33.0939, test loss: 27.6716\n"
     ]
    },
    {
     "name": "stderr",
     "output_type": "stream",
     "text": [
      "\n",
      "100%|██████████| 2791/2791 [00:19<00:00, 139.79it/s]\n",
      "100%|██████████| 698/698 [00:02<00:00, 325.48it/s]"
     ]
    },
    {
     "name": "stdout",
     "output_type": "stream",
     "text": [
      "Epoch 2, train loss: 32.1951, test loss: 27.3362\n"
     ]
    },
    {
     "name": "stderr",
     "output_type": "stream",
     "text": [
      "\n",
      "100%|██████████| 2791/2791 [00:20<00:00, 139.10it/s]\n",
      "100%|██████████| 698/698 [00:02<00:00, 323.31it/s]"
     ]
    },
    {
     "name": "stdout",
     "output_type": "stream",
     "text": [
      "Epoch 3, train loss: 32.0366, test loss: 27.2788\n"
     ]
    },
    {
     "name": "stderr",
     "output_type": "stream",
     "text": [
      "\n",
      "100%|██████████| 2791/2791 [00:20<00:00, 137.49it/s]\n",
      "100%|██████████| 698/698 [00:01<00:00, 364.89it/s]"
     ]
    },
    {
     "name": "stdout",
     "output_type": "stream",
     "text": [
      "Epoch 4, train loss: 31.9045, test loss: 27.3631\n"
     ]
    },
    {
     "name": "stderr",
     "output_type": "stream",
     "text": [
      "\n",
      "100%|██████████| 2791/2791 [00:18<00:00, 151.42it/s]\n",
      "100%|██████████| 698/698 [00:01<00:00, 364.18it/s]"
     ]
    },
    {
     "name": "stdout",
     "output_type": "stream",
     "text": [
      "Epoch 5, train loss: 31.8064, test loss: 27.4780\n"
     ]
    },
    {
     "name": "stderr",
     "output_type": "stream",
     "text": [
      "\n",
      "100%|██████████| 2791/2791 [00:19<00:00, 143.81it/s]\n",
      "100%|██████████| 698/698 [00:01<00:00, 352.01it/s]"
     ]
    },
    {
     "name": "stdout",
     "output_type": "stream",
     "text": [
      "Epoch 6, train loss: 31.7667, test loss: 27.3083\n"
     ]
    },
    {
     "name": "stderr",
     "output_type": "stream",
     "text": [
      "\n",
      "100%|██████████| 2791/2791 [00:18<00:00, 150.21it/s]\n",
      "100%|██████████| 698/698 [00:01<00:00, 353.02it/s]"
     ]
    },
    {
     "name": "stdout",
     "output_type": "stream",
     "text": [
      "Epoch 7, train loss: 31.7094, test loss: 26.9861\n"
     ]
    },
    {
     "name": "stderr",
     "output_type": "stream",
     "text": [
      "\n",
      "100%|██████████| 2791/2791 [00:18<00:00, 152.14it/s]\n",
      "100%|██████████| 698/698 [00:02<00:00, 346.47it/s]"
     ]
    },
    {
     "name": "stdout",
     "output_type": "stream",
     "text": [
      "Epoch 8, train loss: 31.6693, test loss: 27.6177\n"
     ]
    },
    {
     "name": "stderr",
     "output_type": "stream",
     "text": [
      "\n",
      "100%|██████████| 2791/2791 [00:20<00:00, 136.99it/s]\n",
      "100%|██████████| 698/698 [00:02<00:00, 326.18it/s]\n"
     ]
    },
    {
     "name": "stdout",
     "output_type": "stream",
     "text": [
      "Epoch 9, train loss: 31.6511, test loss: 27.1612\n"
     ]
    },
    {
     "name": "stderr",
     "output_type": "stream",
     "text": [
      "100%|██████████| 2791/2791 [00:20<00:00, 138.87it/s]\n",
      "100%|██████████| 698/698 [00:01<00:00, 357.62it/s]"
     ]
    },
    {
     "name": "stdout",
     "output_type": "stream",
     "text": [
      "Epoch 10, train loss: 31.5914, test loss: 26.9207\n"
     ]
    },
    {
     "name": "stderr",
     "output_type": "stream",
     "text": [
      "\n",
      "100%|██████████| 2791/2791 [00:18<00:00, 149.37it/s]\n",
      "100%|██████████| 698/698 [00:01<00:00, 370.32it/s]"
     ]
    },
    {
     "name": "stdout",
     "output_type": "stream",
     "text": [
      "Epoch 11, train loss: 31.5514, test loss: 27.0975\n"
     ]
    },
    {
     "name": "stderr",
     "output_type": "stream",
     "text": [
      "\n",
      "100%|██████████| 2791/2791 [00:18<00:00, 154.00it/s]\n",
      "100%|██████████| 698/698 [00:01<00:00, 365.48it/s]"
     ]
    },
    {
     "name": "stdout",
     "output_type": "stream",
     "text": [
      "Epoch 12, train loss: 31.5193, test loss: 27.0320\n"
     ]
    },
    {
     "name": "stderr",
     "output_type": "stream",
     "text": [
      "\n",
      "100%|██████████| 2791/2791 [00:18<00:00, 154.94it/s]\n",
      "100%|██████████| 698/698 [00:02<00:00, 314.95it/s]"
     ]
    },
    {
     "name": "stdout",
     "output_type": "stream",
     "text": [
      "Epoch 13, train loss: 31.5004, test loss: 26.7964\n"
     ]
    },
    {
     "name": "stderr",
     "output_type": "stream",
     "text": [
      "\n",
      "100%|██████████| 2791/2791 [00:18<00:00, 151.07it/s]\n",
      "100%|██████████| 698/698 [00:01<00:00, 353.35it/s]"
     ]
    },
    {
     "name": "stdout",
     "output_type": "stream",
     "text": [
      "Epoch 14, train loss: 31.4672, test loss: 27.1693\n"
     ]
    },
    {
     "name": "stderr",
     "output_type": "stream",
     "text": [
      "\n",
      "100%|██████████| 2791/2791 [00:18<00:00, 154.69it/s]\n",
      "100%|██████████| 698/698 [00:01<00:00, 357.21it/s]"
     ]
    },
    {
     "name": "stdout",
     "output_type": "stream",
     "text": [
      "Epoch 15, train loss: 31.4207, test loss: 27.1450\n"
     ]
    },
    {
     "name": "stderr",
     "output_type": "stream",
     "text": [
      "\n",
      "100%|██████████| 2791/2791 [00:18<00:00, 153.90it/s]\n",
      "100%|██████████| 698/698 [00:01<00:00, 355.00it/s]"
     ]
    },
    {
     "name": "stdout",
     "output_type": "stream",
     "text": [
      "Epoch 16, train loss: 31.4213, test loss: 26.7146\n"
     ]
    },
    {
     "name": "stderr",
     "output_type": "stream",
     "text": [
      "\n",
      "100%|██████████| 2791/2791 [00:18<00:00, 153.18it/s]\n",
      "100%|██████████| 698/698 [00:01<00:00, 350.03it/s]"
     ]
    },
    {
     "name": "stdout",
     "output_type": "stream",
     "text": [
      "Epoch 17, train loss: 31.3742, test loss: 26.8277\n"
     ]
    },
    {
     "name": "stderr",
     "output_type": "stream",
     "text": [
      "\n",
      "100%|██████████| 2791/2791 [00:18<00:00, 152.71it/s]\n",
      "100%|██████████| 698/698 [00:01<00:00, 357.08it/s]"
     ]
    },
    {
     "name": "stdout",
     "output_type": "stream",
     "text": [
      "Epoch 18, train loss: 31.3470, test loss: 26.7623\n"
     ]
    },
    {
     "name": "stderr",
     "output_type": "stream",
     "text": [
      "\n",
      "100%|██████████| 2791/2791 [00:18<00:00, 154.01it/s]\n",
      "100%|██████████| 698/698 [00:01<00:00, 362.98it/s]"
     ]
    },
    {
     "name": "stdout",
     "output_type": "stream",
     "text": [
      "Epoch 19, train loss: 31.3256, test loss: 26.7790\n"
     ]
    },
    {
     "name": "stderr",
     "output_type": "stream",
     "text": [
      "\n",
      "100%|██████████| 2791/2791 [00:18<00:00, 152.82it/s]\n",
      "100%|██████████| 698/698 [00:01<00:00, 356.09it/s]"
     ]
    },
    {
     "name": "stdout",
     "output_type": "stream",
     "text": [
      "Epoch 20, train loss: 31.2945, test loss: 26.5694\n"
     ]
    },
    {
     "name": "stderr",
     "output_type": "stream",
     "text": [
      "\n",
      "100%|██████████| 2791/2791 [00:19<00:00, 141.95it/s]\n",
      "100%|██████████| 698/698 [00:01<00:00, 356.36it/s]"
     ]
    },
    {
     "name": "stdout",
     "output_type": "stream",
     "text": [
      "Epoch 21, train loss: 31.2812, test loss: 26.6440\n"
     ]
    },
    {
     "name": "stderr",
     "output_type": "stream",
     "text": [
      "\n",
      "100%|██████████| 2791/2791 [00:18<00:00, 152.17it/s]\n",
      "100%|██████████| 698/698 [00:01<00:00, 363.52it/s]"
     ]
    },
    {
     "name": "stdout",
     "output_type": "stream",
     "text": [
      "Epoch 22, train loss: 31.2434, test loss: 26.6613\n"
     ]
    },
    {
     "name": "stderr",
     "output_type": "stream",
     "text": [
      "\n",
      "100%|██████████| 2791/2791 [00:18<00:00, 152.11it/s]\n",
      "100%|██████████| 698/698 [00:01<00:00, 354.40it/s]"
     ]
    },
    {
     "name": "stdout",
     "output_type": "stream",
     "text": [
      "Epoch 23, train loss: 31.2328, test loss: 26.7018\n"
     ]
    },
    {
     "name": "stderr",
     "output_type": "stream",
     "text": [
      "\n",
      "100%|██████████| 2791/2791 [00:19<00:00, 146.16it/s]\n",
      "100%|██████████| 698/698 [00:02<00:00, 339.93it/s]"
     ]
    },
    {
     "name": "stdout",
     "output_type": "stream",
     "text": [
      "Epoch 24, train loss: 31.1828, test loss: 26.8560\n"
     ]
    },
    {
     "name": "stderr",
     "output_type": "stream",
     "text": [
      "\n",
      "100%|██████████| 2791/2791 [00:19<00:00, 143.96it/s]\n",
      "100%|██████████| 698/698 [00:02<00:00, 318.86it/s]"
     ]
    },
    {
     "name": "stdout",
     "output_type": "stream",
     "text": [
      "Epoch 25, train loss: 31.1759, test loss: 27.0841\n"
     ]
    },
    {
     "name": "stderr",
     "output_type": "stream",
     "text": [
      "\n",
      "100%|██████████| 2791/2791 [00:19<00:00, 140.25it/s]\n",
      "100%|██████████| 698/698 [00:02<00:00, 342.89it/s]"
     ]
    },
    {
     "name": "stdout",
     "output_type": "stream",
     "text": [
      "Epoch 26, train loss: 31.1396, test loss: 26.5536\n"
     ]
    },
    {
     "name": "stderr",
     "output_type": "stream",
     "text": [
      "\n",
      "100%|██████████| 2791/2791 [00:19<00:00, 140.79it/s]\n",
      "100%|██████████| 698/698 [00:02<00:00, 322.26it/s]"
     ]
    },
    {
     "name": "stdout",
     "output_type": "stream",
     "text": [
      "Epoch 27, train loss: 31.1260, test loss: 26.6489\n"
     ]
    },
    {
     "name": "stderr",
     "output_type": "stream",
     "text": [
      "\n",
      "100%|██████████| 2791/2791 [00:23<00:00, 120.45it/s]\n",
      "100%|██████████| 698/698 [00:02<00:00, 288.66it/s]"
     ]
    },
    {
     "name": "stdout",
     "output_type": "stream",
     "text": [
      "Epoch 28, train loss: 31.1003, test loss: 26.5728\n"
     ]
    },
    {
     "name": "stderr",
     "output_type": "stream",
     "text": [
      "\n",
      "100%|██████████| 2791/2791 [00:20<00:00, 134.18it/s]\n",
      "100%|██████████| 698/698 [00:01<00:00, 359.08it/s]"
     ]
    },
    {
     "name": "stdout",
     "output_type": "stream",
     "text": [
      "Epoch 29, train loss: 31.0685, test loss: 26.9215\n"
     ]
    },
    {
     "name": "stderr",
     "output_type": "stream",
     "text": [
      "\n",
      "100%|██████████| 2791/2791 [00:19<00:00, 145.47it/s]\n",
      "100%|██████████| 698/698 [00:02<00:00, 280.72it/s]"
     ]
    },
    {
     "name": "stdout",
     "output_type": "stream",
     "text": [
      "Epoch 30, train loss: 31.0612, test loss: 26.4499\n"
     ]
    },
    {
     "name": "stderr",
     "output_type": "stream",
     "text": [
      "\n",
      "100%|██████████| 2791/2791 [00:20<00:00, 135.87it/s]\n",
      "100%|██████████| 698/698 [00:02<00:00, 341.53it/s]"
     ]
    },
    {
     "name": "stdout",
     "output_type": "stream",
     "text": [
      "Epoch 31, train loss: 31.0210, test loss: 26.4698\n"
     ]
    },
    {
     "name": "stderr",
     "output_type": "stream",
     "text": [
      "\n",
      "100%|██████████| 2791/2791 [00:19<00:00, 144.71it/s]\n",
      "100%|██████████| 698/698 [00:01<00:00, 350.09it/s]"
     ]
    },
    {
     "name": "stdout",
     "output_type": "stream",
     "text": [
      "Epoch 32, train loss: 31.0125, test loss: 26.6007\n"
     ]
    },
    {
     "name": "stderr",
     "output_type": "stream",
     "text": [
      "\n",
      "100%|██████████| 2791/2791 [00:20<00:00, 139.53it/s]\n",
      "100%|██████████| 698/698 [00:02<00:00, 335.62it/s]"
     ]
    },
    {
     "name": "stdout",
     "output_type": "stream",
     "text": [
      "Epoch 33, train loss: 30.9691, test loss: 26.9178\n"
     ]
    },
    {
     "name": "stderr",
     "output_type": "stream",
     "text": [
      "\n",
      "100%|██████████| 2791/2791 [00:18<00:00, 147.06it/s]\n",
      "100%|██████████| 698/698 [00:02<00:00, 347.26it/s]"
     ]
    },
    {
     "name": "stdout",
     "output_type": "stream",
     "text": [
      "Epoch 34, train loss: 30.9309, test loss: 26.8231\n"
     ]
    },
    {
     "name": "stderr",
     "output_type": "stream",
     "text": [
      "\n",
      "100%|██████████| 2791/2791 [00:19<00:00, 145.52it/s]\n",
      "100%|██████████| 698/698 [00:02<00:00, 338.72it/s]"
     ]
    },
    {
     "name": "stdout",
     "output_type": "stream",
     "text": [
      "Epoch 35, train loss: 30.9244, test loss: 26.4093\n"
     ]
    },
    {
     "name": "stderr",
     "output_type": "stream",
     "text": [
      "\n",
      "100%|██████████| 2791/2791 [00:19<00:00, 144.40it/s]\n",
      "100%|██████████| 698/698 [00:02<00:00, 337.17it/s]"
     ]
    },
    {
     "name": "stdout",
     "output_type": "stream",
     "text": [
      "Epoch 36, train loss: 30.9072, test loss: 26.3110\n"
     ]
    },
    {
     "name": "stderr",
     "output_type": "stream",
     "text": [
      "\n",
      "100%|██████████| 2791/2791 [00:19<00:00, 145.37it/s]\n",
      "100%|██████████| 698/698 [00:02<00:00, 298.72it/s]"
     ]
    },
    {
     "name": "stdout",
     "output_type": "stream",
     "text": [
      "Epoch 37, train loss: 30.8654, test loss: 26.4878\n"
     ]
    },
    {
     "name": "stderr",
     "output_type": "stream",
     "text": [
      "\n",
      "100%|██████████| 2791/2791 [00:19<00:00, 146.79it/s]\n",
      "100%|██████████| 698/698 [00:02<00:00, 339.40it/s]"
     ]
    },
    {
     "name": "stdout",
     "output_type": "stream",
     "text": [
      "Epoch 38, train loss: 30.8507, test loss: 26.5988\n"
     ]
    },
    {
     "name": "stderr",
     "output_type": "stream",
     "text": [
      "\n",
      "100%|██████████| 2791/2791 [00:19<00:00, 146.55it/s]\n",
      "100%|██████████| 698/698 [00:01<00:00, 370.53it/s]"
     ]
    },
    {
     "name": "stdout",
     "output_type": "stream",
     "text": [
      "Epoch 39, train loss: 30.8375, test loss: 26.4377\n"
     ]
    },
    {
     "name": "stderr",
     "output_type": "stream",
     "text": [
      "\n",
      "100%|██████████| 2791/2791 [00:19<00:00, 142.91it/s]\n",
      "100%|██████████| 698/698 [00:02<00:00, 326.76it/s]"
     ]
    },
    {
     "name": "stdout",
     "output_type": "stream",
     "text": [
      "Epoch 40, train loss: 30.8234, test loss: 26.3189\n"
     ]
    },
    {
     "name": "stderr",
     "output_type": "stream",
     "text": [
      "\n",
      "100%|██████████| 2791/2791 [00:20<00:00, 137.94it/s]\n",
      "100%|██████████| 698/698 [00:02<00:00, 305.04it/s]"
     ]
    },
    {
     "name": "stdout",
     "output_type": "stream",
     "text": [
      "Epoch 41, train loss: 30.7918, test loss: 26.1958\n"
     ]
    },
    {
     "name": "stderr",
     "output_type": "stream",
     "text": [
      "\n",
      "100%|██████████| 2791/2791 [00:20<00:00, 139.28it/s]\n",
      "100%|██████████| 698/698 [00:02<00:00, 340.68it/s]"
     ]
    },
    {
     "name": "stdout",
     "output_type": "stream",
     "text": [
      "Epoch 42, train loss: 30.7392, test loss: 26.4204\n"
     ]
    },
    {
     "name": "stderr",
     "output_type": "stream",
     "text": [
      "\n",
      "100%|██████████| 2791/2791 [00:19<00:00, 140.74it/s]\n",
      "100%|██████████| 698/698 [00:02<00:00, 343.80it/s]"
     ]
    },
    {
     "name": "stdout",
     "output_type": "stream",
     "text": [
      "Epoch 43, train loss: 30.7455, test loss: 26.2925\n"
     ]
    },
    {
     "name": "stderr",
     "output_type": "stream",
     "text": [
      "\n",
      "100%|██████████| 2791/2791 [00:19<00:00, 142.24it/s]\n",
      "100%|██████████| 698/698 [00:02<00:00, 331.95it/s]"
     ]
    },
    {
     "name": "stdout",
     "output_type": "stream",
     "text": [
      "Epoch 44, train loss: 30.7242, test loss: 26.2970\n"
     ]
    },
    {
     "name": "stderr",
     "output_type": "stream",
     "text": [
      "\n",
      "100%|██████████| 2791/2791 [00:19<00:00, 141.65it/s]\n",
      "100%|██████████| 698/698 [00:02<00:00, 345.41it/s]"
     ]
    },
    {
     "name": "stdout",
     "output_type": "stream",
     "text": [
      "Epoch 45, train loss: 30.7184, test loss: 26.9404\n"
     ]
    },
    {
     "name": "stderr",
     "output_type": "stream",
     "text": [
      "\n",
      "100%|██████████| 2791/2791 [00:18<00:00, 147.01it/s]\n",
      "100%|██████████| 698/698 [00:02<00:00, 342.86it/s]"
     ]
    },
    {
     "name": "stdout",
     "output_type": "stream",
     "text": [
      "Epoch 46, train loss: 30.7221, test loss: 26.1738\n"
     ]
    },
    {
     "name": "stderr",
     "output_type": "stream",
     "text": [
      "\n",
      "100%|██████████| 2791/2791 [00:19<00:00, 145.65it/s]\n",
      "100%|██████████| 698/698 [00:02<00:00, 347.07it/s]"
     ]
    },
    {
     "name": "stdout",
     "output_type": "stream",
     "text": [
      "Epoch 47, train loss: 30.6441, test loss: 26.2383\n"
     ]
    },
    {
     "name": "stderr",
     "output_type": "stream",
     "text": [
      "\n",
      "100%|██████████| 2791/2791 [00:20<00:00, 139.18it/s]\n",
      "100%|██████████| 698/698 [00:02<00:00, 326.92it/s]"
     ]
    },
    {
     "name": "stdout",
     "output_type": "stream",
     "text": [
      "Epoch 48, train loss: 30.6680, test loss: 26.7371\n"
     ]
    },
    {
     "name": "stderr",
     "output_type": "stream",
     "text": [
      "\n",
      "100%|██████████| 2791/2791 [00:18<00:00, 147.49it/s]\n",
      "100%|██████████| 698/698 [00:02<00:00, 345.74it/s]"
     ]
    },
    {
     "name": "stdout",
     "output_type": "stream",
     "text": [
      "Epoch 49, train loss: 30.8094, test loss: 26.3002\n"
     ]
    },
    {
     "name": "stderr",
     "output_type": "stream",
     "text": [
      "\n",
      "100%|██████████| 2791/2791 [00:19<00:00, 140.04it/s]\n",
      "100%|██████████| 698/698 [00:02<00:00, 335.36it/s]"
     ]
    },
    {
     "name": "stdout",
     "output_type": "stream",
     "text": [
      "Epoch 50, train loss: 30.6445, test loss: 26.4567\n"
     ]
    },
    {
     "name": "stderr",
     "output_type": "stream",
     "text": [
      "\n",
      " 50%|█████     | 1405/2791 [00:09<00:09, 146.54it/s]\n"
     ]
    },
    {
     "ename": "KeyboardInterrupt",
     "evalue": "",
     "output_type": "error",
     "traceback": [
      "\u001b[0;31m---------------------------------------------------------------------------\u001b[0m",
      "\u001b[0;31mKeyboardInterrupt\u001b[0m                         Traceback (most recent call last)",
      "Cell \u001b[0;32mIn[22], line 3\u001b[0m\n\u001b[1;32m      1\u001b[0m train_loss_dict \u001b[38;5;241m=\u001b[39m {}\n\u001b[1;32m      2\u001b[0m test_loss_dict \u001b[38;5;241m=\u001b[39m {}\n\u001b[0;32m----> 3\u001b[0m \u001b[43mtrain_cycle\u001b[49m\u001b[43m(\u001b[49m\u001b[38;5;124;43m\"\u001b[39;49m\u001b[38;5;124;43mSGD\u001b[39;49m\u001b[38;5;124;43m\"\u001b[39;49m\u001b[43m,\u001b[49m\u001b[43m \u001b[49m\u001b[43moptimizers_list\u001b[49m\u001b[43m[\u001b[49m\u001b[38;5;124;43m\"\u001b[39;49m\u001b[38;5;124;43mSGD\u001b[39;49m\u001b[38;5;124;43m\"\u001b[39;49m\u001b[43m]\u001b[49m\u001b[43m,\u001b[49m\u001b[43m \u001b[49m\u001b[43mtrain_loss_dict\u001b[49m\u001b[43m,\u001b[49m\u001b[43m \u001b[49m\u001b[43mtest_loss_dict\u001b[49m\u001b[43m)\u001b[49m\n",
      "Cell \u001b[0;32mIn[11], line 44\u001b[0m, in \u001b[0;36mtrain_cycle\u001b[0;34m(optimizer_name, optimizer, train_loss_dict, val_loss_dict, final)\u001b[0m\n\u001b[1;32m     41\u001b[0m scheduler \u001b[38;5;241m=\u001b[39m ReduceLROnPlateau(optimizer, mode\u001b[38;5;241m=\u001b[39m\u001b[38;5;124m\"\u001b[39m\u001b[38;5;124mmin\u001b[39m\u001b[38;5;124m\"\u001b[39m, patience\u001b[38;5;241m=\u001b[39m\u001b[38;5;241m5\u001b[39m, verbose\u001b[38;5;241m=\u001b[39m\u001b[38;5;28;01mTrue\u001b[39;00m)\n\u001b[1;32m     43\u001b[0m \u001b[38;5;28;01mfor\u001b[39;00m i \u001b[38;5;129;01min\u001b[39;00m \u001b[38;5;28mrange\u001b[39m(N_EPOCH):\n\u001b[0;32m---> 44\u001b[0m     train_loss \u001b[38;5;241m=\u001b[39m \u001b[43mtrain_model\u001b[49m\u001b[43m(\u001b[49m\n\u001b[1;32m     45\u001b[0m \u001b[43m        \u001b[49m\u001b[43mmodel\u001b[49m\u001b[43m,\u001b[49m\u001b[43m \u001b[49m\u001b[43mtrain_dataloader\u001b[49m\u001b[43m,\u001b[49m\u001b[43m \u001b[49m\u001b[43moptimizer\u001b[49m\u001b[43m,\u001b[49m\u001b[43m \u001b[49m\u001b[43mscheduler\u001b[49m\u001b[43m,\u001b[49m\u001b[43m \u001b[49m\u001b[43mcriteriation\u001b[49m\u001b[43m,\u001b[49m\u001b[43m \u001b[49m\u001b[43mDEVICE\u001b[49m\n\u001b[1;32m     46\u001b[0m \u001b[43m    \u001b[49m\u001b[43m)\u001b[49m\n\u001b[1;32m     47\u001b[0m     train_loss_dict[optimizer_name]\u001b[38;5;241m.\u001b[39mappend(train_loss)\n\u001b[1;32m     48\u001b[0m     val_loss \u001b[38;5;241m=\u001b[39m validate_model(model, val_dataloader, criteriation, DEVICE)\n",
      "Cell \u001b[0;32mIn[11], line 10\u001b[0m, in \u001b[0;36mtrain_model\u001b[0;34m(model, train_dataloader, optimizer, scheduler, criteriation, device)\u001b[0m\n\u001b[1;32m      8\u001b[0m inputs \u001b[38;5;241m=\u001b[39m data[\u001b[38;5;124m\"\u001b[39m\u001b[38;5;124minput\u001b[39m\u001b[38;5;124m\"\u001b[39m]\u001b[38;5;241m.\u001b[39mto(device)\n\u001b[1;32m      9\u001b[0m outputs \u001b[38;5;241m=\u001b[39m data[\u001b[38;5;124m\"\u001b[39m\u001b[38;5;124moutput\u001b[39m\u001b[38;5;124m\"\u001b[39m]\u001b[38;5;241m.\u001b[39mto(device)\u001b[38;5;241m.\u001b[39mview(\u001b[38;5;241m-\u001b[39m\u001b[38;5;241m1\u001b[39m, \u001b[38;5;241m1\u001b[39m)\n\u001b[0;32m---> 10\u001b[0m pred \u001b[38;5;241m=\u001b[39m \u001b[43mmodel\u001b[49m\u001b[43m(\u001b[49m\u001b[43minputs\u001b[49m\u001b[43m)\u001b[49m\u001b[38;5;241m.\u001b[39mview(\u001b[38;5;241m-\u001b[39m\u001b[38;5;241m1\u001b[39m, \u001b[38;5;241m1\u001b[39m)\n\u001b[1;32m     11\u001b[0m loss \u001b[38;5;241m=\u001b[39m criteriation(outputs, pred)\n\u001b[1;32m     12\u001b[0m loss\u001b[38;5;241m.\u001b[39mbackward()\n",
      "File \u001b[0;32m~/miniconda3/envs/main/lib/python3.11/site-packages/torch/nn/modules/module.py:1518\u001b[0m, in \u001b[0;36mModule._wrapped_call_impl\u001b[0;34m(self, *args, **kwargs)\u001b[0m\n\u001b[1;32m   1516\u001b[0m     \u001b[38;5;28;01mreturn\u001b[39;00m \u001b[38;5;28mself\u001b[39m\u001b[38;5;241m.\u001b[39m_compiled_call_impl(\u001b[38;5;241m*\u001b[39margs, \u001b[38;5;241m*\u001b[39m\u001b[38;5;241m*\u001b[39mkwargs)  \u001b[38;5;66;03m# type: ignore[misc]\u001b[39;00m\n\u001b[1;32m   1517\u001b[0m \u001b[38;5;28;01melse\u001b[39;00m:\n\u001b[0;32m-> 1518\u001b[0m     \u001b[38;5;28;01mreturn\u001b[39;00m \u001b[38;5;28;43mself\u001b[39;49m\u001b[38;5;241;43m.\u001b[39;49m\u001b[43m_call_impl\u001b[49m\u001b[43m(\u001b[49m\u001b[38;5;241;43m*\u001b[39;49m\u001b[43margs\u001b[49m\u001b[43m,\u001b[49m\u001b[43m \u001b[49m\u001b[38;5;241;43m*\u001b[39;49m\u001b[38;5;241;43m*\u001b[39;49m\u001b[43mkwargs\u001b[49m\u001b[43m)\u001b[49m\n",
      "File \u001b[0;32m~/miniconda3/envs/main/lib/python3.11/site-packages/torch/nn/modules/module.py:1521\u001b[0m, in \u001b[0;36mModule._call_impl\u001b[0;34m(self, *args, **kwargs)\u001b[0m\n\u001b[1;32m   1520\u001b[0m \u001b[38;5;28;01mdef\u001b[39;00m \u001b[38;5;21m_call_impl\u001b[39m(\u001b[38;5;28mself\u001b[39m, \u001b[38;5;241m*\u001b[39margs, \u001b[38;5;241m*\u001b[39m\u001b[38;5;241m*\u001b[39mkwargs):\n\u001b[0;32m-> 1521\u001b[0m     forward_call \u001b[38;5;241m=\u001b[39m (\u001b[38;5;28mself\u001b[39m\u001b[38;5;241m.\u001b[39m_slow_forward \u001b[38;5;28;01mif\u001b[39;00m \u001b[43mtorch\u001b[49m\u001b[38;5;241;43m.\u001b[39;49m\u001b[43m_C\u001b[49m\u001b[38;5;241;43m.\u001b[39;49m\u001b[43m_get_tracing_state\u001b[49m\u001b[43m(\u001b[49m\u001b[43m)\u001b[49m \u001b[38;5;28;01melse\u001b[39;00m \u001b[38;5;28mself\u001b[39m\u001b[38;5;241m.\u001b[39mforward)\n\u001b[1;32m   1522\u001b[0m     \u001b[38;5;66;03m# If we don't have any hooks, we want to skip the rest of the logic in\u001b[39;00m\n\u001b[1;32m   1523\u001b[0m     \u001b[38;5;66;03m# this function, and just call forward.\u001b[39;00m\n\u001b[1;32m   1524\u001b[0m     \u001b[38;5;28;01mif\u001b[39;00m \u001b[38;5;129;01mnot\u001b[39;00m (\u001b[38;5;28mself\u001b[39m\u001b[38;5;241m.\u001b[39m_backward_hooks \u001b[38;5;129;01mor\u001b[39;00m \u001b[38;5;28mself\u001b[39m\u001b[38;5;241m.\u001b[39m_backward_pre_hooks \u001b[38;5;129;01mor\u001b[39;00m \u001b[38;5;28mself\u001b[39m\u001b[38;5;241m.\u001b[39m_forward_hooks \u001b[38;5;129;01mor\u001b[39;00m \u001b[38;5;28mself\u001b[39m\u001b[38;5;241m.\u001b[39m_forward_pre_hooks\n\u001b[1;32m   1525\u001b[0m             \u001b[38;5;129;01mor\u001b[39;00m _global_backward_pre_hooks \u001b[38;5;129;01mor\u001b[39;00m _global_backward_hooks\n\u001b[1;32m   1526\u001b[0m             \u001b[38;5;129;01mor\u001b[39;00m _global_forward_hooks \u001b[38;5;129;01mor\u001b[39;00m _global_forward_pre_hooks):\n",
      "\u001b[0;31mKeyboardInterrupt\u001b[0m: "
     ]
    }
   ],
   "source": [
    "train_loss_dict = {}\n",
    "test_loss_dict = {}\n",
    "train_cycle(\"SGD\", optimizers_list[\"SGD\"], train_loss_dict, test_loss_dict)"
   ]
  },
  {
   "cell_type": "code",
   "execution_count": 23,
   "metadata": {},
   "outputs": [
    {
     "data": {
      "image/png": "[encoded data removed]",
      "text/plain": [
       "<Figure size 1200x600 with 2 Axes>"
      ]
     },
     "metadata": {},
     "output_type": "display_data"
    }
   ],
   "source": [
    "plot_dictionaries(\n",
    "    train_loss_dict,\n",
    "    test_loss_dict,\n",
    "    initial_mse_train,\n",
    "    initial_mse_val,\n",
    "    f\"{experiment_dir}/{EXPERIMENT_NAME}_final.png\",\n",
    ")"
   ]
  },
  {
   "cell_type": "code",
   "execution_count": 24,
   "metadata": {},
   "outputs": [],
   "source": [
    "import json\n",
    "\n",
    "file_path = f\"{experiment_dir}/{EXPERIMENT_NAME}_train.json\"\n",
    "with open(file_path, \"w\") as json_file:\n",
    "    json.dump(train_loss_dict, json_file)\n",
    "\n",
    "file_path = f\"{experiment_dir}/{EXPERIMENT_NAME}_test.json\"\n",
    "with open(file_path, \"w\") as json_file:\n",
    "    json.dump(test_loss_dict, json_file)"
   ]
  },
  {
   "cell_type": "code",
   "execution_count": 25,
   "metadata": {},
   "outputs": [],
   "source": [
    "logging.info(\n",
    "    f\"% of variation before training: {(initial_mse_train/(df_train.TargetPrice - df_train.BSAprox).var() * 100).round(2)}\"\n",
    ")\n",
    "logging.info(\n",
    "    f\"% of variation after training: {(train_loss_dict['SGD'][46]/ (df_train.TargetPrice - df_train.BSAprox).var() * 100).round(2)}\"\n",
    ")\n",
    "logging.info(\n",
    "    f\"% of variation before training: {(initial_mse_val/(df_test.TargetPrice - df_test.BSAprox).var() * 100).round(2)}\"\n",
    ")\n",
    "logging.info(\n",
    "    f\"% of variation after training: {(test_loss_dict['SGD'][46] / (df_test.TargetPrice - df_test.BSAprox).var() * 100).round(2)}\"\n",
    ")"
   ]
  }
 ],
 "metadata": {
  "kernelspec": {
   "display_name": "main",
   "language": "python",
   "name": "python3"
  },
  "language_info": {
   "codemirror_mode": {
    "name": "ipython",
    "version": 3
   },
   "file_extension": ".py",
   "mimetype": "text/x-python",
   "name": "python",
   "nbconvert_exporter": "python",
   "pygments_lexer": "ipython3",
   "version": "3.11.5"
  }
 },
 "nbformat": 4,
 "nbformat_minor": 2
}
