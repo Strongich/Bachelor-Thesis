{
 "cells": [
  {
   "cell_type": "code",
   "execution_count": 1,
   "metadata": {},
   "outputs": [],
   "source": [
    "import torch\n",
    "import numpy as np\n",
    "import matplotlib.pyplot as plt\n",
    "import torch.nn as nn\n",
    "from torch.utils.data import DataLoader\n",
    "from tqdm import tqdm\n",
    "import pandas as pd\n",
    "from sklearn.model_selection import train_test_split\n",
    "import os\n",
    "from scipy.stats import skew, kurtosis\n",
    "\n",
    "torch.cuda.empty_cache()\n",
    "# imports of custom blocks for model, data generation\n",
    "from Ferret.ImplicitAm import ImplicitAmBre, ImplicitAmBer\n",
    "from create_plots import *\n",
    "from models import *\n",
    "from utils import AmericanCallData, get_prices_call\n",
    "from utils import S, T, K, RISK_FREE, SIGMA, S_MAX"
   ]
  },
  {
   "cell_type": "markdown",
   "metadata": {},
   "source": [
    "## Call Option\n",
    "\n",
    "### Content: \n",
    "1. **Generating Data**\n",
    "2. **Training on Generated Data, Testing Both on Generated and Real Data**\n",
    "3. **Training on Real Data, Testing on Real Data**\n",
    "4. **Mixture of Data (70/30, 50/50), Testing on Real Data**\n"
   ]
  },
  {
   "cell_type": "code",
   "execution_count": null,
   "metadata": {},
   "outputs": [],
   "source": [
    "call_data = AmericanCallData(t_range=T, S_range=S, K=K, r=RISK_FREE, sigma=SIGMA)\n",
    "# N_ivp - IVP points\n",
    "# N_bvp - both BVP1 and BVP2 points\n",
    "# N_col - colocation points\n",
    "X = call_data.initialize_data(N_ivp=1000, N_bvp=3000, N_col=6000, is_call=True)\n",
    "option = ImplicitAmBer(\n",
    "    S[0],\n",
    "    K,\n",
    "    RISK_FREE,\n",
    "    T[1],\n",
    "    SIGMA,\n",
    "    S_MAX,\n",
    "    M=400,  # S\n",
    "    N=365 * 3,  # t\n",
    "    is_call=False,\n",
    ")\n",
    "option.price()\n",
    "option_fde_prices = option.grid\n",
    "data = get_prices_call(X, option_fde_prices, generated=True)\n",
    "df = pd.DataFrame(\n",
    "    data=data,\n",
    "    columns=[\n",
    "        \"TimeToExp\",\n",
    "        \"UnderlyingPrice\",\n",
    "        \"TargetPrice\",\n",
    "        \"OpenInterest\",\n",
    "        \"Delta\",\n",
    "        \"Gamma\",\n",
    "        \"Theta\",\n",
    "        \"Vega\",\n",
    "        \"BSAprox\",\n",
    "    ],\n",
    ")\n",
    "df[[\"TimeToExp\", \"UnderlyingPrice\", \"TargetPrice\", \"BSAprox\"]] = df[\n",
    "    [\"TimeToExp\", \"UnderlyingPrice\", \"TargetPrice\", \"BSAprox\"]\n",
    "].round(2)\n",
    "df[\"OpenInterest\"] = df[\"OpenInterest\"].round(0)\n",
    "df.to_csv(\"../train_data/generated_call.csv\")"
   ]
  },
  {
   "cell_type": "code",
   "execution_count": 2,
   "metadata": {},
   "outputs": [
    {
     "name": "stdout",
     "output_type": "stream",
     "text": [
      "(10000, 9)\n"
     ]
    },
    {
     "data": {
      "text/html": [
       "<div>\n",
       "<style scoped>\n",
       "    .dataframe tbody tr th:only-of-type {\n",
       "        vertical-align: middle;\n",
       "    }\n",
       "\n",
       "    .dataframe tbody tr th {\n",
       "        vertical-align: top;\n",
       "    }\n",
       "\n",
       "    .dataframe thead th {\n",
       "        text-align: right;\n",
       "    }\n",
       "</style>\n",
       "<table border=\"1\" class=\"dataframe\">\n",
       "  <thead>\n",
       "    <tr style=\"text-align: right;\">\n",
       "      <th></th>\n",
       "      <th>TimeToExp</th>\n",
       "      <th>UnderlyingPrice</th>\n",
       "      <th>TargetPrice</th>\n",
       "      <th>OpenInterest</th>\n",
       "      <th>Delta</th>\n",
       "      <th>Gamma</th>\n",
       "      <th>Theta</th>\n",
       "      <th>Vega</th>\n",
       "      <th>BSAprox</th>\n",
       "    </tr>\n",
       "  </thead>\n",
       "  <tbody>\n",
       "    <tr>\n",
       "      <th>0</th>\n",
       "      <td>850.0</td>\n",
       "      <td>122.12</td>\n",
       "      <td>43.00</td>\n",
       "      <td>364.0</td>\n",
       "      <td>0.345992</td>\n",
       "      <td>0.144298</td>\n",
       "      <td>-3.575622</td>\n",
       "      <td>2.522842</td>\n",
       "      <td>31.500</td>\n",
       "    </tr>\n",
       "    <tr>\n",
       "      <th>1</th>\n",
       "      <td>311.0</td>\n",
       "      <td>186.19</td>\n",
       "      <td>29.31</td>\n",
       "      <td>514.0</td>\n",
       "      <td>0.167115</td>\n",
       "      <td>0.056784</td>\n",
       "      <td>-2.531811</td>\n",
       "      <td>6.822075</td>\n",
       "      <td>24.655</td>\n",
       "    </tr>\n",
       "    <tr>\n",
       "      <th>2</th>\n",
       "      <td>629.0</td>\n",
       "      <td>52.52</td>\n",
       "      <td>69.69</td>\n",
       "      <td>65.0</td>\n",
       "      <td>0.376269</td>\n",
       "      <td>0.272558</td>\n",
       "      <td>-7.814967</td>\n",
       "      <td>5.852912</td>\n",
       "      <td>0.000</td>\n",
       "    </tr>\n",
       "    <tr>\n",
       "      <th>3</th>\n",
       "      <td>469.0</td>\n",
       "      <td>144.80</td>\n",
       "      <td>37.75</td>\n",
       "      <td>58.0</td>\n",
       "      <td>0.009575</td>\n",
       "      <td>0.017516</td>\n",
       "      <td>-1.451383</td>\n",
       "      <td>1.604901</td>\n",
       "      <td>0.000</td>\n",
       "    </tr>\n",
       "    <tr>\n",
       "      <th>4</th>\n",
       "      <td>0.0</td>\n",
       "      <td>187.07</td>\n",
       "      <td>29.12</td>\n",
       "      <td>91.0</td>\n",
       "      <td>0.441506</td>\n",
       "      <td>0.138325</td>\n",
       "      <td>-8.777276</td>\n",
       "      <td>5.934998</td>\n",
       "      <td>118.970</td>\n",
       "    </tr>\n",
       "  </tbody>\n",
       "</table>\n",
       "</div>"
      ],
      "text/plain": [
       "   TimeToExp  UnderlyingPrice  TargetPrice  OpenInterest     Delta     Gamma  \\\n",
       "0      850.0           122.12        43.00         364.0  0.345992  0.144298   \n",
       "1      311.0           186.19        29.31         514.0  0.167115  0.056784   \n",
       "2      629.0            52.52        69.69          65.0  0.376269  0.272558   \n",
       "3      469.0           144.80        37.75          58.0  0.009575  0.017516   \n",
       "4        0.0           187.07        29.12          91.0  0.441506  0.138325   \n",
       "\n",
       "      Theta      Vega  BSAprox  \n",
       "0 -3.575622  2.522842   31.500  \n",
       "1 -2.531811  6.822075   24.655  \n",
       "2 -7.814967  5.852912    0.000  \n",
       "3 -1.451383  1.604901    0.000  \n",
       "4 -8.777276  5.934998  118.970  "
      ]
     },
     "execution_count": 2,
     "metadata": {},
     "output_type": "execute_result"
    }
   ],
   "source": [
    "df = pd.read_csv(\"../train_data/generated_call.csv\",index_col=0)\n",
    "print(df.shape)\n",
    "df.head()"
   ]
  },
  {
   "cell_type": "code",
   "execution_count": 3,
   "metadata": {},
   "outputs": [
    {
     "name": "stdout",
     "output_type": "stream",
     "text": [
      "ITM count:4201\n",
      "OTM count:5799\n"
     ]
    }
   ],
   "source": [
    "# Check for ITM and OTM\n",
    "print(f\"ITM count:{np.sum(df.UnderlyingPrice > K)}\")\n",
    "print(f\"OTM count:{np.sum(df.UnderlyingPrice <= K)}\")"
   ]
  },
  {
   "cell_type": "code",
   "execution_count": 30,
   "metadata": {},
   "outputs": [
    {
     "data": {
      "image/png": "[encoded data removed]",
      "text/plain": [
       "<Figure size 1200x800 with 1 Axes>"
      ]
     },
     "metadata": {},
     "output_type": "display_data"
    }
   ],
   "source": [
    "plt.figure(figsize=(12, 8))\n",
    "plt.scatter(\n",
    "    x=np.arange(1, len(df.TargetPrice) + 1, 1), y=df.TargetPrice, label=\"TargetValue\"\n",
    ")\n",
    "plt.scatter(x=np.arange(1, len(df.BSAprox) + 1, 1), y=df.BSAprox, label=\"B-S approx.\")\n",
    "plt.legend()\n",
    "plt.show()"
   ]
  },
  {
   "cell_type": "code",
   "execution_count": 5,
   "metadata": {},
   "outputs": [
    {
     "data": {
      "image/png": "[encoded data removed]",
      "text/plain": [
       "<Figure size 640x480 with 1 Axes>"
      ]
     },
     "metadata": {},
     "output_type": "display_data"
    }
   ],
   "source": [
    "plt.hist(df.TargetPrice, label=\"Target value\")\n",
    "plt.hist(df.BSAprox, label=\"B-S\")\n",
    "plt.legend()\n",
    "plt.show()"
   ]
  },
  {
   "cell_type": "code",
   "execution_count": null,
   "metadata": {},
   "outputs": [],
   "source": [
    "# adding BSAprox column to real data\n",
    "# Run it once, only if u dont have saved df\n",
    "df_real = get_prices_call(df_real.to_numpy(), generated=False)\n",
    "df_real = pd.DataFrame(\n",
    "    data=df_real,\n",
    "    columns=[\n",
    "        [\n",
    "            \"UnderlyingPrice\",\n",
    "            \"Type\",\n",
    "            \"Strike\",\n",
    "            \"OpenInterest\",\n",
    "            \"IV\",\n",
    "            \"Delta\",\n",
    "            \"Gamma\",\n",
    "            \"Theta\",\n",
    "            \"Vega\",\n",
    "            \"Time\",\n",
    "            \"TargetPrice\",\n",
    "            \"BSAprox\",\n",
    "        ]\n",
    "    ],\n",
    ")\n",
    "\n",
    "df_real[\"BSAprox\"] = df_real[\"BSAprox\"].round(2)\n",
    "df_real.to_csv(\"../train_data/call_df_with_approx.csv\")"
   ]
  },
  {
   "cell_type": "code",
   "execution_count": 2,
   "metadata": {},
   "outputs": [
    {
     "data": {
      "text/html": [
       "<div>\n",
       "<style scoped>\n",
       "    .dataframe tbody tr th:only-of-type {\n",
       "        vertical-align: middle;\n",
       "    }\n",
       "\n",
       "    .dataframe tbody tr th {\n",
       "        vertical-align: top;\n",
       "    }\n",
       "\n",
       "    .dataframe thead th {\n",
       "        text-align: right;\n",
       "    }\n",
       "</style>\n",
       "<table border=\"1\" class=\"dataframe\">\n",
       "  <thead>\n",
       "    <tr style=\"text-align: right;\">\n",
       "      <th></th>\n",
       "      <th>UnderlyingPrice</th>\n",
       "      <th>Type</th>\n",
       "      <th>Strike</th>\n",
       "      <th>OpenInterest</th>\n",
       "      <th>IV</th>\n",
       "      <th>Delta</th>\n",
       "      <th>Gamma</th>\n",
       "      <th>Theta</th>\n",
       "      <th>Vega</th>\n",
       "      <th>Time</th>\n",
       "      <th>TargetPrice</th>\n",
       "      <th>BSAprox</th>\n",
       "    </tr>\n",
       "  </thead>\n",
       "  <tbody>\n",
       "    <tr>\n",
       "      <th>0</th>\n",
       "      <td>71.11</td>\n",
       "      <td>call</td>\n",
       "      <td>55.0</td>\n",
       "      <td>0</td>\n",
       "      <td>0.2693</td>\n",
       "      <td>1.0000</td>\n",
       "      <td>0.0000</td>\n",
       "      <td>-1.2654</td>\n",
       "      <td>0.0015</td>\n",
       "      <td>21</td>\n",
       "      <td>16.08</td>\n",
       "      <td>16.11</td>\n",
       "    </tr>\n",
       "    <tr>\n",
       "      <th>1</th>\n",
       "      <td>71.11</td>\n",
       "      <td>call</td>\n",
       "      <td>60.0</td>\n",
       "      <td>3</td>\n",
       "      <td>0.2693</td>\n",
       "      <td>0.9968</td>\n",
       "      <td>0.0022</td>\n",
       "      <td>-1.7664</td>\n",
       "      <td>0.1636</td>\n",
       "      <td>21</td>\n",
       "      <td>11.38</td>\n",
       "      <td>11.11</td>\n",
       "    </tr>\n",
       "    <tr>\n",
       "      <th>2</th>\n",
       "      <td>71.11</td>\n",
       "      <td>call</td>\n",
       "      <td>62.5</td>\n",
       "      <td>9</td>\n",
       "      <td>0.2693</td>\n",
       "      <td>0.9813</td>\n",
       "      <td>0.0101</td>\n",
       "      <td>-3.2537</td>\n",
       "      <td>0.7659</td>\n",
       "      <td>21</td>\n",
       "      <td>8.50</td>\n",
       "      <td>8.61</td>\n",
       "    </tr>\n",
       "    <tr>\n",
       "      <th>3</th>\n",
       "      <td>71.11</td>\n",
       "      <td>call</td>\n",
       "      <td>65.0</td>\n",
       "      <td>16</td>\n",
       "      <td>0.2693</td>\n",
       "      <td>0.9286</td>\n",
       "      <td>0.0302</td>\n",
       "      <td>-6.9022</td>\n",
       "      <td>2.2884</td>\n",
       "      <td>21</td>\n",
       "      <td>6.98</td>\n",
       "      <td>6.11</td>\n",
       "    </tr>\n",
       "    <tr>\n",
       "      <th>4</th>\n",
       "      <td>71.11</td>\n",
       "      <td>call</td>\n",
       "      <td>67.5</td>\n",
       "      <td>44</td>\n",
       "      <td>0.2430</td>\n",
       "      <td>0.8313</td>\n",
       "      <td>0.0617</td>\n",
       "      <td>-10.4813</td>\n",
       "      <td>4.2260</td>\n",
       "      <td>21</td>\n",
       "      <td>4.10</td>\n",
       "      <td>3.61</td>\n",
       "    </tr>\n",
       "  </tbody>\n",
       "</table>\n",
       "</div>"
      ],
      "text/plain": [
       "   UnderlyingPrice  Type  Strike  OpenInterest      IV   Delta   Gamma  \\\n",
       "0            71.11  call    55.0             0  0.2693  1.0000  0.0000   \n",
       "1            71.11  call    60.0             3  0.2693  0.9968  0.0022   \n",
       "2            71.11  call    62.5             9  0.2693  0.9813  0.0101   \n",
       "3            71.11  call    65.0            16  0.2693  0.9286  0.0302   \n",
       "4            71.11  call    67.5            44  0.2430  0.8313  0.0617   \n",
       "\n",
       "     Theta    Vega  Time  TargetPrice  BSAprox  \n",
       "0  -1.2654  0.0015    21        16.08    16.11  \n",
       "1  -1.7664  0.1636    21        11.38    11.11  \n",
       "2  -3.2537  0.7659    21         8.50     8.61  \n",
       "3  -6.9022  2.2884    21         6.98     6.11  \n",
       "4 -10.4813  4.2260    21         4.10     3.61  "
      ]
     },
     "execution_count": 2,
     "metadata": {},
     "output_type": "execute_result"
    }
   ],
   "source": [
    "# df_real[\"BSAprox\"] = df_real[\"BSAprox\"].round(2)\n",
    "# df_real.to_csv(\"../train_data/call_df_with_approx.csv\")\n",
    "df_real = pd.read_csv(\"../train_data/call_df_with_approx.csv\", index_col=0)\n",
    "df_real.head()"
   ]
  },
  {
   "cell_type": "code",
   "execution_count": 3,
   "metadata": {},
   "outputs": [],
   "source": [
    "# hyperparams for training\n",
    "N_EPOCH = 50\n",
    "RISK_FREE = 0.03\n",
    "SIGMA = 0.4\n",
    "LEARNING_RATE = 0.00075178\n",
    "HIDDEN_LAYER = 24\n",
    "HIDDEN_WIDTH = 64\n",
    "EXPERIMENT_NAME = \"exp_call_12_gen\"\n",
    "MODEL_TYPE = AmericanPut_gated3\n",
    "experiment_dir = f\"../experiments_dir/{EXPERIMENT_NAME}\"\n",
    "os.makedirs(experiment_dir, exist_ok=True)"
   ]
  },
  {
   "cell_type": "code",
   "execution_count": 4,
   "metadata": {},
   "outputs": [],
   "source": [
    "import logging\n",
    "from datetime import datetime\n",
    "\n",
    "logger = logging.getLogger()\n",
    "current_date = datetime.now().strftime(\"%Y-%m-%d\")\n",
    "log_file_name = f\"{experiment_dir}/{EXPERIMENT_NAME}_log_{current_date}.log\"\n",
    "fhandler = logging.FileHandler(filename=log_file_name, mode=\"w\")\n",
    "formatter = logging.Formatter(\"%(asctime)s - %(name)s - %(levelname)s - %(message)s\")\n",
    "fhandler.setFormatter(formatter)\n",
    "logger.addHandler(fhandler)\n",
    "logger.setLevel(logging.INFO)"
   ]
  },
  {
   "cell_type": "code",
   "execution_count": 5,
   "metadata": {},
   "outputs": [
    {
     "name": "stdout",
     "output_type": "stream",
     "text": [
      "cuda\n"
     ]
    }
   ],
   "source": [
    "DEVICE = \"cuda\" if torch.cuda.is_available() else \"cpu\"\n",
    "print(DEVICE)\n",
    "# torch.set_default_device(DEVICE)\n",
    "logging.info(f\"Running on device={DEVICE}\")"
   ]
  },
  {
   "cell_type": "code",
   "execution_count": 6,
   "metadata": {},
   "outputs": [],
   "source": [
    "logging.info(f\"N_EPOCH: {N_EPOCH}\")\n",
    "logging.info(f\"LEARNING_RATE: {LEARNING_RATE}\")\n",
    "logging.info(f\"HIDDEN_LAYER: {HIDDEN_LAYER}\")\n",
    "logging.info(f\"HIDDEN_WIDTH: {HIDDEN_WIDTH}\")\n",
    "# logging.info(f\"N_sample: {N_sample}\")\n",
    "logging.info(f\"EXPERIMENT_NAME: {EXPERIMENT_NAME}\")\n",
    "logging.info(f\"Model type: {MODEL_TYPE.__name__}\")"
   ]
  },
  {
   "cell_type": "code",
   "execution_count": 7,
   "metadata": {},
   "outputs": [
    {
     "name": "stdout",
     "output_type": "stream",
     "text": [
      "(8000, 9)\n",
      "(2000, 9)\n"
     ]
    }
   ],
   "source": [
    "# df = df_real.sample(n=20000, random_state=42)\n",
    "df_train, df_val = train_test_split(df, test_size=0.2)\n",
    "print(df_train.shape)\n",
    "print(df_val.shape)"
   ]
  },
  {
   "cell_type": "code",
   "execution_count": 8,
   "metadata": {},
   "outputs": [
    {
     "data": {
      "text/html": [
       "<div>\n",
       "<style scoped>\n",
       "    .dataframe tbody tr th:only-of-type {\n",
       "        vertical-align: middle;\n",
       "    }\n",
       "\n",
       "    .dataframe tbody tr th {\n",
       "        vertical-align: top;\n",
       "    }\n",
       "\n",
       "    .dataframe thead th {\n",
       "        text-align: right;\n",
       "    }\n",
       "</style>\n",
       "<table border=\"1\" class=\"dataframe\">\n",
       "  <thead>\n",
       "    <tr style=\"text-align: right;\">\n",
       "      <th></th>\n",
       "      <th>TimeToExp</th>\n",
       "      <th>UnderlyingPrice</th>\n",
       "      <th>TargetPrice</th>\n",
       "      <th>OpenInterest</th>\n",
       "      <th>Delta</th>\n",
       "      <th>Gamma</th>\n",
       "      <th>Theta</th>\n",
       "      <th>Vega</th>\n",
       "      <th>BSAprox</th>\n",
       "    </tr>\n",
       "  </thead>\n",
       "  <tbody>\n",
       "    <tr>\n",
       "      <th>6251</th>\n",
       "      <td>0.00</td>\n",
       "      <td>91.32</td>\n",
       "      <td>0.00</td>\n",
       "      <td>512.0</td>\n",
       "      <td>0.262409</td>\n",
       "      <td>0.102264</td>\n",
       "      <td>-2.155546</td>\n",
       "      <td>1.193742</td>\n",
       "      <td>0.0</td>\n",
       "    </tr>\n",
       "    <tr>\n",
       "      <th>9480</th>\n",
       "      <td>200.85</td>\n",
       "      <td>200.00</td>\n",
       "      <td>199.71</td>\n",
       "      <td>280.0</td>\n",
       "      <td>0.437458</td>\n",
       "      <td>0.065621</td>\n",
       "      <td>-1.695669</td>\n",
       "      <td>10.951345</td>\n",
       "      <td>0.0</td>\n",
       "    </tr>\n",
       "    <tr>\n",
       "      <th>822</th>\n",
       "      <td>107.00</td>\n",
       "      <td>179.75</td>\n",
       "      <td>30.61</td>\n",
       "      <td>45.0</td>\n",
       "      <td>0.196133</td>\n",
       "      <td>0.065397</td>\n",
       "      <td>-18.665179</td>\n",
       "      <td>11.817651</td>\n",
       "      <td>0.0</td>\n",
       "    </tr>\n",
       "    <tr>\n",
       "      <th>2331</th>\n",
       "      <td>179.00</td>\n",
       "      <td>178.62</td>\n",
       "      <td>30.80</td>\n",
       "      <td>127.0</td>\n",
       "      <td>0.236634</td>\n",
       "      <td>0.061402</td>\n",
       "      <td>-26.481167</td>\n",
       "      <td>4.934245</td>\n",
       "      <td>0.0</td>\n",
       "    </tr>\n",
       "    <tr>\n",
       "      <th>4006</th>\n",
       "      <td>826.00</td>\n",
       "      <td>69.67</td>\n",
       "      <td>60.66</td>\n",
       "      <td>780.0</td>\n",
       "      <td>0.560356</td>\n",
       "      <td>0.026323</td>\n",
       "      <td>-34.697641</td>\n",
       "      <td>3.666897</td>\n",
       "      <td>0.0</td>\n",
       "    </tr>\n",
       "    <tr>\n",
       "      <th>...</th>\n",
       "      <td>...</td>\n",
       "      <td>...</td>\n",
       "      <td>...</td>\n",
       "      <td>...</td>\n",
       "      <td>...</td>\n",
       "      <td>...</td>\n",
       "      <td>...</td>\n",
       "      <td>...</td>\n",
       "      <td>...</td>\n",
       "    </tr>\n",
       "    <tr>\n",
       "      <th>5334</th>\n",
       "      <td>544.00</td>\n",
       "      <td>57.16</td>\n",
       "      <td>66.75</td>\n",
       "      <td>37.0</td>\n",
       "      <td>0.097179</td>\n",
       "      <td>0.028151</td>\n",
       "      <td>-17.072153</td>\n",
       "      <td>1.278171</td>\n",
       "      <td>0.0</td>\n",
       "    </tr>\n",
       "    <tr>\n",
       "      <th>4953</th>\n",
       "      <td>246.00</td>\n",
       "      <td>121.08</td>\n",
       "      <td>43.25</td>\n",
       "      <td>8.0</td>\n",
       "      <td>0.849798</td>\n",
       "      <td>0.162088</td>\n",
       "      <td>-12.093294</td>\n",
       "      <td>9.155286</td>\n",
       "      <td>0.0</td>\n",
       "    </tr>\n",
       "    <tr>\n",
       "      <th>4802</th>\n",
       "      <td>930.00</td>\n",
       "      <td>115.61</td>\n",
       "      <td>44.84</td>\n",
       "      <td>344.0</td>\n",
       "      <td>0.396425</td>\n",
       "      <td>0.231353</td>\n",
       "      <td>-8.272025</td>\n",
       "      <td>0.748419</td>\n",
       "      <td>0.0</td>\n",
       "    </tr>\n",
       "    <tr>\n",
       "      <th>5059</th>\n",
       "      <td>826.00</td>\n",
       "      <td>168.92</td>\n",
       "      <td>32.72</td>\n",
       "      <td>139.0</td>\n",
       "      <td>0.738634</td>\n",
       "      <td>0.050983</td>\n",
       "      <td>-3.518062</td>\n",
       "      <td>6.772902</td>\n",
       "      <td>0.0</td>\n",
       "    </tr>\n",
       "    <tr>\n",
       "      <th>6071</th>\n",
       "      <td>0.00</td>\n",
       "      <td>157.80</td>\n",
       "      <td>37.80</td>\n",
       "      <td>58.0</td>\n",
       "      <td>1.025453</td>\n",
       "      <td>0.031547</td>\n",
       "      <td>-12.319730</td>\n",
       "      <td>8.222572</td>\n",
       "      <td>37.8</td>\n",
       "    </tr>\n",
       "  </tbody>\n",
       "</table>\n",
       "<p>8000 rows × 9 columns</p>\n",
       "</div>"
      ],
      "text/plain": [
       "      TimeToExp  UnderlyingPrice  TargetPrice  OpenInterest     Delta  \\\n",
       "6251       0.00            91.32         0.00         512.0  0.262409   \n",
       "9480     200.85           200.00       199.71         280.0  0.437458   \n",
       "822      107.00           179.75        30.61          45.0  0.196133   \n",
       "2331     179.00           178.62        30.80         127.0  0.236634   \n",
       "4006     826.00            69.67        60.66         780.0  0.560356   \n",
       "...         ...              ...          ...           ...       ...   \n",
       "5334     544.00            57.16        66.75          37.0  0.097179   \n",
       "4953     246.00           121.08        43.25           8.0  0.849798   \n",
       "4802     930.00           115.61        44.84         344.0  0.396425   \n",
       "5059     826.00           168.92        32.72         139.0  0.738634   \n",
       "6071       0.00           157.80        37.80          58.0  1.025453   \n",
       "\n",
       "         Gamma      Theta       Vega  BSAprox  \n",
       "6251  0.102264  -2.155546   1.193742      0.0  \n",
       "9480  0.065621  -1.695669  10.951345      0.0  \n",
       "822   0.065397 -18.665179  11.817651      0.0  \n",
       "2331  0.061402 -26.481167   4.934245      0.0  \n",
       "4006  0.026323 -34.697641   3.666897      0.0  \n",
       "...        ...        ...        ...      ...  \n",
       "5334  0.028151 -17.072153   1.278171      0.0  \n",
       "4953  0.162088 -12.093294   9.155286      0.0  \n",
       "4802  0.231353  -8.272025   0.748419      0.0  \n",
       "5059  0.050983  -3.518062   6.772902      0.0  \n",
       "6071  0.031547 -12.319730   8.222572     37.8  \n",
       "\n",
       "[8000 rows x 9 columns]"
      ]
     },
     "execution_count": 8,
     "metadata": {},
     "output_type": "execute_result"
    }
   ],
   "source": [
    "df_train"
   ]
  },
  {
   "cell_type": "code",
   "execution_count": 9,
   "metadata": {},
   "outputs": [],
   "source": [
    "initial_mse_train = (\n",
    "    1 / len(df_train) * np.sum((df_train.TargetPrice - df_train.BSAprox) ** 2)\n",
    ")\n",
    "initial_mse_val = 1 / len(df_val) * np.sum((df_val.TargetPrice - df_val.BSAprox) ** 2)\n",
    "logging.info(\n",
    "    f\"Initial MSE train: {initial_mse_train.round(4)}, Initial MSE val: {initial_mse_val.round(4)}\"\n",
    ")"
   ]
  },
  {
   "cell_type": "code",
   "execution_count": 10,
   "metadata": {},
   "outputs": [],
   "source": [
    "train_df = CustomDataset(df_train)\n",
    "val_df = CustomDataset(df_val)"
   ]
  },
  {
   "cell_type": "code",
   "execution_count": 10,
   "metadata": {},
   "outputs": [],
   "source": [
    "# import torch.multiprocessing as mp\n",
    "train_df = CustomDataset(df_train)\n",
    "val_df = CustomDataset(df_val)\n",
    "# from torch.optim.lr_scheduler import ReduceLROnPlateau\n",
    "model = MODEL_TYPE(5, 1, HIDDEN_WIDTH, HIDDEN_LAYER).to(DEVICE)\n",
    "logging.info(\n",
    "    f\"Total number of learnable parameters: {sum(p.numel() for p in model.parameters() if p.requires_grad)}\"\n",
    ")\n",
    "train_dataloader = DataLoader(\n",
    "    train_df,\n",
    "    batch_size=64,\n",
    "    shuffle=True,\n",
    "    num_workers=8,\n",
    "    # generator=torch.Generator(device=DEVICE),\n",
    ")\n",
    "val_dataloader = DataLoader(\n",
    "    val_df,\n",
    "    batch_size=64,\n",
    "    shuffle=False,\n",
    "    num_workers=8,\n",
    ")\n",
    "optimizers_list = {\n",
    "    \"SGD\": torch.optim.SGD(model.parameters(), lr=LEARNING_RATE, momentum=0.7),\n",
    "    \"RMSprop\": torch.optim.RMSprop(model.parameters(), lr=LEARNING_RATE),\n",
    "    \"Adam\": torch.optim.Adam(model.parameters(), lr=LEARNING_RATE),\n",
    "    \"Adamax\": torch.optim.Adamax(\n",
    "        model.parameters(), lr=LEARNING_RATE, betas=(0.9, 0.99)\n",
    "    ),\n",
    "}\n",
    "criteriation = nn.MSELoss()"
   ]
  },
  {
   "cell_type": "code",
   "execution_count": 11,
   "metadata": {},
   "outputs": [],
   "source": [
    "def check_data(dataloader):\n",
    "    for batch_idx, data in enumerate(dataloader):\n",
    "        inputs = data[\"input\"]\n",
    "        outputs = data[\"output\"]\n",
    "        if torch.isnan(inputs).any() or torch.isinf(inputs).any():\n",
    "            print(f\"NaN or Inf found in inputs at batch {batch_idx}\")\n",
    "        if torch.isnan(outputs).any() or torch.isinf(outputs).any():\n",
    "            print(f\"NaN or Inf found in outputs at batch {batch_idx}\")\n",
    "\n",
    "check_data(train_dataloader)\n",
    "check_data(val_dataloader)\n"
   ]
  },
  {
   "cell_type": "code",
   "execution_count": 12,
   "metadata": {},
   "outputs": [],
   "source": [
    "from torch.optim.lr_scheduler import CosineAnnealingLR\n",
    "\n",
    "\n",
    "def train_model(model, train_dataloader, optimizer, scheduler, criteriation, device):\n",
    "    model.train()\n",
    "    train_losses = []\n",
    "    for batch_idx, data in tqdm(\n",
    "        enumerate(train_dataloader), total=len(train_dataloader)\n",
    "    ):\n",
    "        optimizer.zero_grad()\n",
    "        inputs = data[\"input\"].to(device)\n",
    "        outputs = data[\"output\"].to(device).view(-1, 1)\n",
    "        pred = model(inputs).view(-1, 1)\n",
    "        loss = criteriation(outputs, pred)\n",
    "        loss.backward()\n",
    "        optimizer.step()\n",
    "        train_losses.append(loss.item())\n",
    "    scheduler.step()  # Step the scheduler\n",
    "    return np.mean(train_losses)\n",
    "\n",
    "\n",
    "def validate_model(model, val_dataloader, criteriation, device):\n",
    "    model.eval()\n",
    "    val_losses = []\n",
    "    with torch.no_grad():\n",
    "        for batch_idx, data in tqdm(\n",
    "            enumerate(val_dataloader), total=len(val_dataloader)\n",
    "        ):\n",
    "            inputs = data[\"input\"].to(device)\n",
    "            outputs = data[\"output\"].to(device).view(-1, 1)\n",
    "            pred = model(inputs).view(-1, 1)\n",
    "            loss = criteriation(outputs, pred)\n",
    "            val_losses.append(loss.item())\n",
    "    return np.mean(val_losses)\n",
    "\n",
    "\n",
    "def train_cycle(optimizer_name, optimizer, train_loss_dict, val_loss_dict, final=False):\n",
    "    print(f\"Optimizer: {optimizer_name}\")\n",
    "    train_loss_dict[optimizer_name] = []\n",
    "    val_loss_dict[optimizer_name] = []\n",
    "    logging.info(f\"Optimizer: {optimizer_name}\")\n",
    "\n",
    "    # Define the CosineAnnealingLR scheduler\n",
    "    scheduler = CosineAnnealingLR(optimizer, T_max=N_EPOCH, eta_min=0)\n",
    "\n",
    "    for i in range(N_EPOCH):\n",
    "        train_loss = train_model(\n",
    "            model, train_dataloader, optimizer, scheduler, criteriation, DEVICE\n",
    "        )\n",
    "        train_loss_dict[optimizer_name].append(train_loss)\n",
    "        val_loss = validate_model(model, val_dataloader, criteriation, DEVICE)\n",
    "        val_loss_dict[optimizer_name].append(val_loss)\n",
    "        if final:\n",
    "            torch.save(\n",
    "                model.state_dict(), f\"{experiment_dir}/{EXPERIMENT_NAME}_{i}.pth\"\n",
    "            )\n",
    "        print(f\"Epoch {i+1}, train loss: {train_loss:.4f}, val loss: {val_loss:.4f}\")\n",
    "        logging.info(\n",
    "            f\"Epoch {i+1}, train loss: {train_loss:.4f}, val loss: {val_loss:.4f}\"\n",
    "        )\n",
    "\n",
    "\n",
    "# def initialize_weights(model):\n",
    "#     for layer in model.children():\n",
    "#         if hasattr(layer, \"weight\") and layer.weight is not None:\n",
    "#             nn.init.kaiming_normal_(\n",
    "#                 layer.weight, mode=\"fan_in\", nonlinearity=\"leaky_relu\"\n",
    "#             )\n",
    "\n",
    "\n",
    "# model.apply(initialize_weights)"
   ]
  },
  {
   "cell_type": "code",
   "execution_count": 14,
   "metadata": {},
   "outputs": [
    {
     "name": "stderr",
     "output_type": "stream",
     "text": [
      "/home/strongich/miniconda3/envs/main/lib/python3.11/site-packages/tqdm/auto.py:21: TqdmWarning: IProgress not found. Please update jupyter and ipywidgets. See https://ipywidgets.readthedocs.io/en/stable/user_install.html\n",
      "  from .autonotebook import tqdm as notebook_tqdm\n",
      "[I 2024-06-01 19:18:28,167] A new study created in memory with name: no-name-6a2669c5-76ed-4e94-b3a6-6a90da1e9140\n",
      "/tmp/ipykernel_273131/874035944.py:54: FutureWarning: suggest_loguniform has been deprecated in v3.0.0. This feature will be removed in v6.0.0. See https://github.com/optuna/optuna/releases/tag/v3.0.0. Use suggest_float(..., log=True) instead.\n",
      "  learning_rate = trial.suggest_loguniform(\"learning_rate\", 2e-8, 1e-1)\n",
      "100%|██████████| 32/32 [00:00<00:00, 69.25it/s]\n",
      "100%|██████████| 8/8 [00:00<00:00, 138.25it/s]\n",
      "100%|██████████| 32/32 [00:00<00:00, 79.21it/s]\n",
      "100%|██████████| 8/8 [00:00<00:00, 136.62it/s]\n",
      "100%|██████████| 32/32 [00:00<00:00, 72.64it/s]\n",
      "100%|██████████| 8/8 [00:00<00:00, 124.99it/s]\n",
      "100%|██████████| 32/32 [00:00<00:00, 51.57it/s]\n",
      "100%|██████████| 8/8 [00:00<00:00, 149.73it/s]\n",
      "100%|██████████| 32/32 [00:00<00:00, 43.18it/s]\n",
      "100%|██████████| 8/8 [00:00<00:00, 132.92it/s]\n",
      "100%|██████████| 32/32 [00:00<00:00, 43.91it/s]\n",
      "100%|██████████| 8/8 [00:00<00:00, 20.79it/s]\n",
      "100%|██████████| 32/32 [00:00<00:00, 37.27it/s]\n",
      "100%|██████████| 8/8 [00:00<00:00, 145.79it/s]\n",
      "100%|██████████| 32/32 [00:00<00:00, 70.98it/s]\n",
      "100%|██████████| 8/8 [00:00<00:00, 121.52it/s]\n",
      "100%|██████████| 32/32 [00:00<00:00, 67.61it/s]\n",
      "100%|██████████| 8/8 [00:00<00:00, 120.98it/s]\n",
      "100%|██████████| 32/32 [00:00<00:00, 74.20it/s]\n",
      "100%|██████████| 8/8 [00:00<00:00, 138.78it/s]\n",
      "[I 2024-06-01 19:18:38,304] Trial 0 finished with value: 3102.718780517578 and parameters: {'hidden_width': 75, 'hidden_layers': 26, 'learning_rate': 6.412594071060509e-07, 'optimizer': 'Adamax', 'batch_size': 256}. Best is trial 0 with value: 3102.718780517578.\n",
      "100%|██████████| 125/125 [00:00<00:00, 168.28it/s]\n",
      "100%|██████████| 32/32 [00:00<00:00, 309.00it/s]\n",
      "100%|██████████| 125/125 [00:00<00:00, 165.29it/s]\n",
      "100%|██████████| 32/32 [00:00<00:00, 304.05it/s]\n",
      "100%|██████████| 125/125 [00:00<00:00, 169.02it/s]\n",
      "100%|██████████| 32/32 [00:00<00:00, 315.73it/s]\n",
      "100%|██████████| 125/125 [00:00<00:00, 165.96it/s]\n",
      "100%|██████████| 32/32 [00:00<00:00, 310.90it/s]\n",
      "100%|██████████| 125/125 [00:00<00:00, 163.23it/s]\n",
      "100%|██████████| 32/32 [00:00<00:00, 312.33it/s]\n",
      "100%|██████████| 125/125 [00:00<00:00, 173.87it/s]\n",
      "100%|██████████| 32/32 [00:00<00:00, 299.35it/s]\n",
      "100%|██████████| 125/125 [00:00<00:00, 166.78it/s]\n",
      "100%|██████████| 32/32 [00:00<00:00, 262.46it/s]\n",
      "100%|██████████| 125/125 [00:00<00:00, 156.17it/s]\n",
      "100%|██████████| 32/32 [00:00<00:00, 309.91it/s]\n",
      "100%|██████████| 125/125 [00:00<00:00, 158.07it/s]\n",
      "100%|██████████| 32/32 [00:00<00:00, 291.83it/s]\n",
      "100%|██████████| 125/125 [00:00<00:00, 162.99it/s]\n",
      "100%|██████████| 32/32 [00:00<00:00, 292.92it/s]\n",
      "[I 2024-06-01 19:18:50,363] Trial 1 finished with value: 1683.783317565918 and parameters: {'hidden_width': 100, 'hidden_layers': 16, 'learning_rate': 1.3754791902283242e-05, 'optimizer': 'SGD', 'batch_size': 64}. Best is trial 1 with value: 1683.783317565918.\n",
      "100%|██████████| 125/125 [00:00<00:00, 178.46it/s]\n",
      "100%|██████████| 32/32 [00:00<00:00, 317.07it/s]\n",
      "100%|██████████| 125/125 [00:00<00:00, 174.96it/s]\n",
      "100%|██████████| 32/32 [00:00<00:00, 298.98it/s]\n",
      "100%|██████████| 125/125 [00:00<00:00, 176.98it/s]\n",
      "100%|██████████| 32/32 [00:00<00:00, 314.22it/s]\n",
      "100%|██████████| 125/125 [00:00<00:00, 164.19it/s]\n",
      "100%|██████████| 32/32 [00:00<00:00, 335.50it/s]\n",
      "100%|██████████| 125/125 [00:00<00:00, 178.04it/s]\n",
      "100%|██████████| 32/32 [00:00<00:00, 307.18it/s]\n",
      "100%|██████████| 125/125 [00:00<00:00, 178.64it/s]\n",
      "100%|██████████| 32/32 [00:00<00:00, 318.42it/s]\n",
      "100%|██████████| 125/125 [00:00<00:00, 177.03it/s]\n",
      "100%|██████████| 32/32 [00:00<00:00, 313.35it/s]\n",
      "100%|██████████| 125/125 [00:00<00:00, 178.82it/s]\n",
      "100%|██████████| 32/32 [00:00<00:00, 325.57it/s]\n",
      "100%|██████████| 125/125 [00:00<00:00, 179.67it/s]\n",
      "100%|██████████| 32/32 [00:00<00:00, 325.02it/s]\n",
      "100%|██████████| 125/125 [00:00<00:00, 181.58it/s]\n",
      "100%|██████████| 32/32 [00:00<00:00, 330.18it/s]\n",
      "[I 2024-06-01 19:19:01,931] Trial 2 finished with value: 1678.263614654541 and parameters: {'hidden_width': 91, 'hidden_layers': 12, 'learning_rate': 0.000726866370765883, 'optimizer': 'RMSprop', 'batch_size': 64}. Best is trial 2 with value: 1678.263614654541.\n",
      "100%|██████████| 250/250 [00:02<00:00, 113.20it/s]\n",
      "100%|██████████| 63/63 [00:00<00:00, 348.18it/s]\n",
      "100%|██████████| 250/250 [00:02<00:00, 111.88it/s]\n",
      "100%|██████████| 63/63 [00:00<00:00, 314.54it/s]\n",
      "100%|██████████| 250/250 [00:02<00:00, 117.40it/s]\n",
      "100%|██████████| 63/63 [00:00<00:00, 352.45it/s]\n",
      "100%|██████████| 250/250 [00:02<00:00, 115.96it/s]\n",
      "100%|██████████| 63/63 [00:00<00:00, 361.85it/s]\n",
      "100%|██████████| 250/250 [00:02<00:00, 115.60it/s]\n",
      "100%|██████████| 63/63 [00:00<00:00, 371.69it/s]\n",
      "100%|██████████| 250/250 [00:02<00:00, 117.85it/s]\n",
      "100%|██████████| 63/63 [00:00<00:00, 357.76it/s]\n",
      "100%|██████████| 250/250 [00:02<00:00, 114.51it/s]\n",
      "100%|██████████| 63/63 [00:00<00:00, 359.37it/s]\n",
      "100%|██████████| 250/250 [00:02<00:00, 109.55it/s]\n",
      "100%|██████████| 63/63 [00:00<00:00, 345.06it/s]\n",
      "100%|██████████| 250/250 [00:02<00:00, 116.25it/s]\n",
      "100%|██████████| 63/63 [00:00<00:00, 363.84it/s]\n",
      "100%|██████████| 250/250 [00:02<00:00, 114.49it/s]\n",
      "100%|██████████| 63/63 [00:00<00:00, 365.94it/s]\n",
      "[I 2024-06-01 19:19:28,934] Trial 3 finished with value: 2770.0790027436756 and parameters: {'hidden_width': 92, 'hidden_layers': 15, 'learning_rate': 2.29048031279757e-06, 'optimizer': 'Adamax', 'batch_size': 32}. Best is trial 2 with value: 1678.263614654541.\n",
      "100%|██████████| 32/32 [00:00<00:00, 102.68it/s]\n",
      "100%|██████████| 8/8 [00:00<00:00, 128.32it/s]\n",
      "100%|██████████| 32/32 [00:00<00:00, 102.01it/s]\n",
      "100%|██████████| 8/8 [00:00<00:00, 149.69it/s]\n",
      "100%|██████████| 32/32 [00:00<00:00, 108.19it/s]\n",
      "100%|██████████| 8/8 [00:00<00:00, 134.79it/s]\n",
      "100%|██████████| 32/32 [00:00<00:00, 105.24it/s]\n",
      "100%|██████████| 8/8 [00:00<00:00, 145.40it/s]\n",
      "100%|██████████| 32/32 [00:00<00:00, 104.62it/s]\n",
      "100%|██████████| 8/8 [00:00<00:00, 142.35it/s]\n",
      "100%|██████████| 32/32 [00:00<00:00, 108.45it/s]\n",
      "100%|██████████| 8/8 [00:00<00:00, 127.75it/s]\n",
      "100%|██████████| 32/32 [00:00<00:00, 91.95it/s] \n",
      "100%|██████████| 8/8 [00:00<00:00, 108.16it/s]\n",
      "100%|██████████| 32/32 [00:00<00:00, 102.34it/s]\n",
      "100%|██████████| 8/8 [00:00<00:00, 120.74it/s]\n",
      "100%|██████████| 32/32 [00:00<00:00, 101.79it/s]\n",
      "100%|██████████| 8/8 [00:00<00:00, 141.56it/s]\n",
      "100%|██████████| 32/32 [00:00<00:00, 106.38it/s]\n",
      "100%|██████████| 8/8 [00:00<00:00, 136.15it/s]\n",
      "[I 2024-06-01 19:19:36,244] Trial 4 finished with value: 2338.6459350585938 and parameters: {'hidden_width': 81, 'hidden_layers': 27, 'learning_rate': 1.1995637900944426e-05, 'optimizer': 'Adam', 'batch_size': 256}. Best is trial 2 with value: 1678.263614654541.\n",
      "100%|██████████| 63/63 [00:00<00:00, 144.09it/s]\n",
      "100%|██████████| 16/16 [00:00<00:00, 239.27it/s]\n",
      "[I 2024-06-01 19:19:37,158] Trial 5 pruned. \n",
      "100%|██████████| 125/125 [00:01<00:00, 115.91it/s]\n",
      "100%|██████████| 32/32 [00:00<00:00, 263.05it/s]\n",
      "100%|██████████| 125/125 [00:01<00:00, 117.88it/s]\n",
      "100%|██████████| 32/32 [00:00<00:00, 239.90it/s]\n",
      "100%|██████████| 125/125 [00:01<00:00, 112.92it/s]\n",
      "100%|██████████| 32/32 [00:00<00:00, 247.44it/s]\n",
      "100%|██████████| 125/125 [00:01<00:00, 115.82it/s]\n",
      "100%|██████████| 32/32 [00:00<00:00, 237.63it/s]\n",
      "100%|██████████| 125/125 [00:01<00:00, 115.45it/s]\n",
      "100%|██████████| 32/32 [00:00<00:00, 225.65it/s]\n",
      "100%|██████████| 125/125 [00:01<00:00, 108.65it/s]\n",
      "100%|██████████| 32/32 [00:00<00:00, 226.06it/s]\n",
      "100%|██████████| 125/125 [00:01<00:00, 111.19it/s]\n",
      "100%|██████████| 32/32 [00:00<00:00, 215.83it/s]\n",
      "100%|██████████| 125/125 [00:01<00:00, 109.97it/s]\n",
      "100%|██████████| 32/32 [00:00<00:00, 234.61it/s]\n",
      "100%|██████████| 125/125 [00:01<00:00, 106.29it/s]\n",
      "100%|██████████| 32/32 [00:00<00:00, 223.40it/s]\n",
      "100%|██████████| 125/125 [00:01<00:00, 105.20it/s]\n",
      "100%|██████████| 32/32 [00:00<00:00, 225.78it/s]\n",
      "[I 2024-06-01 19:19:53,248] Trial 6 finished with value: 1680.274284362793 and parameters: {'hidden_width': 119, 'hidden_layers': 30, 'learning_rate': 0.0012628327150793592, 'optimizer': 'RMSprop', 'batch_size': 64}. Best is trial 2 with value: 1678.263614654541.\n",
      "100%|██████████| 63/63 [00:00<00:00, 114.69it/s]\n",
      "100%|██████████| 16/16 [00:00<00:00, 206.08it/s]\n",
      "[I 2024-06-01 19:19:54,225] Trial 7 pruned. \n",
      "100%|██████████| 63/63 [00:00<00:00, 132.65it/s]\n",
      "100%|██████████| 16/16 [00:00<00:00, 217.99it/s]\n",
      "100%|██████████| 63/63 [00:00<00:00, 129.21it/s]\n",
      "100%|██████████| 16/16 [00:00<00:00, 209.86it/s]\n",
      "100%|██████████| 63/63 [00:00<00:00, 131.96it/s]\n",
      "100%|██████████| 16/16 [00:00<00:00, 202.57it/s]\n",
      "100%|██████████| 63/63 [00:00<00:00, 132.28it/s]\n",
      "100%|██████████| 16/16 [00:00<00:00, 203.20it/s]\n",
      "100%|██████████| 63/63 [00:00<00:00, 132.62it/s]\n",
      "100%|██████████| 16/16 [00:00<00:00, 206.04it/s]\n",
      "100%|██████████| 63/63 [00:00<00:00, 132.76it/s]\n",
      "100%|██████████| 16/16 [00:00<00:00, 225.78it/s]\n",
      "100%|██████████| 63/63 [00:00<00:00, 130.57it/s]\n",
      "100%|██████████| 16/16 [00:00<00:00, 197.66it/s]\n",
      "100%|██████████| 63/63 [00:00<00:00, 126.40it/s]\n",
      "100%|██████████| 16/16 [00:00<00:00, 214.10it/s]\n",
      "100%|██████████| 63/63 [00:00<00:00, 131.53it/s]\n",
      "100%|██████████| 16/16 [00:00<00:00, 200.32it/s]\n",
      "100%|██████████| 63/63 [00:00<00:00, 129.83it/s]\n",
      "100%|██████████| 16/16 [00:00<00:00, 217.17it/s]\n",
      "[I 2024-06-01 19:20:03,450] Trial 8 finished with value: 1697.3569412231445 and parameters: {'hidden_width': 72, 'hidden_layers': 20, 'learning_rate': 0.04496708848401204, 'optimizer': 'RMSprop', 'batch_size': 128}. Best is trial 2 with value: 1678.263614654541.\n",
      "100%|██████████| 125/125 [00:00<00:00, 179.05it/s]\n",
      "100%|██████████| 32/32 [00:00<00:00, 306.78it/s]\n",
      "[I 2024-06-01 19:20:04,619] Trial 9 pruned. \n",
      "100%|██████████| 250/250 [00:01<00:00, 193.47it/s]\n",
      "100%|██████████| 63/63 [00:00<00:00, 377.42it/s]\n",
      "100%|██████████| 250/250 [00:01<00:00, 207.11it/s]\n",
      "100%|██████████| 63/63 [00:00<00:00, 394.59it/s]\n",
      "100%|██████████| 250/250 [00:01<00:00, 205.59it/s]\n",
      "100%|██████████| 63/63 [00:00<00:00, 372.51it/s]\n",
      "100%|██████████| 250/250 [00:01<00:00, 195.70it/s]\n",
      "100%|██████████| 63/63 [00:00<00:00, 384.04it/s]\n",
      "100%|██████████| 250/250 [00:01<00:00, 199.42it/s]\n",
      "100%|██████████| 63/63 [00:00<00:00, 365.95it/s]\n",
      "100%|██████████| 250/250 [00:01<00:00, 199.48it/s]\n",
      "100%|██████████| 63/63 [00:00<00:00, 376.79it/s]\n",
      "100%|██████████| 250/250 [00:01<00:00, 195.19it/s]\n",
      "100%|██████████| 63/63 [00:00<00:00, 381.97it/s]\n",
      "100%|██████████| 250/250 [00:01<00:00, 196.93it/s]\n",
      "100%|██████████| 63/63 [00:00<00:00, 379.79it/s]\n",
      "100%|██████████| 250/250 [00:01<00:00, 195.81it/s]\n",
      "100%|██████████| 63/63 [00:00<00:00, 395.33it/s]\n",
      "100%|██████████| 250/250 [00:01<00:00, 197.96it/s]\n",
      "100%|██████████| 63/63 [00:00<00:00, 373.07it/s]\n",
      "[I 2024-06-01 19:20:22,498] Trial 10 finished with value: 1685.8271852523562 and parameters: {'hidden_width': 47, 'hidden_layers': 10, 'learning_rate': 0.0005458535296940115, 'optimizer': 'RMSprop', 'batch_size': 32}. Best is trial 2 with value: 1678.263614654541.\n",
      "100%|██████████| 125/125 [00:01<00:00, 107.36it/s]\n",
      "100%|██████████| 32/32 [00:00<00:00, 208.37it/s]\n",
      "100%|██████████| 125/125 [00:01<00:00, 105.97it/s]\n",
      "100%|██████████| 32/32 [00:00<00:00, 214.82it/s]\n",
      "100%|██████████| 125/125 [00:01<00:00, 109.39it/s]\n",
      "100%|██████████| 32/32 [00:00<00:00, 214.19it/s]\n",
      "100%|██████████| 125/125 [00:01<00:00, 109.18it/s]\n",
      "100%|██████████| 32/32 [00:00<00:00, 217.40it/s]\n",
      "100%|██████████| 125/125 [00:01<00:00, 108.69it/s]\n",
      "100%|██████████| 32/32 [00:00<00:00, 243.33it/s]\n",
      "100%|██████████| 125/125 [00:01<00:00, 107.90it/s]\n",
      "100%|██████████| 32/32 [00:00<00:00, 228.86it/s]\n",
      "100%|██████████| 125/125 [00:01<00:00, 108.31it/s]\n",
      "100%|██████████| 32/32 [00:00<00:00, 241.09it/s]\n",
      "100%|██████████| 125/125 [00:01<00:00, 109.01it/s]\n",
      "100%|██████████| 32/32 [00:00<00:00, 221.62it/s]\n",
      "100%|██████████| 125/125 [00:01<00:00, 109.73it/s]\n",
      "100%|██████████| 32/32 [00:00<00:00, 241.98it/s]\n",
      "100%|██████████| 125/125 [00:01<00:00, 109.49it/s]\n",
      "100%|██████████| 32/32 [00:00<00:00, 195.01it/s]\n",
      "[I 2024-06-01 19:20:39,273] Trial 11 finished with value: 1679.9676895141602 and parameters: {'hidden_width': 127, 'hidden_layers': 30, 'learning_rate': 0.0009843592779697876, 'optimizer': 'RMSprop', 'batch_size': 64}. Best is trial 2 with value: 1678.263614654541.\n",
      "100%|██████████| 125/125 [00:01<00:00, 124.56it/s]\n",
      "100%|██████████| 32/32 [00:00<00:00, 274.86it/s]\n",
      "100%|██████████| 125/125 [00:01<00:00, 117.07it/s]\n",
      "100%|██████████| 32/32 [00:00<00:00, 227.30it/s]\n",
      "100%|██████████| 125/125 [00:00<00:00, 129.08it/s]\n",
      "100%|██████████| 32/32 [00:00<00:00, 299.84it/s]\n",
      "100%|██████████| 125/125 [00:00<00:00, 125.68it/s]\n",
      "100%|██████████| 32/32 [00:00<00:00, 254.60it/s]\n",
      "100%|██████████| 125/125 [00:01<00:00, 117.47it/s]\n",
      "100%|██████████| 32/32 [00:00<00:00, 267.28it/s]\n",
      "100%|██████████| 125/125 [00:00<00:00, 133.16it/s]\n",
      "100%|██████████| 32/32 [00:00<00:00, 264.06it/s]\n",
      "100%|██████████| 125/125 [00:00<00:00, 138.63it/s]\n",
      "100%|██████████| 32/32 [00:00<00:00, 275.67it/s]\n",
      "100%|██████████| 125/125 [00:00<00:00, 135.06it/s]\n",
      "100%|██████████| 32/32 [00:00<00:00, 302.51it/s]\n",
      "100%|██████████| 125/125 [00:01<00:00, 123.52it/s]\n",
      "100%|██████████| 32/32 [00:00<00:00, 196.00it/s]\n",
      "100%|██████████| 125/125 [00:00<00:00, 133.06it/s]\n",
      "100%|██████████| 32/32 [00:00<00:00, 278.28it/s]\n",
      "[I 2024-06-01 19:20:54,208] Trial 12 finished with value: 1682.398365020752 and parameters: {'hidden_width': 128, 'hidden_layers': 22, 'learning_rate': 0.0006453624146949263, 'optimizer': 'RMSprop', 'batch_size': 64}. Best is trial 2 with value: 1678.263614654541.\n",
      "100%|██████████| 125/125 [00:01<00:00, 119.92it/s]\n",
      "100%|██████████| 32/32 [00:00<00:00, 247.17it/s]\n",
      "100%|██████████| 125/125 [00:01<00:00, 113.09it/s]\n",
      "100%|██████████| 32/32 [00:00<00:00, 237.31it/s]\n",
      "100%|██████████| 125/125 [00:00<00:00, 126.61it/s]\n",
      "100%|██████████| 32/32 [00:00<00:00, 259.94it/s]\n",
      "100%|██████████| 125/125 [00:00<00:00, 131.17it/s]\n",
      "100%|██████████| 32/32 [00:00<00:00, 246.30it/s]\n",
      "100%|██████████| 125/125 [00:00<00:00, 130.38it/s]\n",
      "100%|██████████| 32/32 [00:00<00:00, 232.73it/s]\n",
      "100%|██████████| 125/125 [00:01<00:00, 122.00it/s]\n",
      "100%|██████████| 32/32 [00:00<00:00, 267.51it/s]\n",
      "100%|██████████| 125/125 [00:00<00:00, 130.62it/s]\n",
      "100%|██████████| 32/32 [00:00<00:00, 254.74it/s]\n",
      "100%|██████████| 125/125 [00:01<00:00, 114.72it/s]\n",
      "100%|██████████| 32/32 [00:00<00:00, 266.46it/s]\n",
      "100%|██████████| 125/125 [00:01<00:00, 123.64it/s]\n",
      "100%|██████████| 32/32 [00:00<00:00, 282.59it/s]\n",
      "100%|██████████| 125/125 [00:00<00:00, 128.60it/s]\n",
      "100%|██████████| 32/32 [00:00<00:00, 256.54it/s]\n",
      "[I 2024-06-01 19:21:09,069] Trial 13 finished with value: 1689.482479095459 and parameters: {'hidden_width': 103, 'hidden_layers': 26, 'learning_rate': 0.01380574549466456, 'optimizer': 'RMSprop', 'batch_size': 64}. Best is trial 2 with value: 1678.263614654541.\n",
      "100%|██████████| 125/125 [00:01<00:00, 117.04it/s]\n",
      "100%|██████████| 32/32 [00:00<00:00, 244.05it/s]\n",
      "[I 2024-06-01 19:21:10,632] Trial 14 pruned. \n",
      "100%|██████████| 125/125 [00:00<00:00, 149.72it/s]\n",
      "100%|██████████| 32/32 [00:00<00:00, 288.84it/s]\n",
      "100%|██████████| 125/125 [00:00<00:00, 167.04it/s]\n",
      "100%|██████████| 32/32 [00:00<00:00, 335.63it/s]\n",
      "100%|██████████| 125/125 [00:00<00:00, 177.60it/s]\n",
      "100%|██████████| 32/32 [00:00<00:00, 329.83it/s]\n",
      "100%|██████████| 125/125 [00:00<00:00, 179.98it/s]\n",
      "100%|██████████| 32/32 [00:00<00:00, 330.62it/s]\n",
      "100%|██████████| 125/125 [00:00<00:00, 187.70it/s]\n",
      "100%|██████████| 32/32 [00:00<00:00, 320.11it/s]\n",
      "100%|██████████| 125/125 [00:00<00:00, 184.45it/s]\n",
      "100%|██████████| 32/32 [00:00<00:00, 358.87it/s]\n",
      "100%|██████████| 125/125 [00:00<00:00, 194.60it/s]\n",
      "100%|██████████| 32/32 [00:00<00:00, 354.31it/s]\n",
      "100%|██████████| 125/125 [00:00<00:00, 191.94it/s]\n",
      "100%|██████████| 32/32 [00:00<00:00, 352.66it/s]\n",
      "100%|██████████| 125/125 [00:00<00:00, 198.47it/s]\n",
      "100%|██████████| 32/32 [00:00<00:00, 355.50it/s]\n",
      "100%|██████████| 125/125 [00:00<00:00, 194.13it/s]\n",
      "100%|██████████| 32/32 [00:00<00:00, 301.68it/s]\n",
      "[I 2024-06-01 19:21:22,046] Trial 15 finished with value: 1678.698860168457 and parameters: {'hidden_width': 92, 'hidden_layers': 13, 'learning_rate': 0.0037747492051971305, 'optimizer': 'RMSprop', 'batch_size': 64}. Best is trial 2 with value: 1678.263614654541.\n",
      "100%|██████████| 125/125 [00:00<00:00, 154.31it/s]\n",
      "100%|██████████| 32/32 [00:00<00:00, 350.04it/s]\n",
      "100%|██████████| 125/125 [00:00<00:00, 177.13it/s]\n",
      "100%|██████████| 32/32 [00:00<00:00, 332.09it/s]\n",
      "100%|██████████| 125/125 [00:00<00:00, 167.12it/s]\n",
      "100%|██████████| 32/32 [00:00<00:00, 351.44it/s]\n",
      "100%|██████████| 125/125 [00:00<00:00, 172.22it/s]\n",
      "100%|██████████| 32/32 [00:00<00:00, 364.34it/s]\n",
      "100%|██████████| 125/125 [00:00<00:00, 177.26it/s]\n",
      "100%|██████████| 32/32 [00:00<00:00, 326.85it/s]\n",
      "100%|██████████| 125/125 [00:00<00:00, 168.74it/s]\n",
      "100%|██████████| 32/32 [00:00<00:00, 231.40it/s]\n",
      "100%|██████████| 125/125 [00:00<00:00, 149.75it/s]\n",
      "100%|██████████| 32/32 [00:00<00:00, 307.03it/s]\n",
      "100%|██████████| 125/125 [00:00<00:00, 130.76it/s]\n",
      "100%|██████████| 32/32 [00:00<00:00, 301.40it/s]\n",
      "100%|██████████| 125/125 [00:00<00:00, 162.78it/s]\n",
      "100%|██████████| 32/32 [00:00<00:00, 314.84it/s]\n",
      "100%|██████████| 125/125 [00:00<00:00, 160.68it/s]\n",
      "100%|██████████| 32/32 [00:00<00:00, 304.38it/s]\n",
      "[I 2024-06-01 19:21:34,362] Trial 16 finished with value: 1676.4805450439453 and parameters: {'hidden_width': 89, 'hidden_layers': 13, 'learning_rate': 0.008440304619980419, 'optimizer': 'Adam', 'batch_size': 64}. Best is trial 16 with value: 1676.4805450439453.\n",
      "100%|██████████| 250/250 [00:01<00:00, 187.85it/s]\n",
      "100%|██████████| 63/63 [00:00<00:00, 330.89it/s]\n",
      "[I 2024-06-01 19:21:36,270] Trial 17 pruned. \n",
      "100%|██████████| 32/32 [00:00<00:00, 113.41it/s]\n",
      "100%|██████████| 8/8 [00:00<00:00, 138.56it/s]\n",
      "[I 2024-06-01 19:21:37,010] Trial 18 pruned. \n",
      "100%|██████████| 125/125 [00:00<00:00, 153.52it/s]\n",
      "100%|██████████| 32/32 [00:00<00:00, 288.28it/s]\n",
      "[I 2024-06-01 19:21:38,328] Trial 19 pruned. \n",
      "100%|██████████| 125/125 [00:00<00:00, 187.20it/s]\n",
      "100%|██████████| 32/32 [00:00<00:00, 320.22it/s]\n",
      "/home/strongich/miniconda3/envs/main/lib/python3.11/site-packages/optuna/pruners/_percentile.py:20: RuntimeWarning: All-NaN slice encountered\n",
      "  return np.nanmin(values)\n",
      "[I 2024-06-01 19:21:39,475] Trial 20 pruned. \n",
      "100%|██████████| 125/125 [00:01<00:00, 114.01it/s]\n",
      "100%|██████████| 32/32 [00:00<00:00, 310.10it/s]\n",
      "[I 2024-06-01 19:21:41,082] Trial 21 pruned. \n",
      "100%|██████████| 125/125 [00:00<00:00, 171.06it/s]\n",
      "100%|██████████| 32/32 [00:00<00:00, 316.49it/s]\n",
      "[I 2024-06-01 19:21:42,269] Trial 22 pruned. \n",
      "100%|██████████| 125/125 [00:00<00:00, 157.12it/s]\n",
      "100%|██████████| 32/32 [00:00<00:00, 262.91it/s]\n",
      "100%|██████████| 125/125 [00:00<00:00, 153.61it/s]\n",
      "100%|██████████| 32/32 [00:00<00:00, 343.32it/s]\n",
      "100%|██████████| 125/125 [00:00<00:00, 166.02it/s]\n",
      "100%|██████████| 32/32 [00:00<00:00, 294.01it/s]\n",
      "100%|██████████| 125/125 [00:00<00:00, 172.33it/s]\n",
      "100%|██████████| 32/32 [00:00<00:00, 300.40it/s]\n",
      "100%|██████████| 125/125 [00:00<00:00, 176.79it/s]\n",
      "100%|██████████| 32/32 [00:00<00:00, 280.55it/s]\n",
      "100%|██████████| 125/125 [00:00<00:00, 167.28it/s]\n",
      "100%|██████████| 32/32 [00:00<00:00, 320.81it/s]\n",
      "100%|██████████| 125/125 [00:00<00:00, 169.48it/s]\n",
      "100%|██████████| 32/32 [00:00<00:00, 305.32it/s]\n",
      "100%|██████████| 125/125 [00:00<00:00, 170.32it/s]\n",
      "100%|██████████| 32/32 [00:00<00:00, 302.05it/s]\n",
      "100%|██████████| 125/125 [00:00<00:00, 167.85it/s]\n",
      "100%|██████████| 32/32 [00:00<00:00, 301.31it/s]\n",
      "100%|██████████| 125/125 [00:00<00:00, 167.37it/s]\n",
      "100%|██████████| 32/32 [00:00<00:00, 194.48it/s]\n",
      "[I 2024-06-01 19:21:54,628] Trial 23 finished with value: 1678.8847694396973 and parameters: {'hidden_width': 102, 'hidden_layers': 14, 'learning_rate': 0.0001376627415450259, 'optimizer': 'RMSprop', 'batch_size': 64}. Best is trial 16 with value: 1676.4805450439453.\n",
      "100%|██████████| 125/125 [00:00<00:00, 147.32it/s]\n",
      "100%|██████████| 32/32 [00:00<00:00, 263.23it/s]\n",
      "[I 2024-06-01 19:21:55,985] Trial 24 pruned. \n",
      "100%|██████████| 125/125 [00:00<00:00, 173.56it/s]\n",
      "100%|██████████| 32/32 [00:00<00:00, 308.26it/s]\n",
      "100%|██████████| 125/125 [00:00<00:00, 172.07it/s]\n",
      "100%|██████████| 32/32 [00:00<00:00, 306.99it/s]\n",
      "100%|██████████| 125/125 [00:00<00:00, 166.93it/s]\n",
      "100%|██████████| 32/32 [00:00<00:00, 302.29it/s]\n",
      "100%|██████████| 125/125 [00:00<00:00, 161.10it/s]\n",
      "100%|██████████| 32/32 [00:00<00:00, 312.25it/s]\n",
      "100%|██████████| 125/125 [00:00<00:00, 169.32it/s]\n",
      "100%|██████████| 32/32 [00:00<00:00, 336.81it/s]\n",
      "100%|██████████| 125/125 [00:00<00:00, 166.94it/s]\n",
      "100%|██████████| 32/32 [00:00<00:00, 277.92it/s]\n",
      "100%|██████████| 125/125 [00:00<00:00, 170.92it/s]\n",
      "100%|██████████| 32/32 [00:00<00:00, 308.71it/s]\n",
      "100%|██████████| 125/125 [00:00<00:00, 164.73it/s]\n",
      "100%|██████████| 32/32 [00:00<00:00, 316.53it/s]\n",
      "100%|██████████| 125/125 [00:00<00:00, 168.42it/s]\n",
      "100%|██████████| 32/32 [00:00<00:00, 312.81it/s]\n",
      "100%|██████████| 125/125 [00:00<00:00, 170.21it/s]\n",
      "100%|██████████| 32/32 [00:00<00:00, 332.01it/s]\n",
      "[I 2024-06-01 19:22:07,978] Trial 25 finished with value: 1681.3299102783203 and parameters: {'hidden_width': 97, 'hidden_layers': 13, 'learning_rate': 0.002415527264390723, 'optimizer': 'Adam', 'batch_size': 64}. Best is trial 16 with value: 1676.4805450439453.\n",
      "100%|██████████| 250/250 [00:02<00:00, 110.01it/s]\n",
      "100%|██████████| 63/63 [00:00<00:00, 346.21it/s]\n",
      "[I 2024-06-01 19:22:10,803] Trial 26 pruned. \n",
      "100%|██████████| 32/32 [00:00<00:00, 126.55it/s]\n",
      "100%|██████████| 8/8 [00:00<00:00, 132.02it/s]\n",
      "[I 2024-06-01 19:22:11,509] Trial 27 pruned. \n",
      "100%|██████████| 63/63 [00:00<00:00, 172.07it/s]\n",
      "100%|██████████| 16/16 [00:00<00:00, 235.03it/s]\n",
      "[I 2024-06-01 19:22:12,347] Trial 28 pruned. \n",
      "100%|██████████| 32/32 [00:00<00:00, 99.19it/s] \n",
      "100%|██████████| 8/8 [00:00<00:00, 129.51it/s]\n",
      "[I 2024-06-01 19:22:13,121] Trial 29 pruned. \n"
     ]
    },
    {
     "name": "stdout",
     "output_type": "stream",
     "text": [
      "Study statistics: \n",
      "  Number of finished trials: 30\n",
      "  Number of pruned trials: 15\n",
      "  Number of complete trials: 15\n",
      "Best trial:\n",
      "  Value: 1676.4805450439453\n",
      "  Params: \n",
      "    hidden_width: 89\n",
      "    hidden_layers: 13\n",
      "    learning_rate: 0.008440304619980419\n",
      "    optimizer: Adam\n",
      "    batch_size: 64\n"
     ]
    }
   ],
   "source": [
    "import torch\n",
    "from torch.optim.lr_scheduler import CosineAnnealingLR\n",
    "import torch.nn as nn\n",
    "from torch.utils.data import DataLoader\n",
    "import numpy as np\n",
    "import optuna\n",
    "from optuna.trial import TrialState\n",
    "from tqdm import tqdm\n",
    "\n",
    "\n",
    "# Define the model\n",
    "class AmericanPut_gated3(nn.Module):\n",
    "    def __init__(self, N_INPUT, N_OUTPUT, N_HIDDEN, N_LAYERS):\n",
    "        super(AmericanPut_gated3, self).__init__()\n",
    "        self.N_HIDDEN = N_HIDDEN\n",
    "        self.activation1 = nn.LeakyReLU(negative_slope=0.2)\n",
    "        self.activation2 = nn.Tanh()\n",
    "        self.fcs1 = nn.Sequential(nn.Linear(N_INPUT, N_HIDDEN), self.activation2)\n",
    "        self.fcs2 = nn.Sequential(nn.Linear(N_INPUT, N_OUTPUT), self.activation2)\n",
    "        self.fch = nn.Sequential(\n",
    "            *[\n",
    "                nn.Sequential(nn.Linear(N_HIDDEN, N_HIDDEN), self.activation2)\n",
    "                for _ in range(N_LAYERS)\n",
    "            ]\n",
    "        )\n",
    "        self.fce = nn.Sequential(*[nn.Linear(N_HIDDEN, N_OUTPUT)])\n",
    "        self.w1_layer = nn.Sequential(\n",
    "            *[nn.Linear(N_HIDDEN + N_INPUT, N_OUTPUT), self.activation2]\n",
    "        )\n",
    "        # self.w2_layer = nn.Sequential(*[nn.Linear(N_HIDDEN + N_INPUT, N_OUTPUT),self.activation2])\n",
    "\n",
    "    def forward(self, x):\n",
    "        # Apply the first layer\n",
    "        I1 = self.fcs1(x)\n",
    "        H = I1\n",
    "        # Apply hidden layers with residual connections\n",
    "        for layer in self.fch:\n",
    "            H = layer(H) + H\n",
    "        # Apply the final layer\n",
    "        yx = self.fcs2(x)  # 1D\n",
    "        yh = self.fce(H)  # 1D\n",
    "        h_x = torch.cat([H, x], axis=1)\n",
    "        # print (h_x.shape)\n",
    "        wh = self.w1_layer(h_x)\n",
    "        y_net = yx + wh * yh\n",
    "        return y_net\n",
    "\n",
    "\n",
    "# Objective function for Optuna\n",
    "def objective(trial):\n",
    "    # Hyperparameters to tune\n",
    "    hidden_width = trial.suggest_int(\"hidden_width\", 32, 128)\n",
    "    hidden_layers = trial.suggest_int(\"hidden_layers\", 10, 30)\n",
    "    learning_rate = trial.suggest_loguniform(\"learning_rate\", 2e-8, 1e-1)\n",
    "    optimizer_name = trial.suggest_categorical(\n",
    "        \"optimizer\", [\"SGD\", \"RMSprop\", \"Adam\", \"Adamax\"]\n",
    "    )\n",
    "    batch_size = trial.suggest_categorical(\"batch_size\", [32, 64, 128, 256])\n",
    "\n",
    "    # Create the model\n",
    "    model = AmericanPut_gated3(5, 1, hidden_width, hidden_layers).to(DEVICE)\n",
    "\n",
    "    # Create the optimizer\n",
    "    optimizers_list = {\n",
    "        \"SGD\": torch.optim.SGD(model.parameters(), lr=learning_rate, momentum=0.7),\n",
    "        \"RMSprop\": torch.optim.RMSprop(model.parameters(), lr=learning_rate),\n",
    "        \"Adam\": torch.optim.Adam(model.parameters(), lr=learning_rate),\n",
    "        \"Adamax\": torch.optim.Adamax(\n",
    "            model.parameters(), lr=learning_rate, betas=(0.9, 0.99)\n",
    "        ),\n",
    "    }\n",
    "    optimizer = optimizers_list[optimizer_name]\n",
    "\n",
    "    # Define the ReduceLROnPlateau scheduler\n",
    "    N_EPOCH = 10\n",
    "    scheduler = CosineAnnealingLR(optimizer, T_max=N_EPOCH, eta_min=0)\n",
    "    # scheduler = ReduceLROnPlateau(optimizer, mode=\"min\", patience=5, verbose=True)\n",
    "\n",
    "    criteriation = nn.MSELoss()\n",
    "\n",
    "    # Create the dataloaders\n",
    "    train_dataloader = DataLoader(\n",
    "        train_df, batch_size=batch_size, shuffle=True, num_workers=8\n",
    "    )\n",
    "    val_dataloader = DataLoader(\n",
    "        val_df, batch_size=batch_size, shuffle=False, num_workers=8\n",
    "    )\n",
    "\n",
    "    # Training loop\n",
    "    N_EPOCH = 10  # or some other number of epochs\n",
    "    for epoch in range(N_EPOCH):\n",
    "        train_loss = train_model(\n",
    "            model, train_dataloader, optimizer, scheduler, criteriation, DEVICE\n",
    "        )\n",
    "        val_loss = validate_model(model, val_dataloader, criteriation, DEVICE)\n",
    "\n",
    "        # Report intermediate results to Optuna\n",
    "        trial.report(val_loss, epoch)\n",
    "\n",
    "        # Handle pruning based on the intermediate value\n",
    "        if trial.should_prune():\n",
    "            raise optuna.exceptions.TrialPruned()\n",
    "\n",
    "    return val_loss\n",
    "\n",
    "\n",
    "# Run the optimization\n",
    "study = optuna.create_study(direction=\"minimize\")\n",
    "study.optimize(objective, n_trials=30, timeout=600)\n",
    "\n",
    "pruned_trials = [t for t in study.trials if t.state == TrialState.PRUNED]\n",
    "complete_trials = [t for t in study.trials if t.state == TrialState.COMPLETE]\n",
    "\n",
    "print(f\"Study statistics: \")\n",
    "print(f\"  Number of finished trials: {len(study.trials)}\")\n",
    "print(f\"  Number of pruned trials: {len(pruned_trials)}\")\n",
    "print(f\"  Number of complete trials: {len(complete_trials)}\")\n",
    "\n",
    "print(f\"Best trial:\")\n",
    "trial = study.best_trial\n",
    "\n",
    "print(f\"  Value: {trial.value}\")\n",
    "\n",
    "print(f\"  Params: \")\n",
    "for key, value in trial.params.items():\n",
    "    print(f\"    {key}: {value}\")\n",
    "\n",
    "# Use the best hyperparameters to train your final model\n",
    "best_hidden_width = trial.params[\"hidden_width\"]\n",
    "best_hidden_layers = trial.params[\"hidden_layers\"]\n",
    "best_learning_rate = trial.params[\"learning_rate\"]\n",
    "best_optimizer_name = trial.params[\"optimizer\"]\n",
    "best_batch_size = trial.params[\"batch_size\"]"
   ]
  },
  {
   "cell_type": "code",
   "execution_count": 13,
   "metadata": {},
   "outputs": [
    {
     "name": "stdout",
     "output_type": "stream",
     "text": [
      "Optimizer: SGD\n"
     ]
    },
    {
     "name": "stderr",
     "output_type": "stream",
     "text": [
      "100%|██████████| 125/125 [00:01<00:00, 117.63it/s]\n",
      "100%|██████████| 32/32 [00:00<00:00, 195.75it/s]"
     ]
    },
    {
     "name": "stdout",
     "output_type": "stream",
     "text": [
      "Epoch 1, train loss: 21919.1444, val loss: 5030.0464\n"
     ]
    },
    {
     "name": "stderr",
     "output_type": "stream",
     "text": [
      "\n",
      "100%|██████████| 125/125 [00:00<00:00, 138.18it/s]\n",
      "100%|██████████| 32/32 [00:00<00:00, 252.77it/s]"
     ]
    },
    {
     "name": "stdout",
     "output_type": "stream",
     "text": [
      "Epoch 2, train loss: 4167.4761, val loss: 3397.0937\n"
     ]
    },
    {
     "name": "stderr",
     "output_type": "stream",
     "text": [
      "\n",
      "100%|██████████| 125/125 [00:00<00:00, 140.52it/s]\n",
      "100%|██████████| 32/32 [00:00<00:00, 237.88it/s]"
     ]
    },
    {
     "name": "stdout",
     "output_type": "stream",
     "text": [
      "Epoch 3, train loss: 3025.8846, val loss: 2826.1871\n"
     ]
    },
    {
     "name": "stderr",
     "output_type": "stream",
     "text": [
      "\n",
      "100%|██████████| 125/125 [00:00<00:00, 138.32it/s]\n",
      "100%|██████████| 32/32 [00:00<00:00, 230.18it/s]"
     ]
    },
    {
     "name": "stdout",
     "output_type": "stream",
     "text": [
      "Epoch 4, train loss: 2544.1665, val loss: 2589.4145\n"
     ]
    },
    {
     "name": "stderr",
     "output_type": "stream",
     "text": [
      "\n",
      "100%|██████████| 125/125 [00:00<00:00, 135.31it/s]\n",
      "100%|██████████| 32/32 [00:00<00:00, 212.21it/s]"
     ]
    },
    {
     "name": "stdout",
     "output_type": "stream",
     "text": [
      "Epoch 5, train loss: 2355.1121, val loss: 2255.3316\n"
     ]
    },
    {
     "name": "stderr",
     "output_type": "stream",
     "text": [
      "\n",
      "100%|██████████| 125/125 [00:00<00:00, 135.10it/s]\n",
      "100%|██████████| 32/32 [00:00<00:00, 207.46it/s]"
     ]
    },
    {
     "name": "stdout",
     "output_type": "stream",
     "text": [
      "Epoch 6, train loss: 2275.1824, val loss: 2173.9293\n"
     ]
    },
    {
     "name": "stderr",
     "output_type": "stream",
     "text": [
      "\n",
      "100%|██████████| 125/125 [00:00<00:00, 130.65it/s]\n",
      "100%|██████████| 32/32 [00:00<00:00, 236.52it/s]"
     ]
    },
    {
     "name": "stdout",
     "output_type": "stream",
     "text": [
      "Epoch 7, train loss: 2278.3793, val loss: 2357.8246\n"
     ]
    },
    {
     "name": "stderr",
     "output_type": "stream",
     "text": [
      "\n",
      "100%|██████████| 125/125 [00:00<00:00, 139.01it/s]\n",
      "100%|██████████| 32/32 [00:00<00:00, 236.86it/s]"
     ]
    },
    {
     "name": "stdout",
     "output_type": "stream",
     "text": [
      "Epoch 8, train loss: 2314.6813, val loss: 2416.3342\n"
     ]
    },
    {
     "name": "stderr",
     "output_type": "stream",
     "text": [
      "\n",
      "100%|██████████| 125/125 [00:00<00:00, 137.33it/s]\n",
      "100%|██████████| 32/32 [00:00<00:00, 253.63it/s]"
     ]
    },
    {
     "name": "stdout",
     "output_type": "stream",
     "text": [
      "Epoch 9, train loss: 2330.7085, val loss: 2414.6612\n"
     ]
    },
    {
     "name": "stderr",
     "output_type": "stream",
     "text": [
      "\n",
      "100%|██████████| 125/125 [00:00<00:00, 135.90it/s]\n",
      "100%|██████████| 32/32 [00:00<00:00, 258.66it/s]"
     ]
    },
    {
     "name": "stdout",
     "output_type": "stream",
     "text": [
      "Epoch 10, train loss: 2349.2208, val loss: 2824.9003\n"
     ]
    },
    {
     "name": "stderr",
     "output_type": "stream",
     "text": [
      "\n",
      "100%|██████████| 125/125 [00:00<00:00, 139.50it/s]\n",
      "100%|██████████| 32/32 [00:00<00:00, 272.25it/s]"
     ]
    },
    {
     "name": "stdout",
     "output_type": "stream",
     "text": [
      "Epoch 11, train loss: 2280.7579, val loss: 2304.0027\n"
     ]
    },
    {
     "name": "stderr",
     "output_type": "stream",
     "text": [
      "\n",
      "100%|██████████| 125/125 [00:00<00:00, 139.47it/s]\n",
      "100%|██████████| 32/32 [00:00<00:00, 262.48it/s]"
     ]
    },
    {
     "name": "stdout",
     "output_type": "stream",
     "text": [
      "Epoch 12, train loss: 2234.1537, val loss: 2274.6973\n"
     ]
    },
    {
     "name": "stderr",
     "output_type": "stream",
     "text": [
      "\n",
      "100%|██████████| 125/125 [00:00<00:00, 141.24it/s]\n",
      "100%|██████████| 32/32 [00:00<00:00, 243.83it/s]"
     ]
    },
    {
     "name": "stdout",
     "output_type": "stream",
     "text": [
      "Epoch 13, train loss: 2334.1217, val loss: 2401.6345\n"
     ]
    },
    {
     "name": "stderr",
     "output_type": "stream",
     "text": [
      "\n",
      "100%|██████████| 125/125 [00:00<00:00, 139.60it/s]\n",
      "100%|██████████| 32/32 [00:00<00:00, 267.59it/s]"
     ]
    },
    {
     "name": "stdout",
     "output_type": "stream",
     "text": [
      "Epoch 14, train loss: 2303.9141, val loss: 2209.9328\n"
     ]
    },
    {
     "name": "stderr",
     "output_type": "stream",
     "text": [
      "\n",
      "100%|██████████| 125/125 [00:00<00:00, 133.23it/s]\n",
      "100%|██████████| 32/32 [00:00<00:00, 261.27it/s]"
     ]
    },
    {
     "name": "stdout",
     "output_type": "stream",
     "text": [
      "Epoch 15, train loss: 2225.9108, val loss: 2438.1306\n"
     ]
    },
    {
     "name": "stderr",
     "output_type": "stream",
     "text": [
      "\n",
      "100%|██████████| 125/125 [00:00<00:00, 130.02it/s]\n",
      "100%|██████████| 32/32 [00:00<00:00, 286.20it/s]"
     ]
    },
    {
     "name": "stdout",
     "output_type": "stream",
     "text": [
      "Epoch 16, train loss: 2244.1662, val loss: 2216.5402\n"
     ]
    },
    {
     "name": "stderr",
     "output_type": "stream",
     "text": [
      "\n",
      "100%|██████████| 125/125 [00:00<00:00, 140.57it/s]\n",
      "100%|██████████| 32/32 [00:00<00:00, 215.02it/s]"
     ]
    },
    {
     "name": "stdout",
     "output_type": "stream",
     "text": [
      "Epoch 17, train loss: 2265.3975, val loss: 2166.8751\n"
     ]
    },
    {
     "name": "stderr",
     "output_type": "stream",
     "text": [
      "\n",
      "100%|██████████| 125/125 [00:00<00:00, 134.36it/s]\n",
      "100%|██████████| 32/32 [00:00<00:00, 234.15it/s]"
     ]
    },
    {
     "name": "stdout",
     "output_type": "stream",
     "text": [
      "Epoch 18, train loss: 2196.4128, val loss: 2149.0398\n"
     ]
    },
    {
     "name": "stderr",
     "output_type": "stream",
     "text": [
      "\n",
      "100%|██████████| 125/125 [00:00<00:00, 137.50it/s]\n",
      "100%|██████████| 32/32 [00:00<00:00, 277.53it/s]"
     ]
    },
    {
     "name": "stdout",
     "output_type": "stream",
     "text": [
      "Epoch 19, train loss: 2117.9440, val loss: 2064.7116\n"
     ]
    },
    {
     "name": "stderr",
     "output_type": "stream",
     "text": [
      "\n",
      "100%|██████████| 125/125 [00:01<00:00, 120.14it/s]\n",
      "100%|██████████| 32/32 [00:00<00:00, 265.20it/s]"
     ]
    },
    {
     "name": "stdout",
     "output_type": "stream",
     "text": [
      "Epoch 20, train loss: 2081.8496, val loss: 2319.2195\n"
     ]
    },
    {
     "name": "stderr",
     "output_type": "stream",
     "text": [
      "\n",
      "100%|██████████| 125/125 [00:00<00:00, 139.07it/s]\n",
      "100%|██████████| 32/32 [00:00<00:00, 269.88it/s]"
     ]
    },
    {
     "name": "stdout",
     "output_type": "stream",
     "text": [
      "Epoch 21, train loss: 2094.5630, val loss: 2126.5518\n"
     ]
    },
    {
     "name": "stderr",
     "output_type": "stream",
     "text": [
      "\n",
      "100%|██████████| 125/125 [00:00<00:00, 128.49it/s]\n",
      "100%|██████████| 32/32 [00:00<00:00, 228.34it/s]"
     ]
    },
    {
     "name": "stdout",
     "output_type": "stream",
     "text": [
      "Epoch 22, train loss: 2059.3965, val loss: 2020.5316\n"
     ]
    },
    {
     "name": "stderr",
     "output_type": "stream",
     "text": [
      "\n",
      "100%|██████████| 125/125 [00:00<00:00, 138.41it/s]\n",
      "100%|██████████| 32/32 [00:00<00:00, 251.24it/s]"
     ]
    },
    {
     "name": "stdout",
     "output_type": "stream",
     "text": [
      "Epoch 23, train loss: 1991.4441, val loss: 2075.6472\n"
     ]
    },
    {
     "name": "stderr",
     "output_type": "stream",
     "text": [
      "\n",
      "100%|██████████| 125/125 [00:00<00:00, 145.93it/s]\n",
      "100%|██████████| 32/32 [00:00<00:00, 291.88it/s]"
     ]
    },
    {
     "name": "stdout",
     "output_type": "stream",
     "text": [
      "Epoch 24, train loss: 1974.1749, val loss: 2065.7163\n"
     ]
    },
    {
     "name": "stderr",
     "output_type": "stream",
     "text": [
      "\n",
      "100%|██████████| 125/125 [00:00<00:00, 136.16it/s]\n",
      "100%|██████████| 32/32 [00:00<00:00, 294.64it/s]"
     ]
    },
    {
     "name": "stdout",
     "output_type": "stream",
     "text": [
      "Epoch 25, train loss: 1949.7827, val loss: 2187.6743\n"
     ]
    },
    {
     "name": "stderr",
     "output_type": "stream",
     "text": [
      "\n",
      "100%|██████████| 125/125 [00:00<00:00, 139.78it/s]\n",
      "100%|██████████| 32/32 [00:00<00:00, 242.07it/s]"
     ]
    },
    {
     "name": "stdout",
     "output_type": "stream",
     "text": [
      "Epoch 26, train loss: 2005.1050, val loss: 2139.8066\n"
     ]
    },
    {
     "name": "stderr",
     "output_type": "stream",
     "text": [
      "\n",
      "100%|██████████| 125/125 [00:00<00:00, 142.93it/s]\n",
      "100%|██████████| 32/32 [00:00<00:00, 239.86it/s]"
     ]
    },
    {
     "name": "stdout",
     "output_type": "stream",
     "text": [
      "Epoch 27, train loss: 2014.3963, val loss: 1996.6257\n"
     ]
    },
    {
     "name": "stderr",
     "output_type": "stream",
     "text": [
      "\n",
      "100%|██████████| 125/125 [00:00<00:00, 140.40it/s]\n",
      "100%|██████████| 32/32 [00:00<00:00, 194.50it/s]"
     ]
    },
    {
     "name": "stdout",
     "output_type": "stream",
     "text": [
      "Epoch 28, train loss: 2005.2472, val loss: 2045.7846\n"
     ]
    },
    {
     "name": "stderr",
     "output_type": "stream",
     "text": [
      "\n",
      "100%|██████████| 125/125 [00:00<00:00, 137.71it/s]\n",
      "100%|██████████| 32/32 [00:00<00:00, 215.92it/s]"
     ]
    },
    {
     "name": "stdout",
     "output_type": "stream",
     "text": [
      "Epoch 29, train loss: 2025.9451, val loss: 2063.6735\n"
     ]
    },
    {
     "name": "stderr",
     "output_type": "stream",
     "text": [
      "\n",
      "100%|██████████| 125/125 [00:00<00:00, 138.61it/s]\n",
      "100%|██████████| 32/32 [00:00<00:00, 264.54it/s]"
     ]
    },
    {
     "name": "stdout",
     "output_type": "stream",
     "text": [
      "Epoch 30, train loss: 2059.1870, val loss: 2061.6656\n"
     ]
    },
    {
     "name": "stderr",
     "output_type": "stream",
     "text": [
      "\n",
      "100%|██████████| 125/125 [00:00<00:00, 128.50it/s]\n",
      "100%|██████████| 32/32 [00:00<00:00, 274.52it/s]"
     ]
    },
    {
     "name": "stdout",
     "output_type": "stream",
     "text": [
      "Epoch 31, train loss: 2045.2071, val loss: 2062.5470\n"
     ]
    },
    {
     "name": "stderr",
     "output_type": "stream",
     "text": [
      "\n",
      "100%|██████████| 125/125 [00:00<00:00, 140.51it/s]\n",
      "100%|██████████| 32/32 [00:00<00:00, 234.89it/s]"
     ]
    },
    {
     "name": "stdout",
     "output_type": "stream",
     "text": [
      "Epoch 32, train loss: 2020.9982, val loss: 2069.1249\n"
     ]
    },
    {
     "name": "stderr",
     "output_type": "stream",
     "text": [
      "\n",
      "100%|██████████| 125/125 [00:00<00:00, 141.43it/s]\n",
      "100%|██████████| 32/32 [00:00<00:00, 219.42it/s]"
     ]
    },
    {
     "name": "stdout",
     "output_type": "stream",
     "text": [
      "Epoch 33, train loss: 2028.7937, val loss: 2085.2696\n"
     ]
    },
    {
     "name": "stderr",
     "output_type": "stream",
     "text": [
      "\n",
      "100%|██████████| 125/125 [00:00<00:00, 136.22it/s]\n",
      "100%|██████████| 32/32 [00:00<00:00, 244.66it/s]"
     ]
    },
    {
     "name": "stdout",
     "output_type": "stream",
     "text": [
      "Epoch 34, train loss: 2043.6143, val loss: 2068.5035\n"
     ]
    },
    {
     "name": "stderr",
     "output_type": "stream",
     "text": [
      "\n",
      "100%|██████████| 125/125 [00:00<00:00, 141.06it/s]\n",
      "100%|██████████| 32/32 [00:00<00:00, 223.31it/s]"
     ]
    },
    {
     "name": "stdout",
     "output_type": "stream",
     "text": [
      "Epoch 35, train loss: 2033.4386, val loss: 2031.9752\n"
     ]
    },
    {
     "name": "stderr",
     "output_type": "stream",
     "text": [
      "\n",
      "100%|██████████| 125/125 [00:00<00:00, 141.21it/s]\n",
      "100%|██████████| 32/32 [00:00<00:00, 232.71it/s]"
     ]
    },
    {
     "name": "stdout",
     "output_type": "stream",
     "text": [
      "Epoch 36, train loss: 2022.4355, val loss: 2036.7511\n"
     ]
    },
    {
     "name": "stderr",
     "output_type": "stream",
     "text": [
      "\n",
      "100%|██████████| 125/125 [00:00<00:00, 136.60it/s]\n",
      "100%|██████████| 32/32 [00:00<00:00, 212.28it/s]"
     ]
    },
    {
     "name": "stdout",
     "output_type": "stream",
     "text": [
      "Epoch 37, train loss: 2021.5786, val loss: 2022.1839\n"
     ]
    },
    {
     "name": "stderr",
     "output_type": "stream",
     "text": [
      "\n",
      "100%|██████████| 125/125 [00:00<00:00, 137.53it/s]\n",
      "100%|██████████| 32/32 [00:00<00:00, 265.58it/s]"
     ]
    },
    {
     "name": "stdout",
     "output_type": "stream",
     "text": [
      "Epoch 38, train loss: 1992.5842, val loss: 2014.7294\n"
     ]
    },
    {
     "name": "stderr",
     "output_type": "stream",
     "text": [
      "\n",
      "100%|██████████| 125/125 [00:00<00:00, 136.88it/s]\n",
      "100%|██████████| 32/32 [00:00<00:00, 199.56it/s]"
     ]
    },
    {
     "name": "stdout",
     "output_type": "stream",
     "text": [
      "Epoch 39, train loss: 1998.2126, val loss: 2047.0619\n"
     ]
    },
    {
     "name": "stderr",
     "output_type": "stream",
     "text": [
      "\n",
      "100%|██████████| 125/125 [00:00<00:00, 139.27it/s]\n",
      "100%|██████████| 32/32 [00:00<00:00, 204.62it/s]"
     ]
    },
    {
     "name": "stdout",
     "output_type": "stream",
     "text": [
      "Epoch 40, train loss: 1980.9351, val loss: 2024.9098\n"
     ]
    },
    {
     "name": "stderr",
     "output_type": "stream",
     "text": [
      "\n",
      "100%|██████████| 125/125 [00:00<00:00, 137.96it/s]\n",
      "100%|██████████| 32/32 [00:00<00:00, 258.91it/s]"
     ]
    },
    {
     "name": "stdout",
     "output_type": "stream",
     "text": [
      "Epoch 41, train loss: 1978.3811, val loss: 2006.7430\n"
     ]
    },
    {
     "name": "stderr",
     "output_type": "stream",
     "text": [
      "\n",
      "100%|██████████| 125/125 [00:00<00:00, 139.50it/s]\n",
      "100%|██████████| 32/32 [00:00<00:00, 226.56it/s]"
     ]
    },
    {
     "name": "stdout",
     "output_type": "stream",
     "text": [
      "Epoch 42, train loss: 1977.5356, val loss: 2034.9466\n"
     ]
    },
    {
     "name": "stderr",
     "output_type": "stream",
     "text": [
      "\n",
      "100%|██████████| 125/125 [00:00<00:00, 137.69it/s]\n",
      "100%|██████████| 32/32 [00:00<00:00, 236.01it/s]"
     ]
    },
    {
     "name": "stdout",
     "output_type": "stream",
     "text": [
      "Epoch 43, train loss: 1985.9367, val loss: 2043.6345\n"
     ]
    },
    {
     "name": "stderr",
     "output_type": "stream",
     "text": [
      "\n",
      "100%|██████████| 125/125 [00:00<00:00, 142.88it/s]\n",
      "100%|██████████| 32/32 [00:00<00:00, 256.44it/s]"
     ]
    },
    {
     "name": "stdout",
     "output_type": "stream",
     "text": [
      "Epoch 44, train loss: 1981.1509, val loss: 2050.6980\n"
     ]
    },
    {
     "name": "stderr",
     "output_type": "stream",
     "text": [
      "\n",
      "100%|██████████| 125/125 [00:00<00:00, 134.77it/s]\n",
      "100%|██████████| 32/32 [00:00<00:00, 230.68it/s]"
     ]
    },
    {
     "name": "stdout",
     "output_type": "stream",
     "text": [
      "Epoch 45, train loss: 1964.2618, val loss: 2030.5139\n"
     ]
    },
    {
     "name": "stderr",
     "output_type": "stream",
     "text": [
      "\n",
      "100%|██████████| 125/125 [00:00<00:00, 139.48it/s]\n",
      "100%|██████████| 32/32 [00:00<00:00, 223.14it/s]"
     ]
    },
    {
     "name": "stdout",
     "output_type": "stream",
     "text": [
      "Epoch 46, train loss: 1965.5822, val loss: 2042.2104\n"
     ]
    },
    {
     "name": "stderr",
     "output_type": "stream",
     "text": [
      "\n",
      "100%|██████████| 125/125 [00:00<00:00, 135.86it/s]\n",
      "100%|██████████| 32/32 [00:00<00:00, 218.76it/s]"
     ]
    },
    {
     "name": "stdout",
     "output_type": "stream",
     "text": [
      "Epoch 47, train loss: 1972.0487, val loss: 2047.4384\n"
     ]
    },
    {
     "name": "stderr",
     "output_type": "stream",
     "text": [
      "\n",
      "100%|██████████| 125/125 [00:00<00:00, 142.02it/s]\n",
      "100%|██████████| 32/32 [00:00<00:00, 274.80it/s]"
     ]
    },
    {
     "name": "stdout",
     "output_type": "stream",
     "text": [
      "Epoch 48, train loss: 1968.6129, val loss: 2047.0996\n"
     ]
    },
    {
     "name": "stderr",
     "output_type": "stream",
     "text": [
      "\n",
      "100%|██████████| 125/125 [00:00<00:00, 140.67it/s]\n",
      "100%|██████████| 32/32 [00:00<00:00, 216.59it/s]"
     ]
    },
    {
     "name": "stdout",
     "output_type": "stream",
     "text": [
      "Epoch 49, train loss: 1962.5099, val loss: 2044.3122\n"
     ]
    },
    {
     "name": "stderr",
     "output_type": "stream",
     "text": [
      "\n",
      "100%|██████████| 125/125 [00:00<00:00, 147.15it/s]\n",
      "100%|██████████| 32/32 [00:00<00:00, 233.58it/s]"
     ]
    },
    {
     "name": "stdout",
     "output_type": "stream",
     "text": [
      "Epoch 50, train loss: 1960.3927, val loss: 2045.1072\n",
      "Optimizer: RMSprop\n"
     ]
    },
    {
     "name": "stderr",
     "output_type": "stream",
     "text": [
      "\n",
      "100%|██████████| 125/125 [00:01<00:00, 117.94it/s]\n",
      "100%|██████████| 32/32 [00:00<00:00, 271.75it/s]"
     ]
    },
    {
     "name": "stdout",
     "output_type": "stream",
     "text": [
      "Epoch 1, train loss: 1969.3400, val loss: 2031.1915\n"
     ]
    },
    {
     "name": "stderr",
     "output_type": "stream",
     "text": [
      "\n",
      "100%|██████████| 125/125 [00:00<00:00, 130.32it/s]\n",
      "100%|██████████| 32/32 [00:00<00:00, 234.09it/s]"
     ]
    },
    {
     "name": "stdout",
     "output_type": "stream",
     "text": [
      "Epoch 2, train loss: 1959.1805, val loss: 2026.9936\n"
     ]
    },
    {
     "name": "stderr",
     "output_type": "stream",
     "text": [
      "\n",
      "100%|██████████| 125/125 [00:00<00:00, 131.41it/s]\n",
      "100%|██████████| 32/32 [00:00<00:00, 264.11it/s]"
     ]
    },
    {
     "name": "stdout",
     "output_type": "stream",
     "text": [
      "Epoch 3, train loss: 1953.0451, val loss: 2032.0454\n"
     ]
    },
    {
     "name": "stderr",
     "output_type": "stream",
     "text": [
      "\n",
      "100%|██████████| 125/125 [00:00<00:00, 134.05it/s]\n",
      "100%|██████████| 32/32 [00:00<00:00, 239.31it/s]"
     ]
    },
    {
     "name": "stdout",
     "output_type": "stream",
     "text": [
      "Epoch 4, train loss: 1948.1094, val loss: 2035.2895\n"
     ]
    },
    {
     "name": "stderr",
     "output_type": "stream",
     "text": [
      "\n",
      "100%|██████████| 125/125 [00:00<00:00, 132.16it/s]\n",
      "100%|██████████| 32/32 [00:00<00:00, 215.01it/s]"
     ]
    },
    {
     "name": "stdout",
     "output_type": "stream",
     "text": [
      "Epoch 5, train loss: 1944.4461, val loss: 2030.3594\n"
     ]
    },
    {
     "name": "stderr",
     "output_type": "stream",
     "text": [
      "\n",
      "100%|██████████| 125/125 [00:00<00:00, 133.59it/s]\n",
      "100%|██████████| 32/32 [00:00<00:00, 213.00it/s]"
     ]
    },
    {
     "name": "stdout",
     "output_type": "stream",
     "text": [
      "Epoch 6, train loss: 1942.6146, val loss: 2022.1032\n"
     ]
    },
    {
     "name": "stderr",
     "output_type": "stream",
     "text": [
      "\n",
      "100%|██████████| 125/125 [00:00<00:00, 135.64it/s]\n",
      "100%|██████████| 32/32 [00:00<00:00, 248.63it/s]"
     ]
    },
    {
     "name": "stdout",
     "output_type": "stream",
     "text": [
      "Epoch 7, train loss: 1936.0443, val loss: 2030.1398\n"
     ]
    },
    {
     "name": "stderr",
     "output_type": "stream",
     "text": [
      "\n",
      "100%|██████████| 125/125 [00:00<00:00, 134.40it/s]\n",
      "100%|██████████| 32/32 [00:00<00:00, 219.55it/s]"
     ]
    },
    {
     "name": "stdout",
     "output_type": "stream",
     "text": [
      "Epoch 8, train loss: 1934.1803, val loss: 2032.0286\n"
     ]
    },
    {
     "name": "stderr",
     "output_type": "stream",
     "text": [
      "\n",
      "100%|██████████| 125/125 [00:00<00:00, 130.29it/s]\n",
      "100%|██████████| 32/32 [00:00<00:00, 213.67it/s]"
     ]
    },
    {
     "name": "stdout",
     "output_type": "stream",
     "text": [
      "Epoch 9, train loss: 1931.7905, val loss: 2026.9896\n"
     ]
    },
    {
     "name": "stderr",
     "output_type": "stream",
     "text": [
      "\n",
      "100%|██████████| 125/125 [00:00<00:00, 135.18it/s]\n",
      "100%|██████████| 32/32 [00:00<00:00, 241.81it/s]"
     ]
    },
    {
     "name": "stdout",
     "output_type": "stream",
     "text": [
      "Epoch 10, train loss: 1933.3629, val loss: 2037.2489\n"
     ]
    },
    {
     "name": "stderr",
     "output_type": "stream",
     "text": [
      "\n",
      "100%|██████████| 125/125 [00:00<00:00, 129.91it/s]\n",
      "100%|██████████| 32/32 [00:00<00:00, 211.94it/s]"
     ]
    },
    {
     "name": "stdout",
     "output_type": "stream",
     "text": [
      "Epoch 11, train loss: 1928.3282, val loss: 2036.5481\n"
     ]
    },
    {
     "name": "stderr",
     "output_type": "stream",
     "text": [
      "\n",
      "100%|██████████| 125/125 [00:01<00:00, 119.45it/s]\n",
      "100%|██████████| 32/32 [00:00<00:00, 255.52it/s]"
     ]
    },
    {
     "name": "stdout",
     "output_type": "stream",
     "text": [
      "Epoch 12, train loss: 1926.5259, val loss: 2035.1137\n"
     ]
    },
    {
     "name": "stderr",
     "output_type": "stream",
     "text": [
      "\n",
      "100%|██████████| 125/125 [00:00<00:00, 132.64it/s]\n",
      "100%|██████████| 32/32 [00:00<00:00, 276.89it/s]"
     ]
    },
    {
     "name": "stdout",
     "output_type": "stream",
     "text": [
      "Epoch 13, train loss: 1926.3197, val loss: 2037.5183\n"
     ]
    },
    {
     "name": "stderr",
     "output_type": "stream",
     "text": [
      "\n",
      "100%|██████████| 125/125 [00:00<00:00, 126.31it/s]\n",
      "100%|██████████| 32/32 [00:00<00:00, 267.04it/s]"
     ]
    },
    {
     "name": "stdout",
     "output_type": "stream",
     "text": [
      "Epoch 14, train loss: 1921.8215, val loss: 2036.2208\n"
     ]
    },
    {
     "name": "stderr",
     "output_type": "stream",
     "text": [
      "\n",
      "100%|██████████| 125/125 [00:00<00:00, 129.65it/s]\n",
      "100%|██████████| 32/32 [00:00<00:00, 252.77it/s]"
     ]
    },
    {
     "name": "stdout",
     "output_type": "stream",
     "text": [
      "Epoch 15, train loss: 1920.9382, val loss: 2026.7747\n"
     ]
    },
    {
     "name": "stderr",
     "output_type": "stream",
     "text": [
      "\n",
      "100%|██████████| 125/125 [00:00<00:00, 132.95it/s]\n",
      "100%|██████████| 32/32 [00:00<00:00, 240.15it/s]"
     ]
    },
    {
     "name": "stdout",
     "output_type": "stream",
     "text": [
      "Epoch 16, train loss: 1918.9721, val loss: 2027.0480\n"
     ]
    },
    {
     "name": "stderr",
     "output_type": "stream",
     "text": [
      "\n",
      "100%|██████████| 125/125 [00:00<00:00, 133.94it/s]\n",
      "100%|██████████| 32/32 [00:00<00:00, 229.07it/s]"
     ]
    },
    {
     "name": "stdout",
     "output_type": "stream",
     "text": [
      "Epoch 17, train loss: 1918.3239, val loss: 2027.9845\n"
     ]
    },
    {
     "name": "stderr",
     "output_type": "stream",
     "text": [
      "\n",
      "100%|██████████| 125/125 [00:00<00:00, 134.28it/s]\n",
      "100%|██████████| 32/32 [00:00<00:00, 275.45it/s]"
     ]
    },
    {
     "name": "stdout",
     "output_type": "stream",
     "text": [
      "Epoch 18, train loss: 1918.5748, val loss: 2030.1356\n"
     ]
    },
    {
     "name": "stderr",
     "output_type": "stream",
     "text": [
      "\n",
      "100%|██████████| 125/125 [00:00<00:00, 131.50it/s]\n",
      "100%|██████████| 32/32 [00:00<00:00, 219.30it/s]"
     ]
    },
    {
     "name": "stdout",
     "output_type": "stream",
     "text": [
      "Epoch 19, train loss: 1916.5292, val loss: 2032.5281\n"
     ]
    },
    {
     "name": "stderr",
     "output_type": "stream",
     "text": [
      "\n",
      "100%|██████████| 125/125 [00:00<00:00, 129.36it/s]\n",
      "100%|██████████| 32/32 [00:00<00:00, 265.79it/s]"
     ]
    },
    {
     "name": "stdout",
     "output_type": "stream",
     "text": [
      "Epoch 20, train loss: 1913.4183, val loss: 2028.1153\n"
     ]
    },
    {
     "name": "stderr",
     "output_type": "stream",
     "text": [
      "\n",
      "100%|██████████| 125/125 [00:00<00:00, 128.92it/s]\n",
      "100%|██████████| 32/32 [00:00<00:00, 243.68it/s]"
     ]
    },
    {
     "name": "stdout",
     "output_type": "stream",
     "text": [
      "Epoch 21, train loss: 1912.5105, val loss: 2032.2734\n"
     ]
    },
    {
     "name": "stderr",
     "output_type": "stream",
     "text": [
      "\n",
      "100%|██████████| 125/125 [00:00<00:00, 125.99it/s]\n",
      "100%|██████████| 32/32 [00:00<00:00, 227.30it/s]"
     ]
    },
    {
     "name": "stdout",
     "output_type": "stream",
     "text": [
      "Epoch 22, train loss: 1914.2997, val loss: 2032.0982\n"
     ]
    },
    {
     "name": "stderr",
     "output_type": "stream",
     "text": [
      "\n",
      "100%|██████████| 125/125 [00:00<00:00, 134.61it/s]\n",
      "100%|██████████| 32/32 [00:00<00:00, 276.66it/s]"
     ]
    },
    {
     "name": "stdout",
     "output_type": "stream",
     "text": [
      "Epoch 23, train loss: 1910.2990, val loss: 2031.0028\n"
     ]
    },
    {
     "name": "stderr",
     "output_type": "stream",
     "text": [
      "\n",
      "100%|██████████| 125/125 [00:00<00:00, 131.18it/s]\n",
      "100%|██████████| 32/32 [00:00<00:00, 238.04it/s]"
     ]
    },
    {
     "name": "stdout",
     "output_type": "stream",
     "text": [
      "Epoch 24, train loss: 1909.2058, val loss: 2034.5548\n"
     ]
    },
    {
     "name": "stderr",
     "output_type": "stream",
     "text": [
      "\n",
      "100%|██████████| 125/125 [00:00<00:00, 129.72it/s]\n",
      "100%|██████████| 32/32 [00:00<00:00, 248.43it/s]"
     ]
    },
    {
     "name": "stdout",
     "output_type": "stream",
     "text": [
      "Epoch 25, train loss: 1910.2988, val loss: 2035.6881\n"
     ]
    },
    {
     "name": "stderr",
     "output_type": "stream",
     "text": [
      "\n",
      "100%|██████████| 125/125 [00:00<00:00, 132.32it/s]\n",
      "100%|██████████| 32/32 [00:00<00:00, 234.16it/s]"
     ]
    },
    {
     "name": "stdout",
     "output_type": "stream",
     "text": [
      "Epoch 26, train loss: 1907.7479, val loss: 2033.3767\n"
     ]
    },
    {
     "name": "stderr",
     "output_type": "stream",
     "text": [
      "\n",
      "100%|██████████| 125/125 [00:00<00:00, 134.32it/s]\n",
      "100%|██████████| 32/32 [00:00<00:00, 247.97it/s]"
     ]
    },
    {
     "name": "stdout",
     "output_type": "stream",
     "text": [
      "Epoch 27, train loss: 1905.5782, val loss: 2031.1760\n"
     ]
    },
    {
     "name": "stderr",
     "output_type": "stream",
     "text": [
      "\n",
      "100%|██████████| 125/125 [00:00<00:00, 126.57it/s]\n",
      "100%|██████████| 32/32 [00:00<00:00, 235.32it/s]"
     ]
    },
    {
     "name": "stdout",
     "output_type": "stream",
     "text": [
      "Epoch 28, train loss: 1905.1656, val loss: 2028.6087\n"
     ]
    },
    {
     "name": "stderr",
     "output_type": "stream",
     "text": [
      "\n",
      "100%|██████████| 125/125 [00:00<00:00, 134.55it/s]\n",
      "100%|██████████| 32/32 [00:00<00:00, 261.39it/s]"
     ]
    },
    {
     "name": "stdout",
     "output_type": "stream",
     "text": [
      "Epoch 29, train loss: 1902.9905, val loss: 2029.5308\n"
     ]
    },
    {
     "name": "stderr",
     "output_type": "stream",
     "text": [
      "\n",
      "100%|██████████| 125/125 [00:00<00:00, 136.17it/s]\n",
      "100%|██████████| 32/32 [00:00<00:00, 227.02it/s]"
     ]
    },
    {
     "name": "stdout",
     "output_type": "stream",
     "text": [
      "Epoch 30, train loss: 1904.4606, val loss: 2028.2525\n"
     ]
    },
    {
     "name": "stderr",
     "output_type": "stream",
     "text": [
      "\n",
      "100%|██████████| 125/125 [00:00<00:00, 129.29it/s]\n",
      "100%|██████████| 32/32 [00:00<00:00, 215.66it/s]"
     ]
    },
    {
     "name": "stdout",
     "output_type": "stream",
     "text": [
      "Epoch 31, train loss: 1904.0604, val loss: 2025.1841\n"
     ]
    },
    {
     "name": "stderr",
     "output_type": "stream",
     "text": [
      "\n",
      "100%|██████████| 125/125 [00:00<00:00, 130.32it/s]\n",
      "100%|██████████| 32/32 [00:00<00:00, 223.43it/s]"
     ]
    },
    {
     "name": "stdout",
     "output_type": "stream",
     "text": [
      "Epoch 32, train loss: 1903.6264, val loss: 2026.7764\n"
     ]
    },
    {
     "name": "stderr",
     "output_type": "stream",
     "text": [
      "\n",
      "100%|██████████| 125/125 [00:00<00:00, 131.27it/s]\n",
      "100%|██████████| 32/32 [00:00<00:00, 267.56it/s]"
     ]
    },
    {
     "name": "stdout",
     "output_type": "stream",
     "text": [
      "Epoch 33, train loss: 1902.4983, val loss: 2023.1639\n"
     ]
    },
    {
     "name": "stderr",
     "output_type": "stream",
     "text": [
      "\n",
      "100%|██████████| 125/125 [00:00<00:00, 132.65it/s]\n",
      "100%|██████████| 32/32 [00:00<00:00, 260.13it/s]"
     ]
    },
    {
     "name": "stdout",
     "output_type": "stream",
     "text": [
      "Epoch 34, train loss: 1901.2930, val loss: 2024.2817\n"
     ]
    },
    {
     "name": "stderr",
     "output_type": "stream",
     "text": [
      "\n",
      "100%|██████████| 125/125 [00:00<00:00, 133.74it/s]\n",
      "100%|██████████| 32/32 [00:00<00:00, 207.45it/s]"
     ]
    },
    {
     "name": "stdout",
     "output_type": "stream",
     "text": [
      "Epoch 35, train loss: 1901.1874, val loss: 2030.2153\n"
     ]
    },
    {
     "name": "stderr",
     "output_type": "stream",
     "text": [
      "\n",
      "100%|██████████| 125/125 [00:00<00:00, 129.38it/s]\n",
      "100%|██████████| 32/32 [00:00<00:00, 226.55it/s]"
     ]
    },
    {
     "name": "stdout",
     "output_type": "stream",
     "text": [
      "Epoch 36, train loss: 1900.0015, val loss: 2029.6403\n"
     ]
    },
    {
     "name": "stderr",
     "output_type": "stream",
     "text": [
      "\n",
      "100%|██████████| 125/125 [00:00<00:00, 136.43it/s]\n",
      "100%|██████████| 32/32 [00:00<00:00, 239.86it/s]"
     ]
    },
    {
     "name": "stdout",
     "output_type": "stream",
     "text": [
      "Epoch 37, train loss: 1898.9877, val loss: 2029.1147\n"
     ]
    },
    {
     "name": "stderr",
     "output_type": "stream",
     "text": [
      "\n",
      "100%|██████████| 125/125 [00:00<00:00, 128.82it/s]\n",
      "100%|██████████| 32/32 [00:00<00:00, 289.47it/s]"
     ]
    },
    {
     "name": "stdout",
     "output_type": "stream",
     "text": [
      "Epoch 38, train loss: 1896.0302, val loss: 2029.4189\n"
     ]
    },
    {
     "name": "stderr",
     "output_type": "stream",
     "text": [
      "\n",
      "100%|██████████| 125/125 [00:00<00:00, 132.77it/s]\n",
      "100%|██████████| 32/32 [00:00<00:00, 267.70it/s]"
     ]
    },
    {
     "name": "stdout",
     "output_type": "stream",
     "text": [
      "Epoch 39, train loss: 1894.9528, val loss: 2030.1456\n"
     ]
    },
    {
     "name": "stderr",
     "output_type": "stream",
     "text": [
      "\n",
      "100%|██████████| 125/125 [00:00<00:00, 132.29it/s]\n",
      "100%|██████████| 32/32 [00:00<00:00, 222.49it/s]"
     ]
    },
    {
     "name": "stdout",
     "output_type": "stream",
     "text": [
      "Epoch 40, train loss: 1894.1531, val loss: 2026.6626\n"
     ]
    },
    {
     "name": "stderr",
     "output_type": "stream",
     "text": [
      "\n",
      "100%|██████████| 125/125 [00:00<00:00, 135.02it/s]\n",
      "100%|██████████| 32/32 [00:00<00:00, 226.79it/s]"
     ]
    },
    {
     "name": "stdout",
     "output_type": "stream",
     "text": [
      "Epoch 41, train loss: 1893.8950, val loss: 2025.9709\n"
     ]
    },
    {
     "name": "stderr",
     "output_type": "stream",
     "text": [
      "\n",
      "100%|██████████| 125/125 [00:00<00:00, 131.06it/s]\n",
      "100%|██████████| 32/32 [00:00<00:00, 201.11it/s]"
     ]
    },
    {
     "name": "stdout",
     "output_type": "stream",
     "text": [
      "Epoch 42, train loss: 1892.8474, val loss: 2026.4423\n"
     ]
    },
    {
     "name": "stderr",
     "output_type": "stream",
     "text": [
      "\n",
      "100%|██████████| 125/125 [00:01<00:00, 123.44it/s]\n",
      "100%|██████████| 32/32 [00:00<00:00, 228.65it/s]"
     ]
    },
    {
     "name": "stdout",
     "output_type": "stream",
     "text": [
      "Epoch 43, train loss: 1892.8823, val loss: 2027.1198\n"
     ]
    },
    {
     "name": "stderr",
     "output_type": "stream",
     "text": [
      "\n",
      "100%|██████████| 125/125 [00:01<00:00, 124.61it/s]\n",
      "100%|██████████| 32/32 [00:00<00:00, 284.43it/s]"
     ]
    },
    {
     "name": "stdout",
     "output_type": "stream",
     "text": [
      "Epoch 44, train loss: 1892.4731, val loss: 2025.7446\n"
     ]
    },
    {
     "name": "stderr",
     "output_type": "stream",
     "text": [
      "\n",
      "100%|██████████| 125/125 [00:00<00:00, 133.34it/s]\n",
      "100%|██████████| 32/32 [00:00<00:00, 235.02it/s]"
     ]
    },
    {
     "name": "stdout",
     "output_type": "stream",
     "text": [
      "Epoch 45, train loss: 1891.9067, val loss: 2027.0849\n"
     ]
    },
    {
     "name": "stderr",
     "output_type": "stream",
     "text": [
      "\n",
      "100%|██████████| 125/125 [00:00<00:00, 132.04it/s]\n",
      "100%|██████████| 32/32 [00:00<00:00, 211.48it/s]"
     ]
    },
    {
     "name": "stdout",
     "output_type": "stream",
     "text": [
      "Epoch 46, train loss: 1892.1464, val loss: 2027.8489\n"
     ]
    },
    {
     "name": "stderr",
     "output_type": "stream",
     "text": [
      "\n",
      "100%|██████████| 125/125 [00:00<00:00, 131.72it/s]\n",
      "100%|██████████| 32/32 [00:00<00:00, 259.26it/s]"
     ]
    },
    {
     "name": "stdout",
     "output_type": "stream",
     "text": [
      "Epoch 47, train loss: 1891.9190, val loss: 2027.8036\n"
     ]
    },
    {
     "name": "stderr",
     "output_type": "stream",
     "text": [
      "\n",
      "100%|██████████| 125/125 [00:00<00:00, 130.12it/s]\n",
      "100%|██████████| 32/32 [00:00<00:00, 242.09it/s]"
     ]
    },
    {
     "name": "stdout",
     "output_type": "stream",
     "text": [
      "Epoch 48, train loss: 1891.3661, val loss: 2028.0592\n"
     ]
    },
    {
     "name": "stderr",
     "output_type": "stream",
     "text": [
      "\n",
      "100%|██████████| 125/125 [00:00<00:00, 134.46it/s]\n",
      "100%|██████████| 32/32 [00:00<00:00, 233.34it/s]"
     ]
    },
    {
     "name": "stdout",
     "output_type": "stream",
     "text": [
      "Epoch 49, train loss: 1891.2676, val loss: 2028.8523\n"
     ]
    },
    {
     "name": "stderr",
     "output_type": "stream",
     "text": [
      "\n",
      "100%|██████████| 125/125 [00:00<00:00, 127.76it/s]\n",
      "100%|██████████| 32/32 [00:00<00:00, 265.35it/s]"
     ]
    },
    {
     "name": "stdout",
     "output_type": "stream",
     "text": [
      "Epoch 50, train loss: 1891.0812, val loss: 2029.5591\n",
      "Optimizer: Adam\n"
     ]
    },
    {
     "name": "stderr",
     "output_type": "stream",
     "text": [
      "\n",
      "100%|██████████| 125/125 [00:01<00:00, 124.04it/s]\n",
      "100%|██████████| 32/32 [00:00<00:00, 248.60it/s]"
     ]
    },
    {
     "name": "stdout",
     "output_type": "stream",
     "text": [
      "Epoch 1, train loss: 1911.6732, val loss: 2042.5990\n"
     ]
    },
    {
     "name": "stderr",
     "output_type": "stream",
     "text": [
      "\n",
      "100%|██████████| 125/125 [00:01<00:00, 124.71it/s]\n",
      "100%|██████████| 32/32 [00:00<00:00, 204.81it/s]"
     ]
    },
    {
     "name": "stdout",
     "output_type": "stream",
     "text": [
      "Epoch 2, train loss: 1911.4264, val loss: 2043.0119\n"
     ]
    },
    {
     "name": "stderr",
     "output_type": "stream",
     "text": [
      "\n",
      "100%|██████████| 125/125 [00:01<00:00, 123.33it/s]\n",
      "100%|██████████| 32/32 [00:00<00:00, 260.65it/s]"
     ]
    },
    {
     "name": "stdout",
     "output_type": "stream",
     "text": [
      "Epoch 3, train loss: 1917.2571, val loss: 2051.1208\n"
     ]
    },
    {
     "name": "stderr",
     "output_type": "stream",
     "text": [
      "\n",
      "100%|██████████| 125/125 [00:01<00:00, 122.63it/s]\n",
      "100%|██████████| 32/32 [00:00<00:00, 226.09it/s]"
     ]
    },
    {
     "name": "stdout",
     "output_type": "stream",
     "text": [
      "Epoch 4, train loss: 1915.4422, val loss: 2056.1638\n"
     ]
    },
    {
     "name": "stderr",
     "output_type": "stream",
     "text": [
      "\n",
      "100%|██████████| 125/125 [00:01<00:00, 124.87it/s]\n",
      "100%|██████████| 32/32 [00:00<00:00, 237.35it/s]"
     ]
    },
    {
     "name": "stdout",
     "output_type": "stream",
     "text": [
      "Epoch 5, train loss: 1914.2765, val loss: 2061.2557\n"
     ]
    },
    {
     "name": "stderr",
     "output_type": "stream",
     "text": [
      "\n",
      "100%|██████████| 125/125 [00:01<00:00, 123.71it/s]\n",
      "100%|██████████| 32/32 [00:00<00:00, 209.45it/s]"
     ]
    },
    {
     "name": "stdout",
     "output_type": "stream",
     "text": [
      "Epoch 6, train loss: 1910.8449, val loss: 2056.3624\n"
     ]
    },
    {
     "name": "stderr",
     "output_type": "stream",
     "text": [
      "\n",
      "100%|██████████| 125/125 [00:01<00:00, 122.34it/s]\n",
      "100%|██████████| 32/32 [00:00<00:00, 261.18it/s]"
     ]
    },
    {
     "name": "stdout",
     "output_type": "stream",
     "text": [
      "Epoch 7, train loss: 1909.8251, val loss: 2052.6859\n"
     ]
    },
    {
     "name": "stderr",
     "output_type": "stream",
     "text": [
      "\n",
      "100%|██████████| 125/125 [00:00<00:00, 126.47it/s]\n",
      "100%|██████████| 32/32 [00:00<00:00, 243.74it/s]"
     ]
    },
    {
     "name": "stdout",
     "output_type": "stream",
     "text": [
      "Epoch 8, train loss: 1910.1164, val loss: 2059.9228\n"
     ]
    },
    {
     "name": "stderr",
     "output_type": "stream",
     "text": [
      "\n",
      "100%|██████████| 125/125 [00:01<00:00, 121.81it/s]\n",
      "100%|██████████| 32/32 [00:00<00:00, 229.02it/s]"
     ]
    },
    {
     "name": "stdout",
     "output_type": "stream",
     "text": [
      "Epoch 9, train loss: 1910.7733, val loss: 2058.8200\n"
     ]
    },
    {
     "name": "stderr",
     "output_type": "stream",
     "text": [
      "\n",
      "100%|██████████| 125/125 [00:01<00:00, 124.92it/s]\n",
      "100%|██████████| 32/32 [00:00<00:00, 248.56it/s]"
     ]
    },
    {
     "name": "stdout",
     "output_type": "stream",
     "text": [
      "Epoch 10, train loss: 1908.1849, val loss: 2060.9004\n"
     ]
    },
    {
     "name": "stderr",
     "output_type": "stream",
     "text": [
      "\n",
      "100%|██████████| 125/125 [00:01<00:00, 122.07it/s]\n",
      "100%|██████████| 32/32 [00:00<00:00, 232.39it/s]"
     ]
    },
    {
     "name": "stdout",
     "output_type": "stream",
     "text": [
      "Epoch 11, train loss: 1907.3536, val loss: 2060.3028\n"
     ]
    },
    {
     "name": "stderr",
     "output_type": "stream",
     "text": [
      "\n",
      "100%|██████████| 125/125 [00:01<00:00, 123.40it/s]\n",
      "100%|██████████| 32/32 [00:00<00:00, 226.85it/s]"
     ]
    },
    {
     "name": "stdout",
     "output_type": "stream",
     "text": [
      "Epoch 12, train loss: 1906.3352, val loss: 2056.3097\n"
     ]
    },
    {
     "name": "stderr",
     "output_type": "stream",
     "text": [
      "\n",
      "100%|██████████| 125/125 [00:00<00:00, 129.24it/s]\n",
      "100%|██████████| 32/32 [00:00<00:00, 211.83it/s]"
     ]
    },
    {
     "name": "stdout",
     "output_type": "stream",
     "text": [
      "Epoch 13, train loss: 1906.1747, val loss: 2053.2600\n"
     ]
    },
    {
     "name": "stderr",
     "output_type": "stream",
     "text": [
      "\n",
      "100%|██████████| 125/125 [00:01<00:00, 115.04it/s]\n",
      "100%|██████████| 32/32 [00:00<00:00, 288.72it/s]"
     ]
    },
    {
     "name": "stdout",
     "output_type": "stream",
     "text": [
      "Epoch 14, train loss: 1903.8753, val loss: 2055.6190\n"
     ]
    },
    {
     "name": "stderr",
     "output_type": "stream",
     "text": [
      "\n",
      "100%|██████████| 125/125 [00:01<00:00, 124.54it/s]\n",
      "100%|██████████| 32/32 [00:00<00:00, 269.84it/s]"
     ]
    },
    {
     "name": "stdout",
     "output_type": "stream",
     "text": [
      "Epoch 15, train loss: 1902.7944, val loss: 2053.5008\n"
     ]
    },
    {
     "name": "stderr",
     "output_type": "stream",
     "text": [
      "\n",
      "100%|██████████| 125/125 [00:01<00:00, 120.21it/s]\n",
      "100%|██████████| 32/32 [00:00<00:00, 253.52it/s]"
     ]
    },
    {
     "name": "stdout",
     "output_type": "stream",
     "text": [
      "Epoch 16, train loss: 1904.8251, val loss: 2052.8177\n"
     ]
    },
    {
     "name": "stderr",
     "output_type": "stream",
     "text": [
      "\n",
      "100%|██████████| 125/125 [00:00<00:00, 126.71it/s]\n",
      "100%|██████████| 32/32 [00:00<00:00, 237.94it/s]"
     ]
    },
    {
     "name": "stdout",
     "output_type": "stream",
     "text": [
      "Epoch 17, train loss: 1902.1394, val loss: 2052.2227\n"
     ]
    },
    {
     "name": "stderr",
     "output_type": "stream",
     "text": [
      "\n",
      "100%|██████████| 125/125 [00:01<00:00, 124.02it/s]\n",
      "100%|██████████| 32/32 [00:00<00:00, 230.43it/s]"
     ]
    },
    {
     "name": "stdout",
     "output_type": "stream",
     "text": [
      "Epoch 18, train loss: 1901.4792, val loss: 2053.5857\n"
     ]
    },
    {
     "name": "stderr",
     "output_type": "stream",
     "text": [
      "\n",
      "100%|██████████| 125/125 [00:01<00:00, 124.77it/s]\n",
      "100%|██████████| 32/32 [00:00<00:00, 222.14it/s]"
     ]
    },
    {
     "name": "stdout",
     "output_type": "stream",
     "text": [
      "Epoch 19, train loss: 1902.8535, val loss: 2055.7158\n"
     ]
    },
    {
     "name": "stderr",
     "output_type": "stream",
     "text": [
      "\n",
      "100%|██████████| 125/125 [00:00<00:00, 125.19it/s]\n",
      "100%|██████████| 32/32 [00:00<00:00, 211.60it/s]"
     ]
    },
    {
     "name": "stdout",
     "output_type": "stream",
     "text": [
      "Epoch 20, train loss: 1902.2500, val loss: 2054.7382\n"
     ]
    },
    {
     "name": "stderr",
     "output_type": "stream",
     "text": [
      "\n",
      "100%|██████████| 125/125 [00:00<00:00, 125.78it/s]\n",
      "100%|██████████| 32/32 [00:00<00:00, 260.61it/s]"
     ]
    },
    {
     "name": "stdout",
     "output_type": "stream",
     "text": [
      "Epoch 21, train loss: 1901.6977, val loss: 2046.1474\n"
     ]
    },
    {
     "name": "stderr",
     "output_type": "stream",
     "text": [
      "\n",
      "100%|██████████| 125/125 [00:01<00:00, 122.73it/s]\n",
      "100%|██████████| 32/32 [00:00<00:00, 243.81it/s]"
     ]
    },
    {
     "name": "stdout",
     "output_type": "stream",
     "text": [
      "Epoch 22, train loss: 1899.5633, val loss: 2049.5545\n"
     ]
    },
    {
     "name": "stderr",
     "output_type": "stream",
     "text": [
      "\n",
      "100%|██████████| 125/125 [00:00<00:00, 125.12it/s]\n",
      "100%|██████████| 32/32 [00:00<00:00, 236.81it/s]"
     ]
    },
    {
     "name": "stdout",
     "output_type": "stream",
     "text": [
      "Epoch 23, train loss: 1900.1884, val loss: 2049.8319\n"
     ]
    },
    {
     "name": "stderr",
     "output_type": "stream",
     "text": [
      "\n",
      "100%|██████████| 125/125 [00:01<00:00, 124.79it/s]\n",
      "100%|██████████| 32/32 [00:00<00:00, 277.72it/s]"
     ]
    },
    {
     "name": "stdout",
     "output_type": "stream",
     "text": [
      "Epoch 24, train loss: 1898.6819, val loss: 2056.2497\n"
     ]
    },
    {
     "name": "stderr",
     "output_type": "stream",
     "text": [
      "\n",
      "100%|██████████| 125/125 [00:01<00:00, 121.34it/s]\n",
      "100%|██████████| 32/32 [00:00<00:00, 258.00it/s]"
     ]
    },
    {
     "name": "stdout",
     "output_type": "stream",
     "text": [
      "Epoch 25, train loss: 1898.1864, val loss: 2053.1324\n"
     ]
    },
    {
     "name": "stderr",
     "output_type": "stream",
     "text": [
      "\n",
      "100%|██████████| 125/125 [00:01<00:00, 122.27it/s]\n",
      "100%|██████████| 32/32 [00:00<00:00, 268.73it/s]"
     ]
    },
    {
     "name": "stdout",
     "output_type": "stream",
     "text": [
      "Epoch 26, train loss: 1897.2364, val loss: 2054.0850\n"
     ]
    },
    {
     "name": "stderr",
     "output_type": "stream",
     "text": [
      "\n",
      "100%|██████████| 125/125 [00:01<00:00, 122.52it/s]\n",
      "100%|██████████| 32/32 [00:00<00:00, 296.31it/s]"
     ]
    },
    {
     "name": "stdout",
     "output_type": "stream",
     "text": [
      "Epoch 27, train loss: 1895.7226, val loss: 2054.2678\n"
     ]
    },
    {
     "name": "stderr",
     "output_type": "stream",
     "text": [
      "\n",
      "100%|██████████| 125/125 [00:00<00:00, 126.31it/s]\n",
      "100%|██████████| 32/32 [00:00<00:00, 235.19it/s]"
     ]
    },
    {
     "name": "stdout",
     "output_type": "stream",
     "text": [
      "Epoch 28, train loss: 1895.0361, val loss: 2054.7714\n"
     ]
    },
    {
     "name": "stderr",
     "output_type": "stream",
     "text": [
      "\n",
      "100%|██████████| 125/125 [00:01<00:00, 122.41it/s]\n",
      "100%|██████████| 32/32 [00:00<00:00, 251.52it/s]"
     ]
    },
    {
     "name": "stdout",
     "output_type": "stream",
     "text": [
      "Epoch 29, train loss: 1894.9661, val loss: 2051.1350\n"
     ]
    },
    {
     "name": "stderr",
     "output_type": "stream",
     "text": [
      "\n",
      "100%|██████████| 125/125 [00:01<00:00, 118.37it/s]\n",
      "100%|██████████| 32/32 [00:00<00:00, 199.49it/s]"
     ]
    },
    {
     "name": "stdout",
     "output_type": "stream",
     "text": [
      "Epoch 30, train loss: 1894.2972, val loss: 2052.5370\n"
     ]
    },
    {
     "name": "stderr",
     "output_type": "stream",
     "text": [
      "\n",
      "100%|██████████| 125/125 [00:01<00:00, 124.90it/s]\n",
      "100%|██████████| 32/32 [00:00<00:00, 264.05it/s]"
     ]
    },
    {
     "name": "stdout",
     "output_type": "stream",
     "text": [
      "Epoch 31, train loss: 1894.1218, val loss: 2054.0245\n"
     ]
    },
    {
     "name": "stderr",
     "output_type": "stream",
     "text": [
      "\n",
      "100%|██████████| 125/125 [00:01<00:00, 118.07it/s]\n",
      "100%|██████████| 32/32 [00:00<00:00, 242.76it/s]"
     ]
    },
    {
     "name": "stdout",
     "output_type": "stream",
     "text": [
      "Epoch 32, train loss: 1893.3363, val loss: 2055.2218\n"
     ]
    },
    {
     "name": "stderr",
     "output_type": "stream",
     "text": [
      "\n",
      "100%|██████████| 125/125 [00:01<00:00, 123.64it/s]\n",
      "100%|██████████| 32/32 [00:00<00:00, 216.22it/s]"
     ]
    },
    {
     "name": "stdout",
     "output_type": "stream",
     "text": [
      "Epoch 33, train loss: 1892.9044, val loss: 2055.7159\n"
     ]
    },
    {
     "name": "stderr",
     "output_type": "stream",
     "text": [
      "\n",
      "100%|██████████| 125/125 [00:01<00:00, 117.39it/s]\n",
      "100%|██████████| 32/32 [00:00<00:00, 242.54it/s]"
     ]
    },
    {
     "name": "stdout",
     "output_type": "stream",
     "text": [
      "Epoch 34, train loss: 1892.1706, val loss: 2055.5642\n"
     ]
    },
    {
     "name": "stderr",
     "output_type": "stream",
     "text": [
      "\n",
      "100%|██████████| 125/125 [00:01<00:00, 119.56it/s]\n",
      "100%|██████████| 32/32 [00:00<00:00, 282.02it/s]"
     ]
    },
    {
     "name": "stdout",
     "output_type": "stream",
     "text": [
      "Epoch 35, train loss: 1891.9984, val loss: 2054.2023\n"
     ]
    },
    {
     "name": "stderr",
     "output_type": "stream",
     "text": [
      "\n",
      "100%|██████████| 125/125 [00:01<00:00, 122.31it/s]\n",
      "100%|██████████| 32/32 [00:00<00:00, 225.33it/s]"
     ]
    },
    {
     "name": "stdout",
     "output_type": "stream",
     "text": [
      "Epoch 36, train loss: 1892.0726, val loss: 2053.0790\n"
     ]
    },
    {
     "name": "stderr",
     "output_type": "stream",
     "text": [
      "\n",
      "100%|██████████| 125/125 [00:01<00:00, 121.20it/s]\n",
      "100%|██████████| 32/32 [00:00<00:00, 234.79it/s]"
     ]
    },
    {
     "name": "stdout",
     "output_type": "stream",
     "text": [
      "Epoch 37, train loss: 1891.1519, val loss: 2053.4483\n"
     ]
    },
    {
     "name": "stderr",
     "output_type": "stream",
     "text": [
      "\n",
      "100%|██████████| 125/125 [00:01<00:00, 123.67it/s]\n",
      "100%|██████████| 32/32 [00:00<00:00, 236.76it/s]"
     ]
    },
    {
     "name": "stdout",
     "output_type": "stream",
     "text": [
      "Epoch 38, train loss: 1890.7335, val loss: 2055.2078\n"
     ]
    },
    {
     "name": "stderr",
     "output_type": "stream",
     "text": [
      "\n",
      "100%|██████████| 125/125 [00:01<00:00, 123.67it/s]\n",
      "100%|██████████| 32/32 [00:00<00:00, 214.82it/s]"
     ]
    },
    {
     "name": "stdout",
     "output_type": "stream",
     "text": [
      "Epoch 39, train loss: 1890.3101, val loss: 2055.6716\n"
     ]
    },
    {
     "name": "stderr",
     "output_type": "stream",
     "text": [
      "\n",
      "100%|██████████| 125/125 [00:01<00:00, 121.86it/s]\n",
      "100%|██████████| 32/32 [00:00<00:00, 237.58it/s]"
     ]
    },
    {
     "name": "stdout",
     "output_type": "stream",
     "text": [
      "Epoch 40, train loss: 1890.2501, val loss: 2055.6768\n"
     ]
    },
    {
     "name": "stderr",
     "output_type": "stream",
     "text": [
      "\n",
      "100%|██████████| 125/125 [00:01<00:00, 122.35it/s]\n",
      "100%|██████████| 32/32 [00:00<00:00, 252.63it/s]"
     ]
    },
    {
     "name": "stdout",
     "output_type": "stream",
     "text": [
      "Epoch 41, train loss: 1889.8305, val loss: 2054.4280\n"
     ]
    },
    {
     "name": "stderr",
     "output_type": "stream",
     "text": [
      "\n",
      "100%|██████████| 125/125 [00:01<00:00, 121.92it/s]\n",
      "100%|██████████| 32/32 [00:00<00:00, 225.55it/s]"
     ]
    },
    {
     "name": "stdout",
     "output_type": "stream",
     "text": [
      "Epoch 42, train loss: 1889.3973, val loss: 2053.8055\n"
     ]
    },
    {
     "name": "stderr",
     "output_type": "stream",
     "text": [
      "\n",
      "100%|██████████| 125/125 [00:01<00:00, 117.14it/s]\n",
      "100%|██████████| 32/32 [00:00<00:00, 243.95it/s]"
     ]
    },
    {
     "name": "stdout",
     "output_type": "stream",
     "text": [
      "Epoch 43, train loss: 1889.2749, val loss: 2053.3412\n"
     ]
    },
    {
     "name": "stderr",
     "output_type": "stream",
     "text": [
      "\n",
      "100%|██████████| 125/125 [00:01<00:00, 122.80it/s]\n",
      "100%|██████████| 32/32 [00:00<00:00, 197.27it/s]"
     ]
    },
    {
     "name": "stdout",
     "output_type": "stream",
     "text": [
      "Epoch 44, train loss: 1889.1625, val loss: 2054.3620\n"
     ]
    },
    {
     "name": "stderr",
     "output_type": "stream",
     "text": [
      "\n",
      "100%|██████████| 125/125 [00:01<00:00, 122.10it/s]\n",
      "100%|██████████| 32/32 [00:00<00:00, 231.22it/s]"
     ]
    },
    {
     "name": "stdout",
     "output_type": "stream",
     "text": [
      "Epoch 45, train loss: 1889.8000, val loss: 2053.5051\n"
     ]
    },
    {
     "name": "stderr",
     "output_type": "stream",
     "text": [
      "\n",
      "100%|██████████| 125/125 [00:01<00:00, 123.70it/s]\n",
      "100%|██████████| 32/32 [00:00<00:00, 265.47it/s]"
     ]
    },
    {
     "name": "stdout",
     "output_type": "stream",
     "text": [
      "Epoch 46, train loss: 1888.8368, val loss: 2053.4515\n"
     ]
    },
    {
     "name": "stderr",
     "output_type": "stream",
     "text": [
      "\n",
      "100%|██████████| 125/125 [00:01<00:00, 123.72it/s]\n",
      "100%|██████████| 32/32 [00:00<00:00, 231.56it/s]"
     ]
    },
    {
     "name": "stdout",
     "output_type": "stream",
     "text": [
      "Epoch 47, train loss: 1889.2919, val loss: 2053.4122\n"
     ]
    },
    {
     "name": "stderr",
     "output_type": "stream",
     "text": [
      "\n",
      "100%|██████████| 125/125 [00:01<00:00, 120.31it/s]\n",
      "100%|██████████| 32/32 [00:00<00:00, 225.80it/s]"
     ]
    },
    {
     "name": "stdout",
     "output_type": "stream",
     "text": [
      "Epoch 48, train loss: 1889.1969, val loss: 2053.4308\n"
     ]
    },
    {
     "name": "stderr",
     "output_type": "stream",
     "text": [
      "\n",
      "100%|██████████| 125/125 [00:01<00:00, 124.03it/s]\n",
      "100%|██████████| 32/32 [00:00<00:00, 199.13it/s]"
     ]
    },
    {
     "name": "stdout",
     "output_type": "stream",
     "text": [
      "Epoch 49, train loss: 1889.1341, val loss: 2053.4602\n"
     ]
    },
    {
     "name": "stderr",
     "output_type": "stream",
     "text": [
      "\n",
      "100%|██████████| 125/125 [00:01<00:00, 123.89it/s]\n",
      "100%|██████████| 32/32 [00:00<00:00, 224.81it/s]"
     ]
    },
    {
     "name": "stdout",
     "output_type": "stream",
     "text": [
      "Epoch 50, train loss: 1889.1179, val loss: 2053.4635\n",
      "Optimizer: Adamax\n"
     ]
    },
    {
     "name": "stderr",
     "output_type": "stream",
     "text": [
      "\n",
      "100%|██████████| 125/125 [00:01<00:00, 84.94it/s]\n",
      "100%|██████████| 32/32 [00:00<00:00, 263.78it/s]"
     ]
    },
    {
     "name": "stdout",
     "output_type": "stream",
     "text": [
      "Epoch 1, train loss: 1891.7919, val loss: 2058.8712\n"
     ]
    },
    {
     "name": "stderr",
     "output_type": "stream",
     "text": [
      "\n",
      "100%|██████████| 125/125 [00:01<00:00, 86.13it/s]\n",
      "100%|██████████| 32/32 [00:00<00:00, 257.94it/s]"
     ]
    },
    {
     "name": "stdout",
     "output_type": "stream",
     "text": [
      "Epoch 2, train loss: 1893.3239, val loss: 2057.2564\n"
     ]
    },
    {
     "name": "stderr",
     "output_type": "stream",
     "text": [
      "\n",
      "100%|██████████| 125/125 [00:01<00:00, 81.36it/s]\n",
      "100%|██████████| 32/32 [00:00<00:00, 272.80it/s]"
     ]
    },
    {
     "name": "stdout",
     "output_type": "stream",
     "text": [
      "Epoch 3, train loss: 1890.9973, val loss: 2054.8561\n"
     ]
    },
    {
     "name": "stderr",
     "output_type": "stream",
     "text": [
      "\n",
      "100%|██████████| 125/125 [00:01<00:00, 83.78it/s]\n",
      "100%|██████████| 32/32 [00:00<00:00, 219.19it/s]"
     ]
    },
    {
     "name": "stdout",
     "output_type": "stream",
     "text": [
      "Epoch 4, train loss: 1890.4445, val loss: 2052.4942\n"
     ]
    },
    {
     "name": "stderr",
     "output_type": "stream",
     "text": [
      "\n",
      "100%|██████████| 125/125 [00:01<00:00, 84.14it/s]\n",
      "100%|██████████| 32/32 [00:00<00:00, 216.26it/s]"
     ]
    },
    {
     "name": "stdout",
     "output_type": "stream",
     "text": [
      "Epoch 5, train loss: 1889.8828, val loss: 2055.4908\n"
     ]
    },
    {
     "name": "stderr",
     "output_type": "stream",
     "text": [
      "\n",
      "100%|██████████| 125/125 [00:01<00:00, 87.58it/s]\n",
      "100%|██████████| 32/32 [00:00<00:00, 279.49it/s]"
     ]
    },
    {
     "name": "stdout",
     "output_type": "stream",
     "text": [
      "Epoch 6, train loss: 1889.7548, val loss: 2055.8542\n"
     ]
    },
    {
     "name": "stderr",
     "output_type": "stream",
     "text": [
      "\n",
      "100%|██████████| 125/125 [00:01<00:00, 86.22it/s]\n",
      "100%|██████████| 32/32 [00:00<00:00, 273.60it/s]"
     ]
    },
    {
     "name": "stdout",
     "output_type": "stream",
     "text": [
      "Epoch 7, train loss: 1887.5117, val loss: 2053.7101\n"
     ]
    },
    {
     "name": "stderr",
     "output_type": "stream",
     "text": [
      "\n",
      "100%|██████████| 125/125 [00:01<00:00, 85.62it/s]\n",
      "100%|██████████| 32/32 [00:00<00:00, 218.63it/s]"
     ]
    },
    {
     "name": "stdout",
     "output_type": "stream",
     "text": [
      "Epoch 8, train loss: 1887.5241, val loss: 2057.4489\n"
     ]
    },
    {
     "name": "stderr",
     "output_type": "stream",
     "text": [
      "\n",
      "100%|██████████| 125/125 [00:01<00:00, 84.81it/s]\n",
      "100%|██████████| 32/32 [00:00<00:00, 210.92it/s]"
     ]
    },
    {
     "name": "stdout",
     "output_type": "stream",
     "text": [
      "Epoch 9, train loss: 1886.2327, val loss: 2054.4836\n"
     ]
    },
    {
     "name": "stderr",
     "output_type": "stream",
     "text": [
      "\n",
      "100%|██████████| 125/125 [00:01<00:00, 86.16it/s]\n",
      "100%|██████████| 32/32 [00:00<00:00, 223.62it/s]"
     ]
    },
    {
     "name": "stdout",
     "output_type": "stream",
     "text": [
      "Epoch 10, train loss: 1886.6050, val loss: 2049.3574\n"
     ]
    },
    {
     "name": "stderr",
     "output_type": "stream",
     "text": [
      "\n",
      "100%|██████████| 125/125 [00:01<00:00, 84.53it/s]\n",
      "100%|██████████| 32/32 [00:00<00:00, 224.65it/s]"
     ]
    },
    {
     "name": "stdout",
     "output_type": "stream",
     "text": [
      "Epoch 11, train loss: 1885.3903, val loss: 2049.0112\n"
     ]
    },
    {
     "name": "stderr",
     "output_type": "stream",
     "text": [
      "\n",
      "100%|██████████| 125/125 [00:01<00:00, 86.39it/s]\n",
      "100%|██████████| 32/32 [00:00<00:00, 194.64it/s]"
     ]
    },
    {
     "name": "stdout",
     "output_type": "stream",
     "text": [
      "Epoch 12, train loss: 1886.3161, val loss: 2051.8535\n"
     ]
    },
    {
     "name": "stderr",
     "output_type": "stream",
     "text": [
      "\n",
      "100%|██████████| 125/125 [00:01<00:00, 86.62it/s]\n",
      "100%|██████████| 32/32 [00:00<00:00, 223.81it/s]"
     ]
    },
    {
     "name": "stdout",
     "output_type": "stream",
     "text": [
      "Epoch 13, train loss: 1884.4350, val loss: 2054.4390\n"
     ]
    },
    {
     "name": "stderr",
     "output_type": "stream",
     "text": [
      "\n",
      "100%|██████████| 125/125 [00:01<00:00, 86.80it/s]\n",
      "100%|██████████| 32/32 [00:00<00:00, 190.84it/s]"
     ]
    },
    {
     "name": "stdout",
     "output_type": "stream",
     "text": [
      "Epoch 14, train loss: 1886.1399, val loss: 2051.7986\n"
     ]
    },
    {
     "name": "stderr",
     "output_type": "stream",
     "text": [
      "\n",
      "100%|██████████| 125/125 [00:01<00:00, 85.60it/s]\n",
      "100%|██████████| 32/32 [00:00<00:00, 259.08it/s]"
     ]
    },
    {
     "name": "stdout",
     "output_type": "stream",
     "text": [
      "Epoch 15, train loss: 1883.6877, val loss: 2051.2950\n"
     ]
    },
    {
     "name": "stderr",
     "output_type": "stream",
     "text": [
      "\n",
      "100%|██████████| 125/125 [00:01<00:00, 84.57it/s]\n",
      "100%|██████████| 32/32 [00:00<00:00, 264.90it/s]"
     ]
    },
    {
     "name": "stdout",
     "output_type": "stream",
     "text": [
      "Epoch 16, train loss: 1884.9750, val loss: 2054.4097\n"
     ]
    },
    {
     "name": "stderr",
     "output_type": "stream",
     "text": [
      "\n",
      "100%|██████████| 125/125 [00:01<00:00, 83.56it/s]\n",
      "100%|██████████| 32/32 [00:00<00:00, 242.82it/s]"
     ]
    },
    {
     "name": "stdout",
     "output_type": "stream",
     "text": [
      "Epoch 17, train loss: 1884.8526, val loss: 2049.9620\n"
     ]
    },
    {
     "name": "stderr",
     "output_type": "stream",
     "text": [
      "\n",
      "100%|██████████| 125/125 [00:01<00:00, 86.22it/s]\n",
      "100%|██████████| 32/32 [00:00<00:00, 271.86it/s]"
     ]
    },
    {
     "name": "stdout",
     "output_type": "stream",
     "text": [
      "Epoch 18, train loss: 1884.3359, val loss: 2047.3228\n"
     ]
    },
    {
     "name": "stderr",
     "output_type": "stream",
     "text": [
      "\n",
      "100%|██████████| 125/125 [00:01<00:00, 82.58it/s]\n",
      "100%|██████████| 32/32 [00:00<00:00, 217.49it/s]"
     ]
    },
    {
     "name": "stdout",
     "output_type": "stream",
     "text": [
      "Epoch 19, train loss: 1881.5471, val loss: 2048.9640\n"
     ]
    },
    {
     "name": "stderr",
     "output_type": "stream",
     "text": [
      "\n",
      "100%|██████████| 125/125 [00:01<00:00, 85.06it/s]\n",
      "100%|██████████| 32/32 [00:00<00:00, 231.93it/s]"
     ]
    },
    {
     "name": "stdout",
     "output_type": "stream",
     "text": [
      "Epoch 20, train loss: 1882.4198, val loss: 2048.6298\n"
     ]
    },
    {
     "name": "stderr",
     "output_type": "stream",
     "text": [
      "\n",
      "100%|██████████| 125/125 [00:01<00:00, 85.55it/s]\n",
      "100%|██████████| 32/32 [00:00<00:00, 220.07it/s]"
     ]
    },
    {
     "name": "stdout",
     "output_type": "stream",
     "text": [
      "Epoch 21, train loss: 1880.9118, val loss: 2048.3444\n"
     ]
    },
    {
     "name": "stderr",
     "output_type": "stream",
     "text": [
      "\n",
      "100%|██████████| 125/125 [00:01<00:00, 86.94it/s]\n",
      "100%|██████████| 32/32 [00:00<00:00, 238.36it/s]"
     ]
    },
    {
     "name": "stdout",
     "output_type": "stream",
     "text": [
      "Epoch 22, train loss: 1880.3214, val loss: 2047.3750\n"
     ]
    },
    {
     "name": "stderr",
     "output_type": "stream",
     "text": [
      "\n",
      "100%|██████████| 125/125 [00:01<00:00, 86.28it/s]\n",
      "100%|██████████| 32/32 [00:00<00:00, 180.48it/s]"
     ]
    },
    {
     "name": "stdout",
     "output_type": "stream",
     "text": [
      "Epoch 23, train loss: 1879.9509, val loss: 2047.7846\n"
     ]
    },
    {
     "name": "stderr",
     "output_type": "stream",
     "text": [
      "\n",
      "100%|██████████| 125/125 [00:01<00:00, 86.63it/s]\n",
      "100%|██████████| 32/32 [00:00<00:00, 242.47it/s]"
     ]
    },
    {
     "name": "stdout",
     "output_type": "stream",
     "text": [
      "Epoch 24, train loss: 1880.5869, val loss: 2046.3019\n"
     ]
    },
    {
     "name": "stderr",
     "output_type": "stream",
     "text": [
      "\n",
      "100%|██████████| 125/125 [00:01<00:00, 85.39it/s]\n",
      "100%|██████████| 32/32 [00:00<00:00, 270.05it/s]"
     ]
    },
    {
     "name": "stdout",
     "output_type": "stream",
     "text": [
      "Epoch 25, train loss: 1879.5612, val loss: 2047.6545\n"
     ]
    },
    {
     "name": "stderr",
     "output_type": "stream",
     "text": [
      "\n",
      "100%|██████████| 125/125 [00:01<00:00, 86.39it/s]\n",
      "100%|██████████| 32/32 [00:00<00:00, 207.81it/s]"
     ]
    },
    {
     "name": "stdout",
     "output_type": "stream",
     "text": [
      "Epoch 26, train loss: 1880.2343, val loss: 2049.5586\n"
     ]
    },
    {
     "name": "stderr",
     "output_type": "stream",
     "text": [
      "\n",
      "100%|██████████| 125/125 [00:01<00:00, 85.83it/s]\n",
      "100%|██████████| 32/32 [00:00<00:00, 204.93it/s]"
     ]
    },
    {
     "name": "stdout",
     "output_type": "stream",
     "text": [
      "Epoch 27, train loss: 1879.9367, val loss: 2052.3749\n"
     ]
    },
    {
     "name": "stderr",
     "output_type": "stream",
     "text": [
      "\n",
      "100%|██████████| 125/125 [00:01<00:00, 86.48it/s]\n",
      "100%|██████████| 32/32 [00:00<00:00, 235.55it/s]"
     ]
    },
    {
     "name": "stdout",
     "output_type": "stream",
     "text": [
      "Epoch 28, train loss: 1878.0446, val loss: 2053.8022\n"
     ]
    },
    {
     "name": "stderr",
     "output_type": "stream",
     "text": [
      "\n",
      "100%|██████████| 125/125 [00:01<00:00, 86.58it/s]\n",
      "100%|██████████| 32/32 [00:00<00:00, 282.67it/s]"
     ]
    },
    {
     "name": "stdout",
     "output_type": "stream",
     "text": [
      "Epoch 29, train loss: 1877.1346, val loss: 2050.6154\n"
     ]
    },
    {
     "name": "stderr",
     "output_type": "stream",
     "text": [
      "\n",
      "100%|██████████| 125/125 [00:01<00:00, 87.97it/s]\n",
      "100%|██████████| 32/32 [00:00<00:00, 247.15it/s]"
     ]
    },
    {
     "name": "stdout",
     "output_type": "stream",
     "text": [
      "Epoch 30, train loss: 1876.8159, val loss: 2050.1921\n"
     ]
    },
    {
     "name": "stderr",
     "output_type": "stream",
     "text": [
      "\n",
      "100%|██████████| 125/125 [00:01<00:00, 86.23it/s]\n",
      "100%|██████████| 32/32 [00:00<00:00, 222.39it/s]"
     ]
    },
    {
     "name": "stdout",
     "output_type": "stream",
     "text": [
      "Epoch 31, train loss: 1876.5615, val loss: 2049.7499\n"
     ]
    },
    {
     "name": "stderr",
     "output_type": "stream",
     "text": [
      "\n",
      "100%|██████████| 125/125 [00:01<00:00, 86.02it/s]\n",
      "100%|██████████| 32/32 [00:00<00:00, 218.70it/s]"
     ]
    },
    {
     "name": "stdout",
     "output_type": "stream",
     "text": [
      "Epoch 32, train loss: 1875.2955, val loss: 2048.9775\n"
     ]
    },
    {
     "name": "stderr",
     "output_type": "stream",
     "text": [
      "\n",
      "100%|██████████| 125/125 [00:01<00:00, 86.05it/s]\n",
      "100%|██████████| 32/32 [00:00<00:00, 280.43it/s]"
     ]
    },
    {
     "name": "stdout",
     "output_type": "stream",
     "text": [
      "Epoch 33, train loss: 1875.6644, val loss: 2049.2763\n"
     ]
    },
    {
     "name": "stderr",
     "output_type": "stream",
     "text": [
      "\n",
      "100%|██████████| 125/125 [00:01<00:00, 82.59it/s]\n",
      "100%|██████████| 32/32 [00:00<00:00, 209.44it/s]"
     ]
    },
    {
     "name": "stdout",
     "output_type": "stream",
     "text": [
      "Epoch 34, train loss: 1874.8394, val loss: 2048.4612\n"
     ]
    },
    {
     "name": "stderr",
     "output_type": "stream",
     "text": [
      "\n",
      "100%|██████████| 125/125 [00:01<00:00, 83.12it/s]\n",
      "100%|██████████| 32/32 [00:00<00:00, 196.29it/s]"
     ]
    },
    {
     "name": "stdout",
     "output_type": "stream",
     "text": [
      "Epoch 35, train loss: 1873.9774, val loss: 2051.6530\n"
     ]
    },
    {
     "name": "stderr",
     "output_type": "stream",
     "text": [
      "\n",
      "100%|██████████| 125/125 [00:01<00:00, 84.81it/s]\n",
      "100%|██████████| 32/32 [00:00<00:00, 233.69it/s]"
     ]
    },
    {
     "name": "stdout",
     "output_type": "stream",
     "text": [
      "Epoch 36, train loss: 1875.8085, val loss: 2050.6381\n"
     ]
    },
    {
     "name": "stderr",
     "output_type": "stream",
     "text": [
      "\n",
      "100%|██████████| 125/125 [00:01<00:00, 85.38it/s]\n",
      "100%|██████████| 32/32 [00:00<00:00, 224.07it/s]"
     ]
    },
    {
     "name": "stdout",
     "output_type": "stream",
     "text": [
      "Epoch 37, train loss: 1875.5385, val loss: 2049.9935\n"
     ]
    },
    {
     "name": "stderr",
     "output_type": "stream",
     "text": [
      "\n",
      "100%|██████████| 125/125 [00:01<00:00, 82.84it/s]\n",
      "100%|██████████| 32/32 [00:00<00:00, 163.85it/s]"
     ]
    },
    {
     "name": "stdout",
     "output_type": "stream",
     "text": [
      "Epoch 38, train loss: 1875.4987, val loss: 2049.1353\n"
     ]
    },
    {
     "name": "stderr",
     "output_type": "stream",
     "text": [
      "\n",
      "100%|██████████| 125/125 [00:01<00:00, 85.91it/s]\n",
      "100%|██████████| 32/32 [00:00<00:00, 227.98it/s]"
     ]
    },
    {
     "name": "stdout",
     "output_type": "stream",
     "text": [
      "Epoch 39, train loss: 1875.7536, val loss: 2047.8157\n"
     ]
    },
    {
     "name": "stderr",
     "output_type": "stream",
     "text": [
      "\n",
      "100%|██████████| 125/125 [00:01<00:00, 82.60it/s]\n",
      "100%|██████████| 32/32 [00:00<00:00, 236.52it/s]"
     ]
    },
    {
     "name": "stdout",
     "output_type": "stream",
     "text": [
      "Epoch 40, train loss: 1875.4605, val loss: 2049.9599\n"
     ]
    },
    {
     "name": "stderr",
     "output_type": "stream",
     "text": [
      "\n",
      "100%|██████████| 125/125 [00:01<00:00, 83.68it/s]\n",
      "100%|██████████| 32/32 [00:00<00:00, 224.57it/s]"
     ]
    },
    {
     "name": "stdout",
     "output_type": "stream",
     "text": [
      "Epoch 41, train loss: 1875.6837, val loss: 2049.1540\n"
     ]
    },
    {
     "name": "stderr",
     "output_type": "stream",
     "text": [
      "\n",
      "100%|██████████| 125/125 [00:01<00:00, 84.32it/s]\n",
      "100%|██████████| 32/32 [00:00<00:00, 267.58it/s]"
     ]
    },
    {
     "name": "stdout",
     "output_type": "stream",
     "text": [
      "Epoch 42, train loss: 1875.1383, val loss: 2050.3138\n"
     ]
    },
    {
     "name": "stderr",
     "output_type": "stream",
     "text": [
      "\n",
      "100%|██████████| 125/125 [00:01<00:00, 82.20it/s]\n",
      "100%|██████████| 32/32 [00:00<00:00, 247.52it/s]"
     ]
    },
    {
     "name": "stdout",
     "output_type": "stream",
     "text": [
      "Epoch 43, train loss: 1874.8110, val loss: 2049.9988\n"
     ]
    },
    {
     "name": "stderr",
     "output_type": "stream",
     "text": [
      "\n",
      "100%|██████████| 125/125 [00:01<00:00, 86.20it/s]\n",
      "100%|██████████| 32/32 [00:00<00:00, 229.73it/s]"
     ]
    },
    {
     "name": "stdout",
     "output_type": "stream",
     "text": [
      "Epoch 44, train loss: 1874.6141, val loss: 2049.2129\n"
     ]
    },
    {
     "name": "stderr",
     "output_type": "stream",
     "text": [
      "\n",
      "100%|██████████| 125/125 [00:01<00:00, 82.61it/s]\n",
      "100%|██████████| 32/32 [00:00<00:00, 203.27it/s]"
     ]
    },
    {
     "name": "stdout",
     "output_type": "stream",
     "text": [
      "Epoch 45, train loss: 1874.5926, val loss: 2051.8382\n"
     ]
    },
    {
     "name": "stderr",
     "output_type": "stream",
     "text": [
      "\n",
      "100%|██████████| 125/125 [00:01<00:00, 86.21it/s]\n",
      "100%|██████████| 32/32 [00:00<00:00, 238.63it/s]"
     ]
    },
    {
     "name": "stdout",
     "output_type": "stream",
     "text": [
      "Epoch 46, train loss: 1874.4621, val loss: 2049.6896\n"
     ]
    },
    {
     "name": "stderr",
     "output_type": "stream",
     "text": [
      "\n",
      "100%|██████████| 125/125 [00:01<00:00, 84.33it/s]\n",
      "100%|██████████| 32/32 [00:00<00:00, 284.89it/s]"
     ]
    },
    {
     "name": "stdout",
     "output_type": "stream",
     "text": [
      "Epoch 47, train loss: 1874.3061, val loss: 2049.6058\n"
     ]
    },
    {
     "name": "stderr",
     "output_type": "stream",
     "text": [
      "\n",
      "100%|██████████| 125/125 [00:01<00:00, 86.92it/s]\n",
      "100%|██████████| 32/32 [00:00<00:00, 232.81it/s]"
     ]
    },
    {
     "name": "stdout",
     "output_type": "stream",
     "text": [
      "Epoch 48, train loss: 1874.2731, val loss: 2049.6285\n"
     ]
    },
    {
     "name": "stderr",
     "output_type": "stream",
     "text": [
      "\n",
      "100%|██████████| 125/125 [00:01<00:00, 84.26it/s]\n",
      "100%|██████████| 32/32 [00:00<00:00, 223.95it/s]"
     ]
    },
    {
     "name": "stdout",
     "output_type": "stream",
     "text": [
      "Epoch 49, train loss: 1874.3091, val loss: 2049.6325\n"
     ]
    },
    {
     "name": "stderr",
     "output_type": "stream",
     "text": [
      "\n",
      "100%|██████████| 125/125 [00:01<00:00, 84.74it/s]\n",
      "100%|██████████| 32/32 [00:00<00:00, 243.20it/s]"
     ]
    },
    {
     "name": "stdout",
     "output_type": "stream",
     "text": [
      "Epoch 50, train loss: 1874.3021, val loss: 2049.6349\n"
     ]
    },
    {
     "name": "stderr",
     "output_type": "stream",
     "text": [
      "\n"
     ]
    }
   ],
   "source": [
    "train_loss_dict = {}\n",
    "val_loss_dict = {}\n",
    "for name, optimizer in optimizers_list.items():\n",
    "    train_cycle(name, optimizer, train_loss_dict, val_loss_dict)"
   ]
  },
  {
   "cell_type": "code",
   "execution_count": 25,
   "metadata": {},
   "outputs": [],
   "source": [
    "import matplotlib.pyplot as plt\n",
    "\n",
    "\n",
    "def plot_dictionaries(dict1, dict2, initial_train, initial_val, save_path=None):\n",
    "    fig, axes = plt.subplots(1, 2, figsize=(12, 6))  # Create a figure with two subplots\n",
    "\n",
    "    # Plot for dictionary 1\n",
    "    for key, values in dict1.items():\n",
    "        axes[0].plot(\n",
    "            range(5, len(values) + 1), values[4:], label=key, marker=\"*\"\n",
    "        )  # Start from second element\n",
    "        axes[0].legend()\n",
    "        axes[0].set_xlabel(\"Epochs\")\n",
    "        axes[0].set_ylabel(\"MSE Loss\")\n",
    "        axes[0].set_title(f\"Train losses, initial: {initial_train.round(2)}\")\n",
    "        axes[0].grid(True)\n",
    "    # Plot for dictionary 2\n",
    "    for key, values in dict2.items():\n",
    "        axes[1].plot(range(5, len(values) + 1), values[4:], label=key, marker=\"*\")\n",
    "        axes[1].legend()\n",
    "        axes[1].set_xlabel(\"Epochs\")\n",
    "        axes[1].set_ylabel(\"MSE Loss\")\n",
    "        axes[1].set_title(f\"Validation losses, initial: {initial_val.round(2)}\")\n",
    "        axes[1].grid(True)\n",
    "    plt.tight_layout()\n",
    "    if save_path:\n",
    "        plt.savefig(save_path)\n",
    "    plt.show()"
   ]
  },
  {
   "cell_type": "code",
   "execution_count": 26,
   "metadata": {},
   "outputs": [
    {
     "data": {
      "image/png": "[encoded data removed]",
      "text/plain": [
       "<Figure size 1200x600 with 2 Axes>"
      ]
     },
     "metadata": {},
     "output_type": "display_data"
    }
   ],
   "source": [
    "# Plot\n",
    "plot_dictionaries(\n",
    "    train_loss_dict,\n",
    "    val_loss_dict,\n",
    "    initial_mse_train,\n",
    "    initial_mse_val,\n",
    "    f\"{experiment_dir}/{EXPERIMENT_NAME}_testing.png\",\n",
    ")"
   ]
  },
  {
   "cell_type": "markdown",
   "metadata": {},
   "source": [
    "### So for full training we will take SGD, 20 layers with 256 neurouns in each and lr=4e-7"
   ]
  },
  {
   "cell_type": "code",
   "execution_count": 27,
   "metadata": {},
   "outputs": [],
   "source": [
    "N_EPOCH = 50\n",
    "RISK_FREE = 0.03\n",
    "SIGMA = 0.4\n",
    "LEARNING_RATE = 0.00075178\n",
    "HIDDEN_LAYER = 24\n",
    "HIDDEN_WIDTH = 64\n",
    "EXPERIMENT_NAME = \"exp_call_12_gen\"\n",
    "MODEL_TYPE = AmericanPut_gated3\n",
    "experiment_dir = f\"../experiments_dir/{EXPERIMENT_NAME}\"\n",
    "os.makedirs(experiment_dir, exist_ok=True)"
   ]
  },
  {
   "cell_type": "code",
   "execution_count": 28,
   "metadata": {},
   "outputs": [],
   "source": [
    "logging.info(f\"N_EPOCH: {N_EPOCH}\")\n",
    "logging.info(f\"LEARNING_RATE: {LEARNING_RATE}\")\n",
    "logging.info(f\"HIDDEN_LAYER: {HIDDEN_LAYER}\")\n",
    "logging.info(f\"HIDDEN_WIDTH: {HIDDEN_WIDTH}\")\n",
    "# logging.info(f\"N_sample: {N_sample}\")\n",
    "logging.info(f\"EXPERIMENT_NAME: {EXPERIMENT_NAME}\")\n",
    "logging.info(f\"Model type: {MODEL_TYPE.__name__}\")"
   ]
  },
  {
   "cell_type": "code",
   "execution_count": 29,
   "metadata": {},
   "outputs": [
    {
     "data": {
      "text/html": [
       "<div>\n",
       "<style scoped>\n",
       "    .dataframe tbody tr th:only-of-type {\n",
       "        vertical-align: middle;\n",
       "    }\n",
       "\n",
       "    .dataframe tbody tr th {\n",
       "        vertical-align: top;\n",
       "    }\n",
       "\n",
       "    .dataframe thead th {\n",
       "        text-align: right;\n",
       "    }\n",
       "</style>\n",
       "<table border=\"1\" class=\"dataframe\">\n",
       "  <thead>\n",
       "    <tr style=\"text-align: right;\">\n",
       "      <th></th>\n",
       "      <th>TimeToExp</th>\n",
       "      <th>UnderlyingPrice</th>\n",
       "      <th>TargetPrice</th>\n",
       "      <th>OpenInterest</th>\n",
       "      <th>Delta</th>\n",
       "      <th>Gamma</th>\n",
       "      <th>Theta</th>\n",
       "      <th>Vega</th>\n",
       "      <th>BSAprox</th>\n",
       "    </tr>\n",
       "  </thead>\n",
       "  <tbody>\n",
       "    <tr>\n",
       "      <th>0</th>\n",
       "      <td>850.00</td>\n",
       "      <td>122.12</td>\n",
       "      <td>43.00</td>\n",
       "      <td>364.0</td>\n",
       "      <td>0.345992</td>\n",
       "      <td>0.144298</td>\n",
       "      <td>-3.575622</td>\n",
       "      <td>2.522842</td>\n",
       "      <td>31.500</td>\n",
       "    </tr>\n",
       "    <tr>\n",
       "      <th>1</th>\n",
       "      <td>311.00</td>\n",
       "      <td>186.19</td>\n",
       "      <td>29.31</td>\n",
       "      <td>514.0</td>\n",
       "      <td>0.167115</td>\n",
       "      <td>0.056784</td>\n",
       "      <td>-2.531811</td>\n",
       "      <td>6.822075</td>\n",
       "      <td>24.655</td>\n",
       "    </tr>\n",
       "    <tr>\n",
       "      <th>2</th>\n",
       "      <td>629.00</td>\n",
       "      <td>52.52</td>\n",
       "      <td>69.69</td>\n",
       "      <td>65.0</td>\n",
       "      <td>0.376269</td>\n",
       "      <td>0.272558</td>\n",
       "      <td>-7.814967</td>\n",
       "      <td>5.852912</td>\n",
       "      <td>0.000</td>\n",
       "    </tr>\n",
       "    <tr>\n",
       "      <th>3</th>\n",
       "      <td>469.00</td>\n",
       "      <td>144.80</td>\n",
       "      <td>37.75</td>\n",
       "      <td>58.0</td>\n",
       "      <td>0.009575</td>\n",
       "      <td>0.017516</td>\n",
       "      <td>-1.451383</td>\n",
       "      <td>1.604901</td>\n",
       "      <td>0.000</td>\n",
       "    </tr>\n",
       "    <tr>\n",
       "      <th>4</th>\n",
       "      <td>0.00</td>\n",
       "      <td>187.07</td>\n",
       "      <td>29.12</td>\n",
       "      <td>91.0</td>\n",
       "      <td>0.441506</td>\n",
       "      <td>0.138325</td>\n",
       "      <td>-8.777276</td>\n",
       "      <td>5.934998</td>\n",
       "      <td>118.970</td>\n",
       "    </tr>\n",
       "    <tr>\n",
       "      <th>...</th>\n",
       "      <td>...</td>\n",
       "      <td>...</td>\n",
       "      <td>...</td>\n",
       "      <td>...</td>\n",
       "      <td>...</td>\n",
       "      <td>...</td>\n",
       "      <td>...</td>\n",
       "      <td>...</td>\n",
       "      <td>...</td>\n",
       "    </tr>\n",
       "    <tr>\n",
       "      <th>9995</th>\n",
       "      <td>1089.04</td>\n",
       "      <td>200.00</td>\n",
       "      <td>200.00</td>\n",
       "      <td>54.0</td>\n",
       "      <td>0.189853</td>\n",
       "      <td>0.083916</td>\n",
       "      <td>-31.967621</td>\n",
       "      <td>3.605873</td>\n",
       "      <td>82.030</td>\n",
       "    </tr>\n",
       "    <tr>\n",
       "      <th>9996</th>\n",
       "      <td>939.78</td>\n",
       "      <td>200.00</td>\n",
       "      <td>200.00</td>\n",
       "      <td>410.0</td>\n",
       "      <td>0.034537</td>\n",
       "      <td>0.091283</td>\n",
       "      <td>-10.788996</td>\n",
       "      <td>6.799438</td>\n",
       "      <td>82.030</td>\n",
       "    </tr>\n",
       "    <tr>\n",
       "      <th>9997</th>\n",
       "      <td>886.42</td>\n",
       "      <td>200.00</td>\n",
       "      <td>200.00</td>\n",
       "      <td>274.0</td>\n",
       "      <td>0.015381</td>\n",
       "      <td>0.324230</td>\n",
       "      <td>-4.528091</td>\n",
       "      <td>7.367978</td>\n",
       "      <td>82.030</td>\n",
       "    </tr>\n",
       "    <tr>\n",
       "      <th>9998</th>\n",
       "      <td>560.18</td>\n",
       "      <td>200.00</td>\n",
       "      <td>200.00</td>\n",
       "      <td>586.0</td>\n",
       "      <td>0.275679</td>\n",
       "      <td>0.402972</td>\n",
       "      <td>-4.144945</td>\n",
       "      <td>3.066105</td>\n",
       "      <td>82.030</td>\n",
       "    </tr>\n",
       "    <tr>\n",
       "      <th>9999</th>\n",
       "      <td>839.39</td>\n",
       "      <td>200.00</td>\n",
       "      <td>200.00</td>\n",
       "      <td>64.0</td>\n",
       "      <td>0.508315</td>\n",
       "      <td>0.143538</td>\n",
       "      <td>-3.922587</td>\n",
       "      <td>8.900109</td>\n",
       "      <td>82.030</td>\n",
       "    </tr>\n",
       "  </tbody>\n",
       "</table>\n",
       "<p>10000 rows × 9 columns</p>\n",
       "</div>"
      ],
      "text/plain": [
       "      TimeToExp  UnderlyingPrice  TargetPrice  OpenInterest     Delta  \\\n",
       "0        850.00           122.12        43.00         364.0  0.345992   \n",
       "1        311.00           186.19        29.31         514.0  0.167115   \n",
       "2        629.00            52.52        69.69          65.0  0.376269   \n",
       "3        469.00           144.80        37.75          58.0  0.009575   \n",
       "4          0.00           187.07        29.12          91.0  0.441506   \n",
       "...         ...              ...          ...           ...       ...   \n",
       "9995    1089.04           200.00       200.00          54.0  0.189853   \n",
       "9996     939.78           200.00       200.00         410.0  0.034537   \n",
       "9997     886.42           200.00       200.00         274.0  0.015381   \n",
       "9998     560.18           200.00       200.00         586.0  0.275679   \n",
       "9999     839.39           200.00       200.00          64.0  0.508315   \n",
       "\n",
       "         Gamma      Theta      Vega  BSAprox  \n",
       "0     0.144298  -3.575622  2.522842   31.500  \n",
       "1     0.056784  -2.531811  6.822075   24.655  \n",
       "2     0.272558  -7.814967  5.852912    0.000  \n",
       "3     0.017516  -1.451383  1.604901    0.000  \n",
       "4     0.138325  -8.777276  5.934998  118.970  \n",
       "...        ...        ...       ...      ...  \n",
       "9995  0.083916 -31.967621  3.605873   82.030  \n",
       "9996  0.091283 -10.788996  6.799438   82.030  \n",
       "9997  0.324230  -4.528091  7.367978   82.030  \n",
       "9998  0.402972  -4.144945  3.066105   82.030  \n",
       "9999  0.143538  -3.922587  8.900109   82.030  \n",
       "\n",
       "[10000 rows x 9 columns]"
      ]
     },
     "execution_count": 29,
     "metadata": {},
     "output_type": "execute_result"
    }
   ],
   "source": [
    "df"
   ]
  },
  {
   "cell_type": "code",
   "execution_count": 30,
   "metadata": {},
   "outputs": [],
   "source": [
    "df_train, df_test = train_test_split(df, test_size=0.2)\n",
    "logging.info(f\"train set size: {df_train.shape}\")\n",
    "logging.info(f\"test set size: {df_test.shape}\")\n",
    "initial_mse_train = (\n",
    "    1 / len(df_train) * np.sum((df_train.TargetPrice - df_train.BSAprox) ** 2)\n",
    ")\n",
    "initial_mse_val = (\n",
    "    1 / len(df_test) * np.sum((df_test.TargetPrice - df_test.BSAprox) ** 2)\n",
    ")\n",
    "logging.info(\n",
    "    f\"Initial MSE train: {initial_mse_train.round(4)}, Initial MSE val: {initial_mse_val.round(4)}\"\n",
    ")\n",
    "train_df = CustomDataset(df_train)\n",
    "test_df = CustomDataset(df_test)"
   ]
  },
  {
   "cell_type": "code",
   "execution_count": 31,
   "metadata": {},
   "outputs": [],
   "source": [
    "# import torch.multiprocessing as mp\n",
    "train_df = CustomDataset(df_train)\n",
    "val_df = CustomDataset(df_val)\n",
    "# from torch.optim.lr_scheduler import ReduceLROnPlateau\n",
    "model = MODEL_TYPE(5, 1, HIDDEN_WIDTH, HIDDEN_LAYER).to(DEVICE)\n",
    "logging.info(\n",
    "    f\"Total number of learnable parameters: {sum(p.numel() for p in model.parameters() if p.requires_grad)}\"\n",
    ")\n",
    "train_dataloader = DataLoader(\n",
    "    train_df,\n",
    "    batch_size=64,\n",
    "    shuffle=True,\n",
    "    num_workers=8,\n",
    "    # generator=torch.Generator(device=DEVICE),\n",
    ")\n",
    "val_dataloader = DataLoader(\n",
    "    val_df,\n",
    "    batch_size=64,\n",
    "    shuffle=False,\n",
    "    num_workers=8,\n",
    ")\n",
    "optimizers_list = {\n",
    "    \"SGD\": torch.optim.SGD(model.parameters(), lr=LEARNING_RATE, momentum=0.7)\n",
    "}\n",
    "criteriation = nn.MSELoss()"
   ]
  },
  {
   "cell_type": "code",
   "execution_count": 33,
   "metadata": {},
   "outputs": [
    {
     "name": "stdout",
     "output_type": "stream",
     "text": [
      "Optimizer: SGD\n"
     ]
    },
    {
     "name": "stderr",
     "output_type": "stream",
     "text": [
      "100%|██████████| 125/125 [00:01<00:00, 77.62it/s]\n",
      "100%|██████████| 32/32 [00:00<00:00, 163.12it/s]\n"
     ]
    },
    {
     "name": "stdout",
     "output_type": "stream",
     "text": [
      "Epoch 1, train loss: 1860.6847, test loss: 1910.6102\n"
     ]
    },
    {
     "name": "stderr",
     "output_type": "stream",
     "text": [
      "100%|██████████| 125/125 [00:01<00:00, 78.15it/s]\n",
      "100%|██████████| 32/32 [00:00<00:00, 165.78it/s]"
     ]
    },
    {
     "name": "stdout",
     "output_type": "stream",
     "text": [
      "Epoch 2, train loss: 1789.2217, test loss: 1953.9997\n"
     ]
    },
    {
     "name": "stderr",
     "output_type": "stream",
     "text": [
      "\n",
      "100%|██████████| 125/125 [00:01<00:00, 70.55it/s]\n",
      "100%|██████████| 32/32 [00:00<00:00, 119.17it/s]"
     ]
    },
    {
     "name": "stdout",
     "output_type": "stream",
     "text": [
      "Epoch 3, train loss: 1793.2629, test loss: 1911.4333\n"
     ]
    },
    {
     "name": "stderr",
     "output_type": "stream",
     "text": [
      "\n",
      "100%|██████████| 125/125 [00:01<00:00, 67.49it/s]\n",
      "100%|██████████| 32/32 [00:00<00:00, 136.10it/s]"
     ]
    },
    {
     "name": "stdout",
     "output_type": "stream",
     "text": [
      "Epoch 4, train loss: 1797.5282, test loss: 1914.1728\n"
     ]
    },
    {
     "name": "stderr",
     "output_type": "stream",
     "text": [
      "\n",
      "100%|██████████| 125/125 [00:01<00:00, 68.75it/s]\n",
      "100%|██████████| 32/32 [00:00<00:00, 127.54it/s]"
     ]
    },
    {
     "name": "stdout",
     "output_type": "stream",
     "text": [
      "Epoch 5, train loss: 1787.7645, test loss: 1915.6909\n"
     ]
    },
    {
     "name": "stderr",
     "output_type": "stream",
     "text": [
      "\n",
      "100%|██████████| 125/125 [00:01<00:00, 73.00it/s]\n",
      "100%|██████████| 32/32 [00:00<00:00, 143.66it/s]"
     ]
    },
    {
     "name": "stdout",
     "output_type": "stream",
     "text": [
      "Epoch 6, train loss: 1791.9267, test loss: 1910.9990\n"
     ]
    },
    {
     "name": "stderr",
     "output_type": "stream",
     "text": [
      "\n",
      "100%|██████████| 125/125 [00:01<00:00, 66.67it/s]\n",
      "100%|██████████| 32/32 [00:00<00:00, 130.91it/s]"
     ]
    },
    {
     "name": "stdout",
     "output_type": "stream",
     "text": [
      "Epoch 7, train loss: 1787.8529, test loss: 1936.1527\n"
     ]
    },
    {
     "name": "stderr",
     "output_type": "stream",
     "text": [
      "\n",
      "100%|██████████| 125/125 [00:01<00:00, 71.21it/s]\n",
      "100%|██████████| 32/32 [00:00<00:00, 160.42it/s]"
     ]
    },
    {
     "name": "stdout",
     "output_type": "stream",
     "text": [
      "Epoch 8, train loss: 1787.1684, test loss: 1912.7816\n"
     ]
    },
    {
     "name": "stderr",
     "output_type": "stream",
     "text": [
      "\n",
      "100%|██████████| 125/125 [00:01<00:00, 77.50it/s]\n",
      "100%|██████████| 32/32 [00:00<00:00, 151.43it/s]"
     ]
    },
    {
     "name": "stdout",
     "output_type": "stream",
     "text": [
      "Epoch 9, train loss: 1785.7555, test loss: 1911.8429\n"
     ]
    },
    {
     "name": "stderr",
     "output_type": "stream",
     "text": [
      "\n",
      "100%|██████████| 125/125 [00:01<00:00, 79.05it/s]\n",
      "100%|██████████| 32/32 [00:00<00:00, 151.76it/s]"
     ]
    },
    {
     "name": "stdout",
     "output_type": "stream",
     "text": [
      "Epoch 10, train loss: 1787.7884, test loss: 1916.7225\n"
     ]
    },
    {
     "name": "stderr",
     "output_type": "stream",
     "text": [
      "\n",
      "100%|██████████| 125/125 [00:01<00:00, 77.89it/s]\n",
      "100%|██████████| 32/32 [00:00<00:00, 115.60it/s]"
     ]
    },
    {
     "name": "stdout",
     "output_type": "stream",
     "text": [
      "Epoch 11, train loss: 1784.8655, test loss: 1912.4627\n"
     ]
    },
    {
     "name": "stderr",
     "output_type": "stream",
     "text": [
      "\n",
      "100%|██████████| 125/125 [00:01<00:00, 82.44it/s]\n",
      "100%|██████████| 32/32 [00:00<00:00, 159.45it/s]"
     ]
    },
    {
     "name": "stdout",
     "output_type": "stream",
     "text": [
      "Epoch 12, train loss: 1785.9713, test loss: 1917.5330\n"
     ]
    },
    {
     "name": "stderr",
     "output_type": "stream",
     "text": [
      "\n",
      "100%|██████████| 125/125 [00:01<00:00, 83.15it/s]\n",
      "100%|██████████| 32/32 [00:00<00:00, 160.65it/s]"
     ]
    },
    {
     "name": "stdout",
     "output_type": "stream",
     "text": [
      "Epoch 13, train loss: 1787.1268, test loss: 1913.8998\n"
     ]
    },
    {
     "name": "stderr",
     "output_type": "stream",
     "text": [
      "\n",
      "100%|██████████| 125/125 [00:01<00:00, 82.22it/s]\n",
      "100%|██████████| 32/32 [00:00<00:00, 156.00it/s]"
     ]
    },
    {
     "name": "stdout",
     "output_type": "stream",
     "text": [
      "Epoch 14, train loss: 1784.4453, test loss: 1912.9105\n"
     ]
    },
    {
     "name": "stderr",
     "output_type": "stream",
     "text": [
      "\n",
      "100%|██████████| 125/125 [00:01<00:00, 80.15it/s]\n",
      "100%|██████████| 32/32 [00:00<00:00, 170.18it/s]"
     ]
    },
    {
     "name": "stdout",
     "output_type": "stream",
     "text": [
      "Epoch 15, train loss: 1783.8293, test loss: 1913.1841\n"
     ]
    },
    {
     "name": "stderr",
     "output_type": "stream",
     "text": [
      "\n",
      "100%|██████████| 125/125 [00:01<00:00, 84.32it/s]\n",
      "100%|██████████| 32/32 [00:00<00:00, 158.33it/s]"
     ]
    },
    {
     "name": "stdout",
     "output_type": "stream",
     "text": [
      "Epoch 16, train loss: 1784.9382, test loss: 1916.2510\n"
     ]
    },
    {
     "name": "stderr",
     "output_type": "stream",
     "text": [
      "\n",
      "100%|██████████| 125/125 [00:01<00:00, 79.67it/s]\n",
      "100%|██████████| 32/32 [00:00<00:00, 157.72it/s]"
     ]
    },
    {
     "name": "stdout",
     "output_type": "stream",
     "text": [
      "Epoch 17, train loss: 1782.0666, test loss: 1927.8300\n"
     ]
    },
    {
     "name": "stderr",
     "output_type": "stream",
     "text": [
      "\n",
      "100%|██████████| 125/125 [00:01<00:00, 83.11it/s]\n",
      "100%|██████████| 32/32 [00:00<00:00, 174.72it/s]"
     ]
    },
    {
     "name": "stdout",
     "output_type": "stream",
     "text": [
      "Epoch 18, train loss: 1786.0605, test loss: 1921.2585\n"
     ]
    },
    {
     "name": "stderr",
     "output_type": "stream",
     "text": [
      "\n",
      "100%|██████████| 125/125 [00:01<00:00, 80.18it/s]\n",
      "100%|██████████| 32/32 [00:00<00:00, 170.80it/s]"
     ]
    },
    {
     "name": "stdout",
     "output_type": "stream",
     "text": [
      "Epoch 19, train loss: 1783.6833, test loss: 1917.4883\n"
     ]
    },
    {
     "name": "stderr",
     "output_type": "stream",
     "text": [
      "\n",
      "100%|██████████| 125/125 [00:01<00:00, 81.45it/s]\n",
      "100%|██████████| 32/32 [00:00<00:00, 167.77it/s]"
     ]
    },
    {
     "name": "stdout",
     "output_type": "stream",
     "text": [
      "Epoch 20, train loss: 1783.2330, test loss: 1914.1939\n"
     ]
    },
    {
     "name": "stderr",
     "output_type": "stream",
     "text": [
      "\n",
      "100%|██████████| 125/125 [00:01<00:00, 82.14it/s]\n",
      "100%|██████████| 32/32 [00:00<00:00, 157.70it/s]"
     ]
    },
    {
     "name": "stdout",
     "output_type": "stream",
     "text": [
      "Epoch 21, train loss: 1783.7198, test loss: 1919.9071\n"
     ]
    },
    {
     "name": "stderr",
     "output_type": "stream",
     "text": [
      "\n",
      "100%|██████████| 125/125 [00:01<00:00, 81.24it/s]\n",
      "100%|██████████| 32/32 [00:00<00:00, 169.76it/s]"
     ]
    },
    {
     "name": "stdout",
     "output_type": "stream",
     "text": [
      "Epoch 22, train loss: 1782.7713, test loss: 1919.9515\n"
     ]
    },
    {
     "name": "stderr",
     "output_type": "stream",
     "text": [
      "\n",
      "100%|██████████| 125/125 [00:01<00:00, 81.64it/s]"
     ]
    },
    {
     "name": "stdout",
     "output_type": "stream",
     "text": [
      "Epoch 00023: reducing learning rate of group 0 to 3.0000e-06.\n"
     ]
    },
    {
     "name": "stderr",
     "output_type": "stream",
     "text": [
      "\n",
      "100%|██████████| 32/32 [00:00<00:00, 151.89it/s]"
     ]
    },
    {
     "name": "stdout",
     "output_type": "stream",
     "text": [
      "Epoch 23, train loss: 1790.2206, test loss: 1920.1964\n"
     ]
    },
    {
     "name": "stderr",
     "output_type": "stream",
     "text": [
      "\n",
      "100%|██████████| 125/125 [00:01<00:00, 78.25it/s]\n",
      "100%|██████████| 32/32 [00:00<00:00, 159.82it/s]"
     ]
    },
    {
     "name": "stdout",
     "output_type": "stream",
     "text": [
      "Epoch 24, train loss: 1778.2833, test loss: 1913.4609\n"
     ]
    },
    {
     "name": "stderr",
     "output_type": "stream",
     "text": [
      "\n",
      "100%|██████████| 125/125 [00:01<00:00, 81.32it/s]\n",
      "100%|██████████| 32/32 [00:00<00:00, 176.88it/s]"
     ]
    },
    {
     "name": "stdout",
     "output_type": "stream",
     "text": [
      "Epoch 25, train loss: 1777.9068, test loss: 1913.6995\n"
     ]
    },
    {
     "name": "stderr",
     "output_type": "stream",
     "text": [
      "\n",
      "100%|██████████| 125/125 [00:01<00:00, 82.67it/s]\n",
      "100%|██████████| 32/32 [00:00<00:00, 169.33it/s]"
     ]
    },
    {
     "name": "stdout",
     "output_type": "stream",
     "text": [
      "Epoch 26, train loss: 1777.7269, test loss: 1913.7575\n"
     ]
    },
    {
     "name": "stderr",
     "output_type": "stream",
     "text": [
      "\n",
      "100%|██████████| 125/125 [00:01<00:00, 83.53it/s]\n",
      "100%|██████████| 32/32 [00:00<00:00, 177.62it/s]"
     ]
    },
    {
     "name": "stdout",
     "output_type": "stream",
     "text": [
      "Epoch 27, train loss: 1778.1664, test loss: 1913.9387\n"
     ]
    },
    {
     "name": "stderr",
     "output_type": "stream",
     "text": [
      "\n",
      "100%|██████████| 125/125 [00:01<00:00, 82.60it/s]\n",
      "100%|██████████| 32/32 [00:00<00:00, 172.04it/s]"
     ]
    },
    {
     "name": "stdout",
     "output_type": "stream",
     "text": [
      "Epoch 28, train loss: 1777.8395, test loss: 1914.1153\n"
     ]
    },
    {
     "name": "stderr",
     "output_type": "stream",
     "text": [
      "\n",
      "100%|██████████| 125/125 [00:01<00:00, 81.31it/s]\n",
      "100%|██████████| 32/32 [00:00<00:00, 177.52it/s]"
     ]
    },
    {
     "name": "stdout",
     "output_type": "stream",
     "text": [
      "Epoch 29, train loss: 1777.7945, test loss: 1914.3630\n"
     ]
    },
    {
     "name": "stderr",
     "output_type": "stream",
     "text": [
      "\n",
      "100%|██████████| 125/125 [00:01<00:00, 79.40it/s]\n",
      "100%|██████████| 32/32 [00:00<00:00, 171.11it/s]"
     ]
    },
    {
     "name": "stdout",
     "output_type": "stream",
     "text": [
      "Epoch 30, train loss: 1777.6664, test loss: 1914.7065\n"
     ]
    },
    {
     "name": "stderr",
     "output_type": "stream",
     "text": [
      "\n",
      "100%|██████████| 125/125 [00:01<00:00, 80.96it/s]\n",
      "100%|██████████| 32/32 [00:00<00:00, 171.65it/s]"
     ]
    },
    {
     "name": "stdout",
     "output_type": "stream",
     "text": [
      "Epoch 31, train loss: 1777.7703, test loss: 1914.4857\n"
     ]
    },
    {
     "name": "stderr",
     "output_type": "stream",
     "text": [
      "\n",
      "100%|██████████| 125/125 [00:01<00:00, 82.93it/s]"
     ]
    },
    {
     "name": "stdout",
     "output_type": "stream",
     "text": [
      "Epoch 00032: reducing learning rate of group 0 to 3.0000e-07.\n"
     ]
    },
    {
     "name": "stderr",
     "output_type": "stream",
     "text": [
      "\n",
      "100%|██████████| 32/32 [00:00<00:00, 176.49it/s]"
     ]
    },
    {
     "name": "stdout",
     "output_type": "stream",
     "text": [
      "Epoch 32, train loss: 1777.8768, test loss: 1914.9711\n"
     ]
    },
    {
     "name": "stderr",
     "output_type": "stream",
     "text": [
      "\n",
      "100%|██████████| 125/125 [00:01<00:00, 83.25it/s]\n",
      "100%|██████████| 32/32 [00:00<00:00, 180.54it/s]"
     ]
    },
    {
     "name": "stdout",
     "output_type": "stream",
     "text": [
      "Epoch 33, train loss: 1777.3310, test loss: 1914.5801\n"
     ]
    },
    {
     "name": "stderr",
     "output_type": "stream",
     "text": [
      "\n",
      "100%|██████████| 125/125 [00:01<00:00, 80.22it/s]\n",
      "100%|██████████| 32/32 [00:00<00:00, 162.15it/s]\n"
     ]
    },
    {
     "name": "stdout",
     "output_type": "stream",
     "text": [
      "Epoch 34, train loss: 1776.9110, test loss: 1914.4984\n"
     ]
    },
    {
     "name": "stderr",
     "output_type": "stream",
     "text": [
      "100%|██████████| 125/125 [00:01<00:00, 80.00it/s]\n",
      "100%|██████████| 32/32 [00:00<00:00, 172.79it/s]"
     ]
    },
    {
     "name": "stdout",
     "output_type": "stream",
     "text": [
      "Epoch 35, train loss: 1776.7938, test loss: 1914.5293\n"
     ]
    },
    {
     "name": "stderr",
     "output_type": "stream",
     "text": [
      "\n",
      "100%|██████████| 125/125 [00:01<00:00, 79.95it/s]\n",
      "100%|██████████| 32/32 [00:00<00:00, 168.01it/s]"
     ]
    },
    {
     "name": "stdout",
     "output_type": "stream",
     "text": [
      "Epoch 36, train loss: 1776.7564, test loss: 1914.5607\n"
     ]
    },
    {
     "name": "stderr",
     "output_type": "stream",
     "text": [
      "\n",
      "100%|██████████| 125/125 [00:01<00:00, 81.96it/s]\n",
      "100%|██████████| 32/32 [00:00<00:00, 159.71it/s]"
     ]
    },
    {
     "name": "stdout",
     "output_type": "stream",
     "text": [
      "Epoch 37, train loss: 1776.8068, test loss: 1914.6165\n"
     ]
    },
    {
     "name": "stderr",
     "output_type": "stream",
     "text": [
      "\n",
      "100%|██████████| 125/125 [00:01<00:00, 81.86it/s]\n",
      "100%|██████████| 32/32 [00:00<00:00, 176.04it/s]"
     ]
    },
    {
     "name": "stdout",
     "output_type": "stream",
     "text": [
      "Epoch 38, train loss: 1776.7302, test loss: 1914.6196\n"
     ]
    },
    {
     "name": "stderr",
     "output_type": "stream",
     "text": [
      "\n",
      "100%|██████████| 125/125 [00:01<00:00, 81.70it/s]\n",
      "100%|██████████| 32/32 [00:00<00:00, 160.78it/s]"
     ]
    },
    {
     "name": "stdout",
     "output_type": "stream",
     "text": [
      "Epoch 39, train loss: 1776.7324, test loss: 1914.6827\n"
     ]
    },
    {
     "name": "stderr",
     "output_type": "stream",
     "text": [
      "\n",
      "100%|██████████| 125/125 [00:01<00:00, 81.05it/s]\n",
      "100%|██████████| 32/32 [00:00<00:00, 176.09it/s]"
     ]
    },
    {
     "name": "stdout",
     "output_type": "stream",
     "text": [
      "Epoch 40, train loss: 1776.7918, test loss: 1914.6887\n"
     ]
    },
    {
     "name": "stderr",
     "output_type": "stream",
     "text": [
      "\n",
      "100%|██████████| 125/125 [00:01<00:00, 81.51it/s]\n",
      "100%|██████████| 32/32 [00:00<00:00, 165.01it/s]"
     ]
    },
    {
     "name": "stdout",
     "output_type": "stream",
     "text": [
      "Epoch 41, train loss: 1776.7148, test loss: 1914.6936\n"
     ]
    },
    {
     "name": "stderr",
     "output_type": "stream",
     "text": [
      "\n",
      "100%|██████████| 125/125 [00:01<00:00, 82.03it/s]\n",
      "100%|██████████| 32/32 [00:00<00:00, 174.17it/s]"
     ]
    },
    {
     "name": "stdout",
     "output_type": "stream",
     "text": [
      "Epoch 42, train loss: 1776.7004, test loss: 1914.7154\n"
     ]
    },
    {
     "name": "stderr",
     "output_type": "stream",
     "text": [
      "\n",
      "100%|██████████| 125/125 [00:01<00:00, 82.91it/s]\n",
      "100%|██████████| 32/32 [00:00<00:00, 158.37it/s]"
     ]
    },
    {
     "name": "stdout",
     "output_type": "stream",
     "text": [
      "Epoch 43, train loss: 1776.7042, test loss: 1914.7707\n"
     ]
    },
    {
     "name": "stderr",
     "output_type": "stream",
     "text": [
      "\n",
      "100%|██████████| 125/125 [00:01<00:00, 79.57it/s]"
     ]
    },
    {
     "name": "stdout",
     "output_type": "stream",
     "text": [
      "Epoch 00044: reducing learning rate of group 0 to 3.0000e-08.\n"
     ]
    },
    {
     "name": "stderr",
     "output_type": "stream",
     "text": [
      "\n",
      "100%|██████████| 32/32 [00:00<00:00, 164.70it/s]"
     ]
    },
    {
     "name": "stdout",
     "output_type": "stream",
     "text": [
      "Epoch 44, train loss: 1776.6900, test loss: 1914.7794\n"
     ]
    },
    {
     "name": "stderr",
     "output_type": "stream",
     "text": [
      "\n",
      "100%|██████████| 125/125 [00:01<00:00, 81.66it/s]\n",
      "100%|██████████| 32/32 [00:00<00:00, 183.66it/s]"
     ]
    },
    {
     "name": "stdout",
     "output_type": "stream",
     "text": [
      "Epoch 45, train loss: 1776.5871, test loss: 1914.7814\n"
     ]
    },
    {
     "name": "stderr",
     "output_type": "stream",
     "text": [
      "\n",
      "100%|██████████| 125/125 [00:01<00:00, 80.16it/s]\n",
      "100%|██████████| 32/32 [00:00<00:00, 181.19it/s]"
     ]
    },
    {
     "name": "stdout",
     "output_type": "stream",
     "text": [
      "Epoch 46, train loss: 1776.5829, test loss: 1914.7817\n"
     ]
    },
    {
     "name": "stderr",
     "output_type": "stream",
     "text": [
      "\n",
      "100%|██████████| 125/125 [00:01<00:00, 81.03it/s]\n",
      "100%|██████████| 32/32 [00:00<00:00, 154.58it/s]"
     ]
    },
    {
     "name": "stdout",
     "output_type": "stream",
     "text": [
      "Epoch 47, train loss: 1776.5775, test loss: 1914.7836\n"
     ]
    },
    {
     "name": "stderr",
     "output_type": "stream",
     "text": [
      "\n",
      "100%|██████████| 125/125 [00:01<00:00, 82.48it/s]\n",
      "100%|██████████| 32/32 [00:00<00:00, 151.32it/s]"
     ]
    },
    {
     "name": "stdout",
     "output_type": "stream",
     "text": [
      "Epoch 48, train loss: 1776.5864, test loss: 1914.7864\n"
     ]
    },
    {
     "name": "stderr",
     "output_type": "stream",
     "text": [
      "\n",
      "100%|██████████| 125/125 [00:01<00:00, 81.88it/s]\n",
      "100%|██████████| 32/32 [00:00<00:00, 164.71it/s]\n"
     ]
    },
    {
     "name": "stdout",
     "output_type": "stream",
     "text": [
      "Epoch 49, train loss: 1776.5755, test loss: 1914.7868\n"
     ]
    },
    {
     "name": "stderr",
     "output_type": "stream",
     "text": [
      "100%|██████████| 125/125 [00:01<00:00, 81.09it/s]"
     ]
    },
    {
     "name": "stdout",
     "output_type": "stream",
     "text": [
      "Epoch 00050: reducing learning rate of group 0 to 3.0000e-09.\n"
     ]
    },
    {
     "name": "stderr",
     "output_type": "stream",
     "text": [
      "\n",
      "100%|██████████| 32/32 [00:00<00:00, 167.90it/s]"
     ]
    },
    {
     "name": "stdout",
     "output_type": "stream",
     "text": [
      "Epoch 50, train loss: 1776.5779, test loss: 1914.7862\n"
     ]
    },
    {
     "name": "stderr",
     "output_type": "stream",
     "text": [
      "\n"
     ]
    }
   ],
   "source": [
    "train_loss_dict = {}\n",
    "test_loss_dict = {}\n",
    "train_cycle(\"SGD\", optimizers_list[\"SGD\"], train_loss_dict, test_loss_dict)"
   ]
  },
  {
   "cell_type": "code",
   "execution_count": 34,
   "metadata": {},
   "outputs": [
    {
     "data": {
      "image/png": "[encoded data removed]",
      "text/plain": [
       "<Figure size 1200x600 with 2 Axes>"
      ]
     },
     "metadata": {},
     "output_type": "display_data"
    }
   ],
   "source": [
    "plot_dictionaries(\n",
    "    train_loss_dict,\n",
    "    test_loss_dict,\n",
    "    initial_mse_train,\n",
    "    initial_mse_val,\n",
    "    f\"{experiment_dir}/{EXPERIMENT_NAME}_final.png\",\n",
    ")"
   ]
  },
  {
   "cell_type": "code",
   "execution_count": 35,
   "metadata": {},
   "outputs": [],
   "source": [
    "import json\n",
    "\n",
    "file_path = f\"{experiment_dir}/{EXPERIMENT_NAME}_train.json\"\n",
    "with open(file_path, \"w\") as json_file:\n",
    "    json.dump(train_loss_dict, json_file)\n",
    "\n",
    "file_path = f\"{experiment_dir}/{EXPERIMENT_NAME}_test.json\"\n",
    "with open(file_path, \"w\") as json_file:\n",
    "    json.dump(test_loss_dict, json_file)"
   ]
  },
  {
   "cell_type": "code",
   "execution_count": 37,
   "metadata": {},
   "outputs": [],
   "source": [
    "logging.info(\n",
    "    f\"% of variation before training: {(initial_mse_train/(df_train.TargetPrice - df_train.BSAprox).var() * 100).round(2)}\"\n",
    ")\n",
    "logging.info(\n",
    "    f\"% of variation after training: {(train_loss_dict['SGD'][20]/ (df_train.TargetPrice - df_train.BSAprox).var() * 100).round(2)}\"\n",
    ")\n",
    "logging.info(\n",
    "    f\"% of variation before training: {(initial_mse_val/(df_test.TargetPrice - df_test.BSAprox).var() * 100).round(2)}\"\n",
    ")\n",
    "logging.info(\n",
    "    f\"% of variation after training: {(test_loss_dict['SGD'][20] / (df_test.TargetPrice - df_test.BSAprox).var() * 100).round(2)}\"\n",
    ")"
   ]
  },
  {
   "cell_type": "code",
   "execution_count": null,
   "metadata": {},
   "outputs": [],
   "source": []
  }
 ],
 "metadata": {
  "kernelspec": {
   "display_name": "main",
   "language": "python",
   "name": "python3"
  },
  "language_info": {
   "codemirror_mode": {
    "name": "ipython",
    "version": 3
   },
   "file_extension": ".py",
   "mimetype": "text/x-python",
   "name": "python",
   "nbconvert_exporter": "python",
   "pygments_lexer": "ipython3",
   "version": "3.11.5"
  }
 },
 "nbformat": 4,
 "nbformat_minor": 2
}
