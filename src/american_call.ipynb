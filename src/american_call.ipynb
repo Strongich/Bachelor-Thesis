{
 "cells": [
  {
   "cell_type": "code",
   "execution_count": 54,
   "metadata": {},
   "outputs": [],
   "source": [
    "import torch\n",
    "import numpy as np\n",
    "import matplotlib.pyplot as plt\n",
    "import torch.nn as nn\n",
    "from torch.utils.data import DataLoader\n",
    "from tqdm import tqdm\n",
    "import pandas as pd\n",
    "from sklearn.model_selection import train_test_split\n",
    "import os\n",
    "from scipy.stats import skew, kurtosis\n",
    "\n",
    "torch.cuda.empty_cache()\n",
    "# imports of custom blocks for model, data generation\n",
    "from Ferret.ImplicitAm import ImplicitAmBre, ImplicitAmBer\n",
    "from create_plots import *\n",
    "from models import *\n",
    "from utils import AmericanCallData, get_prices_call\n",
    "from utils import S, T, K, RISK_FREE, SIGMA, S_MAX"
   ]
  },
  {
   "cell_type": "markdown",
   "metadata": {},
   "source": [
    "## Call Option\n",
    "\n",
    "### Content: \n",
    "1. **Generating Data**\n",
    "2. **Training on Generated Data, Testing Both on Generated and Real Data**\n",
    "3. **Training on Real Data, Testing on Real Data**\n",
    "4. **Mixture of Data (70/30, 50/50), Testing on Real Data**\n"
   ]
  },
  {
   "cell_type": "code",
   "execution_count": null,
   "metadata": {},
   "outputs": [],
   "source": [
    "call_data = AmericanCallData(t_range=T, S_range=S, K=K, r=RISK_FREE, sigma=SIGMA)\n",
    "# N_ivp - IVP points\n",
    "# N_bvp - both BVP1 and BVP2 points\n",
    "# N_col - colocation points\n",
    "X = call_data.initialize_data(N_ivp=1000, N_bvp=3000, N_col=6000, is_call=True)\n",
    "option = ImplicitAmBer(\n",
    "    S[0],\n",
    "    K,\n",
    "    RISK_FREE,\n",
    "    T[1],\n",
    "    SIGMA,\n",
    "    S_MAX,\n",
    "    M=400,  # S\n",
    "    N=365 * 3,  # t\n",
    "    is_call=False,\n",
    ")\n",
    "option.price()\n",
    "option_fde_prices = option.grid\n",
    "data = get_prices_call(X, option_fde_prices, generated=True)\n",
    "df = pd.DataFrame(\n",
    "    data=data,\n",
    "    columns=[\n",
    "        \"TimeToExp\",\n",
    "        \"UnderlyingPrice\",\n",
    "        \"TargetPrice\",\n",
    "        \"OpenInterest\",\n",
    "        \"Delta\",\n",
    "        \"Gamma\",\n",
    "        \"Theta\",\n",
    "        \"Vega\",\n",
    "        \"BSAprox\",\n",
    "    ],\n",
    ")\n",
    "df[[\"TimeToExp\", \"UnderlyingPrice\", \"TargetPrice\", \"BSAprox\"]] = df[\n",
    "    [\"TimeToExp\", \"UnderlyingPrice\", \"TargetPrice\", \"BSAprox\"]\n",
    "].round(2)\n",
    "df[\"OpenInterest\"] = df[\"OpenInterest\"].round(0)\n",
    "df.to_csv(\"../train_data/generated_call.csv\")"
   ]
  },
  {
   "cell_type": "code",
   "execution_count": 55,
   "metadata": {},
   "outputs": [
    {
     "name": "stdout",
     "output_type": "stream",
     "text": [
      "(10000, 9)\n"
     ]
    },
    {
     "data": {
      "text/html": [
       "<div>\n",
       "<style scoped>\n",
       "    .dataframe tbody tr th:only-of-type {\n",
       "        vertical-align: middle;\n",
       "    }\n",
       "\n",
       "    .dataframe tbody tr th {\n",
       "        vertical-align: top;\n",
       "    }\n",
       "\n",
       "    .dataframe thead th {\n",
       "        text-align: right;\n",
       "    }\n",
       "</style>\n",
       "<table border=\"1\" class=\"dataframe\">\n",
       "  <thead>\n",
       "    <tr style=\"text-align: right;\">\n",
       "      <th></th>\n",
       "      <th>TimeToExp</th>\n",
       "      <th>UnderlyingPrice</th>\n",
       "      <th>TargetPrice</th>\n",
       "      <th>OpenInterest</th>\n",
       "      <th>Delta</th>\n",
       "      <th>Gamma</th>\n",
       "      <th>Theta</th>\n",
       "      <th>Vega</th>\n",
       "      <th>BSAprox</th>\n",
       "    </tr>\n",
       "  </thead>\n",
       "  <tbody>\n",
       "    <tr>\n",
       "      <th>0</th>\n",
       "      <td>850.0</td>\n",
       "      <td>122.12</td>\n",
       "      <td>43.00</td>\n",
       "      <td>364.0</td>\n",
       "      <td>0.345992</td>\n",
       "      <td>0.144298</td>\n",
       "      <td>-3.575622</td>\n",
       "      <td>2.522842</td>\n",
       "      <td>31.500</td>\n",
       "    </tr>\n",
       "    <tr>\n",
       "      <th>1</th>\n",
       "      <td>311.0</td>\n",
       "      <td>186.19</td>\n",
       "      <td>29.31</td>\n",
       "      <td>514.0</td>\n",
       "      <td>0.167115</td>\n",
       "      <td>0.056784</td>\n",
       "      <td>-2.531811</td>\n",
       "      <td>6.822075</td>\n",
       "      <td>24.655</td>\n",
       "    </tr>\n",
       "    <tr>\n",
       "      <th>2</th>\n",
       "      <td>629.0</td>\n",
       "      <td>52.52</td>\n",
       "      <td>69.69</td>\n",
       "      <td>65.0</td>\n",
       "      <td>0.376269</td>\n",
       "      <td>0.272558</td>\n",
       "      <td>-7.814967</td>\n",
       "      <td>5.852912</td>\n",
       "      <td>0.000</td>\n",
       "    </tr>\n",
       "    <tr>\n",
       "      <th>3</th>\n",
       "      <td>469.0</td>\n",
       "      <td>144.80</td>\n",
       "      <td>37.75</td>\n",
       "      <td>58.0</td>\n",
       "      <td>0.009575</td>\n",
       "      <td>0.017516</td>\n",
       "      <td>-1.451383</td>\n",
       "      <td>1.604901</td>\n",
       "      <td>0.000</td>\n",
       "    </tr>\n",
       "    <tr>\n",
       "      <th>4</th>\n",
       "      <td>0.0</td>\n",
       "      <td>187.07</td>\n",
       "      <td>29.12</td>\n",
       "      <td>91.0</td>\n",
       "      <td>0.441506</td>\n",
       "      <td>0.138325</td>\n",
       "      <td>-8.777276</td>\n",
       "      <td>5.934998</td>\n",
       "      <td>118.970</td>\n",
       "    </tr>\n",
       "  </tbody>\n",
       "</table>\n",
       "</div>"
      ],
      "text/plain": [
       "   TimeToExp  UnderlyingPrice  TargetPrice  OpenInterest     Delta     Gamma  \\\n",
       "0      850.0           122.12        43.00         364.0  0.345992  0.144298   \n",
       "1      311.0           186.19        29.31         514.0  0.167115  0.056784   \n",
       "2      629.0            52.52        69.69          65.0  0.376269  0.272558   \n",
       "3      469.0           144.80        37.75          58.0  0.009575  0.017516   \n",
       "4        0.0           187.07        29.12          91.0  0.441506  0.138325   \n",
       "\n",
       "      Theta      Vega  BSAprox  \n",
       "0 -3.575622  2.522842   31.500  \n",
       "1 -2.531811  6.822075   24.655  \n",
       "2 -7.814967  5.852912    0.000  \n",
       "3 -1.451383  1.604901    0.000  \n",
       "4 -8.777276  5.934998  118.970  "
      ]
     },
     "execution_count": 55,
     "metadata": {},
     "output_type": "execute_result"
    }
   ],
   "source": [
    "df = pd.read_csv(\"../train_data/generated_call.csv\",index_col=0)\n",
    "print(df.shape)\n",
    "df.head()"
   ]
  },
  {
   "cell_type": "code",
   "execution_count": 3,
   "metadata": {},
   "outputs": [
    {
     "name": "stdout",
     "output_type": "stream",
     "text": [
      "ITM count:4201\n",
      "OTM count:5799\n"
     ]
    }
   ],
   "source": [
    "# Check for ITM and OTM\n",
    "print(f\"ITM count:{np.sum(df.UnderlyingPrice > K)}\")\n",
    "print(f\"OTM count:{np.sum(df.UnderlyingPrice <= K)}\")"
   ]
  },
  {
   "cell_type": "code",
   "execution_count": 30,
   "metadata": {},
   "outputs": [
    {
     "data": {
      "image/png": "[encoded data removed]",
      "text/plain": [
       "<Figure size 1200x800 with 1 Axes>"
      ]
     },
     "metadata": {},
     "output_type": "display_data"
    }
   ],
   "source": [
    "plt.figure(figsize=(12, 8))\n",
    "plt.scatter(\n",
    "    x=np.arange(1, len(df.TargetPrice) + 1, 1), y=df.TargetPrice, label=\"TargetValue\"\n",
    ")\n",
    "plt.scatter(x=np.arange(1, len(df.BSAprox) + 1, 1), y=df.BSAprox, label=\"B-S approx.\")\n",
    "plt.legend()\n",
    "plt.show()"
   ]
  },
  {
   "cell_type": "code",
   "execution_count": 5,
   "metadata": {},
   "outputs": [
    {
     "data": {
      "image/png": "[encoded data removed]",
      "text/plain": [
       "<Figure size 640x480 with 1 Axes>"
      ]
     },
     "metadata": {},
     "output_type": "display_data"
    }
   ],
   "source": [
    "plt.hist(df.TargetPrice, label=\"Target value\")\n",
    "plt.hist(df.BSAprox, label=\"B-S\")\n",
    "plt.legend()\n",
    "plt.show()"
   ]
  },
  {
   "cell_type": "code",
   "execution_count": null,
   "metadata": {},
   "outputs": [],
   "source": [
    "# adding BSAprox column to real data\n",
    "# Run it once, only if u dont have saved df\n",
    "df_real = get_prices_call(df_real.to_numpy(), generated=False)\n",
    "df_real = pd.DataFrame(\n",
    "    data=df_real,\n",
    "    columns=[\n",
    "        [\n",
    "            \"UnderlyingPrice\",\n",
    "            \"Type\",\n",
    "            \"Strike\",\n",
    "            \"OpenInterest\",\n",
    "            \"IV\",\n",
    "            \"Delta\",\n",
    "            \"Gamma\",\n",
    "            \"Theta\",\n",
    "            \"Vega\",\n",
    "            \"Time\",\n",
    "            \"TargetPrice\",\n",
    "            \"BSAprox\",\n",
    "        ]\n",
    "    ],\n",
    ")\n",
    "\n",
    "df_real[\"BSAprox\"] = df_real[\"BSAprox\"].round(2)\n",
    "df_real.to_csv(\"../train_data/call_df_with_approx.csv\")"
   ]
  },
  {
   "cell_type": "code",
   "execution_count": 2,
   "metadata": {},
   "outputs": [
    {
     "data": {
      "text/html": [
       "<div>\n",
       "<style scoped>\n",
       "    .dataframe tbody tr th:only-of-type {\n",
       "        vertical-align: middle;\n",
       "    }\n",
       "\n",
       "    .dataframe tbody tr th {\n",
       "        vertical-align: top;\n",
       "    }\n",
       "\n",
       "    .dataframe thead th {\n",
       "        text-align: right;\n",
       "    }\n",
       "</style>\n",
       "<table border=\"1\" class=\"dataframe\">\n",
       "  <thead>\n",
       "    <tr style=\"text-align: right;\">\n",
       "      <th></th>\n",
       "      <th>UnderlyingPrice</th>\n",
       "      <th>Type</th>\n",
       "      <th>Strike</th>\n",
       "      <th>OpenInterest</th>\n",
       "      <th>IV</th>\n",
       "      <th>Delta</th>\n",
       "      <th>Gamma</th>\n",
       "      <th>Theta</th>\n",
       "      <th>Vega</th>\n",
       "      <th>Time</th>\n",
       "      <th>TargetPrice</th>\n",
       "      <th>BSAprox</th>\n",
       "    </tr>\n",
       "  </thead>\n",
       "  <tbody>\n",
       "    <tr>\n",
       "      <th>0</th>\n",
       "      <td>71.11</td>\n",
       "      <td>call</td>\n",
       "      <td>55.0</td>\n",
       "      <td>0</td>\n",
       "      <td>0.2693</td>\n",
       "      <td>1.0000</td>\n",
       "      <td>0.0000</td>\n",
       "      <td>-1.2654</td>\n",
       "      <td>0.0015</td>\n",
       "      <td>21</td>\n",
       "      <td>16.08</td>\n",
       "      <td>16.11</td>\n",
       "    </tr>\n",
       "    <tr>\n",
       "      <th>1</th>\n",
       "      <td>71.11</td>\n",
       "      <td>call</td>\n",
       "      <td>60.0</td>\n",
       "      <td>3</td>\n",
       "      <td>0.2693</td>\n",
       "      <td>0.9968</td>\n",
       "      <td>0.0022</td>\n",
       "      <td>-1.7664</td>\n",
       "      <td>0.1636</td>\n",
       "      <td>21</td>\n",
       "      <td>11.38</td>\n",
       "      <td>11.11</td>\n",
       "    </tr>\n",
       "    <tr>\n",
       "      <th>2</th>\n",
       "      <td>71.11</td>\n",
       "      <td>call</td>\n",
       "      <td>62.5</td>\n",
       "      <td>9</td>\n",
       "      <td>0.2693</td>\n",
       "      <td>0.9813</td>\n",
       "      <td>0.0101</td>\n",
       "      <td>-3.2537</td>\n",
       "      <td>0.7659</td>\n",
       "      <td>21</td>\n",
       "      <td>8.50</td>\n",
       "      <td>8.61</td>\n",
       "    </tr>\n",
       "    <tr>\n",
       "      <th>3</th>\n",
       "      <td>71.11</td>\n",
       "      <td>call</td>\n",
       "      <td>65.0</td>\n",
       "      <td>16</td>\n",
       "      <td>0.2693</td>\n",
       "      <td>0.9286</td>\n",
       "      <td>0.0302</td>\n",
       "      <td>-6.9022</td>\n",
       "      <td>2.2884</td>\n",
       "      <td>21</td>\n",
       "      <td>6.98</td>\n",
       "      <td>6.11</td>\n",
       "    </tr>\n",
       "    <tr>\n",
       "      <th>4</th>\n",
       "      <td>71.11</td>\n",
       "      <td>call</td>\n",
       "      <td>67.5</td>\n",
       "      <td>44</td>\n",
       "      <td>0.2430</td>\n",
       "      <td>0.8313</td>\n",
       "      <td>0.0617</td>\n",
       "      <td>-10.4813</td>\n",
       "      <td>4.2260</td>\n",
       "      <td>21</td>\n",
       "      <td>4.10</td>\n",
       "      <td>3.61</td>\n",
       "    </tr>\n",
       "  </tbody>\n",
       "</table>\n",
       "</div>"
      ],
      "text/plain": [
       "   UnderlyingPrice  Type  Strike  OpenInterest      IV   Delta   Gamma  \\\n",
       "0            71.11  call    55.0             0  0.2693  1.0000  0.0000   \n",
       "1            71.11  call    60.0             3  0.2693  0.9968  0.0022   \n",
       "2            71.11  call    62.5             9  0.2693  0.9813  0.0101   \n",
       "3            71.11  call    65.0            16  0.2693  0.9286  0.0302   \n",
       "4            71.11  call    67.5            44  0.2430  0.8313  0.0617   \n",
       "\n",
       "     Theta    Vega  Time  TargetPrice  BSAprox  \n",
       "0  -1.2654  0.0015    21        16.08    16.11  \n",
       "1  -1.7664  0.1636    21        11.38    11.11  \n",
       "2  -3.2537  0.7659    21         8.50     8.61  \n",
       "3  -6.9022  2.2884    21         6.98     6.11  \n",
       "4 -10.4813  4.2260    21         4.10     3.61  "
      ]
     },
     "execution_count": 2,
     "metadata": {},
     "output_type": "execute_result"
    }
   ],
   "source": [
    "# df_real[\"BSAprox\"] = df_real[\"BSAprox\"].round(2)\n",
    "# df_real.to_csv(\"../train_data/call_df_with_approx.csv\")\n",
    "df_real = pd.read_csv(\"../train_data/call_df_with_approx.csv\", index_col=0)\n",
    "df_real.head()"
   ]
  },
  {
   "cell_type": "code",
   "execution_count": 56,
   "metadata": {},
   "outputs": [],
   "source": [
    "# hyperparams for training\n",
    "N_EPOCH = 100\n",
    "RISK_FREE = 0.03\n",
    "SIGMA = 0.4\n",
    "LEARNING_RATE = 0.00075178\n",
    "HIDDEN_LAYER = 24\n",
    "HIDDEN_WIDTH = 64\n",
    "EXPERIMENT_NAME = \"exp_call_12_gen\"\n",
    "MODEL_TYPE = AmericanPut_gated3\n",
    "experiment_dir = f\"../experiments_dir/{EXPERIMENT_NAME}\"\n",
    "os.makedirs(experiment_dir, exist_ok=True)"
   ]
  },
  {
   "cell_type": "code",
   "execution_count": 57,
   "metadata": {},
   "outputs": [],
   "source": [
    "import logging\n",
    "from datetime import datetime\n",
    "\n",
    "logger = logging.getLogger()\n",
    "current_date = datetime.now().strftime(\"%Y-%m-%d\")\n",
    "log_file_name = f\"{experiment_dir}/{EXPERIMENT_NAME}_log_{current_date}.log\"\n",
    "fhandler = logging.FileHandler(filename=log_file_name, mode=\"w\")\n",
    "formatter = logging.Formatter(\"%(asctime)s - %(name)s - %(levelname)s - %(message)s\")\n",
    "fhandler.setFormatter(formatter)\n",
    "logger.addHandler(fhandler)\n",
    "logger.setLevel(logging.INFO)"
   ]
  },
  {
   "cell_type": "code",
   "execution_count": 58,
   "metadata": {},
   "outputs": [
    {
     "name": "stdout",
     "output_type": "stream",
     "text": [
      "cuda\n"
     ]
    }
   ],
   "source": [
    "DEVICE = \"cuda\" if torch.cuda.is_available() else \"cpu\"\n",
    "print(DEVICE)\n",
    "# torch.set_default_device(DEVICE)\n",
    "logging.info(f\"Running on device={DEVICE}\")"
   ]
  },
  {
   "cell_type": "code",
   "execution_count": 59,
   "metadata": {},
   "outputs": [],
   "source": [
    "logging.info(f\"N_EPOCH: {N_EPOCH}\")\n",
    "logging.info(f\"LEARNING_RATE: {LEARNING_RATE}\")\n",
    "logging.info(f\"HIDDEN_LAYER: {HIDDEN_LAYER}\")\n",
    "logging.info(f\"HIDDEN_WIDTH: {HIDDEN_WIDTH}\")\n",
    "# logging.info(f\"N_sample: {N_sample}\")\n",
    "logging.info(f\"EXPERIMENT_NAME: {EXPERIMENT_NAME}\")\n",
    "logging.info(f\"Model type: {MODEL_TYPE.__name__}\")"
   ]
  },
  {
   "cell_type": "code",
   "execution_count": 60,
   "metadata": {},
   "outputs": [
    {
     "name": "stdout",
     "output_type": "stream",
     "text": [
      "(8000, 9)\n",
      "(2000, 9)\n"
     ]
    }
   ],
   "source": [
    "# df = df_real.sample(n=20000, random_state=42)\n",
    "df_train, df_val = train_test_split(df, test_size=0.2)\n",
    "print(df_train.shape)\n",
    "print(df_val.shape)"
   ]
  },
  {
   "cell_type": "code",
   "execution_count": 8,
   "metadata": {},
   "outputs": [
    {
     "data": {
      "text/html": [
       "<div>\n",
       "<style scoped>\n",
       "    .dataframe tbody tr th:only-of-type {\n",
       "        vertical-align: middle;\n",
       "    }\n",
       "\n",
       "    .dataframe tbody tr th {\n",
       "        vertical-align: top;\n",
       "    }\n",
       "\n",
       "    .dataframe thead th {\n",
       "        text-align: right;\n",
       "    }\n",
       "</style>\n",
       "<table border=\"1\" class=\"dataframe\">\n",
       "  <thead>\n",
       "    <tr style=\"text-align: right;\">\n",
       "      <th></th>\n",
       "      <th>UnderlyingPrice</th>\n",
       "      <th>Type</th>\n",
       "      <th>Strike</th>\n",
       "      <th>OpenInterest</th>\n",
       "      <th>IV</th>\n",
       "      <th>Delta</th>\n",
       "      <th>Gamma</th>\n",
       "      <th>Theta</th>\n",
       "      <th>Vega</th>\n",
       "      <th>Time</th>\n",
       "      <th>TargetPrice</th>\n",
       "      <th>BSAprox</th>\n",
       "    </tr>\n",
       "  </thead>\n",
       "  <tbody>\n",
       "    <tr>\n",
       "      <th>199175</th>\n",
       "      <td>118.42</td>\n",
       "      <td>call</td>\n",
       "      <td>75.0</td>\n",
       "      <td>0</td>\n",
       "      <td>0.1420</td>\n",
       "      <td>1.0000</td>\n",
       "      <td>0.0000</td>\n",
       "      <td>-1.7039</td>\n",
       "      <td>0.0003</td>\n",
       "      <td>175</td>\n",
       "      <td>43.70</td>\n",
       "      <td>43.42</td>\n",
       "    </tr>\n",
       "    <tr>\n",
       "      <th>2363</th>\n",
       "      <td>85.32</td>\n",
       "      <td>call</td>\n",
       "      <td>77.0</td>\n",
       "      <td>1</td>\n",
       "      <td>0.3000</td>\n",
       "      <td>1.0000</td>\n",
       "      <td>0.0000</td>\n",
       "      <td>0.0000</td>\n",
       "      <td>0.0000</td>\n",
       "      <td>0</td>\n",
       "      <td>8.48</td>\n",
       "      <td>8.32</td>\n",
       "    </tr>\n",
       "    <tr>\n",
       "      <th>176795</th>\n",
       "      <td>50.59</td>\n",
       "      <td>call</td>\n",
       "      <td>69.0</td>\n",
       "      <td>0</td>\n",
       "      <td>0.2779</td>\n",
       "      <td>0.2964</td>\n",
       "      <td>0.0183</td>\n",
       "      <td>-2.0880</td>\n",
       "      <td>23.4755</td>\n",
       "      <td>658</td>\n",
       "      <td>3.83</td>\n",
       "      <td>0.00</td>\n",
       "    </tr>\n",
       "    <tr>\n",
       "      <th>88593</th>\n",
       "      <td>87.16</td>\n",
       "      <td>call</td>\n",
       "      <td>71.0</td>\n",
       "      <td>0</td>\n",
       "      <td>0.0304</td>\n",
       "      <td>1.0000</td>\n",
       "      <td>0.0000</td>\n",
       "      <td>-1.6194</td>\n",
       "      <td>0.0000</td>\n",
       "      <td>112</td>\n",
       "      <td>16.08</td>\n",
       "      <td>16.16</td>\n",
       "    </tr>\n",
       "    <tr>\n",
       "      <th>114834</th>\n",
       "      <td>125.60</td>\n",
       "      <td>call</td>\n",
       "      <td>110.0</td>\n",
       "      <td>0</td>\n",
       "      <td>0.3586</td>\n",
       "      <td>0.8635</td>\n",
       "      <td>0.0133</td>\n",
       "      <td>-14.9743</td>\n",
       "      <td>9.9588</td>\n",
       "      <td>49</td>\n",
       "      <td>17.25</td>\n",
       "      <td>15.60</td>\n",
       "    </tr>\n",
       "    <tr>\n",
       "      <th>...</th>\n",
       "      <td>...</td>\n",
       "      <td>...</td>\n",
       "      <td>...</td>\n",
       "      <td>...</td>\n",
       "      <td>...</td>\n",
       "      <td>...</td>\n",
       "      <td>...</td>\n",
       "      <td>...</td>\n",
       "      <td>...</td>\n",
       "      <td>...</td>\n",
       "      <td>...</td>\n",
       "      <td>...</td>\n",
       "    </tr>\n",
       "    <tr>\n",
       "      <th>88793</th>\n",
       "      <td>87.16</td>\n",
       "      <td>call</td>\n",
       "      <td>80.0</td>\n",
       "      <td>0</td>\n",
       "      <td>0.0289</td>\n",
       "      <td>1.0000</td>\n",
       "      <td>0.0000</td>\n",
       "      <td>-1.8079</td>\n",
       "      <td>0.0042</td>\n",
       "      <td>259</td>\n",
       "      <td>7.10</td>\n",
       "      <td>7.16</td>\n",
       "    </tr>\n",
       "    <tr>\n",
       "      <th>23888</th>\n",
       "      <td>129.44</td>\n",
       "      <td>call</td>\n",
       "      <td>145.0</td>\n",
       "      <td>44</td>\n",
       "      <td>0.2264</td>\n",
       "      <td>0.0172</td>\n",
       "      <td>0.0061</td>\n",
       "      <td>-2.6030</td>\n",
       "      <td>1.2995</td>\n",
       "      <td>21</td>\n",
       "      <td>0.38</td>\n",
       "      <td>0.00</td>\n",
       "    </tr>\n",
       "    <tr>\n",
       "      <th>204990</th>\n",
       "      <td>41.37</td>\n",
       "      <td>call</td>\n",
       "      <td>175.0</td>\n",
       "      <td>37</td>\n",
       "      <td>0.4984</td>\n",
       "      <td>0.0000</td>\n",
       "      <td>0.0000</td>\n",
       "      <td>-0.0003</td>\n",
       "      <td>0.0004</td>\n",
       "      <td>140</td>\n",
       "      <td>0.05</td>\n",
       "      <td>0.00</td>\n",
       "    </tr>\n",
       "    <tr>\n",
       "      <th>86006</th>\n",
       "      <td>58.28</td>\n",
       "      <td>call</td>\n",
       "      <td>25.0</td>\n",
       "      <td>0</td>\n",
       "      <td>0.6706</td>\n",
       "      <td>0.9772</td>\n",
       "      <td>0.0013</td>\n",
       "      <td>0.0242</td>\n",
       "      <td>1.1421</td>\n",
       "      <td>140</td>\n",
       "      <td>33.45</td>\n",
       "      <td>33.28</td>\n",
       "    </tr>\n",
       "    <tr>\n",
       "      <th>153145</th>\n",
       "      <td>49.14</td>\n",
       "      <td>call</td>\n",
       "      <td>55.0</td>\n",
       "      <td>0</td>\n",
       "      <td>0.2231</td>\n",
       "      <td>0.2131</td>\n",
       "      <td>0.0480</td>\n",
       "      <td>-3.1093</td>\n",
       "      <td>7.8881</td>\n",
       "      <td>112</td>\n",
       "      <td>0.35</td>\n",
       "      <td>0.00</td>\n",
       "    </tr>\n",
       "  </tbody>\n",
       "</table>\n",
       "<p>16000 rows × 12 columns</p>\n",
       "</div>"
      ],
      "text/plain": [
       "        UnderlyingPrice  Type  Strike  OpenInterest      IV   Delta   Gamma  \\\n",
       "199175           118.42  call    75.0             0  0.1420  1.0000  0.0000   \n",
       "2363              85.32  call    77.0             1  0.3000  1.0000  0.0000   \n",
       "176795            50.59  call    69.0             0  0.2779  0.2964  0.0183   \n",
       "88593             87.16  call    71.0             0  0.0304  1.0000  0.0000   \n",
       "114834           125.60  call   110.0             0  0.3586  0.8635  0.0133   \n",
       "...                 ...   ...     ...           ...     ...     ...     ...   \n",
       "88793             87.16  call    80.0             0  0.0289  1.0000  0.0000   \n",
       "23888            129.44  call   145.0            44  0.2264  0.0172  0.0061   \n",
       "204990            41.37  call   175.0            37  0.4984  0.0000  0.0000   \n",
       "86006             58.28  call    25.0             0  0.6706  0.9772  0.0013   \n",
       "153145            49.14  call    55.0             0  0.2231  0.2131  0.0480   \n",
       "\n",
       "          Theta     Vega  Time  TargetPrice  BSAprox  \n",
       "199175  -1.7039   0.0003   175        43.70    43.42  \n",
       "2363     0.0000   0.0000     0         8.48     8.32  \n",
       "176795  -2.0880  23.4755   658         3.83     0.00  \n",
       "88593   -1.6194   0.0000   112        16.08    16.16  \n",
       "114834 -14.9743   9.9588    49        17.25    15.60  \n",
       "...         ...      ...   ...          ...      ...  \n",
       "88793   -1.8079   0.0042   259         7.10     7.16  \n",
       "23888   -2.6030   1.2995    21         0.38     0.00  \n",
       "204990  -0.0003   0.0004   140         0.05     0.00  \n",
       "86006    0.0242   1.1421   140        33.45    33.28  \n",
       "153145  -3.1093   7.8881   112         0.35     0.00  \n",
       "\n",
       "[16000 rows x 12 columns]"
      ]
     },
     "execution_count": 8,
     "metadata": {},
     "output_type": "execute_result"
    }
   ],
   "source": [
    "df_train"
   ]
  },
  {
   "cell_type": "code",
   "execution_count": 61,
   "metadata": {},
   "outputs": [],
   "source": [
    "initial_mse_train = (\n",
    "    1 / len(df_train) * np.sum((df_train.TargetPrice - df_train.BSAprox) ** 2)\n",
    ")\n",
    "initial_mse_val = 1 / len(df_val) * np.sum((df_val.TargetPrice - df_val.BSAprox) ** 2)\n",
    "logging.info(\n",
    "    f\"Initial MSE train: {initial_mse_train.round(4)}, Initial MSE val: {initial_mse_val.round(4)}\"\n",
    ")"
   ]
  },
  {
   "cell_type": "code",
   "execution_count": 62,
   "metadata": {},
   "outputs": [],
   "source": [
    "train_df = CustomDataset(df_train)\n",
    "val_df = CustomDataset(df_val)"
   ]
  },
  {
   "cell_type": "code",
   "execution_count": 63,
   "metadata": {},
   "outputs": [],
   "source": [
    "# import torch.multiprocessing as mp\n",
    "train_df = CustomDataset(df_train)\n",
    "val_df = CustomDataset(df_val)\n",
    "# from torch.optim.lr_scheduler import ReduceLROnPlateau\n",
    "model = MODEL_TYPE(5, 1, HIDDEN_WIDTH, HIDDEN_LAYER).to(DEVICE)\n",
    "logging.info(\n",
    "    f\"Total number of learnable parameters: {sum(p.numel() for p in model.parameters() if p.requires_grad)}\"\n",
    ")\n",
    "train_dataloader = DataLoader(\n",
    "    train_df,\n",
    "    batch_size=64,\n",
    "    shuffle=True,\n",
    "    num_workers=8,\n",
    "    # generator=torch.Generator(device=DEVICE),\n",
    ")\n",
    "val_dataloader = DataLoader(\n",
    "    val_df,\n",
    "    batch_size=64,\n",
    "    shuffle=False,\n",
    "    num_workers=8,\n",
    ")\n",
    "optimizers_list = {\n",
    "    \"SGD\": torch.optim.SGD(model.parameters(), lr=LEARNING_RATE, momentum=0.7),\n",
    "    \"RMSprop\": torch.optim.RMSprop(model.parameters(), lr=LEARNING_RATE),\n",
    "    \"Adam\": torch.optim.Adam(model.parameters(), lr=LEARNING_RATE),\n",
    "    \"Adamax\": torch.optim.Adamax(\n",
    "        model.parameters(), lr=LEARNING_RATE, betas=(0.9, 0.99)\n",
    "    ),\n",
    "}\n",
    "criteriation = nn.MSELoss()"
   ]
  },
  {
   "cell_type": "code",
   "execution_count": 45,
   "metadata": {},
   "outputs": [],
   "source": [
    "def check_data(dataloader):\n",
    "    for batch_idx, data in enumerate(dataloader):\n",
    "        inputs = data[\"input\"]\n",
    "        outputs = data[\"output\"]\n",
    "        if torch.isnan(inputs).any() or torch.isinf(inputs).any():\n",
    "            print(f\"NaN or Inf found in inputs at batch {batch_idx}\")\n",
    "        if torch.isnan(outputs).any() or torch.isinf(outputs).any():\n",
    "            print(f\"NaN or Inf found in outputs at batch {batch_idx}\")\n",
    "\n",
    "check_data(train_dataloader)\n",
    "check_data(val_dataloader)\n"
   ]
  },
  {
   "cell_type": "code",
   "execution_count": 64,
   "metadata": {},
   "outputs": [],
   "source": [
    "from torch.optim.lr_scheduler import CosineAnnealingLR\n",
    "\n",
    "\n",
    "def train_model(model, train_dataloader, optimizer, scheduler, criteriation, device):\n",
    "    model.train()\n",
    "    train_losses = []\n",
    "    for batch_idx, data in tqdm(\n",
    "        enumerate(train_dataloader), total=len(train_dataloader)\n",
    "    ):\n",
    "        optimizer.zero_grad()\n",
    "        inputs = data[\"input\"].to(device)\n",
    "        outputs = data[\"output\"].to(device).view(-1, 1)\n",
    "        pred = model(inputs).view(-1, 1)\n",
    "        loss = criteriation(outputs, pred)\n",
    "        loss.backward()\n",
    "        optimizer.step()\n",
    "        train_losses.append(loss.item())\n",
    "    scheduler.step()  # Step the scheduler\n",
    "    return np.mean(train_losses)\n",
    "\n",
    "\n",
    "def validate_model(model, val_dataloader, criteriation, device):\n",
    "    model.eval()\n",
    "    val_losses = []\n",
    "    with torch.no_grad():\n",
    "        for batch_idx, data in tqdm(\n",
    "            enumerate(val_dataloader), total=len(val_dataloader)\n",
    "        ):\n",
    "            inputs = data[\"input\"].to(device)\n",
    "            outputs = data[\"output\"].to(device).view(-1, 1)\n",
    "            pred = model(inputs).view(-1, 1)\n",
    "            loss = criteriation(outputs, pred)\n",
    "            val_losses.append(loss.item())\n",
    "    return np.mean(val_losses)\n",
    "\n",
    "\n",
    "def train_cycle(optimizer_name, optimizer, train_loss_dict, val_loss_dict, final=False):\n",
    "    print(f\"Optimizer: {optimizer_name}\")\n",
    "    train_loss_dict[optimizer_name] = []\n",
    "    val_loss_dict[optimizer_name] = []\n",
    "    logging.info(f\"Optimizer: {optimizer_name}\")\n",
    "\n",
    "    # Define the CosineAnnealingLR scheduler\n",
    "    scheduler = CosineAnnealingLR(optimizer, T_max=N_EPOCH, eta_min=0)\n",
    "\n",
    "    for i in range(N_EPOCH):\n",
    "        train_loss = train_model(\n",
    "            model, train_dataloader, optimizer, scheduler, criteriation, DEVICE\n",
    "        )\n",
    "        train_loss_dict[optimizer_name].append(train_loss)\n",
    "        val_loss = validate_model(model, val_dataloader, criteriation, DEVICE)\n",
    "        val_loss_dict[optimizer_name].append(val_loss)\n",
    "        if final:\n",
    "            torch.save(\n",
    "                model.state_dict(), f\"{experiment_dir}/{EXPERIMENT_NAME}_{i}.pth\"\n",
    "            )\n",
    "        print(f\"Epoch {i+1}, train loss: {train_loss:.4f}, val loss: {val_loss:.4f}\")\n",
    "        logging.info(\n",
    "            f\"Epoch {i+1}, train loss: {train_loss:.4f}, val loss: {val_loss:.4f}\"\n",
    "        )\n",
    "\n",
    "\n",
    "# def initialize_weights(model):\n",
    "#     for layer in model.children():\n",
    "#         if hasattr(layer, \"weight\") and layer.weight is not None:\n",
    "#             nn.init.kaiming_normal_(\n",
    "#                 layer.weight, mode=\"fan_in\", nonlinearity=\"leaky_relu\"\n",
    "#             )\n",
    "\n",
    "\n",
    "# model.apply(initialize_weights)"
   ]
  },
  {
   "cell_type": "code",
   "execution_count": 14,
   "metadata": {},
   "outputs": [
    {
     "name": "stderr",
     "output_type": "stream",
     "text": [
      "/home/strongich/miniconda3/envs/main/lib/python3.11/site-packages/tqdm/auto.py:21: TqdmWarning: IProgress not found. Please update jupyter and ipywidgets. See https://ipywidgets.readthedocs.io/en/stable/user_install.html\n",
      "  from .autonotebook import tqdm as notebook_tqdm\n",
      "[I 2024-06-01 19:18:28,167] A new study created in memory with name: no-name-6a2669c5-76ed-4e94-b3a6-6a90da1e9140\n",
      "/tmp/ipykernel_273131/874035944.py:54: FutureWarning: suggest_loguniform has been deprecated in v3.0.0. This feature will be removed in v6.0.0. See https://github.com/optuna/optuna/releases/tag/v3.0.0. Use suggest_float(..., log=True) instead.\n",
      "  learning_rate = trial.suggest_loguniform(\"learning_rate\", 2e-8, 1e-1)\n",
      "100%|██████████| 32/32 [00:00<00:00, 69.25it/s]\n",
      "100%|██████████| 8/8 [00:00<00:00, 138.25it/s]\n",
      "100%|██████████| 32/32 [00:00<00:00, 79.21it/s]\n",
      "100%|██████████| 8/8 [00:00<00:00, 136.62it/s]\n",
      "100%|██████████| 32/32 [00:00<00:00, 72.64it/s]\n",
      "100%|██████████| 8/8 [00:00<00:00, 124.99it/s]\n",
      "100%|██████████| 32/32 [00:00<00:00, 51.57it/s]\n",
      "100%|██████████| 8/8 [00:00<00:00, 149.73it/s]\n",
      "100%|██████████| 32/32 [00:00<00:00, 43.18it/s]\n",
      "100%|██████████| 8/8 [00:00<00:00, 132.92it/s]\n",
      "100%|██████████| 32/32 [00:00<00:00, 43.91it/s]\n",
      "100%|██████████| 8/8 [00:00<00:00, 20.79it/s]\n",
      "100%|██████████| 32/32 [00:00<00:00, 37.27it/s]\n",
      "100%|██████████| 8/8 [00:00<00:00, 145.79it/s]\n",
      "100%|██████████| 32/32 [00:00<00:00, 70.98it/s]\n",
      "100%|██████████| 8/8 [00:00<00:00, 121.52it/s]\n",
      "100%|██████████| 32/32 [00:00<00:00, 67.61it/s]\n",
      "100%|██████████| 8/8 [00:00<00:00, 120.98it/s]\n",
      "100%|██████████| 32/32 [00:00<00:00, 74.20it/s]\n",
      "100%|██████████| 8/8 [00:00<00:00, 138.78it/s]\n",
      "[I 2024-06-01 19:18:38,304] Trial 0 finished with value: 3102.718780517578 and parameters: {'hidden_width': 75, 'hidden_layers': 26, 'learning_rate': 6.412594071060509e-07, 'optimizer': 'Adamax', 'batch_size': 256}. Best is trial 0 with value: 3102.718780517578.\n",
      "100%|██████████| 125/125 [00:00<00:00, 168.28it/s]\n",
      "100%|██████████| 32/32 [00:00<00:00, 309.00it/s]\n",
      "100%|██████████| 125/125 [00:00<00:00, 165.29it/s]\n",
      "100%|██████████| 32/32 [00:00<00:00, 304.05it/s]\n",
      "100%|██████████| 125/125 [00:00<00:00, 169.02it/s]\n",
      "100%|██████████| 32/32 [00:00<00:00, 315.73it/s]\n",
      "100%|██████████| 125/125 [00:00<00:00, 165.96it/s]\n",
      "100%|██████████| 32/32 [00:00<00:00, 310.90it/s]\n",
      "100%|██████████| 125/125 [00:00<00:00, 163.23it/s]\n",
      "100%|██████████| 32/32 [00:00<00:00, 312.33it/s]\n",
      "100%|██████████| 125/125 [00:00<00:00, 173.87it/s]\n",
      "100%|██████████| 32/32 [00:00<00:00, 299.35it/s]\n",
      "100%|██████████| 125/125 [00:00<00:00, 166.78it/s]\n",
      "100%|██████████| 32/32 [00:00<00:00, 262.46it/s]\n",
      "100%|██████████| 125/125 [00:00<00:00, 156.17it/s]\n",
      "100%|██████████| 32/32 [00:00<00:00, 309.91it/s]\n",
      "100%|██████████| 125/125 [00:00<00:00, 158.07it/s]\n",
      "100%|██████████| 32/32 [00:00<00:00, 291.83it/s]\n",
      "100%|██████████| 125/125 [00:00<00:00, 162.99it/s]\n",
      "100%|██████████| 32/32 [00:00<00:00, 292.92it/s]\n",
      "[I 2024-06-01 19:18:50,363] Trial 1 finished with value: 1683.783317565918 and parameters: {'hidden_width': 100, 'hidden_layers': 16, 'learning_rate': 1.3754791902283242e-05, 'optimizer': 'SGD', 'batch_size': 64}. Best is trial 1 with value: 1683.783317565918.\n",
      "100%|██████████| 125/125 [00:00<00:00, 178.46it/s]\n",
      "100%|██████████| 32/32 [00:00<00:00, 317.07it/s]\n",
      "100%|██████████| 125/125 [00:00<00:00, 174.96it/s]\n",
      "100%|██████████| 32/32 [00:00<00:00, 298.98it/s]\n",
      "100%|██████████| 125/125 [00:00<00:00, 176.98it/s]\n",
      "100%|██████████| 32/32 [00:00<00:00, 314.22it/s]\n",
      "100%|██████████| 125/125 [00:00<00:00, 164.19it/s]\n",
      "100%|██████████| 32/32 [00:00<00:00, 335.50it/s]\n",
      "100%|██████████| 125/125 [00:00<00:00, 178.04it/s]\n",
      "100%|██████████| 32/32 [00:00<00:00, 307.18it/s]\n",
      "100%|██████████| 125/125 [00:00<00:00, 178.64it/s]\n",
      "100%|██████████| 32/32 [00:00<00:00, 318.42it/s]\n",
      "100%|██████████| 125/125 [00:00<00:00, 177.03it/s]\n",
      "100%|██████████| 32/32 [00:00<00:00, 313.35it/s]\n",
      "100%|██████████| 125/125 [00:00<00:00, 178.82it/s]\n",
      "100%|██████████| 32/32 [00:00<00:00, 325.57it/s]\n",
      "100%|██████████| 125/125 [00:00<00:00, 179.67it/s]\n",
      "100%|██████████| 32/32 [00:00<00:00, 325.02it/s]\n",
      "100%|██████████| 125/125 [00:00<00:00, 181.58it/s]\n",
      "100%|██████████| 32/32 [00:00<00:00, 330.18it/s]\n",
      "[I 2024-06-01 19:19:01,931] Trial 2 finished with value: 1678.263614654541 and parameters: {'hidden_width': 91, 'hidden_layers': 12, 'learning_rate': 0.000726866370765883, 'optimizer': 'RMSprop', 'batch_size': 64}. Best is trial 2 with value: 1678.263614654541.\n",
      "100%|██████████| 250/250 [00:02<00:00, 113.20it/s]\n",
      "100%|██████████| 63/63 [00:00<00:00, 348.18it/s]\n",
      "100%|██████████| 250/250 [00:02<00:00, 111.88it/s]\n",
      "100%|██████████| 63/63 [00:00<00:00, 314.54it/s]\n",
      "100%|██████████| 250/250 [00:02<00:00, 117.40it/s]\n",
      "100%|██████████| 63/63 [00:00<00:00, 352.45it/s]\n",
      "100%|██████████| 250/250 [00:02<00:00, 115.96it/s]\n",
      "100%|██████████| 63/63 [00:00<00:00, 361.85it/s]\n",
      "100%|██████████| 250/250 [00:02<00:00, 115.60it/s]\n",
      "100%|██████████| 63/63 [00:00<00:00, 371.69it/s]\n",
      "100%|██████████| 250/250 [00:02<00:00, 117.85it/s]\n",
      "100%|██████████| 63/63 [00:00<00:00, 357.76it/s]\n",
      "100%|██████████| 250/250 [00:02<00:00, 114.51it/s]\n",
      "100%|██████████| 63/63 [00:00<00:00, 359.37it/s]\n",
      "100%|██████████| 250/250 [00:02<00:00, 109.55it/s]\n",
      "100%|██████████| 63/63 [00:00<00:00, 345.06it/s]\n",
      "100%|██████████| 250/250 [00:02<00:00, 116.25it/s]\n",
      "100%|██████████| 63/63 [00:00<00:00, 363.84it/s]\n",
      "100%|██████████| 250/250 [00:02<00:00, 114.49it/s]\n",
      "100%|██████████| 63/63 [00:00<00:00, 365.94it/s]\n",
      "[I 2024-06-01 19:19:28,934] Trial 3 finished with value: 2770.0790027436756 and parameters: {'hidden_width': 92, 'hidden_layers': 15, 'learning_rate': 2.29048031279757e-06, 'optimizer': 'Adamax', 'batch_size': 32}. Best is trial 2 with value: 1678.263614654541.\n",
      "100%|██████████| 32/32 [00:00<00:00, 102.68it/s]\n",
      "100%|██████████| 8/8 [00:00<00:00, 128.32it/s]\n",
      "100%|██████████| 32/32 [00:00<00:00, 102.01it/s]\n",
      "100%|██████████| 8/8 [00:00<00:00, 149.69it/s]\n",
      "100%|██████████| 32/32 [00:00<00:00, 108.19it/s]\n",
      "100%|██████████| 8/8 [00:00<00:00, 134.79it/s]\n",
      "100%|██████████| 32/32 [00:00<00:00, 105.24it/s]\n",
      "100%|██████████| 8/8 [00:00<00:00, 145.40it/s]\n",
      "100%|██████████| 32/32 [00:00<00:00, 104.62it/s]\n",
      "100%|██████████| 8/8 [00:00<00:00, 142.35it/s]\n",
      "100%|██████████| 32/32 [00:00<00:00, 108.45it/s]\n",
      "100%|██████████| 8/8 [00:00<00:00, 127.75it/s]\n",
      "100%|██████████| 32/32 [00:00<00:00, 91.95it/s] \n",
      "100%|██████████| 8/8 [00:00<00:00, 108.16it/s]\n",
      "100%|██████████| 32/32 [00:00<00:00, 102.34it/s]\n",
      "100%|██████████| 8/8 [00:00<00:00, 120.74it/s]\n",
      "100%|██████████| 32/32 [00:00<00:00, 101.79it/s]\n",
      "100%|██████████| 8/8 [00:00<00:00, 141.56it/s]\n",
      "100%|██████████| 32/32 [00:00<00:00, 106.38it/s]\n",
      "100%|██████████| 8/8 [00:00<00:00, 136.15it/s]\n",
      "[I 2024-06-01 19:19:36,244] Trial 4 finished with value: 2338.6459350585938 and parameters: {'hidden_width': 81, 'hidden_layers': 27, 'learning_rate': 1.1995637900944426e-05, 'optimizer': 'Adam', 'batch_size': 256}. Best is trial 2 with value: 1678.263614654541.\n",
      "100%|██████████| 63/63 [00:00<00:00, 144.09it/s]\n",
      "100%|██████████| 16/16 [00:00<00:00, 239.27it/s]\n",
      "[I 2024-06-01 19:19:37,158] Trial 5 pruned. \n",
      "100%|██████████| 125/125 [00:01<00:00, 115.91it/s]\n",
      "100%|██████████| 32/32 [00:00<00:00, 263.05it/s]\n",
      "100%|██████████| 125/125 [00:01<00:00, 117.88it/s]\n",
      "100%|██████████| 32/32 [00:00<00:00, 239.90it/s]\n",
      "100%|██████████| 125/125 [00:01<00:00, 112.92it/s]\n",
      "100%|██████████| 32/32 [00:00<00:00, 247.44it/s]\n",
      "100%|██████████| 125/125 [00:01<00:00, 115.82it/s]\n",
      "100%|██████████| 32/32 [00:00<00:00, 237.63it/s]\n",
      "100%|██████████| 125/125 [00:01<00:00, 115.45it/s]\n",
      "100%|██████████| 32/32 [00:00<00:00, 225.65it/s]\n",
      "100%|██████████| 125/125 [00:01<00:00, 108.65it/s]\n",
      "100%|██████████| 32/32 [00:00<00:00, 226.06it/s]\n",
      "100%|██████████| 125/125 [00:01<00:00, 111.19it/s]\n",
      "100%|██████████| 32/32 [00:00<00:00, 215.83it/s]\n",
      "100%|██████████| 125/125 [00:01<00:00, 109.97it/s]\n",
      "100%|██████████| 32/32 [00:00<00:00, 234.61it/s]\n",
      "100%|██████████| 125/125 [00:01<00:00, 106.29it/s]\n",
      "100%|██████████| 32/32 [00:00<00:00, 223.40it/s]\n",
      "100%|██████████| 125/125 [00:01<00:00, 105.20it/s]\n",
      "100%|██████████| 32/32 [00:00<00:00, 225.78it/s]\n",
      "[I 2024-06-01 19:19:53,248] Trial 6 finished with value: 1680.274284362793 and parameters: {'hidden_width': 119, 'hidden_layers': 30, 'learning_rate': 0.0012628327150793592, 'optimizer': 'RMSprop', 'batch_size': 64}. Best is trial 2 with value: 1678.263614654541.\n",
      "100%|██████████| 63/63 [00:00<00:00, 114.69it/s]\n",
      "100%|██████████| 16/16 [00:00<00:00, 206.08it/s]\n",
      "[I 2024-06-01 19:19:54,225] Trial 7 pruned. \n",
      "100%|██████████| 63/63 [00:00<00:00, 132.65it/s]\n",
      "100%|██████████| 16/16 [00:00<00:00, 217.99it/s]\n",
      "100%|██████████| 63/63 [00:00<00:00, 129.21it/s]\n",
      "100%|██████████| 16/16 [00:00<00:00, 209.86it/s]\n",
      "100%|██████████| 63/63 [00:00<00:00, 131.96it/s]\n",
      "100%|██████████| 16/16 [00:00<00:00, 202.57it/s]\n",
      "100%|██████████| 63/63 [00:00<00:00, 132.28it/s]\n",
      "100%|██████████| 16/16 [00:00<00:00, 203.20it/s]\n",
      "100%|██████████| 63/63 [00:00<00:00, 132.62it/s]\n",
      "100%|██████████| 16/16 [00:00<00:00, 206.04it/s]\n",
      "100%|██████████| 63/63 [00:00<00:00, 132.76it/s]\n",
      "100%|██████████| 16/16 [00:00<00:00, 225.78it/s]\n",
      "100%|██████████| 63/63 [00:00<00:00, 130.57it/s]\n",
      "100%|██████████| 16/16 [00:00<00:00, 197.66it/s]\n",
      "100%|██████████| 63/63 [00:00<00:00, 126.40it/s]\n",
      "100%|██████████| 16/16 [00:00<00:00, 214.10it/s]\n",
      "100%|██████████| 63/63 [00:00<00:00, 131.53it/s]\n",
      "100%|██████████| 16/16 [00:00<00:00, 200.32it/s]\n",
      "100%|██████████| 63/63 [00:00<00:00, 129.83it/s]\n",
      "100%|██████████| 16/16 [00:00<00:00, 217.17it/s]\n",
      "[I 2024-06-01 19:20:03,450] Trial 8 finished with value: 1697.3569412231445 and parameters: {'hidden_width': 72, 'hidden_layers': 20, 'learning_rate': 0.04496708848401204, 'optimizer': 'RMSprop', 'batch_size': 128}. Best is trial 2 with value: 1678.263614654541.\n",
      "100%|██████████| 125/125 [00:00<00:00, 179.05it/s]\n",
      "100%|██████████| 32/32 [00:00<00:00, 306.78it/s]\n",
      "[I 2024-06-01 19:20:04,619] Trial 9 pruned. \n",
      "100%|██████████| 250/250 [00:01<00:00, 193.47it/s]\n",
      "100%|██████████| 63/63 [00:00<00:00, 377.42it/s]\n",
      "100%|██████████| 250/250 [00:01<00:00, 207.11it/s]\n",
      "100%|██████████| 63/63 [00:00<00:00, 394.59it/s]\n",
      "100%|██████████| 250/250 [00:01<00:00, 205.59it/s]\n",
      "100%|██████████| 63/63 [00:00<00:00, 372.51it/s]\n",
      "100%|██████████| 250/250 [00:01<00:00, 195.70it/s]\n",
      "100%|██████████| 63/63 [00:00<00:00, 384.04it/s]\n",
      "100%|██████████| 250/250 [00:01<00:00, 199.42it/s]\n",
      "100%|██████████| 63/63 [00:00<00:00, 365.95it/s]\n",
      "100%|██████████| 250/250 [00:01<00:00, 199.48it/s]\n",
      "100%|██████████| 63/63 [00:00<00:00, 376.79it/s]\n",
      "100%|██████████| 250/250 [00:01<00:00, 195.19it/s]\n",
      "100%|██████████| 63/63 [00:00<00:00, 381.97it/s]\n",
      "100%|██████████| 250/250 [00:01<00:00, 196.93it/s]\n",
      "100%|██████████| 63/63 [00:00<00:00, 379.79it/s]\n",
      "100%|██████████| 250/250 [00:01<00:00, 195.81it/s]\n",
      "100%|██████████| 63/63 [00:00<00:00, 395.33it/s]\n",
      "100%|██████████| 250/250 [00:01<00:00, 197.96it/s]\n",
      "100%|██████████| 63/63 [00:00<00:00, 373.07it/s]\n",
      "[I 2024-06-01 19:20:22,498] Trial 10 finished with value: 1685.8271852523562 and parameters: {'hidden_width': 47, 'hidden_layers': 10, 'learning_rate': 0.0005458535296940115, 'optimizer': 'RMSprop', 'batch_size': 32}. Best is trial 2 with value: 1678.263614654541.\n",
      "100%|██████████| 125/125 [00:01<00:00, 107.36it/s]\n",
      "100%|██████████| 32/32 [00:00<00:00, 208.37it/s]\n",
      "100%|██████████| 125/125 [00:01<00:00, 105.97it/s]\n",
      "100%|██████████| 32/32 [00:00<00:00, 214.82it/s]\n",
      "100%|██████████| 125/125 [00:01<00:00, 109.39it/s]\n",
      "100%|██████████| 32/32 [00:00<00:00, 214.19it/s]\n",
      "100%|██████████| 125/125 [00:01<00:00, 109.18it/s]\n",
      "100%|██████████| 32/32 [00:00<00:00, 217.40it/s]\n",
      "100%|██████████| 125/125 [00:01<00:00, 108.69it/s]\n",
      "100%|██████████| 32/32 [00:00<00:00, 243.33it/s]\n",
      "100%|██████████| 125/125 [00:01<00:00, 107.90it/s]\n",
      "100%|██████████| 32/32 [00:00<00:00, 228.86it/s]\n",
      "100%|██████████| 125/125 [00:01<00:00, 108.31it/s]\n",
      "100%|██████████| 32/32 [00:00<00:00, 241.09it/s]\n",
      "100%|██████████| 125/125 [00:01<00:00, 109.01it/s]\n",
      "100%|██████████| 32/32 [00:00<00:00, 221.62it/s]\n",
      "100%|██████████| 125/125 [00:01<00:00, 109.73it/s]\n",
      "100%|██████████| 32/32 [00:00<00:00, 241.98it/s]\n",
      "100%|██████████| 125/125 [00:01<00:00, 109.49it/s]\n",
      "100%|██████████| 32/32 [00:00<00:00, 195.01it/s]\n",
      "[I 2024-06-01 19:20:39,273] Trial 11 finished with value: 1679.9676895141602 and parameters: {'hidden_width': 127, 'hidden_layers': 30, 'learning_rate': 0.0009843592779697876, 'optimizer': 'RMSprop', 'batch_size': 64}. Best is trial 2 with value: 1678.263614654541.\n",
      "100%|██████████| 125/125 [00:01<00:00, 124.56it/s]\n",
      "100%|██████████| 32/32 [00:00<00:00, 274.86it/s]\n",
      "100%|██████████| 125/125 [00:01<00:00, 117.07it/s]\n",
      "100%|██████████| 32/32 [00:00<00:00, 227.30it/s]\n",
      "100%|██████████| 125/125 [00:00<00:00, 129.08it/s]\n",
      "100%|██████████| 32/32 [00:00<00:00, 299.84it/s]\n",
      "100%|██████████| 125/125 [00:00<00:00, 125.68it/s]\n",
      "100%|██████████| 32/32 [00:00<00:00, 254.60it/s]\n",
      "100%|██████████| 125/125 [00:01<00:00, 117.47it/s]\n",
      "100%|██████████| 32/32 [00:00<00:00, 267.28it/s]\n",
      "100%|██████████| 125/125 [00:00<00:00, 133.16it/s]\n",
      "100%|██████████| 32/32 [00:00<00:00, 264.06it/s]\n",
      "100%|██████████| 125/125 [00:00<00:00, 138.63it/s]\n",
      "100%|██████████| 32/32 [00:00<00:00, 275.67it/s]\n",
      "100%|██████████| 125/125 [00:00<00:00, 135.06it/s]\n",
      "100%|██████████| 32/32 [00:00<00:00, 302.51it/s]\n",
      "100%|██████████| 125/125 [00:01<00:00, 123.52it/s]\n",
      "100%|██████████| 32/32 [00:00<00:00, 196.00it/s]\n",
      "100%|██████████| 125/125 [00:00<00:00, 133.06it/s]\n",
      "100%|██████████| 32/32 [00:00<00:00, 278.28it/s]\n",
      "[I 2024-06-01 19:20:54,208] Trial 12 finished with value: 1682.398365020752 and parameters: {'hidden_width': 128, 'hidden_layers': 22, 'learning_rate': 0.0006453624146949263, 'optimizer': 'RMSprop', 'batch_size': 64}. Best is trial 2 with value: 1678.263614654541.\n",
      "100%|██████████| 125/125 [00:01<00:00, 119.92it/s]\n",
      "100%|██████████| 32/32 [00:00<00:00, 247.17it/s]\n",
      "100%|██████████| 125/125 [00:01<00:00, 113.09it/s]\n",
      "100%|██████████| 32/32 [00:00<00:00, 237.31it/s]\n",
      "100%|██████████| 125/125 [00:00<00:00, 126.61it/s]\n",
      "100%|██████████| 32/32 [00:00<00:00, 259.94it/s]\n",
      "100%|██████████| 125/125 [00:00<00:00, 131.17it/s]\n",
      "100%|██████████| 32/32 [00:00<00:00, 246.30it/s]\n",
      "100%|██████████| 125/125 [00:00<00:00, 130.38it/s]\n",
      "100%|██████████| 32/32 [00:00<00:00, 232.73it/s]\n",
      "100%|██████████| 125/125 [00:01<00:00, 122.00it/s]\n",
      "100%|██████████| 32/32 [00:00<00:00, 267.51it/s]\n",
      "100%|██████████| 125/125 [00:00<00:00, 130.62it/s]\n",
      "100%|██████████| 32/32 [00:00<00:00, 254.74it/s]\n",
      "100%|██████████| 125/125 [00:01<00:00, 114.72it/s]\n",
      "100%|██████████| 32/32 [00:00<00:00, 266.46it/s]\n",
      "100%|██████████| 125/125 [00:01<00:00, 123.64it/s]\n",
      "100%|██████████| 32/32 [00:00<00:00, 282.59it/s]\n",
      "100%|██████████| 125/125 [00:00<00:00, 128.60it/s]\n",
      "100%|██████████| 32/32 [00:00<00:00, 256.54it/s]\n",
      "[I 2024-06-01 19:21:09,069] Trial 13 finished with value: 1689.482479095459 and parameters: {'hidden_width': 103, 'hidden_layers': 26, 'learning_rate': 0.01380574549466456, 'optimizer': 'RMSprop', 'batch_size': 64}. Best is trial 2 with value: 1678.263614654541.\n",
      "100%|██████████| 125/125 [00:01<00:00, 117.04it/s]\n",
      "100%|██████████| 32/32 [00:00<00:00, 244.05it/s]\n",
      "[I 2024-06-01 19:21:10,632] Trial 14 pruned. \n",
      "100%|██████████| 125/125 [00:00<00:00, 149.72it/s]\n",
      "100%|██████████| 32/32 [00:00<00:00, 288.84it/s]\n",
      "100%|██████████| 125/125 [00:00<00:00, 167.04it/s]\n",
      "100%|██████████| 32/32 [00:00<00:00, 335.63it/s]\n",
      "100%|██████████| 125/125 [00:00<00:00, 177.60it/s]\n",
      "100%|██████████| 32/32 [00:00<00:00, 329.83it/s]\n",
      "100%|██████████| 125/125 [00:00<00:00, 179.98it/s]\n",
      "100%|██████████| 32/32 [00:00<00:00, 330.62it/s]\n",
      "100%|██████████| 125/125 [00:00<00:00, 187.70it/s]\n",
      "100%|██████████| 32/32 [00:00<00:00, 320.11it/s]\n",
      "100%|██████████| 125/125 [00:00<00:00, 184.45it/s]\n",
      "100%|██████████| 32/32 [00:00<00:00, 358.87it/s]\n",
      "100%|██████████| 125/125 [00:00<00:00, 194.60it/s]\n",
      "100%|██████████| 32/32 [00:00<00:00, 354.31it/s]\n",
      "100%|██████████| 125/125 [00:00<00:00, 191.94it/s]\n",
      "100%|██████████| 32/32 [00:00<00:00, 352.66it/s]\n",
      "100%|██████████| 125/125 [00:00<00:00, 198.47it/s]\n",
      "100%|██████████| 32/32 [00:00<00:00, 355.50it/s]\n",
      "100%|██████████| 125/125 [00:00<00:00, 194.13it/s]\n",
      "100%|██████████| 32/32 [00:00<00:00, 301.68it/s]\n",
      "[I 2024-06-01 19:21:22,046] Trial 15 finished with value: 1678.698860168457 and parameters: {'hidden_width': 92, 'hidden_layers': 13, 'learning_rate': 0.0037747492051971305, 'optimizer': 'RMSprop', 'batch_size': 64}. Best is trial 2 with value: 1678.263614654541.\n",
      "100%|██████████| 125/125 [00:00<00:00, 154.31it/s]\n",
      "100%|██████████| 32/32 [00:00<00:00, 350.04it/s]\n",
      "100%|██████████| 125/125 [00:00<00:00, 177.13it/s]\n",
      "100%|██████████| 32/32 [00:00<00:00, 332.09it/s]\n",
      "100%|██████████| 125/125 [00:00<00:00, 167.12it/s]\n",
      "100%|██████████| 32/32 [00:00<00:00, 351.44it/s]\n",
      "100%|██████████| 125/125 [00:00<00:00, 172.22it/s]\n",
      "100%|██████████| 32/32 [00:00<00:00, 364.34it/s]\n",
      "100%|██████████| 125/125 [00:00<00:00, 177.26it/s]\n",
      "100%|██████████| 32/32 [00:00<00:00, 326.85it/s]\n",
      "100%|██████████| 125/125 [00:00<00:00, 168.74it/s]\n",
      "100%|██████████| 32/32 [00:00<00:00, 231.40it/s]\n",
      "100%|██████████| 125/125 [00:00<00:00, 149.75it/s]\n",
      "100%|██████████| 32/32 [00:00<00:00, 307.03it/s]\n",
      "100%|██████████| 125/125 [00:00<00:00, 130.76it/s]\n",
      "100%|██████████| 32/32 [00:00<00:00, 301.40it/s]\n",
      "100%|██████████| 125/125 [00:00<00:00, 162.78it/s]\n",
      "100%|██████████| 32/32 [00:00<00:00, 314.84it/s]\n",
      "100%|██████████| 125/125 [00:00<00:00, 160.68it/s]\n",
      "100%|██████████| 32/32 [00:00<00:00, 304.38it/s]\n",
      "[I 2024-06-01 19:21:34,362] Trial 16 finished with value: 1676.4805450439453 and parameters: {'hidden_width': 89, 'hidden_layers': 13, 'learning_rate': 0.008440304619980419, 'optimizer': 'Adam', 'batch_size': 64}. Best is trial 16 with value: 1676.4805450439453.\n",
      "100%|██████████| 250/250 [00:01<00:00, 187.85it/s]\n",
      "100%|██████████| 63/63 [00:00<00:00, 330.89it/s]\n",
      "[I 2024-06-01 19:21:36,270] Trial 17 pruned. \n",
      "100%|██████████| 32/32 [00:00<00:00, 113.41it/s]\n",
      "100%|██████████| 8/8 [00:00<00:00, 138.56it/s]\n",
      "[I 2024-06-01 19:21:37,010] Trial 18 pruned. \n",
      "100%|██████████| 125/125 [00:00<00:00, 153.52it/s]\n",
      "100%|██████████| 32/32 [00:00<00:00, 288.28it/s]\n",
      "[I 2024-06-01 19:21:38,328] Trial 19 pruned. \n",
      "100%|██████████| 125/125 [00:00<00:00, 187.20it/s]\n",
      "100%|██████████| 32/32 [00:00<00:00, 320.22it/s]\n",
      "/home/strongich/miniconda3/envs/main/lib/python3.11/site-packages/optuna/pruners/_percentile.py:20: RuntimeWarning: All-NaN slice encountered\n",
      "  return np.nanmin(values)\n",
      "[I 2024-06-01 19:21:39,475] Trial 20 pruned. \n",
      "100%|██████████| 125/125 [00:01<00:00, 114.01it/s]\n",
      "100%|██████████| 32/32 [00:00<00:00, 310.10it/s]\n",
      "[I 2024-06-01 19:21:41,082] Trial 21 pruned. \n",
      "100%|██████████| 125/125 [00:00<00:00, 171.06it/s]\n",
      "100%|██████████| 32/32 [00:00<00:00, 316.49it/s]\n",
      "[I 2024-06-01 19:21:42,269] Trial 22 pruned. \n",
      "100%|██████████| 125/125 [00:00<00:00, 157.12it/s]\n",
      "100%|██████████| 32/32 [00:00<00:00, 262.91it/s]\n",
      "100%|██████████| 125/125 [00:00<00:00, 153.61it/s]\n",
      "100%|██████████| 32/32 [00:00<00:00, 343.32it/s]\n",
      "100%|██████████| 125/125 [00:00<00:00, 166.02it/s]\n",
      "100%|██████████| 32/32 [00:00<00:00, 294.01it/s]\n",
      "100%|██████████| 125/125 [00:00<00:00, 172.33it/s]\n",
      "100%|██████████| 32/32 [00:00<00:00, 300.40it/s]\n",
      "100%|██████████| 125/125 [00:00<00:00, 176.79it/s]\n",
      "100%|██████████| 32/32 [00:00<00:00, 280.55it/s]\n",
      "100%|██████████| 125/125 [00:00<00:00, 167.28it/s]\n",
      "100%|██████████| 32/32 [00:00<00:00, 320.81it/s]\n",
      "100%|██████████| 125/125 [00:00<00:00, 169.48it/s]\n",
      "100%|██████████| 32/32 [00:00<00:00, 305.32it/s]\n",
      "100%|██████████| 125/125 [00:00<00:00, 170.32it/s]\n",
      "100%|██████████| 32/32 [00:00<00:00, 302.05it/s]\n",
      "100%|██████████| 125/125 [00:00<00:00, 167.85it/s]\n",
      "100%|██████████| 32/32 [00:00<00:00, 301.31it/s]\n",
      "100%|██████████| 125/125 [00:00<00:00, 167.37it/s]\n",
      "100%|██████████| 32/32 [00:00<00:00, 194.48it/s]\n",
      "[I 2024-06-01 19:21:54,628] Trial 23 finished with value: 1678.8847694396973 and parameters: {'hidden_width': 102, 'hidden_layers': 14, 'learning_rate': 0.0001376627415450259, 'optimizer': 'RMSprop', 'batch_size': 64}. Best is trial 16 with value: 1676.4805450439453.\n",
      "100%|██████████| 125/125 [00:00<00:00, 147.32it/s]\n",
      "100%|██████████| 32/32 [00:00<00:00, 263.23it/s]\n",
      "[I 2024-06-01 19:21:55,985] Trial 24 pruned. \n",
      "100%|██████████| 125/125 [00:00<00:00, 173.56it/s]\n",
      "100%|██████████| 32/32 [00:00<00:00, 308.26it/s]\n",
      "100%|██████████| 125/125 [00:00<00:00, 172.07it/s]\n",
      "100%|██████████| 32/32 [00:00<00:00, 306.99it/s]\n",
      "100%|██████████| 125/125 [00:00<00:00, 166.93it/s]\n",
      "100%|██████████| 32/32 [00:00<00:00, 302.29it/s]\n",
      "100%|██████████| 125/125 [00:00<00:00, 161.10it/s]\n",
      "100%|██████████| 32/32 [00:00<00:00, 312.25it/s]\n",
      "100%|██████████| 125/125 [00:00<00:00, 169.32it/s]\n",
      "100%|██████████| 32/32 [00:00<00:00, 336.81it/s]\n",
      "100%|██████████| 125/125 [00:00<00:00, 166.94it/s]\n",
      "100%|██████████| 32/32 [00:00<00:00, 277.92it/s]\n",
      "100%|██████████| 125/125 [00:00<00:00, 170.92it/s]\n",
      "100%|██████████| 32/32 [00:00<00:00, 308.71it/s]\n",
      "100%|██████████| 125/125 [00:00<00:00, 164.73it/s]\n",
      "100%|██████████| 32/32 [00:00<00:00, 316.53it/s]\n",
      "100%|██████████| 125/125 [00:00<00:00, 168.42it/s]\n",
      "100%|██████████| 32/32 [00:00<00:00, 312.81it/s]\n",
      "100%|██████████| 125/125 [00:00<00:00, 170.21it/s]\n",
      "100%|██████████| 32/32 [00:00<00:00, 332.01it/s]\n",
      "[I 2024-06-01 19:22:07,978] Trial 25 finished with value: 1681.3299102783203 and parameters: {'hidden_width': 97, 'hidden_layers': 13, 'learning_rate': 0.002415527264390723, 'optimizer': 'Adam', 'batch_size': 64}. Best is trial 16 with value: 1676.4805450439453.\n",
      "100%|██████████| 250/250 [00:02<00:00, 110.01it/s]\n",
      "100%|██████████| 63/63 [00:00<00:00, 346.21it/s]\n",
      "[I 2024-06-01 19:22:10,803] Trial 26 pruned. \n",
      "100%|██████████| 32/32 [00:00<00:00, 126.55it/s]\n",
      "100%|██████████| 8/8 [00:00<00:00, 132.02it/s]\n",
      "[I 2024-06-01 19:22:11,509] Trial 27 pruned. \n",
      "100%|██████████| 63/63 [00:00<00:00, 172.07it/s]\n",
      "100%|██████████| 16/16 [00:00<00:00, 235.03it/s]\n",
      "[I 2024-06-01 19:22:12,347] Trial 28 pruned. \n",
      "100%|██████████| 32/32 [00:00<00:00, 99.19it/s] \n",
      "100%|██████████| 8/8 [00:00<00:00, 129.51it/s]\n",
      "[I 2024-06-01 19:22:13,121] Trial 29 pruned. \n"
     ]
    },
    {
     "name": "stdout",
     "output_type": "stream",
     "text": [
      "Study statistics: \n",
      "  Number of finished trials: 30\n",
      "  Number of pruned trials: 15\n",
      "  Number of complete trials: 15\n",
      "Best trial:\n",
      "  Value: 1676.4805450439453\n",
      "  Params: \n",
      "    hidden_width: 89\n",
      "    hidden_layers: 13\n",
      "    learning_rate: 0.008440304619980419\n",
      "    optimizer: Adam\n",
      "    batch_size: 64\n"
     ]
    }
   ],
   "source": [
    "import torch\n",
    "from torch.optim.lr_scheduler import CosineAnnealingLR\n",
    "import torch.nn as nn\n",
    "from torch.utils.data import DataLoader\n",
    "import numpy as np\n",
    "import optuna\n",
    "from optuna.trial import TrialState\n",
    "from tqdm import tqdm\n",
    "\n",
    "\n",
    "# Define the model\n",
    "class AmericanPut_gated3(nn.Module):\n",
    "    def __init__(self, N_INPUT, N_OUTPUT, N_HIDDEN, N_LAYERS):\n",
    "        super(AmericanPut_gated3, self).__init__()\n",
    "        self.N_HIDDEN = N_HIDDEN\n",
    "        self.activation1 = nn.LeakyReLU(negative_slope=0.2)\n",
    "        self.activation2 = nn.Tanh()\n",
    "        self.fcs1 = nn.Sequential(nn.Linear(N_INPUT, N_HIDDEN), self.activation2)\n",
    "        self.fcs2 = nn.Sequential(nn.Linear(N_INPUT, N_OUTPUT), self.activation2)\n",
    "        self.fch = nn.Sequential(\n",
    "            *[\n",
    "                nn.Sequential(nn.Linear(N_HIDDEN, N_HIDDEN), self.activation2)\n",
    "                for _ in range(N_LAYERS)\n",
    "            ]\n",
    "        )\n",
    "        self.fce = nn.Sequential(*[nn.Linear(N_HIDDEN, N_OUTPUT)])\n",
    "        self.w1_layer = nn.Sequential(\n",
    "            *[nn.Linear(N_HIDDEN + N_INPUT, N_OUTPUT), self.activation2]\n",
    "        )\n",
    "        # self.w2_layer = nn.Sequential(*[nn.Linear(N_HIDDEN + N_INPUT, N_OUTPUT),self.activation2])\n",
    "\n",
    "    def forward(self, x):\n",
    "        # Apply the first layer\n",
    "        I1 = self.fcs1(x)\n",
    "        H = I1\n",
    "        # Apply hidden layers with residual connections\n",
    "        for layer in self.fch:\n",
    "            H = layer(H) + H\n",
    "        # Apply the final layer\n",
    "        yx = self.fcs2(x)  # 1D\n",
    "        yh = self.fce(H)  # 1D\n",
    "        h_x = torch.cat([H, x], axis=1)\n",
    "        # print (h_x.shape)\n",
    "        wh = self.w1_layer(h_x)\n",
    "        y_net = yx + wh * yh\n",
    "        return y_net\n",
    "\n",
    "\n",
    "# Objective function for Optuna\n",
    "def objective(trial):\n",
    "    # Hyperparameters to tune\n",
    "    hidden_width = trial.suggest_int(\"hidden_width\", 32, 128)\n",
    "    hidden_layers = trial.suggest_int(\"hidden_layers\", 10, 30)\n",
    "    learning_rate = trial.suggest_loguniform(\"learning_rate\", 2e-8, 1e-1)\n",
    "    optimizer_name = trial.suggest_categorical(\n",
    "        \"optimizer\", [\"SGD\", \"RMSprop\", \"Adam\", \"Adamax\"]\n",
    "    )\n",
    "    batch_size = trial.suggest_categorical(\"batch_size\", [32, 64, 128, 256])\n",
    "\n",
    "    # Create the model\n",
    "    model = AmericanPut_gated3(5, 1, hidden_width, hidden_layers).to(DEVICE)\n",
    "\n",
    "    # Create the optimizer\n",
    "    optimizers_list = {\n",
    "        \"SGD\": torch.optim.SGD(model.parameters(), lr=learning_rate, momentum=0.7),\n",
    "        \"RMSprop\": torch.optim.RMSprop(model.parameters(), lr=learning_rate),\n",
    "        \"Adam\": torch.optim.Adam(model.parameters(), lr=learning_rate),\n",
    "        \"Adamax\": torch.optim.Adamax(\n",
    "            model.parameters(), lr=learning_rate, betas=(0.9, 0.99)\n",
    "        ),\n",
    "    }\n",
    "    optimizer = optimizers_list[optimizer_name]\n",
    "\n",
    "    # Define the ReduceLROnPlateau scheduler\n",
    "    N_EPOCH = 10\n",
    "    scheduler = CosineAnnealingLR(optimizer, T_max=N_EPOCH, eta_min=0)\n",
    "    # scheduler = ReduceLROnPlateau(optimizer, mode=\"min\", patience=5, verbose=True)\n",
    "\n",
    "    criteriation = nn.MSELoss()\n",
    "\n",
    "    # Create the dataloaders\n",
    "    train_dataloader = DataLoader(\n",
    "        train_df, batch_size=batch_size, shuffle=True, num_workers=8\n",
    "    )\n",
    "    val_dataloader = DataLoader(\n",
    "        val_df, batch_size=batch_size, shuffle=False, num_workers=8\n",
    "    )\n",
    "\n",
    "    # Training loop\n",
    "    N_EPOCH = 10  # or some other number of epochs\n",
    "    for epoch in range(N_EPOCH):\n",
    "        train_loss = train_model(\n",
    "            model, train_dataloader, optimizer, scheduler, criteriation, DEVICE\n",
    "        )\n",
    "        val_loss = validate_model(model, val_dataloader, criteriation, DEVICE)\n",
    "\n",
    "        # Report intermediate results to Optuna\n",
    "        trial.report(val_loss, epoch)\n",
    "\n",
    "        # Handle pruning based on the intermediate value\n",
    "        if trial.should_prune():\n",
    "            raise optuna.exceptions.TrialPruned()\n",
    "\n",
    "    return val_loss\n",
    "\n",
    "\n",
    "# Run the optimization\n",
    "study = optuna.create_study(direction=\"minimize\")\n",
    "study.optimize(objective, n_trials=30, timeout=600)\n",
    "\n",
    "pruned_trials = [t for t in study.trials if t.state == TrialState.PRUNED]\n",
    "complete_trials = [t for t in study.trials if t.state == TrialState.COMPLETE]\n",
    "\n",
    "print(f\"Study statistics: \")\n",
    "print(f\"  Number of finished trials: {len(study.trials)}\")\n",
    "print(f\"  Number of pruned trials: {len(pruned_trials)}\")\n",
    "print(f\"  Number of complete trials: {len(complete_trials)}\")\n",
    "\n",
    "print(f\"Best trial:\")\n",
    "trial = study.best_trial\n",
    "\n",
    "print(f\"  Value: {trial.value}\")\n",
    "\n",
    "print(f\"  Params: \")\n",
    "for key, value in trial.params.items():\n",
    "    print(f\"    {key}: {value}\")\n",
    "\n",
    "# Use the best hyperparameters to train your final model\n",
    "best_hidden_width = trial.params[\"hidden_width\"]\n",
    "best_hidden_layers = trial.params[\"hidden_layers\"]\n",
    "best_learning_rate = trial.params[\"learning_rate\"]\n",
    "best_optimizer_name = trial.params[\"optimizer\"]\n",
    "best_batch_size = trial.params[\"batch_size\"]"
   ]
  },
  {
   "cell_type": "code",
   "execution_count": 47,
   "metadata": {},
   "outputs": [
    {
     "name": "stdout",
     "output_type": "stream",
     "text": [
      "Optimizer: SGD\n"
     ]
    },
    {
     "name": "stderr",
     "output_type": "stream",
     "text": [
      "100%|██████████| 125/125 [00:00<00:00, 133.66it/s]\n",
      "100%|██████████| 32/32 [00:00<00:00, 234.35it/s]"
     ]
    },
    {
     "name": "stdout",
     "output_type": "stream",
     "text": [
      "Epoch 1, train loss: 33978.6318, val loss: 7541.3600\n"
     ]
    },
    {
     "name": "stderr",
     "output_type": "stream",
     "text": [
      "\n",
      "100%|██████████| 125/125 [00:00<00:00, 126.19it/s]\n",
      "100%|██████████| 32/32 [00:00<00:00, 193.61it/s]"
     ]
    },
    {
     "name": "stdout",
     "output_type": "stream",
     "text": [
      "Epoch 2, train loss: 4670.4073, val loss: 3539.7367\n"
     ]
    },
    {
     "name": "stderr",
     "output_type": "stream",
     "text": [
      "\n",
      "100%|██████████| 125/125 [00:00<00:00, 131.83it/s]\n",
      "100%|██████████| 32/32 [00:00<00:00, 201.04it/s]"
     ]
    },
    {
     "name": "stdout",
     "output_type": "stream",
     "text": [
      "Epoch 3, train loss: 2965.4831, val loss: 2683.6173\n"
     ]
    },
    {
     "name": "stderr",
     "output_type": "stream",
     "text": [
      "\n",
      "100%|██████████| 125/125 [00:01<00:00, 122.60it/s]\n",
      "100%|██████████| 32/32 [00:00<00:00, 235.77it/s]"
     ]
    },
    {
     "name": "stdout",
     "output_type": "stream",
     "text": [
      "Epoch 4, train loss: 2501.0461, val loss: 2517.2730\n"
     ]
    },
    {
     "name": "stderr",
     "output_type": "stream",
     "text": [
      "\n",
      "100%|██████████| 125/125 [00:01<00:00, 111.92it/s]\n",
      "100%|██████████| 32/32 [00:00<00:00, 220.61it/s]"
     ]
    },
    {
     "name": "stdout",
     "output_type": "stream",
     "text": [
      "Epoch 5, train loss: 2284.3642, val loss: 2363.4223\n"
     ]
    },
    {
     "name": "stderr",
     "output_type": "stream",
     "text": [
      "\n",
      "100%|██████████| 125/125 [00:01<00:00, 120.63it/s]\n",
      "100%|██████████| 32/32 [00:00<00:00, 221.32it/s]"
     ]
    },
    {
     "name": "stdout",
     "output_type": "stream",
     "text": [
      "Epoch 6, train loss: 2269.9208, val loss: 2537.1974\n"
     ]
    },
    {
     "name": "stderr",
     "output_type": "stream",
     "text": [
      "\n",
      "100%|██████████| 125/125 [00:01<00:00, 113.65it/s]\n",
      "100%|██████████| 32/32 [00:00<00:00, 181.49it/s]"
     ]
    },
    {
     "name": "stdout",
     "output_type": "stream",
     "text": [
      "Epoch 7, train loss: 2298.5690, val loss: 2454.1338\n"
     ]
    },
    {
     "name": "stderr",
     "output_type": "stream",
     "text": [
      "\n",
      "100%|██████████| 125/125 [00:01<00:00, 117.72it/s]\n",
      "100%|██████████| 32/32 [00:00<00:00, 177.81it/s]"
     ]
    },
    {
     "name": "stdout",
     "output_type": "stream",
     "text": [
      "Epoch 8, train loss: 2280.7166, val loss: 2494.4259\n"
     ]
    },
    {
     "name": "stderr",
     "output_type": "stream",
     "text": [
      "\n",
      "100%|██████████| 125/125 [00:01<00:00, 121.97it/s]\n",
      "100%|██████████| 32/32 [00:00<00:00, 195.21it/s]"
     ]
    },
    {
     "name": "stdout",
     "output_type": "stream",
     "text": [
      "Epoch 9, train loss: 2226.6197, val loss: 2452.9201\n"
     ]
    },
    {
     "name": "stderr",
     "output_type": "stream",
     "text": [
      "\n",
      "100%|██████████| 125/125 [00:01<00:00, 116.18it/s]\n",
      "100%|██████████| 32/32 [00:00<00:00, 181.58it/s]"
     ]
    },
    {
     "name": "stdout",
     "output_type": "stream",
     "text": [
      "Epoch 10, train loss: 2247.2231, val loss: 2308.4700\n"
     ]
    },
    {
     "name": "stderr",
     "output_type": "stream",
     "text": [
      "\n",
      "100%|██████████| 125/125 [00:01<00:00, 114.02it/s]\n",
      "100%|██████████| 32/32 [00:00<00:00, 186.01it/s]"
     ]
    },
    {
     "name": "stdout",
     "output_type": "stream",
     "text": [
      "Epoch 11, train loss: 2191.3770, val loss: 2303.1888\n"
     ]
    },
    {
     "name": "stderr",
     "output_type": "stream",
     "text": [
      "\n",
      "100%|██████████| 125/125 [00:01<00:00, 118.64it/s]\n",
      "100%|██████████| 32/32 [00:00<00:00, 206.73it/s]"
     ]
    },
    {
     "name": "stdout",
     "output_type": "stream",
     "text": [
      "Epoch 12, train loss: 2151.0691, val loss: 2283.1307\n"
     ]
    },
    {
     "name": "stderr",
     "output_type": "stream",
     "text": [
      "\n",
      "100%|██████████| 125/125 [00:01<00:00, 122.47it/s]\n",
      "100%|██████████| 32/32 [00:00<00:00, 222.18it/s]"
     ]
    },
    {
     "name": "stdout",
     "output_type": "stream",
     "text": [
      "Epoch 13, train loss: 2171.4402, val loss: 2185.3479\n"
     ]
    },
    {
     "name": "stderr",
     "output_type": "stream",
     "text": [
      "\n",
      "100%|██████████| 125/125 [00:01<00:00, 115.48it/s]\n",
      "100%|██████████| 32/32 [00:00<00:00, 212.03it/s]"
     ]
    },
    {
     "name": "stdout",
     "output_type": "stream",
     "text": [
      "Epoch 14, train loss: 2223.1101, val loss: 2253.1397\n"
     ]
    },
    {
     "name": "stderr",
     "output_type": "stream",
     "text": [
      "\n",
      "100%|██████████| 125/125 [00:01<00:00, 120.24it/s]\n",
      "100%|██████████| 32/32 [00:00<00:00, 212.10it/s]"
     ]
    },
    {
     "name": "stdout",
     "output_type": "stream",
     "text": [
      "Epoch 15, train loss: 2209.0477, val loss: 2336.7474\n"
     ]
    },
    {
     "name": "stderr",
     "output_type": "stream",
     "text": [
      "\n",
      "100%|██████████| 125/125 [00:01<00:00, 114.32it/s]\n",
      "100%|██████████| 32/32 [00:00<00:00, 184.37it/s]"
     ]
    },
    {
     "name": "stdout",
     "output_type": "stream",
     "text": [
      "Epoch 16, train loss: 2215.1647, val loss: 2416.7592\n"
     ]
    },
    {
     "name": "stderr",
     "output_type": "stream",
     "text": [
      "\n",
      "100%|██████████| 125/125 [00:01<00:00, 116.77it/s]\n",
      "100%|██████████| 32/32 [00:00<00:00, 188.11it/s]"
     ]
    },
    {
     "name": "stdout",
     "output_type": "stream",
     "text": [
      "Epoch 17, train loss: 2215.9643, val loss: 2192.7351\n"
     ]
    },
    {
     "name": "stderr",
     "output_type": "stream",
     "text": [
      "\n",
      "100%|██████████| 125/125 [00:01<00:00, 117.44it/s]\n",
      "100%|██████████| 32/32 [00:00<00:00, 206.72it/s]"
     ]
    },
    {
     "name": "stdout",
     "output_type": "stream",
     "text": [
      "Epoch 18, train loss: 2203.4856, val loss: 2463.2537\n"
     ]
    },
    {
     "name": "stderr",
     "output_type": "stream",
     "text": [
      "\n",
      "100%|██████████| 125/125 [00:01<00:00, 123.84it/s]\n",
      "100%|██████████| 32/32 [00:00<00:00, 189.45it/s]"
     ]
    },
    {
     "name": "stdout",
     "output_type": "stream",
     "text": [
      "Epoch 19, train loss: 2176.7527, val loss: 2303.2514\n"
     ]
    },
    {
     "name": "stderr",
     "output_type": "stream",
     "text": [
      "\n",
      "100%|██████████| 125/125 [00:01<00:00, 118.58it/s]\n",
      "100%|██████████| 32/32 [00:00<00:00, 179.72it/s]"
     ]
    },
    {
     "name": "stdout",
     "output_type": "stream",
     "text": [
      "Epoch 20, train loss: 2188.1820, val loss: 2382.6728\n"
     ]
    },
    {
     "name": "stderr",
     "output_type": "stream",
     "text": [
      "\n",
      "100%|██████████| 125/125 [00:01<00:00, 115.63it/s]\n",
      "100%|██████████| 32/32 [00:00<00:00, 192.36it/s]"
     ]
    },
    {
     "name": "stdout",
     "output_type": "stream",
     "text": [
      "Epoch 21, train loss: 2244.4789, val loss: 2347.2126\n"
     ]
    },
    {
     "name": "stderr",
     "output_type": "stream",
     "text": [
      "\n",
      "100%|██████████| 125/125 [00:01<00:00, 121.10it/s]\n",
      "100%|██████████| 32/32 [00:00<00:00, 179.40it/s]"
     ]
    },
    {
     "name": "stdout",
     "output_type": "stream",
     "text": [
      "Epoch 22, train loss: 2246.3789, val loss: 2394.9221\n"
     ]
    },
    {
     "name": "stderr",
     "output_type": "stream",
     "text": [
      "\n",
      "100%|██████████| 125/125 [00:01<00:00, 111.98it/s]\n",
      "100%|██████████| 32/32 [00:00<00:00, 193.80it/s]"
     ]
    },
    {
     "name": "stdout",
     "output_type": "stream",
     "text": [
      "Epoch 23, train loss: 2215.3490, val loss: 2352.0276\n"
     ]
    },
    {
     "name": "stderr",
     "output_type": "stream",
     "text": [
      "\n",
      "100%|██████████| 125/125 [00:01<00:00, 119.94it/s]\n",
      "100%|██████████| 32/32 [00:00<00:00, 182.97it/s]"
     ]
    },
    {
     "name": "stdout",
     "output_type": "stream",
     "text": [
      "Epoch 24, train loss: 2231.9973, val loss: 2465.6559\n"
     ]
    },
    {
     "name": "stderr",
     "output_type": "stream",
     "text": [
      "\n",
      "100%|██████████| 125/125 [00:01<00:00, 116.45it/s]\n",
      "100%|██████████| 32/32 [00:00<00:00, 206.80it/s]"
     ]
    },
    {
     "name": "stdout",
     "output_type": "stream",
     "text": [
      "Epoch 25, train loss: 2293.7304, val loss: 2367.0031\n"
     ]
    },
    {
     "name": "stderr",
     "output_type": "stream",
     "text": [
      "\n",
      "100%|██████████| 125/125 [00:01<00:00, 119.52it/s]\n",
      "100%|██████████| 32/32 [00:00<00:00, 189.74it/s]"
     ]
    },
    {
     "name": "stdout",
     "output_type": "stream",
     "text": [
      "Epoch 26, train loss: 2193.7217, val loss: 2465.7302\n"
     ]
    },
    {
     "name": "stderr",
     "output_type": "stream",
     "text": [
      "\n",
      "100%|██████████| 125/125 [00:01<00:00, 118.67it/s]\n",
      "100%|██████████| 32/32 [00:00<00:00, 195.38it/s]"
     ]
    },
    {
     "name": "stdout",
     "output_type": "stream",
     "text": [
      "Epoch 27, train loss: 2200.3842, val loss: 2325.7695\n"
     ]
    },
    {
     "name": "stderr",
     "output_type": "stream",
     "text": [
      "\n",
      "100%|██████████| 125/125 [00:01<00:00, 120.70it/s]\n",
      "100%|██████████| 32/32 [00:00<00:00, 218.20it/s]"
     ]
    },
    {
     "name": "stdout",
     "output_type": "stream",
     "text": [
      "Epoch 28, train loss: 2176.0909, val loss: 2335.6858\n"
     ]
    },
    {
     "name": "stderr",
     "output_type": "stream",
     "text": [
      "\n",
      "100%|██████████| 125/125 [00:00<00:00, 125.91it/s]\n",
      "100%|██████████| 32/32 [00:00<00:00, 189.36it/s]"
     ]
    },
    {
     "name": "stdout",
     "output_type": "stream",
     "text": [
      "Epoch 29, train loss: 2146.6544, val loss: 2273.3208\n"
     ]
    },
    {
     "name": "stderr",
     "output_type": "stream",
     "text": [
      "\n",
      "100%|██████████| 125/125 [00:01<00:00, 119.70it/s]\n",
      "100%|██████████| 32/32 [00:00<00:00, 214.99it/s]"
     ]
    },
    {
     "name": "stdout",
     "output_type": "stream",
     "text": [
      "Epoch 30, train loss: 2159.2085, val loss: 2313.8913\n"
     ]
    },
    {
     "name": "stderr",
     "output_type": "stream",
     "text": [
      "\n",
      "100%|██████████| 125/125 [00:01<00:00, 121.42it/s]\n",
      "100%|██████████| 32/32 [00:00<00:00, 203.40it/s]"
     ]
    },
    {
     "name": "stdout",
     "output_type": "stream",
     "text": [
      "Epoch 31, train loss: 2199.7221, val loss: 2320.1936\n"
     ]
    },
    {
     "name": "stderr",
     "output_type": "stream",
     "text": [
      "\n",
      "100%|██████████| 125/125 [00:01<00:00, 121.57it/s]\n",
      "100%|██████████| 32/32 [00:00<00:00, 203.75it/s]"
     ]
    },
    {
     "name": "stdout",
     "output_type": "stream",
     "text": [
      "Epoch 32, train loss: 2207.7969, val loss: 2380.0764\n"
     ]
    },
    {
     "name": "stderr",
     "output_type": "stream",
     "text": [
      "\n",
      "100%|██████████| 125/125 [00:01<00:00, 119.64it/s]\n",
      "100%|██████████| 32/32 [00:00<00:00, 203.56it/s]"
     ]
    },
    {
     "name": "stdout",
     "output_type": "stream",
     "text": [
      "Epoch 33, train loss: 2232.7749, val loss: 2542.6065\n"
     ]
    },
    {
     "name": "stderr",
     "output_type": "stream",
     "text": [
      "\n",
      "100%|██████████| 125/125 [00:01<00:00, 118.41it/s]\n",
      "100%|██████████| 32/32 [00:00<00:00, 186.13it/s]"
     ]
    },
    {
     "name": "stdout",
     "output_type": "stream",
     "text": [
      "Epoch 34, train loss: 2284.1873, val loss: 2467.6335\n"
     ]
    },
    {
     "name": "stderr",
     "output_type": "stream",
     "text": [
      "\n",
      "100%|██████████| 125/125 [00:01<00:00, 122.41it/s]\n",
      "100%|██████████| 32/32 [00:00<00:00, 216.30it/s]"
     ]
    },
    {
     "name": "stdout",
     "output_type": "stream",
     "text": [
      "Epoch 35, train loss: 2256.3098, val loss: 2466.2555\n"
     ]
    },
    {
     "name": "stderr",
     "output_type": "stream",
     "text": [
      "\n",
      "100%|██████████| 125/125 [00:01<00:00, 122.14it/s]\n",
      "100%|██████████| 32/32 [00:00<00:00, 217.55it/s]"
     ]
    },
    {
     "name": "stdout",
     "output_type": "stream",
     "text": [
      "Epoch 36, train loss: 2228.7364, val loss: 2474.7901\n"
     ]
    },
    {
     "name": "stderr",
     "output_type": "stream",
     "text": [
      "\n",
      "100%|██████████| 125/125 [00:01<00:00, 124.20it/s]\n",
      "100%|██████████| 32/32 [00:00<00:00, 217.08it/s]"
     ]
    },
    {
     "name": "stdout",
     "output_type": "stream",
     "text": [
      "Epoch 37, train loss: 2255.8094, val loss: 2434.3029\n"
     ]
    },
    {
     "name": "stderr",
     "output_type": "stream",
     "text": [
      "\n",
      "100%|██████████| 125/125 [00:01<00:00, 123.41it/s]\n",
      "100%|██████████| 32/32 [00:00<00:00, 204.95it/s]"
     ]
    },
    {
     "name": "stdout",
     "output_type": "stream",
     "text": [
      "Epoch 38, train loss: 2247.7372, val loss: 2505.5405\n"
     ]
    },
    {
     "name": "stderr",
     "output_type": "stream",
     "text": [
      "\n",
      "100%|██████████| 125/125 [00:01<00:00, 123.14it/s]\n",
      "100%|██████████| 32/32 [00:00<00:00, 202.55it/s]"
     ]
    },
    {
     "name": "stdout",
     "output_type": "stream",
     "text": [
      "Epoch 39, train loss: 2252.8323, val loss: 2482.3473\n"
     ]
    },
    {
     "name": "stderr",
     "output_type": "stream",
     "text": [
      "\n",
      "100%|██████████| 125/125 [00:01<00:00, 119.74it/s]\n",
      "100%|██████████| 32/32 [00:00<00:00, 228.07it/s]"
     ]
    },
    {
     "name": "stdout",
     "output_type": "stream",
     "text": [
      "Epoch 40, train loss: 2250.1073, val loss: 2453.5441\n"
     ]
    },
    {
     "name": "stderr",
     "output_type": "stream",
     "text": [
      "\n",
      "100%|██████████| 125/125 [00:01<00:00, 122.81it/s]\n",
      "100%|██████████| 32/32 [00:00<00:00, 192.75it/s]"
     ]
    },
    {
     "name": "stdout",
     "output_type": "stream",
     "text": [
      "Epoch 41, train loss: 2249.0037, val loss: 2396.5093\n"
     ]
    },
    {
     "name": "stderr",
     "output_type": "stream",
     "text": [
      "\n",
      "100%|██████████| 125/125 [00:01<00:00, 121.90it/s]\n",
      "100%|██████████| 32/32 [00:00<00:00, 211.60it/s]"
     ]
    },
    {
     "name": "stdout",
     "output_type": "stream",
     "text": [
      "Epoch 42, train loss: 2221.1514, val loss: 2432.5548\n"
     ]
    },
    {
     "name": "stderr",
     "output_type": "stream",
     "text": [
      "\n",
      "100%|██████████| 125/125 [00:01<00:00, 122.49it/s]\n",
      "100%|██████████| 32/32 [00:00<00:00, 193.63it/s]"
     ]
    },
    {
     "name": "stdout",
     "output_type": "stream",
     "text": [
      "Epoch 43, train loss: 2218.3549, val loss: 2427.5216\n"
     ]
    },
    {
     "name": "stderr",
     "output_type": "stream",
     "text": [
      "\n",
      "100%|██████████| 125/125 [00:01<00:00, 119.41it/s]\n",
      "100%|██████████| 32/32 [00:00<00:00, 208.66it/s]"
     ]
    },
    {
     "name": "stdout",
     "output_type": "stream",
     "text": [
      "Epoch 44, train loss: 2223.1816, val loss: 2397.5437\n"
     ]
    },
    {
     "name": "stderr",
     "output_type": "stream",
     "text": [
      "\n",
      "100%|██████████| 125/125 [00:01<00:00, 121.80it/s]\n",
      "100%|██████████| 32/32 [00:00<00:00, 199.69it/s]"
     ]
    },
    {
     "name": "stdout",
     "output_type": "stream",
     "text": [
      "Epoch 45, train loss: 2213.6623, val loss: 2377.3002\n"
     ]
    },
    {
     "name": "stderr",
     "output_type": "stream",
     "text": [
      "\n",
      "100%|██████████| 125/125 [00:01<00:00, 120.97it/s]\n",
      "100%|██████████| 32/32 [00:00<00:00, 213.96it/s]"
     ]
    },
    {
     "name": "stdout",
     "output_type": "stream",
     "text": [
      "Epoch 46, train loss: 2204.3014, val loss: 2343.1897\n"
     ]
    },
    {
     "name": "stderr",
     "output_type": "stream",
     "text": [
      "\n",
      "100%|██████████| 125/125 [00:01<00:00, 118.38it/s]\n",
      "100%|██████████| 32/32 [00:00<00:00, 218.88it/s]"
     ]
    },
    {
     "name": "stdout",
     "output_type": "stream",
     "text": [
      "Epoch 47, train loss: 2183.3742, val loss: 2365.8129\n"
     ]
    },
    {
     "name": "stderr",
     "output_type": "stream",
     "text": [
      "\n",
      "100%|██████████| 125/125 [00:01<00:00, 119.14it/s]\n",
      "100%|██████████| 32/32 [00:00<00:00, 208.18it/s]"
     ]
    },
    {
     "name": "stdout",
     "output_type": "stream",
     "text": [
      "Epoch 48, train loss: 2189.8528, val loss: 2332.2966\n"
     ]
    },
    {
     "name": "stderr",
     "output_type": "stream",
     "text": [
      "\n",
      "100%|██████████| 125/125 [00:01<00:00, 122.93it/s]\n",
      "100%|██████████| 32/32 [00:00<00:00, 221.89it/s]"
     ]
    },
    {
     "name": "stdout",
     "output_type": "stream",
     "text": [
      "Epoch 49, train loss: 2181.2418, val loss: 2338.6049\n"
     ]
    },
    {
     "name": "stderr",
     "output_type": "stream",
     "text": [
      "\n",
      "100%|██████████| 125/125 [00:01<00:00, 121.52it/s]\n",
      "100%|██████████| 32/32 [00:00<00:00, 219.94it/s]"
     ]
    },
    {
     "name": "stdout",
     "output_type": "stream",
     "text": [
      "Epoch 50, train loss: 2177.8343, val loss: 2343.8155\n",
      "Optimizer: RMSprop\n"
     ]
    },
    {
     "name": "stderr",
     "output_type": "stream",
     "text": [
      "\n",
      "100%|██████████| 125/125 [00:01<00:00, 115.94it/s]\n",
      "100%|██████████| 32/32 [00:00<00:00, 180.49it/s]"
     ]
    },
    {
     "name": "stdout",
     "output_type": "stream",
     "text": [
      "Epoch 1, train loss: 2185.5655, val loss: 2329.5183\n"
     ]
    },
    {
     "name": "stderr",
     "output_type": "stream",
     "text": [
      "\n",
      "100%|██████████| 125/125 [00:01<00:00, 114.11it/s]\n",
      "100%|██████████| 32/32 [00:00<00:00, 200.91it/s]"
     ]
    },
    {
     "name": "stdout",
     "output_type": "stream",
     "text": [
      "Epoch 2, train loss: 2165.6447, val loss: 2314.6339\n"
     ]
    },
    {
     "name": "stderr",
     "output_type": "stream",
     "text": [
      "\n",
      "100%|██████████| 125/125 [00:01<00:00, 114.26it/s]\n",
      "100%|██████████| 32/32 [00:00<00:00, 185.19it/s]"
     ]
    },
    {
     "name": "stdout",
     "output_type": "stream",
     "text": [
      "Epoch 3, train loss: 2154.6373, val loss: 2321.2948\n"
     ]
    },
    {
     "name": "stderr",
     "output_type": "stream",
     "text": [
      "\n",
      "100%|██████████| 125/125 [00:01<00:00, 112.73it/s]\n",
      "100%|██████████| 32/32 [00:00<00:00, 191.12it/s]"
     ]
    },
    {
     "name": "stdout",
     "output_type": "stream",
     "text": [
      "Epoch 4, train loss: 2148.8110, val loss: 2319.0806\n"
     ]
    },
    {
     "name": "stderr",
     "output_type": "stream",
     "text": [
      "\n",
      "100%|██████████| 125/125 [00:01<00:00, 116.30it/s]\n",
      "100%|██████████| 32/32 [00:00<00:00, 204.62it/s]"
     ]
    },
    {
     "name": "stdout",
     "output_type": "stream",
     "text": [
      "Epoch 5, train loss: 2151.5936, val loss: 2324.3204\n"
     ]
    },
    {
     "name": "stderr",
     "output_type": "stream",
     "text": [
      "\n",
      "100%|██████████| 125/125 [00:01<00:00, 117.68it/s]\n",
      "100%|██████████| 32/32 [00:00<00:00, 213.58it/s]"
     ]
    },
    {
     "name": "stdout",
     "output_type": "stream",
     "text": [
      "Epoch 6, train loss: 2138.4037, val loss: 2311.8177\n"
     ]
    },
    {
     "name": "stderr",
     "output_type": "stream",
     "text": [
      "\n",
      "100%|██████████| 125/125 [00:01<00:00, 118.80it/s]\n",
      "100%|██████████| 32/32 [00:00<00:00, 192.70it/s]"
     ]
    },
    {
     "name": "stdout",
     "output_type": "stream",
     "text": [
      "Epoch 7, train loss: 2133.8231, val loss: 2327.7028\n"
     ]
    },
    {
     "name": "stderr",
     "output_type": "stream",
     "text": [
      "\n",
      "100%|██████████| 125/125 [00:01<00:00, 121.14it/s]\n",
      "100%|██████████| 32/32 [00:00<00:00, 193.71it/s]"
     ]
    },
    {
     "name": "stdout",
     "output_type": "stream",
     "text": [
      "Epoch 8, train loss: 2132.6636, val loss: 2323.0651\n"
     ]
    },
    {
     "name": "stderr",
     "output_type": "stream",
     "text": [
      "\n",
      "100%|██████████| 125/125 [00:01<00:00, 113.31it/s]\n",
      "100%|██████████| 32/32 [00:00<00:00, 195.95it/s]"
     ]
    },
    {
     "name": "stdout",
     "output_type": "stream",
     "text": [
      "Epoch 9, train loss: 2128.2706, val loss: 2323.6883\n"
     ]
    },
    {
     "name": "stderr",
     "output_type": "stream",
     "text": [
      "\n",
      "100%|██████████| 125/125 [00:01<00:00, 112.39it/s]\n",
      "100%|██████████| 32/32 [00:00<00:00, 222.96it/s]"
     ]
    },
    {
     "name": "stdout",
     "output_type": "stream",
     "text": [
      "Epoch 10, train loss: 2127.7959, val loss: 2317.7407\n"
     ]
    },
    {
     "name": "stderr",
     "output_type": "stream",
     "text": [
      "\n",
      "100%|██████████| 125/125 [00:01<00:00, 113.70it/s]\n",
      "100%|██████████| 32/32 [00:00<00:00, 206.64it/s]"
     ]
    },
    {
     "name": "stdout",
     "output_type": "stream",
     "text": [
      "Epoch 11, train loss: 2121.0123, val loss: 2316.7002\n"
     ]
    },
    {
     "name": "stderr",
     "output_type": "stream",
     "text": [
      "\n",
      "100%|██████████| 125/125 [00:01<00:00, 110.21it/s]\n",
      "100%|██████████| 32/32 [00:00<00:00, 182.14it/s]"
     ]
    },
    {
     "name": "stdout",
     "output_type": "stream",
     "text": [
      "Epoch 12, train loss: 2120.0514, val loss: 2325.5922\n"
     ]
    },
    {
     "name": "stderr",
     "output_type": "stream",
     "text": [
      "\n",
      "100%|██████████| 125/125 [00:01<00:00, 115.08it/s]\n",
      "100%|██████████| 32/32 [00:00<00:00, 209.11it/s]"
     ]
    },
    {
     "name": "stdout",
     "output_type": "stream",
     "text": [
      "Epoch 13, train loss: 2116.0591, val loss: 2311.2428\n"
     ]
    },
    {
     "name": "stderr",
     "output_type": "stream",
     "text": [
      "\n",
      "100%|██████████| 125/125 [00:01<00:00, 112.99it/s]\n",
      "100%|██████████| 32/32 [00:00<00:00, 196.14it/s]"
     ]
    },
    {
     "name": "stdout",
     "output_type": "stream",
     "text": [
      "Epoch 14, train loss: 2115.0338, val loss: 2313.0310\n"
     ]
    },
    {
     "name": "stderr",
     "output_type": "stream",
     "text": [
      "\n",
      "100%|██████████| 125/125 [00:01<00:00, 115.47it/s]\n",
      "100%|██████████| 32/32 [00:00<00:00, 213.05it/s]"
     ]
    },
    {
     "name": "stdout",
     "output_type": "stream",
     "text": [
      "Epoch 15, train loss: 2114.4213, val loss: 2316.6886\n"
     ]
    },
    {
     "name": "stderr",
     "output_type": "stream",
     "text": [
      "\n",
      "100%|██████████| 125/125 [00:01<00:00, 118.12it/s]\n",
      "100%|██████████| 32/32 [00:00<00:00, 217.99it/s]"
     ]
    },
    {
     "name": "stdout",
     "output_type": "stream",
     "text": [
      "Epoch 16, train loss: 2105.8583, val loss: 2313.7722\n"
     ]
    },
    {
     "name": "stderr",
     "output_type": "stream",
     "text": [
      "\n",
      "100%|██████████| 125/125 [00:01<00:00, 116.35it/s]\n",
      "100%|██████████| 32/32 [00:00<00:00, 210.53it/s]"
     ]
    },
    {
     "name": "stdout",
     "output_type": "stream",
     "text": [
      "Epoch 17, train loss: 2101.6593, val loss: 2319.1779\n"
     ]
    },
    {
     "name": "stderr",
     "output_type": "stream",
     "text": [
      "\n",
      "100%|██████████| 125/125 [00:01<00:00, 116.07it/s]\n",
      "100%|██████████| 32/32 [00:00<00:00, 224.91it/s]"
     ]
    },
    {
     "name": "stdout",
     "output_type": "stream",
     "text": [
      "Epoch 18, train loss: 2096.7436, val loss: 2309.2723\n"
     ]
    },
    {
     "name": "stderr",
     "output_type": "stream",
     "text": [
      "\n",
      "100%|██████████| 125/125 [00:01<00:00, 110.50it/s]\n",
      "100%|██████████| 32/32 [00:00<00:00, 200.89it/s]"
     ]
    },
    {
     "name": "stdout",
     "output_type": "stream",
     "text": [
      "Epoch 19, train loss: 2094.9283, val loss: 2311.2385\n"
     ]
    },
    {
     "name": "stderr",
     "output_type": "stream",
     "text": [
      "\n",
      "100%|██████████| 125/125 [00:01<00:00, 112.98it/s]\n",
      "100%|██████████| 32/32 [00:00<00:00, 185.14it/s]"
     ]
    },
    {
     "name": "stdout",
     "output_type": "stream",
     "text": [
      "Epoch 20, train loss: 2089.4951, val loss: 2314.2388\n"
     ]
    },
    {
     "name": "stderr",
     "output_type": "stream",
     "text": [
      "\n",
      "100%|██████████| 125/125 [00:01<00:00, 113.96it/s]\n",
      "100%|██████████| 32/32 [00:00<00:00, 228.02it/s]"
     ]
    },
    {
     "name": "stdout",
     "output_type": "stream",
     "text": [
      "Epoch 21, train loss: 2092.5310, val loss: 2310.8167\n"
     ]
    },
    {
     "name": "stderr",
     "output_type": "stream",
     "text": [
      "\n",
      "100%|██████████| 125/125 [00:01<00:00, 116.20it/s]\n",
      "100%|██████████| 32/32 [00:00<00:00, 179.64it/s]"
     ]
    },
    {
     "name": "stdout",
     "output_type": "stream",
     "text": [
      "Epoch 22, train loss: 2090.5214, val loss: 2318.4568\n"
     ]
    },
    {
     "name": "stderr",
     "output_type": "stream",
     "text": [
      "\n",
      "100%|██████████| 125/125 [00:01<00:00, 112.03it/s]\n",
      "100%|██████████| 32/32 [00:00<00:00, 203.18it/s]"
     ]
    },
    {
     "name": "stdout",
     "output_type": "stream",
     "text": [
      "Epoch 23, train loss: 2086.2841, val loss: 2308.5363\n"
     ]
    },
    {
     "name": "stderr",
     "output_type": "stream",
     "text": [
      "\n",
      "100%|██████████| 125/125 [00:01<00:00, 112.09it/s]\n",
      "100%|██████████| 32/32 [00:00<00:00, 190.48it/s]"
     ]
    },
    {
     "name": "stdout",
     "output_type": "stream",
     "text": [
      "Epoch 24, train loss: 2081.4438, val loss: 2309.1041\n"
     ]
    },
    {
     "name": "stderr",
     "output_type": "stream",
     "text": [
      "\n",
      "100%|██████████| 125/125 [00:01<00:00, 115.26it/s]\n",
      "100%|██████████| 32/32 [00:00<00:00, 209.57it/s]"
     ]
    },
    {
     "name": "stdout",
     "output_type": "stream",
     "text": [
      "Epoch 25, train loss: 2080.6326, val loss: 2318.3479\n"
     ]
    },
    {
     "name": "stderr",
     "output_type": "stream",
     "text": [
      "\n",
      "100%|██████████| 125/125 [00:01<00:00, 119.19it/s]\n",
      "100%|██████████| 32/32 [00:00<00:00, 190.51it/s]"
     ]
    },
    {
     "name": "stdout",
     "output_type": "stream",
     "text": [
      "Epoch 26, train loss: 2076.2120, val loss: 2315.3213\n"
     ]
    },
    {
     "name": "stderr",
     "output_type": "stream",
     "text": [
      "\n",
      "100%|██████████| 125/125 [00:01<00:00, 115.92it/s]\n",
      "100%|██████████| 32/32 [00:00<00:00, 203.79it/s]"
     ]
    },
    {
     "name": "stdout",
     "output_type": "stream",
     "text": [
      "Epoch 27, train loss: 2077.9227, val loss: 2316.5087\n"
     ]
    },
    {
     "name": "stderr",
     "output_type": "stream",
     "text": [
      "\n",
      "100%|██████████| 125/125 [00:01<00:00, 110.96it/s]\n",
      "100%|██████████| 32/32 [00:00<00:00, 201.58it/s]"
     ]
    },
    {
     "name": "stdout",
     "output_type": "stream",
     "text": [
      "Epoch 28, train loss: 2076.6934, val loss: 2312.8404\n"
     ]
    },
    {
     "name": "stderr",
     "output_type": "stream",
     "text": [
      "\n",
      "100%|██████████| 125/125 [00:01<00:00, 115.53it/s]\n",
      "100%|██████████| 32/32 [00:00<00:00, 225.40it/s]"
     ]
    },
    {
     "name": "stdout",
     "output_type": "stream",
     "text": [
      "Epoch 29, train loss: 2074.0470, val loss: 2311.6992\n"
     ]
    },
    {
     "name": "stderr",
     "output_type": "stream",
     "text": [
      "\n",
      "100%|██████████| 125/125 [00:01<00:00, 117.64it/s]\n",
      "100%|██████████| 32/32 [00:00<00:00, 188.34it/s]"
     ]
    },
    {
     "name": "stdout",
     "output_type": "stream",
     "text": [
      "Epoch 30, train loss: 2072.0819, val loss: 2320.2955\n"
     ]
    },
    {
     "name": "stderr",
     "output_type": "stream",
     "text": [
      "\n",
      "100%|██████████| 125/125 [00:01<00:00, 113.85it/s]\n",
      "100%|██████████| 32/32 [00:00<00:00, 183.60it/s]"
     ]
    },
    {
     "name": "stdout",
     "output_type": "stream",
     "text": [
      "Epoch 31, train loss: 2074.3229, val loss: 2317.1220\n"
     ]
    },
    {
     "name": "stderr",
     "output_type": "stream",
     "text": [
      "\n",
      "100%|██████████| 125/125 [00:01<00:00, 118.25it/s]\n",
      "100%|██████████| 32/32 [00:00<00:00, 196.62it/s]"
     ]
    },
    {
     "name": "stdout",
     "output_type": "stream",
     "text": [
      "Epoch 32, train loss: 2070.6291, val loss: 2312.2657\n"
     ]
    },
    {
     "name": "stderr",
     "output_type": "stream",
     "text": [
      "\n",
      "100%|██████████| 125/125 [00:01<00:00, 115.59it/s]\n",
      "100%|██████████| 32/32 [00:00<00:00, 198.95it/s]"
     ]
    },
    {
     "name": "stdout",
     "output_type": "stream",
     "text": [
      "Epoch 33, train loss: 2067.5084, val loss: 2309.6699\n"
     ]
    },
    {
     "name": "stderr",
     "output_type": "stream",
     "text": [
      "\n",
      "100%|██████████| 125/125 [00:01<00:00, 112.10it/s]\n",
      "100%|██████████| 32/32 [00:00<00:00, 193.16it/s]"
     ]
    },
    {
     "name": "stdout",
     "output_type": "stream",
     "text": [
      "Epoch 34, train loss: 2064.0270, val loss: 2313.4968\n"
     ]
    },
    {
     "name": "stderr",
     "output_type": "stream",
     "text": [
      "\n",
      "100%|██████████| 125/125 [00:01<00:00, 118.09it/s]\n",
      "100%|██████████| 32/32 [00:00<00:00, 233.25it/s]"
     ]
    },
    {
     "name": "stdout",
     "output_type": "stream",
     "text": [
      "Epoch 35, train loss: 2063.0871, val loss: 2312.9673\n"
     ]
    },
    {
     "name": "stderr",
     "output_type": "stream",
     "text": [
      "\n",
      "100%|██████████| 125/125 [00:01<00:00, 118.32it/s]\n",
      "100%|██████████| 32/32 [00:00<00:00, 189.94it/s]"
     ]
    },
    {
     "name": "stdout",
     "output_type": "stream",
     "text": [
      "Epoch 36, train loss: 2061.7003, val loss: 2309.6899\n"
     ]
    },
    {
     "name": "stderr",
     "output_type": "stream",
     "text": [
      "\n",
      "100%|██████████| 125/125 [00:01<00:00, 118.98it/s]\n",
      "100%|██████████| 32/32 [00:00<00:00, 203.72it/s]"
     ]
    },
    {
     "name": "stdout",
     "output_type": "stream",
     "text": [
      "Epoch 37, train loss: 2061.7617, val loss: 2311.6924\n"
     ]
    },
    {
     "name": "stderr",
     "output_type": "stream",
     "text": [
      "\n",
      "100%|██████████| 125/125 [00:01<00:00, 107.56it/s]\n",
      "100%|██████████| 32/32 [00:00<00:00, 186.08it/s]"
     ]
    },
    {
     "name": "stdout",
     "output_type": "stream",
     "text": [
      "Epoch 38, train loss: 2061.8683, val loss: 2304.0207\n"
     ]
    },
    {
     "name": "stderr",
     "output_type": "stream",
     "text": [
      "\n",
      "100%|██████████| 125/125 [00:01<00:00, 114.90it/s]\n",
      "100%|██████████| 32/32 [00:00<00:00, 190.15it/s]"
     ]
    },
    {
     "name": "stdout",
     "output_type": "stream",
     "text": [
      "Epoch 39, train loss: 2060.1972, val loss: 2308.7463\n"
     ]
    },
    {
     "name": "stderr",
     "output_type": "stream",
     "text": [
      "\n",
      "100%|██████████| 125/125 [00:01<00:00, 115.99it/s]\n",
      "100%|██████████| 32/32 [00:00<00:00, 209.39it/s]"
     ]
    },
    {
     "name": "stdout",
     "output_type": "stream",
     "text": [
      "Epoch 40, train loss: 2058.1004, val loss: 2305.1755\n"
     ]
    },
    {
     "name": "stderr",
     "output_type": "stream",
     "text": [
      "\n",
      "100%|██████████| 125/125 [00:01<00:00, 117.07it/s]\n",
      "100%|██████████| 32/32 [00:00<00:00, 174.81it/s]"
     ]
    },
    {
     "name": "stdout",
     "output_type": "stream",
     "text": [
      "Epoch 41, train loss: 2057.9392, val loss: 2305.6634\n"
     ]
    },
    {
     "name": "stderr",
     "output_type": "stream",
     "text": [
      "\n",
      "100%|██████████| 125/125 [00:01<00:00, 118.70it/s]\n",
      "100%|██████████| 32/32 [00:00<00:00, 204.43it/s]"
     ]
    },
    {
     "name": "stdout",
     "output_type": "stream",
     "text": [
      "Epoch 42, train loss: 2058.1633, val loss: 2300.5522\n"
     ]
    },
    {
     "name": "stderr",
     "output_type": "stream",
     "text": [
      "\n",
      "100%|██████████| 125/125 [00:01<00:00, 109.36it/s]\n",
      "100%|██████████| 32/32 [00:00<00:00, 159.22it/s]"
     ]
    },
    {
     "name": "stdout",
     "output_type": "stream",
     "text": [
      "Epoch 43, train loss: 2058.1942, val loss: 2301.7455\n"
     ]
    },
    {
     "name": "stderr",
     "output_type": "stream",
     "text": [
      "\n",
      "100%|██████████| 125/125 [00:01<00:00, 118.56it/s]\n",
      "100%|██████████| 32/32 [00:00<00:00, 209.63it/s]"
     ]
    },
    {
     "name": "stdout",
     "output_type": "stream",
     "text": [
      "Epoch 44, train loss: 2056.4706, val loss: 2300.3898\n"
     ]
    },
    {
     "name": "stderr",
     "output_type": "stream",
     "text": [
      "\n",
      "100%|██████████| 125/125 [00:01<00:00, 113.98it/s]\n",
      "100%|██████████| 32/32 [00:00<00:00, 198.17it/s]"
     ]
    },
    {
     "name": "stdout",
     "output_type": "stream",
     "text": [
      "Epoch 45, train loss: 2057.0569, val loss: 2301.6791\n"
     ]
    },
    {
     "name": "stderr",
     "output_type": "stream",
     "text": [
      "\n",
      "100%|██████████| 125/125 [00:01<00:00, 115.08it/s]\n",
      "100%|██████████| 32/32 [00:00<00:00, 186.24it/s]"
     ]
    },
    {
     "name": "stdout",
     "output_type": "stream",
     "text": [
      "Epoch 46, train loss: 2054.7623, val loss: 2302.1789\n"
     ]
    },
    {
     "name": "stderr",
     "output_type": "stream",
     "text": [
      "\n",
      "100%|██████████| 125/125 [00:01<00:00, 110.62it/s]\n",
      "100%|██████████| 32/32 [00:00<00:00, 188.99it/s]"
     ]
    },
    {
     "name": "stdout",
     "output_type": "stream",
     "text": [
      "Epoch 47, train loss: 2055.8218, val loss: 2302.4620\n"
     ]
    },
    {
     "name": "stderr",
     "output_type": "stream",
     "text": [
      "\n",
      "100%|██████████| 125/125 [00:01<00:00, 105.92it/s]\n",
      "100%|██████████| 32/32 [00:00<00:00, 190.44it/s]"
     ]
    },
    {
     "name": "stdout",
     "output_type": "stream",
     "text": [
      "Epoch 48, train loss: 2055.1079, val loss: 2301.7325\n"
     ]
    },
    {
     "name": "stderr",
     "output_type": "stream",
     "text": [
      "\n",
      "100%|██████████| 125/125 [00:01<00:00, 109.02it/s]\n",
      "100%|██████████| 32/32 [00:00<00:00, 183.53it/s]"
     ]
    },
    {
     "name": "stdout",
     "output_type": "stream",
     "text": [
      "Epoch 49, train loss: 2054.3263, val loss: 2302.6173\n"
     ]
    },
    {
     "name": "stderr",
     "output_type": "stream",
     "text": [
      "\n",
      "100%|██████████| 125/125 [00:01<00:00, 113.77it/s]\n",
      "100%|██████████| 32/32 [00:00<00:00, 203.27it/s]"
     ]
    },
    {
     "name": "stdout",
     "output_type": "stream",
     "text": [
      "Epoch 50, train loss: 2054.7577, val loss: 2302.6440\n",
      "Optimizer: Adam\n"
     ]
    },
    {
     "name": "stderr",
     "output_type": "stream",
     "text": [
      "\n",
      "100%|██████████| 125/125 [00:01<00:00, 100.89it/s]\n",
      "100%|██████████| 32/32 [00:00<00:00, 185.75it/s]"
     ]
    },
    {
     "name": "stdout",
     "output_type": "stream",
     "text": [
      "Epoch 1, train loss: 2075.0707, val loss: 2314.2549\n"
     ]
    },
    {
     "name": "stderr",
     "output_type": "stream",
     "text": [
      "\n",
      "100%|██████████| 125/125 [00:01<00:00, 105.24it/s]\n",
      "100%|██████████| 32/32 [00:00<00:00, 162.03it/s]\n"
     ]
    },
    {
     "name": "stdout",
     "output_type": "stream",
     "text": [
      "Epoch 2, train loss: 2093.9150, val loss: 2292.7338\n"
     ]
    },
    {
     "name": "stderr",
     "output_type": "stream",
     "text": [
      "100%|██████████| 125/125 [00:01<00:00, 109.95it/s]\n",
      "100%|██████████| 32/32 [00:00<00:00, 168.54it/s]"
     ]
    },
    {
     "name": "stdout",
     "output_type": "stream",
     "text": [
      "Epoch 3, train loss: 2092.5388, val loss: 2328.6843\n"
     ]
    },
    {
     "name": "stderr",
     "output_type": "stream",
     "text": [
      "\n",
      "100%|██████████| 125/125 [00:01<00:00, 111.74it/s]\n",
      "100%|██████████| 32/32 [00:00<00:00, 216.17it/s]"
     ]
    },
    {
     "name": "stdout",
     "output_type": "stream",
     "text": [
      "Epoch 4, train loss: 2087.1883, val loss: 2314.1110\n"
     ]
    },
    {
     "name": "stderr",
     "output_type": "stream",
     "text": [
      "\n",
      "100%|██████████| 125/125 [00:01<00:00, 107.16it/s]\n",
      "100%|██████████| 32/32 [00:00<00:00, 183.13it/s]"
     ]
    },
    {
     "name": "stdout",
     "output_type": "stream",
     "text": [
      "Epoch 5, train loss: 2086.2329, val loss: 2322.4527\n"
     ]
    },
    {
     "name": "stderr",
     "output_type": "stream",
     "text": [
      "\n",
      "100%|██████████| 125/125 [00:01<00:00, 101.18it/s]\n",
      "100%|██████████| 32/32 [00:00<00:00, 204.21it/s]"
     ]
    },
    {
     "name": "stdout",
     "output_type": "stream",
     "text": [
      "Epoch 6, train loss: 2083.1481, val loss: 2316.5881\n"
     ]
    },
    {
     "name": "stderr",
     "output_type": "stream",
     "text": [
      "\n",
      "100%|██████████| 125/125 [00:01<00:00, 101.02it/s]\n",
      "100%|██████████| 32/32 [00:00<00:00, 203.27it/s]"
     ]
    },
    {
     "name": "stdout",
     "output_type": "stream",
     "text": [
      "Epoch 7, train loss: 2086.3921, val loss: 2319.1414\n"
     ]
    },
    {
     "name": "stderr",
     "output_type": "stream",
     "text": [
      "\n",
      "100%|██████████| 125/125 [00:01<00:00, 107.87it/s]\n",
      "100%|██████████| 32/32 [00:00<00:00, 192.45it/s]"
     ]
    },
    {
     "name": "stdout",
     "output_type": "stream",
     "text": [
      "Epoch 8, train loss: 2079.0113, val loss: 2321.6042\n"
     ]
    },
    {
     "name": "stderr",
     "output_type": "stream",
     "text": [
      "\n",
      "100%|██████████| 125/125 [00:01<00:00, 110.43it/s]\n",
      "100%|██████████| 32/32 [00:00<00:00, 203.09it/s]"
     ]
    },
    {
     "name": "stdout",
     "output_type": "stream",
     "text": [
      "Epoch 9, train loss: 2078.2524, val loss: 2318.3161\n"
     ]
    },
    {
     "name": "stderr",
     "output_type": "stream",
     "text": [
      "\n",
      "100%|██████████| 125/125 [00:01<00:00, 109.93it/s]\n",
      "100%|██████████| 32/32 [00:00<00:00, 205.94it/s]"
     ]
    },
    {
     "name": "stdout",
     "output_type": "stream",
     "text": [
      "Epoch 10, train loss: 2082.9989, val loss: 2317.6477\n"
     ]
    },
    {
     "name": "stderr",
     "output_type": "stream",
     "text": [
      "\n",
      "100%|██████████| 125/125 [00:01<00:00, 105.09it/s]\n",
      "100%|██████████| 32/32 [00:00<00:00, 211.53it/s]"
     ]
    },
    {
     "name": "stdout",
     "output_type": "stream",
     "text": [
      "Epoch 11, train loss: 2077.3358, val loss: 2317.3104\n"
     ]
    },
    {
     "name": "stderr",
     "output_type": "stream",
     "text": [
      "\n",
      "100%|██████████| 125/125 [00:01<00:00, 108.63it/s]\n",
      "100%|██████████| 32/32 [00:00<00:00, 201.56it/s]"
     ]
    },
    {
     "name": "stdout",
     "output_type": "stream",
     "text": [
      "Epoch 12, train loss: 2074.5096, val loss: 2319.1544\n"
     ]
    },
    {
     "name": "stderr",
     "output_type": "stream",
     "text": [
      "\n",
      "100%|██████████| 125/125 [00:01<00:00, 108.31it/s]\n",
      "100%|██████████| 32/32 [00:00<00:00, 194.03it/s]"
     ]
    },
    {
     "name": "stdout",
     "output_type": "stream",
     "text": [
      "Epoch 13, train loss: 2076.0448, val loss: 2309.8287\n"
     ]
    },
    {
     "name": "stderr",
     "output_type": "stream",
     "text": [
      "\n",
      "100%|██████████| 125/125 [00:01<00:00, 109.57it/s]\n",
      "100%|██████████| 32/32 [00:00<00:00, 201.93it/s]"
     ]
    },
    {
     "name": "stdout",
     "output_type": "stream",
     "text": [
      "Epoch 14, train loss: 2069.9774, val loss: 2309.7568\n"
     ]
    },
    {
     "name": "stderr",
     "output_type": "stream",
     "text": [
      "\n",
      "100%|██████████| 125/125 [00:01<00:00, 109.55it/s]\n",
      "100%|██████████| 32/32 [00:00<00:00, 89.86it/s]"
     ]
    },
    {
     "name": "stdout",
     "output_type": "stream",
     "text": [
      "Epoch 15, train loss: 2068.9881, val loss: 2314.5475\n"
     ]
    },
    {
     "name": "stderr",
     "output_type": "stream",
     "text": [
      "\n",
      "100%|██████████| 125/125 [00:01<00:00, 107.59it/s]\n",
      "100%|██████████| 32/32 [00:00<00:00, 187.84it/s]"
     ]
    },
    {
     "name": "stdout",
     "output_type": "stream",
     "text": [
      "Epoch 16, train loss: 2066.0724, val loss: 2311.8645\n"
     ]
    },
    {
     "name": "stderr",
     "output_type": "stream",
     "text": [
      "\n",
      "100%|██████████| 125/125 [00:01<00:00, 105.31it/s]\n",
      "100%|██████████| 32/32 [00:00<00:00, 190.85it/s]"
     ]
    },
    {
     "name": "stdout",
     "output_type": "stream",
     "text": [
      "Epoch 17, train loss: 2064.6744, val loss: 2309.4448\n"
     ]
    },
    {
     "name": "stderr",
     "output_type": "stream",
     "text": [
      "\n",
      "100%|██████████| 125/125 [00:01<00:00, 108.63it/s]\n",
      "100%|██████████| 32/32 [00:00<00:00, 200.28it/s]"
     ]
    },
    {
     "name": "stdout",
     "output_type": "stream",
     "text": [
      "Epoch 18, train loss: 2064.0907, val loss: 2314.9269\n"
     ]
    },
    {
     "name": "stderr",
     "output_type": "stream",
     "text": [
      "\n",
      "100%|██████████| 125/125 [00:01<00:00, 108.29it/s]\n",
      "100%|██████████| 32/32 [00:00<00:00, 184.72it/s]"
     ]
    },
    {
     "name": "stdout",
     "output_type": "stream",
     "text": [
      "Epoch 19, train loss: 2061.6530, val loss: 2314.4241\n"
     ]
    },
    {
     "name": "stderr",
     "output_type": "stream",
     "text": [
      "\n",
      "100%|██████████| 125/125 [00:01<00:00, 101.97it/s]\n",
      "100%|██████████| 32/32 [00:00<00:00, 196.34it/s]"
     ]
    },
    {
     "name": "stdout",
     "output_type": "stream",
     "text": [
      "Epoch 20, train loss: 2061.1232, val loss: 2307.8659\n"
     ]
    },
    {
     "name": "stderr",
     "output_type": "stream",
     "text": [
      "\n",
      "100%|██████████| 125/125 [00:01<00:00, 111.56it/s]\n",
      "100%|██████████| 32/32 [00:00<00:00, 201.59it/s]"
     ]
    },
    {
     "name": "stdout",
     "output_type": "stream",
     "text": [
      "Epoch 21, train loss: 2060.9829, val loss: 2304.9851\n"
     ]
    },
    {
     "name": "stderr",
     "output_type": "stream",
     "text": [
      "\n",
      "100%|██████████| 125/125 [00:01<00:00, 106.59it/s]\n",
      "100%|██████████| 32/32 [00:00<00:00, 206.13it/s]"
     ]
    },
    {
     "name": "stdout",
     "output_type": "stream",
     "text": [
      "Epoch 22, train loss: 2058.4910, val loss: 2305.4233\n"
     ]
    },
    {
     "name": "stderr",
     "output_type": "stream",
     "text": [
      "\n",
      "100%|██████████| 125/125 [00:01<00:00, 99.53it/s] \n",
      "100%|██████████| 32/32 [00:00<00:00, 214.77it/s]"
     ]
    },
    {
     "name": "stdout",
     "output_type": "stream",
     "text": [
      "Epoch 23, train loss: 2059.6950, val loss: 2296.8896\n"
     ]
    },
    {
     "name": "stderr",
     "output_type": "stream",
     "text": [
      "\n",
      "100%|██████████| 125/125 [00:01<00:00, 105.67it/s]\n",
      "100%|██████████| 32/32 [00:00<00:00, 195.78it/s]"
     ]
    },
    {
     "name": "stdout",
     "output_type": "stream",
     "text": [
      "Epoch 24, train loss: 2059.3666, val loss: 2303.2692\n"
     ]
    },
    {
     "name": "stderr",
     "output_type": "stream",
     "text": [
      "\n",
      "100%|██████████| 125/125 [00:01<00:00, 106.81it/s]\n",
      "100%|██████████| 32/32 [00:00<00:00, 231.58it/s]"
     ]
    },
    {
     "name": "stdout",
     "output_type": "stream",
     "text": [
      "Epoch 25, train loss: 2057.0942, val loss: 2302.4821\n"
     ]
    },
    {
     "name": "stderr",
     "output_type": "stream",
     "text": [
      "\n",
      "100%|██████████| 125/125 [00:01<00:00, 112.54it/s]\n",
      "100%|██████████| 32/32 [00:00<00:00, 180.95it/s]"
     ]
    },
    {
     "name": "stdout",
     "output_type": "stream",
     "text": [
      "Epoch 26, train loss: 2054.9840, val loss: 2305.6305\n"
     ]
    },
    {
     "name": "stderr",
     "output_type": "stream",
     "text": [
      "\n",
      "100%|██████████| 125/125 [00:01<00:00, 110.04it/s]\n",
      "100%|██████████| 32/32 [00:00<00:00, 211.36it/s]"
     ]
    },
    {
     "name": "stdout",
     "output_type": "stream",
     "text": [
      "Epoch 27, train loss: 2053.3508, val loss: 2296.8391\n"
     ]
    },
    {
     "name": "stderr",
     "output_type": "stream",
     "text": [
      "\n",
      "100%|██████████| 125/125 [00:01<00:00, 110.16it/s]\n",
      "100%|██████████| 32/32 [00:00<00:00, 210.46it/s]"
     ]
    },
    {
     "name": "stdout",
     "output_type": "stream",
     "text": [
      "Epoch 28, train loss: 2051.9990, val loss: 2301.3057\n"
     ]
    },
    {
     "name": "stderr",
     "output_type": "stream",
     "text": [
      "\n",
      "100%|██████████| 125/125 [00:01<00:00, 109.50it/s]\n",
      "100%|██████████| 32/32 [00:00<00:00, 206.84it/s]"
     ]
    },
    {
     "name": "stdout",
     "output_type": "stream",
     "text": [
      "Epoch 29, train loss: 2049.9847, val loss: 2297.2571\n"
     ]
    },
    {
     "name": "stderr",
     "output_type": "stream",
     "text": [
      "\n",
      "100%|██████████| 125/125 [00:01<00:00, 108.38it/s]\n",
      "100%|██████████| 32/32 [00:00<00:00, 210.22it/s]"
     ]
    },
    {
     "name": "stdout",
     "output_type": "stream",
     "text": [
      "Epoch 30, train loss: 2049.9069, val loss: 2304.2285\n"
     ]
    },
    {
     "name": "stderr",
     "output_type": "stream",
     "text": [
      "\n",
      "100%|██████████| 125/125 [00:01<00:00, 107.49it/s]\n",
      "100%|██████████| 32/32 [00:00<00:00, 179.22it/s]"
     ]
    },
    {
     "name": "stdout",
     "output_type": "stream",
     "text": [
      "Epoch 31, train loss: 2047.6093, val loss: 2305.0038\n"
     ]
    },
    {
     "name": "stderr",
     "output_type": "stream",
     "text": [
      "\n",
      "100%|██████████| 125/125 [00:01<00:00, 103.13it/s]\n",
      "100%|██████████| 32/32 [00:00<00:00, 177.26it/s]"
     ]
    },
    {
     "name": "stdout",
     "output_type": "stream",
     "text": [
      "Epoch 32, train loss: 2047.0760, val loss: 2307.0209\n"
     ]
    },
    {
     "name": "stderr",
     "output_type": "stream",
     "text": [
      "\n",
      "100%|██████████| 125/125 [00:01<00:00, 105.86it/s]\n",
      "100%|██████████| 32/32 [00:00<00:00, 222.06it/s]"
     ]
    },
    {
     "name": "stdout",
     "output_type": "stream",
     "text": [
      "Epoch 33, train loss: 2045.7451, val loss: 2305.6578\n"
     ]
    },
    {
     "name": "stderr",
     "output_type": "stream",
     "text": [
      "\n",
      "100%|██████████| 125/125 [00:01<00:00, 104.74it/s]\n",
      "100%|██████████| 32/32 [00:00<00:00, 185.02it/s]"
     ]
    },
    {
     "name": "stdout",
     "output_type": "stream",
     "text": [
      "Epoch 34, train loss: 2044.8883, val loss: 2301.3762\n"
     ]
    },
    {
     "name": "stderr",
     "output_type": "stream",
     "text": [
      "\n",
      "100%|██████████| 125/125 [00:01<00:00, 108.26it/s]\n",
      "100%|██████████| 32/32 [00:00<00:00, 195.61it/s]"
     ]
    },
    {
     "name": "stdout",
     "output_type": "stream",
     "text": [
      "Epoch 35, train loss: 2043.9151, val loss: 2304.0649\n"
     ]
    },
    {
     "name": "stderr",
     "output_type": "stream",
     "text": [
      "\n",
      "100%|██████████| 125/125 [00:01<00:00, 110.23it/s]\n",
      "100%|██████████| 32/32 [00:00<00:00, 203.89it/s]"
     ]
    },
    {
     "name": "stdout",
     "output_type": "stream",
     "text": [
      "Epoch 36, train loss: 2042.1132, val loss: 2304.2932\n"
     ]
    },
    {
     "name": "stderr",
     "output_type": "stream",
     "text": [
      "\n",
      "100%|██████████| 125/125 [00:01<00:00, 112.15it/s]\n",
      "100%|██████████| 32/32 [00:00<00:00, 197.80it/s]"
     ]
    },
    {
     "name": "stdout",
     "output_type": "stream",
     "text": [
      "Epoch 37, train loss: 2041.8405, val loss: 2304.0518\n"
     ]
    },
    {
     "name": "stderr",
     "output_type": "stream",
     "text": [
      "\n",
      "100%|██████████| 125/125 [00:01<00:00, 110.41it/s]\n",
      "100%|██████████| 32/32 [00:00<00:00, 202.75it/s]"
     ]
    },
    {
     "name": "stdout",
     "output_type": "stream",
     "text": [
      "Epoch 38, train loss: 2041.9502, val loss: 2302.6123\n"
     ]
    },
    {
     "name": "stderr",
     "output_type": "stream",
     "text": [
      "\n",
      "100%|██████████| 125/125 [00:01<00:00, 111.55it/s]\n",
      "100%|██████████| 32/32 [00:00<00:00, 208.11it/s]"
     ]
    },
    {
     "name": "stdout",
     "output_type": "stream",
     "text": [
      "Epoch 39, train loss: 2041.5369, val loss: 2304.5182\n"
     ]
    },
    {
     "name": "stderr",
     "output_type": "stream",
     "text": [
      "\n",
      "100%|██████████| 125/125 [00:01<00:00, 109.71it/s]\n",
      "100%|██████████| 32/32 [00:00<00:00, 183.35it/s]"
     ]
    },
    {
     "name": "stdout",
     "output_type": "stream",
     "text": [
      "Epoch 40, train loss: 2042.1694, val loss: 2302.7307\n"
     ]
    },
    {
     "name": "stderr",
     "output_type": "stream",
     "text": [
      "\n",
      "100%|██████████| 125/125 [00:01<00:00, 106.02it/s]\n",
      "100%|██████████| 32/32 [00:00<00:00, 203.49it/s]"
     ]
    },
    {
     "name": "stdout",
     "output_type": "stream",
     "text": [
      "Epoch 41, train loss: 2040.8371, val loss: 2303.0438\n"
     ]
    },
    {
     "name": "stderr",
     "output_type": "stream",
     "text": [
      "\n",
      "100%|██████████| 125/125 [00:01<00:00, 108.30it/s]\n",
      "100%|██████████| 32/32 [00:00<00:00, 183.70it/s]"
     ]
    },
    {
     "name": "stdout",
     "output_type": "stream",
     "text": [
      "Epoch 42, train loss: 2040.3228, val loss: 2302.0664\n"
     ]
    },
    {
     "name": "stderr",
     "output_type": "stream",
     "text": [
      "\n",
      "100%|██████████| 125/125 [00:01<00:00, 108.93it/s]\n",
      "100%|██████████| 32/32 [00:00<00:00, 225.91it/s]"
     ]
    },
    {
     "name": "stdout",
     "output_type": "stream",
     "text": [
      "Epoch 43, train loss: 2040.0181, val loss: 2301.3938\n"
     ]
    },
    {
     "name": "stderr",
     "output_type": "stream",
     "text": [
      "\n",
      "100%|██████████| 125/125 [00:01<00:00, 109.16it/s]\n",
      "100%|██████████| 32/32 [00:00<00:00, 188.35it/s]"
     ]
    },
    {
     "name": "stdout",
     "output_type": "stream",
     "text": [
      "Epoch 44, train loss: 2039.6256, val loss: 2301.6901\n"
     ]
    },
    {
     "name": "stderr",
     "output_type": "stream",
     "text": [
      "\n",
      "100%|██████████| 125/125 [00:01<00:00, 105.08it/s]\n",
      "100%|██████████| 32/32 [00:00<00:00, 194.77it/s]"
     ]
    },
    {
     "name": "stdout",
     "output_type": "stream",
     "text": [
      "Epoch 45, train loss: 2039.4628, val loss: 2302.0378\n"
     ]
    },
    {
     "name": "stderr",
     "output_type": "stream",
     "text": [
      "\n",
      "100%|██████████| 125/125 [00:01<00:00, 108.07it/s]\n",
      "100%|██████████| 32/32 [00:00<00:00, 207.73it/s]"
     ]
    },
    {
     "name": "stdout",
     "output_type": "stream",
     "text": [
      "Epoch 46, train loss: 2039.3035, val loss: 2302.0756\n"
     ]
    },
    {
     "name": "stderr",
     "output_type": "stream",
     "text": [
      "\n",
      "100%|██████████| 125/125 [00:01<00:00, 108.76it/s]\n",
      "100%|██████████| 32/32 [00:00<00:00, 215.42it/s]"
     ]
    },
    {
     "name": "stdout",
     "output_type": "stream",
     "text": [
      "Epoch 47, train loss: 2039.1656, val loss: 2302.2287\n"
     ]
    },
    {
     "name": "stderr",
     "output_type": "stream",
     "text": [
      "\n",
      "100%|██████████| 125/125 [00:01<00:00, 105.73it/s]\n",
      "100%|██████████| 32/32 [00:00<00:00, 194.45it/s]"
     ]
    },
    {
     "name": "stdout",
     "output_type": "stream",
     "text": [
      "Epoch 48, train loss: 2039.0822, val loss: 2302.1043\n"
     ]
    },
    {
     "name": "stderr",
     "output_type": "stream",
     "text": [
      "\n",
      "100%|██████████| 125/125 [00:01<00:00, 110.78it/s]\n",
      "100%|██████████| 32/32 [00:00<00:00, 202.63it/s]"
     ]
    },
    {
     "name": "stdout",
     "output_type": "stream",
     "text": [
      "Epoch 49, train loss: 2039.0359, val loss: 2302.0815\n"
     ]
    },
    {
     "name": "stderr",
     "output_type": "stream",
     "text": [
      "\n",
      "100%|██████████| 125/125 [00:01<00:00, 108.28it/s]\n",
      "100%|██████████| 32/32 [00:00<00:00, 177.06it/s]"
     ]
    },
    {
     "name": "stdout",
     "output_type": "stream",
     "text": [
      "Epoch 50, train loss: 2039.0140, val loss: 2302.0733\n",
      "Optimizer: Adamax\n"
     ]
    },
    {
     "name": "stderr",
     "output_type": "stream",
     "text": [
      "\n",
      "100%|██████████| 125/125 [00:01<00:00, 75.26it/s]\n",
      "100%|██████████| 32/32 [00:00<00:00, 214.13it/s]"
     ]
    },
    {
     "name": "stdout",
     "output_type": "stream",
     "text": [
      "Epoch 1, train loss: 2045.8564, val loss: 2306.2714\n"
     ]
    },
    {
     "name": "stderr",
     "output_type": "stream",
     "text": [
      "\n",
      "100%|██████████| 125/125 [00:01<00:00, 76.25it/s]\n",
      "100%|██████████| 32/32 [00:00<00:00, 239.15it/s]"
     ]
    },
    {
     "name": "stdout",
     "output_type": "stream",
     "text": [
      "Epoch 2, train loss: 2044.1080, val loss: 2312.8131\n"
     ]
    },
    {
     "name": "stderr",
     "output_type": "stream",
     "text": [
      "\n",
      "100%|██████████| 125/125 [00:01<00:00, 75.39it/s]\n",
      "100%|██████████| 32/32 [00:00<00:00, 217.38it/s]"
     ]
    },
    {
     "name": "stdout",
     "output_type": "stream",
     "text": [
      "Epoch 3, train loss: 2042.5492, val loss: 2311.9457\n"
     ]
    },
    {
     "name": "stderr",
     "output_type": "stream",
     "text": [
      "\n",
      "100%|██████████| 125/125 [00:01<00:00, 76.60it/s]\n",
      "100%|██████████| 32/32 [00:00<00:00, 201.76it/s]"
     ]
    },
    {
     "name": "stdout",
     "output_type": "stream",
     "text": [
      "Epoch 4, train loss: 2039.8911, val loss: 2311.4402\n"
     ]
    },
    {
     "name": "stderr",
     "output_type": "stream",
     "text": [
      "\n",
      "100%|██████████| 125/125 [00:01<00:00, 77.85it/s]\n",
      "100%|██████████| 32/32 [00:00<00:00, 184.43it/s]"
     ]
    },
    {
     "name": "stdout",
     "output_type": "stream",
     "text": [
      "Epoch 5, train loss: 2039.5476, val loss: 2310.7724\n"
     ]
    },
    {
     "name": "stderr",
     "output_type": "stream",
     "text": [
      "\n",
      "100%|██████████| 125/125 [00:01<00:00, 71.14it/s]\n",
      "100%|██████████| 32/32 [00:00<00:00, 221.06it/s]"
     ]
    },
    {
     "name": "stdout",
     "output_type": "stream",
     "text": [
      "Epoch 6, train loss: 2037.2588, val loss: 2311.8480\n"
     ]
    },
    {
     "name": "stderr",
     "output_type": "stream",
     "text": [
      "\n",
      "100%|██████████| 125/125 [00:01<00:00, 73.68it/s]\n",
      "100%|██████████| 32/32 [00:00<00:00, 206.20it/s]"
     ]
    },
    {
     "name": "stdout",
     "output_type": "stream",
     "text": [
      "Epoch 7, train loss: 2036.2523, val loss: 2316.6422\n"
     ]
    },
    {
     "name": "stderr",
     "output_type": "stream",
     "text": [
      "\n",
      "100%|██████████| 125/125 [00:01<00:00, 72.83it/s]\n",
      "100%|██████████| 32/32 [00:00<00:00, 191.99it/s]"
     ]
    },
    {
     "name": "stdout",
     "output_type": "stream",
     "text": [
      "Epoch 8, train loss: 2035.8271, val loss: 2317.0468\n"
     ]
    },
    {
     "name": "stderr",
     "output_type": "stream",
     "text": [
      "\n",
      "100%|██████████| 125/125 [00:01<00:00, 75.88it/s]\n",
      "100%|██████████| 32/32 [00:00<00:00, 185.33it/s]"
     ]
    },
    {
     "name": "stdout",
     "output_type": "stream",
     "text": [
      "Epoch 9, train loss: 2033.8035, val loss: 2320.8504\n"
     ]
    },
    {
     "name": "stderr",
     "output_type": "stream",
     "text": [
      "\n",
      "100%|██████████| 125/125 [00:01<00:00, 74.71it/s]\n",
      "100%|██████████| 32/32 [00:00<00:00, 207.64it/s]"
     ]
    },
    {
     "name": "stdout",
     "output_type": "stream",
     "text": [
      "Epoch 10, train loss: 2031.5093, val loss: 2316.4633\n"
     ]
    },
    {
     "name": "stderr",
     "output_type": "stream",
     "text": [
      "\n",
      "100%|██████████| 125/125 [00:01<00:00, 76.39it/s]\n",
      "100%|██████████| 32/32 [00:00<00:00, 208.53it/s]"
     ]
    },
    {
     "name": "stdout",
     "output_type": "stream",
     "text": [
      "Epoch 11, train loss: 2031.5490, val loss: 2319.5173\n"
     ]
    },
    {
     "name": "stderr",
     "output_type": "stream",
     "text": [
      "\n",
      "100%|██████████| 125/125 [00:01<00:00, 76.30it/s]\n",
      "100%|██████████| 32/32 [00:00<00:00, 202.18it/s]"
     ]
    },
    {
     "name": "stdout",
     "output_type": "stream",
     "text": [
      "Epoch 12, train loss: 2029.1074, val loss: 2319.0525\n"
     ]
    },
    {
     "name": "stderr",
     "output_type": "stream",
     "text": [
      "\n",
      "100%|██████████| 125/125 [00:01<00:00, 75.46it/s]\n",
      "100%|██████████| 32/32 [00:00<00:00, 200.52it/s]"
     ]
    },
    {
     "name": "stdout",
     "output_type": "stream",
     "text": [
      "Epoch 13, train loss: 2029.3183, val loss: 2322.6059\n"
     ]
    },
    {
     "name": "stderr",
     "output_type": "stream",
     "text": [
      "\n",
      "100%|██████████| 125/125 [00:01<00:00, 74.91it/s]\n",
      "100%|██████████| 32/32 [00:00<00:00, 185.48it/s]"
     ]
    },
    {
     "name": "stdout",
     "output_type": "stream",
     "text": [
      "Epoch 14, train loss: 2028.7958, val loss: 2314.6209\n"
     ]
    },
    {
     "name": "stderr",
     "output_type": "stream",
     "text": [
      "\n",
      "100%|██████████| 125/125 [00:01<00:00, 73.64it/s]\n",
      "100%|██████████| 32/32 [00:00<00:00, 194.92it/s]"
     ]
    },
    {
     "name": "stdout",
     "output_type": "stream",
     "text": [
      "Epoch 15, train loss: 2026.7063, val loss: 2318.1183\n"
     ]
    },
    {
     "name": "stderr",
     "output_type": "stream",
     "text": [
      "\n",
      "100%|██████████| 125/125 [00:01<00:00, 75.36it/s]\n",
      "100%|██████████| 32/32 [00:00<00:00, 208.19it/s]"
     ]
    },
    {
     "name": "stdout",
     "output_type": "stream",
     "text": [
      "Epoch 16, train loss: 2029.5784, val loss: 2321.7333\n"
     ]
    },
    {
     "name": "stderr",
     "output_type": "stream",
     "text": [
      "\n",
      "100%|██████████| 125/125 [00:01<00:00, 73.72it/s]\n",
      "100%|██████████| 32/32 [00:00<00:00, 167.55it/s]"
     ]
    },
    {
     "name": "stdout",
     "output_type": "stream",
     "text": [
      "Epoch 17, train loss: 2024.8593, val loss: 2319.9922\n"
     ]
    },
    {
     "name": "stderr",
     "output_type": "stream",
     "text": [
      "\n",
      "100%|██████████| 125/125 [00:01<00:00, 77.60it/s]\n",
      "100%|██████████| 32/32 [00:00<00:00, 186.25it/s]"
     ]
    },
    {
     "name": "stdout",
     "output_type": "stream",
     "text": [
      "Epoch 18, train loss: 2027.2435, val loss: 2318.4910\n"
     ]
    },
    {
     "name": "stderr",
     "output_type": "stream",
     "text": [
      "\n",
      "100%|██████████| 125/125 [00:01<00:00, 77.07it/s]\n",
      "100%|██████████| 32/32 [00:00<00:00, 192.87it/s]"
     ]
    },
    {
     "name": "stdout",
     "output_type": "stream",
     "text": [
      "Epoch 19, train loss: 2024.5612, val loss: 2315.2854\n"
     ]
    },
    {
     "name": "stderr",
     "output_type": "stream",
     "text": [
      "\n",
      "100%|██████████| 125/125 [00:01<00:00, 75.58it/s]\n",
      "100%|██████████| 32/32 [00:00<00:00, 208.13it/s]"
     ]
    },
    {
     "name": "stdout",
     "output_type": "stream",
     "text": [
      "Epoch 20, train loss: 2025.9309, val loss: 2315.0347\n"
     ]
    },
    {
     "name": "stderr",
     "output_type": "stream",
     "text": [
      "\n",
      "100%|██████████| 125/125 [00:01<00:00, 73.18it/s]\n",
      "100%|██████████| 32/32 [00:00<00:00, 194.48it/s]"
     ]
    },
    {
     "name": "stdout",
     "output_type": "stream",
     "text": [
      "Epoch 21, train loss: 2023.9233, val loss: 2319.1277\n"
     ]
    },
    {
     "name": "stderr",
     "output_type": "stream",
     "text": [
      "\n",
      "100%|██████████| 125/125 [00:01<00:00, 75.62it/s]\n",
      "100%|██████████| 32/32 [00:00<00:00, 184.48it/s]"
     ]
    },
    {
     "name": "stdout",
     "output_type": "stream",
     "text": [
      "Epoch 22, train loss: 2024.5980, val loss: 2320.2264\n"
     ]
    },
    {
     "name": "stderr",
     "output_type": "stream",
     "text": [
      "\n",
      "100%|██████████| 125/125 [00:01<00:00, 75.51it/s]\n",
      "100%|██████████| 32/32 [00:00<00:00, 209.93it/s]"
     ]
    },
    {
     "name": "stdout",
     "output_type": "stream",
     "text": [
      "Epoch 23, train loss: 2022.0110, val loss: 2320.3293\n"
     ]
    },
    {
     "name": "stderr",
     "output_type": "stream",
     "text": [
      "\n",
      "100%|██████████| 125/125 [00:01<00:00, 75.50it/s]\n",
      "100%|██████████| 32/32 [00:00<00:00, 207.83it/s]"
     ]
    },
    {
     "name": "stdout",
     "output_type": "stream",
     "text": [
      "Epoch 24, train loss: 2022.3490, val loss: 2319.2614\n"
     ]
    },
    {
     "name": "stderr",
     "output_type": "stream",
     "text": [
      "\n",
      "100%|██████████| 125/125 [00:01<00:00, 75.22it/s]\n",
      "100%|██████████| 32/32 [00:00<00:00, 194.96it/s]"
     ]
    },
    {
     "name": "stdout",
     "output_type": "stream",
     "text": [
      "Epoch 25, train loss: 2022.8892, val loss: 2321.0189\n"
     ]
    },
    {
     "name": "stderr",
     "output_type": "stream",
     "text": [
      "\n",
      "100%|██████████| 125/125 [00:01<00:00, 74.46it/s]\n",
      "100%|██████████| 32/32 [00:00<00:00, 185.00it/s]"
     ]
    },
    {
     "name": "stdout",
     "output_type": "stream",
     "text": [
      "Epoch 26, train loss: 2021.2435, val loss: 2319.8235\n"
     ]
    },
    {
     "name": "stderr",
     "output_type": "stream",
     "text": [
      "\n",
      "100%|██████████| 125/125 [00:01<00:00, 74.98it/s]\n",
      "100%|██████████| 32/32 [00:00<00:00, 202.52it/s]"
     ]
    },
    {
     "name": "stdout",
     "output_type": "stream",
     "text": [
      "Epoch 27, train loss: 2021.8251, val loss: 2319.6781\n"
     ]
    },
    {
     "name": "stderr",
     "output_type": "stream",
     "text": [
      "\n",
      "100%|██████████| 125/125 [00:01<00:00, 76.67it/s]\n",
      "100%|██████████| 32/32 [00:00<00:00, 199.84it/s]"
     ]
    },
    {
     "name": "stdout",
     "output_type": "stream",
     "text": [
      "Epoch 28, train loss: 2021.2388, val loss: 2320.2923\n"
     ]
    },
    {
     "name": "stderr",
     "output_type": "stream",
     "text": [
      "\n",
      "100%|██████████| 125/125 [00:01<00:00, 75.41it/s]\n",
      "100%|██████████| 32/32 [00:00<00:00, 208.37it/s]"
     ]
    },
    {
     "name": "stdout",
     "output_type": "stream",
     "text": [
      "Epoch 29, train loss: 2021.0432, val loss: 2318.4139\n"
     ]
    },
    {
     "name": "stderr",
     "output_type": "stream",
     "text": [
      "\n",
      "100%|██████████| 125/125 [00:01<00:00, 71.45it/s]\n",
      "100%|██████████| 32/32 [00:00<00:00, 206.91it/s]"
     ]
    },
    {
     "name": "stdout",
     "output_type": "stream",
     "text": [
      "Epoch 30, train loss: 2018.8623, val loss: 2317.4724\n"
     ]
    },
    {
     "name": "stderr",
     "output_type": "stream",
     "text": [
      "\n",
      "100%|██████████| 125/125 [00:01<00:00, 76.06it/s]\n",
      "100%|██████████| 32/32 [00:00<00:00, 198.37it/s]"
     ]
    },
    {
     "name": "stdout",
     "output_type": "stream",
     "text": [
      "Epoch 31, train loss: 2018.1801, val loss: 2317.4435\n"
     ]
    },
    {
     "name": "stderr",
     "output_type": "stream",
     "text": [
      "\n",
      "100%|██████████| 125/125 [00:01<00:00, 75.45it/s]\n",
      "100%|██████████| 32/32 [00:00<00:00, 214.39it/s]"
     ]
    },
    {
     "name": "stdout",
     "output_type": "stream",
     "text": [
      "Epoch 32, train loss: 2017.2159, val loss: 2316.4819\n"
     ]
    },
    {
     "name": "stderr",
     "output_type": "stream",
     "text": [
      "\n",
      "100%|██████████| 125/125 [00:01<00:00, 76.26it/s]\n",
      "100%|██████████| 32/32 [00:00<00:00, 167.57it/s]"
     ]
    },
    {
     "name": "stdout",
     "output_type": "stream",
     "text": [
      "Epoch 33, train loss: 2018.5933, val loss: 2313.6823\n"
     ]
    },
    {
     "name": "stderr",
     "output_type": "stream",
     "text": [
      "\n",
      "100%|██████████| 125/125 [00:01<00:00, 74.18it/s]\n",
      "100%|██████████| 32/32 [00:00<00:00, 191.94it/s]"
     ]
    },
    {
     "name": "stdout",
     "output_type": "stream",
     "text": [
      "Epoch 34, train loss: 2017.0278, val loss: 2313.0088\n"
     ]
    },
    {
     "name": "stderr",
     "output_type": "stream",
     "text": [
      "\n",
      "100%|██████████| 125/125 [00:01<00:00, 71.71it/s]\n",
      "100%|██████████| 32/32 [00:00<00:00, 201.44it/s]"
     ]
    },
    {
     "name": "stdout",
     "output_type": "stream",
     "text": [
      "Epoch 35, train loss: 2015.0422, val loss: 2310.0865\n"
     ]
    },
    {
     "name": "stderr",
     "output_type": "stream",
     "text": [
      "\n",
      "100%|██████████| 125/125 [00:01<00:00, 75.52it/s]\n",
      "100%|██████████| 32/32 [00:00<00:00, 201.36it/s]"
     ]
    },
    {
     "name": "stdout",
     "output_type": "stream",
     "text": [
      "Epoch 36, train loss: 2015.0662, val loss: 2311.4295\n"
     ]
    },
    {
     "name": "stderr",
     "output_type": "stream",
     "text": [
      "\n",
      "100%|██████████| 125/125 [00:01<00:00, 75.06it/s]\n",
      "100%|██████████| 32/32 [00:00<00:00, 197.80it/s]"
     ]
    },
    {
     "name": "stdout",
     "output_type": "stream",
     "text": [
      "Epoch 37, train loss: 2014.2960, val loss: 2314.1803\n"
     ]
    },
    {
     "name": "stderr",
     "output_type": "stream",
     "text": [
      "\n",
      "100%|██████████| 125/125 [00:01<00:00, 76.10it/s]\n",
      "100%|██████████| 32/32 [00:00<00:00, 207.29it/s]"
     ]
    },
    {
     "name": "stdout",
     "output_type": "stream",
     "text": [
      "Epoch 38, train loss: 2014.2981, val loss: 2313.7100\n"
     ]
    },
    {
     "name": "stderr",
     "output_type": "stream",
     "text": [
      "\n",
      "100%|██████████| 125/125 [00:01<00:00, 76.09it/s]\n",
      "100%|██████████| 32/32 [00:00<00:00, 187.51it/s]"
     ]
    },
    {
     "name": "stdout",
     "output_type": "stream",
     "text": [
      "Epoch 39, train loss: 2013.3552, val loss: 2312.4506\n"
     ]
    },
    {
     "name": "stderr",
     "output_type": "stream",
     "text": [
      "\n",
      "100%|██████████| 125/125 [00:01<00:00, 74.64it/s]\n",
      "100%|██████████| 32/32 [00:00<00:00, 191.29it/s]"
     ]
    },
    {
     "name": "stdout",
     "output_type": "stream",
     "text": [
      "Epoch 40, train loss: 2012.7130, val loss: 2311.5917\n"
     ]
    },
    {
     "name": "stderr",
     "output_type": "stream",
     "text": [
      "\n",
      "100%|██████████| 125/125 [00:01<00:00, 75.54it/s]\n",
      "100%|██████████| 32/32 [00:00<00:00, 209.69it/s]"
     ]
    },
    {
     "name": "stdout",
     "output_type": "stream",
     "text": [
      "Epoch 41, train loss: 2012.8019, val loss: 2310.8326\n"
     ]
    },
    {
     "name": "stderr",
     "output_type": "stream",
     "text": [
      "\n",
      "100%|██████████| 125/125 [00:01<00:00, 74.76it/s]\n",
      "100%|██████████| 32/32 [00:00<00:00, 208.52it/s]"
     ]
    },
    {
     "name": "stdout",
     "output_type": "stream",
     "text": [
      "Epoch 42, train loss: 2012.7627, val loss: 2311.0259\n"
     ]
    },
    {
     "name": "stderr",
     "output_type": "stream",
     "text": [
      "\n",
      "100%|██████████| 125/125 [00:01<00:00, 75.26it/s]\n",
      "100%|██████████| 32/32 [00:00<00:00, 150.65it/s]"
     ]
    },
    {
     "name": "stdout",
     "output_type": "stream",
     "text": [
      "Epoch 43, train loss: 2012.7848, val loss: 2310.7180\n"
     ]
    },
    {
     "name": "stderr",
     "output_type": "stream",
     "text": [
      "\n",
      "100%|██████████| 125/125 [00:01<00:00, 73.36it/s]\n",
      "100%|██████████| 32/32 [00:00<00:00, 171.38it/s]"
     ]
    },
    {
     "name": "stdout",
     "output_type": "stream",
     "text": [
      "Epoch 44, train loss: 2012.3715, val loss: 2311.3914\n"
     ]
    },
    {
     "name": "stderr",
     "output_type": "stream",
     "text": [
      "\n",
      "100%|██████████| 125/125 [00:01<00:00, 76.17it/s]\n",
      "100%|██████████| 32/32 [00:00<00:00, 198.33it/s]"
     ]
    },
    {
     "name": "stdout",
     "output_type": "stream",
     "text": [
      "Epoch 45, train loss: 2012.5458, val loss: 2310.9249\n"
     ]
    },
    {
     "name": "stderr",
     "output_type": "stream",
     "text": [
      "\n",
      "100%|██████████| 125/125 [00:01<00:00, 76.72it/s]\n",
      "100%|██████████| 32/32 [00:00<00:00, 202.89it/s]"
     ]
    },
    {
     "name": "stdout",
     "output_type": "stream",
     "text": [
      "Epoch 46, train loss: 2012.4225, val loss: 2310.6219\n"
     ]
    },
    {
     "name": "stderr",
     "output_type": "stream",
     "text": [
      "\n",
      "100%|██████████| 125/125 [00:01<00:00, 71.97it/s]\n",
      "100%|██████████| 32/32 [00:00<00:00, 184.07it/s]"
     ]
    },
    {
     "name": "stdout",
     "output_type": "stream",
     "text": [
      "Epoch 47, train loss: 2012.2497, val loss: 2310.6620\n"
     ]
    },
    {
     "name": "stderr",
     "output_type": "stream",
     "text": [
      "\n",
      "100%|██████████| 125/125 [00:01<00:00, 76.49it/s]\n",
      "100%|██████████| 32/32 [00:00<00:00, 202.88it/s]"
     ]
    },
    {
     "name": "stdout",
     "output_type": "stream",
     "text": [
      "Epoch 48, train loss: 2012.1159, val loss: 2310.5783\n"
     ]
    },
    {
     "name": "stderr",
     "output_type": "stream",
     "text": [
      "\n",
      "100%|██████████| 125/125 [00:01<00:00, 73.26it/s]\n",
      "100%|██████████| 32/32 [00:00<00:00, 196.37it/s]"
     ]
    },
    {
     "name": "stdout",
     "output_type": "stream",
     "text": [
      "Epoch 49, train loss: 2012.0290, val loss: 2310.5818\n"
     ]
    },
    {
     "name": "stderr",
     "output_type": "stream",
     "text": [
      "\n",
      "100%|██████████| 125/125 [00:01<00:00, 77.30it/s]\n",
      "100%|██████████| 32/32 [00:00<00:00, 196.45it/s]"
     ]
    },
    {
     "name": "stdout",
     "output_type": "stream",
     "text": [
      "Epoch 50, train loss: 2012.0229, val loss: 2310.5834\n"
     ]
    },
    {
     "name": "stderr",
     "output_type": "stream",
     "text": [
      "\n"
     ]
    }
   ],
   "source": [
    "train_loss_dict = {}\n",
    "val_loss_dict = {}\n",
    "for name, optimizer in optimizers_list.items():\n",
    "    train_cycle(name, optimizer, train_loss_dict, val_loss_dict)"
   ]
  },
  {
   "cell_type": "code",
   "execution_count": 52,
   "metadata": {},
   "outputs": [],
   "source": [
    "import matplotlib.pyplot as plt\n",
    "\n",
    "\n",
    "def plot_dictionaries(dict1, dict2, initial_train, initial_val, save_path=None):\n",
    "    # Set global font size\n",
    "    plt.rcParams.update(\n",
    "        {\"font.size\": 22}\n",
    "    )  # Twice as big as the default font size (default is usually 10 or 12)\n",
    "\n",
    "    fig, axes = plt.subplots(1, 2, figsize=(22, 8))  # Create a figure with two subplots\n",
    "\n",
    "    # Plot for dictionary 1\n",
    "    for key, values in dict1.items():\n",
    "        axes[0].plot(\n",
    "            range(5, len(values) + 1), values[4:], label=key, marker=\"*\"\n",
    "        )  # Start from second element\n",
    "        axes[0].set_xlabel(\"Epochs\")\n",
    "        axes[0].set_ylabel(\"MSE Loss\")\n",
    "        axes[0].set_title(f\"Train losses, initial: {initial_train.round(2)}\")\n",
    "        axes[0].grid(True)\n",
    "\n",
    "    # Plot for dictionary 2\n",
    "    for key, values in dict2.items():\n",
    "        axes[1].plot(range(5, len(values) + 1), values[4:], label=key, marker=\"*\")\n",
    "        axes[1].set_xlabel(\"Epochs\")\n",
    "        axes[1].set_ylabel(\"MSE Loss\")\n",
    "        axes[1].set_title(f\"Validation losses, initial: {initial_val.round(2)}\")\n",
    "        axes[1].grid(True)\n",
    "\n",
    "    plt.tight_layout()\n",
    "    if save_path:\n",
    "        plt.savefig(save_path)\n",
    "    plt.show()"
   ]
  },
  {
   "cell_type": "code",
   "execution_count": 53,
   "metadata": {},
   "outputs": [
    {
     "data": {
      "image/png": "[encoded data removed]",
      "text/plain": [
       "<Figure size 2200x800 with 2 Axes>"
      ]
     },
     "metadata": {},
     "output_type": "display_data"
    }
   ],
   "source": [
    "# Plot\n",
    "plot_dictionaries(\n",
    "    train_loss_dict,\n",
    "    val_loss_dict,\n",
    "    initial_mse_train,\n",
    "    initial_mse_val,\n",
    "    f\"{experiment_dir}/{EXPERIMENT_NAME}_testing.png\",\n",
    ")"
   ]
  },
  {
   "cell_type": "markdown",
   "metadata": {},
   "source": [
    "### So for full training we will take SGD, 20 layers with 256 neurouns in each and lr=4e-7"
   ]
  },
  {
   "cell_type": "code",
   "execution_count": 65,
   "metadata": {},
   "outputs": [],
   "source": [
    "N_EPOCH = 100\n",
    "RISK_FREE = 0.03\n",
    "SIGMA = 0.4\n",
    "LEARNING_RATE = 0.00075178\n",
    "HIDDEN_LAYER = 24\n",
    "HIDDEN_WIDTH = 64\n",
    "EXPERIMENT_NAME = \"exp_call_12_gen\"\n",
    "MODEL_TYPE = AmericanPut_gated3\n",
    "experiment_dir = f\"../experiments_dir/{EXPERIMENT_NAME}\"\n",
    "os.makedirs(experiment_dir, exist_ok=True)"
   ]
  },
  {
   "cell_type": "code",
   "execution_count": 66,
   "metadata": {},
   "outputs": [],
   "source": [
    "logging.info(f\"N_EPOCH: {N_EPOCH}\")\n",
    "logging.info(f\"LEARNING_RATE: {LEARNING_RATE}\")\n",
    "logging.info(f\"HIDDEN_LAYER: {HIDDEN_LAYER}\")\n",
    "logging.info(f\"HIDDEN_WIDTH: {HIDDEN_WIDTH}\")\n",
    "# logging.info(f\"N_sample: {N_sample}\")\n",
    "logging.info(f\"EXPERIMENT_NAME: {EXPERIMENT_NAME}\")\n",
    "logging.info(f\"Model type: {MODEL_TYPE.__name__}\")"
   ]
  },
  {
   "cell_type": "code",
   "execution_count": 67,
   "metadata": {},
   "outputs": [
    {
     "data": {
      "text/html": [
       "<div>\n",
       "<style scoped>\n",
       "    .dataframe tbody tr th:only-of-type {\n",
       "        vertical-align: middle;\n",
       "    }\n",
       "\n",
       "    .dataframe tbody tr th {\n",
       "        vertical-align: top;\n",
       "    }\n",
       "\n",
       "    .dataframe thead th {\n",
       "        text-align: right;\n",
       "    }\n",
       "</style>\n",
       "<table border=\"1\" class=\"dataframe\">\n",
       "  <thead>\n",
       "    <tr style=\"text-align: right;\">\n",
       "      <th></th>\n",
       "      <th>TimeToExp</th>\n",
       "      <th>UnderlyingPrice</th>\n",
       "      <th>TargetPrice</th>\n",
       "      <th>OpenInterest</th>\n",
       "      <th>Delta</th>\n",
       "      <th>Gamma</th>\n",
       "      <th>Theta</th>\n",
       "      <th>Vega</th>\n",
       "      <th>BSAprox</th>\n",
       "    </tr>\n",
       "  </thead>\n",
       "  <tbody>\n",
       "    <tr>\n",
       "      <th>0</th>\n",
       "      <td>850.00</td>\n",
       "      <td>122.12</td>\n",
       "      <td>43.00</td>\n",
       "      <td>364.0</td>\n",
       "      <td>0.345992</td>\n",
       "      <td>0.144298</td>\n",
       "      <td>-3.575622</td>\n",
       "      <td>2.522842</td>\n",
       "      <td>31.500</td>\n",
       "    </tr>\n",
       "    <tr>\n",
       "      <th>1</th>\n",
       "      <td>311.00</td>\n",
       "      <td>186.19</td>\n",
       "      <td>29.31</td>\n",
       "      <td>514.0</td>\n",
       "      <td>0.167115</td>\n",
       "      <td>0.056784</td>\n",
       "      <td>-2.531811</td>\n",
       "      <td>6.822075</td>\n",
       "      <td>24.655</td>\n",
       "    </tr>\n",
       "    <tr>\n",
       "      <th>2</th>\n",
       "      <td>629.00</td>\n",
       "      <td>52.52</td>\n",
       "      <td>69.69</td>\n",
       "      <td>65.0</td>\n",
       "      <td>0.376269</td>\n",
       "      <td>0.272558</td>\n",
       "      <td>-7.814967</td>\n",
       "      <td>5.852912</td>\n",
       "      <td>0.000</td>\n",
       "    </tr>\n",
       "    <tr>\n",
       "      <th>3</th>\n",
       "      <td>469.00</td>\n",
       "      <td>144.80</td>\n",
       "      <td>37.75</td>\n",
       "      <td>58.0</td>\n",
       "      <td>0.009575</td>\n",
       "      <td>0.017516</td>\n",
       "      <td>-1.451383</td>\n",
       "      <td>1.604901</td>\n",
       "      <td>0.000</td>\n",
       "    </tr>\n",
       "    <tr>\n",
       "      <th>4</th>\n",
       "      <td>0.00</td>\n",
       "      <td>187.07</td>\n",
       "      <td>29.12</td>\n",
       "      <td>91.0</td>\n",
       "      <td>0.441506</td>\n",
       "      <td>0.138325</td>\n",
       "      <td>-8.777276</td>\n",
       "      <td>5.934998</td>\n",
       "      <td>118.970</td>\n",
       "    </tr>\n",
       "    <tr>\n",
       "      <th>...</th>\n",
       "      <td>...</td>\n",
       "      <td>...</td>\n",
       "      <td>...</td>\n",
       "      <td>...</td>\n",
       "      <td>...</td>\n",
       "      <td>...</td>\n",
       "      <td>...</td>\n",
       "      <td>...</td>\n",
       "      <td>...</td>\n",
       "    </tr>\n",
       "    <tr>\n",
       "      <th>9995</th>\n",
       "      <td>1089.04</td>\n",
       "      <td>200.00</td>\n",
       "      <td>200.00</td>\n",
       "      <td>54.0</td>\n",
       "      <td>0.189853</td>\n",
       "      <td>0.083916</td>\n",
       "      <td>-31.967621</td>\n",
       "      <td>3.605873</td>\n",
       "      <td>82.030</td>\n",
       "    </tr>\n",
       "    <tr>\n",
       "      <th>9996</th>\n",
       "      <td>939.78</td>\n",
       "      <td>200.00</td>\n",
       "      <td>200.00</td>\n",
       "      <td>410.0</td>\n",
       "      <td>0.034537</td>\n",
       "      <td>0.091283</td>\n",
       "      <td>-10.788996</td>\n",
       "      <td>6.799438</td>\n",
       "      <td>82.030</td>\n",
       "    </tr>\n",
       "    <tr>\n",
       "      <th>9997</th>\n",
       "      <td>886.42</td>\n",
       "      <td>200.00</td>\n",
       "      <td>200.00</td>\n",
       "      <td>274.0</td>\n",
       "      <td>0.015381</td>\n",
       "      <td>0.324230</td>\n",
       "      <td>-4.528091</td>\n",
       "      <td>7.367978</td>\n",
       "      <td>82.030</td>\n",
       "    </tr>\n",
       "    <tr>\n",
       "      <th>9998</th>\n",
       "      <td>560.18</td>\n",
       "      <td>200.00</td>\n",
       "      <td>200.00</td>\n",
       "      <td>586.0</td>\n",
       "      <td>0.275679</td>\n",
       "      <td>0.402972</td>\n",
       "      <td>-4.144945</td>\n",
       "      <td>3.066105</td>\n",
       "      <td>82.030</td>\n",
       "    </tr>\n",
       "    <tr>\n",
       "      <th>9999</th>\n",
       "      <td>839.39</td>\n",
       "      <td>200.00</td>\n",
       "      <td>200.00</td>\n",
       "      <td>64.0</td>\n",
       "      <td>0.508315</td>\n",
       "      <td>0.143538</td>\n",
       "      <td>-3.922587</td>\n",
       "      <td>8.900109</td>\n",
       "      <td>82.030</td>\n",
       "    </tr>\n",
       "  </tbody>\n",
       "</table>\n",
       "<p>10000 rows × 9 columns</p>\n",
       "</div>"
      ],
      "text/plain": [
       "      TimeToExp  UnderlyingPrice  TargetPrice  OpenInterest     Delta  \\\n",
       "0        850.00           122.12        43.00         364.0  0.345992   \n",
       "1        311.00           186.19        29.31         514.0  0.167115   \n",
       "2        629.00            52.52        69.69          65.0  0.376269   \n",
       "3        469.00           144.80        37.75          58.0  0.009575   \n",
       "4          0.00           187.07        29.12          91.0  0.441506   \n",
       "...         ...              ...          ...           ...       ...   \n",
       "9995    1089.04           200.00       200.00          54.0  0.189853   \n",
       "9996     939.78           200.00       200.00         410.0  0.034537   \n",
       "9997     886.42           200.00       200.00         274.0  0.015381   \n",
       "9998     560.18           200.00       200.00         586.0  0.275679   \n",
       "9999     839.39           200.00       200.00          64.0  0.508315   \n",
       "\n",
       "         Gamma      Theta      Vega  BSAprox  \n",
       "0     0.144298  -3.575622  2.522842   31.500  \n",
       "1     0.056784  -2.531811  6.822075   24.655  \n",
       "2     0.272558  -7.814967  5.852912    0.000  \n",
       "3     0.017516  -1.451383  1.604901    0.000  \n",
       "4     0.138325  -8.777276  5.934998  118.970  \n",
       "...        ...        ...       ...      ...  \n",
       "9995  0.083916 -31.967621  3.605873   82.030  \n",
       "9996  0.091283 -10.788996  6.799438   82.030  \n",
       "9997  0.324230  -4.528091  7.367978   82.030  \n",
       "9998  0.402972  -4.144945  3.066105   82.030  \n",
       "9999  0.143538  -3.922587  8.900109   82.030  \n",
       "\n",
       "[10000 rows x 9 columns]"
      ]
     },
     "execution_count": 67,
     "metadata": {},
     "output_type": "execute_result"
    }
   ],
   "source": [
    "df"
   ]
  },
  {
   "cell_type": "code",
   "execution_count": 68,
   "metadata": {},
   "outputs": [],
   "source": [
    "df_train, df_test = train_test_split(df, test_size=0.2)\n",
    "logging.info(f\"train set size: {df_train.shape}\")\n",
    "logging.info(f\"test set size: {df_test.shape}\")\n",
    "initial_mse_train = (\n",
    "    1 / len(df_train) * np.sum((df_train.TargetPrice - df_train.BSAprox) ** 2)\n",
    ")\n",
    "initial_mse_val = (\n",
    "    1 / len(df_test) * np.sum((df_test.TargetPrice - df_test.BSAprox) ** 2)\n",
    ")\n",
    "logging.info(\n",
    "    f\"Initial MSE train: {initial_mse_train.round(4)}, Initial MSE val: {initial_mse_val.round(4)}\"\n",
    ")\n",
    "train_df = CustomDataset(df_train)\n",
    "test_df = CustomDataset(df_test)"
   ]
  },
  {
   "cell_type": "code",
   "execution_count": 69,
   "metadata": {},
   "outputs": [],
   "source": [
    "# import torch.multiprocessing as mp\n",
    "train_df = CustomDataset(df_train)\n",
    "val_df = CustomDataset(df_test)\n",
    "# from torch.optim.lr_scheduler import ReduceLROnPlateau\n",
    "model = MODEL_TYPE(5, 1, HIDDEN_WIDTH, HIDDEN_LAYER).to(DEVICE)\n",
    "logging.info(\n",
    "    f\"Total number of learnable parameters: {sum(p.numel() for p in model.parameters() if p.requires_grad)}\"\n",
    ")\n",
    "train_dataloader = DataLoader(\n",
    "    train_df,\n",
    "    batch_size=64,\n",
    "    shuffle=True,\n",
    "    num_workers=8,\n",
    "    # generator=torch.Generator(device=DEVICE),\n",
    ")\n",
    "val_dataloader = DataLoader(\n",
    "    val_df,\n",
    "    batch_size=64,\n",
    "    shuffle=False,\n",
    "    num_workers=8,\n",
    ")\n",
    "optimizers_list = {\n",
    "    \"SGD\": torch.optim.SGD(model.parameters(), lr=LEARNING_RATE, momentum=0.7)\n",
    "}\n",
    "criteriation = nn.MSELoss()"
   ]
  },
  {
   "cell_type": "code",
   "execution_count": 70,
   "metadata": {},
   "outputs": [
    {
     "name": "stdout",
     "output_type": "stream",
     "text": [
      "Optimizer: SGD\n"
     ]
    },
    {
     "name": "stderr",
     "output_type": "stream",
     "text": [
      "100%|██████████| 125/125 [00:00<00:00, 135.56it/s]\n",
      "100%|██████████| 32/32 [00:00<00:00, 259.79it/s]"
     ]
    },
    {
     "name": "stdout",
     "output_type": "stream",
     "text": [
      "Epoch 1, train loss: 1409515.8824, val loss: 25751.7462\n"
     ]
    },
    {
     "name": "stderr",
     "output_type": "stream",
     "text": [
      "\n",
      "100%|██████████| 125/125 [00:00<00:00, 138.11it/s]\n",
      "100%|██████████| 32/32 [00:00<00:00, 257.75it/s]"
     ]
    },
    {
     "name": "stdout",
     "output_type": "stream",
     "text": [
      "Epoch 2, train loss: 16720.2164, val loss: 9438.1191\n"
     ]
    },
    {
     "name": "stderr",
     "output_type": "stream",
     "text": [
      "\n",
      "100%|██████████| 125/125 [00:00<00:00, 136.08it/s]\n",
      "100%|██████████| 32/32 [00:00<00:00, 197.19it/s]"
     ]
    },
    {
     "name": "stdout",
     "output_type": "stream",
     "text": [
      "Epoch 3, train loss: 6464.2904, val loss: 5107.8716\n"
     ]
    },
    {
     "name": "stderr",
     "output_type": "stream",
     "text": [
      "\n",
      "100%|██████████| 125/125 [00:00<00:00, 139.18it/s]\n",
      "100%|██████████| 32/32 [00:00<00:00, 273.04it/s]"
     ]
    },
    {
     "name": "stdout",
     "output_type": "stream",
     "text": [
      "Epoch 4, train loss: 4289.4034, val loss: 3892.3538\n"
     ]
    },
    {
     "name": "stderr",
     "output_type": "stream",
     "text": [
      "\n",
      "100%|██████████| 125/125 [00:00<00:00, 140.17it/s]\n",
      "100%|██████████| 32/32 [00:00<00:00, 228.31it/s]"
     ]
    },
    {
     "name": "stdout",
     "output_type": "stream",
     "text": [
      "Epoch 5, train loss: 3161.0799, val loss: 2888.2350\n"
     ]
    },
    {
     "name": "stderr",
     "output_type": "stream",
     "text": [
      "\n",
      "100%|██████████| 125/125 [00:00<00:00, 139.41it/s]\n",
      "100%|██████████| 32/32 [00:00<00:00, 245.51it/s]"
     ]
    },
    {
     "name": "stdout",
     "output_type": "stream",
     "text": [
      "Epoch 6, train loss: 2630.6990, val loss: 2799.7388\n"
     ]
    },
    {
     "name": "stderr",
     "output_type": "stream",
     "text": [
      "\n",
      "100%|██████████| 125/125 [00:00<00:00, 140.85it/s]\n",
      "100%|██████████| 32/32 [00:00<00:00, 215.71it/s]"
     ]
    },
    {
     "name": "stdout",
     "output_type": "stream",
     "text": [
      "Epoch 7, train loss: 2263.5677, val loss: 2263.6558\n"
     ]
    },
    {
     "name": "stderr",
     "output_type": "stream",
     "text": [
      "\n",
      "100%|██████████| 125/125 [00:00<00:00, 141.48it/s]\n",
      "100%|██████████| 32/32 [00:00<00:00, 215.55it/s]"
     ]
    },
    {
     "name": "stdout",
     "output_type": "stream",
     "text": [
      "Epoch 8, train loss: 2128.9936, val loss: 2451.0831\n"
     ]
    },
    {
     "name": "stderr",
     "output_type": "stream",
     "text": [
      "\n",
      "100%|██████████| 125/125 [00:00<00:00, 136.56it/s]\n",
      "100%|██████████| 32/32 [00:00<00:00, 229.64it/s]"
     ]
    },
    {
     "name": "stdout",
     "output_type": "stream",
     "text": [
      "Epoch 9, train loss: 2008.6620, val loss: 2162.8321\n"
     ]
    },
    {
     "name": "stderr",
     "output_type": "stream",
     "text": [
      "\n",
      "100%|██████████| 125/125 [00:01<00:00, 121.86it/s]\n",
      "100%|██████████| 32/32 [00:00<00:00, 216.38it/s]"
     ]
    },
    {
     "name": "stdout",
     "output_type": "stream",
     "text": [
      "Epoch 10, train loss: 2035.7888, val loss: 2318.9757\n"
     ]
    },
    {
     "name": "stderr",
     "output_type": "stream",
     "text": [
      "\n",
      "100%|██████████| 125/125 [00:01<00:00, 124.51it/s]\n",
      "100%|██████████| 32/32 [00:00<00:00, 206.46it/s]"
     ]
    },
    {
     "name": "stdout",
     "output_type": "stream",
     "text": [
      "Epoch 11, train loss: 1980.3849, val loss: 2079.1475\n"
     ]
    },
    {
     "name": "stderr",
     "output_type": "stream",
     "text": [
      "\n",
      "100%|██████████| 125/125 [00:00<00:00, 131.35it/s]\n",
      "100%|██████████| 32/32 [00:00<00:00, 229.58it/s]"
     ]
    },
    {
     "name": "stdout",
     "output_type": "stream",
     "text": [
      "Epoch 12, train loss: 1982.1958, val loss: 2448.1000\n"
     ]
    },
    {
     "name": "stderr",
     "output_type": "stream",
     "text": [
      "\n",
      "100%|██████████| 125/125 [00:01<00:00, 117.09it/s]\n",
      "100%|██████████| 32/32 [00:00<00:00, 230.45it/s]"
     ]
    },
    {
     "name": "stdout",
     "output_type": "stream",
     "text": [
      "Epoch 13, train loss: 1963.8898, val loss: 3113.0598\n"
     ]
    },
    {
     "name": "stderr",
     "output_type": "stream",
     "text": [
      "\n",
      "100%|██████████| 125/125 [00:01<00:00, 121.86it/s]\n",
      "100%|██████████| 32/32 [00:00<00:00, 221.02it/s]"
     ]
    },
    {
     "name": "stdout",
     "output_type": "stream",
     "text": [
      "Epoch 14, train loss: 1964.9993, val loss: 2150.8436\n"
     ]
    },
    {
     "name": "stderr",
     "output_type": "stream",
     "text": [
      "\n",
      "100%|██████████| 125/125 [00:01<00:00, 118.65it/s]\n",
      "100%|██████████| 32/32 [00:00<00:00, 211.61it/s]"
     ]
    },
    {
     "name": "stdout",
     "output_type": "stream",
     "text": [
      "Epoch 15, train loss: 1937.8349, val loss: 2083.1809\n"
     ]
    },
    {
     "name": "stderr",
     "output_type": "stream",
     "text": [
      "\n",
      "100%|██████████| 125/125 [00:01<00:00, 116.60it/s]\n",
      "100%|██████████| 32/32 [00:00<00:00, 202.19it/s]"
     ]
    },
    {
     "name": "stdout",
     "output_type": "stream",
     "text": [
      "Epoch 16, train loss: 1915.5456, val loss: 2345.0591\n"
     ]
    },
    {
     "name": "stderr",
     "output_type": "stream",
     "text": [
      "\n",
      "100%|██████████| 125/125 [00:00<00:00, 132.06it/s]\n",
      "100%|██████████| 32/32 [00:00<00:00, 228.29it/s]"
     ]
    },
    {
     "name": "stdout",
     "output_type": "stream",
     "text": [
      "Epoch 17, train loss: 1992.8390, val loss: 2037.4383\n"
     ]
    },
    {
     "name": "stderr",
     "output_type": "stream",
     "text": [
      "\n",
      "100%|██████████| 125/125 [00:01<00:00, 121.28it/s]\n",
      "100%|██████████| 32/32 [00:00<00:00, 211.60it/s]"
     ]
    },
    {
     "name": "stdout",
     "output_type": "stream",
     "text": [
      "Epoch 18, train loss: 1953.3407, val loss: 2109.8558\n"
     ]
    },
    {
     "name": "stderr",
     "output_type": "stream",
     "text": [
      "\n",
      "100%|██████████| 125/125 [00:00<00:00, 134.59it/s]\n",
      "100%|██████████| 32/32 [00:00<00:00, 219.66it/s]"
     ]
    },
    {
     "name": "stdout",
     "output_type": "stream",
     "text": [
      "Epoch 19, train loss: 1984.5288, val loss: 2114.3108\n"
     ]
    },
    {
     "name": "stderr",
     "output_type": "stream",
     "text": [
      "\n",
      "100%|██████████| 125/125 [00:00<00:00, 139.03it/s]\n",
      "100%|██████████| 32/32 [00:00<00:00, 243.85it/s]"
     ]
    },
    {
     "name": "stdout",
     "output_type": "stream",
     "text": [
      "Epoch 20, train loss: 1949.9809, val loss: 2189.4957\n"
     ]
    },
    {
     "name": "stderr",
     "output_type": "stream",
     "text": [
      "\n",
      "100%|██████████| 125/125 [00:00<00:00, 138.00it/s]\n",
      "100%|██████████| 32/32 [00:00<00:00, 198.00it/s]"
     ]
    },
    {
     "name": "stdout",
     "output_type": "stream",
     "text": [
      "Epoch 21, train loss: 1910.0360, val loss: 2117.9761\n"
     ]
    },
    {
     "name": "stderr",
     "output_type": "stream",
     "text": [
      "\n",
      "100%|██████████| 125/125 [00:00<00:00, 135.78it/s]\n",
      "100%|██████████| 32/32 [00:00<00:00, 234.16it/s]"
     ]
    },
    {
     "name": "stdout",
     "output_type": "stream",
     "text": [
      "Epoch 22, train loss: 1928.8188, val loss: 2836.3892\n"
     ]
    },
    {
     "name": "stderr",
     "output_type": "stream",
     "text": [
      "\n",
      "100%|██████████| 125/125 [00:00<00:00, 127.39it/s]\n",
      "100%|██████████| 32/32 [00:00<00:00, 183.64it/s]"
     ]
    },
    {
     "name": "stdout",
     "output_type": "stream",
     "text": [
      "Epoch 23, train loss: 1928.0065, val loss: 2047.8182\n"
     ]
    },
    {
     "name": "stderr",
     "output_type": "stream",
     "text": [
      "\n",
      "100%|██████████| 125/125 [00:00<00:00, 128.01it/s]\n",
      "100%|██████████| 32/32 [00:00<00:00, 296.42it/s]"
     ]
    },
    {
     "name": "stdout",
     "output_type": "stream",
     "text": [
      "Epoch 24, train loss: 1921.8426, val loss: 2146.9078\n"
     ]
    },
    {
     "name": "stderr",
     "output_type": "stream",
     "text": [
      "\n",
      "100%|██████████| 125/125 [00:00<00:00, 132.44it/s]\n",
      "100%|██████████| 32/32 [00:00<00:00, 195.53it/s]"
     ]
    },
    {
     "name": "stdout",
     "output_type": "stream",
     "text": [
      "Epoch 25, train loss: 1958.7136, val loss: 2069.2910\n"
     ]
    },
    {
     "name": "stderr",
     "output_type": "stream",
     "text": [
      "\n",
      "100%|██████████| 125/125 [00:00<00:00, 135.21it/s]\n",
      "100%|██████████| 32/32 [00:00<00:00, 220.14it/s]"
     ]
    },
    {
     "name": "stdout",
     "output_type": "stream",
     "text": [
      "Epoch 26, train loss: 1947.3159, val loss: 2078.0986\n"
     ]
    },
    {
     "name": "stderr",
     "output_type": "stream",
     "text": [
      "\n",
      "100%|██████████| 125/125 [00:00<00:00, 134.06it/s]\n",
      "100%|██████████| 32/32 [00:00<00:00, 211.43it/s]"
     ]
    },
    {
     "name": "stdout",
     "output_type": "stream",
     "text": [
      "Epoch 27, train loss: 1892.0862, val loss: 2158.0144\n"
     ]
    },
    {
     "name": "stderr",
     "output_type": "stream",
     "text": [
      "\n",
      "100%|██████████| 125/125 [00:01<00:00, 123.29it/s]\n",
      "100%|██████████| 32/32 [00:00<00:00, 238.07it/s]"
     ]
    },
    {
     "name": "stdout",
     "output_type": "stream",
     "text": [
      "Epoch 28, train loss: 1920.7856, val loss: 2023.0145\n"
     ]
    },
    {
     "name": "stderr",
     "output_type": "stream",
     "text": [
      "\n",
      "100%|██████████| 125/125 [00:01<00:00, 114.55it/s]\n",
      "100%|██████████| 32/32 [00:00<00:00, 193.23it/s]"
     ]
    },
    {
     "name": "stdout",
     "output_type": "stream",
     "text": [
      "Epoch 29, train loss: 1916.9316, val loss: 2406.1305\n"
     ]
    },
    {
     "name": "stderr",
     "output_type": "stream",
     "text": [
      "\n",
      "100%|██████████| 125/125 [00:01<00:00, 117.16it/s]\n",
      "100%|██████████| 32/32 [00:00<00:00, 212.69it/s]"
     ]
    },
    {
     "name": "stdout",
     "output_type": "stream",
     "text": [
      "Epoch 30, train loss: 1939.0821, val loss: 2111.3265\n"
     ]
    },
    {
     "name": "stderr",
     "output_type": "stream",
     "text": [
      "\n",
      "100%|██████████| 125/125 [00:01<00:00, 99.92it/s] \n",
      "100%|██████████| 32/32 [00:00<00:00, 222.46it/s]"
     ]
    },
    {
     "name": "stdout",
     "output_type": "stream",
     "text": [
      "Epoch 31, train loss: 1925.0194, val loss: 2106.7423\n"
     ]
    },
    {
     "name": "stderr",
     "output_type": "stream",
     "text": [
      "\n",
      "100%|██████████| 125/125 [00:01<00:00, 105.20it/s]\n",
      "100%|██████████| 32/32 [00:00<00:00, 189.50it/s]"
     ]
    },
    {
     "name": "stdout",
     "output_type": "stream",
     "text": [
      "Epoch 32, train loss: 1932.5633, val loss: 2140.4349\n"
     ]
    },
    {
     "name": "stderr",
     "output_type": "stream",
     "text": [
      "\n",
      "100%|██████████| 125/125 [00:01<00:00, 103.72it/s]\n",
      "100%|██████████| 32/32 [00:00<00:00, 178.06it/s]"
     ]
    },
    {
     "name": "stdout",
     "output_type": "stream",
     "text": [
      "Epoch 33, train loss: 1903.9823, val loss: 2238.6566\n"
     ]
    },
    {
     "name": "stderr",
     "output_type": "stream",
     "text": [
      "\n",
      "100%|██████████| 125/125 [00:01<00:00, 106.20it/s]\n",
      "100%|██████████| 32/32 [00:00<00:00, 226.03it/s]"
     ]
    },
    {
     "name": "stdout",
     "output_type": "stream",
     "text": [
      "Epoch 34, train loss: 1904.1260, val loss: 2179.7447\n"
     ]
    },
    {
     "name": "stderr",
     "output_type": "stream",
     "text": [
      "\n",
      "100%|██████████| 125/125 [00:01<00:00, 116.92it/s]\n",
      "100%|██████████| 32/32 [00:00<00:00, 198.89it/s]"
     ]
    },
    {
     "name": "stdout",
     "output_type": "stream",
     "text": [
      "Epoch 35, train loss: 1903.2948, val loss: 2054.5735\n"
     ]
    },
    {
     "name": "stderr",
     "output_type": "stream",
     "text": [
      "\n",
      "100%|██████████| 125/125 [00:01<00:00, 114.54it/s]\n",
      "100%|██████████| 32/32 [00:00<00:00, 189.94it/s]"
     ]
    },
    {
     "name": "stdout",
     "output_type": "stream",
     "text": [
      "Epoch 36, train loss: 1892.8738, val loss: 2117.8229\n"
     ]
    },
    {
     "name": "stderr",
     "output_type": "stream",
     "text": [
      "\n",
      "100%|██████████| 125/125 [00:01<00:00, 115.54it/s]\n",
      "100%|██████████| 32/32 [00:00<00:00, 200.32it/s]"
     ]
    },
    {
     "name": "stdout",
     "output_type": "stream",
     "text": [
      "Epoch 37, train loss: 1942.5519, val loss: 2063.2678\n"
     ]
    },
    {
     "name": "stderr",
     "output_type": "stream",
     "text": [
      "\n",
      "100%|██████████| 125/125 [00:01<00:00, 122.82it/s]\n",
      "100%|██████████| 32/32 [00:00<00:00, 196.03it/s]"
     ]
    },
    {
     "name": "stdout",
     "output_type": "stream",
     "text": [
      "Epoch 38, train loss: 1890.6335, val loss: 2357.0524\n"
     ]
    },
    {
     "name": "stderr",
     "output_type": "stream",
     "text": [
      "\n",
      "100%|██████████| 125/125 [00:01<00:00, 120.76it/s]\n",
      "100%|██████████| 32/32 [00:00<00:00, 205.35it/s]"
     ]
    },
    {
     "name": "stdout",
     "output_type": "stream",
     "text": [
      "Epoch 39, train loss: 1915.4450, val loss: 2067.6192\n"
     ]
    },
    {
     "name": "stderr",
     "output_type": "stream",
     "text": [
      "\n",
      "100%|██████████| 125/125 [00:01<00:00, 116.06it/s]\n",
      "100%|██████████| 32/32 [00:00<00:00, 256.86it/s]"
     ]
    },
    {
     "name": "stdout",
     "output_type": "stream",
     "text": [
      "Epoch 40, train loss: 1907.1569, val loss: 2101.6095\n"
     ]
    },
    {
     "name": "stderr",
     "output_type": "stream",
     "text": [
      "\n",
      "100%|██████████| 125/125 [00:00<00:00, 132.80it/s]\n",
      "100%|██████████| 32/32 [00:00<00:00, 211.47it/s]"
     ]
    },
    {
     "name": "stdout",
     "output_type": "stream",
     "text": [
      "Epoch 41, train loss: 1879.4092, val loss: 2051.9784\n"
     ]
    },
    {
     "name": "stderr",
     "output_type": "stream",
     "text": [
      "\n",
      "100%|██████████| 125/125 [00:00<00:00, 130.08it/s]\n",
      "100%|██████████| 32/32 [00:00<00:00, 269.36it/s]"
     ]
    },
    {
     "name": "stdout",
     "output_type": "stream",
     "text": [
      "Epoch 42, train loss: 1897.9960, val loss: 2226.0880\n"
     ]
    },
    {
     "name": "stderr",
     "output_type": "stream",
     "text": [
      "\n",
      "100%|██████████| 125/125 [00:00<00:00, 132.51it/s]\n",
      "100%|██████████| 32/32 [00:00<00:00, 221.51it/s]"
     ]
    },
    {
     "name": "stdout",
     "output_type": "stream",
     "text": [
      "Epoch 43, train loss: 1890.5401, val loss: 2066.3301\n"
     ]
    },
    {
     "name": "stderr",
     "output_type": "stream",
     "text": [
      "\n",
      "100%|██████████| 125/125 [00:01<00:00, 122.07it/s]\n",
      "100%|██████████| 32/32 [00:00<00:00, 242.28it/s]"
     ]
    },
    {
     "name": "stdout",
     "output_type": "stream",
     "text": [
      "Epoch 44, train loss: 1872.9741, val loss: 2060.0828\n"
     ]
    },
    {
     "name": "stderr",
     "output_type": "stream",
     "text": [
      "\n",
      "100%|██████████| 125/125 [00:01<00:00, 117.17it/s]\n",
      "100%|██████████| 32/32 [00:00<00:00, 190.22it/s]"
     ]
    },
    {
     "name": "stdout",
     "output_type": "stream",
     "text": [
      "Epoch 45, train loss: 1870.4452, val loss: 2069.9919\n"
     ]
    },
    {
     "name": "stderr",
     "output_type": "stream",
     "text": [
      "\n",
      "100%|██████████| 125/125 [00:01<00:00, 116.95it/s]\n",
      "100%|██████████| 32/32 [00:00<00:00, 209.53it/s]"
     ]
    },
    {
     "name": "stdout",
     "output_type": "stream",
     "text": [
      "Epoch 46, train loss: 1879.3437, val loss: 2084.0689\n"
     ]
    },
    {
     "name": "stderr",
     "output_type": "stream",
     "text": [
      "\n",
      "100%|██████████| 125/125 [00:01<00:00, 109.45it/s]\n",
      "100%|██████████| 32/32 [00:00<00:00, 216.57it/s]"
     ]
    },
    {
     "name": "stdout",
     "output_type": "stream",
     "text": [
      "Epoch 47, train loss: 1871.6982, val loss: 2042.7820\n"
     ]
    },
    {
     "name": "stderr",
     "output_type": "stream",
     "text": [
      "\n",
      "100%|██████████| 125/125 [00:01<00:00, 116.22it/s]\n",
      "100%|██████████| 32/32 [00:00<00:00, 237.19it/s]"
     ]
    },
    {
     "name": "stdout",
     "output_type": "stream",
     "text": [
      "Epoch 48, train loss: 1858.7693, val loss: 2036.3435\n"
     ]
    },
    {
     "name": "stderr",
     "output_type": "stream",
     "text": [
      "\n",
      "100%|██████████| 125/125 [00:00<00:00, 128.45it/s]\n",
      "100%|██████████| 32/32 [00:00<00:00, 251.81it/s]"
     ]
    },
    {
     "name": "stdout",
     "output_type": "stream",
     "text": [
      "Epoch 49, train loss: 1868.8780, val loss: 2018.7224\n"
     ]
    },
    {
     "name": "stderr",
     "output_type": "stream",
     "text": [
      "\n",
      "100%|██████████| 125/125 [00:00<00:00, 133.21it/s]\n",
      "100%|██████████| 32/32 [00:00<00:00, 227.07it/s]"
     ]
    },
    {
     "name": "stdout",
     "output_type": "stream",
     "text": [
      "Epoch 50, train loss: 1855.3128, val loss: 2026.6937\n"
     ]
    },
    {
     "name": "stderr",
     "output_type": "stream",
     "text": [
      "\n",
      "100%|██████████| 125/125 [00:00<00:00, 135.42it/s]\n",
      "100%|██████████| 32/32 [00:00<00:00, 222.97it/s]"
     ]
    },
    {
     "name": "stdout",
     "output_type": "stream",
     "text": [
      "Epoch 51, train loss: 1851.7518, val loss: 2045.7554\n"
     ]
    },
    {
     "name": "stderr",
     "output_type": "stream",
     "text": [
      "\n",
      "100%|██████████| 125/125 [00:00<00:00, 129.84it/s]\n",
      "100%|██████████| 32/32 [00:00<00:00, 230.19it/s]"
     ]
    },
    {
     "name": "stdout",
     "output_type": "stream",
     "text": [
      "Epoch 52, train loss: 1856.0738, val loss: 2106.1094\n"
     ]
    },
    {
     "name": "stderr",
     "output_type": "stream",
     "text": [
      "\n",
      "100%|██████████| 125/125 [00:01<00:00, 123.05it/s]\n",
      "100%|██████████| 32/32 [00:00<00:00, 185.82it/s]"
     ]
    },
    {
     "name": "stdout",
     "output_type": "stream",
     "text": [
      "Epoch 53, train loss: 1869.7067, val loss: 2107.9540\n"
     ]
    },
    {
     "name": "stderr",
     "output_type": "stream",
     "text": [
      "\n",
      "100%|██████████| 125/125 [00:01<00:00, 110.03it/s]\n",
      "100%|██████████| 32/32 [00:00<00:00, 204.75it/s]"
     ]
    },
    {
     "name": "stdout",
     "output_type": "stream",
     "text": [
      "Epoch 54, train loss: 1859.1114, val loss: 2153.1924\n"
     ]
    },
    {
     "name": "stderr",
     "output_type": "stream",
     "text": [
      "\n",
      "100%|██████████| 125/125 [00:01<00:00, 109.95it/s]\n",
      "100%|██████████| 32/32 [00:00<00:00, 212.05it/s]"
     ]
    },
    {
     "name": "stdout",
     "output_type": "stream",
     "text": [
      "Epoch 55, train loss: 1845.9629, val loss: 2124.6461\n"
     ]
    },
    {
     "name": "stderr",
     "output_type": "stream",
     "text": [
      "\n",
      "100%|██████████| 125/125 [00:01<00:00, 119.05it/s]\n",
      "100%|██████████| 32/32 [00:00<00:00, 219.34it/s]"
     ]
    },
    {
     "name": "stdout",
     "output_type": "stream",
     "text": [
      "Epoch 56, train loss: 1842.3852, val loss: 2025.0406\n"
     ]
    },
    {
     "name": "stderr",
     "output_type": "stream",
     "text": [
      "\n",
      "100%|██████████| 125/125 [00:00<00:00, 134.53it/s]\n",
      "100%|██████████| 32/32 [00:00<00:00, 265.24it/s]"
     ]
    },
    {
     "name": "stdout",
     "output_type": "stream",
     "text": [
      "Epoch 57, train loss: 1857.1120, val loss: 2265.3524\n"
     ]
    },
    {
     "name": "stderr",
     "output_type": "stream",
     "text": [
      "\n",
      "100%|██████████| 125/125 [00:00<00:00, 134.99it/s]\n",
      "100%|██████████| 32/32 [00:00<00:00, 221.08it/s]"
     ]
    },
    {
     "name": "stdout",
     "output_type": "stream",
     "text": [
      "Epoch 58, train loss: 1863.0773, val loss: 2030.7766\n"
     ]
    },
    {
     "name": "stderr",
     "output_type": "stream",
     "text": [
      "\n",
      "100%|██████████| 125/125 [00:00<00:00, 125.74it/s]\n",
      "100%|██████████| 32/32 [00:00<00:00, 215.10it/s]"
     ]
    },
    {
     "name": "stdout",
     "output_type": "stream",
     "text": [
      "Epoch 59, train loss: 1837.4322, val loss: 2050.5494\n"
     ]
    },
    {
     "name": "stderr",
     "output_type": "stream",
     "text": [
      "\n",
      "100%|██████████| 125/125 [00:00<00:00, 136.51it/s]\n",
      "100%|██████████| 32/32 [00:00<00:00, 219.61it/s]"
     ]
    },
    {
     "name": "stdout",
     "output_type": "stream",
     "text": [
      "Epoch 60, train loss: 1831.2943, val loss: 2032.2026\n"
     ]
    },
    {
     "name": "stderr",
     "output_type": "stream",
     "text": [
      "\n",
      "100%|██████████| 125/125 [00:00<00:00, 135.41it/s]\n",
      "100%|██████████| 32/32 [00:00<00:00, 225.29it/s]"
     ]
    },
    {
     "name": "stdout",
     "output_type": "stream",
     "text": [
      "Epoch 61, train loss: 1837.1090, val loss: 2036.7474\n"
     ]
    },
    {
     "name": "stderr",
     "output_type": "stream",
     "text": [
      "\n",
      "100%|██████████| 125/125 [00:00<00:00, 135.08it/s]\n",
      "100%|██████████| 32/32 [00:00<00:00, 205.70it/s]"
     ]
    },
    {
     "name": "stdout",
     "output_type": "stream",
     "text": [
      "Epoch 62, train loss: 1840.6126, val loss: 2031.1223\n"
     ]
    },
    {
     "name": "stderr",
     "output_type": "stream",
     "text": [
      "\n",
      "100%|██████████| 125/125 [00:00<00:00, 133.73it/s]\n",
      "100%|██████████| 32/32 [00:00<00:00, 204.25it/s]"
     ]
    },
    {
     "name": "stdout",
     "output_type": "stream",
     "text": [
      "Epoch 63, train loss: 1830.9710, val loss: 2015.5377\n"
     ]
    },
    {
     "name": "stderr",
     "output_type": "stream",
     "text": [
      "\n",
      "100%|██████████| 125/125 [00:00<00:00, 133.84it/s]\n",
      "100%|██████████| 32/32 [00:00<00:00, 276.01it/s]"
     ]
    },
    {
     "name": "stdout",
     "output_type": "stream",
     "text": [
      "Epoch 64, train loss: 1830.9527, val loss: 2024.6470\n"
     ]
    },
    {
     "name": "stderr",
     "output_type": "stream",
     "text": [
      "\n",
      "100%|██████████| 125/125 [00:01<00:00, 117.29it/s]\n",
      "100%|██████████| 32/32 [00:00<00:00, 240.59it/s]"
     ]
    },
    {
     "name": "stdout",
     "output_type": "stream",
     "text": [
      "Epoch 65, train loss: 1822.6313, val loss: 2027.6837\n"
     ]
    },
    {
     "name": "stderr",
     "output_type": "stream",
     "text": [
      "\n",
      "100%|██████████| 125/125 [00:00<00:00, 138.06it/s]\n",
      "100%|██████████| 32/32 [00:00<00:00, 236.30it/s]"
     ]
    },
    {
     "name": "stdout",
     "output_type": "stream",
     "text": [
      "Epoch 66, train loss: 1823.9525, val loss: 2007.9844\n"
     ]
    },
    {
     "name": "stderr",
     "output_type": "stream",
     "text": [
      "\n",
      "100%|██████████| 125/125 [00:00<00:00, 139.74it/s]\n",
      "100%|██████████| 32/32 [00:00<00:00, 237.52it/s]"
     ]
    },
    {
     "name": "stdout",
     "output_type": "stream",
     "text": [
      "Epoch 67, train loss: 1821.3729, val loss: 2001.8943\n"
     ]
    },
    {
     "name": "stderr",
     "output_type": "stream",
     "text": [
      "\n",
      "100%|██████████| 125/125 [00:00<00:00, 137.09it/s]\n",
      "100%|██████████| 32/32 [00:00<00:00, 255.06it/s]"
     ]
    },
    {
     "name": "stdout",
     "output_type": "stream",
     "text": [
      "Epoch 68, train loss: 1813.4331, val loss: 2010.6836\n"
     ]
    },
    {
     "name": "stderr",
     "output_type": "stream",
     "text": [
      "\n",
      "100%|██████████| 125/125 [00:00<00:00, 140.10it/s]\n",
      "100%|██████████| 32/32 [00:00<00:00, 266.21it/s]"
     ]
    },
    {
     "name": "stdout",
     "output_type": "stream",
     "text": [
      "Epoch 69, train loss: 1818.8203, val loss: 2010.5220\n"
     ]
    },
    {
     "name": "stderr",
     "output_type": "stream",
     "text": [
      "\n",
      "100%|██████████| 125/125 [00:00<00:00, 137.25it/s]\n",
      "100%|██████████| 32/32 [00:00<00:00, 255.03it/s]"
     ]
    },
    {
     "name": "stdout",
     "output_type": "stream",
     "text": [
      "Epoch 70, train loss: 1822.0300, val loss: 2012.7067\n"
     ]
    },
    {
     "name": "stderr",
     "output_type": "stream",
     "text": [
      "\n",
      "100%|██████████| 125/125 [00:00<00:00, 139.64it/s]\n",
      "100%|██████████| 32/32 [00:00<00:00, 232.87it/s]"
     ]
    },
    {
     "name": "stdout",
     "output_type": "stream",
     "text": [
      "Epoch 71, train loss: 1820.2418, val loss: 2014.7703\n"
     ]
    },
    {
     "name": "stderr",
     "output_type": "stream",
     "text": [
      "\n",
      "100%|██████████| 125/125 [00:00<00:00, 131.55it/s]\n",
      "100%|██████████| 32/32 [00:00<00:00, 205.41it/s]"
     ]
    },
    {
     "name": "stdout",
     "output_type": "stream",
     "text": [
      "Epoch 72, train loss: 1813.6434, val loss: 2008.8253\n"
     ]
    },
    {
     "name": "stderr",
     "output_type": "stream",
     "text": [
      "\n",
      "100%|██████████| 125/125 [00:00<00:00, 128.30it/s]\n",
      "100%|██████████| 32/32 [00:00<00:00, 220.16it/s]"
     ]
    },
    {
     "name": "stdout",
     "output_type": "stream",
     "text": [
      "Epoch 73, train loss: 1811.3597, val loss: 2055.5529\n"
     ]
    },
    {
     "name": "stderr",
     "output_type": "stream",
     "text": [
      "\n",
      "100%|██████████| 125/125 [00:00<00:00, 135.31it/s]\n",
      "100%|██████████| 32/32 [00:00<00:00, 218.46it/s]"
     ]
    },
    {
     "name": "stdout",
     "output_type": "stream",
     "text": [
      "Epoch 74, train loss: 1822.5576, val loss: 2039.8363\n"
     ]
    },
    {
     "name": "stderr",
     "output_type": "stream",
     "text": [
      "\n",
      "100%|██████████| 125/125 [00:00<00:00, 133.77it/s]\n",
      "100%|██████████| 32/32 [00:00<00:00, 226.24it/s]"
     ]
    },
    {
     "name": "stdout",
     "output_type": "stream",
     "text": [
      "Epoch 75, train loss: 1816.1749, val loss: 2018.4687\n"
     ]
    },
    {
     "name": "stderr",
     "output_type": "stream",
     "text": [
      "\n",
      "100%|██████████| 125/125 [00:00<00:00, 133.87it/s]\n",
      "100%|██████████| 32/32 [00:00<00:00, 203.29it/s]"
     ]
    },
    {
     "name": "stdout",
     "output_type": "stream",
     "text": [
      "Epoch 76, train loss: 1819.4664, val loss: 2037.0462\n"
     ]
    },
    {
     "name": "stderr",
     "output_type": "stream",
     "text": [
      "\n",
      "100%|██████████| 125/125 [00:01<00:00, 119.52it/s]\n",
      "100%|██████████| 32/32 [00:00<00:00, 224.78it/s]"
     ]
    },
    {
     "name": "stdout",
     "output_type": "stream",
     "text": [
      "Epoch 77, train loss: 1818.8852, val loss: 2019.1149\n"
     ]
    },
    {
     "name": "stderr",
     "output_type": "stream",
     "text": [
      "\n",
      "100%|██████████| 125/125 [00:01<00:00, 122.96it/s]\n",
      "100%|██████████| 32/32 [00:00<00:00, 226.87it/s]"
     ]
    },
    {
     "name": "stdout",
     "output_type": "stream",
     "text": [
      "Epoch 78, train loss: 1817.8105, val loss: 2028.5191\n"
     ]
    },
    {
     "name": "stderr",
     "output_type": "stream",
     "text": [
      "\n",
      "100%|██████████| 125/125 [00:00<00:00, 135.73it/s]\n",
      "100%|██████████| 32/32 [00:00<00:00, 234.49it/s]"
     ]
    },
    {
     "name": "stdout",
     "output_type": "stream",
     "text": [
      "Epoch 79, train loss: 1816.1479, val loss: 2054.2438\n"
     ]
    },
    {
     "name": "stderr",
     "output_type": "stream",
     "text": [
      "\n",
      "100%|██████████| 125/125 [00:01<00:00, 121.52it/s]\n",
      "100%|██████████| 32/32 [00:00<00:00, 208.35it/s]"
     ]
    },
    {
     "name": "stdout",
     "output_type": "stream",
     "text": [
      "Epoch 80, train loss: 1814.8586, val loss: 2041.3569\n"
     ]
    },
    {
     "name": "stderr",
     "output_type": "stream",
     "text": [
      "\n",
      "100%|██████████| 125/125 [00:00<00:00, 129.97it/s]\n",
      "100%|██████████| 32/32 [00:00<00:00, 214.36it/s]"
     ]
    },
    {
     "name": "stdout",
     "output_type": "stream",
     "text": [
      "Epoch 81, train loss: 1808.0523, val loss: 2033.7813\n"
     ]
    },
    {
     "name": "stderr",
     "output_type": "stream",
     "text": [
      "\n",
      "100%|██████████| 125/125 [00:00<00:00, 135.40it/s]\n",
      "100%|██████████| 32/32 [00:00<00:00, 263.76it/s]"
     ]
    },
    {
     "name": "stdout",
     "output_type": "stream",
     "text": [
      "Epoch 82, train loss: 1809.7503, val loss: 2033.4271\n"
     ]
    },
    {
     "name": "stderr",
     "output_type": "stream",
     "text": [
      "\n",
      "100%|██████████| 125/125 [00:01<00:00, 124.55it/s]\n",
      "100%|██████████| 32/32 [00:00<00:00, 218.73it/s]"
     ]
    },
    {
     "name": "stdout",
     "output_type": "stream",
     "text": [
      "Epoch 83, train loss: 1809.4450, val loss: 2037.6114\n"
     ]
    },
    {
     "name": "stderr",
     "output_type": "stream",
     "text": [
      "\n",
      "100%|██████████| 125/125 [00:00<00:00, 135.05it/s]\n",
      "100%|██████████| 32/32 [00:00<00:00, 212.73it/s]"
     ]
    },
    {
     "name": "stdout",
     "output_type": "stream",
     "text": [
      "Epoch 84, train loss: 1806.3903, val loss: 2033.4519\n"
     ]
    },
    {
     "name": "stderr",
     "output_type": "stream",
     "text": [
      "\n",
      "100%|██████████| 125/125 [00:00<00:00, 126.87it/s]\n",
      "100%|██████████| 32/32 [00:00<00:00, 267.74it/s]"
     ]
    },
    {
     "name": "stdout",
     "output_type": "stream",
     "text": [
      "Epoch 85, train loss: 1806.0754, val loss: 2037.0359\n"
     ]
    },
    {
     "name": "stderr",
     "output_type": "stream",
     "text": [
      "\n",
      "100%|██████████| 125/125 [00:00<00:00, 125.82it/s]\n",
      "100%|██████████| 32/32 [00:00<00:00, 268.31it/s]"
     ]
    },
    {
     "name": "stdout",
     "output_type": "stream",
     "text": [
      "Epoch 86, train loss: 1807.0196, val loss: 2035.4642\n"
     ]
    },
    {
     "name": "stderr",
     "output_type": "stream",
     "text": [
      "\n",
      "100%|██████████| 125/125 [00:00<00:00, 135.95it/s]\n",
      "100%|██████████| 32/32 [00:00<00:00, 243.21it/s]"
     ]
    },
    {
     "name": "stdout",
     "output_type": "stream",
     "text": [
      "Epoch 87, train loss: 1805.8098, val loss: 2037.2542\n"
     ]
    },
    {
     "name": "stderr",
     "output_type": "stream",
     "text": [
      "\n",
      "100%|██████████| 125/125 [00:00<00:00, 131.38it/s]\n",
      "100%|██████████| 32/32 [00:00<00:00, 220.40it/s]"
     ]
    },
    {
     "name": "stdout",
     "output_type": "stream",
     "text": [
      "Epoch 88, train loss: 1804.3657, val loss: 2045.5901\n"
     ]
    },
    {
     "name": "stderr",
     "output_type": "stream",
     "text": [
      "\n",
      "100%|██████████| 125/125 [00:00<00:00, 133.84it/s]\n",
      "100%|██████████| 32/32 [00:00<00:00, 219.99it/s]"
     ]
    },
    {
     "name": "stdout",
     "output_type": "stream",
     "text": [
      "Epoch 89, train loss: 1805.2261, val loss: 2041.8127\n"
     ]
    },
    {
     "name": "stderr",
     "output_type": "stream",
     "text": [
      "\n",
      "100%|██████████| 125/125 [00:00<00:00, 133.56it/s]\n",
      "100%|██████████| 32/32 [00:00<00:00, 227.66it/s]"
     ]
    },
    {
     "name": "stdout",
     "output_type": "stream",
     "text": [
      "Epoch 90, train loss: 1803.9557, val loss: 2035.1406\n"
     ]
    },
    {
     "name": "stderr",
     "output_type": "stream",
     "text": [
      "\n",
      "100%|██████████| 125/125 [00:00<00:00, 133.80it/s]\n",
      "100%|██████████| 32/32 [00:00<00:00, 225.11it/s]"
     ]
    },
    {
     "name": "stdout",
     "output_type": "stream",
     "text": [
      "Epoch 91, train loss: 1803.0441, val loss: 2042.5102\n"
     ]
    },
    {
     "name": "stderr",
     "output_type": "stream",
     "text": [
      "\n",
      "100%|██████████| 125/125 [00:00<00:00, 141.72it/s]\n",
      "100%|██████████| 32/32 [00:00<00:00, 255.06it/s]"
     ]
    },
    {
     "name": "stdout",
     "output_type": "stream",
     "text": [
      "Epoch 92, train loss: 1801.3598, val loss: 2042.2089\n"
     ]
    },
    {
     "name": "stderr",
     "output_type": "stream",
     "text": [
      "\n",
      "100%|██████████| 125/125 [00:00<00:00, 137.67it/s]\n",
      "100%|██████████| 32/32 [00:00<00:00, 230.05it/s]"
     ]
    },
    {
     "name": "stdout",
     "output_type": "stream",
     "text": [
      "Epoch 93, train loss: 1801.8940, val loss: 2037.8663\n"
     ]
    },
    {
     "name": "stderr",
     "output_type": "stream",
     "text": [
      "\n",
      "100%|██████████| 125/125 [00:00<00:00, 134.25it/s]\n",
      "100%|██████████| 32/32 [00:00<00:00, 219.03it/s]"
     ]
    },
    {
     "name": "stdout",
     "output_type": "stream",
     "text": [
      "Epoch 94, train loss: 1800.9869, val loss: 2035.3597\n"
     ]
    },
    {
     "name": "stderr",
     "output_type": "stream",
     "text": [
      "\n",
      "100%|██████████| 125/125 [00:00<00:00, 134.87it/s]\n",
      "100%|██████████| 32/32 [00:00<00:00, 220.41it/s]"
     ]
    },
    {
     "name": "stdout",
     "output_type": "stream",
     "text": [
      "Epoch 95, train loss: 1801.3267, val loss: 2036.2962\n"
     ]
    },
    {
     "name": "stderr",
     "output_type": "stream",
     "text": [
      "\n",
      "100%|██████████| 125/125 [00:00<00:00, 135.90it/s]\n",
      "100%|██████████| 32/32 [00:00<00:00, 258.90it/s]"
     ]
    },
    {
     "name": "stdout",
     "output_type": "stream",
     "text": [
      "Epoch 96, train loss: 1800.2022, val loss: 2039.3298\n"
     ]
    },
    {
     "name": "stderr",
     "output_type": "stream",
     "text": [
      "\n",
      "100%|██████████| 125/125 [00:00<00:00, 139.26it/s]\n",
      "100%|██████████| 32/32 [00:00<00:00, 253.37it/s]"
     ]
    },
    {
     "name": "stdout",
     "output_type": "stream",
     "text": [
      "Epoch 97, train loss: 1799.8724, val loss: 2037.8758\n"
     ]
    },
    {
     "name": "stderr",
     "output_type": "stream",
     "text": [
      "\n",
      "100%|██████████| 125/125 [00:00<00:00, 134.92it/s]\n",
      "100%|██████████| 32/32 [00:00<00:00, 225.04it/s]"
     ]
    },
    {
     "name": "stdout",
     "output_type": "stream",
     "text": [
      "Epoch 98, train loss: 1799.3887, val loss: 2038.3563\n"
     ]
    },
    {
     "name": "stderr",
     "output_type": "stream",
     "text": [
      "\n",
      "100%|██████████| 125/125 [00:00<00:00, 127.89it/s]\n",
      "100%|██████████| 32/32 [00:00<00:00, 254.74it/s]"
     ]
    },
    {
     "name": "stdout",
     "output_type": "stream",
     "text": [
      "Epoch 99, train loss: 1799.1011, val loss: 2037.8190\n"
     ]
    },
    {
     "name": "stderr",
     "output_type": "stream",
     "text": [
      "\n",
      "100%|██████████| 125/125 [00:00<00:00, 128.72it/s]\n",
      "100%|██████████| 32/32 [00:00<00:00, 217.62it/s]"
     ]
    },
    {
     "name": "stdout",
     "output_type": "stream",
     "text": [
      "Epoch 100, train loss: 1799.1227, val loss: 2037.7793\n"
     ]
    },
    {
     "name": "stderr",
     "output_type": "stream",
     "text": [
      "\n"
     ]
    }
   ],
   "source": [
    "train_loss_dict = {}\n",
    "test_loss_dict = {}\n",
    "train_cycle(\"SGD\", optimizers_list[\"SGD\"], train_loss_dict, test_loss_dict, final=False)"
   ]
  },
  {
   "cell_type": "code",
   "execution_count": 76,
   "metadata": {},
   "outputs": [
    {
     "data": {
      "image/png": "[encoded data removed]",
      "text/plain": [
       "<Figure size 2200x800 with 2 Axes>"
      ]
     },
     "metadata": {},
     "output_type": "display_data"
    }
   ],
   "source": [
    "import matplotlib.pyplot as plt\n",
    "\n",
    "\n",
    "def plot_dictionaries(dict1, dict2, initial_train, initial_val, save_path=None):\n",
    "    fig, axes = plt.subplots(1, 2, figsize=(22, 8))  # Create a figure with two subplots\n",
    "\n",
    "    # Plot for dictionary 1\n",
    "    for key, values in dict1.items():\n",
    "        axes[0].plot(\n",
    "            range(5, len(values) + 1), values[4:], label=key, marker=\"*\"\n",
    "        )  # Start from second element\n",
    "        # axes[0].legend()\n",
    "        axes[0].set_xlabel(\"Epochs\")\n",
    "        axes[0].set_ylabel(\"MSE Loss\")\n",
    "        axes[0].set_title(f\"Train losses, initial: {initial_train.round(2)}\")\n",
    "        axes[0].grid(True)\n",
    "    # Plot for dictionary 2\n",
    "    for key, values in dict2.items():\n",
    "        axes[1].plot(range(5, len(values) + 1), values[4:], label=key, marker=\"*\")\n",
    "        # axes[1].legend()\n",
    "        axes[1].set_xlabel(\"Epochs\")\n",
    "        axes[1].set_ylabel(\"MSE Loss\")\n",
    "        axes[1].set_title(f\"Validation losses, initial: {initial_val.round(2)}\")\n",
    "        axes[1].grid(True)\n",
    "    plt.tight_layout()\n",
    "    if save_path:\n",
    "        plt.savefig(save_path)\n",
    "    plt.show()\n",
    "\n",
    "\n",
    "plot_dictionaries(\n",
    "    train_loss_dict,\n",
    "    test_loss_dict,\n",
    "    initial_mse_train,\n",
    "    initial_mse_val,\n",
    "    f\"{experiment_dir}/{EXPERIMENT_NAME}_final.png\",\n",
    ")"
   ]
  },
  {
   "cell_type": "code",
   "execution_count": 74,
   "metadata": {},
   "outputs": [],
   "source": [
    "import json\n",
    "\n",
    "file_path = f\"{experiment_dir}/{EXPERIMENT_NAME}_train.json\"\n",
    "with open(file_path, \"w\") as json_file:\n",
    "    json.dump(train_loss_dict, json_file)\n",
    "\n",
    "file_path = f\"{experiment_dir}/{EXPERIMENT_NAME}_test.json\"\n",
    "with open(file_path, \"w\") as json_file:\n",
    "    json.dump(test_loss_dict, json_file)"
   ]
  },
  {
   "cell_type": "code",
   "execution_count": 75,
   "metadata": {},
   "outputs": [],
   "source": [
    "logging.info(\n",
    "    f\"% of variation before training: {(initial_mse_train/(df_train.TargetPrice - df_train.BSAprox).var() * 100).round(2)}\"\n",
    ")\n",
    "logging.info(\n",
    "    f\"% of variation after training: {(train_loss_dict['SGD'][67]/ (df_train.TargetPrice - df_train.BSAprox).var() * 100).round(2)}\"\n",
    ")\n",
    "logging.info(\n",
    "    f\"% of variation before training: {(initial_mse_val/(df_test.TargetPrice - df_test.BSAprox).var() * 100).round(2)}\"\n",
    ")\n",
    "logging.info(\n",
    "    f\"% of variation after training: {(test_loss_dict['SGD'][67] / (df_test.TargetPrice - df_test.BSAprox).var() * 100).round(2)}\"\n",
    ")"
   ]
  },
  {
   "cell_type": "code",
   "execution_count": null,
   "metadata": {},
   "outputs": [],
   "source": []
  }
 ],
 "metadata": {
  "kernelspec": {
   "display_name": "main",
   "language": "python",
   "name": "python3"
  },
  "language_info": {
   "codemirror_mode": {
    "name": "ipython",
    "version": 3
   },
   "file_extension": ".py",
   "mimetype": "text/x-python",
   "name": "python",
   "nbconvert_exporter": "python",
   "pygments_lexer": "ipython3",
   "version": "3.11.5"
  }
 },
 "nbformat": 4,
 "nbformat_minor": 2
}
