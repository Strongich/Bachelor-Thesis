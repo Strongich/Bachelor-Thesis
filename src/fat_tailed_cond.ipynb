{
 "cells": [
  {
   "cell_type": "code",
   "execution_count": 2,
   "metadata": {},
   "outputs": [],
   "source": [
    "import numpy as np\n",
    "import pandas as pd"
   ]
  },
  {
   "cell_type": "code",
   "execution_count": 5,
   "metadata": {},
   "outputs": [],
   "source": [
    "df_call = pd.read_csv(\"../train_data/call_df.csv\", index_col=0)\n",
    "df_put = pd.read_csv(\"../train_data/put_df.csv\", index_col=0)\n"
   ]
  },
  {
   "cell_type": "code",
   "execution_count": 6,
   "metadata": {},
   "outputs": [
    {
     "name": "stdout",
     "output_type": "stream",
     "text": [
      "(301850, 7)\n"
     ]
    },
    {
     "data": {
      "text/html": [
       "<div>\n",
       "<style scoped>\n",
       "    .dataframe tbody tr th:only-of-type {\n",
       "        vertical-align: middle;\n",
       "    }\n",
       "\n",
       "    .dataframe tbody tr th {\n",
       "        vertical-align: top;\n",
       "    }\n",
       "\n",
       "    .dataframe thead th {\n",
       "        text-align: right;\n",
       "    }\n",
       "</style>\n",
       "<table border=\"1\" class=\"dataframe\">\n",
       "  <thead>\n",
       "    <tr style=\"text-align: right;\">\n",
       "      <th></th>\n",
       "      <th>UnderlyingSymbol</th>\n",
       "      <th>UnderlyingPrice</th>\n",
       "      <th>Type</th>\n",
       "      <th>Strike</th>\n",
       "      <th>IV</th>\n",
       "      <th>T_years</th>\n",
       "      <th>TargetPrice</th>\n",
       "    </tr>\n",
       "  </thead>\n",
       "  <tbody>\n",
       "    <tr>\n",
       "      <th>0</th>\n",
       "      <td>A</td>\n",
       "      <td>71.11</td>\n",
       "      <td>call</td>\n",
       "      <td>55.0</td>\n",
       "      <td>0.2693</td>\n",
       "      <td>0.1</td>\n",
       "      <td>16.08</td>\n",
       "    </tr>\n",
       "    <tr>\n",
       "      <th>2</th>\n",
       "      <td>A</td>\n",
       "      <td>71.11</td>\n",
       "      <td>call</td>\n",
       "      <td>60.0</td>\n",
       "      <td>0.2693</td>\n",
       "      <td>0.1</td>\n",
       "      <td>11.38</td>\n",
       "    </tr>\n",
       "    <tr>\n",
       "      <th>4</th>\n",
       "      <td>A</td>\n",
       "      <td>71.11</td>\n",
       "      <td>call</td>\n",
       "      <td>62.5</td>\n",
       "      <td>0.2693</td>\n",
       "      <td>0.1</td>\n",
       "      <td>8.50</td>\n",
       "    </tr>\n",
       "    <tr>\n",
       "      <th>6</th>\n",
       "      <td>A</td>\n",
       "      <td>71.11</td>\n",
       "      <td>call</td>\n",
       "      <td>65.0</td>\n",
       "      <td>0.2693</td>\n",
       "      <td>0.1</td>\n",
       "      <td>6.98</td>\n",
       "    </tr>\n",
       "    <tr>\n",
       "      <th>8</th>\n",
       "      <td>A</td>\n",
       "      <td>71.11</td>\n",
       "      <td>call</td>\n",
       "      <td>67.5</td>\n",
       "      <td>0.2430</td>\n",
       "      <td>0.1</td>\n",
       "      <td>4.10</td>\n",
       "    </tr>\n",
       "  </tbody>\n",
       "</table>\n",
       "</div>"
      ],
      "text/plain": [
       "  UnderlyingSymbol  UnderlyingPrice  Type  Strike      IV  T_years  \\\n",
       "0                A            71.11  call    55.0  0.2693      0.1   \n",
       "2                A            71.11  call    60.0  0.2693      0.1   \n",
       "4                A            71.11  call    62.5  0.2693      0.1   \n",
       "6                A            71.11  call    65.0  0.2693      0.1   \n",
       "8                A            71.11  call    67.5  0.2430      0.1   \n",
       "\n",
       "   TargetPrice  \n",
       "0        16.08  \n",
       "2        11.38  \n",
       "4         8.50  \n",
       "6         6.98  \n",
       "8         4.10  "
      ]
     },
     "execution_count": 6,
     "metadata": {},
     "output_type": "execute_result"
    }
   ],
   "source": [
    "print(df_call.shape)\n",
    "df_call.head()"
   ]
  },
  {
   "cell_type": "code",
   "execution_count": 7,
   "metadata": {},
   "outputs": [
    {
     "data": {
      "text/plain": [
       "UnderlyingSymbol\n",
       "SPXW    4941\n",
       "RUT     4059\n",
       "SPY     3307\n",
       "NDX     3134\n",
       "AMZN    2938\n",
       "        ... \n",
       "SHYG      20\n",
       "PRK       20\n",
       "SILK      16\n",
       "MNX       13\n",
       "TPTX      12\n",
       "Name: count, Length: 1585, dtype: int64"
      ]
     },
     "execution_count": 7,
     "metadata": {},
     "output_type": "execute_result"
    }
   ],
   "source": [
    "df_call.UnderlyingSymbol.value_counts()"
   ]
  },
  {
   "cell_type": "code",
   "execution_count": 10,
   "metadata": {},
   "outputs": [],
   "source": [
    "apple_stock= df_call[df_call.UnderlyingSymbol==\"AAPL\"][\"UnderlyingPrice\"]"
   ]
  },
  {
   "cell_type": "code",
   "execution_count": 14,
   "metadata": {},
   "outputs": [
    {
     "data": {
      "text/plain": [
       "UnderlyingPrice\n",
       "208.49    746\n",
       "Name: count, dtype: int64"
      ]
     },
     "execution_count": 14,
     "metadata": {},
     "output_type": "execute_result"
    }
   ],
   "source": [
    "apple_stock.value_counts()"
   ]
  },
  {
   "cell_type": "code",
   "execution_count": 23,
   "metadata": {},
   "outputs": [
    {
     "data": {
      "text/plain": [
       "208.49"
      ]
     },
     "execution_count": 23,
     "metadata": {},
     "output_type": "execute_result"
    }
   ],
   "source": [
    "apple_stock.iloc[0]"
   ]
  },
  {
   "cell_type": "code",
   "execution_count": 25,
   "metadata": {},
   "outputs": [
    {
     "name": "stdout",
     "output_type": "stream",
     "text": [
      "Calculating best minimal value for power law fit\n"
     ]
    },
    {
     "name": "stderr",
     "output_type": "stream",
     "text": [
      "Less than 2 unique data values left after xmin and xmax options! Cannot fit. Returning nans.\n"
     ]
    }
   ],
   "source": [
    "from scipy.stats import kurtosis\n",
    "import powerlaw\n",
    "res = powerlaw.Fit(apple_stock)"
   ]
  }
 ],
 "metadata": {
  "kernelspec": {
   "display_name": "main",
   "language": "python",
   "name": "python3"
  },
  "language_info": {
   "codemirror_mode": {
    "name": "ipython",
    "version": 3
   },
   "file_extension": ".py",
   "mimetype": "text/x-python",
   "name": "python",
   "nbconvert_exporter": "python",
   "pygments_lexer": "ipython3",
   "version": "3.11.5"
  }
 },
 "nbformat": 4,
 "nbformat_minor": 2
}
